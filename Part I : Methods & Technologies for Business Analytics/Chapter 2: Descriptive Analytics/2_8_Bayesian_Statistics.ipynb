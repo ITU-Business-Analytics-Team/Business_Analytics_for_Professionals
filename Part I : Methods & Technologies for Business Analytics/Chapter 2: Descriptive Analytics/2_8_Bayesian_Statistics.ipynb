{
  "nbformat": 4,
  "nbformat_minor": 0,
  "metadata": {
    "kernelspec": {
      "display_name": "Python 3",
      "language": "python",
      "name": "python3"
    },
    "language_info": {
      "codemirror_mode": {
        "name": "ipython",
        "version": 3
      },
      "file_extension": ".py",
      "mimetype": "text/x-python",
      "name": "python",
      "nbconvert_exporter": "python",
      "pygments_lexer": "ipython3",
      "version": "3.8.3"
    },
    "colab": {
      "name": "2.8. Bayesian Statistics.ipynb",
      "provenance": [],
      "collapsed_sections": [],
      "include_colab_link": true
    }
  },
  "cells": [
    {
      "cell_type": "markdown",
      "metadata": {
        "id": "view-in-github",
        "colab_type": "text"
      },
      "source": [
        "<a href=\"https://colab.research.google.com/github/ITU-Business-Analytics-Team/Business_Analytics_for_Professionals/blob/main/Part%20I%20%3A%20Methods%20%26%20Technologies%20for%20Business%20Analytics/Chapter%202%3A%20Descriptive%20Analytics/2_8_Bayesian_Statistics.ipynb\" target=\"_parent\"><img src=\"https://colab.research.google.com/assets/colab-badge.svg\" alt=\"Open In Colab\"/></a>"
      ]
    },
    {
      "cell_type": "markdown",
      "metadata": {
        "id": "AEqRtPVCuT7r"
      },
      "source": [
        "# **Descriptive Analytics**\n",
        "## Bayesian Statistics"
      ]
    },
    {
      "cell_type": "markdown",
      "metadata": {
        "id": "vyfFjWa9MMj5"
      },
      "source": [
        "Bayesian statistical analysis integrates a prior probability distribution and\n",
        "likelihoods of observed data to calculate a posterior probability distribution of occurrences based on Bayes’ theorem."
      ]
    },
    {
      "cell_type": "code",
      "metadata": {
        "id": "Eupr5U9rTrpD"
      },
      "source": [
        "import numpy as np\n",
        "from scipy import stats\n",
        "from matplotlib import pyplot as plt"
      ],
      "execution_count": 1,
      "outputs": []
    },
    {
      "cell_type": "markdown",
      "metadata": {
        "id": "F9gOdBv4L09J"
      },
      "source": [
        "Beta distributions for various α and β:"
      ]
    },
    {
      "cell_type": "code",
      "metadata": {
        "id": "wlHGsSjFTrpI",
        "colab": {
          "base_uri": "https://localhost:8080/",
          "height": 299
        },
        "outputId": "281c860a-37ba-463f-91f8-0e52dad0424d"
      },
      "source": [
        "params = [0.5, 1, 10]\n",
        "x = np.linspace(0, 1, 100)\n",
        "f, ax = plt.subplots(len(params), len(params), sharex=True,\n",
        " sharey=True)\n",
        "for i in range(3):\n",
        " for j in range(3):\n",
        "     a = params[i]\n",
        "     b = params[j]\n",
        "     y = stats.beta(a, b).pdf(x)\n",
        "     ax[i,j].plot(x, y)\n",
        "     ax[i,j].plot(0, 0, label=\"$\\\\alpha$ = {:2.2f}\\n$\\\\beta$ = {:2.2f}\".format(a, b), alpha=0)\n",
        "     ax[i,j].legend(fontsize=7)\n",
        "ax[2,0].set_xlabel('$\\\\theta$', fontsize=10)\n",
        "ax[0,0].set_ylabel('$p(\\\\theta)$', fontsize=10)"
      ],
      "execution_count": 2,
      "outputs": [
        {
          "output_type": "execute_result",
          "data": {
            "text/plain": [
              "Text(0, 0.5, '$p(\\\\theta)$')"
            ]
          },
          "metadata": {},
          "execution_count": 2
        },
        {
          "output_type": "display_data",
          "data": {
            "text/plain": [
              "<Figure size 432x288 with 9 Axes>"
            ],
            "image/png": "[encoded data removed]"
          },
          "metadata": {
            "needs_background": "light"
          }
        }
      ]
    },
    {
      "cell_type": "markdown",
      "metadata": {
        "id": "zyLIiTSwLxrS"
      },
      "source": [
        "Probability distributions of getting x number of heads for n-number of coin tosses:"
      ]
    },
    {
      "cell_type": "code",
      "metadata": {
        "id": "nUY5meyLTrpJ",
        "colab": {
          "base_uri": "https://localhost:8080/",
          "height": 269
        },
        "outputId": "34b3bd35-ac4a-4767-fecb-832d03472cd3"
      },
      "source": [
        "n_params= [3, 7, 10]\n",
        "p_params= [0.25, 0.5, 0.75]\n",
        "x = np.arange(0, max(n_params)+1)\n",
        "f, ax = plt.subplots(len(n_params), len(p_params), sharex=True,\n",
        " sharey=True)\n",
        "for i in range(3):\n",
        " for j in range(3):\n",
        "     n = n_params[i]\n",
        "     p = p_params[j]\n",
        "     y = stats.binom(n=n, p=p).pmf(x)\n",
        "     ax[i,j].vlines(x, 0, y, colors='b', lw=5)\n",
        "     ax[i,j].set_ylim(0, 1)\n",
        "     ax[i,j].plot(0, 0, label=\"n = {:2.2f}\\np = {:2.2f}\".format(n, p), alpha=0)\n",
        "     ax[i,j].legend(fontsize=7)\n",
        "ax[1,0].set_xlabel('$\\\\theta$', fontsize=10)\n",
        "ax[0,0].set_ylabel('$p(y|\\\\theta)$', fontsize=10)\n",
        "ax[0,0].set_xticks(x);"
      ],
      "execution_count": 3,
      "outputs": [
        {
          "output_type": "display_data",
          "data": {
            "text/plain": [
              "<Figure size 432x288 with 9 Axes>"
            ],
            "image/png": "[encoded data removed]"
          },
          "metadata": {
            "needs_background": "light"
          }
        }
      ]
    }
  ]
}