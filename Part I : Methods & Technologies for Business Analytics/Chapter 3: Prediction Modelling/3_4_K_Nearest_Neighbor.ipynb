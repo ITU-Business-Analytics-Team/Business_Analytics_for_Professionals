{
  "nbformat": 4,
  "nbformat_minor": 0,
  "metadata": {
    "colab": {
      "name": "3.4. K-Nearest Neighbor.ipynb",
      "provenance": [],
      "collapsed_sections": [],
      "include_colab_link": true
    },
    "kernelspec": {
      "name": "python3",
      "display_name": "Python 3"
    },
    "language_info": {
      "name": "python"
    }
  },
  "cells": [
    {
      "cell_type": "markdown",
      "metadata": {
        "id": "view-in-github",
        "colab_type": "text"
      },
      "source": [
        "<a href=\"https://colab.research.google.com/github/ITU-Business-Analytics-Team/Business_Analytics_for_Professionals/blob/main/Part%20I%20%3A%20Methods%20%26%20Technologies%20for%20Business%20Analytics/Chapter%203%3A%20Prediction%20Modelling/3_4_K_Nearest_Neighbor.ipynb\" target=\"_parent\"><img src=\"https://colab.research.google.com/assets/colab-badge.svg\" alt=\"Open In Colab\"/></a>"
      ]
    },
    {
      "cell_type": "markdown",
      "source": [
        "# **Prediction Modelling: Machine Learning**\n",
        "## K-Nearest Neighbor"
      ],
      "metadata": {
        "id": "u-PtLwIGqePs"
      }
    },
    {
      "cell_type": "markdown",
      "source": [
        "## Problem Statement\n",
        "\n",
        "MNIST (Modified National Institute of Standards and Technology database) consists of images of handwritten digits. In this problem we are going to use k-Nearest Neighbor algorithm to recognize digits from images. There are `1797` `8*8` resolution images consisting of 10 digits. In this dataset every pixel is assumed as an variable thus observations are `1797*64` matrix  "
      ],
      "metadata": {
        "id": "Nh_Mq3F7CLOH"
      }
    },
    {
      "cell_type": "code",
      "execution_count": null,
      "metadata": {
        "id": "t2CbaSAVCDzt"
      },
      "outputs": [],
      "source": [
        "import numpy as np\n",
        "import pandas as pd\n",
        "import matplotlib.pyplot as plt\n",
        "\n",
        "from sklearn.datasets import load_digits"
      ]
    },
    {
      "cell_type": "code",
      "source": [
        "data = load_digits()\n",
        "X = data[\"data\"]\n",
        "y = data[\"target\"]\n",
        "\n",
        "print(X.shape)"
      ],
      "metadata": {
        "colab": {
          "base_uri": "https://localhost:8080/"
        },
        "id": "wEpvb9szDCG8",
        "outputId": "023d1f98-6a92-4b62-8314-a22fd54907ca"
      },
      "execution_count": null,
      "outputs": [
        {
          "output_type": "stream",
          "name": "stdout",
          "text": [
            "(1797, 64)\n"
          ]
        }
      ]
    },
    {
      "cell_type": "markdown",
      "source": [
        "Lets plot the first image"
      ],
      "metadata": {
        "id": "Y9H40gRtDkoo"
      }
    },
    {
      "cell_type": "code",
      "source": [
        "plt.imshow(X[0].reshape(8,8), \"gray\")"
      ],
      "metadata": {
        "colab": {
          "base_uri": "https://localhost:8080/",
          "height": 282
        },
        "id": "9eSIbsK6DjzW",
        "outputId": "25ab4dfa-6004-436d-e090-846368602184"
      },
      "execution_count": null,
      "outputs": [
        {
          "output_type": "execute_result",
          "data": {
            "text/plain": [
              "<matplotlib.image.AxesImage at 0x7facc3094190>"
            ]
          },
          "metadata": {},
          "execution_count": 3
        },
        {
          "output_type": "display_data",
          "data": {
            "text/plain": [
              "<Figure size 432x288 with 1 Axes>"
            ],
            "image/png": "[encoded data removed]"
          },
          "metadata": {
            "needs_background": "light"
          }
        }
      ]
    },
    {
      "cell_type": "markdown",
      "source": [
        "First split the data into training and testing dataset. Then normalize the data by dividing all values with $255$ since all the pixel values are between $0$ and $255$. Lastly, we are going to apply **KNN** algorithm to classify images"
      ],
      "metadata": {
        "id": "mIbMPvffEWzn"
      }
    },
    {
      "cell_type": "code",
      "source": [
        "from sklearn.neighbors import KNeighborsClassifier\n",
        "from sklearn.model_selection import train_test_split\n",
        "from sklearn.metrics import accuracy_score\n",
        "\n",
        "X_train, X_test, y_train, y_test = train_test_split(X,y, test_size = 0.2, random_state = 42)\n",
        "mdl = KNeighborsClassifier(n_neighbors=3)\n",
        "mdl.fit(X_train, y_train)\n",
        "ypred = mdl.predict(X_test)\n",
        "print(\"Accuracy score:\", accuracy_score(y_test, ypred))"
      ],
      "metadata": {
        "colab": {
          "base_uri": "https://localhost:8080/"
        },
        "id": "ZwfV8NO6ENWO",
        "outputId": "faa79498-2857-46cd-ab3c-1bf8d4e661d2"
      },
      "execution_count": null,
      "outputs": [
        {
          "output_type": "stream",
          "name": "stdout",
          "text": [
            "Accuracy score: 0.9833333333333333\n"
          ]
        }
      ]
    },
    {
      "cell_type": "markdown",
      "source": [
        "We got  $98.3$% accuracy score in the test set using 3 neighbors. Lets try different neighbor sizes and see if we can get better results"
      ],
      "metadata": {
        "id": "99YMG6KuFux6"
      }
    },
    {
      "cell_type": "code",
      "source": [
        "k_values = np.arange(1,16)\n",
        "acc_list = []\n",
        "\n",
        "for k in k_values:\n",
        "    mdl = KNeighborsClassifier(n_neighbors=k)\n",
        "    mdl.fit(X_train, y_train)\n",
        "    ypred = mdl.predict(X_test)\n",
        "    acc_list.append(accuracy_score(y_test, ypred))\n",
        "\n",
        "plt.plot(k_values, acc_list, \"-*b\")\n",
        "plt.grid()"
      ],
      "metadata": {
        "colab": {
          "base_uri": "https://localhost:8080/",
          "height": 265
        },
        "id": "ZtmNkw8EFqqE",
        "outputId": "ae224ad5-a40d-453a-e155-1c5fb3ad669e"
      },
      "execution_count": null,
      "outputs": [
        {
          "output_type": "display_data",
          "data": {
            "text/plain": [
              "<Figure size 432x288 with 1 Axes>"
            ],
            "image/png": "[encoded data removed]"
          },
          "metadata": {
            "needs_background": "light"
          }
        }
      ]
    },
    {
      "cell_type": "markdown",
      "source": [
        "From the graph we can see that neighbor sizes 6 or 7 seems optimal. Setting neighbor size less than 6 leads the underfitting while setting neighbor size greater than 7 leads to overfitting"
      ],
      "metadata": {
        "id": "gdWOSleFKNiw"
      }
    },
    {
      "cell_type": "code",
      "source": [
        "mdl = KNeighborsClassifier(n_neighbors=7)\n",
        "mdl.fit(X_train, y_train)\n",
        "ypred = mdl.predict(X_test)"
      ],
      "metadata": {
        "id": "EgAfmL1tUivM"
      },
      "execution_count": null,
      "outputs": []
    },
    {
      "cell_type": "markdown",
      "source": [
        "Lets plot images and their predicted labels"
      ],
      "metadata": {
        "id": "fg1z1cg-UoXr"
      }
    },
    {
      "cell_type": "code",
      "source": [
        "plt.figure(figsize = (16,8))\n",
        "\n",
        "for i in range(10):\n",
        "    plt.subplot(2,5,i+1)\n",
        "    plt.imshow(X_test[i].reshape(8,8), \"gray\")\n",
        "    plt.title(\"Predicted Label:\" + str(ypred[i]))\n",
        "    plt.axis(\"off\")"
      ],
      "metadata": {
        "colab": {
          "base_uri": "https://localhost:8080/",
          "height": 438
        },
        "id": "JhL3G3tRUnpO",
        "outputId": "57049100-6d45-4409-ee31-e31530144b6f"
      },
      "execution_count": null,
      "outputs": [
        {
          "output_type": "display_data",
          "data": {
            "text/plain": [
              "<Figure size 1152x576 with 10 Axes>"
            ],
            "image/png": "[encoded data removed]"
          },
          "metadata": {
            "needs_background": "light"
          }
        }
      ]
    }
  ]
}