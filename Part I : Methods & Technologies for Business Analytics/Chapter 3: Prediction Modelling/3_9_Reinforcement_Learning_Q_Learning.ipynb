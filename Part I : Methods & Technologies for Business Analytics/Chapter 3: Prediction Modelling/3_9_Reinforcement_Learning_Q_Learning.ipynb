{
  "nbformat": 4,
  "nbformat_minor": 0,
  "metadata": {
    "colab": {
      "name": "3.9.Reinforcement Learning_Q-Learning.ipynb",
      "provenance": [],
      "collapsed_sections": [],
      "include_colab_link": true
    },
    "kernelspec": {
      "display_name": "Python 3",
      "language": "python",
      "name": "python3"
    },
    "language_info": {
      "codemirror_mode": {
        "name": "ipython",
        "version": 3
      },
      "file_extension": ".py",
      "mimetype": "text/x-python",
      "name": "python",
      "nbconvert_exporter": "python",
      "pygments_lexer": "ipython3",
      "version": "3.8.5"
    }
  },
  "cells": [
    {
      "cell_type": "markdown",
      "metadata": {
        "id": "view-in-github",
        "colab_type": "text"
      },
      "source": [
        "<a href=\"https://colab.research.google.com/github/ITU-Business-Analytics-Team/Business_Analytics_for_Professionals/blob/main/Part%20I%20%3A%20Methods%20%26%20Technologies%20for%20Business%20Analytics/Chapter%203%3A%20Prediction%20Modelling/3_9_Reinforcement_Learning_Q_Learning.ipynb\" target=\"_parent\"><img src=\"https://colab.research.google.com/assets/colab-badge.svg\" alt=\"Open In Colab\"/></a>"
      ]
    },
    {
      "cell_type": "markdown",
      "metadata": {
        "id": "vT0tU-o4ubdY"
      },
      "source": [
        "# **Reinforcement Learning**\n",
        "## **Q-Learning**"
      ]
    },
    {
      "cell_type": "markdown",
      "metadata": {
        "id": "eUfdn6lzRwWN"
      },
      "source": [
        "### **Problem Definition**\n",
        "The well-known maze problem is used to demonstrate the use of Q-learning algorithms. There is a ***n x n*** grid, which allows players to move in four directions: north, south, east, and west. Certain cells contain obtacles. The agent begins in one cell and works its way to the target cell. The objective is to determine the optimal sequence of motions that will result in the agent reaching the goal cell with the greatest reward.\n",
        "The Q-learning technique is employed in this case to solve this problem. The following steps in building the algorithm are as follows:\n",
        "1.   Define the environment as a class of objects in which agents operate.\n",
        "2. Define the agents as a class of objects.\n",
        "3. Finally, we trained our agent how to behave in the described environment  to achieve its purpose."
      ]
    },
    {
      "cell_type": "code",
      "metadata": {
        "id": "jhQCdw_Gm8NE"
      },
      "source": [
        "import numpy as np\n",
        "import operator\n",
        "import matplotlib.pyplot as plt\n",
        "%matplotlib inline"
      ],
      "execution_count": 1,
      "outputs": []
    },
    {
      "cell_type": "code",
      "metadata": {
        "id": "ZrF0EXDum--m"
      },
      "source": [
        "#First define gridmaze environment as a class\n",
        "class Environment():\n",
        "  def __init__(self, height, width, blocked_cell, start_cell, end_cell, current_location):\n",
        "    #Define the dimensions of grid and cell features\n",
        "    self.height = height\n",
        "    self.width = width\n",
        "    self.blocked_cell = blocked_cell\n",
        "    self.end_cell = end_cell\n",
        "    self.start_cell = start_cell\n",
        "    self.current_location = current_location\n",
        "    self.state_space=[]\n",
        "    self.create_state_space()\n",
        "\n",
        "    #Define the immediate reward of each cell if the agent reach moves that cell\n",
        "    self.cell_reward = np.zeros((self.height, self.width))-1 #When agent moves from one cell to another, it gets -1 reward\n",
        "    self.cell_reward[self.end_cell[0], self.end_cell[1]] = 10 #if the agent reaches the end cell, gets 10 reward\n",
        "    self.cell_reward[self.blocked_cell[0], self.blocked_cell[1]] = -10 #if the agent tries to move the blocked cell, it gets -10 reward\n",
        "\n",
        "    self.actions = ['Left', 'Right', 'Up','Down'] # There are 4 possible actions of the agent.\n",
        "\n",
        "  def get_actions(self):\n",
        "      return self.actions\n",
        "  def create_state_space(self):    \n",
        "      for i in range(self.height):\n",
        "        for j in range(self.width):\n",
        "          if (i,j)!=self.blocked_cell:\n",
        "            self.state_space.append((i,j))    \n",
        "\n",
        "  def return_reward(self, next_location):\n",
        "     return self.cell_reward[next_location[0], next_location[1]]\n",
        "\n",
        "  def check_end_cell(self):\n",
        "      if self.current_location == self.end_cell:\n",
        "        return True\n",
        "  def check_blocked_cell(self):\n",
        "      if self.current_location == self.blocked_cell:\n",
        "        return True    \n",
        "  \n",
        "  def reset(self):\n",
        "    self.current_location = self.state_space[np.random.choice(len(self.state_space))]\n",
        "    while self.current_location==self.end_cell:\n",
        "      self.current_location = self.state_space[np.random.choice(len(self.state_space))]\n",
        "    \n",
        "  def step(self, action):\n",
        "        \"\"\"Directs the agent forward. If agent is at the border of or adjacent to a blocked cell, the agent's position is unaffected; however, \n",
        "        the agent takes a negative reward. Reward is returned by function.\"\"\"\n",
        "              \n",
        "        last_location = self.current_location\n",
        "        \n",
        "        # UP\n",
        "        if action == 'Up':\n",
        "            # If agent is at the top, stay still, collect reward\n",
        "            if last_location[0] == 0:\n",
        "                reward = self.return_reward(last_location)\n",
        "            elif (last_location[0]-1, last_location[1]) == self.blocked_cell:\n",
        "               reward = self.return_reward(last_location)\n",
        "            else:\n",
        "                self.current_location = ( self.current_location[0] - 1, self.current_location[1])\n",
        "                reward = self.return_reward(self.current_location)\n",
        "        \n",
        "        # DOWN\n",
        "        elif action == 'Down':\n",
        "            # If agent is at bottom, stay still, collect reward\n",
        "            if last_location[0] == self.height - 1:\n",
        "                reward = self.return_reward(last_location)\n",
        "            elif (last_location[0]+1, last_location[1]) == self.blocked_cell:\n",
        "                reward = self.return_reward(last_location)\n",
        "            else:\n",
        "                self.current_location = (self.current_location[0] + 1, self.current_location[1])\n",
        "                reward = self.return_reward(self.current_location)\n",
        "            \n",
        "        # LEFT\n",
        "        elif action == 'Left':\n",
        "            # If agent is at the left, stay still, collect reward\n",
        "            if last_location[1] == 0:\n",
        "                reward = self.return_reward(last_location)\n",
        "            elif (last_location[0], last_location[1]-1) == self.blocked_cell:\n",
        "                reward = self.return_reward(last_location)\n",
        "            else:\n",
        "                self.current_location = ( self.current_location[0], self.current_location[1] - 1)\n",
        "                reward = self.return_reward(self.current_location)\n",
        "\n",
        "        # RIGHT\n",
        "        elif action == 'Right':\n",
        "            # If agent is at the right, stay still, collect reward\n",
        "            if last_location[1] == self.width - 1:\n",
        "                reward = self.return_reward(last_location)\n",
        "            elif (last_location[0], last_location[1]+1) == self.blocked_cell:\n",
        "                reward = self.return_reward(last_location)\n",
        "            else:\n",
        "                self.current_location = ( self.current_location[0], self.current_location[1] + 1)\n",
        "                reward = self.return_reward(self.current_location)\n",
        "                \n",
        "        return reward"
      ],
      "execution_count": 2,
      "outputs": []
    },
    {
      "cell_type": "code",
      "metadata": {
        "id": "Q82OYa2ho38S"
      },
      "source": [
        "environment = Environment(height=4, width=4, blocked_cell= (2,2), start_cell= (0,0), end_cell = (3,3), current_location = (0,0))"
      ],
      "execution_count": 3,
      "outputs": []
    },
    {
      "cell_type": "code",
      "metadata": {
        "id": "z3VWAdeno7Jn"
      },
      "source": [
        "class Agent():\n",
        "  def __init__(self, environment, epsilon=0.05, gamma=0.9, alpha=0.1):\n",
        "    self.environment = environment\n",
        "    self.epsilon = epsilon\n",
        "    self.gamma = gamma\n",
        "    self.alpha = alpha\n",
        "    self.Qtable = {}\n",
        "    for s in environment.state_space:\n",
        "        self.Qtable[s]={}\n",
        "        for a in environment.actions:\n",
        "          self.Qtable [s][a] = 0 #Initializing the Q-table, filling it with zeros.\n",
        " \n",
        "  def epsilon_greedy(self, actions):\n",
        "    if np.random.uniform(0,1)<self.epsilon:\n",
        "        action = actions[np.random.randint(0,len(actions)-1)]\n",
        "    else:\n",
        "        maxValue = max(self.Qtable[self.environment.current_location].values())\n",
        "        action = np.random.choice([k for k, v in self.Qtable[self.environment.current_location].items() if v == maxValue])\n",
        "    return action\n",
        "    \n",
        "  def update_Qtable(self, old_state, action, new_state, reward):\n",
        "     max_q_value_in_new_state = max(self.Qtable[new_state].values())\n",
        "     current_q_value = self.Qtable[old_state][action]        \n",
        "     self.Qtable[old_state][action] = (1 - self.alpha) * current_q_value + self.alpha * (reward + self.gamma * max_q_value_in_new_state)"
      ],
      "execution_count": 4,
      "outputs": []
    },
    {
      "cell_type": "code",
      "metadata": {
        "id": "O7NDDtbzp-zM"
      },
      "source": [
        "def play(environment, agent, episode, max_steps_per_episode):\n",
        "  reward_of_per_episode = []\n",
        "  for i in range(episode):\n",
        "     cumulative_reward = 0\n",
        "     step = 0\n",
        "     game_over = False\n",
        "    \n",
        "     while step<max_steps_per_episode and game_over == False:\n",
        "       old_state = environment.current_location\n",
        "       action = agent.epsilon_greedy(environment.actions)\n",
        "       reward = environment.step(action)\n",
        "       \n",
        "       new_state = environment.current_location\n",
        "       agent.update_Qtable(old_state, action, new_state, reward)\n",
        "\n",
        "       step+=1\n",
        "       cumulative_reward+=reward\n",
        "\n",
        "       if environment.check_end_cell():\n",
        "         game_over = True\n",
        "         environment.reset()\n",
        "      \n",
        "     reward_of_per_episode.append(cumulative_reward)\n",
        "   \n",
        "  return reward_of_per_episode"
      ],
      "execution_count": 5,
      "outputs": []
    },
    {
      "cell_type": "code",
      "metadata": {
        "id": "rjSOn8wLqGMW"
      },
      "source": [
        "environment = Environment(height=4, width=4, blocked_cell= (2,2), start_cell= (0,0), end_cell = (3,3), current_location = (0,0))\n",
        "agent = Agent(environment)\n",
        "reward_per_episode = play(environment, agent, episode=10000, max_steps_per_episode=1000)"
      ],
      "execution_count": 6,
      "outputs": []
    },
    {
      "cell_type": "code",
      "metadata": {
        "id": "LqKz5nA1qKSf"
      },
      "source": [
        "# determine the policy from Q*\n",
        "policy = {}\n",
        "V = {}\n",
        "for s in environment.state_space:\n",
        "    if s!=environment.end_cell:\n",
        "      environment.current_location=s\n",
        "      maxValue = max(agent.Qtable[environment.current_location].values())\n",
        "      action = np.random.choice([k for k, v in agent.Qtable[environment.current_location].items() if v == maxValue])\n",
        "      policy[s] = action\n",
        "      V[s] = maxValue"
      ],
      "execution_count": 7,
      "outputs": []
    },
    {
      "cell_type": "code",
      "metadata": {
        "colab": {
          "base_uri": "https://localhost:8080/"
        },
        "id": "axoyQ2GFrHM1",
        "outputId": "31b1a70a-38d7-4dda-9a39-0fb01d1350f5"
      },
      "source": [
        "V"
      ],
      "execution_count": 8,
      "outputs": [
        {
          "output_type": "execute_result",
          "data": {
            "text/plain": [
              "{(0, 0): 1.8097999999999896,\n",
              " (0, 1): 3.1219999999999883,\n",
              " (0, 2): 4.57999999999999,\n",
              " (0, 3): 6.19999999999999,\n",
              " (1, 0): 3.1219999999999883,\n",
              " (1, 1): 4.57999999999999,\n",
              " (1, 2): 6.19999999999999,\n",
              " (1, 3): 7.999999999999996,\n",
              " (2, 0): 4.57999999999999,\n",
              " (2, 1): 6.19999999999999,\n",
              " (2, 3): 9.999999999999995,\n",
              " (3, 0): 6.19999999999999,\n",
              " (3, 1): 7.999999999999996,\n",
              " (3, 2): 9.999999999999995}"
            ]
          },
          "metadata": {},
          "execution_count": 8
        }
      ]
    },
    {
      "cell_type": "code",
      "metadata": {
        "id": "H4mmsuHUrfXj"
      },
      "source": [
        "#Function to print policy on a grid\n",
        "def print_policy(policy,rows,columns):\n",
        "    for i in range(rows):\n",
        "        print(\"---------------------------------------\")\n",
        "        for j in range(columns):\n",
        "              a = policy.get((i,j), ' ')\n",
        "              print(\"  %s  |\" % a, end=\"\")\n",
        "        print(\"\")"
      ],
      "execution_count": 9,
      "outputs": []
    },
    {
      "cell_type": "code",
      "metadata": {
        "colab": {
          "base_uri": "https://localhost:8080/"
        },
        "id": "W780EzPUsHj2",
        "outputId": "4fe31c6f-5c5b-4889-c74b-ace49477ddd8"
      },
      "source": [
        "print_policy(policy,4,4)"
      ],
      "execution_count": 10,
      "outputs": [
        {
          "output_type": "stream",
          "name": "stdout",
          "text": [
            "---------------------------------------\n",
            "  Right  |  Down  |  Down  |  Down  |\n",
            "---------------------------------------\n",
            "  Right  |  Down  |  Right  |  Down  |\n",
            "---------------------------------------\n",
            "  Right  |  Down  |     |  Down  |\n",
            "---------------------------------------\n",
            "  Right  |  Right  |  Right  |     |\n"
          ]
        }
      ]
    },
    {
      "cell_type": "code",
      "metadata": {
        "id": "rNOGWfbNwGE1"
      },
      "source": [
        "#Function to print values on a grid\n",
        "def print_values(V, rows,columns):\n",
        "    for i in range(rows):\n",
        "        print(\"---------------------------\")\n",
        "        for j in range(columns):\n",
        "            v = V.get((i,j), 0)\n",
        "            if v >= 0:\n",
        "                print(\" %.2f|\" % v, end=\"\")\n",
        "            else:\n",
        "                print(\"%.2f|\" % v, end=\"\")\n",
        "        print(\"\")"
      ],
      "execution_count": 11,
      "outputs": []
    },
    {
      "cell_type": "code",
      "metadata": {
        "colab": {
          "base_uri": "https://localhost:8080/"
        },
        "id": "u8SPLpzxzXY2",
        "outputId": "bade179d-16ca-42e4-a6a5-da2b24b916ab"
      },
      "source": [
        "print_values(V, 4,4)"
      ],
      "execution_count": 12,
      "outputs": [
        {
          "output_type": "stream",
          "name": "stdout",
          "text": [
            "---------------------------\n",
            " 1.81| 3.12| 4.58| 6.20|\n",
            "---------------------------\n",
            " 3.12| 4.58| 6.20| 8.00|\n",
            "---------------------------\n",
            " 4.58| 6.20| 0.00| 10.00|\n",
            "---------------------------\n",
            " 6.20| 8.00| 10.00| 0.00|\n"
          ]
        }
      ]
    },
    {
      "cell_type": "markdown",
      "metadata": {
        "id": "VXGjlQlKUu_F"
      },
      "source": [
        "### **Results** \n",
        "The next figure demonstrates that after a few episodes, our Q-learning algorithm converges and our agent has learned how to behave optimally in the specified environment."
      ]
    },
    {
      "cell_type": "code",
      "metadata": {
        "colab": {
          "base_uri": "https://localhost:8080/",
          "height": 297
        },
        "id": "izQW87CvzYDz",
        "outputId": "0eb0e8e8-630c-464a-9f51-35e03ca652d6"
      },
      "source": [
        "# Simple learning curve\n",
        "plt.plot(reward_per_episode)\n",
        "plt.xlabel('Episodes')\n",
        "plt.ylabel('Cumulative reward')"
      ],
      "execution_count": 13,
      "outputs": [
        {
          "output_type": "execute_result",
          "data": {
            "text/plain": [
              "Text(0, 0.5, 'Cumulative reward')"
            ]
          },
          "metadata": {},
          "execution_count": 13
        },
        {
          "output_type": "display_data",
          "data": {
            "text/plain": [
              "<Figure size 432x288 with 1 Axes>"
            ],
            "image/png": "[encoded data removed]"
          },
          "metadata": {
            "needs_background": "light"
          }
        }
      ]
    }
  ]
}