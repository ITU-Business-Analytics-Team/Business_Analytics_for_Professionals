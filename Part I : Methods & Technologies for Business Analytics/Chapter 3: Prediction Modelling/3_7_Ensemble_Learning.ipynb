{
  "nbformat": 4,
  "nbformat_minor": 0,
  "metadata": {
    "colab": {
      "name": "3.7.Ensemble Learning.ipynb",
      "provenance": [],
      "collapsed_sections": [
        "BdhcoD1wBF63",
        "g7iXXEvxy_MN",
        "9PoMWfm-zDcZ",
        "C6jxHZkpzH1C",
        "ggqKRw-AzL4e",
        "3Nv23q5rzQA6",
        "qkM4bgUfmu2_"
      ],
      "include_colab_link": true
    },
    "kernelspec": {
      "name": "python3",
      "display_name": "Python 3"
    },
    "language_info": {
      "name": "python"
    }
  },
  "cells": [
    {
      "cell_type": "markdown",
      "metadata": {
        "id": "view-in-github",
        "colab_type": "text"
      },
      "source": [
        "<a href=\"https://colab.research.google.com/github/ITU-Business-Analytics-Team/Business_Analytics_for_Professionals/blob/main/Part%20I%20%3A%20Methods%20%26%20Technologies%20for%20Business%20Analytics/Chapter%203%3A%20Prediction%20Modelling/3_7_Ensemble_Learning.ipynb\" target=\"_parent\"><img src=\"https://colab.research.google.com/assets/colab-badge.svg\" alt=\"Open In Colab\"/></a>"
      ]
    },
    {
      "cell_type": "markdown",
      "metadata": {
        "id": "Nnb7k-i3fH81"
      },
      "source": [
        "# **Prediction Modelling: Machine Learning**\n",
        "## Ensemble Methods"
      ]
    },
    {
      "cell_type": "markdown",
      "metadata": {
        "id": "zF-rtJaXfds5"
      },
      "source": [
        "[Dataset](https://www.kaggle.com/markxie/hra-data): from Kaggle"
      ]
    },
    {
      "cell_type": "markdown",
      "metadata": {
        "id": "_2Q2aDtaA70e"
      },
      "source": [
        "In this case study, employee satisfaction is estimated for Company X. The company aims to increase employee satisfaction by enabling the development of various human resources policies and the pre-planning of new hires to retain employees. For this, a data set containing various information about company employees is taken into account. The data set, which includes 14999 employees, includes variables such as average monthly working hours, annual time spent in the company, salary level, number of projects and satisfaction level."
      ]
    },
    {
      "cell_type": "code",
      "metadata": {
        "id": "6Ezdkf8peJPl"
      },
      "source": [
        "#import libraries\n",
        "\n",
        "import numpy as np\n",
        "import pandas as pd \n",
        "import matplotlib.pyplot as plt \n",
        "import seaborn as sns\n",
        "\n",
        "from sklearn.ensemble import BaggingClassifier, AdaBoostClassifier, GradientBoostingClassifier, RandomForestClassifier\n",
        "from xgboost import XGBClassifier\n",
        "from sklearn.tree import DecisionTreeClassifier\n",
        "from sklearn.model_selection import train_test_split\n",
        "from sklearn.metrics import f1_score, accuracy_score, confusion_matrix, recall_score,precision_score\n",
        "import sklearn.metrics as metrics\n",
        "from sklearn.metrics import classification_report\n",
        "from sklearn.preprocessing import StandardScaler"
      ],
      "execution_count": null,
      "outputs": []
    },
    {
      "cell_type": "markdown",
      "metadata": {
        "id": "fo9lwRC-k78F"
      },
      "source": [
        "### **Data Preparation**"
      ]
    },
    {
      "cell_type": "code",
      "metadata": {
        "colab": {
          "base_uri": "https://localhost:8080/",
          "height": 206
        },
        "id": "Y9_CsDcQL5Yo",
        "outputId": "745a78b8-e8b5-4451-adc3-8965b7fc00a2"
      },
      "source": [
        "#Import Data\n",
        "url=\"https://drive.google.com/file/d/1JGkwbAU4rY3IWYQaeswBbRMxTKhvhCCf/view?usp=sharing\"\n",
        "path = 'https://drive.google.com/uc?export=download&id='+url.split('/')[-2]\n",
        "data = pd.read_csv(path)\n",
        "data.head()"
      ],
      "execution_count": null,
      "outputs": [
        {
          "output_type": "execute_result",
          "data": {
            "text/plain": [
              "   satisfaction_level  last_evaluation  number_project  average_montly_hours  \\\n",
              "0                0.38             0.53               2                   157   \n",
              "1                0.80             0.86               5                   262   \n",
              "2                0.11             0.88               7                   272   \n",
              "3                0.72             0.87               5                   223   \n",
              "4                0.37             0.52               2                   159   \n",
              "\n",
              "   time_spend_company  Work_accident  left  promotion_last_5years  sales  \\\n",
              "0                   3              0     1                      0  sales   \n",
              "1                   6              0     1                      0  sales   \n",
              "2                   4              0     1                      0  sales   \n",
              "3                   5              0     1                      0  sales   \n",
              "4                   3              0     1                      0  sales   \n",
              "\n",
              "   salary  \n",
              "0     low  \n",
              "1  medium  \n",
              "2  medium  \n",
              "3     low  \n",
              "4     low  "
            ],
            "text/html": [
              "\n",
              "  <div id=\"df-30952b75-3d4d-459b-b500-08aa043a5263\">\n",
              "    <div class=\"colab-df-container\">\n",
              "      <div>\n",
              "<style scoped>\n",
              "    .dataframe tbody tr th:only-of-type {\n",
              "        vertical-align: middle;\n",
              "    }\n",
              "\n",
              "    .dataframe tbody tr th {\n",
              "        vertical-align: top;\n",
              "    }\n",
              "\n",
              "    .dataframe thead th {\n",
              "        text-align: right;\n",
              "    }\n",
              "</style>\n",
              "<table border=\"1\" class=\"dataframe\">\n",
              "  <thead>\n",
              "    <tr style=\"text-align: right;\">\n",
              "      <th></th>\n",
              "      <th>satisfaction_level</th>\n",
              "      <th>last_evaluation</th>\n",
              "      <th>number_project</th>\n",
              "      <th>average_montly_hours</th>\n",
              "      <th>time_spend_company</th>\n",
              "      <th>Work_accident</th>\n",
              "      <th>left</th>\n",
              "      <th>promotion_last_5years</th>\n",
              "      <th>sales</th>\n",
              "      <th>salary</th>\n",
              "    </tr>\n",
              "  </thead>\n",
              "  <tbody>\n",
              "    <tr>\n",
              "      <th>0</th>\n",
              "      <td>0.38</td>\n",
              "      <td>0.53</td>\n",
              "      <td>2</td>\n",
              "      <td>157</td>\n",
              "      <td>3</td>\n",
              "      <td>0</td>\n",
              "      <td>1</td>\n",
              "      <td>0</td>\n",
              "      <td>sales</td>\n",
              "      <td>low</td>\n",
              "    </tr>\n",
              "    <tr>\n",
              "      <th>1</th>\n",
              "      <td>0.80</td>\n",
              "      <td>0.86</td>\n",
              "      <td>5</td>\n",
              "      <td>262</td>\n",
              "      <td>6</td>\n",
              "      <td>0</td>\n",
              "      <td>1</td>\n",
              "      <td>0</td>\n",
              "      <td>sales</td>\n",
              "      <td>medium</td>\n",
              "    </tr>\n",
              "    <tr>\n",
              "      <th>2</th>\n",
              "      <td>0.11</td>\n",
              "      <td>0.88</td>\n",
              "      <td>7</td>\n",
              "      <td>272</td>\n",
              "      <td>4</td>\n",
              "      <td>0</td>\n",
              "      <td>1</td>\n",
              "      <td>0</td>\n",
              "      <td>sales</td>\n",
              "      <td>medium</td>\n",
              "    </tr>\n",
              "    <tr>\n",
              "      <th>3</th>\n",
              "      <td>0.72</td>\n",
              "      <td>0.87</td>\n",
              "      <td>5</td>\n",
              "      <td>223</td>\n",
              "      <td>5</td>\n",
              "      <td>0</td>\n",
              "      <td>1</td>\n",
              "      <td>0</td>\n",
              "      <td>sales</td>\n",
              "      <td>low</td>\n",
              "    </tr>\n",
              "    <tr>\n",
              "      <th>4</th>\n",
              "      <td>0.37</td>\n",
              "      <td>0.52</td>\n",
              "      <td>2</td>\n",
              "      <td>159</td>\n",
              "      <td>3</td>\n",
              "      <td>0</td>\n",
              "      <td>1</td>\n",
              "      <td>0</td>\n",
              "      <td>sales</td>\n",
              "      <td>low</td>\n",
              "    </tr>\n",
              "  </tbody>\n",
              "</table>\n",
              "</div>\n",
              "      <button class=\"colab-df-convert\" onclick=\"convertToInteractive('df-30952b75-3d4d-459b-b500-08aa043a5263')\"\n",
              "              title=\"Convert this dataframe to an interactive table.\"\n",
              "              style=\"display:none;\">\n",
              "        \n",
              "  <svg xmlns=\"http://www.w3.org/2000/svg\" height=\"24px\"viewBox=\"0 0 24 24\"\n",
              "       width=\"24px\">\n",
              "    <path d=\"M0 0h24v24H0V0z\" fill=\"none\"/>\n",
              "    <path d=\"M18.56 5.44l.94 2.06.94-2.06 2.06-.94-2.06-.94-.94-2.06-.94 2.06-2.06.94zm-11 1L8.5 8.5l.94-2.06 2.06-.94-2.06-.94L8.5 2.5l-.94 2.06-2.06.94zm10 10l.94 2.06.94-2.06 2.06-.94-2.06-.94-.94-2.06-.94 2.06-2.06.94z\"/><path d=\"M17.41 7.96l-1.37-1.37c-.4-.4-.92-.59-1.43-.59-.52 0-1.04.2-1.43.59L10.3 9.45l-7.72 7.72c-.78.78-.78 2.05 0 2.83L4 21.41c.39.39.9.59 1.41.59.51 0 1.02-.2 1.41-.59l7.78-7.78 2.81-2.81c.8-.78.8-2.07 0-2.86zM5.41 20L4 18.59l7.72-7.72 1.47 1.35L5.41 20z\"/>\n",
              "  </svg>\n",
              "      </button>\n",
              "      \n",
              "  <style>\n",
              "    .colab-df-container {\n",
              "      display:flex;\n",
              "      flex-wrap:wrap;\n",
              "      gap: 12px;\n",
              "    }\n",
              "\n",
              "    .colab-df-convert {\n",
              "      background-color: #E8F0FE;\n",
              "      border: none;\n",
              "      border-radius: 50%;\n",
              "      cursor: pointer;\n",
              "      display: none;\n",
              "      fill: #1967D2;\n",
              "      height: 32px;\n",
              "      padding: 0 0 0 0;\n",
              "      width: 32px;\n",
              "    }\n",
              "\n",
              "    .colab-df-convert:hover {\n",
              "      background-color: #E2EBFA;\n",
              "      box-shadow: 0px 1px 2px rgba(60, 64, 67, 0.3), 0px 1px 3px 1px rgba(60, 64, 67, 0.15);\n",
              "      fill: #174EA6;\n",
              "    }\n",
              "\n",
              "    [theme=dark] .colab-df-convert {\n",
              "      background-color: #3B4455;\n",
              "      fill: #D2E3FC;\n",
              "    }\n",
              "\n",
              "    [theme=dark] .colab-df-convert:hover {\n",
              "      background-color: #434B5C;\n",
              "      box-shadow: 0px 1px 3px 1px rgba(0, 0, 0, 0.15);\n",
              "      filter: drop-shadow(0px 1px 2px rgba(0, 0, 0, 0.3));\n",
              "      fill: #FFFFFF;\n",
              "    }\n",
              "  </style>\n",
              "\n",
              "      <script>\n",
              "        const buttonEl =\n",
              "          document.querySelector('#df-30952b75-3d4d-459b-b500-08aa043a5263 button.colab-df-convert');\n",
              "        buttonEl.style.display =\n",
              "          google.colab.kernel.accessAllowed ? 'block' : 'none';\n",
              "\n",
              "        async function convertToInteractive(key) {\n",
              "          const element = document.querySelector('#df-30952b75-3d4d-459b-b500-08aa043a5263');\n",
              "          const dataTable =\n",
              "            await google.colab.kernel.invokeFunction('convertToInteractive',\n",
              "                                                     [key], {});\n",
              "          if (!dataTable) return;\n",
              "\n",
              "          const docLinkHtml = 'Like what you see? Visit the ' +\n",
              "            '<a target=\"_blank\" href=https://colab.research.google.com/notebooks/data_table.ipynb>data table notebook</a>'\n",
              "            + ' to learn more about interactive tables.';\n",
              "          element.innerHTML = '';\n",
              "          dataTable['output_type'] = 'display_data';\n",
              "          await google.colab.output.renderOutput(dataTable, element);\n",
              "          const docLink = document.createElement('div');\n",
              "          docLink.innerHTML = docLinkHtml;\n",
              "          element.appendChild(docLink);\n",
              "        }\n",
              "      </script>\n",
              "    </div>\n",
              "  </div>\n",
              "  "
            ]
          },
          "metadata": {},
          "execution_count": 2
        }
      ]
    },
    {
      "cell_type": "code",
      "metadata": {
        "colab": {
          "base_uri": "https://localhost:8080/"
        },
        "id": "ZUklBeLafH26",
        "outputId": "7c33322a-5cb7-4311-fa0b-640fdfecd4a9"
      },
      "source": [
        "#see data size\n",
        "\n",
        "data.shape"
      ],
      "execution_count": null,
      "outputs": [
        {
          "output_type": "execute_result",
          "data": {
            "text/plain": [
              "(14999, 10)"
            ]
          },
          "metadata": {},
          "execution_count": 3
        }
      ]
    },
    {
      "cell_type": "code",
      "metadata": {
        "colab": {
          "base_uri": "https://localhost:8080/"
        },
        "id": "8hGREPwyfKcu",
        "outputId": "6f7446d7-f884-4b0f-8d5f-f6dbb65fff3b"
      },
      "source": [
        "#learn data types\n",
        "\n",
        "data.dtypes"
      ],
      "execution_count": null,
      "outputs": [
        {
          "output_type": "execute_result",
          "data": {
            "text/plain": [
              "satisfaction_level       float64\n",
              "last_evaluation          float64\n",
              "number_project             int64\n",
              "average_montly_hours       int64\n",
              "time_spend_company         int64\n",
              "Work_accident              int64\n",
              "left                       int64\n",
              "promotion_last_5years      int64\n",
              "sales                     object\n",
              "salary                    object\n",
              "dtype: object"
            ]
          },
          "metadata": {},
          "execution_count": 4
        }
      ]
    },
    {
      "cell_type": "code",
      "metadata": {
        "colab": {
          "base_uri": "https://localhost:8080/"
        },
        "id": "085Z3wq7fOhm",
        "outputId": "7fb10e40-1dd7-4c1c-b7ad-29713f4d7ac4"
      },
      "source": [
        "#null data check \n",
        "\n",
        "data.isnull().sum()"
      ],
      "execution_count": null,
      "outputs": [
        {
          "output_type": "execute_result",
          "data": {
            "text/plain": [
              "satisfaction_level       0\n",
              "last_evaluation          0\n",
              "number_project           0\n",
              "average_montly_hours     0\n",
              "time_spend_company       0\n",
              "Work_accident            0\n",
              "left                     0\n",
              "promotion_last_5years    0\n",
              "sales                    0\n",
              "salary                   0\n",
              "dtype: int64"
            ]
          },
          "metadata": {},
          "execution_count": 5
        }
      ]
    },
    {
      "cell_type": "code",
      "metadata": {
        "colab": {
          "base_uri": "https://localhost:8080/",
          "height": 270
        },
        "id": "905RusG4fPcw",
        "outputId": "0730772e-bd1b-4c0c-a83d-22a90d5403ab"
      },
      "source": [
        "#transform the categorical variables\n",
        "\n",
        "data_new = pd.get_dummies(data, drop_first=True)\n",
        "data_new.head()"
      ],
      "execution_count": null,
      "outputs": [
        {
          "output_type": "execute_result",
          "data": {
            "text/plain": [
              "   satisfaction_level  last_evaluation  number_project  average_montly_hours  \\\n",
              "0                0.38             0.53               2                   157   \n",
              "1                0.80             0.86               5                   262   \n",
              "2                0.11             0.88               7                   272   \n",
              "3                0.72             0.87               5                   223   \n",
              "4                0.37             0.52               2                   159   \n",
              "\n",
              "   time_spend_company  Work_accident  left  promotion_last_5years  \\\n",
              "0                   3              0     1                      0   \n",
              "1                   6              0     1                      0   \n",
              "2                   4              0     1                      0   \n",
              "3                   5              0     1                      0   \n",
              "4                   3              0     1                      0   \n",
              "\n",
              "   sales_RandD  sales_accounting  sales_hr  sales_management  sales_marketing  \\\n",
              "0            0                 0         0                 0                0   \n",
              "1            0                 0         0                 0                0   \n",
              "2            0                 0         0                 0                0   \n",
              "3            0                 0         0                 0                0   \n",
              "4            0                 0         0                 0                0   \n",
              "\n",
              "   sales_product_mng  sales_sales  sales_support  sales_technical  salary_low  \\\n",
              "0                  0            1              0                0           1   \n",
              "1                  0            1              0                0           0   \n",
              "2                  0            1              0                0           0   \n",
              "3                  0            1              0                0           1   \n",
              "4                  0            1              0                0           1   \n",
              "\n",
              "   salary_medium  \n",
              "0              0  \n",
              "1              1  \n",
              "2              1  \n",
              "3              0  \n",
              "4              0  "
            ],
            "text/html": [
              "\n",
              "  <div id=\"df-7a0584a1-fc0f-49f4-b42d-ca3ab03f7d1b\">\n",
              "    <div class=\"colab-df-container\">\n",
              "      <div>\n",
              "<style scoped>\n",
              "    .dataframe tbody tr th:only-of-type {\n",
              "        vertical-align: middle;\n",
              "    }\n",
              "\n",
              "    .dataframe tbody tr th {\n",
              "        vertical-align: top;\n",
              "    }\n",
              "\n",
              "    .dataframe thead th {\n",
              "        text-align: right;\n",
              "    }\n",
              "</style>\n",
              "<table border=\"1\" class=\"dataframe\">\n",
              "  <thead>\n",
              "    <tr style=\"text-align: right;\">\n",
              "      <th></th>\n",
              "      <th>satisfaction_level</th>\n",
              "      <th>last_evaluation</th>\n",
              "      <th>number_project</th>\n",
              "      <th>average_montly_hours</th>\n",
              "      <th>time_spend_company</th>\n",
              "      <th>Work_accident</th>\n",
              "      <th>left</th>\n",
              "      <th>promotion_last_5years</th>\n",
              "      <th>sales_RandD</th>\n",
              "      <th>sales_accounting</th>\n",
              "      <th>sales_hr</th>\n",
              "      <th>sales_management</th>\n",
              "      <th>sales_marketing</th>\n",
              "      <th>sales_product_mng</th>\n",
              "      <th>sales_sales</th>\n",
              "      <th>sales_support</th>\n",
              "      <th>sales_technical</th>\n",
              "      <th>salary_low</th>\n",
              "      <th>salary_medium</th>\n",
              "    </tr>\n",
              "  </thead>\n",
              "  <tbody>\n",
              "    <tr>\n",
              "      <th>0</th>\n",
              "      <td>0.38</td>\n",
              "      <td>0.53</td>\n",
              "      <td>2</td>\n",
              "      <td>157</td>\n",
              "      <td>3</td>\n",
              "      <td>0</td>\n",
              "      <td>1</td>\n",
              "      <td>0</td>\n",
              "      <td>0</td>\n",
              "      <td>0</td>\n",
              "      <td>0</td>\n",
              "      <td>0</td>\n",
              "      <td>0</td>\n",
              "      <td>0</td>\n",
              "      <td>1</td>\n",
              "      <td>0</td>\n",
              "      <td>0</td>\n",
              "      <td>1</td>\n",
              "      <td>0</td>\n",
              "    </tr>\n",
              "    <tr>\n",
              "      <th>1</th>\n",
              "      <td>0.80</td>\n",
              "      <td>0.86</td>\n",
              "      <td>5</td>\n",
              "      <td>262</td>\n",
              "      <td>6</td>\n",
              "      <td>0</td>\n",
              "      <td>1</td>\n",
              "      <td>0</td>\n",
              "      <td>0</td>\n",
              "      <td>0</td>\n",
              "      <td>0</td>\n",
              "      <td>0</td>\n",
              "      <td>0</td>\n",
              "      <td>0</td>\n",
              "      <td>1</td>\n",
              "      <td>0</td>\n",
              "      <td>0</td>\n",
              "      <td>0</td>\n",
              "      <td>1</td>\n",
              "    </tr>\n",
              "    <tr>\n",
              "      <th>2</th>\n",
              "      <td>0.11</td>\n",
              "      <td>0.88</td>\n",
              "      <td>7</td>\n",
              "      <td>272</td>\n",
              "      <td>4</td>\n",
              "      <td>0</td>\n",
              "      <td>1</td>\n",
              "      <td>0</td>\n",
              "      <td>0</td>\n",
              "      <td>0</td>\n",
              "      <td>0</td>\n",
              "      <td>0</td>\n",
              "      <td>0</td>\n",
              "      <td>0</td>\n",
              "      <td>1</td>\n",
              "      <td>0</td>\n",
              "      <td>0</td>\n",
              "      <td>0</td>\n",
              "      <td>1</td>\n",
              "    </tr>\n",
              "    <tr>\n",
              "      <th>3</th>\n",
              "      <td>0.72</td>\n",
              "      <td>0.87</td>\n",
              "      <td>5</td>\n",
              "      <td>223</td>\n",
              "      <td>5</td>\n",
              "      <td>0</td>\n",
              "      <td>1</td>\n",
              "      <td>0</td>\n",
              "      <td>0</td>\n",
              "      <td>0</td>\n",
              "      <td>0</td>\n",
              "      <td>0</td>\n",
              "      <td>0</td>\n",
              "      <td>0</td>\n",
              "      <td>1</td>\n",
              "      <td>0</td>\n",
              "      <td>0</td>\n",
              "      <td>1</td>\n",
              "      <td>0</td>\n",
              "    </tr>\n",
              "    <tr>\n",
              "      <th>4</th>\n",
              "      <td>0.37</td>\n",
              "      <td>0.52</td>\n",
              "      <td>2</td>\n",
              "      <td>159</td>\n",
              "      <td>3</td>\n",
              "      <td>0</td>\n",
              "      <td>1</td>\n",
              "      <td>0</td>\n",
              "      <td>0</td>\n",
              "      <td>0</td>\n",
              "      <td>0</td>\n",
              "      <td>0</td>\n",
              "      <td>0</td>\n",
              "      <td>0</td>\n",
              "      <td>1</td>\n",
              "      <td>0</td>\n",
              "      <td>0</td>\n",
              "      <td>1</td>\n",
              "      <td>0</td>\n",
              "    </tr>\n",
              "  </tbody>\n",
              "</table>\n",
              "</div>\n",
              "      <button class=\"colab-df-convert\" onclick=\"convertToInteractive('df-7a0584a1-fc0f-49f4-b42d-ca3ab03f7d1b')\"\n",
              "              title=\"Convert this dataframe to an interactive table.\"\n",
              "              style=\"display:none;\">\n",
              "        \n",
              "  <svg xmlns=\"http://www.w3.org/2000/svg\" height=\"24px\"viewBox=\"0 0 24 24\"\n",
              "       width=\"24px\">\n",
              "    <path d=\"M0 0h24v24H0V0z\" fill=\"none\"/>\n",
              "    <path d=\"M18.56 5.44l.94 2.06.94-2.06 2.06-.94-2.06-.94-.94-2.06-.94 2.06-2.06.94zm-11 1L8.5 8.5l.94-2.06 2.06-.94-2.06-.94L8.5 2.5l-.94 2.06-2.06.94zm10 10l.94 2.06.94-2.06 2.06-.94-2.06-.94-.94-2.06-.94 2.06-2.06.94z\"/><path d=\"M17.41 7.96l-1.37-1.37c-.4-.4-.92-.59-1.43-.59-.52 0-1.04.2-1.43.59L10.3 9.45l-7.72 7.72c-.78.78-.78 2.05 0 2.83L4 21.41c.39.39.9.59 1.41.59.51 0 1.02-.2 1.41-.59l7.78-7.78 2.81-2.81c.8-.78.8-2.07 0-2.86zM5.41 20L4 18.59l7.72-7.72 1.47 1.35L5.41 20z\"/>\n",
              "  </svg>\n",
              "      </button>\n",
              "      \n",
              "  <style>\n",
              "    .colab-df-container {\n",
              "      display:flex;\n",
              "      flex-wrap:wrap;\n",
              "      gap: 12px;\n",
              "    }\n",
              "\n",
              "    .colab-df-convert {\n",
              "      background-color: #E8F0FE;\n",
              "      border: none;\n",
              "      border-radius: 50%;\n",
              "      cursor: pointer;\n",
              "      display: none;\n",
              "      fill: #1967D2;\n",
              "      height: 32px;\n",
              "      padding: 0 0 0 0;\n",
              "      width: 32px;\n",
              "    }\n",
              "\n",
              "    .colab-df-convert:hover {\n",
              "      background-color: #E2EBFA;\n",
              "      box-shadow: 0px 1px 2px rgba(60, 64, 67, 0.3), 0px 1px 3px 1px rgba(60, 64, 67, 0.15);\n",
              "      fill: #174EA6;\n",
              "    }\n",
              "\n",
              "    [theme=dark] .colab-df-convert {\n",
              "      background-color: #3B4455;\n",
              "      fill: #D2E3FC;\n",
              "    }\n",
              "\n",
              "    [theme=dark] .colab-df-convert:hover {\n",
              "      background-color: #434B5C;\n",
              "      box-shadow: 0px 1px 3px 1px rgba(0, 0, 0, 0.15);\n",
              "      filter: drop-shadow(0px 1px 2px rgba(0, 0, 0, 0.3));\n",
              "      fill: #FFFFFF;\n",
              "    }\n",
              "  </style>\n",
              "\n",
              "      <script>\n",
              "        const buttonEl =\n",
              "          document.querySelector('#df-7a0584a1-fc0f-49f4-b42d-ca3ab03f7d1b button.colab-df-convert');\n",
              "        buttonEl.style.display =\n",
              "          google.colab.kernel.accessAllowed ? 'block' : 'none';\n",
              "\n",
              "        async function convertToInteractive(key) {\n",
              "          const element = document.querySelector('#df-7a0584a1-fc0f-49f4-b42d-ca3ab03f7d1b');\n",
              "          const dataTable =\n",
              "            await google.colab.kernel.invokeFunction('convertToInteractive',\n",
              "                                                     [key], {});\n",
              "          if (!dataTable) return;\n",
              "\n",
              "          const docLinkHtml = 'Like what you see? Visit the ' +\n",
              "            '<a target=\"_blank\" href=https://colab.research.google.com/notebooks/data_table.ipynb>data table notebook</a>'\n",
              "            + ' to learn more about interactive tables.';\n",
              "          element.innerHTML = '';\n",
              "          dataTable['output_type'] = 'display_data';\n",
              "          await google.colab.output.renderOutput(dataTable, element);\n",
              "          const docLink = document.createElement('div');\n",
              "          docLink.innerHTML = docLinkHtml;\n",
              "          element.appendChild(docLink);\n",
              "        }\n",
              "      </script>\n",
              "    </div>\n",
              "  </div>\n",
              "  "
            ]
          },
          "metadata": {},
          "execution_count": 6
        }
      ]
    },
    {
      "cell_type": "code",
      "metadata": {
        "colab": {
          "base_uri": "https://localhost:8080/"
        },
        "id": "qVRNrHS9kJAD",
        "outputId": "39cbe79a-2144-4dd9-e020-06f15a602a1f"
      },
      "source": [
        "#see new data size\n",
        "data_new.shape"
      ],
      "execution_count": null,
      "outputs": [
        {
          "output_type": "execute_result",
          "data": {
            "text/plain": [
              "(14999, 19)"
            ]
          },
          "metadata": {},
          "execution_count": 7
        }
      ]
    },
    {
      "cell_type": "code",
      "metadata": {
        "colab": {
          "base_uri": "https://localhost:8080/"
        },
        "id": "fs1M7_iskPoa",
        "outputId": "471f6efa-e3ae-4d2b-9340-8aad8684d48b"
      },
      "source": [
        "#learn new data types\n",
        "data_new.dtypes"
      ],
      "execution_count": null,
      "outputs": [
        {
          "output_type": "execute_result",
          "data": {
            "text/plain": [
              "satisfaction_level       float64\n",
              "last_evaluation          float64\n",
              "number_project             int64\n",
              "average_montly_hours       int64\n",
              "time_spend_company         int64\n",
              "Work_accident              int64\n",
              "left                       int64\n",
              "promotion_last_5years      int64\n",
              "sales_RandD                uint8\n",
              "sales_accounting           uint8\n",
              "sales_hr                   uint8\n",
              "sales_management           uint8\n",
              "sales_marketing            uint8\n",
              "sales_product_mng          uint8\n",
              "sales_sales                uint8\n",
              "sales_support              uint8\n",
              "sales_technical            uint8\n",
              "salary_low                 uint8\n",
              "salary_medium              uint8\n",
              "dtype: object"
            ]
          },
          "metadata": {},
          "execution_count": 8
        }
      ]
    },
    {
      "cell_type": "code",
      "metadata": {
        "colab": {
          "base_uri": "https://localhost:8080/"
        },
        "id": "eYO6oLMskV1p",
        "outputId": "8451e84c-b613-4c04-f8fe-5c035a42117c"
      },
      "source": [
        "#find out the number of values in the target variable\n",
        "data.left.value_counts()"
      ],
      "execution_count": null,
      "outputs": [
        {
          "output_type": "execute_result",
          "data": {
            "text/plain": [
              "0    11428\n",
              "1     3571\n",
              "Name: left, dtype: int64"
            ]
          },
          "metadata": {},
          "execution_count": 9
        }
      ]
    },
    {
      "cell_type": "code",
      "metadata": {
        "id": "_3Tz9sqHlBYY"
      },
      "source": [
        "#dependent and independent variable distinction\n",
        "X = data_new.drop(\"left\", axis = 1)\n",
        "y = data_new[\"left\"]"
      ],
      "execution_count": null,
      "outputs": []
    },
    {
      "cell_type": "code",
      "metadata": {
        "id": "dpJal_5klDsA"
      },
      "source": [
        "#scale the dataset with the standard scaler\n",
        "\n",
        "X_train,X_test,y_train,y_test = train_test_split(X,y, test_size = 0.3, random_state = 42)\n",
        "\n",
        "std_mdl = StandardScaler().fit(X_train)\n",
        "X_train = std_mdl.transform(X_train)\n",
        "X_test = std_mdl.transform(X_test)"
      ],
      "execution_count": null,
      "outputs": []
    },
    {
      "cell_type": "markdown",
      "metadata": {
        "id": "BdhcoD1wBF63"
      },
      "source": [
        "### **Building the Models** \n",
        "\n",
        "Company X's employee satisfaction will be modeled using 5 different classification methods, including Bagging classifier algorithm, Random Forest classifier algorithm, Gradient Boosting classifier algorithm, XGBoost classifier algorithm and AdaBoost classifier algorithm."
      ]
    },
    {
      "cell_type": "markdown",
      "metadata": {
        "id": "g7iXXEvxy_MN"
      },
      "source": [
        "### **Bagging Classifier Algorithm**"
      ]
    },
    {
      "cell_type": "code",
      "metadata": {
        "colab": {
          "base_uri": "https://localhost:8080/"
        },
        "id": "j7RJEmdNlO3m",
        "outputId": "47a72d17-2175-415f-abcf-c59dd2fdbd99"
      },
      "source": [
        "#fit the model\n",
        "\n",
        "mdl1=BaggingClassifier(n_estimators=100, max_samples=0.1)\n",
        "mdl1.fit(X_train,y_train)"
      ],
      "execution_count": null,
      "outputs": [
        {
          "output_type": "execute_result",
          "data": {
            "text/plain": [
              "BaggingClassifier(max_samples=0.1, n_estimators=100)"
            ]
          },
          "metadata": {},
          "execution_count": 12
        }
      ]
    },
    {
      "cell_type": "code",
      "metadata": {
        "colab": {
          "base_uri": "https://localhost:8080/"
        },
        "id": "0sCld-WDlY4P",
        "outputId": "c1feeec4-c68a-4f0f-e7f9-8dc31311c715"
      },
      "source": [
        "#calculate accuracy scores of model training and test data\n",
        "ypred_train1 = mdl1.predict(X_train)\n",
        "ypred_test1 = mdl1.predict(X_test)\n",
        "\n",
        "bagging_training_accuracy=accuracy_score(y_train,ypred_train1)\n",
        "print(bagging_training_accuracy)\n",
        "\n",
        "bagging_testing_accuracy=accuracy_score(y_test,ypred_test1)\n",
        "print(bagging_testing_accuracy)"
      ],
      "execution_count": null,
      "outputs": [
        {
          "output_type": "stream",
          "name": "stdout",
          "text": [
            "0.9797123535574817\n",
            "0.9731111111111111\n"
          ]
        }
      ]
    },
    {
      "cell_type": "code",
      "metadata": {
        "colab": {
          "base_uri": "https://localhost:8080/"
        },
        "id": "OYelSIOFleIT",
        "outputId": "24b7ee84-af07-47e3-8c6c-f8e421cf03a1"
      },
      "source": [
        "#calculate the performance measurement\n",
        "print(confusion_matrix(y_test,ypred_test1))\n",
        "\n",
        "bagging_recall=recall_score(y_test,ypred_test1)\n",
        "print(bagging_recall)\n",
        "\n",
        "bagging_precision=precision_score(y_test,ypred_test1)\n",
        "print(bagging_precision)\n",
        "\n",
        "bagging_f1=f1_score(y_test,ypred_test1)\n",
        "print(bagging_f1)"
      ],
      "execution_count": null,
      "outputs": [
        {
          "output_type": "stream",
          "name": "stdout",
          "text": [
            "[[3410   18]\n",
            " [ 103  969]]\n",
            "0.9039179104477612\n",
            "0.9817629179331308\n",
            "0.9412336085478388\n"
          ]
        }
      ]
    },
    {
      "cell_type": "code",
      "metadata": {
        "colab": {
          "base_uri": "https://localhost:8080/"
        },
        "id": "z3mWSW8ypLaG",
        "outputId": "0b7759e7-d846-4e25-ebfd-44f178eabb45"
      },
      "source": [
        "# show the classification report\n",
        "print(classification_report(y_test,ypred_test1))"
      ],
      "execution_count": null,
      "outputs": [
        {
          "output_type": "stream",
          "name": "stdout",
          "text": [
            "              precision    recall  f1-score   support\n",
            "\n",
            "           0       0.97      0.99      0.98      3428\n",
            "           1       0.98      0.90      0.94      1072\n",
            "\n",
            "    accuracy                           0.97      4500\n",
            "   macro avg       0.98      0.95      0.96      4500\n",
            "weighted avg       0.97      0.97      0.97      4500\n",
            "\n"
          ]
        }
      ]
    },
    {
      "cell_type": "code",
      "metadata": {
        "id": "p48qnuf8pOZ4"
      },
      "source": [
        "# Plot the ROC graph\n",
        "\n",
        "probs = mdl1.predict_proba(X_test)\n",
        "preds = probs[:,1]\n",
        "fpr, tpr, threshold = metrics.roc_curve(y_test, preds)\n",
        "roc_auc = metrics.auc(fpr, tpr)"
      ],
      "execution_count": null,
      "outputs": []
    },
    {
      "cell_type": "code",
      "metadata": {
        "colab": {
          "base_uri": "https://localhost:8080/"
        },
        "id": "_9y7ILN0pQr4",
        "outputId": "7e29f185-4503-4a25-8707-7817c02d24be"
      },
      "source": [
        "plt.title('Receiver Operating Characteristic')\n",
        "plt.plot(fpr, tpr, 'b', label = 'AUC = %0.2f' % roc_auc)\n",
        "plt.legend(loc = 'lower right')\n",
        "plt.plot([0, 1], [0, 1],'r--')\n",
        "plt.xlim([0, 1])\n",
        "plt.ylim([0, 1])\n",
        "plt.ylabel('True Positive Rate')\n",
        "plt.xlabel('False Positive Rate')\n",
        "plt.show()"
      ],
      "execution_count": null,
      "outputs": [
        {
          "output_type": "display_data",
          "data": {
            "text/plain": [
              "<Figure size 432x288 with 1 Axes>"
            ],
            "image/png": "[encoded data removed]"
          },
          "metadata": {
            "needs_background": "light"
          }
        }
      ]
    },
    {
      "cell_type": "code",
      "metadata": {
        "colab": {
          "base_uri": "https://localhost:8080/"
        },
        "id": "giiLJC0lpTQh",
        "outputId": "2d0fde95-f1da-41b7-8312-98e580be4628"
      },
      "source": [
        "# Confusion Matrix Visualization\n",
        "sns.heatmap(confusion_matrix(y_test,ypred_test1), cmap='Blues', annot=True,fmt='d')\n",
        "plt.ylabel(\"True Values\")\n",
        "plt.xlabel(\"Predicted Values\")\n",
        "plt.title(\"Confusion Matrix Visualization\")\n",
        "plt.show()"
      ],
      "execution_count": null,
      "outputs": [
        {
          "output_type": "display_data",
          "data": {
            "text/plain": [
              "<Figure size 432x288 with 2 Axes>"
            ],
            "image/png": "[encoded data removed]"
          },
          "metadata": {
            "needs_background": "light"
          }
        }
      ]
    },
    {
      "cell_type": "markdown",
      "metadata": {
        "id": "9PoMWfm-zDcZ"
      },
      "source": [
        "### **Random Forest Classifier Algorithm**"
      ]
    },
    {
      "cell_type": "code",
      "metadata": {
        "colab": {
          "base_uri": "https://localhost:8080/"
        },
        "id": "MTwadlZnpUzy",
        "outputId": "604b0d6d-1e26-40a1-e7d2-7ed28f12bf6d"
      },
      "source": [
        "#fit the model\n",
        "\n",
        "mdl2=RandomForestClassifier(n_estimators=100, max_samples=0.1, random_state=42)\n",
        "mdl2.fit(X_train,y_train)"
      ],
      "execution_count": null,
      "outputs": [
        {
          "output_type": "execute_result",
          "data": {
            "text/plain": [
              "RandomForestClassifier(max_samples=0.1, random_state=42)"
            ]
          },
          "metadata": {},
          "execution_count": 19
        }
      ]
    },
    {
      "cell_type": "code",
      "metadata": {
        "colab": {
          "base_uri": "https://localhost:8080/"
        },
        "id": "7tdd394Npoe9",
        "outputId": "a92a64c7-4a09-450f-8395-ec469f73482e"
      },
      "source": [
        "#calculate accuracy scores of model training and test data\n",
        "ypred_train2 = mdl2.predict(X_train)\n",
        "ypred_test2 = mdl2.predict(X_test)\n",
        "\n",
        "randomforest_training_accuracy=accuracy_score(y_train,ypred_train2)\n",
        "print(randomforest_training_accuracy)\n",
        "\n",
        "randomforest_testing_accuracy=accuracy_score(y_test,ypred_test2)\n",
        "print(randomforest_testing_accuracy)"
      ],
      "execution_count": null,
      "outputs": [
        {
          "output_type": "stream",
          "name": "stdout",
          "text": [
            "0.9783788932279265\n",
            "0.9708888888888889\n"
          ]
        }
      ]
    },
    {
      "cell_type": "code",
      "metadata": {
        "colab": {
          "base_uri": "https://localhost:8080/"
        },
        "id": "FZf1klmGprKp",
        "outputId": "63490238-524c-4d1e-f58b-3962e7cb9504"
      },
      "source": [
        "#calculate the performance measurement\n",
        "\n",
        "print(confusion_matrix(y_test,ypred_test2))\n",
        "\n",
        "randomforest_recall=recall_score(y_test,ypred_test2)\n",
        "print(randomforest_recall)\n",
        "\n",
        "randomforest_precision=precision_score(y_test,ypred_test2)\n",
        "print(randomforest_precision)\n",
        "\n",
        "randomforest_f1=f1_score(y_test,ypred_test2)\n",
        "print(randomforest_f1)"
      ],
      "execution_count": null,
      "outputs": [
        {
          "output_type": "stream",
          "name": "stdout",
          "text": [
            "[[3409   19]\n",
            " [ 112  960]]\n",
            "0.8955223880597015\n",
            "0.9805924412665986\n",
            "0.9361287176986837\n"
          ]
        }
      ]
    },
    {
      "cell_type": "code",
      "metadata": {
        "colab": {
          "base_uri": "https://localhost:8080/"
        },
        "id": "ii2R7hjjptZw",
        "outputId": "b0c4e703-b9f5-4789-9f72-e8b7f6a81392"
      },
      "source": [
        "# show the classification report\n",
        "print(classification_report(y_test,ypred_test2))"
      ],
      "execution_count": null,
      "outputs": [
        {
          "output_type": "stream",
          "name": "stdout",
          "text": [
            "              precision    recall  f1-score   support\n",
            "\n",
            "           0       0.97      0.99      0.98      3428\n",
            "           1       0.98      0.90      0.94      1072\n",
            "\n",
            "    accuracy                           0.97      4500\n",
            "   macro avg       0.97      0.94      0.96      4500\n",
            "weighted avg       0.97      0.97      0.97      4500\n",
            "\n"
          ]
        }
      ]
    },
    {
      "cell_type": "code",
      "metadata": {
        "id": "nG0iR8TjpvfE"
      },
      "source": [
        "# Plot the ROC graph\n",
        "probs = mdl2.predict_proba(X_test)\n",
        "preds = probs[:,1]\n",
        "fpr, tpr, threshold = metrics.roc_curve(y_test, preds)\n",
        "roc_auc = metrics.auc(fpr, tpr)"
      ],
      "execution_count": null,
      "outputs": []
    },
    {
      "cell_type": "code",
      "metadata": {
        "colab": {
          "base_uri": "https://localhost:8080/"
        },
        "id": "RwFt1t8opwoE",
        "outputId": "c02be11c-6985-4ddd-c746-712c27059b5f"
      },
      "source": [
        "plt.title('Receiver Operating Characteristic')\n",
        "plt.plot(fpr, tpr, 'b', label = 'AUC = %0.2f' % roc_auc)\n",
        "plt.legend(loc = 'lower right')\n",
        "plt.plot([0, 1], [0, 1],'r--')\n",
        "plt.xlim([0, 1])\n",
        "plt.ylim([0, 1])\n",
        "plt.ylabel('True Positive Rate')\n",
        "plt.xlabel('False Positive Rate')\n",
        "plt.show()"
      ],
      "execution_count": null,
      "outputs": [
        {
          "output_type": "display_data",
          "data": {
            "text/plain": [
              "<Figure size 432x288 with 1 Axes>"
            ],
            "image/png": "[encoded data removed]"
          },
          "metadata": {
            "needs_background": "light"
          }
        }
      ]
    },
    {
      "cell_type": "code",
      "metadata": {
        "colab": {
          "base_uri": "https://localhost:8080/"
        },
        "id": "UK_hcrghp0ka",
        "outputId": "c268e198-f5d5-4f45-f8d8-13db89a87232"
      },
      "source": [
        "# Confusion Matrix Visualization\n",
        "sns.heatmap(confusion_matrix(y_test,ypred_test2), cmap='Blues', annot=True,fmt='d')\n",
        "plt.ylabel(\"True Values\")\n",
        "plt.xlabel(\"Predicted Values\")\n",
        "plt.title(\"Confusion Matrix Visualization\")\n",
        "plt.show()"
      ],
      "execution_count": null,
      "outputs": [
        {
          "output_type": "display_data",
          "data": {
            "text/plain": [
              "<Figure size 432x288 with 2 Axes>"
            ],
            "image/png": "[encoded data removed]"
          },
          "metadata": {
            "needs_background": "light"
          }
        }
      ]
    },
    {
      "cell_type": "markdown",
      "metadata": {
        "id": "C6jxHZkpzH1C"
      },
      "source": [
        "### **Gradient Boosting Classifier Algorithm**"
      ]
    },
    {
      "cell_type": "code",
      "metadata": {
        "colab": {
          "base_uri": "https://localhost:8080/"
        },
        "id": "CsnvRmCzp13R",
        "outputId": "67d16748-04c5-4078-d1a6-406085873361"
      },
      "source": [
        "#fit the model\n",
        "\n",
        "mdl3 = GradientBoostingClassifier(learning_rate=0.1,n_estimators=100)\n",
        "mdl3.fit(X_train,y_train)"
      ],
      "execution_count": null,
      "outputs": [
        {
          "output_type": "execute_result",
          "data": {
            "text/plain": [
              "GradientBoostingClassifier()"
            ]
          },
          "metadata": {},
          "execution_count": 26
        }
      ]
    },
    {
      "cell_type": "code",
      "metadata": {
        "colab": {
          "base_uri": "https://localhost:8080/"
        },
        "id": "KChs5Xs5p-5z",
        "outputId": "fa37effd-d805-4b96-88f0-1a8bf8aca2a2"
      },
      "source": [
        "#calculate accuracy scores of model training and test data\n",
        "ypred_train3 = mdl3.predict(X_train)\n",
        "ypred_test3 = mdl3.predict(X_test)\n",
        "\n",
        "\n",
        "gradient_training_accuracy=accuracy_score(y_train,ypred_train3)\n",
        "print(gradient_training_accuracy)\n",
        "\n",
        "gradient_testing_accuracy=accuracy_score(y_test,ypred_test3)\n",
        "print(gradient_testing_accuracy)"
      ],
      "execution_count": null,
      "outputs": [
        {
          "output_type": "stream",
          "name": "stdout",
          "text": [
            "0.9792361177254977\n",
            "0.9724444444444444\n"
          ]
        }
      ]
    },
    {
      "cell_type": "code",
      "metadata": {
        "colab": {
          "base_uri": "https://localhost:8080/"
        },
        "id": "0G5JhkWVqCEh",
        "outputId": "d70bad4d-66ca-43c0-f8b1-f7cefdd250b1"
      },
      "source": [
        "#calculate the performance measurement\n",
        "print(confusion_matrix(y_test,ypred_test3))\n",
        "\n",
        "gradient_recall=recall_score(y_test,ypred_test3)\n",
        "print(gradient_recall)\n",
        "\n",
        "gradient_precision=precision_score(y_test,ypred_test3)\n",
        "print(gradient_precision)\n",
        "\n",
        "gradient_f1=f1_score(y_test,ypred_test3)\n",
        "print(gradient_f1)"
      ],
      "execution_count": null,
      "outputs": [
        {
          "output_type": "stream",
          "name": "stdout",
          "text": [
            "[[3388   40]\n",
            " [  84  988]]\n",
            "0.9216417910447762\n",
            "0.9610894941634242\n",
            "0.940952380952381\n"
          ]
        }
      ]
    },
    {
      "cell_type": "code",
      "metadata": {
        "colab": {
          "base_uri": "https://localhost:8080/"
        },
        "id": "a9GTL0q9qEEt",
        "outputId": "8e2a18ba-e905-4d46-f907-751ce3f35039"
      },
      "source": [
        "# show the classification report\n",
        "print(classification_report(y_test,ypred_test3))"
      ],
      "execution_count": null,
      "outputs": [
        {
          "output_type": "stream",
          "name": "stdout",
          "text": [
            "              precision    recall  f1-score   support\n",
            "\n",
            "           0       0.98      0.99      0.98      3428\n",
            "           1       0.96      0.92      0.94      1072\n",
            "\n",
            "    accuracy                           0.97      4500\n",
            "   macro avg       0.97      0.95      0.96      4500\n",
            "weighted avg       0.97      0.97      0.97      4500\n",
            "\n"
          ]
        }
      ]
    },
    {
      "cell_type": "code",
      "metadata": {
        "id": "5wJEj-ZoqGTD"
      },
      "source": [
        "# Plot the ROC graph\n",
        "probs = mdl3.predict_proba(X_test)\n",
        "preds = probs[:,1]\n",
        "fpr, tpr, threshold = metrics.roc_curve(y_test, preds)\n",
        "roc_auc = metrics.auc(fpr, tpr)"
      ],
      "execution_count": null,
      "outputs": []
    },
    {
      "cell_type": "code",
      "metadata": {
        "colab": {
          "base_uri": "https://localhost:8080/"
        },
        "id": "cBKMIdC_qIbl",
        "outputId": "528737f1-9bfc-43b3-810f-3eb77443488f"
      },
      "source": [
        "plt.title('Receiver Operating Characteristic')\n",
        "plt.plot(fpr, tpr, 'b', label = 'AUC = %0.2f' % roc_auc)\n",
        "plt.legend(loc = 'lower right')\n",
        "plt.plot([0, 1], [0, 1],'r--')\n",
        "plt.xlim([0, 1])\n",
        "plt.ylim([0, 1])\n",
        "plt.ylabel('True Positive Rate')\n",
        "plt.xlabel('False Positive Rate')\n",
        "plt.show()"
      ],
      "execution_count": null,
      "outputs": [
        {
          "output_type": "display_data",
          "data": {
            "text/plain": [
              "<Figure size 432x288 with 1 Axes>"
            ],
            "image/png": "[encoded data removed]"
          },
          "metadata": {
            "needs_background": "light"
          }
        }
      ]
    },
    {
      "cell_type": "code",
      "metadata": {
        "colab": {
          "base_uri": "https://localhost:8080/"
        },
        "id": "iy2PXOv5qLkb",
        "outputId": "fe44d99c-c4d6-4b34-bbd9-5a5486db8442"
      },
      "source": [
        "# Confusion Matrix Visualization\n",
        "sns.heatmap(confusion_matrix(y_test,ypred_test3), cmap='Blues', annot=True,fmt='d')\n",
        "plt.ylabel(\"True Values\")\n",
        "plt.xlabel(\"Predicted Values\")\n",
        "plt.title(\"Confusion Matrix Visualization\")\n",
        "plt.show()"
      ],
      "execution_count": null,
      "outputs": [
        {
          "output_type": "display_data",
          "data": {
            "text/plain": [
              "<Figure size 432x288 with 2 Axes>"
            ],
            "image/png": "[encoded data removed]"
          },
          "metadata": {
            "needs_background": "light"
          }
        }
      ]
    },
    {
      "cell_type": "markdown",
      "metadata": {
        "id": "ggqKRw-AzL4e"
      },
      "source": [
        "### **XGBoost Classifier Algorithm**"
      ]
    },
    {
      "cell_type": "code",
      "metadata": {
        "colab": {
          "base_uri": "https://localhost:8080/"
        },
        "id": "rQLKujhvqPet",
        "outputId": "c4bfcf7c-6d6f-46b4-8186-7402e058a733"
      },
      "source": [
        "#fit the model\n",
        "\n",
        "mdl4= XGBClassifier(learning_rate=0.1,n_estimators=100)\n",
        "mdl4.fit(X_train, y_train)"
      ],
      "execution_count": null,
      "outputs": [
        {
          "output_type": "execute_result",
          "data": {
            "text/plain": [
              "XGBClassifier()"
            ]
          },
          "metadata": {},
          "execution_count": 33
        }
      ]
    },
    {
      "cell_type": "code",
      "metadata": {
        "colab": {
          "base_uri": "https://localhost:8080/"
        },
        "id": "ZUjbGfsxqTrs",
        "outputId": "6e7200fb-5df2-466a-8e45-4338903afa26"
      },
      "source": [
        "#calculate accuracy scores of model training and test data\n",
        "ypred_train4 = mdl4.predict(X_train)\n",
        "ypred_test4 = mdl4.predict(X_test)\n",
        "\n",
        "xgboost_training_accuracy=accuracy_score(y_train,ypred_train4)\n",
        "print(xgboost_training_accuracy)\n",
        "\n",
        "xgboost_testing_accuracy=accuracy_score(y_test,ypred_test4)\n",
        "print(xgboost_testing_accuracy)"
      ],
      "execution_count": null,
      "outputs": [
        {
          "output_type": "stream",
          "name": "stdout",
          "text": [
            "0.9782836460615296\n",
            "0.97\n"
          ]
        }
      ]
    },
    {
      "cell_type": "code",
      "metadata": {
        "colab": {
          "base_uri": "https://localhost:8080/"
        },
        "id": "SVniHUKcqWia",
        "outputId": "67bfebe3-21c9-4570-cc68-e0bf1f2448c2"
      },
      "source": [
        "#calculate the performance measurement\n",
        "\n",
        "print(confusion_matrix(y_test,ypred_test4))\n",
        "\n",
        "xgboost_recall=recall_score(y_test,ypred_test4)\n",
        "print(xgboost_recall)\n",
        "\n",
        "xgboost_precision=precision_score(y_test,ypred_test4)\n",
        "print(xgboost_precision)\n",
        "\n",
        "xgboost_f1=f1_score(y_test,ypred_test4)\n",
        "print(xgboost_f1)"
      ],
      "execution_count": null,
      "outputs": [
        {
          "output_type": "stream",
          "name": "stdout",
          "text": [
            "[[3388   40]\n",
            " [  95  977]]\n",
            "0.9113805970149254\n",
            "0.960668633235005\n",
            "0.935375777884155\n"
          ]
        }
      ]
    },
    {
      "cell_type": "code",
      "metadata": {
        "colab": {
          "base_uri": "https://localhost:8080/"
        },
        "id": "R-aNuX8Nqa4M",
        "outputId": "9d67b063-2e27-48dd-a845-696b51622948"
      },
      "source": [
        "# show the classification report\n",
        "print(classification_report(y_test,ypred_test4))"
      ],
      "execution_count": null,
      "outputs": [
        {
          "output_type": "stream",
          "name": "stdout",
          "text": [
            "              precision    recall  f1-score   support\n",
            "\n",
            "           0       0.97      0.99      0.98      3428\n",
            "           1       0.96      0.91      0.94      1072\n",
            "\n",
            "    accuracy                           0.97      4500\n",
            "   macro avg       0.97      0.95      0.96      4500\n",
            "weighted avg       0.97      0.97      0.97      4500\n",
            "\n"
          ]
        }
      ]
    },
    {
      "cell_type": "code",
      "metadata": {
        "id": "IRWAZAe-qdHT"
      },
      "source": [
        "# Plot the ROC graph\n",
        "probs = mdl4.predict_proba(X_test)\n",
        "preds = probs[:,1]\n",
        "fpr, tpr, threshold = metrics.roc_curve(y_test, preds)\n",
        "roc_auc = metrics.auc(fpr, tpr)"
      ],
      "execution_count": null,
      "outputs": []
    },
    {
      "cell_type": "code",
      "metadata": {
        "colab": {
          "base_uri": "https://localhost:8080/"
        },
        "id": "gybKThdeqfFu",
        "outputId": "948ed48b-836a-452d-9291-4e96ce7a8f4e"
      },
      "source": [
        "plt.title('Receiver Operating Characteristic')\n",
        "plt.plot(fpr, tpr, 'b', label = 'AUC = %0.2f' % roc_auc)\n",
        "plt.legend(loc = 'lower right')\n",
        "plt.plot([0, 1], [0, 1],'r--')\n",
        "plt.xlim([0, 1])\n",
        "plt.ylim([0, 1])\n",
        "plt.ylabel('True Positive Rate')\n",
        "plt.xlabel('False Positive Rate')\n",
        "plt.show()"
      ],
      "execution_count": null,
      "outputs": [
        {
          "output_type": "display_data",
          "data": {
            "text/plain": [
              "<Figure size 432x288 with 1 Axes>"
            ],
            "image/png": "[encoded data removed]"
          },
          "metadata": {
            "needs_background": "light"
          }
        }
      ]
    },
    {
      "cell_type": "code",
      "metadata": {
        "colab": {
          "base_uri": "https://localhost:8080/"
        },
        "id": "8-5KOrg-qhX8",
        "outputId": "3255236f-9bdf-40f8-d117-915dac387588"
      },
      "source": [
        "# Confusion Matrix Visualization\n",
        "sns.heatmap(confusion_matrix(y_test,ypred_test4), cmap='Blues', annot=True,fmt='d')\n",
        "plt.ylabel(\"True Values\")\n",
        "plt.xlabel(\"Predicted Values\")\n",
        "plt.title(\"Confusion Matrix Visualization\")\n",
        "plt.show()"
      ],
      "execution_count": null,
      "outputs": [
        {
          "output_type": "display_data",
          "data": {
            "text/plain": [
              "<Figure size 432x288 with 2 Axes>"
            ],
            "image/png": "[encoded data removed]"
          },
          "metadata": {
            "needs_background": "light"
          }
        }
      ]
    },
    {
      "cell_type": "markdown",
      "metadata": {
        "id": "3Nv23q5rzQA6"
      },
      "source": [
        "### **AdaBoost Classifier Algorithm** "
      ]
    },
    {
      "cell_type": "code",
      "metadata": {
        "colab": {
          "base_uri": "https://localhost:8080/"
        },
        "id": "3-KA-wp7qkam",
        "outputId": "4ac12f2e-27f4-4666-b4f5-263b821db5f3"
      },
      "source": [
        "#fit the model\n",
        "\n",
        "mdl5= AdaBoostClassifier(learning_rate=0.1,n_estimators=100)\n",
        "mdl5.fit(X_train, y_train)"
      ],
      "execution_count": null,
      "outputs": [
        {
          "output_type": "execute_result",
          "data": {
            "text/plain": [
              "AdaBoostClassifier(learning_rate=0.1, n_estimators=100)"
            ]
          },
          "metadata": {},
          "execution_count": 40
        }
      ]
    },
    {
      "cell_type": "code",
      "metadata": {
        "colab": {
          "base_uri": "https://localhost:8080/"
        },
        "id": "usV_NQpOqn2S",
        "outputId": "33b2d0be-3491-4a6a-8818-7b68ef17815d"
      },
      "source": [
        "#calculate accuracy scores of model training and test data\n",
        "ypred_train5 = mdl5.predict(X_train)\n",
        "ypred_test5 = mdl5.predict(X_test)\n",
        "\n",
        "adaboost_training_accuracy=accuracy_score(y_train,ypred_train5)\n",
        "print(adaboost_training_accuracy)\n",
        "\n",
        "adaboost_testing_accuracy=accuracy_score(y_test,ypred_test5)\n",
        "print(adaboost_testing_accuracy)"
      ],
      "execution_count": null,
      "outputs": [
        {
          "output_type": "stream",
          "name": "stdout",
          "text": [
            "0.9149442804076579\n",
            "0.9131111111111111\n"
          ]
        }
      ]
    },
    {
      "cell_type": "code",
      "metadata": {
        "colab": {
          "base_uri": "https://localhost:8080/"
        },
        "id": "0Yz5LDu5qqCU",
        "outputId": "8f10724b-59dd-470f-b856-11d348e861c1"
      },
      "source": [
        "#calculate the performance measurement\n",
        "\n",
        "print(confusion_matrix(y_test,ypred_test5))\n",
        "\n",
        "adaboost_recall=recall_score(y_test,ypred_test5)\n",
        "print(adaboost_recall)\n",
        "\n",
        "adaboost_precision=precision_score(y_test,ypred_test5)\n",
        "print(adaboost_precision)\n",
        "\n",
        "adaboost_f1=f1_score(y_test,ypred_test5)\n",
        "print(adaboost_f1)"
      ],
      "execution_count": null,
      "outputs": [
        {
          "output_type": "stream",
          "name": "stdout",
          "text": [
            "[[3363   65]\n",
            " [ 326  746]]\n",
            "0.6958955223880597\n",
            "0.9198520345252774\n",
            "0.7923526287838556\n"
          ]
        }
      ]
    },
    {
      "cell_type": "code",
      "metadata": {
        "colab": {
          "base_uri": "https://localhost:8080/"
        },
        "id": "xXhPEMOgqtes",
        "outputId": "6b7427d1-00d4-458d-f7df-04d745e2b49a"
      },
      "source": [
        "# show the classification report\n",
        "print(classification_report(y_test,ypred_test5))"
      ],
      "execution_count": null,
      "outputs": [
        {
          "output_type": "stream",
          "name": "stdout",
          "text": [
            "              precision    recall  f1-score   support\n",
            "\n",
            "           0       0.91      0.98      0.95      3428\n",
            "           1       0.92      0.70      0.79      1072\n",
            "\n",
            "    accuracy                           0.91      4500\n",
            "   macro avg       0.92      0.84      0.87      4500\n",
            "weighted avg       0.91      0.91      0.91      4500\n",
            "\n"
          ]
        }
      ]
    },
    {
      "cell_type": "code",
      "metadata": {
        "id": "bb4zO0xVqwzm"
      },
      "source": [
        "# Plot the ROC graph\n",
        "probs = mdl5.predict_proba(X_test)\n",
        "preds = probs[:,1]\n",
        "fpr, tpr, threshold = metrics.roc_curve(y_test, preds)\n",
        "roc_auc = metrics.auc(fpr, tpr)"
      ],
      "execution_count": null,
      "outputs": []
    },
    {
      "cell_type": "code",
      "metadata": {
        "colab": {
          "base_uri": "https://localhost:8080/"
        },
        "id": "oWEN3iRbqzOh",
        "outputId": "8f7be86b-8259-43f2-ba30-6d82abdad032"
      },
      "source": [
        "plt.title('Receiver Operating Characteristic')\n",
        "plt.plot(fpr, tpr, 'b', label = 'AUC = %0.2f' % roc_auc)\n",
        "plt.legend(loc = 'lower right')\n",
        "plt.plot([0, 1], [0, 1],'r--')\n",
        "plt.xlim([0, 1])\n",
        "plt.ylim([0, 1])\n",
        "plt.ylabel('True Positive Rate')\n",
        "plt.xlabel('False Positive Rate')\n",
        "plt.show()"
      ],
      "execution_count": null,
      "outputs": [
        {
          "output_type": "display_data",
          "data": {
            "text/plain": [
              "<Figure size 432x288 with 1 Axes>"
            ],
            "image/png": "[encoded data removed]"
          },
          "metadata": {
            "needs_background": "light"
          }
        }
      ]
    },
    {
      "cell_type": "code",
      "metadata": {
        "colab": {
          "base_uri": "https://localhost:8080/"
        },
        "id": "PXm01yNTq1bu",
        "outputId": "cd8e1d18-e4f6-4e77-839c-cd9ec71f4b5f"
      },
      "source": [
        "# Confusion Matrix Visualization\n",
        "sns.heatmap(confusion_matrix(y_test,ypred_test5), cmap='Blues', annot=True,fmt='d')\n",
        "plt.ylabel(\"True Values\")\n",
        "plt.xlabel(\"Predicted Values\")\n",
        "plt.title(\"Confusion Matrix Visualization\")\n",
        "plt.show()"
      ],
      "execution_count": null,
      "outputs": [
        {
          "output_type": "display_data",
          "data": {
            "text/plain": [
              "<Figure size 432x288 with 2 Axes>"
            ],
            "image/png": "[encoded data removed]"
          },
          "metadata": {
            "needs_background": "light"
          }
        }
      ]
    },
    {
      "cell_type": "markdown",
      "metadata": {
        "id": "qkM4bgUfmu2_"
      },
      "source": [
        "### **Results**\n",
        "\n",
        "The results from the table below can be summarized as follows. \n",
        "\n",
        "By using ensemble methods, it is seen that the method that best predicts Company X's employee satisfaction belongs to the Bagging classifier. Bagging method has the best classification accuracy and the largest AUC among the models. Besides, it is seen with the high values of the performance evaluation criteria and the AUC value that other ensemble methods give similar results with the Bagging method."
      ]
    },
    {
      "cell_type": "code",
      "metadata": {
        "colab": {
          "base_uri": "https://localhost:8080/"
        },
        "id": "1Y0elT9eJBR5",
        "outputId": "4d3fb0c3-2a94-4801-a08c-8d80b04ad832"
      },
      "source": [
        "!pip install texttable\n",
        "from texttable import Texttable\n",
        "t = Texttable()\n",
        "t.add_rows([['Model', 'Training Accuracy', 'Testing Accuracy', 'Test Precision', 'Test Recall', 'Test F1'], ['Bagging Method', bagging_training_accuracy, bagging_testing_accuracy, bagging_precision, bagging_recall, bagging_f1], ['Random Forest Method', randomforest_training_accuracy , randomforest_testing_accuracy , randomforest_precision,randomforest_recall, randomforest_f1], ['Gradient Boosting', gradient_training_accuracy,gradient_testing_accuracy,gradient_precision,gradient_recall,gradient_f1], ['XGBoost Method', xgboost_training_accuracy,xgboost_testing_accuracy,xgboost_precision, xgboost_recall, xgboost_f1],['AdaBoost Method', adaboost_training_accuracy,adaboost_testing_accuracy,adaboost_precision, adaboost_recall, adaboost_f1]])\n",
        "print(t.draw())"
      ],
      "execution_count": null,
      "outputs": [
        {
          "output_type": "stream",
          "name": "stdout",
          "text": [
            "Collecting texttable\n",
            "  Downloading texttable-1.6.4-py2.py3-none-any.whl (10 kB)\n",
            "Installing collected packages: texttable\n",
            "Successfully installed texttable-1.6.4\n",
            "+-------------+-------------+-------------+-------------+------------+---------+\n",
            "|    Model    |  Training   |   Testing   |    Test     |    Test    | Test F1 |\n",
            "|             |  Accuracy   |  Accuracy   |  Precision  |   Recall   |         |\n",
            "+=============+=============+=============+=============+============+=========+\n",
            "| Bagging     | 0.980       | 0.973       | 0.982       | 0.904      | 0.941   |\n",
            "| Method      |             |             |             |            |         |\n",
            "+-------------+-------------+-------------+-------------+------------+---------+\n",
            "| Random      | 0.978       | 0.971       | 0.981       | 0.896      | 0.936   |\n",
            "| Forest      |             |             |             |            |         |\n",
            "| Method      |             |             |             |            |         |\n",
            "+-------------+-------------+-------------+-------------+------------+---------+\n",
            "| Gradient    | 0.979       | 0.972       | 0.961       | 0.922      | 0.941   |\n",
            "| Boosting    |             |             |             |            |         |\n",
            "+-------------+-------------+-------------+-------------+------------+---------+\n",
            "| XGBoost     | 0.978       | 0.970       | 0.961       | 0.911      | 0.935   |\n",
            "| Method      |             |             |             |            |         |\n",
            "+-------------+-------------+-------------+-------------+------------+---------+\n",
            "| AdaBoost    | 0.915       | 0.913       | 0.920       | 0.696      | 0.792   |\n",
            "| Method      |             |             |             |            |         |\n",
            "+-------------+-------------+-------------+-------------+------------+---------+\n"
          ]
        }
      ]
    }
  ]
}