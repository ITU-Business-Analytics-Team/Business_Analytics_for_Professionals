{
  "nbformat": 4,
  "nbformat_minor": 0,
  "metadata": {
    "kernelspec": {
      "display_name": "Python 3",
      "language": "python",
      "name": "python3"
    },
    "language_info": {
      "codemirror_mode": {
        "name": "ipython",
        "version": 3
      },
      "file_extension": ".py",
      "mimetype": "text/x-python",
      "name": "python",
      "nbconvert_exporter": "python",
      "pygments_lexer": "ipython3",
      "version": "3.8.3"
    },
    "colab": {
      "name": "6.3-6.4.Feature Selection.ipynb",
      "provenance": [],
      "collapsed_sections": [],
      "toc_visible": true,
      "include_colab_link": true
    }
  },
  "cells": [
    {
      "cell_type": "markdown",
      "metadata": {
        "id": "view-in-github",
        "colab_type": "text"
      },
      "source": [
        "<a href=\"https://colab.research.google.com/github/ITU-Business-Analytics-Team/Business_Analytics_for_Professionals/blob/main/Part%20I%20%3A%20Methods%20%26%20Technologies%20for%20Business%20Analytics/Chapter%206%3A%20Feature%20Engineering/6_3_6_4_Feature_Selection.ipynb\" target=\"_parent\"><img src=\"https://colab.research.google.com/assets/colab-badge.svg\" alt=\"Open In Colab\"/></a>"
      ]
    },
    {
      "cell_type": "markdown",
      "metadata": {
        "id": "I055Ag08UnUB"
      },
      "source": [
        "# **Feature Selection**\n",
        "## Filtering & Wrapper"
      ]
    },
    {
      "cell_type": "code",
      "metadata": {
        "colab": {
          "base_uri": "https://localhost:8080/"
        },
        "id": "Y0FUVYTfQj5M",
        "outputId": "3f467ff5-c225-4f9d-ef89-17bf8ff8f24e"
      },
      "source": [
        "import pandas as pd\n",
        "import numpy as np \n",
        "\n",
        "from sklearn.feature_selection import chi2,mutual_info_classif,SelectKBest,RFE,SelectFromModel\n",
        "\n",
        "from sklearn.preprocessing import MinMaxScaler\n",
        "from sklearn.ensemble import RandomForestClassifier\n",
        "from sklearn.linear_model import LogisticRegression,RidgeClassifier\n",
        "\n",
        "from sklearn.model_selection import train_test_split\n",
        "\n",
        "!pip install shap\n",
        "import shap"
      ],
      "execution_count": null,
      "outputs": [
        {
          "output_type": "stream",
          "name": "stdout",
          "text": [
            "Requirement already satisfied: shap in /usr/local/lib/python3.7/dist-packages (0.40.0)\n",
            "Requirement already satisfied: scikit-learn in /usr/local/lib/python3.7/dist-packages (from shap) (0.22.2.post1)\n",
            "Requirement already satisfied: tqdm>4.25.0 in /usr/local/lib/python3.7/dist-packages (from shap) (4.62.3)\n",
            "Requirement already satisfied: slicer==0.0.7 in /usr/local/lib/python3.7/dist-packages (from shap) (0.0.7)\n",
            "Requirement already satisfied: packaging>20.9 in /usr/local/lib/python3.7/dist-packages (from shap) (21.0)\n",
            "Requirement already satisfied: numpy in /usr/local/lib/python3.7/dist-packages (from shap) (1.19.5)\n",
            "Requirement already satisfied: scipy in /usr/local/lib/python3.7/dist-packages (from shap) (1.4.1)\n",
            "Requirement already satisfied: numba in /usr/local/lib/python3.7/dist-packages (from shap) (0.51.2)\n",
            "Requirement already satisfied: pandas in /usr/local/lib/python3.7/dist-packages (from shap) (1.1.5)\n",
            "Requirement already satisfied: cloudpickle in /usr/local/lib/python3.7/dist-packages (from shap) (1.3.0)\n",
            "Requirement already satisfied: pyparsing>=2.0.2 in /usr/local/lib/python3.7/dist-packages (from packaging>20.9->shap) (2.4.7)\n",
            "Requirement already satisfied: setuptools in /usr/local/lib/python3.7/dist-packages (from numba->shap) (57.4.0)\n",
            "Requirement already satisfied: llvmlite<0.35,>=0.34.0.dev0 in /usr/local/lib/python3.7/dist-packages (from numba->shap) (0.34.0)\n",
            "Requirement already satisfied: python-dateutil>=2.7.3 in /usr/local/lib/python3.7/dist-packages (from pandas->shap) (2.8.2)\n",
            "Requirement already satisfied: pytz>=2017.2 in /usr/local/lib/python3.7/dist-packages (from pandas->shap) (2018.9)\n",
            "Requirement already satisfied: six>=1.5 in /usr/local/lib/python3.7/dist-packages (from python-dateutil>=2.7.3->pandas->shap) (1.15.0)\n",
            "Requirement already satisfied: joblib>=0.11 in /usr/local/lib/python3.7/dist-packages (from scikit-learn->shap) (1.0.1)\n"
          ]
        }
      ]
    },
    {
      "cell_type": "code",
      "metadata": {
        "id": "vVjhowsQQprQ"
      },
      "source": [
        "url=   'https://docs.google.com/spreadsheets/d/1sRzCCzWZ5NfEduSHnLPEh8GbiPxuQson/edit?usp=sharing&ouid=108589602591644119588&rtpof=true&sd=true'\n",
        "path = 'https://drive.google.com/uc?export=download&id='+url.split('/')[-2]\n",
        "df = pd.read_excel(path)"
      ],
      "execution_count": null,
      "outputs": []
    },
    {
      "cell_type": "code",
      "metadata": {
        "colab": {
          "base_uri": "https://localhost:8080/",
          "height": 206
        },
        "id": "S1R9VP2XQj5Q",
        "outputId": "f49fd1e0-b951-479a-bb04-68383c01fdb0"
      },
      "source": [
        "df.head()"
      ],
      "execution_count": null,
      "outputs": [
        {
          "output_type": "execute_result",
          "data": {
            "text/html": [
              "<div>\n",
              "<style scoped>\n",
              "    .dataframe tbody tr th:only-of-type {\n",
              "        vertical-align: middle;\n",
              "    }\n",
              "\n",
              "    .dataframe tbody tr th {\n",
              "        vertical-align: top;\n",
              "    }\n",
              "\n",
              "    .dataframe thead th {\n",
              "        text-align: right;\n",
              "    }\n",
              "</style>\n",
              "<table border=\"1\" class=\"dataframe\">\n",
              "  <thead>\n",
              "    <tr style=\"text-align: right;\">\n",
              "      <th></th>\n",
              "      <th>Purpose</th>\n",
              "      <th>Loan Duration</th>\n",
              "      <th>Account Balance</th>\n",
              "      <th>Pension Funds</th>\n",
              "      <th>Account Length</th>\n",
              "      <th>Sex</th>\n",
              "      <th>Marriage Status</th>\n",
              "      <th>Age</th>\n",
              "      <th>House</th>\n",
              "      <th>Job</th>\n",
              "      <th>Employed Duration</th>\n",
              "      <th>Credit Risk</th>\n",
              "    </tr>\n",
              "  </thead>\n",
              "  <tbody>\n",
              "    <tr>\n",
              "      <th>0</th>\n",
              "      <td>9</td>\n",
              "      <td>3</td>\n",
              "      <td>0</td>\n",
              "      <td>739</td>\n",
              "      <td>13</td>\n",
              "      <td>1</td>\n",
              "      <td>1</td>\n",
              "      <td>23</td>\n",
              "      <td>1</td>\n",
              "      <td>1</td>\n",
              "      <td>12</td>\n",
              "      <td>1</td>\n",
              "    </tr>\n",
              "    <tr>\n",
              "      <th>1</th>\n",
              "      <td>3</td>\n",
              "      <td>1</td>\n",
              "      <td>0</td>\n",
              "      <td>1230</td>\n",
              "      <td>25</td>\n",
              "      <td>1</td>\n",
              "      <td>2</td>\n",
              "      <td>32</td>\n",
              "      <td>1</td>\n",
              "      <td>3</td>\n",
              "      <td>0</td>\n",
              "      <td>1</td>\n",
              "    </tr>\n",
              "    <tr>\n",
              "      <th>2</th>\n",
              "      <td>5</td>\n",
              "      <td>4</td>\n",
              "      <td>0</td>\n",
              "      <td>389</td>\n",
              "      <td>19</td>\n",
              "      <td>1</td>\n",
              "      <td>1</td>\n",
              "      <td>38</td>\n",
              "      <td>1</td>\n",
              "      <td>2</td>\n",
              "      <td>119</td>\n",
              "      <td>1</td>\n",
              "    </tr>\n",
              "    <tr>\n",
              "      <th>3</th>\n",
              "      <td>3</td>\n",
              "      <td>2</td>\n",
              "      <td>638</td>\n",
              "      <td>347</td>\n",
              "      <td>13</td>\n",
              "      <td>1</td>\n",
              "      <td>1</td>\n",
              "      <td>36</td>\n",
              "      <td>1</td>\n",
              "      <td>1</td>\n",
              "      <td>14</td>\n",
              "      <td>0</td>\n",
              "    </tr>\n",
              "    <tr>\n",
              "      <th>4</th>\n",
              "      <td>2</td>\n",
              "      <td>3</td>\n",
              "      <td>963</td>\n",
              "      <td>4754</td>\n",
              "      <td>40</td>\n",
              "      <td>1</td>\n",
              "      <td>1</td>\n",
              "      <td>31</td>\n",
              "      <td>2</td>\n",
              "      <td>3</td>\n",
              "      <td>45</td>\n",
              "      <td>0</td>\n",
              "    </tr>\n",
              "  </tbody>\n",
              "</table>\n",
              "</div>"
            ],
            "text/plain": [
              "   Purpose  Loan Duration  Account Balance  ...  Job  Employed Duration  Credit Risk\n",
              "0        9              3                0  ...    1                 12            1\n",
              "1        3              1                0  ...    3                  0            1\n",
              "2        5              4                0  ...    2                119            1\n",
              "3        3              2              638  ...    1                 14            0\n",
              "4        2              3              963  ...    3                 45            0\n",
              "\n",
              "[5 rows x 12 columns]"
            ]
          },
          "metadata": {},
          "execution_count": 4
        }
      ]
    },
    {
      "cell_type": "markdown",
      "metadata": {
        "id": "U49FtcVHQj5R"
      },
      "source": [
        "Random Forest is used as the prediction method."
      ]
    },
    {
      "cell_type": "code",
      "metadata": {
        "id": "x189RYxwQj5S"
      },
      "source": [
        "#Prediction Function to test Feature Selection Methods\n",
        "def predict(X_train, y_train, X_test, y_test, method, features):\n",
        "    estimator = RandomForestClassifier(n_estimators = 50,random_state = 0,min_samples_split=2)\n",
        "    estimator = estimator.fit(X_train[features], y_train.values.ravel())\n",
        "    \n",
        "    return {\"Method\": method, \"Num_Features\": len(features), \"Features\": \",\".join(features), \"Accuracy\":estimator.score(X_test[features], y_test.values.ravel())}"
      ],
      "execution_count": null,
      "outputs": []
    },
    {
      "cell_type": "markdown",
      "metadata": {
        "id": "7SKnRqNAQj5T"
      },
      "source": [
        "All possible the number of features will be tested."
      ]
    },
    {
      "cell_type": "code",
      "metadata": {
        "id": "LD0tYScvQj5T"
      },
      "source": [
        "num_features = range(1,11)\n",
        "result = pd.DataFrame(columns=[\"Method\",\"Features\",\"Accuracy\"])\n",
        "\n",
        "X = df.drop(columns=['Credit Risk'])\n",
        "y = df[['Credit Risk']]\n",
        "X_train, X_test, y_train, y_test = train_test_split(X, y, test_size=0.2, random_state=1)"
      ],
      "execution_count": null,
      "outputs": []
    },
    {
      "cell_type": "markdown",
      "metadata": {
        "id": "2GA71x5vQj5U"
      },
      "source": [
        "Firstly, the result will be found using all the variables."
      ]
    },
    {
      "cell_type": "code",
      "metadata": {
        "id": "5XqbTeUrQj5U"
      },
      "source": [
        "result = result.append(predict(X_train, y_train, X_test, y_test, \"No Selection\", X.columns.tolist()), ignore_index=True)"
      ],
      "execution_count": null,
      "outputs": []
    },
    {
      "cell_type": "code",
      "metadata": {
        "colab": {
          "base_uri": "https://localhost:8080/"
        },
        "id": "YcHuUL0nQj5V",
        "outputId": "e87f0950-ffa5-40a3-9a54-97639bdfceac"
      },
      "source": [
        "estimator = RandomForestClassifier(n_estimators = 50,random_state = 0,min_samples_split=2)\n",
        "estimator = estimator.fit(X_train, y_train.values.ravel())\n",
        "estimator.predict_proba(X_test.iloc[0:1])[0][1]"
      ],
      "execution_count": null,
      "outputs": [
        {
          "output_type": "execute_result",
          "data": {
            "text/plain": [
              "0.98"
            ]
          },
          "metadata": {},
          "execution_count": 8
        }
      ]
    },
    {
      "cell_type": "markdown",
      "metadata": {
        "id": "e6w0J6g4Qj5W"
      },
      "source": [
        "### **1. Filter Based Methods**"
      ]
    },
    {
      "cell_type": "markdown",
      "metadata": {
        "id": "XNTzogGz_6zj"
      },
      "source": [
        "#### **Pearson Correlation**\n",
        "Variables are ordered according to the absolute value of the coefficient between the variable and the target variable."
      ]
    },
    {
      "cell_type": "code",
      "metadata": {
        "id": "0yBWnStTQj5W"
      },
      "source": [
        "def correlation_selector(X,y,num_feats):\n",
        "    cor_list = []\n",
        "    cor_feature = X.columns.tolist()\n",
        "    \n",
        "    if len(cor_feature) != num_feats:\n",
        "        # calculate the correlation with y for each feature\n",
        "        for i in cor_feature:\n",
        "            cor = np.corrcoef(X[i], y.values.ravel())[0, 1]\n",
        "            cor_list.append(cor)\n",
        "        # replace NaN with 0\n",
        "        cor_list = [0 if np.isnan(i) else i for i in cor_list]\n",
        "        # feature name\n",
        "        cor_feature = X.iloc[:,np.argsort(np.abs(cor_list))[-num_feats:]].columns.tolist()\n",
        "        \n",
        "    return cor_feature"
      ],
      "execution_count": null,
      "outputs": []
    },
    {
      "cell_type": "code",
      "metadata": {
        "id": "CBlsEo2WQj5X"
      },
      "source": [
        "for n in num_features:\n",
        "    cor_features = correlation_selector(X_train,y_train,n)\n",
        "    result = result.append(predict(X_train, y_train, X_test, y_test, \"Correlation\", cor_features), ignore_index=True)"
      ],
      "execution_count": null,
      "outputs": []
    },
    {
      "cell_type": "markdown",
      "metadata": {
        "id": "TaRFFqUoQj5Y"
      },
      "source": [
        "#### **Chi-Square Test**\n",
        "The existence and degree of a relevance between the variables and the target variable are detected. "
      ]
    },
    {
      "cell_type": "code",
      "metadata": {
        "id": "SH55v7CGQj5Y"
      },
      "source": [
        "def chiSquare_selector(X,y,num_feats):\n",
        "    chi_feature = X.columns.tolist()\n",
        "    if len(chi_feature) != num_feats:\n",
        "        X_norm = MinMaxScaler().fit_transform(X)\n",
        "        \n",
        "        chi_selector = SelectKBest(chi2, k=num_feats)\n",
        "        chi_selector.fit(X_norm, y.values.ravel())\n",
        "        chi_support = chi_selector.get_support()\n",
        "        chi_feature = X.loc[:,chi_support].columns.tolist()\n",
        "    \n",
        "    return chi_feature"
      ],
      "execution_count": null,
      "outputs": []
    },
    {
      "cell_type": "code",
      "metadata": {
        "id": "5gl9SHlRQj5Y"
      },
      "source": [
        "for n in num_features:\n",
        "    chi_features = chiSquare_selector(X_train,y_train,n)\n",
        "    result = result.append(predict(X_train, y_train, X_test, y_test, \"Chi-Square\", chi_features), ignore_index=True)"
      ],
      "execution_count": null,
      "outputs": []
    },
    {
      "cell_type": "markdown",
      "metadata": {
        "id": "-Yroen_1Qj5Z"
      },
      "source": [
        "#### **Mutual Information**\n",
        "The quantity of knowledge that one variable knows about another can be determined by mutual information (Battiti, 1994). If the value found is 0, this indicates that these variables are unrelated to one an-other. "
      ]
    },
    {
      "cell_type": "code",
      "metadata": {
        "id": "E7HQ9HVcQj5Z"
      },
      "source": [
        "def mutualInfo_selector(X,y,num_feats):\n",
        "    mi_feature = X.columns.tolist()\n",
        "    \n",
        "    if len(mi_feature) != num_feats:\n",
        "        \n",
        "        mi_selector = SelectKBest(mutual_info_classif, k=num_feats)\n",
        "        mi_selector.fit(X,y.values.ravel())\n",
        "        mi_support = mi_selector.get_support()\n",
        "        mi_feature = X.loc[:,mi_support].columns.tolist()\n",
        "    \n",
        "    return mi_feature"
      ],
      "execution_count": null,
      "outputs": []
    },
    {
      "cell_type": "code",
      "metadata": {
        "id": "RwOp_wG_Qj5Z"
      },
      "source": [
        "for n in num_features:\n",
        "    mi_features = mutualInfo_selector(X_train,y_train,n)\n",
        "    result = result.append(predict(X_train, y_train, X_test, y_test, \"Mutual Info\", mi_features), ignore_index=True)"
      ],
      "execution_count": null,
      "outputs": []
    },
    {
      "cell_type": "markdown",
      "metadata": {
        "id": "YoE6ePRFQj5Z"
      },
      "source": [
        "### **2.\tEmbedded Methods**"
      ]
    },
    {
      "cell_type": "markdown",
      "metadata": {
        "id": "JQS2nDA7_zFT"
      },
      "source": [
        "#### **LASSO**\n",
        "LASSO entails penalizing the coefficients' absolute values"
      ]
    },
    {
      "cell_type": "code",
      "metadata": {
        "id": "hk0iRCMfQj5a"
      },
      "source": [
        "def lasso_selector(X,y,num_feats):\n",
        "    embeded_lr_feature = X.columns.tolist()\n",
        "    \n",
        "    if len(embeded_lr_feature) != num_feats:\n",
        "        X_norm = MinMaxScaler().fit_transform(X)\n",
        "        \n",
        "        # We use Logistic Regression to perform L1 norm in a classification task\n",
        "        embeded_lr_selector = SelectFromModel(LogisticRegression(penalty=\"l1\",solver='liblinear',multi_class='auto'),threshold=-np.inf, max_features=num_feats)\n",
        "        embeded_lr_selector.fit(X_norm, y.values.ravel())\n",
        "        \n",
        "        embeded_lr_support = embeded_lr_selector.get_support()\n",
        "        embeded_lr_feature = X.loc[:,embeded_lr_support].columns.tolist()\n",
        "\n",
        "    return embeded_lr_feature"
      ],
      "execution_count": null,
      "outputs": []
    },
    {
      "cell_type": "code",
      "metadata": {
        "id": "AnbyYGT1Qj5a"
      },
      "source": [
        "for n in num_features:\n",
        "    lasso_features = lasso_selector(X_train,y_train,n)\n",
        "    result = result.append(predict(X_train, y_train, X_test, y_test, \"Lasso\", lasso_features), ignore_index=True)"
      ],
      "execution_count": null,
      "outputs": []
    },
    {
      "cell_type": "markdown",
      "metadata": {
        "id": "iBO7Y8n8Qj5a"
      },
      "source": [
        "#### **Ridge**\n",
        "The square of the coefficients is penalized in ridge. "
      ]
    },
    {
      "cell_type": "code",
      "metadata": {
        "id": "5srxs2RAQj5b"
      },
      "source": [
        "def ridge_selector(X,y,num_feats):\n",
        "    ridge_feature = X.columns.tolist()\n",
        "    \n",
        "    if len(ridge_feature) != num_feats:\n",
        "        X_norm = MinMaxScaler().fit_transform(X.apply(pd.to_numeric))\n",
        "        \n",
        "        #The classifier first converts the target values into {-1, 1} and then treats the problem as a regression task\n",
        "        ridge_selector = SelectFromModel(RidgeClassifier(alpha=0.5,random_state=1),threshold=-np.inf, max_features=num_feats)\n",
        "        \n",
        "        ridge_selector.fit(X_norm, y.values.ravel())\n",
        "        ridge_support = ridge_selector.get_support()\n",
        "        ridge_feature = X.loc[:,ridge_support].columns.tolist()\n",
        "    \n",
        "    return ridge_feature"
      ],
      "execution_count": null,
      "outputs": []
    },
    {
      "cell_type": "code",
      "metadata": {
        "id": "IbDxVgZAQj5b"
      },
      "source": [
        "for n in num_features:\n",
        "    ridge_features = ridge_selector(X_train,y_train,n)\n",
        "    result = result.append(predict(X_train, y_train, X_test, y_test, \"Ridge\", ridge_features), ignore_index=True)"
      ],
      "execution_count": null,
      "outputs": []
    },
    {
      "cell_type": "markdown",
      "metadata": {
        "id": "uMknjdJqQj5b"
      },
      "source": [
        "#### **Decision Tree Feature Importance**\n",
        "Relative importance of features can be calculated by using gini index or information gain for classification problems, variance reduction for regression. Thus, it is calculated that how much the variable re-duces the variance or impurity in the data."
      ]
    },
    {
      "cell_type": "code",
      "metadata": {
        "id": "yUvZAy6UQj5b"
      },
      "source": [
        "def tree_selector(X,y,num_feats):\n",
        "    embeded_feature = X.columns.tolist()\n",
        "    \n",
        "    if len(embeded_feature) != num_feats:\n",
        "        embeded_selector = SelectFromModel(RandomForestClassifier(n_estimators = 50,random_state = 1), threshold=-np.inf, max_features=num_feats)\n",
        "\n",
        "        embeded_selector.fit(X, y.values.ravel())\n",
        "        \n",
        "        embeded_support = embeded_selector.get_support()\n",
        "        embeded_feature = X.loc[:,embeded_support].columns.tolist()\n",
        "    \n",
        "    return embeded_feature"
      ],
      "execution_count": null,
      "outputs": []
    },
    {
      "cell_type": "code",
      "metadata": {
        "id": "1Dwm0UjhQj5c"
      },
      "source": [
        "for n in num_features:\n",
        "    tree_features = tree_selector(X_train,y_train,n)\n",
        "    result = result.append(predict(X_train, y_train, X_test, y_test, \"Tree\", tree_features), ignore_index=True)"
      ],
      "execution_count": null,
      "outputs": []
    },
    {
      "cell_type": "markdown",
      "metadata": {
        "id": "sB7918HkQj5c"
      },
      "source": [
        "### **3. Wrapper Methods**"
      ]
    },
    {
      "cell_type": "markdown",
      "metadata": {
        "id": "iwE5WjMT_l56"
      },
      "source": [
        "#### **Recursive Feature Elimination**\n",
        "The recursive feature elimination is an iterative approach. After the predictive performance cal-culated using all variables, the weakest performance feature is eliminated at each iteration."
      ]
    },
    {
      "cell_type": "code",
      "metadata": {
        "id": "1NH9MEwHQj5c"
      },
      "source": [
        "def recursive_selector(X,y,num_feats):\n",
        "    rfe_feature = X.columns.tolist()\n",
        "    \n",
        "    if len(rfe_feature) != num_feats:\n",
        "        estimator = RandomForestClassifier(n_estimators = 50,random_state = 1)\n",
        "        \n",
        "        rfe_selector = RFE(estimator=estimator, n_features_to_select=num_feats, step=10, verbose=0)\n",
        "        rfe_selector.fit(X, y.values.ravel())\n",
        "        rfe_support = rfe_selector.get_support()\n",
        "        rfe_feature = X.loc[:,rfe_support].columns.tolist()\n",
        "    \n",
        "    return rfe_feature"
      ],
      "execution_count": null,
      "outputs": []
    },
    {
      "cell_type": "code",
      "metadata": {
        "id": "N4jR7K2qQj5c"
      },
      "source": [
        "for n in num_features:\n",
        "    recursive_features = recursive_selector(X_train,y_train,n)\n",
        "    result = result.append(predict(X_train, y_train, X_test, y_test, \"Recursive\", recursive_features), ignore_index=True)"
      ],
      "execution_count": null,
      "outputs": []
    },
    {
      "cell_type": "markdown",
      "metadata": {
        "id": "bmdszcB3Qj5c"
      },
      "source": [
        "#### **SHAP Values**\n",
        "SHAP values is an alternative to the importance of permutation fea-tures. The relevance of the permutation feature is determined by the decline in model performance. The SHAP score is determined by the magnitude of feature attributions. The Shapley value is the average of all marginal contributions to all potential coalitions divided by the number of coalitions. "
      ]
    },
    {
      "cell_type": "code",
      "metadata": {
        "id": "Dh12RpWRQj5c"
      },
      "source": [
        "def shap_selector(X,y,num_feats):\n",
        "    shap_feature = X.columns.tolist()\n",
        "    \n",
        "    if len(shap_feature) != num_feats:\n",
        "        estimator = RandomForestClassifier(n_estimators = 50 ,random_state = 1)\n",
        "        \n",
        "        estimator.fit(X, y.values.ravel())\n",
        "        \n",
        "        explainer = shap.TreeExplainer(estimator)\n",
        "            \n",
        "        shap_values = explainer.shap_values(X)\n",
        "        \n",
        "        s=abs(np.array(shap_values).transpose((1,0,2)).sum(1)).mean(axis=0)\n",
        "        rankings = pd.DataFrame({'Variable':X.columns.tolist(),'SHAP_Value':s}).sort_values(by=['SHAP_Value'],ascending=False)\n",
        "        shap_feature=rankings.iloc[:num_feats]['Variable'].tolist()\n",
        "    \n",
        "    return shap_feature"
      ],
      "execution_count": null,
      "outputs": []
    },
    {
      "cell_type": "code",
      "metadata": {
        "id": "l0yqlYYNQj5d"
      },
      "source": [
        "for n in num_features:\n",
        "    shap_features = shap_selector(X_train,y_train,n)\n",
        "    result = result.append(predict(X_train, y_train, X_test, y_test, \"Shap\", shap_features), ignore_index=True)"
      ],
      "execution_count": null,
      "outputs": []
    },
    {
      "cell_type": "code",
      "metadata": {
        "colab": {
          "base_uri": "https://localhost:8080/",
          "height": 331
        },
        "id": "1EyyfiXPQj5d",
        "outputId": "648c2392-78d8-4ca9-e6c1-52f6a5aaadb9"
      },
      "source": [
        "result = result[result.groupby(['Method'])['Accuracy'].transform(max) == result['Accuracy']].drop_duplicates(['Method'])\n",
        "result"
      ],
      "execution_count": null,
      "outputs": [
        {
          "output_type": "execute_result",
          "data": {
            "text/html": [
              "<div>\n",
              "<style scoped>\n",
              "    .dataframe tbody tr th:only-of-type {\n",
              "        vertical-align: middle;\n",
              "    }\n",
              "\n",
              "    .dataframe tbody tr th {\n",
              "        vertical-align: top;\n",
              "    }\n",
              "\n",
              "    .dataframe thead th {\n",
              "        text-align: right;\n",
              "    }\n",
              "</style>\n",
              "<table border=\"1\" class=\"dataframe\">\n",
              "  <thead>\n",
              "    <tr style=\"text-align: right;\">\n",
              "      <th></th>\n",
              "      <th>Method</th>\n",
              "      <th>Features</th>\n",
              "      <th>Accuracy</th>\n",
              "      <th>Num_Features</th>\n",
              "    </tr>\n",
              "  </thead>\n",
              "  <tbody>\n",
              "    <tr>\n",
              "      <th>0</th>\n",
              "      <td>No Selection</td>\n",
              "      <td>Purpose,Loan Duration,Account Balance,Pension ...</td>\n",
              "      <td>0.917647</td>\n",
              "      <td>11.0</td>\n",
              "    </tr>\n",
              "    <tr>\n",
              "      <th>6</th>\n",
              "      <td>Correlation</td>\n",
              "      <td>Loan Duration,Purpose,Marriage Status,Employed...</td>\n",
              "      <td>0.964706</td>\n",
              "      <td>6.0</td>\n",
              "    </tr>\n",
              "    <tr>\n",
              "      <th>16</th>\n",
              "      <td>Chi-Square</td>\n",
              "      <td>Purpose,Loan Duration,Account Balance,Pension ...</td>\n",
              "      <td>0.988235</td>\n",
              "      <td>6.0</td>\n",
              "    </tr>\n",
              "    <tr>\n",
              "      <th>27</th>\n",
              "      <td>Mutual Info</td>\n",
              "      <td>Purpose,Loan Duration,Account Balance,Pension ...</td>\n",
              "      <td>0.952941</td>\n",
              "      <td>7.0</td>\n",
              "    </tr>\n",
              "    <tr>\n",
              "      <th>37</th>\n",
              "      <td>Lasso</td>\n",
              "      <td>Purpose,Account Balance,Pension Funds,Account ...</td>\n",
              "      <td>0.976471</td>\n",
              "      <td>7.0</td>\n",
              "    </tr>\n",
              "    <tr>\n",
              "      <th>47</th>\n",
              "      <td>Ridge</td>\n",
              "      <td>Purpose,Account Balance,Pension Funds,Account ...</td>\n",
              "      <td>0.976471</td>\n",
              "      <td>7.0</td>\n",
              "    </tr>\n",
              "    <tr>\n",
              "      <th>60</th>\n",
              "      <td>Tree</td>\n",
              "      <td>Purpose,Loan Duration,Account Balance,Pension ...</td>\n",
              "      <td>0.964706</td>\n",
              "      <td>10.0</td>\n",
              "    </tr>\n",
              "    <tr>\n",
              "      <th>70</th>\n",
              "      <td>Recursive</td>\n",
              "      <td>Purpose,Loan Duration,Account Balance,Pension ...</td>\n",
              "      <td>0.964706</td>\n",
              "      <td>10.0</td>\n",
              "    </tr>\n",
              "    <tr>\n",
              "      <th>79</th>\n",
              "      <td>Shap</td>\n",
              "      <td>Account Balance,Pension Funds,Age,Employed Dur...</td>\n",
              "      <td>0.964706</td>\n",
              "      <td>9.0</td>\n",
              "    </tr>\n",
              "  </tbody>\n",
              "</table>\n",
              "</div>"
            ],
            "text/plain": [
              "          Method  ... Num_Features\n",
              "0   No Selection  ...         11.0\n",
              "6    Correlation  ...          6.0\n",
              "16    Chi-Square  ...          6.0\n",
              "27   Mutual Info  ...          7.0\n",
              "37         Lasso  ...          7.0\n",
              "47         Ridge  ...          7.0\n",
              "60          Tree  ...         10.0\n",
              "70     Recursive  ...         10.0\n",
              "79          Shap  ...          9.0\n",
              "\n",
              "[9 rows x 4 columns]"
            ]
          },
          "metadata": {},
          "execution_count": 25
        }
      ]
    },
    {
      "cell_type": "code",
      "metadata": {
        "colab": {
          "base_uri": "https://localhost:8080/",
          "height": 81
        },
        "id": "TNLynIYRQj5d",
        "outputId": "9295e076-4c89-4a75-b5b1-93e248c29920"
      },
      "source": [
        "best = result.sort_values('Accuracy',ascending = False).head(1)\n",
        "best"
      ],
      "execution_count": null,
      "outputs": [
        {
          "output_type": "execute_result",
          "data": {
            "text/html": [
              "<div>\n",
              "<style scoped>\n",
              "    .dataframe tbody tr th:only-of-type {\n",
              "        vertical-align: middle;\n",
              "    }\n",
              "\n",
              "    .dataframe tbody tr th {\n",
              "        vertical-align: top;\n",
              "    }\n",
              "\n",
              "    .dataframe thead th {\n",
              "        text-align: right;\n",
              "    }\n",
              "</style>\n",
              "<table border=\"1\" class=\"dataframe\">\n",
              "  <thead>\n",
              "    <tr style=\"text-align: right;\">\n",
              "      <th></th>\n",
              "      <th>Method</th>\n",
              "      <th>Features</th>\n",
              "      <th>Accuracy</th>\n",
              "      <th>Num_Features</th>\n",
              "    </tr>\n",
              "  </thead>\n",
              "  <tbody>\n",
              "    <tr>\n",
              "      <th>16</th>\n",
              "      <td>Chi-Square</td>\n",
              "      <td>Purpose,Loan Duration,Account Balance,Pension ...</td>\n",
              "      <td>0.988235</td>\n",
              "      <td>6.0</td>\n",
              "    </tr>\n",
              "  </tbody>\n",
              "</table>\n",
              "</div>"
            ],
            "text/plain": [
              "        Method  ... Num_Features\n",
              "16  Chi-Square  ...          6.0\n",
              "\n",
              "[1 rows x 4 columns]"
            ]
          },
          "metadata": {},
          "execution_count": 26
        }
      ]
    },
    {
      "cell_type": "code",
      "metadata": {
        "colab": {
          "base_uri": "https://localhost:8080/"
        },
        "id": "Mb4Zz_F2Qj5d",
        "outputId": "ef88e9ad-662c-4950-fe51-bb007d03e525"
      },
      "source": [
        "print(best.Features.values)"
      ],
      "execution_count": null,
      "outputs": [
        {
          "output_type": "stream",
          "name": "stdout",
          "text": [
            "['Purpose,Loan Duration,Account Balance,Pension Funds,Marriage Status,Employed Duration']\n"
          ]
        }
      ]
    }
  ]
}