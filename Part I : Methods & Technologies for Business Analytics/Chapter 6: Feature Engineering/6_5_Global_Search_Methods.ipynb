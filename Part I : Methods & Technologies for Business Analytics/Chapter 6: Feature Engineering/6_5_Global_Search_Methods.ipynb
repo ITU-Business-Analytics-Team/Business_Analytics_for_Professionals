{
  "nbformat": 4,
  "nbformat_minor": 0,
  "metadata": {
    "kernelspec": {
      "display_name": "Python 3",
      "language": "python",
      "name": "python3"
    },
    "language_info": {
      "codemirror_mode": {
        "name": "ipython",
        "version": 3
      },
      "file_extension": ".py",
      "mimetype": "text/x-python",
      "name": "python",
      "nbconvert_exporter": "python",
      "pygments_lexer": "ipython3",
      "version": "3.8.5"
    },
    "colab": {
      "name": "6.5.Global Search Methods.ipynb",
      "provenance": [],
      "collapsed_sections": [],
      "include_colab_link": true
    }
  },
  "cells": [
    {
      "cell_type": "markdown",
      "metadata": {
        "id": "view-in-github",
        "colab_type": "text"
      },
      "source": [
        "<a href=\"https://colab.research.google.com/github/ITU-Business-Analytics-Team/Business_Analytics_for_Professionals/blob/main/Part%20I%20%3A%20Methods%20%26%20Technologies%20for%20Business%20Analytics/Chapter%206%3A%20Feature%20Engineering/6_5_Global_Search_Methods.ipynb\" target=\"_parent\"><img src=\"https://colab.research.google.com/assets/colab-badge.svg\" alt=\"Open In Colab\"/></a>"
      ]
    },
    {
      "cell_type": "markdown",
      "metadata": {
        "id": "U3YXibaPTnE6"
      },
      "source": [
        "# **Feature Engineering**\n",
        "## Global Search Methods"
      ]
    },
    {
      "cell_type": "markdown",
      "metadata": {
        "id": "TeS_TIigvMlE"
      },
      "source": [
        "[Dataset](https://archive.ics.uci.edu/ml/datasets/statlog+(german+credit+data)): from Kaggle"
      ]
    },
    {
      "cell_type": "markdown",
      "metadata": {
        "id": "1ED3w_uFTnE9"
      },
      "source": [
        "The ideal number of features in a prediction model is determined using some optimization algorithms in this section.\n",
        "\n",
        "Heuristic algorithms will be used for optimization.\n",
        "\n",
        "These algorithms are Genetic algorithm, Randomized search algorithm and Hill Climbing Algorithm."
      ]
    },
    {
      "cell_type": "markdown",
      "metadata": {
        "id": "HTnn6FlITnE_"
      },
      "source": [
        "### **1. Pure Naive Bayes Model Multinomial NB Alpha Default**"
      ]
    },
    {
      "cell_type": "markdown",
      "metadata": {
        "id": "nyT3K-ruTnFA"
      },
      "source": [
        "**Naive Bayes**\n",
        "\n",
        "Conditional probability calculation formula invented by Thomas Bayes in 1812. Naive Bayes determines the class in which the final state is located with Conditional probability ratio of all features. "
      ]
    },
    {
      "cell_type": "markdown",
      "metadata": {
        "id": "RRZ6CGptTnFB"
      },
      "source": [
        "**Formula of Naive Bayes:**\n",
        "\n",
        "\n",
        "\n",
        "$Pr[Class|Predictors]=(Pr[Class]×Pr[Predictors|Class|])/Pr[Predictors]$\n",
        "\n",
        "**Predictors:** Predictors represent the features requested from the customer. Our dataset consists of 11 different features.\n",
        "\n",
        "**Pr[Class|Predictors]:** It indicates how close it is probabilistic to which class according to the characteristics of the customer.\n",
        "\n",
        "\n",
        "**Pr[Class]/Pr[Predictors]:**  Statistically close to a class if we don't have any property information about the client.\n",
        "\n",
        "**Pr[Predictors|Class|]:** The status of which statistical class a client will be for each property.\n"
      ]
    },
    {
      "cell_type": "markdown",
      "metadata": {
        "id": "jdf0hPBMTnFC"
      },
      "source": [
        " **PROBLEM DATA**\n",
        "\n",
        "We determined a dataset for the case study. There are two classes in dataset according to whether they are suitable for credit or not. In the study, the bank wants to determine the credit status of the customer who applies for a loan. What is the probability of each credit class according to bank customer’s predictor data?  The dataset created by the bank is used as a train set and a test set for its previous customers."
      ]
    },
    {
      "cell_type": "code",
      "metadata": {
        "colab": {
          "base_uri": "https://localhost:8080/"
        },
        "id": "Sdg3F__nMsCL",
        "outputId": "3373349a-fab5-44df-a554-bd2d13524600"
      },
      "source": [
        "pip install -U scikit-learn"
      ],
      "execution_count": null,
      "outputs": [
        {
          "output_type": "stream",
          "name": "stdout",
          "text": [
            "Requirement already satisfied: scikit-learn in /usr/local/lib/python3.7/dist-packages (0.22.2.post1)\n",
            "Collecting scikit-learn\n",
            "  Downloading scikit_learn-1.0.1-cp37-cp37m-manylinux_2_12_x86_64.manylinux2010_x86_64.whl (23.2 MB)\n",
            "\u001b[K     |████████████████████████████████| 23.2 MB 1.3 MB/s \n",
            "\u001b[?25hRequirement already satisfied: numpy>=1.14.6 in /usr/local/lib/python3.7/dist-packages (from scikit-learn) (1.19.5)\n",
            "Collecting threadpoolctl>=2.0.0\n",
            "  Downloading threadpoolctl-3.0.0-py3-none-any.whl (14 kB)\n",
            "Requirement already satisfied: scipy>=1.1.0 in /usr/local/lib/python3.7/dist-packages (from scikit-learn) (1.4.1)\n",
            "Requirement already satisfied: joblib>=0.11 in /usr/local/lib/python3.7/dist-packages (from scikit-learn) (1.0.1)\n",
            "Installing collected packages: threadpoolctl, scikit-learn\n",
            "  Attempting uninstall: scikit-learn\n",
            "    Found existing installation: scikit-learn 0.22.2.post1\n",
            "    Uninstalling scikit-learn-0.22.2.post1:\n",
            "      Successfully uninstalled scikit-learn-0.22.2.post1\n",
            "Successfully installed scikit-learn-1.0.1 threadpoolctl-3.0.0\n"
          ]
        }
      ]
    },
    {
      "cell_type": "code",
      "metadata": {
        "colab": {
          "base_uri": "https://localhost:8080/",
          "height": 725
        },
        "id": "ZlVC4bAZTnFD",
        "outputId": "fbd9f238-64b8-48c0-c2bc-230543ebd8aa"
      },
      "source": [
        "import matplotlib.pyplot as plt\n",
        "import numpy as np\n",
        "import pandas as pd\n",
        "import scipy.io as sio\n",
        "from sklearn.model_selection import train_test_split\n",
        "from matplotlib import pyplot \n",
        "from sklearn.metrics import mean_squared_error,roc_auc_score,mean_absolute_percentage_error,roc_curve, auc,roc_auc_score,accuracy_score\n",
        "from sklearn.naive_bayes import MultinomialNB\n",
        "\n",
        "#mat = pd.read_csv(\"CreditRisk.csv\")\n",
        "url = \"https://drive.google.com/file/d/1038z5e5nQB0UH_xiFKCOGQN7J4x9ImK4/view?usp=sharing\"\n",
        "path = 'https://drive.google.com/uc?export=download&id='+url.split('/')[-2]\n",
        "mat = pd.read_csv(path)\n",
        "\n",
        "y = mat.iloc[:,11]\n",
        "x=mat.iloc[:,:-1]\n",
        "\n",
        "y=y.to_numpy()\n",
        "x=x.to_numpy()\n",
        "\n",
        "print(x.shape, y.shape)\n",
        "x_train, x_test, y_train, y_test = train_test_split(x, y, test_size=0.2, random_state=42)\n",
        "model = MultinomialNB()\n",
        "model.fit(x_train,y_train.ravel())\n",
        "y_score_pred = model.predict(x_test) \n",
        "\n",
        "# accuracy_score\n",
        "accuracy_score = accuracy_score (y_test, y_score_pred ) \n",
        "print ( 'accuracy_score:', accuracy_score)\n",
        "\n",
        "# mean_squared_error\n",
        "mse_test = mean_squared_error(y_test.ravel(),y_score_pred)  \n",
        "\n",
        "print ( 'mean square error:', mse_test)\n",
        "\n",
        "\n",
        "# ROC CURVE\n",
        "print(\"\\n\\t\\t-----ROC VALUE----\");\n",
        "fpr, tpr, _ = roc_curve(y_test, y_score_pred)\n",
        "roc_auc = auc(fpr, tpr)\n",
        "plt.figure()\n",
        "lw = 2\n",
        "plt.subplots(figsize=(10, 10));\n",
        "pyplot.plot(fpr, tpr, label='No Skill  curve (area=0.50)')\n",
        "plt.plot(fpr, tpr, color='darkorange',\n",
        "         lw=lw, label='NB-ROC curve (area = %0.2f)' % roc_auc)\n",
        "plt.plot([0, 1], [0, 1], color='navy', lw=lw, linestyle='--')\n",
        "plt.xlim([0.0, 1.0])\n",
        "plt.ylim([0.0, 1.05])\n",
        "plt.xlabel('False Positive Rate')\n",
        "plt.ylabel('True Positive Rate')\n",
        "plt.title('Receiver operating characteristic example')\n",
        "plt.legend(loc=\"lower right\")\n",
        "plt.show()"
      ],
      "execution_count": null,
      "outputs": [
        {
          "output_type": "stream",
          "name": "stdout",
          "text": [
            "(425, 11) (425,)\n",
            "accuracy_score: 0.7529411764705882\n",
            "mean square error: 0.24705882352941178\n",
            "\n",
            "\t\t-----ROC VALUE----\n"
          ]
        },
        {
          "output_type": "display_data",
          "data": {
            "text/plain": [
              "<Figure size 432x288 with 0 Axes>"
            ]
          },
          "metadata": {}
        },
        {
          "output_type": "display_data",
          "data": {
            "image/png": "[encoded data removed]",
            "text/plain": [
              "<Figure size 720x720 with 1 Axes>"
            ]
          },
          "metadata": {
            "needs_background": "light"
          }
        }
      ]
    },
    {
      "cell_type": "markdown",
      "metadata": {
        "id": "jYbL_oqwTnFG"
      },
      "source": [
        "**Accuracy score:**\n",
        "Represents the accuracy value of subset classes in multi-class distinctions. Large values of true negative and true positive indicate that the classification is more successful.\n",
        "\n",
        "\n",
        "**Receiver Operating Characteristic:**\n",
        "Roc is used to measure output quality. The Roc curve shows the true positive rate on the y-axis and the false positive rate on the x-axis. The larger the area under the AUC curve, the stronger the selectivity of the model.\n"
      ]
    },
    {
      "cell_type": "markdown",
      "metadata": {
        "id": "QrGRuXNvTnFG"
      },
      "source": [
        "## EXTRA  (Determine Deal Alpha Value for Naive Bayes)"
      ]
    },
    {
      "cell_type": "markdown",
      "metadata": {
        "id": "rSLsc9y7TnFH"
      },
      "source": [
        "### Pure Naive Bayes Model Multinomial NB Alpha is optimized by RandomizedSearchCV (accuracy)"
      ]
    },
    {
      "cell_type": "markdown",
      "metadata": {
        "id": "-_lL_v5UTnFH"
      },
      "source": [
        "Randomized search on hyper parameters.\n",
        "\n",
        "RandomizedSearchCV implements a “fit” and a “score” method. It also implements “score_samples”, “predict”, “predict_proba”, “decision_function”, “transform” and “inverse_transform” if they are implemented in the estimator used.\n",
        "\n",
        "The parameters of the estimator used to apply these methods are optimized by cross-validated search over parameter settings.\n",
        "\n",
        "In contrast to GridSearchCV, not all parameter values are tried out, but rather a fixed number of parameter settings is sampled from the specified distributions. The number of parameter settings that are tried is given by n_iter.\n",
        "\n",
        "If all parameters are presented as a list, sampling without replacement is performed. If at least one parameter is given as a distribution, sampling with replacement is used. It is highly recommended to use continuous distributions for continuous parameters."
      ]
    },
    {
      "cell_type": "code",
      "metadata": {
        "id": "YkKud02nTnFH",
        "colab": {
          "base_uri": "https://localhost:8080/"
        },
        "outputId": "b1f7c457-9ff4-467f-d5c3-e19412e7e322"
      },
      "source": [
        "from sklearn.model_selection import RandomizedSearchCV\n",
        "from scipy.stats import randint\n",
        "import scipy.stats as stats\n",
        "from sklearn.naive_bayes import MultinomialNB\n",
        "from scipy.stats import uniform\n",
        "from scipy.stats import expon\n",
        "from sklearn.metrics import mean_squared_error,roc_auc_score,mean_absolute_percentage_error,roc_curve, auc,roc_auc_score,accuracy_score\n",
        "from matplotlib import pyplot \n",
        "import matplotlib.pyplot as plt\n",
        "from sklearn.model_selection import train_test_split, cross_val_score, cross_val_predict\n",
        "import pandas as pd\n",
        "import numpy as np\n",
        "from sklearn import preprocessing\n",
        "from sklearn.preprocessing import StandardScaler\n",
        "from sklearn.utils.fixes import loguniform\n",
        "#mat = pd.read_csv(\"CreditRisk.csv\")\n",
        "url = \"https://drive.google.com/file/d/1038z5e5nQB0UH_xiFKCOGQN7J4x9ImK4/view?usp=sharing\"\n",
        "path = 'https://drive.google.com/uc?export=download&id='+url.split('/')[-2]\n",
        "mat = pd.read_csv(path)\n",
        "y = mat.iloc[:,11]\n",
        "x=mat.iloc[:,:-1]\n",
        "\n",
        "y=y.to_numpy()\n",
        "x=x.to_numpy()\n",
        "\n",
        "print(x.shape, y.shape)\n",
        "\n",
        "x, x_score, y, y_score = train_test_split(x, y, test_size=0.1, random_state=42)\n",
        "x_train, x_test, y_train, y_test = train_test_split(x, y, test_size=0.11, random_state=42)\n",
        "\n",
        "credit_save, credit_size, r2_test_save, mse_test_save, = [], [], [], []\n",
        "\n",
        "lab_enc = preprocessing.LabelEncoder()\n",
        "\n",
        "y_train = lab_enc.fit_transform(y_train.ravel())\n",
        "\n",
        "\n",
        "\n",
        "param_distributions= [{'alpha':uniform.rvs(loc=0, scale=1, size=1000, random_state=42)}]\n",
        "\n",
        "\n",
        "estimator =  MultinomialNB(alpha=1.0, fit_prior=True, class_prior=None)\n",
        "selector = RandomizedSearchCV(estimator, \n",
        "                               param_distributions,\n",
        "                               n_iter=1000, \n",
        "                               scoring='accuracy', \n",
        "                               n_jobs=-1, \n",
        "                               refit=True, \n",
        "                               cv=5, \n",
        "                               verbose=2, \n",
        "                               random_state= 42,  \n",
        "                               return_train_score=False)\n",
        "                        \n",
        "selector = selector.fit(x_train, y_train.ravel())\n",
        "\n",
        "\n",
        "\n",
        "print ( 'number of valid variables:', selector.n_features_in_)    \n",
        "print(selector.best_params_)\n",
        "\n",
        "# naive  best param\n",
        "estimator.fit(x_test, y_test.ravel())\n",
        "y_score_pred = estimator.predict(x_score) \n",
        "accuracy_score = accuracy_score (y_score, y_score_pred ) # 3th part of data %10 \n",
        "mse_test = mean_squared_error(y_score.ravel(),y_score_pred)  \n",
        "mse_test_save.append(mse_test)\n",
        "#accuracy_score_save.append(accuracy_score)\n",
        "print ( 'mean square error:', mse_test)\n",
        "print ( 'accuracy_score:', accuracy_score)"
      ],
      "execution_count": null,
      "outputs": [
        {
          "output_type": "stream",
          "name": "stdout",
          "text": [
            "(425, 11) (425,)\n",
            "Fitting 5 folds for each of 1000 candidates, totalling 5000 fits\n",
            "number of valid variables: 11\n",
            "{'alpha': 0.3745401188473625}\n",
            "mean square error: 0.20930232558139536\n",
            "accuracy_score: 0.7906976744186046\n"
          ]
        }
      ]
    },
    {
      "cell_type": "code",
      "metadata": {
        "id": "u4vL3TqfTnFI",
        "colab": {
          "base_uri": "https://localhost:8080/",
          "height": 639
        },
        "outputId": "99a8760f-f06d-4a2a-c598-f6d2211e91d6"
      },
      "source": [
        "# ROC CURVE\n",
        "fpr, tpr, _ = roc_curve(y_test, y_score_pred)\n",
        "roc_auc = auc(fpr, tpr)\n",
        "plt.figure()\n",
        "lw = 2\n",
        "plt.subplots(figsize=(10, 10))\n",
        "pyplot.plot(fpr, tpr, label='No Skill  curve (area=0.50)')\n",
        "plt.plot(fpr, tpr, color='darkorange',\n",
        "         lw=lw, label='NB-ROC curve (area = %0.2f)' % roc_auc)\n",
        "plt.plot([0, 1], [0, 1], color='navy', lw=lw, linestyle='--')\n",
        "plt.xlim([0.0, 1.0])\n",
        "plt.ylim([0.0, 1.05])\n",
        "plt.xlabel('False Positive Rate')\n",
        "plt.ylabel('True Positive Rate')\n",
        "plt.title('Receiver operating characteristic example')\n",
        "plt.legend(loc=\"lower right\")\n",
        "plt.show()"
      ],
      "execution_count": null,
      "outputs": [
        {
          "output_type": "display_data",
          "data": {
            "text/plain": [
              "<Figure size 432x288 with 0 Axes>"
            ]
          },
          "metadata": {}
        },
        {
          "output_type": "display_data",
          "data": {
            "image/png": "[encoded data removed]",
            "text/plain": [
              "<Figure size 720x720 with 1 Axes>"
            ]
          },
          "metadata": {
            "needs_background": "light"
          }
        }
      ]
    },
    {
      "cell_type": "markdown",
      "metadata": {
        "id": "AatM7dHhTnFJ"
      },
      "source": [
        "### Pure Model MultinomialNB is optimized by RandomizedSearchCV (roc_auc)\n"
      ]
    },
    {
      "cell_type": "code",
      "metadata": {
        "id": "dJIDrz90TnFJ",
        "colab": {
          "base_uri": "https://localhost:8080/",
          "height": 365
        },
        "outputId": "748bc56d-6626-450e-f10b-ae273bd0cfc4"
      },
      "source": [
        "from sklearn.model_selection import RandomizedSearchCV\n",
        "from scipy.stats import randint\n",
        "import scipy.stats as stats\n",
        "from sklearn.naive_bayes import MultinomialNB\n",
        "from scipy.stats import uniform\n",
        "from scipy.stats import expon\n",
        "from sklearn.metrics import mean_squared_error,roc_auc_score,mean_absolute_percentage_error,roc_curve, auc,roc_auc_score,accuracy_score,completeness_score,brier_score_loss\n",
        "\n",
        "import matplotlib.pyplot as plt\n",
        "from sklearn.model_selection import train_test_split, cross_val_score, cross_val_predict\n",
        "import pandas as pd\n",
        "import numpy as np\n",
        "from sklearn import preprocessing\n",
        "from sklearn.preprocessing import StandardScaler\n",
        "from sklearn.utils.fixes import loguniform\n",
        "\n",
        "from matplotlib import pyplot \n",
        "\n",
        "url = \"https://drive.google.com/file/d/1038z5e5nQB0UH_xiFKCOGQN7J4x9ImK4/view?usp=sharing\"\n",
        "path = 'https://drive.google.com/uc?export=download&id='+url.split('/')[-2]\n",
        "mat = pd.read_csv(path)\n",
        "y = mat.iloc[:,11]\n",
        "x=mat.iloc[:,:-1]\n",
        "y=y.to_numpy()\n",
        "x=x.to_numpy()\n",
        "\n",
        "print(x.shape, y.shape)\n",
        "\n",
        "x, x_score, y, y_score = train_test_split(x, y, test_size=0.1, random_state=42)\n",
        "x_train, x_test, y_train, y_test = train_test_split(x, y, test_size=0.11, random_state=42)\n",
        "\n",
        "credit_save, credit_size, r2_test_save, mse_test_save, = [], [], [], []\n",
        "\n",
        "lab_enc = preprocessing.LabelEncoder()\n",
        "\n",
        "y_train = lab_enc.fit_transform(y_train.ravel())\n",
        "\n",
        "\n",
        "\n",
        "param_distributions= [{'alpha':uniform.rvs(loc=0, scale=1, size=10000, random_state=10)}]# \n",
        "\n",
        "\n",
        "estimator =  MultinomialNB(alpha=1.0, fit_prior=True, class_prior=None)\n",
        "selector = RandomizedSearchCV(estimator, \n",
        "                               param_distributions,\n",
        "                               n_iter=1000, \n",
        "                               scoring='roc_auc', \n",
        "                               n_jobs=-1, \n",
        "                               refit=True, \n",
        "                               cv=10, \n",
        "                               verbose=2, \n",
        "                               random_state= 42,  \n",
        "                               return_train_score=False)\n",
        "                        \n",
        "selector = selector.fit(x_train, y_train.ravel())\n",
        "\n",
        "print ( 'number of valid variables:', selector.n_features_in_)    \n",
        "print(selector.best_params_)\n",
        "\n",
        "# naive  best param \n",
        "\n",
        "estimator =  MultinomialNB(alpha=1.0, fit_prior=True, class_prior=None)\n",
        "estimator.fit(x_test, y_test.ravel())\n",
        "y_score_pred = estimator.predict(x_score) \n",
        "\n",
        "# ROC CURVE\n",
        "fpr, tpr, _ = roc_curve(y_test, y_score_pred)\n",
        "roc_auc = auc(fpr, tpr)\n",
        "plt.figure()\n",
        "lw = 2\n",
        "\n",
        "pyplot.plot(fpr, tpr, label='No Skill  curve (area=0.50)')\n",
        "plt.plot(fpr, tpr, color='darkorange',\n",
        "         lw=lw, label='NB-ROC curve (area = %0.2f)' % roc_auc)\n",
        "plt.plot([0, 1], [0, 1], color='navy', lw=lw, linestyle='--')\n",
        "plt.xlim([0.0, 1.0])\n",
        "plt.ylim([0.0, 1.05])\n",
        "plt.xlabel('False Positive Rate')\n",
        "plt.ylabel('True Positive Rate')\n",
        "plt.title('Receiver operating characteristic example')\n",
        "plt.legend(loc=\"lower right\")\n",
        "plt.show()"
      ],
      "execution_count": null,
      "outputs": [
        {
          "output_type": "stream",
          "name": "stdout",
          "text": [
            "(425, 11) (425,)\n",
            "Fitting 10 folds for each of 1000 candidates, totalling 10000 fits\n",
            "number of valid variables: 11\n",
            "{'alpha': 0.2095778423702107}\n"
          ]
        },
        {
          "output_type": "display_data",
          "data": {
            "image/png": "[encoded data removed]",
            "text/plain": [
              "<Figure size 432x288 with 1 Axes>"
            ]
          },
          "metadata": {
            "needs_background": "light"
          }
        }
      ]
    },
    {
      "cell_type": "markdown",
      "metadata": {
        "id": "IWq12Zx0TnFJ"
      },
      "source": [
        "### **2.  Genetic Algorithm**"
      ]
    },
    {
      "cell_type": "markdown",
      "metadata": {
        "id": "wQAr8aC_TnFK"
      },
      "source": [
        "### Pure Naive and Genetic (accuracy_score)"
      ]
    },
    {
      "cell_type": "markdown",
      "metadata": {
        "id": "DfvK5E1ATnFK"
      },
      "source": [
        "**Genetic algorithm (GA):**\n",
        "\n",
        "Biological science has shown that those who adapt well to nature can survive. Genetic algorithm (GA) is an optimization tool based on gene differentiation and evolution of living things (Mitchell, 1998; Haupt et al., 1998). GA can find optimal or near-optimal solutions of complex problems (Mandal et al., 2006).\n",
        "\n"
      ]
    },
    {
      "cell_type": "markdown",
      "metadata": {
        "id": "PzVxBgoITnFK"
      },
      "source": [
        "There are n genes in a chromosome with n features according to genetic algorithm. Whether or not each feature is in the model is a binary situation. Therefore, gene pairs of size N consisting of 0 and 1 try to find the optimal number of inputs with matches. Mating means exchanging some genes from 2 parents. Genes are diversified by the crossover process and the rate of this crossover is determined as the crossover parameter in the algorithm. This parameter determines the percentage of property change for the new solution proposal. In order to find different solutions, there may be random gene changes outside the parent's genes, this is provided by the mutation rate parameter. How many different individuals will be searched solution is determined by the population parameter. We provide that how many times the search will be repeated with the iteration parameter."
      ]
    },
    {
      "cell_type": "code",
      "metadata": {
        "id": "lIqhZo0gNg7U",
        "colab": {
          "base_uri": "https://localhost:8080/"
        },
        "outputId": "86f42c04-d6dc-424c-c739-c1adce9318de"
      },
      "source": [
        "pip install sklearn-genetic"
      ],
      "execution_count": null,
      "outputs": [
        {
          "output_type": "stream",
          "name": "stdout",
          "text": [
            "Collecting sklearn-genetic\n",
            "  Downloading sklearn_genetic-0.4.1-py2.py3-none-any.whl (10 kB)\n",
            "Collecting deap>=1.0.2\n",
            "  Downloading deap-1.3.1-cp37-cp37m-manylinux_2_5_x86_64.manylinux1_x86_64.manylinux_2_12_x86_64.manylinux2010_x86_64.whl (160 kB)\n",
            "\u001b[?25l\r\u001b[K     |██                              | 10 kB 24.6 MB/s eta 0:00:01\r\u001b[K     |████                            | 20 kB 32.3 MB/s eta 0:00:01\r\u001b[K     |██████                          | 30 kB 38.3 MB/s eta 0:00:01\r\u001b[K     |████████▏                       | 40 kB 41.6 MB/s eta 0:00:01\r\u001b[K     |██████████▏                     | 51 kB 18.2 MB/s eta 0:00:01\r\u001b[K     |████████████▏                   | 61 kB 14.5 MB/s eta 0:00:01\r\u001b[K     |██████████████▎                 | 71 kB 14.5 MB/s eta 0:00:01\r\u001b[K     |████████████████▎               | 81 kB 16.0 MB/s eta 0:00:01\r\u001b[K     |██████████████████▎             | 92 kB 17.3 MB/s eta 0:00:01\r\u001b[K     |████████████████████▍           | 102 kB 18.8 MB/s eta 0:00:01\r\u001b[K     |██████████████████████▍         | 112 kB 18.8 MB/s eta 0:00:01\r\u001b[K     |████████████████████████▍       | 122 kB 18.8 MB/s eta 0:00:01\r\u001b[K     |██████████████████████████▌     | 133 kB 18.8 MB/s eta 0:00:01\r\u001b[K     |████████████████████████████▌   | 143 kB 18.8 MB/s eta 0:00:01\r\u001b[K     |██████████████████████████████▌ | 153 kB 18.8 MB/s eta 0:00:01\r\u001b[K     |████████████████████████████████| 160 kB 18.8 MB/s \n",
            "\u001b[?25hRequirement already satisfied: scikit-learn>=0.20.3 in /usr/local/lib/python3.7/dist-packages (from sklearn-genetic) (1.0.1)\n",
            "Requirement already satisfied: numpy in /usr/local/lib/python3.7/dist-packages (from deap>=1.0.2->sklearn-genetic) (1.19.5)\n",
            "Requirement already satisfied: scipy>=1.1.0 in /usr/local/lib/python3.7/dist-packages (from scikit-learn>=0.20.3->sklearn-genetic) (1.4.1)\n",
            "Requirement already satisfied: threadpoolctl>=2.0.0 in /usr/local/lib/python3.7/dist-packages (from scikit-learn>=0.20.3->sklearn-genetic) (3.0.0)\n",
            "Requirement already satisfied: joblib>=0.11 in /usr/local/lib/python3.7/dist-packages (from scikit-learn>=0.20.3->sklearn-genetic) (1.0.1)\n",
            "Installing collected packages: deap, sklearn-genetic\n",
            "Successfully installed deap-1.3.1 sklearn-genetic-0.4.1\n"
          ]
        }
      ]
    },
    {
      "cell_type": "code",
      "metadata": {
        "id": "5tB3N6KtTnFL",
        "colab": {
          "base_uri": "https://localhost:8080/"
        },
        "outputId": "274bc630-a46d-4a0e-b07d-b944fbe720b2"
      },
      "source": [
        "from genetic_selection import GeneticSelectionCV\n",
        "import numpy as np\n",
        "from sklearn.model_selection import train_test_split\n",
        "from sklearn.preprocessing import StandardScaler\n",
        "from sklearn.metrics import r2_score, mean_squared_error,roc_auc_score,mean_absolute_percentage_error,accuracy_score \n",
        "import matplotlib.pyplot as plt\n",
        "from sklearn.model_selection import train_test_split, cross_val_score, cross_val_predict\n",
        "import pandas as pd\n",
        "from sklearn.naive_bayes import MultinomialNB\n",
        "from sklearn import preprocessing\n",
        "\n",
        "\n",
        "url = \"https://drive.google.com/file/d/1038z5e5nQB0UH_xiFKCOGQN7J4x9ImK4/view?usp=sharing\"\n",
        "path = 'https://drive.google.com/uc?export=download&id='+url.split('/')[-2]\n",
        "mat = pd.read_csv(path)\n",
        "y = mat.iloc[:,11]\n",
        "x=mat.iloc[:,:-1]\n",
        "\n",
        "y=y.to_numpy()\n",
        "x=x.to_numpy()\n",
        "print(x.shape, y.shape) \n",
        "x, x_score, y, y_score = train_test_split(x, y, test_size=0.1, random_state=42)\n",
        "x_train, x_test, y_train, y_test = train_test_split(x, y, test_size=0.11, random_state=42)\n",
        "print(x_train.shape, y_train.shape) \n",
        "Advertising_save, Advertising_size, accuracy_score_save, mse_test_save = [], [], [], []\n",
        "lab_enc = preprocessing.LabelEncoder()\n",
        "\n",
        "from genetic_selection import GeneticSelectionCV\n",
        "\n",
        "# import your preferred ml model.\n",
        "\n",
        "from sklearn.naive_bayes import MultinomialNB\n",
        "estimator = MultinomialNB(alpha=1.0, fit_prior=True, class_prior=None)\n",
        "selector = GeneticSelectionCV(estimator,\n",
        "                              cv=10,\n",
        "                              #scoring=\"roc_auc\", # kümeleme olmadığı için kullanılmaz\n",
        "                              scoring='accuracy',\n",
        "                              max_features=11,\n",
        "                              n_population=50,\n",
        "                              crossover_proba=0.25,\n",
        "                              mutation_proba=0.1,\n",
        "                              n_generations=50000,\n",
        "                              crossover_independent_proba=0.1,\n",
        "                              mutation_independent_proba=0.5,\n",
        "                              n_gen_no_change=2,\n",
        "                              n_jobs=-1)\n",
        "selector = selector.fit(x_train, y_train.ravel()) # first part of data %80 \n",
        "print ('number of valid variables:', selector.n_features_)    \n",
        "print(\"generation_scores: \",selector.generation_scores_)\n",
        "x_score, x_test = x_score[:, selector.support_], x_test[:, selector.support_]\n",
        "estimator.fit(x_test, y_test.ravel()) # second part of data %10 \n",
        "y_score_pred = estimator.predict(x_score)   \n",
        "accuracy_score = accuracy_score (y_score, y_score_pred ) # 3th part of data %10 \n",
        "mse_test = mean_squared_error(y_score.ravel(),y_score_pred)\n",
        "Advertising_save.append(list(selector.support_))  \n",
        "Advertising_size.append(selector.n_features_)  \n",
        "accuracy_score_save.append(accuracy_score)\n",
        "mse_test_save.append(mse_test)\n",
        "print ( 'accuracy_score:', accuracy_score , 'mean square error:', mse_test)\n",
        "print ( 'Number of valid variables', Advertising_size)\n",
        "print(selector.support_)"
      ],
      "execution_count": null,
      "outputs": [
        {
          "output_type": "stream",
          "name": "stdout",
          "text": [
            "(425, 11) (425,)\n",
            "(339, 11) (339,)\n",
            "number of valid variables: 4\n",
            "generation_scores:  [0.8171123 0.8171123 0.8171123]\n",
            "accuracy_score: 0.813953488372093 mean square error: 0.18604651162790697\n",
            "Number of valid variables [4]\n",
            "[False  True  True False  True False False False False False  True]\n"
          ]
        }
      ]
    },
    {
      "cell_type": "markdown",
      "metadata": {
        "id": "i6DuLbjWTnFM"
      },
      "source": [
        "### **Pure Naive and Genetic (roc_auc_score)**"
      ]
    },
    {
      "cell_type": "code",
      "metadata": {
        "id": "6xyLQPoRTnFM",
        "colab": {
          "base_uri": "https://localhost:8080/"
        },
        "outputId": "61479af4-8b4b-4604-de94-c1a1215af571"
      },
      "source": [
        "from genetic_selection import GeneticSelectionCV\n",
        "import numpy as np\n",
        "from sklearn.model_selection import train_test_split\n",
        "from sklearn.preprocessing import StandardScaler\n",
        "from sklearn.metrics import mean_squared_error,roc_auc_score,mean_absolute_percentage_error,roc_curve, auc,roc_auc_score\n",
        "import matplotlib.pyplot as plt\n",
        "from sklearn.model_selection import train_test_split, cross_val_score, cross_val_predict\n",
        "import pandas as pd\n",
        "from sklearn.naive_bayes import MultinomialNB\n",
        "from sklearn import preprocessing\n",
        "from matplotlib import pyplot \n",
        "\n",
        "url = \"https://drive.google.com/file/d/1038z5e5nQB0UH_xiFKCOGQN7J4x9ImK4/view?usp=sharing\"\n",
        "path = 'https://drive.google.com/uc?export=download&id='+url.split('/')[-2]\n",
        "mat = pd.read_csv(path)\n",
        "y = mat.iloc[:,11]\n",
        "x=mat.iloc[:,:-1]\n",
        "\n",
        "y=y.to_numpy()\n",
        "x=x.to_numpy()\n",
        "print(x.shape, y.shape) \n",
        "\n",
        "x, x_score, y, y_score = train_test_split(x, y, test_size=0.1, random_state=42)\n",
        "x_train, x_test, y_train, y_test = train_test_split(x, y, test_size=0.11, random_state=10)\n",
        "\n",
        "print(x_train.shape, y_train.shape) \n",
        "\n",
        "credit_save, credit_size, r2_test_save, mse_test_save = [], [], [], []\n",
        "lab_enc = preprocessing.LabelEncoder()\n",
        "\n",
        "\n",
        "from genetic_selection import GeneticSelectionCV\n",
        "# import your preferred ml model.\n",
        "from sklearn.naive_bayes import MultinomialNB\n",
        "estimator = MultinomialNB(alpha=1.0, fit_prior=True, class_prior=None)\n",
        "\n",
        "selector = GeneticSelectionCV(estimator,\n",
        "                              cv=5,\n",
        "                              scoring='roc_auc',\n",
        "                              max_features=11,\n",
        "                              n_population=12,\n",
        "                              crossover_proba=0.5,\n",
        "                              mutation_proba=0.2,\n",
        "                              n_generations=50000,\n",
        "                              crossover_independent_proba=0.5,\n",
        "                              mutation_independent_proba=0.05,\n",
        "                              n_gen_no_change=10,\n",
        "                              n_jobs=-1)\n",
        "\n",
        "\n",
        "selector = selector.fit(x_train, y_train.ravel())\n",
        "print ( 'number of valid variables:', selector.n_features_)    \n",
        "print(\"generation_scores: \",selector.generation_scores_)\n",
        "x_score, x_test = x_score[:, selector.support_], x_test[:, selector.support_]\n",
        "estimator.fit(x_test, y_test.ravel())\n",
        "y_score_pred = estimator.predict(x_score)   \n",
        "mse_test = mean_squared_error(y_score.ravel(),y_score_pred)\n",
        "credit_save.append(list(selector.support_))  \n",
        "credit_size.append(selector.n_features_)  \n",
        "mse_test_save.append(mse_test)\n",
        "print ( 'mean square error:', mse_test)\n",
        "print ( 'Number of valid variables', credit_size)\n",
        "print(selector.support_)"
      ],
      "execution_count": null,
      "outputs": [
        {
          "output_type": "stream",
          "name": "stdout",
          "text": [
            "(425, 11) (425,)\n",
            "(339, 11) (339,)\n",
            "number of valid variables: 5\n",
            "generation_scores:  [0.68628853 0.7308288  0.7308288  0.7308288  0.7308288  0.7308288\n",
            " 0.7308288  0.7308288  0.7308288  0.7308288  0.7308288  0.7308288 ]\n",
            "mean square error: 0.16279069767441862\n",
            "Number of valid variables [5]\n",
            "[False  True  True False False False False  True  True False  True]\n"
          ]
        }
      ]
    },
    {
      "cell_type": "markdown",
      "metadata": {
        "id": "Fqw7GweUTnFM"
      },
      "source": [
        "### **roc_score and  Plot**"
      ]
    },
    {
      "cell_type": "code",
      "metadata": {
        "id": "rgYC9BJNTnFN",
        "colab": {
          "base_uri": "https://localhost:8080/",
          "height": 639
        },
        "outputId": "d9e15966-e457-427f-a1bc-1b3cb077ac67"
      },
      "source": [
        "y_score_pred_auc = roc_auc_score(y_score, y_score_pred)\n",
        "fpr, tpr, _ = roc_curve(y_score, y_score_pred)\n",
        "\n",
        "# Compute micro-average ROC curve and ROC area\n",
        "roc_auc = auc(fpr, tpr)\n",
        "plt.figure()\n",
        "lw = 2\n",
        "plt.subplots(figsize=(10, 10))\n",
        "pyplot.plot(fpr, tpr, label='No Skill  curve (area=0.50)')\n",
        "plt.plot(fpr, tpr, color='darkorange',\n",
        "         lw=lw, label='NB-ROC curve (area = %0.2f)' % roc_auc)\n",
        "plt.plot([0, 1], [0, 1], color='navy', lw=lw, linestyle='--')\n",
        "plt.xlim([0.0, 1.0])\n",
        "plt.ylim([0.0, 1.05])\n",
        "plt.xlabel('False Positive Rate')\n",
        "plt.ylabel('True Positive Rate')\n",
        "plt.title('Receiver operating characteristic example')\n",
        "plt.legend(loc=\"lower right\")\n",
        "plt.show()"
      ],
      "execution_count": null,
      "outputs": [
        {
          "output_type": "display_data",
          "data": {
            "text/plain": [
              "<Figure size 432x288 with 0 Axes>"
            ]
          },
          "metadata": {}
        },
        {
          "output_type": "display_data",
          "data": {
            "image/png": "[encoded data removed]",
            "text/plain": [
              "<Figure size 720x720 with 1 Axes>"
            ]
          },
          "metadata": {
            "needs_background": "light"
          }
        }
      ]
    },
    {
      "cell_type": "markdown",
      "metadata": {
        "id": "N5XMgqr3TnFN"
      },
      "source": [
        "### **3. Randomized search on hyper parameters (for features-accuracy_score)**"
      ]
    },
    {
      "cell_type": "markdown",
      "metadata": {
        "id": "bTrNUM4_TnFN"
      },
      "source": [
        "Random search gives successful results in hyperparameters, whether to determine optimal parameters or feature reduction. Random search initially generates and evaluates random samples of the objective function. It is particularly effective for complex problems because it assumes nothing about the structure of the objective function. Random search is also embedded in many algorithms. It is a method in which random combinations of algorithms are chosen and used to train a model. The algorithm finds the best random combinations of hyperparameters. "
      ]
    },
    {
      "cell_type": "code",
      "metadata": {
        "id": "5MnbIOvoTnFN"
      },
      "source": [
        "\n",
        "from sklearn.naive_bayes import MultinomialNB\n",
        "from sklearn.model_selection import cross_val_score\n",
        "from sklearn.model_selection import train_test_split\n",
        "from sklearn.metrics import mean_squared_error,roc_auc_score,mean_absolute_percentage_error,roc_curve, auc,roc_auc_score,accuracy_score\n",
        "import numpy as np\n",
        "import pandas as pd\n",
        "from matplotlib import pyplot \n",
        "import matplotlib.pyplot as plt"
      ],
      "execution_count": null,
      "outputs": []
    },
    {
      "cell_type": "markdown",
      "metadata": {
        "id": "zaCSmjt8TnFO"
      },
      "source": [
        "### **DATA**"
      ]
    },
    {
      "cell_type": "code",
      "metadata": {
        "id": "Smo3qHM1TnFO"
      },
      "source": [
        "url = \"https://drive.google.com/file/d/1038z5e5nQB0UH_xiFKCOGQN7J4x9ImK4/view?usp=sharing\"\n",
        "path = 'https://drive.google.com/uc?export=download&id='+url.split('/')[-2]\n",
        "mat = pd.read_csv(path)\n",
        "y = mat.iloc[:,11]\n",
        "x=mat.iloc[:,:-1]\n",
        "\n",
        "y=y.to_numpy()\n",
        "x=x.to_numpy()\n",
        "x, x_score, y, y_score = train_test_split(x, y, test_size=0.2, random_state=42)\n",
        "data = x\n",
        "target = y.ravel()"
      ],
      "execution_count": null,
      "outputs": []
    },
    {
      "cell_type": "code",
      "metadata": {
        "id": "4xQrZSINTnFO",
        "colab": {
          "base_uri": "https://localhost:8080/"
        },
        "outputId": "0d1b469d-4b59-4f0f-9fce-3d5075adf5ce"
      },
      "source": [
        "estimator = MultinomialNB(alpha=1.0, fit_prior=True, class_prior=None)\n",
        "naive = MultinomialNB()\n",
        "np.mean(cross_val_score(naive, data,target,cv=5,scoring=\"accuracy\"))"
      ],
      "execution_count": null,
      "outputs": [
        {
          "output_type": "execute_result",
          "data": {
            "text/plain": [
              "0.7382352941176471"
            ]
          },
          "metadata": {},
          "execution_count": 13
        }
      ]
    },
    {
      "cell_type": "code",
      "metadata": {
        "id": "x5q3CrmLTnFO",
        "colab": {
          "base_uri": "https://localhost:8080/"
        },
        "outputId": "6bb94ebf-728b-4a53-c439-0067ec68c0ca"
      },
      "source": [
        "result = []\n",
        "# Number of iterations\n",
        "N_search = 100\n",
        "# Random seed initialization\n",
        "np.random.seed(1)\n",
        "for i in range(N_search):\n",
        "    # Generate a random number of features\n",
        "    N_columns =  list(np.random.choice(range(data.shape[1]),1)+1)\n",
        "    \n",
        "    # Given the number of features, generate features without replacement\n",
        "    columns = list(np.random.choice(range(data.shape[1]), N_columns, replace=False))\n",
        "    \n",
        "    # Perform k-fold cross validation\n",
        "    scores = cross_val_score(naive,data[:,columns], target, cv=5, scoring=\"accuracy\")\n",
        "    \n",
        "    # Store the result\n",
        "    result.append({'columns':columns,'performance':np.mean(scores)})\n",
        "    \n",
        "\n",
        "print( scores )\n",
        "# Sort the result array in descending order for performance measure\n",
        "result.sort(key=lambda x : -x['performance'])"
      ],
      "execution_count": null,
      "outputs": [
        {
          "output_type": "stream",
          "name": "stdout",
          "text": [
            "[0.83823529 0.77941176 0.79411765 0.79411765 0.82352941]\n"
          ]
        }
      ]
    },
    {
      "cell_type": "code",
      "metadata": {
        "id": "-14l5YXtTnFP",
        "colab": {
          "base_uri": "https://localhost:8080/"
        },
        "outputId": "e256fcc2-9488-481c-ccbb-c81a2ca38460"
      },
      "source": [
        "a=result[0]['columns']\n",
        "print(\"Optimized column rows:\",np.sort(a))"
      ],
      "execution_count": null,
      "outputs": [
        {
          "output_type": "stream",
          "name": "stdout",
          "text": [
            "Optimized column rows: [ 1  2  5  9 10]\n"
          ]
        }
      ]
    },
    {
      "cell_type": "code",
      "metadata": {
        "id": "9UsG0qQYTnFP",
        "colab": {
          "base_uri": "https://localhost:8080/"
        },
        "outputId": "bf34ea05-7fcf-4724-bd70-9c5802408f26"
      },
      "source": [
        "newdata= data[:,result[0]['columns']]\n",
        "np.mean(cross_val_score(naive, newdata, target, cv=5, scoring='accuracy'))\n",
        "\n",
        "\n",
        "x_score=(x_score[:,result[0]['columns']])\n",
        "naive.fit(data[:,result[0]['columns']], target.ravel())\n",
        "y_score_pred = naive.predict(x_score)  \n",
        "\n",
        "accuracy_score = accuracy_score(y_score.ravel(), y_score_pred.ravel()) # burası kontrol edilecek\n",
        "print(\"accuracy_score:\", accuracy_score)\n",
        "mse_test = mean_squared_error(y_score.ravel(), y_score_pred)\n",
        "print(\"mse_test score:\",mse_test)"
      ],
      "execution_count": null,
      "outputs": [
        {
          "output_type": "stream",
          "name": "stdout",
          "text": [
            "accuracy_score: 0.8470588235294118\n",
            "mse_test score: 0.15294117647058825\n"
          ]
        }
      ]
    },
    {
      "cell_type": "markdown",
      "metadata": {
        "id": "74fb7a7NTnFP"
      },
      "source": [
        "### **Randomized search on hyper parameters (for features-roc_score)**"
      ]
    },
    {
      "cell_type": "code",
      "metadata": {
        "id": "HDkqX2IpTnFQ"
      },
      "source": [
        "from sklearn.naive_bayes import MultinomialNB\n",
        "from sklearn.model_selection import cross_val_score\n",
        "from sklearn.model_selection import train_test_split\n",
        "from sklearn.metrics import mean_squared_error,roc_auc_score,mean_absolute_percentage_error,roc_curve, auc,roc_auc_score,accuracy_score\n",
        "import numpy as np\n",
        "import pandas as pd\n",
        "from matplotlib import pyplot \n",
        "import matplotlib.pyplot as plt"
      ],
      "execution_count": null,
      "outputs": []
    },
    {
      "cell_type": "code",
      "metadata": {
        "id": "uG6gcxucTnFQ"
      },
      "source": [
        "url = \"https://drive.google.com/file/d/1038z5e5nQB0UH_xiFKCOGQN7J4x9ImK4/view?usp=sharing\"\n",
        "path = 'https://drive.google.com/uc?export=download&id='+url.split('/')[-2]\n",
        "mat = pd.read_csv(path)\n",
        "y = mat.iloc[:,11]\n",
        "x=mat.iloc[:,:-1]\n",
        "\n",
        "y=y.to_numpy()\n",
        "x=x.to_numpy()\n",
        "x, x_score, y, y_score = train_test_split(x, y, test_size=0.2, random_state=10)\n",
        "\n",
        "data = x\n",
        "target = y.ravel()"
      ],
      "execution_count": null,
      "outputs": []
    },
    {
      "cell_type": "code",
      "metadata": {
        "id": "zMoBesP2TnFQ",
        "colab": {
          "base_uri": "https://localhost:8080/"
        },
        "outputId": "d8a9fa88-123b-431c-c284-45590c7d87d3"
      },
      "source": [
        "estimator = MultinomialNB(alpha=1.0, fit_prior=True, class_prior=None)\n",
        "naive = MultinomialNB()\n",
        "np.mean(cross_val_score(naive, data,target,cv=5,scoring=\"roc_auc\"))"
      ],
      "execution_count": null,
      "outputs": [
        {
          "output_type": "execute_result",
          "data": {
            "text/plain": [
              "0.6573584905660377"
            ]
          },
          "metadata": {},
          "execution_count": 19
        }
      ]
    },
    {
      "cell_type": "code",
      "metadata": {
        "id": "HuYz9WaRTnFQ",
        "colab": {
          "base_uri": "https://localhost:8080/"
        },
        "outputId": "751c63e3-ac2f-4191-9d50-464b5b322dbe"
      },
      "source": [
        "result = []\n",
        "# Number of iterations\n",
        "N_search = 1000\n",
        "# Random seed initialization\n",
        "np.random.seed(1)\n",
        "for i in range(N_search):\n",
        "    # Generate a random number of features\n",
        "    N_columns =  list(np.random.choice(range(data.shape[1]),1)+1)\n",
        "    \n",
        "    # Given the number of features, generate features without replacement\n",
        "    columns = list(np.random.choice(range(data.shape[1]), N_columns, replace=False))\n",
        "    \n",
        "    # Perform k-fold cross validation\n",
        "    scores = cross_val_score(naive,data[:,columns], target, cv=5, scoring=\"roc_auc\")\n",
        "    \n",
        "    # Store the result\n",
        "    result.append({'columns':columns,'performance':np.mean(scores)})\n",
        "    \n",
        "\n",
        "print( scores )\n",
        "# Sort the result array in descending order for performance measure\n",
        "result.sort(key=lambda x : -x['performance'])"
      ],
      "execution_count": null,
      "outputs": [
        {
          "output_type": "stream",
          "name": "stdout",
          "text": [
            "[0.62264151 0.77861635 0.71446541 0.64654088 0.59874214]\n"
          ]
        }
      ]
    },
    {
      "cell_type": "code",
      "metadata": {
        "id": "nQWs79a8TnFQ",
        "colab": {
          "base_uri": "https://localhost:8080/"
        },
        "outputId": "a850b848-7e03-4177-c607-7cc89c81f220"
      },
      "source": [
        "a=result[0]['columns']\n",
        "print(\"Optimized column rows:\",np.sort(a))"
      ],
      "execution_count": null,
      "outputs": [
        {
          "output_type": "stream",
          "name": "stdout",
          "text": [
            "Optimized column rows: [0 1 2 5 8 9]\n"
          ]
        }
      ]
    },
    {
      "cell_type": "code",
      "metadata": {
        "id": "Xm5hRfQETnFR",
        "colab": {
          "base_uri": "https://localhost:8080/",
          "height": 656
        },
        "outputId": "3dc7729a-4be0-46e5-b772-162407acbf55"
      },
      "source": [
        "newdata= data[:,result[0]['columns']]\n",
        "np.mean(cross_val_score(naive, newdata, target, cv=5, scoring='accuracy'))\n",
        "x_score=(x_score[:,result[0]['columns']])\n",
        "naive.fit(data[:,result[0]['columns']], target.ravel())\n",
        "y_score_pred = naive.predict(x_score) \n",
        "mse_test = mean_squared_error(y_score.ravel(), y_score_pred)\n",
        "print(\"mse_test score:\",mse_test)\n",
        "y_score_pred_auc = roc_auc_score(y_score, y_score_pred)\n",
        "fpr, tpr, _ = roc_curve(y_score, y_score_pred)\n",
        "# Compute micro-average ROC curve and ROC area\n",
        "roc_auc = auc(fpr, tpr)\n",
        "\n",
        "plt.figure()\n",
        "plt.subplots(figsize=(10, 10))\n",
        "lw = 2\n",
        "\n",
        "pyplot.plot(fpr, tpr, label='No Skill  curve (area=0.50)')\n",
        "plt.plot(fpr, tpr, color='darkorange',\n",
        "         lw=lw, label='NB-ROC curve (area = %0.2f)' % roc_auc)\n",
        "plt.plot([0, 1], [0, 1], color='navy', lw=lw, linestyle='--')\n",
        "plt.xlim([0.0, 1.0])\n",
        "plt.ylim([0.0, 1.05])\n",
        "plt.xlabel('False Positive Rate')\n",
        "plt.ylabel('True Positive Rate')\n",
        "plt.title('Receiver operating characteristic example')\n",
        "plt.legend(loc=\"lower right\")\n",
        "plt.show()"
      ],
      "execution_count": null,
      "outputs": [
        {
          "output_type": "stream",
          "name": "stdout",
          "text": [
            "mse_test score: 0.12941176470588237\n"
          ]
        },
        {
          "output_type": "display_data",
          "data": {
            "text/plain": [
              "<Figure size 432x288 with 0 Axes>"
            ]
          },
          "metadata": {}
        },
        {
          "output_type": "display_data",
          "data": {
            "image/png": "[encoded data removed]",
            "text/plain": [
              "<Figure size 720x720 with 1 Axes>"
            ]
          },
          "metadata": {
            "needs_background": "light"
          }
        }
      ]
    },
    {
      "cell_type": "markdown",
      "metadata": {
        "id": "a45MFbxhTnFR"
      },
      "source": [
        "### **4.Hillclimbing search on hyperparameters (for features) accurancy**"
      ]
    },
    {
      "cell_type": "markdown",
      "metadata": {
        "id": "mCjVWZptTnFR"
      },
      "source": [
        "**Hill Climbing:**\n",
        "This algorithm is used for both maximization and minimization problems. A simple hill climbing algorithm determines the direction according to their location by checking neighbor’s value. If our problem is a maximization problem, Hill Climbing algorithm walks towards the higher value of neighbors. \n"
      ]
    },
    {
      "cell_type": "markdown",
      "metadata": {
        "id": "0uPPS3NMTnFR"
      },
      "source": [
        "**1. Simple Hill Climbing:**   The algorithm examines the neighboring nodes one by one and selects the first neighbor node as the next node which optimizes the current cost. \n",
        "    \n",
        "**2. Steepest-Ascent hill climbing:** The algorithm first examines all neighboring nodes. The algorithm steps to the closest better solution. The small step ensures that the algorithm does not miss some solutions. Therefore, the algorithm is more likely to find the maximum or minimum points with the smallest step than with simple hill climbing.\n",
        "\n",
        "**3. Stochastic hill climbing:**  The algorithm does not examine all neighboring nodes before deciding which node to choose. The algorithm just randomly picks a neighboring node. The algorithm decides whether to move to the new node or examine another node based on the amount of improvement in solution. The algorithm performs random steps by keeping a solution in memory. If the new solution is equal to or better than the current solution, it remembers that solution. Although the algorithm is a fast algorithm, it can be stuck at local minimum and maximum points. Step length is an important parameter for this algorithm. \n"
      ]
    },
    {
      "cell_type": "code",
      "metadata": {
        "id": "nUFiEKkQTnFS"
      },
      "source": [
        "from numpy import mean\n",
        "from numpy.random import rand\n",
        "from numpy.random import choice\n",
        "from sklearn.naive_bayes import MultinomialNB\n",
        "from sklearn.model_selection import cross_val_score\n",
        "from sklearn.model_selection import train_test_split\n",
        "from sklearn.metrics import mean_squared_error,roc_auc_score,mean_absolute_percentage_error,roc_curve, auc,roc_auc_score,accuracy_score\n",
        "import numpy as np\n",
        "import pandas as pd\n",
        "from matplotlib import pyplot \n",
        "import matplotlib.pyplot as plt"
      ],
      "execution_count": null,
      "outputs": []
    },
    {
      "cell_type": "markdown",
      "metadata": {
        "id": "7DJ1KDW-TnFS"
      },
      "source": [
        "### **Data**"
      ]
    },
    {
      "cell_type": "code",
      "metadata": {
        "id": "-ZhyrAAhTnFS"
      },
      "source": [
        "url = \"https://drive.google.com/file/d/1038z5e5nQB0UH_xiFKCOGQN7J4x9ImK4/view?usp=sharing\"\n",
        "path = 'https://drive.google.com/uc?export=download&id='+url.split('/')[-2]\n",
        "mat = pd.read_csv(path)\n",
        "y = mat.iloc[:,11]\n",
        "x=mat.iloc[:,:-1]\n",
        "\n",
        "y=y.to_numpy()\n",
        "x=x.to_numpy()\n",
        "X, x_score, y, y_score = train_test_split(x, y, test_size=0.2, random_state=42)\n",
        "\n",
        "\n",
        "#x_train, x_test, y_train, y_test = train_test_split(X, y, test_size=0.11, random_state=42)\n",
        "estimator = MultinomialNB(alpha=1.0, fit_prior=True, class_prior=None)\n",
        "#estimator = MultinomialNB(alpha=15.601864044243651, fit_prior=True, class_prior=None)\n",
        "naive = MultinomialNB()"
      ],
      "execution_count": null,
      "outputs": []
    },
    {
      "cell_type": "code",
      "metadata": {
        "id": "zWEDT7x2TnFS"
      },
      "source": [
        "def objective(X, y, subset):\n",
        "    # convert into column indexes\n",
        "    ix = [i for i, x in enumerate(subset) if x]\n",
        "    # check for now column (all False)\n",
        "    if len(ix) == 0:\n",
        "        return 0.0\n",
        "    # select columns\n",
        "    X_new = X[:, ix]\n",
        "    # define model\n",
        "    model = MultinomialNB()\n",
        "    # evaluate model\n",
        "    scores = cross_val_score(model, X_new, y, scoring='accuracy', cv=5, n_jobs=-1)\n",
        "    # summarize scores\n",
        "    result = mean(scores)\n",
        "    return result, ix\n",
        "\n",
        "# mutation operator (max step size)  new sample solution \n",
        "def mutate(solution, p_mutate):\n",
        "    # make a copy\n",
        "    child = solution.copy()\n",
        "    for i in range(len(child)):\n",
        "        # check for a mutation\n",
        "        if rand() < p_mutate:\n",
        "            # flip the inclusion\n",
        "            child[i] = not child[i]\n",
        "    return child\n",
        "\n",
        "# hill climbing local search algorithm\n",
        "def hillclimbing(X, y, objective, n_iter, p_mutate): #  \n",
        "    output = []\n",
        "    # generate an initial point\n",
        "    solution = choice([True, False], size=X.shape[1])\n",
        "    # evaluate the initial point\n",
        "    solution_eval, ix = objective(X, y, solution)\n",
        "    # run the hill climb\n",
        "    for i in range(n_iter):\n",
        "        # take a step\n",
        "        candidate = mutate(solution, p_mutate)\n",
        "    \n",
        "        # evaluate candidate point\n",
        "        candidate_eval, ix = objective(X, y, candidate)\n",
        "        # check if we should keep the new point\n",
        "        if candidate_eval >= solution_eval:\n",
        "            # store the new point\n",
        "            solution, solution_eval = candidate, candidate_eval\n",
        "            output.append(solution_eval)\n",
        "        # report progress\n",
        "        #print('>%d f(%s) = %f' % (i+1, len(ix), solution_eval))\n",
        "    return solution, solution_eval,output"
      ],
      "execution_count": null,
      "outputs": []
    },
    {
      "cell_type": "markdown",
      "metadata": {
        "id": "S7Fiv8FzTnFS"
      },
      "source": [
        "### **Define the total iterations and optimization**"
      ]
    },
    {
      "cell_type": "code",
      "metadata": {
        "id": "rgffay7dTnFS"
      },
      "source": [
        "# define the total iterations\n",
        "\n",
        "n_iter = 1000\n",
        "# probability of including/excluding a column\n",
        "p_mut = 10.0 / 500.0\n",
        "# perform the hill climbing search\n",
        "subset, score,output = hillclimbing(X, y, objective, n_iter, p_mut)\n",
        "\n",
        "# convert into column indexes\n",
        "ix = [i for i, x in enumerate(subset) if x]\n"
      ],
      "execution_count": null,
      "outputs": []
    },
    {
      "cell_type": "code",
      "metadata": {
        "id": "nev1NZqRTnFT",
        "colab": {
          "base_uri": "https://localhost:8080/",
          "height": 265
        },
        "outputId": "97d296fe-98ae-49de-8b9c-f8dc5c378477"
      },
      "source": [
        "plt.plot(output)\n",
        "plt.ylabel('score')\n",
        "plt.show()"
      ],
      "execution_count": null,
      "outputs": [
        {
          "output_type": "display_data",
          "data": {
            "image/png": "[encoded data removed]",
            "text/plain": [
              "<Figure size 432x288 with 1 Axes>"
            ]
          },
          "metadata": {
            "needs_background": "light"
          }
        }
      ]
    },
    {
      "cell_type": "markdown",
      "metadata": {
        "id": "sO-NEqKmTnFT"
      },
      "source": [
        "### **Score Accuracy and MSE**"
      ]
    },
    {
      "cell_type": "code",
      "metadata": {
        "id": "XsNOGtj3TnFT",
        "colab": {
          "base_uri": "https://localhost:8080/"
        },
        "outputId": "51e3d275-7003-4b0f-f146-8f646af6ee4c"
      },
      "source": [
        "model = MultinomialNB()\n",
        "x_input = x_score[:, ix]\n",
        "model.fit( X[:, ix],y.ravel())\n",
        "y_score_pred = model.predict(x_input) \n",
        "accuracy_score = accuracy_score(y_score.ravel(), y_score_pred.ravel()) # burası kontrol edilecek\n",
        "print(\"accuracy_score:\", accuracy_score)\n",
        "mse_test = mean_squared_error(y_score.ravel(), y_score_pred)\n",
        "print(\"mse_test score:\",mse_test)\n"
      ],
      "execution_count": null,
      "outputs": [
        {
          "output_type": "stream",
          "name": "stdout",
          "text": [
            "accuracy_score: 0.8352941176470589\n",
            "mse_test score: 0.16470588235294117\n"
          ]
        }
      ]
    },
    {
      "cell_type": "code",
      "metadata": {
        "id": "C60wGqBQTnFT",
        "colab": {
          "base_uri": "https://localhost:8080/"
        },
        "outputId": "5f0d1893-3301-4a88-c5a0-7b25afdea662"
      },
      "source": [
        "print(\"Optimized feature\",subset)\n",
        "print(\"Optimized column rows:\",ix)"
      ],
      "execution_count": null,
      "outputs": [
        {
          "output_type": "stream",
          "name": "stdout",
          "text": [
            "Optimized feature [False False  True False False  True False False False  True  True]\n",
            "Optimized column rows: [2, 5, 9, 10]\n"
          ]
        }
      ]
    },
    {
      "cell_type": "markdown",
      "metadata": {
        "id": "_TIvywWHTnFT"
      },
      "source": [
        "### **Hillclimbing search on hyperparameters ( for features)- roc_auc**"
      ]
    },
    {
      "cell_type": "code",
      "metadata": {
        "id": "h225lSSHTnFU"
      },
      "source": [
        "from numpy import mean\n",
        "from numpy.random import rand\n",
        "from numpy.random import choice\n",
        "from sklearn.naive_bayes import MultinomialNB\n",
        "from sklearn.model_selection import cross_val_score\n",
        "from sklearn.model_selection import train_test_split\n",
        "from sklearn.metrics import mean_squared_error,roc_auc_score,mean_absolute_percentage_error,roc_curve, auc,roc_auc_score,accuracy_score\n",
        "import numpy as np\n",
        "import pandas as pd\n",
        "from matplotlib import pyplot \n",
        "import matplotlib.pyplot as plt"
      ],
      "execution_count": null,
      "outputs": []
    },
    {
      "cell_type": "code",
      "metadata": {
        "id": "pkYJNGk-TnFU"
      },
      "source": [
        "url = \"https://drive.google.com/file/d/1038z5e5nQB0UH_xiFKCOGQN7J4x9ImK4/view?usp=sharing\"\n",
        "path = 'https://drive.google.com/uc?export=download&id='+url.split('/')[-2]\n",
        "mat = pd.read_csv(path)\n",
        "y = mat.iloc[:,11]\n",
        "x=mat.iloc[:,:-1]\n",
        "\n",
        "y=y.to_numpy()\n",
        "x=x.to_numpy()\n",
        "X, x_score, y, y_score = train_test_split(x, y, test_size=0.2, random_state=42)\n",
        "\n",
        "model =  MultinomialNB(alpha=1.0, fit_prior=True, class_prior=None)"
      ],
      "execution_count": null,
      "outputs": []
    },
    {
      "cell_type": "code",
      "metadata": {
        "id": "WcC-oYrfTnFU"
      },
      "source": [
        "def objective(X, y, subset):\n",
        "    # convert into column indexes\n",
        "    ix = [i for i, x in enumerate(subset) if x]\n",
        "    # check for now column (all False)\n",
        "    if len(ix) == 0:\n",
        "        return 0.0\n",
        "    # select columns\n",
        "    X_new = X[:, ix]\n",
        "    # define model\n",
        "    model =  MultinomialNB(alpha=1.0, fit_prior=True, class_prior=None)\n",
        "    # evaluate model\n",
        "    scores = cross_val_score(model, X_new, y, scoring='accuracy', cv=5, n_jobs=-1)\n",
        "    # summarize scores\n",
        "    result = mean(scores)\n",
        "    return result, ix\n",
        "\n",
        "# mutation operator (max step size)  new sample solution \n",
        "def mutate(solution, p_mutate):\n",
        "    # make a copy\n",
        "    child = solution.copy()\n",
        "    for i in range(len(child)):\n",
        "        # check for a mutation\n",
        "        if rand() < p_mutate:\n",
        "            # flip the inclusion\n",
        "            child[i] = not child[i]\n",
        "    return child\n",
        "\n",
        "# hill climbing local search algorithm\n",
        "def hillclimbing(X, y, objective, n_iter, p_mutate): #  \n",
        "    output=[]\n",
        "    # generate an initial point\n",
        "    solution = choice([True, False], size=X.shape[1])\n",
        "    # evaluate the initial point\n",
        "    solution_eval, ix = objective(X, y, solution)\n",
        "    # run the hill climb\n",
        "    for i in range(n_iter):\n",
        "        # take a step\n",
        "        candidate = mutate(solution, p_mutate)\n",
        "    \n",
        "        # evaluate candidate point\n",
        "        candidate_eval, ix = objective(X, y, candidate)\n",
        "        # check if we should keep the new point\n",
        "        if candidate_eval >= solution_eval:\n",
        "            # store the new point\n",
        "            solution, solution_eval = candidate, candidate_eval\n",
        "            output.append(solution_eval)\n",
        "        # report progress\n",
        "        #print('>%d f(%s) = %f' % (i+1, len(ix), solution_eval))\n",
        "    return solution, solution_eval,output"
      ],
      "execution_count": null,
      "outputs": []
    },
    {
      "cell_type": "markdown",
      "metadata": {
        "id": "OOj1RFvQTnFV"
      },
      "source": [
        "### **Define the total iterations**"
      ]
    },
    {
      "cell_type": "code",
      "metadata": {
        "id": "2LYKJAjTTnFV"
      },
      "source": [
        "n_iter = 100\n",
        "# probability of including/excluding a column\n",
        "p_mut = 10.0 / 500.0\n",
        "# perform the hill climbing search\n",
        "subset, score,output = hillclimbing(X, y, objective, n_iter, p_mut)\n",
        "# convert into column indexes\n",
        "ix = [i for i, x in enumerate(subset) if x]"
      ],
      "execution_count": null,
      "outputs": []
    },
    {
      "cell_type": "code",
      "metadata": {
        "id": "qOUBCRLPTnFV",
        "colab": {
          "base_uri": "https://localhost:8080/",
          "height": 265
        },
        "outputId": "4ff60f10-1187-4a34-e545-8807b6b4ec8a"
      },
      "source": [
        "plt.plot(output)\n",
        "plt.ylabel('score')\n",
        "plt.show()"
      ],
      "execution_count": null,
      "outputs": [
        {
          "output_type": "display_data",
          "data": {
            "image/png": "[encoded data removed]",
            "text/plain": [
              "<Figure size 432x288 with 1 Axes>"
            ]
          },
          "metadata": {
            "needs_background": "light"
          }
        }
      ]
    },
    {
      "cell_type": "markdown",
      "metadata": {
        "id": "JczNt3CITnFV"
      },
      "source": [
        "### **Features**"
      ]
    },
    {
      "cell_type": "code",
      "metadata": {
        "id": "hxlPF8ffTnFV",
        "colab": {
          "base_uri": "https://localhost:8080/"
        },
        "outputId": "0bd7c631-a326-408c-f999-8a8de02ba1e4"
      },
      "source": [
        "print(\"Optimized feature\",subset)\n",
        "print(\"Optimized column rows:\",ix)\n"
      ],
      "execution_count": null,
      "outputs": [
        {
          "output_type": "stream",
          "name": "stdout",
          "text": [
            "Optimized feature [ True False  True False False  True False  True  True  True  True]\n",
            "Optimized column rows: [0, 2, 5, 7, 8, 9, 10]\n"
          ]
        }
      ]
    },
    {
      "cell_type": "code",
      "metadata": {
        "id": "cpXk83KQTnFV",
        "colab": {
          "base_uri": "https://localhost:8080/",
          "height": 656
        },
        "outputId": "27cffac8-1922-4c26-e2b5-6fc9a912f39f"
      },
      "source": [
        ";#model = MultinomialNB(alpha=1.0, fit_prior=False, class_prior=None)\n",
        "estimator = MultinomialNB(alpha=1.0, fit_prior=True, class_prior=None)\n",
        "x_input = x_score[:, ix]\n",
        "estimator.fit( X[:, ix],y.ravel())\n",
        "y_score_pred = estimator.predict(x_input) \n",
        "mse_test = mean_squared_error(y_score.ravel(), y_score_pred)\n",
        "print(\"mse_test score:\",mse_test);\n",
        "\n",
        "y_score_pred_auc = roc_auc_score(y_score.ravel(), y_score_pred)\n",
        "\n",
        "fpr, tpr, _ = roc_curve(y_score, y_score_pred)\n",
        "# Compute micro-average ROC curve and ROC area\n",
        "roc_auc = auc(fpr, tpr)\n",
        "plt.figure()\n",
        "lw = 2\n",
        "plt.subplots(figsize=(10, 10))\n",
        "pyplot.plot(fpr, tpr, label='No Skill  curve (area=0.50)')\n",
        "plt.plot(fpr, tpr, color='darkorange',\n",
        "         lw=lw, label='NB-ROC curve (area = %0.2f)' % roc_auc);\n",
        "\n",
        "plt.plot([0, 1], [0, 1], color='navy', lw=lw, linestyle='--')\n",
        "plt.xlim([0.0, 1.0])\n",
        "plt.ylim([0.0, 1.05])\n",
        "plt.xlabel('False Positive Rate')\n",
        "plt.ylabel('True Positive Rate')\n",
        "plt.title('Receiver operating characteristic example')\n",
        "plt.legend(loc=\"lower right\")\n",
        "plt.show();"
      ],
      "execution_count": null,
      "outputs": [
        {
          "output_type": "stream",
          "name": "stdout",
          "text": [
            "mse_test score: 0.16470588235294117\n"
          ]
        },
        {
          "output_type": "display_data",
          "data": {
            "text/plain": [
              "<Figure size 432x288 with 0 Axes>"
            ]
          },
          "metadata": {}
        },
        {
          "output_type": "display_data",
          "data": {
            "image/png": "[encoded data removed]",
            "text/plain": [
              "<Figure size 720x720 with 1 Axes>"
            ]
          },
          "metadata": {
            "needs_background": "light"
          }
        }
      ]
    }
  ]
}