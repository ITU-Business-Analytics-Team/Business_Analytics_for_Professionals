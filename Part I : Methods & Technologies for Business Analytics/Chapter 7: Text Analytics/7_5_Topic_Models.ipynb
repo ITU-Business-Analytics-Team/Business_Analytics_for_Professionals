{
  "cells": [
    {
      "cell_type": "markdown",
      "metadata": {
        "id": "view-in-github",
        "colab_type": "text"
      },
      "source": [
        "<a href=\"https://colab.research.google.com/github/ITU-Business-Analytics-Team/Business_Analytics_for_Professionals/blob/main/Part%20I%20%3A%20Methods%20%26%20Technologies%20for%20Business%20Analytics/Chapter%207%3A%20Text%20Analytics/7_5_Topic_Models.ipynb\" target=\"_parent\"><img src=\"https://colab.research.google.com/assets/colab-badge.svg\" alt=\"Open In Colab\"/></a>"
      ]
    },
    {
      "cell_type": "markdown",
      "metadata": {
        "id": "u__Xvx80S6ze"
      },
      "source": [
        "# **Text Analytics**\n",
        "## Topic Models\n",
        "Topic modeling, similar to clustering, is an unsupervised learning method that helps to find the topics in the text when the searched groups . In this method, the primary goal is to utilize mathematical and statistical methods to identify hidden and latent semantic patterns in a corpus of data. "
      ]
    },
    {
      "cell_type": "code",
      "execution_count": null,
      "metadata": {
        "colab": {
          "base_uri": "https://localhost:8080/"
        },
        "id": "o3lPFDOtS6zi",
        "outputId": "18b1c1ea-d9bc-4311-c425-c2699fc7f673"
      },
      "outputs": [
        {
          "name": "stdout",
          "output_type": "stream",
          "text": [
            "[nltk_data] Downloading package stopwords to /root/nltk_data...\n",
            "[nltk_data]   Package stopwords is already up-to-date!\n"
          ]
        },
        {
          "data": {
            "text/plain": [
              "True"
            ]
          },
          "execution_count": 4,
          "metadata": {},
          "output_type": "execute_result"
        }
      ],
      "source": [
        "import string\n",
        "import pandas as pd\n",
        "import numpy as np\n",
        "from nltk.corpus import stopwords\n",
        "from nltk.stem import wordnet\n",
        "from sklearn.feature_extraction.text import TfidfVectorizer\n",
        "import nltk\n",
        "nltk.download('stopwords')"
      ]
    },
    {
      "cell_type": "code",
      "execution_count": null,
      "metadata": {
        "id": "sKe4AuGbfYww"
      },
      "outputs": [],
      "source": [
        "# read the data  \n",
        "url=   'https://drive.google.com/file/d/1Qcgk-dsDsAi1zO_OiZltvCGBC2U6fVLc/view?usp=sharing'\n",
        "path = 'https://drive.google.com/uc?export=download&id='+url.split('/')[-2]\n",
        "df = pd.read_csv(path)"
      ]
    },
    {
      "cell_type": "code",
      "execution_count": null,
      "metadata": {
        "colab": {
          "base_uri": "https://localhost:8080/",
          "height": 667
        },
        "id": "7G2qXpOyf1Nx",
        "outputId": "786e8dd1-7a7c-492b-919f-1844b10902c4"
      },
      "outputs": [
        {
          "data": {
            "text/html": [
              "<div>\n",
              "<style scoped>\n",
              "    .dataframe tbody tr th:only-of-type {\n",
              "        vertical-align: middle;\n",
              "    }\n",
              "\n",
              "    .dataframe tbody tr th {\n",
              "        vertical-align: top;\n",
              "    }\n",
              "\n",
              "    .dataframe thead th {\n",
              "        text-align: right;\n",
              "    }\n",
              "</style>\n",
              "<table border=\"1\" class=\"dataframe\">\n",
              "  <thead>\n",
              "    <tr style=\"text-align: right;\">\n",
              "      <th></th>\n",
              "      <th>Unnamed: 0</th>\n",
              "      <th>Date received</th>\n",
              "      <th>Product</th>\n",
              "      <th>Sub-product</th>\n",
              "      <th>Issue</th>\n",
              "      <th>Sub-issue</th>\n",
              "      <th>Consumer complaint narrative</th>\n",
              "      <th>Company public response</th>\n",
              "      <th>Company</th>\n",
              "      <th>State</th>\n",
              "      <th>ZIP code</th>\n",
              "      <th>Tags</th>\n",
              "      <th>Consumer consent provided?</th>\n",
              "      <th>Submitted via</th>\n",
              "      <th>Date sent to company</th>\n",
              "      <th>Company response to consumer</th>\n",
              "      <th>Timely response?</th>\n",
              "      <th>Consumer disputed?</th>\n",
              "      <th>Complaint ID</th>\n",
              "    </tr>\n",
              "  </thead>\n",
              "  <tbody>\n",
              "    <tr>\n",
              "      <th>1</th>\n",
              "      <td>623002</td>\n",
              "      <td>08/07/2016</td>\n",
              "      <td>Student loan</td>\n",
              "      <td>Federal student loan servicing</td>\n",
              "      <td>Dealing with my lender or servicer</td>\n",
              "      <td>Having problems with customer service</td>\n",
              "      <td>Enrolled in paperless billing. Was not billed ...</td>\n",
              "      <td>NaN</td>\n",
              "      <td>ACS Education Services</td>\n",
              "      <td>NY</td>\n",
              "      <td>110XX</td>\n",
              "      <td>NaN</td>\n",
              "      <td>Consent provided</td>\n",
              "      <td>Web</td>\n",
              "      <td>08/07/2016</td>\n",
              "      <td>Closed with explanation</td>\n",
              "      <td>Yes</td>\n",
              "      <td>No</td>\n",
              "      <td>2049664</td>\n",
              "    </tr>\n",
              "    <tr>\n",
              "      <th>12</th>\n",
              "      <td>226883</td>\n",
              "      <td>11/11/2015</td>\n",
              "      <td>Debt collection</td>\n",
              "      <td>Other (i.e. phone, health club, etc.)</td>\n",
              "      <td>Cont'd attempts collect debt not owed</td>\n",
              "      <td>Debt was paid</td>\n",
              "      <td>We lost our home ( of almost 14 years ) to for...</td>\n",
              "      <td>NaN</td>\n",
              "      <td>Diversified Consultants, Inc.</td>\n",
              "      <td>WI</td>\n",
              "      <td>539XX</td>\n",
              "      <td>NaN</td>\n",
              "      <td>Consent provided</td>\n",
              "      <td>Web</td>\n",
              "      <td>11/11/2015</td>\n",
              "      <td>Closed with explanation</td>\n",
              "      <td>Yes</td>\n",
              "      <td>No</td>\n",
              "      <td>1650657</td>\n",
              "    </tr>\n",
              "    <tr>\n",
              "      <th>28</th>\n",
              "      <td>602022</td>\n",
              "      <td>09/20/2016</td>\n",
              "      <td>Credit reporting</td>\n",
              "      <td>NaN</td>\n",
              "      <td>Credit reporting company's investigation</td>\n",
              "      <td>No notice of investigation status/result</td>\n",
              "      <td>Trans Union had a glitch in their system that ...</td>\n",
              "      <td>Company has responded to the consumer and the ...</td>\n",
              "      <td>TransUnion Intermediate Holdings, Inc.</td>\n",
              "      <td>TX</td>\n",
              "      <td>770XX</td>\n",
              "      <td>NaN</td>\n",
              "      <td>Consent provided</td>\n",
              "      <td>Web</td>\n",
              "      <td>09/20/2016</td>\n",
              "      <td>Closed with non-monetary relief</td>\n",
              "      <td>Yes</td>\n",
              "      <td>NaN</td>\n",
              "      <td>2121069</td>\n",
              "    </tr>\n",
              "    <tr>\n",
              "      <th>32</th>\n",
              "      <td>378090</td>\n",
              "      <td>02/23/2016</td>\n",
              "      <td>Debt collection</td>\n",
              "      <td>Credit card</td>\n",
              "      <td>Disclosure verification of debt</td>\n",
              "      <td>Not disclosed as an attempt to collect</td>\n",
              "      <td>received notice from collection agency that I ...</td>\n",
              "      <td>NaN</td>\n",
              "      <td>Synchrony Financial</td>\n",
              "      <td>NY</td>\n",
              "      <td>139XX</td>\n",
              "      <td>Older American</td>\n",
              "      <td>Consent provided</td>\n",
              "      <td>Web</td>\n",
              "      <td>02/25/2016</td>\n",
              "      <td>Closed with monetary relief</td>\n",
              "      <td>Yes</td>\n",
              "      <td>No</td>\n",
              "      <td>1799253</td>\n",
              "    </tr>\n",
              "    <tr>\n",
              "      <th>37</th>\n",
              "      <td>365525</td>\n",
              "      <td>11/02/2015</td>\n",
              "      <td>Credit card</td>\n",
              "      <td>NaN</td>\n",
              "      <td>Closing/Cancelling account</td>\n",
              "      <td>NaN</td>\n",
              "      <td>I have had a Citi Bank Credit card for several...</td>\n",
              "      <td>Company chooses not to provide a public response</td>\n",
              "      <td>Citibank</td>\n",
              "      <td>LA</td>\n",
              "      <td>703XX</td>\n",
              "      <td>NaN</td>\n",
              "      <td>Consent provided</td>\n",
              "      <td>Web</td>\n",
              "      <td>11/02/2015</td>\n",
              "      <td>Closed with explanation</td>\n",
              "      <td>Yes</td>\n",
              "      <td>No</td>\n",
              "      <td>1634875</td>\n",
              "    </tr>\n",
              "  </tbody>\n",
              "</table>\n",
              "</div>"
            ],
            "text/plain": [
              "    Unnamed: 0 Date received  ... Consumer disputed? Complaint ID\n",
              "1       623002    08/07/2016  ...                 No      2049664\n",
              "12      226883    11/11/2015  ...                 No      1650657\n",
              "28      602022    09/20/2016  ...                NaN      2121069\n",
              "32      378090    02/23/2016  ...                 No      1799253\n",
              "37      365525    11/02/2015  ...                 No      1634875\n",
              "\n",
              "[5 rows x 19 columns]"
            ]
          },
          "execution_count": 6,
          "metadata": {},
          "output_type": "execute_result"
        }
      ],
      "source": [
        "df[~df['Consumer complaint narrative'].isna()].head()"
      ]
    },
    {
      "cell_type": "code",
      "execution_count": null,
      "metadata": {
        "id": "Buz8bEFJS6zl"
      },
      "outputs": [],
      "source": [
        "#Select only complaint text data and take samples\n",
        "cl_data = df[['Consumer complaint narrative']]\n",
        "cl_data = cl_data[pd.notnull(cl_data['Consumer complaint narrative'])]\n",
        "cl_data['Consumer complaint narrative'] = cl_data['Consumer complaint narrative'].str.replace('XXXX','')\n",
        "complaints = cl_data['Consumer complaint narrative'].tolist()"
      ]
    },
    {
      "cell_type": "code",
      "execution_count": null,
      "metadata": {
        "id": "Wd6pe5K7S6zl"
      },
      "outputs": [],
      "source": [
        "# Load Stop Words\n",
        "stop = stopwords.words('english')\n",
        "\n",
        "# Load Lemmatizer\n",
        "lem = wordnet.WordNetLemmatizer()"
      ]
    },
    {
      "cell_type": "code",
      "execution_count": null,
      "metadata": {
        "id": "-BMp2zCtS6zm"
      },
      "outputs": [],
      "source": [
        "def preprocess_text(text):\n",
        "    # Remove punctuations\n",
        "    for c in string.punctuation:\n",
        "        text= text.replace(c,\"\")\n",
        "        \n",
        "    ## Tokenize (convert from string to list) and convert to lowercase\n",
        "    lst_text = [word.lower() for word in text.split()]\n",
        "            \n",
        "    ## Remove Stopwords\n",
        "    lst_text = [word for word in lst_text if word not in stop] \n",
        "    \n",
        "    ## Lemmatisation (convert the word into root word)\n",
        "    lst_text = [lem.lemmatize(word) for word in lst_text] \n",
        "    \n",
        "    return lst_text"
      ]
    },
    {
      "cell_type": "code",
      "execution_count": null,
      "metadata": {
        "colab": {
          "base_uri": "https://localhost:8080/"
        },
        "id": "uTtJO1XhS6zm",
        "outputId": "cf9d7291-3670-4192-d7c2-c3635f64a8ce"
      },
      "outputs": [
        {
          "name": "stdout",
          "output_type": "stream",
          "text": [
            "[nltk_data] Downloading package wordnet to /root/nltk_data...\n",
            "[nltk_data]   Unzipping corpora/wordnet.zip.\n",
            "(1688, 89)\n"
          ]
        }
      ],
      "source": [
        "nltk.download('wordnet')\n",
        "vectorizer = TfidfVectorizer(max_features=10000, use_idf=True, tokenizer=preprocess_text, ngram_range=(1,2), max_df=0.9, min_df=0.1)\n",
        "#fit the vectorizer to data\n",
        "tfidf_matrix = vectorizer.fit_transform(complaints)\n",
        "terms = np.array(vectorizer.get_feature_names())\n",
        "print(tfidf_matrix.shape)"
      ]
    },
    {
      "cell_type": "code",
      "execution_count": null,
      "metadata": {
        "id": "C-KCmTOlS6zn"
      },
      "outputs": [],
      "source": [
        "topic_count = 5"
      ]
    },
    {
      "cell_type": "markdown",
      "metadata": {
        "id": "VYLNanuTS6zn"
      },
      "source": [
        "### 5.1\tLatent Dirichlet Allocation (LDA)\n",
        "Using Dirichlet distributions, it creates a topic per document model and a words per topic model, which are both used in the analysis. The model uses the topic for each word, the distribution over topics for each document, and the distribution of words per topic."
      ]
    },
    {
      "cell_type": "code",
      "execution_count": null,
      "metadata": {
        "colab": {
          "background_save": true
        },
        "id": "-W7r4kTTS6zo"
      },
      "outputs": [],
      "source": [
        "from sklearn.decomposition import LatentDirichletAllocation\n",
        "lda_model = LatentDirichletAllocation(n_components =topic_count, max_iter=100, max_doc_update_iter=50, learning_method='online', batch_size=1740, learning_offset=50., random_state=1, n_jobs=8)\n",
        "document_topics = lda_model.fit_transform(tfidf_matrix)"
      ]
    },
    {
      "cell_type": "code",
      "execution_count": null,
      "metadata": {
        "colab": {
          "background_save": true
        },
        "id": "KmVEaU96S6zo",
        "outputId": "3231151d-d3dd-4dc3-b373-56825abded5a"
      },
      "outputs": [
        {
          "data": {
            "text/html": [
              "<div>\n",
              "<style scoped>\n",
              "    .dataframe tbody tr th:only-of-type {\n",
              "        vertical-align: middle;\n",
              "    }\n",
              "\n",
              "    .dataframe tbody tr th {\n",
              "        vertical-align: top;\n",
              "    }\n",
              "\n",
              "    .dataframe thead th {\n",
              "        text-align: right;\n",
              "    }\n",
              "</style>\n",
              "<table border=\"1\" class=\"dataframe\">\n",
              "  <thead>\n",
              "    <tr style=\"text-align: right;\">\n",
              "      <th></th>\n",
              "      <th>topic_1</th>\n",
              "      <th>topic_2</th>\n",
              "      <th>topic_3</th>\n",
              "      <th>topic_4</th>\n",
              "      <th>topic_5</th>\n",
              "    </tr>\n",
              "  </thead>\n",
              "  <tbody>\n",
              "    <tr>\n",
              "      <th>account</th>\n",
              "      <td>55.747196</td>\n",
              "      <td>12.141492</td>\n",
              "      <td>12.913193</td>\n",
              "      <td>70.248232</td>\n",
              "      <td>44.956023</td>\n",
              "    </tr>\n",
              "    <tr>\n",
              "      <th>agency</th>\n",
              "      <td>1.803167</td>\n",
              "      <td>8.224702</td>\n",
              "      <td>0.412084</td>\n",
              "      <td>35.927665</td>\n",
              "      <td>0.704039</td>\n",
              "    </tr>\n",
              "    <tr>\n",
              "      <th>also</th>\n",
              "      <td>19.735404</td>\n",
              "      <td>15.796552</td>\n",
              "      <td>2.736318</td>\n",
              "      <td>12.137725</td>\n",
              "      <td>5.855707</td>\n",
              "    </tr>\n",
              "    <tr>\n",
              "      <th>amount</th>\n",
              "      <td>34.079858</td>\n",
              "      <td>9.123685</td>\n",
              "      <td>0.232214</td>\n",
              "      <td>8.795503</td>\n",
              "      <td>6.176427</td>\n",
              "    </tr>\n",
              "    <tr>\n",
              "      <th>another</th>\n",
              "      <td>17.698695</td>\n",
              "      <td>4.892368</td>\n",
              "      <td>0.741612</td>\n",
              "      <td>8.804510</td>\n",
              "      <td>3.408676</td>\n",
              "    </tr>\n",
              "    <tr>\n",
              "      <th>...</th>\n",
              "      <td>...</td>\n",
              "      <td>...</td>\n",
              "      <td>...</td>\n",
              "      <td>...</td>\n",
              "      <td>...</td>\n",
              "    </tr>\n",
              "    <tr>\n",
              "      <th>without</th>\n",
              "      <td>14.387017</td>\n",
              "      <td>3.267772</td>\n",
              "      <td>0.405290</td>\n",
              "      <td>10.197797</td>\n",
              "      <td>7.038904</td>\n",
              "    </tr>\n",
              "    <tr>\n",
              "      <th>work</th>\n",
              "      <td>14.428655</td>\n",
              "      <td>17.852717</td>\n",
              "      <td>0.225111</td>\n",
              "      <td>1.392196</td>\n",
              "      <td>1.607232</td>\n",
              "    </tr>\n",
              "    <tr>\n",
              "      <th>would</th>\n",
              "      <td>51.219257</td>\n",
              "      <td>17.425856</td>\n",
              "      <td>0.651501</td>\n",
              "      <td>9.426870</td>\n",
              "      <td>14.539913</td>\n",
              "    </tr>\n",
              "    <tr>\n",
              "      <th>xxxx</th>\n",
              "      <td>48.938334</td>\n",
              "      <td>2.524256</td>\n",
              "      <td>0.408600</td>\n",
              "      <td>15.075444</td>\n",
              "      <td>2.129077</td>\n",
              "    </tr>\n",
              "    <tr>\n",
              "      <th>year</th>\n",
              "      <td>34.262940</td>\n",
              "      <td>9.011985</td>\n",
              "      <td>2.137163</td>\n",
              "      <td>19.123434</td>\n",
              "      <td>8.503512</td>\n",
              "    </tr>\n",
              "  </tbody>\n",
              "</table>\n",
              "<p>89 rows × 5 columns</p>\n",
              "</div>"
            ],
            "text/plain": [
              "           topic_1    topic_2    topic_3    topic_4    topic_5\n",
              "account  55.747196  12.141492  12.913193  70.248232  44.956023\n",
              "agency    1.803167   8.224702   0.412084  35.927665   0.704039\n",
              "also     19.735404  15.796552   2.736318  12.137725   5.855707\n",
              "amount   34.079858   9.123685   0.232214   8.795503   6.176427\n",
              "another  17.698695   4.892368   0.741612   8.804510   3.408676\n",
              "...            ...        ...        ...        ...        ...\n",
              "without  14.387017   3.267772   0.405290  10.197797   7.038904\n",
              "work     14.428655  17.852717   0.225111   1.392196   1.607232\n",
              "would    51.219257  17.425856   0.651501   9.426870  14.539913\n",
              "xxxx     48.938334   2.524256   0.408600  15.075444   2.129077\n",
              "year     34.262940   9.011985   2.137163  19.123434   8.503512\n",
              "\n",
              "[89 rows x 5 columns]"
            ]
          },
          "execution_count": null,
          "metadata": {},
          "output_type": "execute_result"
        }
      ],
      "source": [
        "# Term-Topic matrix\n",
        "topic_names = [\"topic_1\",\"topic_2\",\"topic_3\",\"topic_4\",\"topic_5\"]\n",
        "encoding_matrix = pd.DataFrame(lda_model.components_, index = topic_names , columns = (terms)).T\n",
        "encoding_matrix"
      ]
    },
    {
      "cell_type": "code",
      "execution_count": null,
      "metadata": {
        "colab": {
          "background_save": true
        },
        "id": "DaBIW7AQS6zp",
        "outputId": "ea50b2fc-2b33-4b70-dcf2-63cbdd00db57"
      },
      "outputs": [
        {
          "data": {
            "text/plain": [
              "topic_1       loan\n",
              "topic_2       call\n",
              "topic_3    request\n",
              "topic_4     credit\n",
              "topic_5       card\n",
              "dtype: object"
            ]
          },
          "execution_count": null,
          "metadata": {},
          "output_type": "execute_result"
        }
      ],
      "source": [
        "encoding_matrix.idxmax(axis=0)"
      ]
    },
    {
      "cell_type": "code",
      "execution_count": null,
      "metadata": {
        "colab": {
          "background_save": true
        },
        "id": "1QrWtlsFS6zp"
      },
      "outputs": [],
      "source": [
        "top_terms = 5\n",
        "topic_terms = lda_model.components_\n",
        "topic_key_term_idxs = np.argsort(-np.absolute(topic_terms), axis=1)[:,:top_terms]\n",
        "topic_keyterms = terms[topic_key_term_idxs]"
      ]
    },
    {
      "cell_type": "code",
      "execution_count": null,
      "metadata": {
        "colab": {
          "background_save": true
        },
        "id": "UA_9dEjzS6zp",
        "outputId": "514cfa7a-b19d-411f-d9c9-efd0fb68ce9a"
      },
      "outputs": [
        {
          "data": {
            "text/html": [
              "<div>\n",
              "<style scoped>\n",
              "    .dataframe tbody tr th:only-of-type {\n",
              "        vertical-align: middle;\n",
              "    }\n",
              "\n",
              "    .dataframe tbody tr th {\n",
              "        vertical-align: top;\n",
              "    }\n",
              "\n",
              "    .dataframe thead th {\n",
              "        text-align: right;\n",
              "    }\n",
              "</style>\n",
              "<table border=\"1\" class=\"dataframe\">\n",
              "  <thead>\n",
              "    <tr style=\"text-align: right;\">\n",
              "      <th></th>\n",
              "      <th>Terms per Topic</th>\n",
              "    </tr>\n",
              "  </thead>\n",
              "  <tbody>\n",
              "    <tr>\n",
              "      <th>topic_1</th>\n",
              "      <td>loan, payment, mortgage, bank, account</td>\n",
              "    </tr>\n",
              "    <tr>\n",
              "      <th>topic_2</th>\n",
              "      <td>call, debt, phone, number, company</td>\n",
              "    </tr>\n",
              "    <tr>\n",
              "      <th>topic_3</th>\n",
              "      <td>request, file, complaint, information, account</td>\n",
              "    </tr>\n",
              "    <tr>\n",
              "      <th>topic_4</th>\n",
              "      <td>credit, report, debt, credit report, account</td>\n",
              "    </tr>\n",
              "    <tr>\n",
              "      <th>topic_5</th>\n",
              "      <td>card, credit card, account, credit, charge</td>\n",
              "    </tr>\n",
              "  </tbody>\n",
              "</table>\n",
              "</div>"
            ],
            "text/plain": [
              "                                        Terms per Topic\n",
              "topic_1          loan, payment, mortgage, bank, account\n",
              "topic_2              call, debt, phone, number, company\n",
              "topic_3  request, file, complaint, information, account\n",
              "topic_4    credit, report, debt, credit report, account\n",
              "topic_5      card, credit card, account, credit, charge"
            ]
          },
          "execution_count": null,
          "metadata": {},
          "output_type": "execute_result"
        }
      ],
      "source": [
        "topics = [', '.join(topic) for topic in topic_keyterms]\n",
        "topics_df = pd.DataFrame(topics, columns = ['Terms per Topic'],index=topic_names)\n",
        "topics_df"
      ]
    },
    {
      "cell_type": "markdown",
      "metadata": {
        "id": "sV5xv3CxS6zq"
      },
      "source": [
        "### 5.2\tLatent Semantic Indexing (LSI)\n",
        "This method accepts as input a collection of documents. The document co-occurrence matrix is used to generate a word-document matrix. It makes ad-vantage of the TF-IDF conversion to eliminate superfluous high-frequency terms from the word-document matrix. Then, each document's weight is nor-malized to its unit length (normalization process). Finally, the Single Value Decomposition (SVD) technique is used to reduce the file size. This method selects the biggest single values."
      ]
    },
    {
      "cell_type": "code",
      "execution_count": null,
      "metadata": {
        "colab": {
          "background_save": true
        },
        "id": "aysiORugS6zq",
        "outputId": "7984ecee-2df1-49f3-e550-2b9ffde623e9"
      },
      "outputs": [
        {
          "data": {
            "text/plain": [
              "(5, 89)"
            ]
          },
          "execution_count": null,
          "metadata": {},
          "output_type": "execute_result"
        }
      ],
      "source": [
        "from sklearn.decomposition import TruncatedSVD\n",
        "lsi_model = TruncatedSVD(n_components=topic_count, n_iter=100, random_state=1)\n",
        "document_topics = lsi_model.fit_transform(tfidf_matrix)\n",
        "topic_terms = lsi_model.components_\n",
        "topic_terms.shape"
      ]
    },
    {
      "cell_type": "code",
      "execution_count": null,
      "metadata": {
        "colab": {
          "background_save": true
        },
        "id": "deffO52OS6zq"
      },
      "outputs": [],
      "source": [
        "topic_terms = lsi_model.components_\n",
        "topic_key_term_idxs = np.argsort(-np.absolute(topic_terms), axis=1)[:,:top_terms]\n",
        "topic_keyterms = terms[topic_key_term_idxs]"
      ]
    },
    {
      "cell_type": "code",
      "execution_count": null,
      "metadata": {
        "colab": {
          "background_save": true
        },
        "id": "8fdrFy4-S6zq",
        "outputId": "0e841f5b-78cf-4120-fd56-9f0937bbb293"
      },
      "outputs": [
        {
          "data": {
            "text/html": [
              "<div>\n",
              "<style scoped>\n",
              "    .dataframe tbody tr th:only-of-type {\n",
              "        vertical-align: middle;\n",
              "    }\n",
              "\n",
              "    .dataframe tbody tr th {\n",
              "        vertical-align: top;\n",
              "    }\n",
              "\n",
              "    .dataframe thead th {\n",
              "        text-align: right;\n",
              "    }\n",
              "</style>\n",
              "<table border=\"1\" class=\"dataframe\">\n",
              "  <thead>\n",
              "    <tr style=\"text-align: right;\">\n",
              "      <th></th>\n",
              "      <th>Terms per Topic</th>\n",
              "    </tr>\n",
              "  </thead>\n",
              "  <tbody>\n",
              "    <tr>\n",
              "      <th>topic_1</th>\n",
              "      <td>account, credit, payment, loan, report</td>\n",
              "    </tr>\n",
              "    <tr>\n",
              "      <th>topic_2</th>\n",
              "      <td>credit, report, loan, credit report, payment</td>\n",
              "    </tr>\n",
              "    <tr>\n",
              "      <th>topic_3</th>\n",
              "      <td>account, debt, loan, card, bank</td>\n",
              "    </tr>\n",
              "    <tr>\n",
              "      <th>topic_4</th>\n",
              "      <td>debt, loan, credit, report, credit report</td>\n",
              "    </tr>\n",
              "    <tr>\n",
              "      <th>topic_5</th>\n",
              "      <td>account, card, credit card, loan, credit</td>\n",
              "    </tr>\n",
              "  </tbody>\n",
              "</table>\n",
              "</div>"
            ],
            "text/plain": [
              "                                      Terms per Topic\n",
              "topic_1        account, credit, payment, loan, report\n",
              "topic_2  credit, report, loan, credit report, payment\n",
              "topic_3               account, debt, loan, card, bank\n",
              "topic_4     debt, loan, credit, report, credit report\n",
              "topic_5      account, card, credit card, loan, credit"
            ]
          },
          "execution_count": null,
          "metadata": {},
          "output_type": "execute_result"
        }
      ],
      "source": [
        "topics = [', '.join(topic) for topic in topic_keyterms]\n",
        "topics_df = pd.DataFrame(topics, columns = ['Terms per Topic'],index=topic_names)\n",
        "topics_df"
      ]
    },
    {
      "cell_type": "markdown",
      "metadata": {
        "id": "5tmvOKrES6zr"
      },
      "source": [
        "### 5.3\tNon-Negative Matrix Factorization (NMF)\n",
        "NMF factorizes higher dimensional matrices into lower dimensional fac-tors. Coefficients of low-dimensional matrices are not negative. Let's take a matrix where we have a matrix of articles by words. When this matrix is de-composed, articles by topics and topics by words are obtained."
      ]
    },
    {
      "cell_type": "code",
      "execution_count": null,
      "metadata": {
        "colab": {
          "background_save": true
        },
        "id": "5eFPcDkvS6zr"
      },
      "outputs": [],
      "source": [
        "from sklearn.decomposition import NMF\n",
        "nmf_model = NMF(n_components=topic_count, solver='cd', max_iter=500, random_state=1, alpha=.1, l1_ratio=.80)\n",
        "document_topics = nmf_model.fit_transform(tfidf_matrix)"
      ]
    },
    {
      "cell_type": "code",
      "execution_count": null,
      "metadata": {
        "colab": {
          "background_save": true
        },
        "id": "Jx13wSFxS6zr"
      },
      "outputs": [],
      "source": [
        "topic_terms = nmf_model.components_\n",
        "topic_key_term_idxs = np.argsort(-np.absolute(topic_terms), axis=1)[:,:top_terms]\n",
        "topic_keyterms = terms[topic_key_term_idxs]"
      ]
    },
    {
      "cell_type": "code",
      "execution_count": null,
      "metadata": {
        "colab": {
          "background_save": true
        },
        "id": "YWqaQEh7S6zs",
        "outputId": "c62603f1-f491-4c05-93e8-ccf0f9b9296a"
      },
      "outputs": [
        {
          "data": {
            "text/html": [
              "<div>\n",
              "<style scoped>\n",
              "    .dataframe tbody tr th:only-of-type {\n",
              "        vertical-align: middle;\n",
              "    }\n",
              "\n",
              "    .dataframe tbody tr th {\n",
              "        vertical-align: top;\n",
              "    }\n",
              "\n",
              "    .dataframe thead th {\n",
              "        text-align: right;\n",
              "    }\n",
              "</style>\n",
              "<table border=\"1\" class=\"dataframe\">\n",
              "  <thead>\n",
              "    <tr style=\"text-align: right;\">\n",
              "      <th></th>\n",
              "      <th>Terms per Topic</th>\n",
              "    </tr>\n",
              "  </thead>\n",
              "  <tbody>\n",
              "    <tr>\n",
              "      <th>topic_1</th>\n",
              "      <td>loan, payment, mortgage, would, told</td>\n",
              "    </tr>\n",
              "    <tr>\n",
              "      <th>topic_2</th>\n",
              "      <td>credit, report, credit report, reporting, info...</td>\n",
              "    </tr>\n",
              "    <tr>\n",
              "      <th>topic_3</th>\n",
              "      <td>account, bank, information, check, money</td>\n",
              "    </tr>\n",
              "    <tr>\n",
              "      <th>topic_4</th>\n",
              "      <td>debt, collection, company, call, agency</td>\n",
              "    </tr>\n",
              "    <tr>\n",
              "      <th>topic_5</th>\n",
              "      <td>card, credit card, credit, charge, fee</td>\n",
              "    </tr>\n",
              "  </tbody>\n",
              "</table>\n",
              "</div>"
            ],
            "text/plain": [
              "                                           Terms per Topic\n",
              "topic_1               loan, payment, mortgage, would, told\n",
              "topic_2  credit, report, credit report, reporting, info...\n",
              "topic_3           account, bank, information, check, money\n",
              "topic_4            debt, collection, company, call, agency\n",
              "topic_5             card, credit card, credit, charge, fee"
            ]
          },
          "execution_count": null,
          "metadata": {},
          "output_type": "execute_result"
        }
      ],
      "source": [
        "topics = [', '.join(topic) for topic in topic_keyterms]\n",
        "topics_df = pd.DataFrame(topics, columns = ['Terms per Topic'],index=topic_names)\n",
        "topics_df.head()"
      ]
    }
  ],
  "metadata": {
    "colab": {
      "collapsed_sections": [],
      "name": "7.5. Topic Models.ipynb",
      "provenance": [],
      "include_colab_link": true
    },
    "kernelspec": {
      "display_name": "Python 3",
      "language": "python",
      "name": "python3"
    },
    "language_info": {
      "codemirror_mode": {
        "name": "ipython",
        "version": 3
      },
      "file_extension": ".py",
      "mimetype": "text/x-python",
      "name": "python",
      "nbconvert_exporter": "python",
      "pygments_lexer": "ipython3",
      "version": "3.8.3"
    }
  },
  "nbformat": 4,
  "nbformat_minor": 0
}