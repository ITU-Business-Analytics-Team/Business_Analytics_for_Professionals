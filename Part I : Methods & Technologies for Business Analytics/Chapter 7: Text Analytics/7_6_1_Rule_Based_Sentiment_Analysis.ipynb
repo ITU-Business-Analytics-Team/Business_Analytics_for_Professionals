{
  "nbformat": 4,
  "nbformat_minor": 5,
  "metadata": {
    "kernelspec": {
      "display_name": "Python 3",
      "language": "python",
      "name": "python3"
    },
    "language_info": {
      "codemirror_mode": {
        "name": "ipython",
        "version": 3
      },
      "file_extension": ".py",
      "mimetype": "text/x-python",
      "name": "python",
      "nbconvert_exporter": "python",
      "pygments_lexer": "ipython3",
      "version": "3.8.8"
    },
    "colab": {
      "name": "7.6.1. Rule Based Sentiment Analysis.ipynb",
      "provenance": [],
      "collapsed_sections": [],
      "include_colab_link": true
    }
  },
  "cells": [
    {
      "cell_type": "markdown",
      "metadata": {
        "id": "view-in-github",
        "colab_type": "text"
      },
      "source": [
        "<a href=\"https://colab.research.google.com/github/ITU-Business-Analytics-Team/Business_Analytics_for_Professionals/blob/main/Part%20I%20%3A%20Methods%20%26%20Technologies%20for%20Business%20Analytics/Chapter%207%3A%20Text%20Analytics/7_6_1_Rule_Based_Sentiment_Analysis.ipynb\" target=\"_parent\"><img src=\"https://colab.research.google.com/assets/colab-badge.svg\" alt=\"Open In Colab\"/></a>"
      ]
    },
    {
      "cell_type": "markdown",
      "metadata": {
        "id": "356498f8"
      },
      "source": [
        "# **Text Analytics**\n",
        "## Sentiment Analysis"
      ],
      "id": "356498f8"
    },
    {
      "cell_type": "markdown",
      "metadata": {
        "id": "b4792e57"
      },
      "source": [
        "### Rule-based Sentiment Analysis"
      ],
      "id": "b4792e57"
    },
    {
      "cell_type": "markdown",
      "metadata": {
        "id": "cda1b32d"
      },
      "source": [
        "In this notebook, rule-based sentiment anlaysis is explained with hotel reviews dataset using NLTK Vader Sentiment Analysis tool. First, the dataset is downloaded to be investigated."
      ],
      "id": "cda1b32d"
    },
    {
      "cell_type": "code",
      "metadata": {
        "colab": {
          "base_uri": "https://localhost:8080/",
          "height": 102
        },
        "id": "592fe735",
        "outputId": "2ec5bc47-499d-4906-dbb6-115632c5b7a6"
      },
      "source": [
        "import gdown\n",
        "url = 'https://drive.google.com/uc?id=1pQpUru4YLIxOZ452wJVvKp2aWXXc15aI'\n",
        "output = '7.6.1. Rule Based Sentiment Analysis.zip'\n",
        "gdown.download(url, output, quiet=False)"
      ],
      "id": "592fe735",
      "execution_count": null,
      "outputs": [
        {
          "output_type": "stream",
          "name": "stderr",
          "text": [
            "Downloading...\n",
            "From: https://drive.google.com/uc?id=1pQpUru4YLIxOZ452wJVvKp2aWXXc15aI\n",
            "To: /content/7.6.1. Rule Based Sentiment Analysis.zip\n",
            "100%|██████████| 47.3M/47.3M [00:00<00:00, 72.6MB/s]\n"
          ]
        },
        {
          "output_type": "execute_result",
          "data": {
            "application/vnd.google.colaboratory.intrinsic+json": {
              "type": "string"
            },
            "text/plain": [
              "'7.6.1. Rule Based Sentiment Analysis.zip'"
            ]
          },
          "metadata": {},
          "execution_count": 16
        }
      ]
    },
    {
      "cell_type": "code",
      "metadata": {
        "colab": {
          "base_uri": "https://localhost:8080/"
        },
        "id": "0deb28e4",
        "outputId": "c3f0bcf5-8b20-4d6e-893f-f2d35e0d89c3"
      },
      "source": [
        "!unzip '7.6.1. Rule Based Sentiment Analysis.zip'"
      ],
      "id": "0deb28e4",
      "execution_count": null,
      "outputs": [
        {
          "output_type": "stream",
          "name": "stdout",
          "text": [
            "Archive:  7.6.1. Rule Based Sentiment Analysis.zip\n",
            "replace Hotel_Reviews.csv? [y]es, [n]o, [A]ll, [N]one, [r]ename: n\n"
          ]
        }
      ]
    },
    {
      "cell_type": "code",
      "metadata": {
        "id": "7a5f7ec0"
      },
      "source": [
        "import pandas as pd\n",
        "import numpy as np"
      ],
      "id": "7a5f7ec0",
      "execution_count": null,
      "outputs": []
    },
    {
      "cell_type": "code",
      "metadata": {
        "colab": {
          "base_uri": "https://localhost:8080/",
          "height": 203
        },
        "id": "ebcead49",
        "outputId": "7e48cb14-ca9c-4e03-9597-52785c694061"
      },
      "source": [
        "reviews_df = pd.read_csv(\"Hotel_Reviews.csv\")\n",
        "# append the positive and negative text reviews\n",
        "reviews_df[\"review\"] = reviews_df[\"Negative_Review\"] + reviews_df[\"Positive_Review\"]\n",
        "# create the label\n",
        "reviews_df[\"is_bad_review\"] = reviews_df[\"Reviewer_Score\"].apply(lambda x: 1 if x < 5 else 0)\n",
        "# select only relevant columns\n",
        "reviews_df = reviews_df[[\"review\", \"is_bad_review\"]]\n",
        "reviews_df.head()"
      ],
      "id": "ebcead49",
      "execution_count": null,
      "outputs": [
        {
          "output_type": "execute_result",
          "data": {
            "text/html": [
              "<div>\n",
              "<style scoped>\n",
              "    .dataframe tbody tr th:only-of-type {\n",
              "        vertical-align: middle;\n",
              "    }\n",
              "\n",
              "    .dataframe tbody tr th {\n",
              "        vertical-align: top;\n",
              "    }\n",
              "\n",
              "    .dataframe thead th {\n",
              "        text-align: right;\n",
              "    }\n",
              "</style>\n",
              "<table border=\"1\" class=\"dataframe\">\n",
              "  <thead>\n",
              "    <tr style=\"text-align: right;\">\n",
              "      <th></th>\n",
              "      <th>review</th>\n",
              "      <th>is_bad_review</th>\n",
              "    </tr>\n",
              "  </thead>\n",
              "  <tbody>\n",
              "    <tr>\n",
              "      <th>0</th>\n",
              "      <td>I am so angry that i made this post available...</td>\n",
              "      <td>1</td>\n",
              "    </tr>\n",
              "    <tr>\n",
              "      <th>1</th>\n",
              "      <td>No Negative No real complaints the hotel was g...</td>\n",
              "      <td>0</td>\n",
              "    </tr>\n",
              "    <tr>\n",
              "      <th>2</th>\n",
              "      <td>Rooms are nice but for elderly a bit difficul...</td>\n",
              "      <td>0</td>\n",
              "    </tr>\n",
              "    <tr>\n",
              "      <th>3</th>\n",
              "      <td>My room was dirty and I was afraid to walk ba...</td>\n",
              "      <td>1</td>\n",
              "    </tr>\n",
              "    <tr>\n",
              "      <th>4</th>\n",
              "      <td>You When I booked with your company on line y...</td>\n",
              "      <td>0</td>\n",
              "    </tr>\n",
              "  </tbody>\n",
              "</table>\n",
              "</div>"
            ],
            "text/plain": [
              "                                              review  is_bad_review\n",
              "0   I am so angry that i made this post available...              1\n",
              "1  No Negative No real complaints the hotel was g...              0\n",
              "2   Rooms are nice but for elderly a bit difficul...              0\n",
              "3   My room was dirty and I was afraid to walk ba...              1\n",
              "4   You When I booked with your company on line y...              0"
            ]
          },
          "metadata": {},
          "execution_count": 19
        }
      ]
    },
    {
      "cell_type": "code",
      "metadata": {
        "colab": {
          "base_uri": "https://localhost:8080/"
        },
        "id": "a83044b2",
        "outputId": "3658c906-5275-4c81-dea3-4f841e3d7d94"
      },
      "source": [
        "reviews_df.shape"
      ],
      "id": "a83044b2",
      "execution_count": null,
      "outputs": [
        {
          "output_type": "execute_result",
          "data": {
            "text/plain": [
              "(515738, 2)"
            ]
          },
          "metadata": {},
          "execution_count": 9
        }
      ]
    },
    {
      "cell_type": "markdown",
      "metadata": {
        "id": "79e028e7"
      },
      "source": [
        "The dataset consists two columns: review as the customer review and is_bad_review for its label and includes 51574 reviews. Since rule-based sentiment analysis does not require training, entire dataset is not needed. In order to reduce computational load for next cells, 10% of the dataset will be sampled."
      ],
      "id": "79e028e7"
    },
    {
      "cell_type": "code",
      "metadata": {
        "id": "19e94c09"
      },
      "source": [
        "reviews_df = reviews_df.sample(frac = 0.1, replace = False, random_state=42)"
      ],
      "id": "19e94c09",
      "execution_count": null,
      "outputs": []
    },
    {
      "cell_type": "markdown",
      "metadata": {
        "id": "9e8e2c11"
      },
      "source": [
        "Rule-based methods rely on individual words. So, even if the user's intent is negative when using \"No Positive\" phrase, there is high chance to a simple rule-based model would not understand the difference and count the word of \"Positive\" with positive polarity. In order to prevent this, these phrases can be removed from the dataset."
      ],
      "id": "9e8e2c11"
    },
    {
      "cell_type": "code",
      "metadata": {
        "id": "cd7f0efe"
      },
      "source": [
        "# remove 'No Negative' or 'No Positive' from text\n",
        "reviews_df[\"review\"] = reviews_df[\"review\"].apply(lambda x: x.replace(\"No Negative\", \"\").replace(\"No Positive\", \"\"))"
      ],
      "id": "cd7f0efe",
      "execution_count": null,
      "outputs": []
    },
    {
      "cell_type": "markdown",
      "metadata": {
        "id": "32ba5471"
      },
      "source": [
        "Vader is a lexicon-based sentiment analysis method. We need to download vader_lexicon to be able to use it."
      ],
      "id": "32ba5471"
    },
    {
      "cell_type": "code",
      "metadata": {
        "colab": {
          "base_uri": "https://localhost:8080/"
        },
        "id": "94d2f4f9",
        "outputId": "3a479fe9-536c-47c9-84d7-c254b105a5e4"
      },
      "source": [
        "import nltk\n",
        "nltk.download('averaged_perceptron_tagger')\n",
        "nltk.download('vader_lexicon')"
      ],
      "id": "94d2f4f9",
      "execution_count": null,
      "outputs": [
        {
          "output_type": "stream",
          "name": "stdout",
          "text": [
            "[nltk_data] Downloading package averaged_perceptron_tagger to\n",
            "[nltk_data]     /root/nltk_data...\n",
            "[nltk_data]   Unzipping taggers/averaged_perceptron_tagger.zip.\n",
            "[nltk_data] Downloading package vader_lexicon to /root/nltk_data...\n"
          ]
        },
        {
          "output_type": "execute_result",
          "data": {
            "text/plain": [
              "True"
            ]
          },
          "metadata": {},
          "execution_count": 12
        }
      ]
    },
    {
      "cell_type": "markdown",
      "metadata": {
        "id": "d65d833b"
      },
      "source": [
        "Vader works better after feature engineering is applied such as after than tokenization and lemmatization. The dataset is cleaned as in next cell."
      ],
      "id": "d65d833b"
    },
    {
      "cell_type": "code",
      "metadata": {
        "colab": {
          "base_uri": "https://localhost:8080/"
        },
        "id": "68c0521d",
        "outputId": "993c1d2c-3e98-4b79-d33d-524743a62fa6"
      },
      "source": [
        "# return the wordnet object value corresponding to the POS tag\n",
        "nltk.download('stopwords')\n",
        "nltk.download('wordnet')\n",
        "from nltk.corpus import wordnet\n",
        "\n",
        "def get_wordnet_pos(pos_tag):\n",
        "    if pos_tag.startswith('J'):\n",
        "        return wordnet.ADJ\n",
        "    elif pos_tag.startswith('V'):\n",
        "        return wordnet.VERB\n",
        "    elif pos_tag.startswith('N'):\n",
        "        return wordnet.NOUN\n",
        "    elif pos_tag.startswith('R'):\n",
        "        return wordnet.ADV\n",
        "    else:\n",
        "        return wordnet.NOUN\n",
        "    \n",
        "import string\n",
        "from nltk import pos_tag\n",
        "from nltk.corpus import stopwords\n",
        "from nltk.tokenize import WhitespaceTokenizer\n",
        "from nltk.stem import WordNetLemmatizer\n",
        "\n",
        "def clean_text(text):\n",
        "    # lower text\n",
        "    text = text.lower()\n",
        "    # tokenize text and remove puncutation\n",
        "    text = [word.strip(string.punctuation) for word in text.split(\" \")]\n",
        "    # remove words that contain numbers\n",
        "    text = [word for word in text if not any(c.isdigit() for c in word)]\n",
        "    # remove stop words\n",
        "    stop = stopwords.words('english')\n",
        "    text = [x for x in text if x not in stop]\n",
        "    # remove empty tokens\n",
        "    text = [t for t in text if len(t) > 0]\n",
        "    # pos tag text\n",
        "    pos_tags = pos_tag(text)\n",
        "    # lemmatize text\n",
        "    text = [WordNetLemmatizer().lemmatize(t[0], get_wordnet_pos(t[1])) for t in pos_tags]\n",
        "    # remove words with only one letter\n",
        "    text = [t for t in text if len(t) > 1]\n",
        "    # join all\n",
        "    text = \" \".join(text)\n",
        "    return(text)\n",
        "\n",
        "# clean text data\n",
        "reviews_df[\"review_clean\"] = reviews_df[\"review\"].apply(lambda x: clean_text(x))"
      ],
      "id": "68c0521d",
      "execution_count": null,
      "outputs": [
        {
          "output_type": "stream",
          "name": "stdout",
          "text": [
            "[nltk_data] Downloading package stopwords to /root/nltk_data...\n",
            "[nltk_data]   Unzipping corpora/stopwords.zip.\n",
            "[nltk_data] Downloading package wordnet to /root/nltk_data...\n",
            "[nltk_data]   Unzipping corpora/wordnet.zip.\n"
          ]
        }
      ]
    },
    {
      "cell_type": "markdown",
      "metadata": {
        "id": "c5d5af0d"
      },
      "source": [
        "After cleaning the dataset, Vader SentimentIntensityAnalyzer can be applied onto reviews without further training phase."
      ],
      "id": "c5d5af0d"
    },
    {
      "cell_type": "code",
      "metadata": {
        "colab": {
          "base_uri": "https://localhost:8080/"
        },
        "id": "52916149",
        "outputId": "2f6fc156-089f-4444-abb8-3c8e57f4919b"
      },
      "source": [
        "# add sentiment anaylsis columns\n",
        "from nltk.sentiment.vader import SentimentIntensityAnalyzer\n",
        "\n",
        "sid = SentimentIntensityAnalyzer()\n",
        "reviews_df[\"sentiments\"] = reviews_df[\"review\"].apply(lambda x: sid.polarity_scores(x))\n",
        "reviews_df = pd.concat([reviews_df.drop(['sentiments'], axis=1), reviews_df['sentiments'].apply(pd.Series)], axis=1)"
      ],
      "id": "52916149",
      "execution_count": null,
      "outputs": [
        {
          "output_type": "stream",
          "name": "stderr",
          "text": [
            "/usr/local/lib/python3.7/dist-packages/nltk/twitter/__init__.py:20: UserWarning: The twython library has not been installed. Some functionality from the twitter package will not be available.\n",
            "  warnings.warn(\"The twython library has not been installed. \"\n"
          ]
        }
      ]
    },
    {
      "cell_type": "markdown",
      "metadata": {
        "id": "f4df3c22"
      },
      "source": [
        "Below final dataset is shown. The compound score is the sum of positive, negative & neutral scores which is then normalized between -1(most extreme negative) and +1 (most extreme positive). If we would label the reviews by the highest scored polarity regarding the results of Vader, we would create our predicted labels and could compare with is_bad_review to understand the performance. From the below dataset, it is obvious to say this method would not score  high in terms of accuracy."
      ],
      "id": "f4df3c22"
    },
    {
      "cell_type": "code",
      "metadata": {
        "colab": {
          "base_uri": "https://localhost:8080/",
          "height": 417
        },
        "id": "3569e295",
        "outputId": "37f9b376-b74c-468b-842a-a6592ebcb5a9"
      },
      "source": [
        "reviews_df"
      ],
      "id": "3569e295",
      "execution_count": null,
      "outputs": [
        {
          "output_type": "execute_result",
          "data": {
            "text/html": [
              "<div>\n",
              "<style scoped>\n",
              "    .dataframe tbody tr th:only-of-type {\n",
              "        vertical-align: middle;\n",
              "    }\n",
              "\n",
              "    .dataframe tbody tr th {\n",
              "        vertical-align: top;\n",
              "    }\n",
              "\n",
              "    .dataframe thead th {\n",
              "        text-align: right;\n",
              "    }\n",
              "</style>\n",
              "<table border=\"1\" class=\"dataframe\">\n",
              "  <thead>\n",
              "    <tr style=\"text-align: right;\">\n",
              "      <th></th>\n",
              "      <th>review</th>\n",
              "      <th>is_bad_review</th>\n",
              "      <th>review_clean</th>\n",
              "      <th>neg</th>\n",
              "      <th>neu</th>\n",
              "      <th>pos</th>\n",
              "      <th>compound</th>\n",
              "    </tr>\n",
              "  </thead>\n",
              "  <tbody>\n",
              "    <tr>\n",
              "      <th>488440</th>\n",
              "      <td>Would have appreciated a shop in the hotel th...</td>\n",
              "      <td>0</td>\n",
              "      <td>would appreciate shop hotel sell drinking wate...</td>\n",
              "      <td>0.049</td>\n",
              "      <td>0.617</td>\n",
              "      <td>0.334</td>\n",
              "      <td>0.9924</td>\n",
              "    </tr>\n",
              "    <tr>\n",
              "      <th>274649</th>\n",
              "      <td>No tissue paper box was present at the room</td>\n",
              "      <td>0</td>\n",
              "      <td>tissue paper box present room</td>\n",
              "      <td>0.216</td>\n",
              "      <td>0.784</td>\n",
              "      <td>0.000</td>\n",
              "      <td>-0.2960</td>\n",
              "    </tr>\n",
              "    <tr>\n",
              "      <th>374688</th>\n",
              "      <td>Pillows  Nice welcoming and service</td>\n",
              "      <td>0</td>\n",
              "      <td>pillow nice welcome service</td>\n",
              "      <td>0.000</td>\n",
              "      <td>0.345</td>\n",
              "      <td>0.655</td>\n",
              "      <td>0.6908</td>\n",
              "    </tr>\n",
              "    <tr>\n",
              "      <th>404352</th>\n",
              "      <td>Everything including the nice upgrade The Hot...</td>\n",
              "      <td>0</td>\n",
              "      <td>everything include nice upgrade hotel revamp s...</td>\n",
              "      <td>0.000</td>\n",
              "      <td>0.621</td>\n",
              "      <td>0.379</td>\n",
              "      <td>0.9153</td>\n",
              "    </tr>\n",
              "    <tr>\n",
              "      <th>451596</th>\n",
              "      <td>Lovely hotel v welcoming staff</td>\n",
              "      <td>0</td>\n",
              "      <td>lovely hotel welcome staff</td>\n",
              "      <td>0.000</td>\n",
              "      <td>0.230</td>\n",
              "      <td>0.770</td>\n",
              "      <td>0.7717</td>\n",
              "    </tr>\n",
              "    <tr>\n",
              "      <th>...</th>\n",
              "      <td>...</td>\n",
              "      <td>...</td>\n",
              "      <td>...</td>\n",
              "      <td>...</td>\n",
              "      <td>...</td>\n",
              "      <td>...</td>\n",
              "      <td>...</td>\n",
              "    </tr>\n",
              "    <tr>\n",
              "      <th>274862</th>\n",
              "      <td>Bathroom water easy made the bathroom wet whe...</td>\n",
              "      <td>0</td>\n",
              "      <td>bathroom water easy make bathroom wet bath wal...</td>\n",
              "      <td>0.000</td>\n",
              "      <td>0.614</td>\n",
              "      <td>0.386</td>\n",
              "      <td>0.8834</td>\n",
              "    </tr>\n",
              "    <tr>\n",
              "      <th>9732</th>\n",
              "      <td>Room very small chair tatty in the room</td>\n",
              "      <td>1</td>\n",
              "      <td>room small chair tatty room</td>\n",
              "      <td>0.000</td>\n",
              "      <td>1.000</td>\n",
              "      <td>0.000</td>\n",
              "      <td>0.0000</td>\n",
              "    </tr>\n",
              "    <tr>\n",
              "      <th>424201</th>\n",
              "      <td>Expensive rates and mini bar prices Roof top ...</td>\n",
              "      <td>0</td>\n",
              "      <td>expensive rate mini bar price roof top pool vi...</td>\n",
              "      <td>0.000</td>\n",
              "      <td>0.886</td>\n",
              "      <td>0.114</td>\n",
              "      <td>0.2023</td>\n",
              "    </tr>\n",
              "    <tr>\n",
              "      <th>72380</th>\n",
              "      <td>There was a very loud AC machine right outsid...</td>\n",
              "      <td>0</td>\n",
              "      <td>loud ac machine right outside window affect sl...</td>\n",
              "      <td>0.047</td>\n",
              "      <td>0.845</td>\n",
              "      <td>0.108</td>\n",
              "      <td>0.4767</td>\n",
              "    </tr>\n",
              "    <tr>\n",
              "      <th>273809</th>\n",
              "      <td>This is definitely not 4 stars hotel Location...</td>\n",
              "      <td>0</td>\n",
              "      <td>definitely stars hotel location good hotel req...</td>\n",
              "      <td>0.000</td>\n",
              "      <td>0.647</td>\n",
              "      <td>0.353</td>\n",
              "      <td>0.7684</td>\n",
              "    </tr>\n",
              "  </tbody>\n",
              "</table>\n",
              "<p>51574 rows × 7 columns</p>\n",
              "</div>"
            ],
            "text/plain": [
              "                                                   review  ...  compound\n",
              "488440   Would have appreciated a shop in the hotel th...  ...    0.9924\n",
              "274649        No tissue paper box was present at the room  ...   -0.2960\n",
              "374688                Pillows  Nice welcoming and service  ...    0.6908\n",
              "404352   Everything including the nice upgrade The Hot...  ...    0.9153\n",
              "451596                    Lovely hotel v welcoming staff   ...    0.7717\n",
              "...                                                   ...  ...       ...\n",
              "274862   Bathroom water easy made the bathroom wet whe...  ...    0.8834\n",
              "9732             Room very small chair tatty in the room   ...    0.0000\n",
              "424201   Expensive rates and mini bar prices Roof top ...  ...    0.2023\n",
              "72380    There was a very loud AC machine right outsid...  ...    0.4767\n",
              "273809   This is definitely not 4 stars hotel Location...  ...    0.7684\n",
              "\n",
              "[51574 rows x 7 columns]"
            ]
          },
          "metadata": {},
          "execution_count": 15
        }
      ]
    }
  ]
}