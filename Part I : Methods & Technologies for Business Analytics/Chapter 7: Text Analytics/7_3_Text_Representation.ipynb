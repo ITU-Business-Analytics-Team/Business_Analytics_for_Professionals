{
  "nbformat": 4,
  "nbformat_minor": 0,
  "metadata": {
    "colab": {
      "name": "7.3.Text Representation.ipynb",
      "provenance": [],
      "collapsed_sections": [],
      "include_colab_link": true
    },
    "kernelspec": {
      "display_name": "Python 3",
      "language": "python",
      "name": "python3"
    },
    "language_info": {
      "codemirror_mode": {
        "name": "ipython",
        "version": 3
      },
      "file_extension": ".py",
      "mimetype": "text/x-python",
      "name": "python",
      "nbconvert_exporter": "python",
      "pygments_lexer": "ipython3",
      "version": "3.8.8"
    }
  },
  "cells": [
    {
      "cell_type": "markdown",
      "metadata": {
        "id": "view-in-github",
        "colab_type": "text"
      },
      "source": [
        "<a href=\"https://colab.research.google.com/github/ITU-Business-Analytics-Team/Business_Analytics_for_Professionals/blob/main/Part%20I%20%3A%20Methods%20%26%20Technologies%20for%20Business%20Analytics/Chapter%207%3A%20Text%20Analytics/7_3_Text_Representation.ipynb\" target=\"_parent\"><img src=\"https://colab.research.google.com/assets/colab-badge.svg\" alt=\"Open In Colab\"/></a>"
      ]
    },
    {
      "cell_type": "markdown",
      "metadata": {
        "id": "dm6CbUIB8XG0"
      },
      "source": [
        "# **Text Analytics**\n",
        "## Text Representation"
      ]
    },
    {
      "cell_type": "markdown",
      "metadata": {
        "id": "mwfPwyVUmIJ0"
      },
      "source": [
        "### **Problem Definition** \n",
        "\n",
        "As explained in the book, computers do calculations with numbers. So, any types of unstructured data which could be a speech or text or image, need to be interpreted with numerics. To this end, there are different text representation techniques and their implementations in Python programming are explained in this notebook."
      ]
    },
    {
      "cell_type": "markdown",
      "metadata": {
        "id": "SE5H-hX-mIJ4"
      },
      "source": [
        "**1. Discrete text representation**\n",
        "\n",
        "An example paragraph from a Charles Dickens poem is given below. Frequency of each word could be a meaningful feature by bag-of-word representation. To represent the given text as BoW, first it is needed to split into indivudal words. In Python, re library handles most of the simple text processing tasks. "
      ]
    },
    {
      "cell_type": "code",
      "metadata": {
        "colab": {
          "base_uri": "https://localhost:8080/"
        },
        "id": "vfhfoIOHmIJ5",
        "outputId": "74e7efce-74e8-480d-bbb6-cbfa84b1e151"
      },
      "source": [
        "import re\n",
        "import nltk\n",
        "# to catch punctuation in the task\n",
        "nltk.download('punkt')"
      ],
      "execution_count": null,
      "outputs": [
        {
          "output_type": "stream",
          "name": "stdout",
          "text": [
            "[nltk_data] Downloading package punkt to /root/nltk_data...\n",
            "[nltk_data]   Unzipping tokenizers/punkt.zip.\n"
          ]
        },
        {
          "output_type": "execute_result",
          "data": {
            "text/plain": [
              "True"
            ]
          },
          "metadata": {},
          "execution_count": 1
        }
      ]
    },
    {
      "cell_type": "code",
      "metadata": {
        "id": "3SCQ0Sw2jOUa"
      },
      "source": [
        "text = \"\"\"It was the best of times,\n",
        "it was the worst of times,\n",
        "it was the age of wisdom,\n",
        "it was the age of foolishness\n",
        "\"\"\""
      ],
      "execution_count": null,
      "outputs": []
    },
    {
      "cell_type": "code",
      "metadata": {
        "colab": {
          "base_uri": "https://localhost:8080/"
        },
        "id": "xxR-E2X2jMHu",
        "outputId": "ca8ebf76-3836-408b-f85c-149df799a698"
      },
      "source": [
        "text=re.sub(r\"[^.A-Za-z]\",' ',text)\n",
        "sentence=text.split('.')\n",
        "tokens=[nltk.word_tokenize(words) for words in sentence]\n",
        "tokens"
      ],
      "execution_count": null,
      "outputs": [
        {
          "output_type": "execute_result",
          "data": {
            "text/plain": [
              "[['It',\n",
              "  'was',\n",
              "  'the',\n",
              "  'best',\n",
              "  'of',\n",
              "  'times',\n",
              "  'it',\n",
              "  'was',\n",
              "  'the',\n",
              "  'worst',\n",
              "  'of',\n",
              "  'times',\n",
              "  'it',\n",
              "  'was',\n",
              "  'the',\n",
              "  'age',\n",
              "  'of',\n",
              "  'wisdom',\n",
              "  'it',\n",
              "  'was',\n",
              "  'the',\n",
              "  'age',\n",
              "  'of',\n",
              "  'foolishness']]"
            ]
          },
          "metadata": {},
          "execution_count": 3
        }
      ]
    },
    {
      "cell_type": "markdown",
      "metadata": {
        "id": "BYlo6qN3mIJ8"
      },
      "source": [
        "**2. Distributed Text Representation**\n",
        "\n",
        "Word2Vec and GloVe are the most popular two distributed text representation techniques. There are built-in libraries in Python to utilize vector representations by Word2Vec and GloVe. Gensim is one of the most convenient ones and its usage is demonstrated below."
      ]
    },
    {
      "cell_type": "code",
      "metadata": {
        "colab": {
          "base_uri": "https://localhost:8080/"
        },
        "id": "mNcCpF4ei77N",
        "outputId": "c27daa0b-fa04-4a18-9cc0-11ca8ec66507"
      },
      "source": [
        "!pip install --upgrade gensim\n",
        "from gensim.models import Word2Vec\n",
        "import pandas as pd\n",
        "import numpy as np"
      ],
      "execution_count": null,
      "outputs": [
        {
          "output_type": "stream",
          "name": "stdout",
          "text": [
            "Requirement already satisfied: gensim in /usr/local/lib/python3.7/dist-packages (3.6.0)\n",
            "Collecting gensim\n",
            "  Downloading gensim-4.1.2-cp37-cp37m-manylinux_2_12_x86_64.manylinux2010_x86_64.whl (24.1 MB)\n",
            "\u001b[K     |████████████████████████████████| 24.1 MB 2.7 kB/s \n",
            "\u001b[?25hRequirement already satisfied: scipy>=0.18.1 in /usr/local/lib/python3.7/dist-packages (from gensim) (1.4.1)\n",
            "Requirement already satisfied: smart-open>=1.8.1 in /usr/local/lib/python3.7/dist-packages (from gensim) (5.2.1)\n",
            "Requirement already satisfied: numpy>=1.17.0 in /usr/local/lib/python3.7/dist-packages (from gensim) (1.19.5)\n",
            "Installing collected packages: gensim\n",
            "  Attempting uninstall: gensim\n",
            "    Found existing installation: gensim 3.6.0\n",
            "    Uninstalling gensim-3.6.0:\n",
            "      Successfully uninstalled gensim-3.6.0\n",
            "Successfully installed gensim-4.1.2\n"
          ]
        }
      ]
    },
    {
      "cell_type": "markdown",
      "metadata": {
        "id": "YlVB2X9ymIJ9"
      },
      "source": [
        "**2.1 Word2Vec**\n",
        "\n",
        "A Word2Vec model could be created for a corpus by gensim module Word2Vec built-in function which follows the original algorithm. We can provide previous tokens in the poem to create their vector representation. "
      ]
    },
    {
      "cell_type": "code",
      "metadata": {
        "id": "O4lUiCH-jmZp"
      },
      "source": [
        "model = Word2Vec(sentences=tokens, vector_size=100, window=5, min_count=1, workers=4)"
      ],
      "execution_count": null,
      "outputs": []
    },
    {
      "cell_type": "markdown",
      "metadata": {
        "id": "GemILrOLmIJ-"
      },
      "source": [
        "Word2Vec vector representation of each word in the dictionary \n",
        "can be obtained by giving the term as index to created model by gensim."
      ]
    },
    {
      "cell_type": "code",
      "metadata": {
        "colab": {
          "base_uri": "https://localhost:8080/"
        },
        "id": "14g4Ska3kBL7",
        "outputId": "4f91cc7a-56aa-431b-e0dd-236437fc22b9"
      },
      "source": [
        "vector = model.wv['age']\n",
        "vector"
      ],
      "execution_count": null,
      "outputs": [
        {
          "output_type": "execute_result",
          "data": {
            "text/plain": [
              "array([-0.00713941,  0.0012411 , -0.00717711, -0.00224474,  0.00371951,\n",
              "        0.00583344,  0.00119825,  0.00210285, -0.00411062,  0.00722573,\n",
              "       -0.00630739,  0.00464747, -0.00822042,  0.00203658, -0.00497732,\n",
              "       -0.00424792, -0.00310916,  0.00565552,  0.00579872, -0.00497492,\n",
              "        0.00077337, -0.00849625,  0.00781023,  0.0092578 , -0.00274248,\n",
              "        0.00080027,  0.00074669,  0.00547818, -0.00860655,  0.00058449,\n",
              "        0.0068698 ,  0.00223172,  0.00112474, -0.00932267,  0.00848283,\n",
              "       -0.00626447, -0.00299254,  0.00349398, -0.00077267,  0.00141137,\n",
              "        0.00178209, -0.00682927, -0.00972535,  0.00904108,  0.00619839,\n",
              "       -0.00691331,  0.00340367,  0.00020607,  0.00475401, -0.00712034,\n",
              "        0.00402717,  0.00434767,  0.00995792, -0.00447399, -0.00138934,\n",
              "       -0.00731772, -0.00969836, -0.00908076, -0.00102281, -0.00650365,\n",
              "        0.00484999, -0.00616436,  0.00251932,  0.00073948, -0.00339234,\n",
              "       -0.00097928,  0.00997967,  0.00914639, -0.00446207,  0.00908352,\n",
              "       -0.00564207,  0.00593125, -0.00309739,  0.00343194,  0.00301739,\n",
              "        0.00690084, -0.00237401,  0.00877552,  0.00758984, -0.00954817,\n",
              "       -0.00800865, -0.00763832,  0.00292342, -0.00279488, -0.0069299 ,\n",
              "       -0.00812871,  0.00830963,  0.0019906 , -0.00932853, -0.00479298,\n",
              "        0.00313691, -0.00471346,  0.00528113, -0.00423367,  0.00264194,\n",
              "       -0.00804613,  0.00621023,  0.00481915,  0.00078723,  0.00301361],\n",
              "      dtype=float32)"
            ]
          },
          "metadata": {},
          "execution_count": 6
        }
      ]
    },
    {
      "cell_type": "markdown",
      "metadata": {
        "id": "k1eZn5QpmIJ_"
      },
      "source": [
        "It is also possible to inspect the entire dictionary. "
      ]
    },
    {
      "cell_type": "code",
      "metadata": {
        "colab": {
          "base_uri": "https://localhost:8080/"
        },
        "id": "fQ4i3tBvkPeB",
        "outputId": "7f7e9a57-9abc-4f46-b512-7579491eb7ca"
      },
      "source": [
        "words=list(model.wv.index_to_key)\n",
        "print(words)"
      ],
      "execution_count": null,
      "outputs": [
        {
          "output_type": "stream",
          "name": "stdout",
          "text": [
            "['of', 'the', 'was', 'it', 'age', 'times', 'foolishness', 'wisdom', 'worst', 'best', 'It']\n"
          ]
        }
      ]
    },
    {
      "cell_type": "markdown",
      "metadata": {
        "id": "HbD7JDC7mIKA"
      },
      "source": [
        "This representation has 100-dimensional and is hard to represent visually. Instead of that, one can project it on two-dimensional space and show as visually."
      ]
    },
    {
      "cell_type": "code",
      "metadata": {
        "colab": {
          "base_uri": "https://localhost:8080/",
          "height": 253
        },
        "id": "St8uohPKkm9e",
        "outputId": "f27f5b11-c01c-42de-9b84-bf3aa7170e0e"
      },
      "source": [
        "X=model.wv[model.wv.index_to_key]\n",
        "df=pd.DataFrame(X)\n",
        "df.shape\n",
        "df.head()"
      ],
      "execution_count": null,
      "outputs": [
        {
          "output_type": "execute_result",
          "data": {
            "text/html": [
              "<div>\n",
              "<style scoped>\n",
              "    .dataframe tbody tr th:only-of-type {\n",
              "        vertical-align: middle;\n",
              "    }\n",
              "\n",
              "    .dataframe tbody tr th {\n",
              "        vertical-align: top;\n",
              "    }\n",
              "\n",
              "    .dataframe thead th {\n",
              "        text-align: right;\n",
              "    }\n",
              "</style>\n",
              "<table border=\"1\" class=\"dataframe\">\n",
              "  <thead>\n",
              "    <tr style=\"text-align: right;\">\n",
              "      <th></th>\n",
              "      <th>0</th>\n",
              "      <th>1</th>\n",
              "      <th>2</th>\n",
              "      <th>3</th>\n",
              "      <th>4</th>\n",
              "      <th>5</th>\n",
              "      <th>6</th>\n",
              "      <th>7</th>\n",
              "      <th>8</th>\n",
              "      <th>9</th>\n",
              "      <th>10</th>\n",
              "      <th>11</th>\n",
              "      <th>12</th>\n",
              "      <th>13</th>\n",
              "      <th>14</th>\n",
              "      <th>15</th>\n",
              "      <th>16</th>\n",
              "      <th>17</th>\n",
              "      <th>18</th>\n",
              "      <th>19</th>\n",
              "      <th>20</th>\n",
              "      <th>21</th>\n",
              "      <th>22</th>\n",
              "      <th>23</th>\n",
              "      <th>24</th>\n",
              "      <th>25</th>\n",
              "      <th>26</th>\n",
              "      <th>27</th>\n",
              "      <th>28</th>\n",
              "      <th>29</th>\n",
              "      <th>30</th>\n",
              "      <th>31</th>\n",
              "      <th>32</th>\n",
              "      <th>33</th>\n",
              "      <th>34</th>\n",
              "      <th>35</th>\n",
              "      <th>36</th>\n",
              "      <th>37</th>\n",
              "      <th>38</th>\n",
              "      <th>39</th>\n",
              "      <th>...</th>\n",
              "      <th>60</th>\n",
              "      <th>61</th>\n",
              "      <th>62</th>\n",
              "      <th>63</th>\n",
              "      <th>64</th>\n",
              "      <th>65</th>\n",
              "      <th>66</th>\n",
              "      <th>67</th>\n",
              "      <th>68</th>\n",
              "      <th>69</th>\n",
              "      <th>70</th>\n",
              "      <th>71</th>\n",
              "      <th>72</th>\n",
              "      <th>73</th>\n",
              "      <th>74</th>\n",
              "      <th>75</th>\n",
              "      <th>76</th>\n",
              "      <th>77</th>\n",
              "      <th>78</th>\n",
              "      <th>79</th>\n",
              "      <th>80</th>\n",
              "      <th>81</th>\n",
              "      <th>82</th>\n",
              "      <th>83</th>\n",
              "      <th>84</th>\n",
              "      <th>85</th>\n",
              "      <th>86</th>\n",
              "      <th>87</th>\n",
              "      <th>88</th>\n",
              "      <th>89</th>\n",
              "      <th>90</th>\n",
              "      <th>91</th>\n",
              "      <th>92</th>\n",
              "      <th>93</th>\n",
              "      <th>94</th>\n",
              "      <th>95</th>\n",
              "      <th>96</th>\n",
              "      <th>97</th>\n",
              "      <th>98</th>\n",
              "      <th>99</th>\n",
              "    </tr>\n",
              "  </thead>\n",
              "  <tbody>\n",
              "    <tr>\n",
              "      <th>0</th>\n",
              "      <td>-0.000536</td>\n",
              "      <td>0.000236</td>\n",
              "      <td>0.005103</td>\n",
              "      <td>0.009009</td>\n",
              "      <td>-0.009303</td>\n",
              "      <td>-0.007117</td>\n",
              "      <td>0.006459</td>\n",
              "      <td>0.008973</td>\n",
              "      <td>-0.005015</td>\n",
              "      <td>-0.003763</td>\n",
              "      <td>0.007381</td>\n",
              "      <td>-0.001533</td>\n",
              "      <td>-0.004537</td>\n",
              "      <td>0.006554</td>\n",
              "      <td>-0.004860</td>\n",
              "      <td>-0.001816</td>\n",
              "      <td>0.002877</td>\n",
              "      <td>0.000992</td>\n",
              "      <td>-0.008285</td>\n",
              "      <td>-0.009449</td>\n",
              "      <td>0.007312</td>\n",
              "      <td>0.005070</td>\n",
              "      <td>0.006758</td>\n",
              "      <td>0.000763</td>\n",
              "      <td>0.006351</td>\n",
              "      <td>-0.003405</td>\n",
              "      <td>-0.000946</td>\n",
              "      <td>0.005769</td>\n",
              "      <td>-0.007522</td>\n",
              "      <td>-0.003936</td>\n",
              "      <td>-0.007512</td>\n",
              "      <td>-0.000930</td>\n",
              "      <td>0.009538</td>\n",
              "      <td>-0.007319</td>\n",
              "      <td>-0.002334</td>\n",
              "      <td>-0.001938</td>\n",
              "      <td>0.008077</td>\n",
              "      <td>-0.005931</td>\n",
              "      <td>0.000045</td>\n",
              "      <td>-0.004754</td>\n",
              "      <td>...</td>\n",
              "      <td>-0.001578</td>\n",
              "      <td>0.000321</td>\n",
              "      <td>-0.004141</td>\n",
              "      <td>-0.007683</td>\n",
              "      <td>-0.001508</td>\n",
              "      <td>0.002470</td>\n",
              "      <td>-0.000888</td>\n",
              "      <td>0.005534</td>\n",
              "      <td>-0.002743</td>\n",
              "      <td>0.002260</td>\n",
              "      <td>0.005456</td>\n",
              "      <td>0.008346</td>\n",
              "      <td>-0.001454</td>\n",
              "      <td>-0.009208</td>\n",
              "      <td>0.004371</td>\n",
              "      <td>0.000572</td>\n",
              "      <td>0.007442</td>\n",
              "      <td>-0.000813</td>\n",
              "      <td>-0.002638</td>\n",
              "      <td>-0.008753</td>\n",
              "      <td>-0.000857</td>\n",
              "      <td>0.002827</td>\n",
              "      <td>0.005401</td>\n",
              "      <td>0.007053</td>\n",
              "      <td>-0.005703</td>\n",
              "      <td>0.001859</td>\n",
              "      <td>0.006089</td>\n",
              "      <td>-0.004798</td>\n",
              "      <td>-0.003107</td>\n",
              "      <td>0.006798</td>\n",
              "      <td>0.001631</td>\n",
              "      <td>0.000190</td>\n",
              "      <td>0.003474</td>\n",
              "      <td>0.000218</td>\n",
              "      <td>0.009619</td>\n",
              "      <td>0.005061</td>\n",
              "      <td>-0.008917</td>\n",
              "      <td>-0.007042</td>\n",
              "      <td>0.000901</td>\n",
              "      <td>0.006393</td>\n",
              "    </tr>\n",
              "    <tr>\n",
              "      <th>1</th>\n",
              "      <td>-0.008621</td>\n",
              "      <td>0.003666</td>\n",
              "      <td>0.005189</td>\n",
              "      <td>0.005742</td>\n",
              "      <td>0.007468</td>\n",
              "      <td>-0.006167</td>\n",
              "      <td>0.001106</td>\n",
              "      <td>0.006048</td>\n",
              "      <td>-0.002840</td>\n",
              "      <td>-0.006173</td>\n",
              "      <td>-0.000411</td>\n",
              "      <td>-0.008369</td>\n",
              "      <td>-0.005601</td>\n",
              "      <td>0.007105</td>\n",
              "      <td>0.003352</td>\n",
              "      <td>0.007226</td>\n",
              "      <td>0.006800</td>\n",
              "      <td>0.007532</td>\n",
              "      <td>-0.003789</td>\n",
              "      <td>-0.000562</td>\n",
              "      <td>0.002349</td>\n",
              "      <td>-0.004520</td>\n",
              "      <td>0.008390</td>\n",
              "      <td>-0.009858</td>\n",
              "      <td>0.006765</td>\n",
              "      <td>0.002915</td>\n",
              "      <td>-0.004933</td>\n",
              "      <td>0.004399</td>\n",
              "      <td>-0.001741</td>\n",
              "      <td>0.006712</td>\n",
              "      <td>0.009966</td>\n",
              "      <td>-0.004362</td>\n",
              "      <td>-0.000599</td>\n",
              "      <td>-0.005697</td>\n",
              "      <td>0.003852</td>\n",
              "      <td>0.002786</td>\n",
              "      <td>0.006891</td>\n",
              "      <td>0.006102</td>\n",
              "      <td>0.009539</td>\n",
              "      <td>0.009274</td>\n",
              "      <td>...</td>\n",
              "      <td>-0.008534</td>\n",
              "      <td>0.003207</td>\n",
              "      <td>-0.004638</td>\n",
              "      <td>-0.005089</td>\n",
              "      <td>0.003589</td>\n",
              "      <td>0.005370</td>\n",
              "      <td>0.007771</td>\n",
              "      <td>-0.005766</td>\n",
              "      <td>0.007433</td>\n",
              "      <td>0.006627</td>\n",
              "      <td>-0.003711</td>\n",
              "      <td>-0.008745</td>\n",
              "      <td>0.005437</td>\n",
              "      <td>0.006510</td>\n",
              "      <td>-0.000787</td>\n",
              "      <td>-0.006709</td>\n",
              "      <td>-0.007086</td>\n",
              "      <td>-0.002496</td>\n",
              "      <td>0.005144</td>\n",
              "      <td>-0.003666</td>\n",
              "      <td>-0.009371</td>\n",
              "      <td>0.003826</td>\n",
              "      <td>0.004885</td>\n",
              "      <td>-0.006429</td>\n",
              "      <td>0.001208</td>\n",
              "      <td>-0.002076</td>\n",
              "      <td>0.000025</td>\n",
              "      <td>-0.009884</td>\n",
              "      <td>0.002691</td>\n",
              "      <td>-0.004751</td>\n",
              "      <td>0.001088</td>\n",
              "      <td>-0.001577</td>\n",
              "      <td>0.002197</td>\n",
              "      <td>-0.007882</td>\n",
              "      <td>-0.002717</td>\n",
              "      <td>0.002662</td>\n",
              "      <td>0.005348</td>\n",
              "      <td>-0.002391</td>\n",
              "      <td>-0.009510</td>\n",
              "      <td>0.004506</td>\n",
              "    </tr>\n",
              "    <tr>\n",
              "      <th>2</th>\n",
              "      <td>0.000093</td>\n",
              "      <td>0.003078</td>\n",
              "      <td>-0.006814</td>\n",
              "      <td>-0.001376</td>\n",
              "      <td>0.007669</td>\n",
              "      <td>0.007347</td>\n",
              "      <td>-0.003673</td>\n",
              "      <td>0.002643</td>\n",
              "      <td>-0.008318</td>\n",
              "      <td>0.006206</td>\n",
              "      <td>-0.004639</td>\n",
              "      <td>-0.003164</td>\n",
              "      <td>0.009309</td>\n",
              "      <td>0.000873</td>\n",
              "      <td>0.007490</td>\n",
              "      <td>-0.006075</td>\n",
              "      <td>0.005160</td>\n",
              "      <td>0.009924</td>\n",
              "      <td>-0.008457</td>\n",
              "      <td>-0.005137</td>\n",
              "      <td>-0.007065</td>\n",
              "      <td>-0.004864</td>\n",
              "      <td>-0.003776</td>\n",
              "      <td>-0.008534</td>\n",
              "      <td>0.007955</td>\n",
              "      <td>-0.004844</td>\n",
              "      <td>0.008424</td>\n",
              "      <td>0.005263</td>\n",
              "      <td>-0.006551</td>\n",
              "      <td>0.003959</td>\n",
              "      <td>0.005472</td>\n",
              "      <td>-0.007427</td>\n",
              "      <td>-0.007406</td>\n",
              "      <td>-0.002478</td>\n",
              "      <td>-0.008624</td>\n",
              "      <td>-0.001582</td>\n",
              "      <td>-0.000403</td>\n",
              "      <td>0.003301</td>\n",
              "      <td>0.001442</td>\n",
              "      <td>-0.000881</td>\n",
              "      <td>...</td>\n",
              "      <td>0.004290</td>\n",
              "      <td>-0.003740</td>\n",
              "      <td>0.008379</td>\n",
              "      <td>0.001533</td>\n",
              "      <td>-0.007243</td>\n",
              "      <td>0.009434</td>\n",
              "      <td>0.007633</td>\n",
              "      <td>0.005495</td>\n",
              "      <td>-0.006850</td>\n",
              "      <td>0.005824</td>\n",
              "      <td>0.004008</td>\n",
              "      <td>0.005187</td>\n",
              "      <td>0.004256</td>\n",
              "      <td>0.001941</td>\n",
              "      <td>-0.003170</td>\n",
              "      <td>0.008355</td>\n",
              "      <td>0.009611</td>\n",
              "      <td>0.003794</td>\n",
              "      <td>-0.002836</td>\n",
              "      <td>0.000006</td>\n",
              "      <td>0.001218</td>\n",
              "      <td>-0.008460</td>\n",
              "      <td>-0.008223</td>\n",
              "      <td>-0.000232</td>\n",
              "      <td>0.001236</td>\n",
              "      <td>-0.005746</td>\n",
              "      <td>-0.004724</td>\n",
              "      <td>-0.007345</td>\n",
              "      <td>0.008327</td>\n",
              "      <td>0.000121</td>\n",
              "      <td>-0.004508</td>\n",
              "      <td>0.005702</td>\n",
              "      <td>0.009180</td>\n",
              "      <td>-0.004101</td>\n",
              "      <td>0.007966</td>\n",
              "      <td>0.005375</td>\n",
              "      <td>0.005880</td>\n",
              "      <td>0.000513</td>\n",
              "      <td>0.008213</td>\n",
              "      <td>-0.007019</td>\n",
              "    </tr>\n",
              "    <tr>\n",
              "      <th>3</th>\n",
              "      <td>-0.008243</td>\n",
              "      <td>0.009299</td>\n",
              "      <td>-0.000198</td>\n",
              "      <td>-0.001967</td>\n",
              "      <td>0.004604</td>\n",
              "      <td>-0.004095</td>\n",
              "      <td>0.002743</td>\n",
              "      <td>0.006940</td>\n",
              "      <td>0.006065</td>\n",
              "      <td>-0.007511</td>\n",
              "      <td>0.009382</td>\n",
              "      <td>0.004672</td>\n",
              "      <td>0.003966</td>\n",
              "      <td>-0.006244</td>\n",
              "      <td>0.008460</td>\n",
              "      <td>-0.002150</td>\n",
              "      <td>0.008825</td>\n",
              "      <td>-0.005362</td>\n",
              "      <td>-0.008129</td>\n",
              "      <td>0.006825</td>\n",
              "      <td>0.001671</td>\n",
              "      <td>-0.002199</td>\n",
              "      <td>0.009514</td>\n",
              "      <td>0.009494</td>\n",
              "      <td>-0.009774</td>\n",
              "      <td>0.002505</td>\n",
              "      <td>0.006157</td>\n",
              "      <td>0.003872</td>\n",
              "      <td>0.002023</td>\n",
              "      <td>0.000431</td>\n",
              "      <td>0.000674</td>\n",
              "      <td>-0.003821</td>\n",
              "      <td>-0.007140</td>\n",
              "      <td>-0.002089</td>\n",
              "      <td>0.003924</td>\n",
              "      <td>0.008819</td>\n",
              "      <td>0.009259</td>\n",
              "      <td>-0.005976</td>\n",
              "      <td>-0.009403</td>\n",
              "      <td>0.009764</td>\n",
              "      <td>...</td>\n",
              "      <td>0.000278</td>\n",
              "      <td>0.004964</td>\n",
              "      <td>0.007698</td>\n",
              "      <td>-0.001144</td>\n",
              "      <td>0.004323</td>\n",
              "      <td>-0.005814</td>\n",
              "      <td>-0.000804</td>\n",
              "      <td>0.008100</td>\n",
              "      <td>-0.002360</td>\n",
              "      <td>-0.009663</td>\n",
              "      <td>0.005779</td>\n",
              "      <td>-0.003930</td>\n",
              "      <td>-0.001223</td>\n",
              "      <td>0.009981</td>\n",
              "      <td>-0.002256</td>\n",
              "      <td>-0.004757</td>\n",
              "      <td>-0.005329</td>\n",
              "      <td>0.006981</td>\n",
              "      <td>-0.005709</td>\n",
              "      <td>0.002114</td>\n",
              "      <td>-0.005256</td>\n",
              "      <td>0.006121</td>\n",
              "      <td>0.004357</td>\n",
              "      <td>0.002606</td>\n",
              "      <td>-0.001491</td>\n",
              "      <td>-0.002746</td>\n",
              "      <td>0.008993</td>\n",
              "      <td>0.005216</td>\n",
              "      <td>-0.002163</td>\n",
              "      <td>-0.009470</td>\n",
              "      <td>-0.007426</td>\n",
              "      <td>-0.001064</td>\n",
              "      <td>-0.000795</td>\n",
              "      <td>-0.002563</td>\n",
              "      <td>0.009683</td>\n",
              "      <td>-0.000459</td>\n",
              "      <td>0.005874</td>\n",
              "      <td>-0.007448</td>\n",
              "      <td>-0.002506</td>\n",
              "      <td>-0.005550</td>\n",
              "    </tr>\n",
              "    <tr>\n",
              "      <th>4</th>\n",
              "      <td>-0.007139</td>\n",
              "      <td>0.001241</td>\n",
              "      <td>-0.007177</td>\n",
              "      <td>-0.002245</td>\n",
              "      <td>0.003720</td>\n",
              "      <td>0.005833</td>\n",
              "      <td>0.001198</td>\n",
              "      <td>0.002103</td>\n",
              "      <td>-0.004111</td>\n",
              "      <td>0.007226</td>\n",
              "      <td>-0.006307</td>\n",
              "      <td>0.004647</td>\n",
              "      <td>-0.008220</td>\n",
              "      <td>0.002037</td>\n",
              "      <td>-0.004977</td>\n",
              "      <td>-0.004248</td>\n",
              "      <td>-0.003109</td>\n",
              "      <td>0.005656</td>\n",
              "      <td>0.005799</td>\n",
              "      <td>-0.004975</td>\n",
              "      <td>0.000773</td>\n",
              "      <td>-0.008496</td>\n",
              "      <td>0.007810</td>\n",
              "      <td>0.009258</td>\n",
              "      <td>-0.002742</td>\n",
              "      <td>0.000800</td>\n",
              "      <td>0.000747</td>\n",
              "      <td>0.005478</td>\n",
              "      <td>-0.008607</td>\n",
              "      <td>0.000584</td>\n",
              "      <td>0.006870</td>\n",
              "      <td>0.002232</td>\n",
              "      <td>0.001125</td>\n",
              "      <td>-0.009323</td>\n",
              "      <td>0.008483</td>\n",
              "      <td>-0.006264</td>\n",
              "      <td>-0.002993</td>\n",
              "      <td>0.003494</td>\n",
              "      <td>-0.000773</td>\n",
              "      <td>0.001411</td>\n",
              "      <td>...</td>\n",
              "      <td>0.004850</td>\n",
              "      <td>-0.006164</td>\n",
              "      <td>0.002519</td>\n",
              "      <td>0.000739</td>\n",
              "      <td>-0.003392</td>\n",
              "      <td>-0.000979</td>\n",
              "      <td>0.009980</td>\n",
              "      <td>0.009146</td>\n",
              "      <td>-0.004462</td>\n",
              "      <td>0.009084</td>\n",
              "      <td>-0.005642</td>\n",
              "      <td>0.005931</td>\n",
              "      <td>-0.003097</td>\n",
              "      <td>0.003432</td>\n",
              "      <td>0.003017</td>\n",
              "      <td>0.006901</td>\n",
              "      <td>-0.002374</td>\n",
              "      <td>0.008776</td>\n",
              "      <td>0.007590</td>\n",
              "      <td>-0.009548</td>\n",
              "      <td>-0.008009</td>\n",
              "      <td>-0.007638</td>\n",
              "      <td>0.002923</td>\n",
              "      <td>-0.002795</td>\n",
              "      <td>-0.006930</td>\n",
              "      <td>-0.008129</td>\n",
              "      <td>0.008310</td>\n",
              "      <td>0.001991</td>\n",
              "      <td>-0.009329</td>\n",
              "      <td>-0.004793</td>\n",
              "      <td>0.003137</td>\n",
              "      <td>-0.004713</td>\n",
              "      <td>0.005281</td>\n",
              "      <td>-0.004234</td>\n",
              "      <td>0.002642</td>\n",
              "      <td>-0.008046</td>\n",
              "      <td>0.006210</td>\n",
              "      <td>0.004819</td>\n",
              "      <td>0.000787</td>\n",
              "      <td>0.003014</td>\n",
              "    </tr>\n",
              "  </tbody>\n",
              "</table>\n",
              "<p>5 rows × 100 columns</p>\n",
              "</div>"
            ],
            "text/plain": [
              "         0         1         2   ...        97        98        99\n",
              "0 -0.000536  0.000236  0.005103  ... -0.007042  0.000901  0.006393\n",
              "1 -0.008621  0.003666  0.005189  ... -0.002391 -0.009510  0.004506\n",
              "2  0.000093  0.003078 -0.006814  ...  0.000513  0.008213 -0.007019\n",
              "3 -0.008243  0.009299 -0.000198  ... -0.007448 -0.002506 -0.005550\n",
              "4 -0.007139  0.001241 -0.007177  ...  0.004819  0.000787  0.003014\n",
              "\n",
              "[5 rows x 100 columns]"
            ]
          },
          "metadata": {},
          "execution_count": 8
        }
      ]
    },
    {
      "cell_type": "code",
      "metadata": {
        "id": "FPgv9R0-k4Q0"
      },
      "source": [
        "#Computing the correlation matrix\n",
        "X_corr=df.corr()\n",
        "\n",
        "#Computing eigen values and eigen vectors\n",
        "values,vectors=np.linalg.eig(X_corr)\n",
        "\n",
        "#Sorting the eigen vectors coresponding to eigen values in descending order\n",
        "args = (-values).argsort()\n",
        "values = vectors[args]\n",
        "vectors = vectors[:, args]\n",
        "\n",
        "#Taking first 2 components which explain maximum variance for projecting\n",
        "new_vectors=vectors[:,:2]"
      ],
      "execution_count": null,
      "outputs": []
    },
    {
      "cell_type": "code",
      "metadata": {
        "id": "t8QzVkhbk-3Q",
        "colab": {
          "base_uri": "https://localhost:8080/"
        },
        "outputId": "f10a97e1-03fb-40fc-fbe2-927b6c0f7f0a"
      },
      "source": [
        "#Projecting it onto new dimesion with 2 axis\n",
        "new_vectors"
      ],
      "execution_count": null,
      "outputs": [
        {
          "output_type": "execute_result",
          "data": {
            "text/plain": [
              "array([[ 1.29293776e-01+0.j,  9.27019290e-02+0.j],\n",
              "       [-1.52081676e-01+0.j, -1.40358367e-01+0.j],\n",
              "       [ 8.94996950e-02+0.j, -1.37039392e-01+0.j],\n",
              "       [ 9.93774711e-02+0.j,  3.85540275e-02+0.j],\n",
              "       [-1.36585506e-01+0.j, -3.13497790e-03+0.j],\n",
              "       [-1.58074871e-01+0.j,  1.72156295e-01+0.j],\n",
              "       [-4.04756093e-02+0.j, -2.02365072e-02+0.j],\n",
              "       [ 4.28693792e-02+0.j, -8.92897517e-02+0.j],\n",
              "       [-1.69958833e-03+0.j, -1.56952419e-01+0.j],\n",
              "       [-9.88716697e-02+0.j,  1.89686881e-01+0.j],\n",
              "       [ 1.44896593e-01+0.j, -1.44970462e-01+0.j],\n",
              "       [-4.58648759e-02+0.j,  8.37581524e-02+0.j],\n",
              "       [ 4.48723217e-02+0.j, -4.67426954e-02+0.j],\n",
              "       [ 5.45801231e-02+0.j,  1.14678915e-01+0.j],\n",
              "       [-6.42591976e-02+0.j, -1.50687043e-01+0.j],\n",
              "       [ 1.59863338e-01+0.j, -8.47681287e-02+0.j],\n",
              "       [ 6.35440968e-02+0.j, -3.35195449e-02+0.j],\n",
              "       [-9.68895907e-02+0.j,  1.21709833e-01+0.j],\n",
              "       [ 4.77319470e-02+0.j,  8.31787008e-02+0.j],\n",
              "       [-1.54520128e-01+0.j, -1.82270635e-01+0.j],\n",
              "       [ 1.16642365e-01+0.j, -1.82121575e-02+0.j],\n",
              "       [ 1.34919633e-01+0.j, -3.30470175e-02+0.j],\n",
              "       [-7.74961093e-02+0.j, -1.20473805e-01+0.j],\n",
              "       [-7.67730924e-02+0.j, -2.36573649e-03+0.j],\n",
              "       [ 5.04641978e-02+0.j,  8.76478829e-02+0.j],\n",
              "       [ 1.48635966e-02+0.j, -8.79020897e-02+0.j],\n",
              "       [-1.47278443e-01+0.j, -1.32969671e-04+0.j],\n",
              "       [ 6.70791944e-02+0.j,  7.37262214e-02+0.j],\n",
              "       [ 2.12540214e-02+0.j, -1.98988778e-01+0.j],\n",
              "       [-7.67400902e-02+0.j, -3.16526526e-02+0.j],\n",
              "       [-1.32882184e-01+0.j,  1.81985106e-02+0.j],\n",
              "       [ 1.34172824e-01+0.j,  1.13562168e-01+0.j],\n",
              "       [ 1.86865047e-01+0.j,  7.28784980e-03+0.j],\n",
              "       [ 1.14663771e-01+0.j, -5.53689647e-02+0.j],\n",
              "       [-7.25761729e-02+0.j, -1.09880361e-01+0.j],\n",
              "       [-5.99273690e-03+0.j, -2.18025229e-01+0.j],\n",
              "       [-8.88436733e-05+0.j, -1.87433140e-01+0.j],\n",
              "       [-8.94275819e-02+0.j, -1.36162227e-03+0.j],\n",
              "       [-7.02008090e-02+0.j, -7.24308989e-03+0.j],\n",
              "       [-2.35846490e-02+0.j, -1.15655131e-01+0.j],\n",
              "       [-6.73200751e-02+0.j, -5.11189178e-02+0.j],\n",
              "       [ 1.28050651e-01+0.j, -4.73695011e-02+0.j],\n",
              "       [-1.15730000e-02+0.j, -2.28590055e-02+0.j],\n",
              "       [-5.94650257e-02+0.j,  7.46510859e-02+0.j],\n",
              "       [-8.37322872e-02+0.j,  1.08892417e-01+0.j],\n",
              "       [-2.90934874e-02+0.j, -2.84741448e-02+0.j],\n",
              "       [-1.75017930e-01+0.j, -9.40643961e-02+0.j],\n",
              "       [ 5.37320284e-02+0.j, -2.36809644e-02+0.j],\n",
              "       [ 4.91019144e-02+0.j,  9.86681351e-02+0.j],\n",
              "       [ 1.94179132e-01+0.j, -2.59379435e-02+0.j],\n",
              "       [-1.66676723e-01+0.j, -6.10059977e-02+0.j],\n",
              "       [ 1.18666433e-01+0.j,  7.61434469e-02+0.j],\n",
              "       [-6.59511753e-02+0.j,  8.67729260e-02+0.j],\n",
              "       [ 7.27040422e-02+0.j, -2.13309871e-02+0.j],\n",
              "       [ 1.67220845e-01+0.j, -2.91383558e-02+0.j],\n",
              "       [-2.57818894e-02+0.j, -1.51999305e-01+0.j],\n",
              "       [-6.80706477e-02+0.j, -1.58889118e-01+0.j],\n",
              "       [-2.18412099e-03+0.j, -2.02801697e-01+0.j],\n",
              "       [ 9.61351785e-02+0.j, -1.42347334e-01+0.j],\n",
              "       [ 1.47085366e-01+0.j, -5.59342778e-02+0.j],\n",
              "       [-9.93972872e-02+0.j,  1.38943569e-01+0.j],\n",
              "       [ 7.02135365e-02+0.j, -1.42044936e-01+0.j],\n",
              "       [-7.42267674e-02+0.j,  2.93643472e-03+0.j],\n",
              "       [ 3.47948649e-02+0.j,  8.95788030e-02+0.j],\n",
              "       [-8.06277595e-02+0.j, -9.57727576e-02+0.j],\n",
              "       [-1.58845241e-02+0.j,  8.57672200e-02+0.j],\n",
              "       [-1.71709548e-01+0.j,  5.57042352e-02+0.j],\n",
              "       [-1.10666007e-01+0.j,  5.97609443e-02+0.j],\n",
              "       [ 1.00453776e-01+0.j, -1.15229639e-01+0.j],\n",
              "       [-5.14369195e-02+0.j,  1.15682285e-01+0.j],\n",
              "       [ 8.96825764e-02+0.j, -3.78152695e-02+0.j],\n",
              "       [ 8.76374284e-02+0.j,  1.54679895e-01+0.j],\n",
              "       [-1.27739122e-01+0.j, -5.73321620e-02+0.j],\n",
              "       [-1.49474145e-01+0.j, -1.38944657e-01+0.j],\n",
              "       [ 7.60466109e-02+0.j,  9.18300184e-02+0.j],\n",
              "       [-4.42679100e-02+0.j,  7.86693965e-02+0.j],\n",
              "       [ 1.45118968e-01+0.j,  1.49353892e-01+0.j],\n",
              "       [-1.56548957e-01+0.j,  8.86293139e-02+0.j],\n",
              "       [ 4.92562785e-03+0.j,  9.92106897e-02+0.j],\n",
              "       [ 5.93936133e-04+0.j, -1.01174816e-01+0.j],\n",
              "       [ 6.51276927e-02+0.j,  1.87916285e-02+0.j],\n",
              "       [ 1.18193623e-01+0.j, -1.90724102e-01+0.j],\n",
              "       [-1.03167513e-02+0.j, -1.67372721e-01+0.j],\n",
              "       [ 2.14436121e-01+0.j,  1.84165769e-02+0.j],\n",
              "       [-5.77841902e-02+0.j, -2.60780531e-02+0.j],\n",
              "       [ 1.43915181e-01+0.j, -1.28139335e-01+0.j],\n",
              "       [-4.27244258e-02+0.j,  3.41494660e-02+0.j],\n",
              "       [ 8.24613148e-03+0.j, -2.46504437e-02+0.j],\n",
              "       [ 9.33824429e-02+0.j, -3.66134265e-02+0.j],\n",
              "       [ 1.53390657e-01+0.j,  5.71954446e-02+0.j],\n",
              "       [-2.18817400e-02+0.j, -1.86283330e-03+0.j],\n",
              "       [ 1.76819124e-02+0.j, -9.40695724e-03+0.j],\n",
              "       [-8.77437844e-03+0.j,  8.02230802e-02+0.j],\n",
              "       [ 2.05472266e-01+0.j,  2.85653088e-02+0.j],\n",
              "       [-4.12793976e-02+0.j,  3.05910017e-03+0.j],\n",
              "       [-4.42481971e-02+0.j, -8.23622983e-02+0.j],\n",
              "       [-1.23640599e-01+0.j, -3.76758720e-02+0.j],\n",
              "       [-8.51336174e-03+0.j,  1.02693137e-01+0.j],\n",
              "       [ 7.37284340e-02+0.j,  1.18053711e-01+0.j],\n",
              "       [ 6.52410420e-02+0.j,  8.99908948e-02+0.j]])"
            ]
          },
          "metadata": {},
          "execution_count": 10
        }
      ]
    },
    {
      "cell_type": "code",
      "metadata": {
        "colab": {
          "base_uri": "https://localhost:8080/",
          "height": 717
        },
        "id": "bRNK8sk-lB6y",
        "outputId": "b50c5f57-d9d1-48d3-9b51-4af6e1062fee"
      },
      "source": [
        "import matplotlib.pyplot as plt\n",
        "plt.figure(figsize=(13,7))\n",
        "plt.scatter(new_vectors[:,0],new_vectors[:,1],linewidths=10,color='red')\n",
        "plt.xlabel(\"PC1\",size=15)\n",
        "plt.ylabel(\"PC2\",size=15)\n",
        "plt.title(\"Word Embedding Space\",size=20)\n",
        "for i, word in enumerate(words):\n",
        "  plt.annotate(word,xy=(new_vectors[i,0],new_vectors[i,1]), fontsize=15)"
      ],
      "execution_count": null,
      "outputs": [
        {
          "output_type": "stream",
          "name": "stderr",
          "text": [
            "/usr/local/lib/python3.7/dist-packages/numpy/core/_asarray.py:136: ComplexWarning: Casting complex values to real discards the imaginary part\n",
            "  return array(a, dtype, copy=False, order=order, subok=True)\n",
            "/usr/local/lib/python3.7/dist-packages/matplotlib/text.py:1769: ComplexWarning: Casting complex values to real discards the imaginary part\n",
            "  x = float(self.convert_xunits(x))\n",
            "/usr/local/lib/python3.7/dist-packages/matplotlib/text.py:1771: ComplexWarning: Casting complex values to real discards the imaginary part\n",
            "  y = float(self.convert_yunits(y))\n",
            "/usr/local/lib/python3.7/dist-packages/matplotlib/text.py:828: ComplexWarning: Casting complex values to real discards the imaginary part\n",
            "  x = float(self.convert_xunits(self._x))\n",
            "/usr/local/lib/python3.7/dist-packages/matplotlib/text.py:829: ComplexWarning: Casting complex values to real discards the imaginary part\n",
            "  y = float(self.convert_yunits(self._y))\n",
            "/usr/local/lib/python3.7/dist-packages/matplotlib/text.py:690: ComplexWarning: Casting complex values to real discards the imaginary part\n",
            "  posx = float(textobj.convert_xunits(textobj._x))\n",
            "/usr/local/lib/python3.7/dist-packages/matplotlib/text.py:691: ComplexWarning: Casting complex values to real discards the imaginary part\n",
            "  posy = float(textobj.convert_yunits(textobj._y))\n"
          ]
        },
        {
          "output_type": "display_data",
          "data": {
            "image/png": "[encoded data removed]",
            "text/plain": [
              "<Figure size 936x504 with 1 Axes>"
            ]
          },
          "metadata": {
            "needs_background": "light"
          }
        }
      ]
    },
    {
      "cell_type": "markdown",
      "metadata": {
        "id": "09LxyEOPmIKC"
      },
      "source": [
        "**2.2 GloVe**\n",
        "\n",
        "GloVe is also available to public use by gensim api. Since its algorithm depends on global vector representation, it is expected to have different embedding by using it. An example implementation for the given poem is placed below."
      ]
    },
    {
      "cell_type": "code",
      "metadata": {
        "colab": {
          "base_uri": "https://localhost:8080/"
        },
        "id": "9B0IInpf0NI6",
        "outputId": "9a3a9697-0c7c-4033-b809-f5ed800bae47"
      },
      "source": [
        "import gensim.downloader as api\n",
        "# Lets download a 25 dimensional GloVe representation of 2 Billion tweets\n",
        "# Info on this & other embeddings : <https://nlp.stanford.edu/projects/glove/>\n",
        "# Gensim provides an awesome interface to easily download pre-trained embeddings\n",
        "# > 100MB to be downloaded\n",
        "twitter_glove = api.load(\"glove-twitter-25\")\n"
      ],
      "execution_count": null,
      "outputs": [
        {
          "output_type": "stream",
          "name": "stdout",
          "text": [
            "[==================================================] 100.0% 104.8/104.8MB downloaded\n"
          ]
        }
      ]
    },
    {
      "cell_type": "code",
      "metadata": {
        "colab": {
          "base_uri": "https://localhost:8080/",
          "height": 204
        },
        "id": "btUhrvRY1Qlr",
        "outputId": "346abf93-ec48-4dd9-b184-bbb12ab54997"
      },
      "source": [
        "# To find most similar words\n",
        "# Note : All outputs are lowercased. If you use upper case letters, it will throw out of vocab error\n",
        "X = []\n",
        "for token in tokens[0]:\n",
        "    X.append(twitter_glove.get_vector(token.lower()))\n",
        "df = pd.DataFrame(X)\n",
        "df.shape\n",
        "df.head()"
      ],
      "execution_count": null,
      "outputs": [
        {
          "output_type": "execute_result",
          "data": {
            "text/html": [
              "<div>\n",
              "<style scoped>\n",
              "    .dataframe tbody tr th:only-of-type {\n",
              "        vertical-align: middle;\n",
              "    }\n",
              "\n",
              "    .dataframe tbody tr th {\n",
              "        vertical-align: top;\n",
              "    }\n",
              "\n",
              "    .dataframe thead th {\n",
              "        text-align: right;\n",
              "    }\n",
              "</style>\n",
              "<table border=\"1\" class=\"dataframe\">\n",
              "  <thead>\n",
              "    <tr style=\"text-align: right;\">\n",
              "      <th></th>\n",
              "      <th>0</th>\n",
              "      <th>1</th>\n",
              "      <th>2</th>\n",
              "      <th>3</th>\n",
              "      <th>4</th>\n",
              "      <th>5</th>\n",
              "      <th>6</th>\n",
              "      <th>7</th>\n",
              "      <th>8</th>\n",
              "      <th>9</th>\n",
              "      <th>10</th>\n",
              "      <th>11</th>\n",
              "      <th>12</th>\n",
              "      <th>13</th>\n",
              "      <th>14</th>\n",
              "      <th>15</th>\n",
              "      <th>16</th>\n",
              "      <th>17</th>\n",
              "      <th>18</th>\n",
              "      <th>19</th>\n",
              "      <th>20</th>\n",
              "      <th>21</th>\n",
              "      <th>22</th>\n",
              "      <th>23</th>\n",
              "      <th>24</th>\n",
              "    </tr>\n",
              "  </thead>\n",
              "  <tbody>\n",
              "    <tr>\n",
              "      <th>0</th>\n",
              "      <td>0.167580</td>\n",
              "      <td>0.214340</td>\n",
              "      <td>-0.093086</td>\n",
              "      <td>0.16379</td>\n",
              "      <td>-0.600010</td>\n",
              "      <td>-0.037103</td>\n",
              "      <td>1.85770</td>\n",
              "      <td>-0.24306</td>\n",
              "      <td>-0.44864</td>\n",
              "      <td>0.287340</td>\n",
              "      <td>-0.43609</td>\n",
              "      <td>1.08390</td>\n",
              "      <td>-6.0385</td>\n",
              "      <td>-0.148720</td>\n",
              "      <td>0.318430</td>\n",
              "      <td>0.08263</td>\n",
              "      <td>0.47562</td>\n",
              "      <td>-0.500900</td>\n",
              "      <td>-0.099384</td>\n",
              "      <td>-0.18034</td>\n",
              "      <td>-0.10614</td>\n",
              "      <td>0.152380</td>\n",
              "      <td>0.325320</td>\n",
              "      <td>0.73795</td>\n",
              "      <td>-0.408590</td>\n",
              "    </tr>\n",
              "    <tr>\n",
              "      <th>1</th>\n",
              "      <td>-0.160630</td>\n",
              "      <td>0.021235</td>\n",
              "      <td>0.956950</td>\n",
              "      <td>-1.06420</td>\n",
              "      <td>-0.424960</td>\n",
              "      <td>0.070767</td>\n",
              "      <td>0.88473</td>\n",
              "      <td>-0.38835</td>\n",
              "      <td>-0.96585</td>\n",
              "      <td>-0.032367</td>\n",
              "      <td>0.24310</td>\n",
              "      <td>1.46820</td>\n",
              "      <td>-5.7357</td>\n",
              "      <td>-0.316110</td>\n",
              "      <td>0.590850</td>\n",
              "      <td>0.33569</td>\n",
              "      <td>0.92369</td>\n",
              "      <td>1.045700</td>\n",
              "      <td>-0.968560</td>\n",
              "      <td>-0.30444</td>\n",
              "      <td>0.65033</td>\n",
              "      <td>0.940530</td>\n",
              "      <td>-0.003684</td>\n",
              "      <td>0.14969</td>\n",
              "      <td>0.384080</td>\n",
              "    </tr>\n",
              "    <tr>\n",
              "      <th>2</th>\n",
              "      <td>-0.010167</td>\n",
              "      <td>0.020194</td>\n",
              "      <td>0.214730</td>\n",
              "      <td>0.17289</td>\n",
              "      <td>-0.436590</td>\n",
              "      <td>-0.146870</td>\n",
              "      <td>1.84290</td>\n",
              "      <td>-0.15753</td>\n",
              "      <td>0.18187</td>\n",
              "      <td>-0.317820</td>\n",
              "      <td>0.06839</td>\n",
              "      <td>0.51776</td>\n",
              "      <td>-6.3371</td>\n",
              "      <td>0.480660</td>\n",
              "      <td>0.137770</td>\n",
              "      <td>-0.48568</td>\n",
              "      <td>0.39000</td>\n",
              "      <td>-0.001951</td>\n",
              "      <td>-0.102180</td>\n",
              "      <td>0.21262</td>\n",
              "      <td>-0.86146</td>\n",
              "      <td>0.172630</td>\n",
              "      <td>0.187830</td>\n",
              "      <td>-0.84250</td>\n",
              "      <td>-0.312080</td>\n",
              "    </tr>\n",
              "    <tr>\n",
              "      <th>3</th>\n",
              "      <td>0.231660</td>\n",
              "      <td>0.048825</td>\n",
              "      <td>0.290170</td>\n",
              "      <td>-0.76236</td>\n",
              "      <td>0.234110</td>\n",
              "      <td>0.582690</td>\n",
              "      <td>1.58320</td>\n",
              "      <td>0.55082</td>\n",
              "      <td>-0.20978</td>\n",
              "      <td>-0.566940</td>\n",
              "      <td>-0.30596</td>\n",
              "      <td>0.50974</td>\n",
              "      <td>-4.8382</td>\n",
              "      <td>-0.002327</td>\n",
              "      <td>-0.219060</td>\n",
              "      <td>0.23636</td>\n",
              "      <td>0.60195</td>\n",
              "      <td>-0.819470</td>\n",
              "      <td>-0.451990</td>\n",
              "      <td>0.56327</td>\n",
              "      <td>-0.76506</td>\n",
              "      <td>0.036199</td>\n",
              "      <td>-1.072900</td>\n",
              "      <td>0.44869</td>\n",
              "      <td>-0.274400</td>\n",
              "    </tr>\n",
              "    <tr>\n",
              "      <th>4</th>\n",
              "      <td>0.325430</td>\n",
              "      <td>-0.089637</td>\n",
              "      <td>-0.147330</td>\n",
              "      <td>0.42850</td>\n",
              "      <td>-0.092613</td>\n",
              "      <td>-0.179380</td>\n",
              "      <td>1.28350</td>\n",
              "      <td>-0.59714</td>\n",
              "      <td>-0.28134</td>\n",
              "      <td>-0.048954</td>\n",
              "      <td>0.54827</td>\n",
              "      <td>0.69410</td>\n",
              "      <td>-6.1200</td>\n",
              "      <td>0.672400</td>\n",
              "      <td>0.018078</td>\n",
              "      <td>-0.24165</td>\n",
              "      <td>0.50342</td>\n",
              "      <td>0.653250</td>\n",
              "      <td>-0.206740</td>\n",
              "      <td>0.27639</td>\n",
              "      <td>-0.79097</td>\n",
              "      <td>0.104320</td>\n",
              "      <td>-0.617500</td>\n",
              "      <td>-0.54592</td>\n",
              "      <td>-0.069893</td>\n",
              "    </tr>\n",
              "  </tbody>\n",
              "</table>\n",
              "</div>"
            ],
            "text/plain": [
              "         0         1         2        3   ...        21        22       23        24\n",
              "0  0.167580  0.214340 -0.093086  0.16379  ...  0.152380  0.325320  0.73795 -0.408590\n",
              "1 -0.160630  0.021235  0.956950 -1.06420  ...  0.940530 -0.003684  0.14969  0.384080\n",
              "2 -0.010167  0.020194  0.214730  0.17289  ...  0.172630  0.187830 -0.84250 -0.312080\n",
              "3  0.231660  0.048825  0.290170 -0.76236  ...  0.036199 -1.072900  0.44869 -0.274400\n",
              "4  0.325430 -0.089637 -0.147330  0.42850  ...  0.104320 -0.617500 -0.54592 -0.069893\n",
              "\n",
              "[5 rows x 25 columns]"
            ]
          },
          "metadata": {},
          "execution_count": 13
        }
      ]
    },
    {
      "cell_type": "code",
      "metadata": {
        "id": "-a1B-RYN1diS"
      },
      "source": [
        "#Computing the correlation matrix\n",
        "X_corr=df.corr()\n",
        "\n",
        "#Computing eigen values and eigen vectors\n",
        "values,vectors=np.linalg.eig(X_corr)\n",
        "\n",
        "#Sorting the eigen vectors coresponding to eigen values in descending order\n",
        "args = (-values).argsort()\n",
        "values = vectors[args]\n",
        "vectors = vectors[:, args]\n",
        "\n",
        "#Taking first 2 components which explain maximum variance for projecting\n",
        "new_vectors=vectors[:,:2]\n",
        "\n",
        "#Projecting it onto new dimesion with 2 axis"
      ],
      "execution_count": null,
      "outputs": []
    },
    {
      "cell_type": "code",
      "metadata": {
        "colab": {
          "base_uri": "https://localhost:8080/",
          "height": 717
        },
        "id": "8IpUgAuX1igD",
        "outputId": "3dbee467-04ec-477a-ba46-4bebe10cef34"
      },
      "source": [
        "import matplotlib.pyplot as plt\n",
        "plt.figure(figsize=(13,7))\n",
        "plt.scatter(new_vectors[:,0],new_vectors[:,1],linewidths=10,color='pink')\n",
        "plt.xlabel(\"PC1\",size=15)\n",
        "plt.ylabel(\"PC2\",size=15)\n",
        "plt.title(\"Word Embedding Space\",size=20)\n",
        "for i, word in enumerate(words):\n",
        "  plt.annotate(word,xy=(new_vectors[i,0],new_vectors[i,1]), fontsize=15)"
      ],
      "execution_count": null,
      "outputs": [
        {
          "output_type": "stream",
          "name": "stderr",
          "text": [
            "/usr/local/lib/python3.7/dist-packages/numpy/core/_asarray.py:136: ComplexWarning: Casting complex values to real discards the imaginary part\n",
            "  return array(a, dtype, copy=False, order=order, subok=True)\n",
            "/usr/local/lib/python3.7/dist-packages/matplotlib/text.py:1769: ComplexWarning: Casting complex values to real discards the imaginary part\n",
            "  x = float(self.convert_xunits(x))\n",
            "/usr/local/lib/python3.7/dist-packages/matplotlib/text.py:1771: ComplexWarning: Casting complex values to real discards the imaginary part\n",
            "  y = float(self.convert_yunits(y))\n",
            "/usr/local/lib/python3.7/dist-packages/matplotlib/text.py:828: ComplexWarning: Casting complex values to real discards the imaginary part\n",
            "  x = float(self.convert_xunits(self._x))\n",
            "/usr/local/lib/python3.7/dist-packages/matplotlib/text.py:829: ComplexWarning: Casting complex values to real discards the imaginary part\n",
            "  y = float(self.convert_yunits(self._y))\n",
            "/usr/local/lib/python3.7/dist-packages/matplotlib/text.py:690: ComplexWarning: Casting complex values to real discards the imaginary part\n",
            "  posx = float(textobj.convert_xunits(textobj._x))\n",
            "/usr/local/lib/python3.7/dist-packages/matplotlib/text.py:691: ComplexWarning: Casting complex values to real discards the imaginary part\n",
            "  posy = float(textobj.convert_yunits(textobj._y))\n"
          ]
        },
        {
          "output_type": "display_data",
          "data": {
            "image/png": "[encoded data removed]",
            "text/plain": [
              "<Figure size 936x504 with 1 Axes>"
            ]
          },
          "metadata": {
            "needs_background": "light"
          }
        }
      ]
    },
    {
      "cell_type": "markdown",
      "metadata": {
        "id": "qpWjmpoI_vaV"
      },
      "source": [
        "### **Results**\n",
        "GloVe tends to outperform Word2Vec in analogy tasks. Furthermore, it considers word pair to word pair relationship while constructing the vectors. Hence, GloVe tends to add more meaning to the vectors when compared to vectors constructed from word to word relationships. Also, GloVe has shorter training time comparing to Word2Vec while it costs computationally more because of the utilization of co-occurence matrix and global information. "
      ]
    }
  ]
}