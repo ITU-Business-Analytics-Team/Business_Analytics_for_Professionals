{
  "cells": [
    {
      "cell_type": "markdown",
      "metadata": {
        "id": "view-in-github",
        "colab_type": "text"
      },
      "source": [
        "<a href=\"https://colab.research.google.com/github/ITU-Business-Analytics-Team/Business_Analytics_for_Professionals/blob/main/Part%20I%20%3A%20Methods%20%26%20Technologies%20for%20Business%20Analytics/Chapter%207%3A%20Text%20Analytics/7_6_3_Deep_Learning_Based_Sentiment_Analysis_Word2Vec.ipynb\" target=\"_parent\"><img src=\"https://colab.research.google.com/assets/colab-badge.svg\" alt=\"Open In Colab\"/></a>"
      ]
    },
    {
      "cell_type": "markdown",
      "metadata": {
        "id": "3RSycwXj_6k7"
      },
      "source": [
        "# **Sentiment Analysis (Opinion Mining)**\n",
        "## **Deep Learning Based Sentiment Analysis**"
      ]
    },
    {
      "cell_type": "markdown",
      "metadata": {
        "id": "lhtrLK0PtNRz"
      },
      "source": [
        "### Word2Vec"
      ]
    },
    {
      "cell_type": "markdown",
      "metadata": {
        "id": "3EomVxVhtNR0"
      },
      "source": [
        "The solution of metal news sentiment analysis with word2vec is not explained in Sentiment Analysis in the book. However, sentiment analysis is a subtask of text classification and Word2Vec solution is explained under Text Classification. We would like to share adapted version of it below."
      ]
    },
    {
      "cell_type": "markdown",
      "metadata": {
        "id": "BI6hAQWmtNR0"
      },
      "source": [
        "First start with checking necessary libraries:"
      ]
    },
    {
      "cell_type": "code",
      "execution_count": null,
      "metadata": {
        "colab": {
          "base_uri": "https://localhost:8080/"
        },
        "id": "9VS0G05ltNR1",
        "outputId": "c8c99e66-939a-4495-a19e-47a1b2a42ee0"
      },
      "outputs": [
        {
          "name": "stdout",
          "output_type": "stream",
          "text": [
            "Requirement already satisfied: keras in /usr/local/lib/python3.7/dist-packages (2.6.0)\n",
            "Requirement already satisfied: tensorflow in /usr/local/lib/python3.7/dist-packages (2.6.0)\n",
            "Requirement already satisfied: wheel~=0.35 in /usr/local/lib/python3.7/dist-packages (from tensorflow) (0.37.0)\n",
            "Requirement already satisfied: keras~=2.6 in /usr/local/lib/python3.7/dist-packages (from tensorflow) (2.6.0)\n",
            "Requirement already satisfied: termcolor~=1.1.0 in /usr/local/lib/python3.7/dist-packages (from tensorflow) (1.1.0)\n",
            "Requirement already satisfied: six~=1.15.0 in /usr/local/lib/python3.7/dist-packages (from tensorflow) (1.15.0)\n",
            "Requirement already satisfied: tensorflow-estimator~=2.6 in /usr/local/lib/python3.7/dist-packages (from tensorflow) (2.6.0)\n",
            "Requirement already satisfied: h5py~=3.1.0 in /usr/local/lib/python3.7/dist-packages (from tensorflow) (3.1.0)\n",
            "Requirement already satisfied: opt-einsum~=3.3.0 in /usr/local/lib/python3.7/dist-packages (from tensorflow) (3.3.0)\n",
            "Requirement already satisfied: clang~=5.0 in /usr/local/lib/python3.7/dist-packages (from tensorflow) (5.0)\n",
            "Requirement already satisfied: grpcio<2.0,>=1.37.0 in /usr/local/lib/python3.7/dist-packages (from tensorflow) (1.41.0)\n",
            "Requirement already satisfied: gast==0.4.0 in /usr/local/lib/python3.7/dist-packages (from tensorflow) (0.4.0)\n",
            "Requirement already satisfied: typing-extensions~=3.7.4 in /usr/local/lib/python3.7/dist-packages (from tensorflow) (3.7.4.3)\n",
            "Requirement already satisfied: flatbuffers~=1.12.0 in /usr/local/lib/python3.7/dist-packages (from tensorflow) (1.12)\n",
            "Requirement already satisfied: tensorboard~=2.6 in /usr/local/lib/python3.7/dist-packages (from tensorflow) (2.6.0)\n",
            "Requirement already satisfied: absl-py~=0.10 in /usr/local/lib/python3.7/dist-packages (from tensorflow) (0.12.0)\n",
            "Requirement already satisfied: astunparse~=1.6.3 in /usr/local/lib/python3.7/dist-packages (from tensorflow) (1.6.3)\n",
            "Requirement already satisfied: wrapt~=1.12.1 in /usr/local/lib/python3.7/dist-packages (from tensorflow) (1.12.1)\n",
            "Requirement already satisfied: protobuf>=3.9.2 in /usr/local/lib/python3.7/dist-packages (from tensorflow) (3.17.3)\n",
            "Requirement already satisfied: keras-preprocessing~=1.1.2 in /usr/local/lib/python3.7/dist-packages (from tensorflow) (1.1.2)\n",
            "Requirement already satisfied: numpy~=1.19.2 in /usr/local/lib/python3.7/dist-packages (from tensorflow) (1.19.5)\n",
            "Requirement already satisfied: google-pasta~=0.2 in /usr/local/lib/python3.7/dist-packages (from tensorflow) (0.2.0)\n",
            "Requirement already satisfied: cached-property in /usr/local/lib/python3.7/dist-packages (from h5py~=3.1.0->tensorflow) (1.5.2)\n",
            "Requirement already satisfied: tensorboard-data-server<0.7.0,>=0.6.0 in /usr/local/lib/python3.7/dist-packages (from tensorboard~=2.6->tensorflow) (0.6.1)\n",
            "Requirement already satisfied: google-auth<2,>=1.6.3 in /usr/local/lib/python3.7/dist-packages (from tensorboard~=2.6->tensorflow) (1.35.0)\n",
            "Requirement already satisfied: google-auth-oauthlib<0.5,>=0.4.1 in /usr/local/lib/python3.7/dist-packages (from tensorboard~=2.6->tensorflow) (0.4.6)\n",
            "Requirement already satisfied: markdown>=2.6.8 in /usr/local/lib/python3.7/dist-packages (from tensorboard~=2.6->tensorflow) (3.3.4)\n",
            "Requirement already satisfied: setuptools>=41.0.0 in /usr/local/lib/python3.7/dist-packages (from tensorboard~=2.6->tensorflow) (57.4.0)\n",
            "Requirement already satisfied: requests<3,>=2.21.0 in /usr/local/lib/python3.7/dist-packages (from tensorboard~=2.6->tensorflow) (2.23.0)\n",
            "Requirement already satisfied: tensorboard-plugin-wit>=1.6.0 in /usr/local/lib/python3.7/dist-packages (from tensorboard~=2.6->tensorflow) (1.8.0)\n",
            "Requirement already satisfied: werkzeug>=0.11.15 in /usr/local/lib/python3.7/dist-packages (from tensorboard~=2.6->tensorflow) (1.0.1)\n",
            "Requirement already satisfied: cachetools<5.0,>=2.0.0 in /usr/local/lib/python3.7/dist-packages (from google-auth<2,>=1.6.3->tensorboard~=2.6->tensorflow) (4.2.4)\n",
            "Requirement already satisfied: pyasn1-modules>=0.2.1 in /usr/local/lib/python3.7/dist-packages (from google-auth<2,>=1.6.3->tensorboard~=2.6->tensorflow) (0.2.8)\n",
            "Requirement already satisfied: rsa<5,>=3.1.4 in /usr/local/lib/python3.7/dist-packages (from google-auth<2,>=1.6.3->tensorboard~=2.6->tensorflow) (4.7.2)\n",
            "Requirement already satisfied: requests-oauthlib>=0.7.0 in /usr/local/lib/python3.7/dist-packages (from google-auth-oauthlib<0.5,>=0.4.1->tensorboard~=2.6->tensorflow) (1.3.0)\n",
            "Requirement already satisfied: importlib-metadata in /usr/local/lib/python3.7/dist-packages (from markdown>=2.6.8->tensorboard~=2.6->tensorflow) (4.8.1)\n",
            "Requirement already satisfied: pyasn1<0.5.0,>=0.4.6 in /usr/local/lib/python3.7/dist-packages (from pyasn1-modules>=0.2.1->google-auth<2,>=1.6.3->tensorboard~=2.6->tensorflow) (0.4.8)\n",
            "Requirement already satisfied: urllib3!=1.25.0,!=1.25.1,<1.26,>=1.21.1 in /usr/local/lib/python3.7/dist-packages (from requests<3,>=2.21.0->tensorboard~=2.6->tensorflow) (1.24.3)\n",
            "Requirement already satisfied: certifi>=2017.4.17 in /usr/local/lib/python3.7/dist-packages (from requests<3,>=2.21.0->tensorboard~=2.6->tensorflow) (2021.5.30)\n",
            "Requirement already satisfied: idna<3,>=2.5 in /usr/local/lib/python3.7/dist-packages (from requests<3,>=2.21.0->tensorboard~=2.6->tensorflow) (2.10)\n",
            "Requirement already satisfied: chardet<4,>=3.0.2 in /usr/local/lib/python3.7/dist-packages (from requests<3,>=2.21.0->tensorboard~=2.6->tensorflow) (3.0.4)\n",
            "Requirement already satisfied: oauthlib>=3.0.0 in /usr/local/lib/python3.7/dist-packages (from requests-oauthlib>=0.7.0->google-auth-oauthlib<0.5,>=0.4.1->tensorboard~=2.6->tensorflow) (3.1.1)\n",
            "Requirement already satisfied: zipp>=0.5 in /usr/local/lib/python3.7/dist-packages (from importlib-metadata->markdown>=2.6.8->tensorboard~=2.6->tensorflow) (3.6.0)\n"
          ]
        }
      ],
      "source": [
        "!pip install keras\n",
        "!pip install tensorflow"
      ]
    },
    {
      "cell_type": "code",
      "execution_count": null,
      "metadata": {
        "colab": {
          "base_uri": "https://localhost:8080/"
        },
        "id": "pDLm0Umeu-iU",
        "outputId": "381deca7-f0fb-4a06-8df5-8dd1f906a918"
      },
      "outputs": [
        {
          "name": "stdout",
          "output_type": "stream",
          "text": [
            "Collecting nnabla\n",
            "  Downloading nnabla-1.22.0-cp37-cp37m-manylinux_2_27_x86_64.whl (18.7 MB)\n",
            "\u001b[K     |████████████████████████████████| 18.7 MB 19 kB/s \n",
            "\u001b[?25hRequirement already satisfied: six in /usr/local/lib/python3.7/dist-packages (from nnabla) (1.15.0)\n",
            "Requirement already satisfied: pillow in /usr/local/lib/python3.7/dist-packages (from nnabla) (7.1.2)\n",
            "Requirement already satisfied: scipy in /usr/local/lib/python3.7/dist-packages (from nnabla) (1.4.1)\n",
            "Requirement already satisfied: numpy in /usr/local/lib/python3.7/dist-packages (from nnabla) (1.19.5)\n",
            "Requirement already satisfied: setuptools in /usr/local/lib/python3.7/dist-packages (from nnabla) (57.4.0)\n",
            "Requirement already satisfied: Cython in /usr/local/lib/python3.7/dist-packages (from nnabla) (0.29.24)\n",
            "Requirement already satisfied: h5py<=3.1.0 in /usr/local/lib/python3.7/dist-packages (from nnabla) (3.1.0)\n",
            "Requirement already satisfied: tqdm in /usr/local/lib/python3.7/dist-packages (from nnabla) (4.62.3)\n",
            "Collecting boto3\n",
            "  Downloading boto3-1.19.12-py3-none-any.whl (131 kB)\n",
            "\u001b[K     |████████████████████████████████| 131 kB 68.2 MB/s \n",
            "\u001b[?25hRequirement already satisfied: contextlib2 in /usr/local/lib/python3.7/dist-packages (from nnabla) (0.5.5)\n",
            "Requirement already satisfied: imageio in /usr/local/lib/python3.7/dist-packages (from nnabla) (2.4.1)\n",
            "Collecting configparser\n",
            "  Downloading configparser-5.1.0-py3-none-any.whl (19 kB)\n",
            "Requirement already satisfied: pyyaml in /usr/local/lib/python3.7/dist-packages (from nnabla) (3.13)\n",
            "Requirement already satisfied: protobuf>=3.6 in /usr/local/lib/python3.7/dist-packages (from nnabla) (3.17.3)\n",
            "Requirement already satisfied: cached-property in /usr/local/lib/python3.7/dist-packages (from h5py<=3.1.0->nnabla) (1.5.2)\n",
            "Collecting jmespath<1.0.0,>=0.7.1\n",
            "  Downloading jmespath-0.10.0-py2.py3-none-any.whl (24 kB)\n",
            "Collecting s3transfer<0.6.0,>=0.5.0\n",
            "  Downloading s3transfer-0.5.0-py3-none-any.whl (79 kB)\n",
            "\u001b[K     |████████████████████████████████| 79 kB 7.5 MB/s \n",
            "\u001b[?25hCollecting botocore<1.23.0,>=1.22.12\n",
            "  Downloading botocore-1.22.12-py3-none-any.whl (8.1 MB)\n",
            "\u001b[K     |████████████████████████████████| 8.1 MB 52.4 MB/s \n",
            "\u001b[?25hRequirement already satisfied: python-dateutil<3.0.0,>=2.1 in /usr/local/lib/python3.7/dist-packages (from botocore<1.23.0,>=1.22.12->boto3->nnabla) (2.8.2)\n",
            "Collecting urllib3<1.27,>=1.25.4\n",
            "  Downloading urllib3-1.26.7-py2.py3-none-any.whl (138 kB)\n",
            "\u001b[K     |████████████████████████████████| 138 kB 75.4 MB/s \n",
            "\u001b[?25hInstalling collected packages: urllib3, jmespath, botocore, s3transfer, configparser, boto3, nnabla\n",
            "  Attempting uninstall: urllib3\n",
            "    Found existing installation: urllib3 1.24.3\n",
            "    Uninstalling urllib3-1.24.3:\n",
            "      Successfully uninstalled urllib3-1.24.3\n",
            "\u001b[31mERROR: pip's dependency resolver does not currently take into account all the packages that are installed. This behaviour is the source of the following dependency conflicts.\n",
            "requests 2.23.0 requires urllib3!=1.25.0,!=1.25.1,<1.26,>=1.21.1, but you have urllib3 1.26.7 which is incompatible.\n",
            "datascience 0.10.6 requires folium==0.2.1, but you have folium 0.8.3 which is incompatible.\u001b[0m\n",
            "Successfully installed boto3-1.19.12 botocore-1.22.12 configparser-5.1.0 jmespath-0.10.0 nnabla-1.22.0 s3transfer-0.5.0 urllib3-1.26.7\n"
          ]
        }
      ],
      "source": [
        "!pip install nnabla"
      ]
    },
    {
      "cell_type": "code",
      "execution_count": null,
      "metadata": {
        "colab": {
          "base_uri": "https://localhost:8080/",
          "height": 136
        },
        "id": "gL3yZ48aitJ-",
        "outputId": "1f014c87-c0e6-4b27-af40-a1446e8c8f8b"
      },
      "outputs": [
        {
          "name": "stderr",
          "output_type": "stream",
          "text": [
            "/usr/local/lib/python3.7/dist-packages/requests/__init__.py:91: RequestsDependencyWarning: urllib3 (1.26.7) or chardet (3.0.4) doesn't match a supported version!\n",
            "  RequestsDependencyWarning)\n",
            "Downloading...\n",
            "From: https://drive.google.com/u/0/uc?export=download&confirm=lNi_&id=1e4nFhDyHdnZedx26uey0TRHm9n8Ddtg4\n",
            "To: /content/rnn_utils.py\n",
            "100%|██████████| 10.5k/10.5k [00:00<00:00, 2.36MB/s]\n"
          ]
        },
        {
          "data": {
            "application/vnd.google.colaboratory.intrinsic+json": {
              "type": "string"
            },
            "text/plain": [
              "'rnn_utils.py'"
            ]
          },
          "execution_count": 3,
          "metadata": {},
          "output_type": "execute_result"
        }
      ],
      "source": [
        "import gdown\n",
        "url = 'https://drive.google.com/u/0/uc?export=download&confirm=lNi_&id=1e4nFhDyHdnZedx26uey0TRHm9n8Ddtg4'\n",
        "output = 'rnn_utils.py'\n",
        "gdown.download(url, output, quiet=False)"
      ]
    },
    {
      "cell_type": "code",
      "execution_count": null,
      "metadata": {
        "colab": {
          "base_uri": "https://localhost:8080/"
        },
        "id": "CfIxglol-hiY",
        "outputId": "1e38ec49-92bf-43b5-880e-7ca6105253f9"
      },
      "outputs": [
        {
          "name": "stderr",
          "output_type": "stream",
          "text": [
            "2021-11-07 09:23:50,398 [nnabla][INFO]: Initializing CPU extension...\n"
          ]
        }
      ],
      "source": [
        "from gensim.models import KeyedVectors\n",
        "import numpy as np\n",
        "import matplotlib.pyplot as plt\n",
        "import pandas as pd\n",
        "import os\n",
        "import csv\n",
        "import nnabla.utils.rnn as rnn_utils\n",
        "from rnn_utils import *\n",
        "from sklearn.model_selection import train_test_split"
      ]
    },
    {
      "cell_type": "markdown",
      "metadata": {
        "id": "fGyeBNmDtNR3"
      },
      "source": [
        "Data  can be read now. These steps is very similar to other notebooks in sentiment analysis."
      ]
    },
    {
      "cell_type": "code",
      "execution_count": null,
      "metadata": {
        "colab": {
          "base_uri": "https://localhost:8080/",
          "height": 417
        },
        "id": "DACH18Rq-hie",
        "outputId": "9015c1e0-353d-4acd-e8af-464aabb235da"
      },
      "outputs": [
        {
          "data": {
            "text/html": [
              "<div>\n",
              "<style scoped>\n",
              "    .dataframe tbody tr th:only-of-type {\n",
              "        vertical-align: middle;\n",
              "    }\n",
              "\n",
              "    .dataframe tbody tr th {\n",
              "        vertical-align: top;\n",
              "    }\n",
              "\n",
              "    .dataframe thead th {\n",
              "        text-align: right;\n",
              "    }\n",
              "</style>\n",
              "<table border=\"1\" class=\"dataframe\">\n",
              "  <thead>\n",
              "    <tr style=\"text-align: right;\">\n",
              "      <th></th>\n",
              "      <th>text</th>\n",
              "      <th>score</th>\n",
              "    </tr>\n",
              "  </thead>\n",
              "  <tbody>\n",
              "    <tr>\n",
              "      <th>0</th>\n",
              "      <td>Nickel jumps on talks of Indonesia export ban</td>\n",
              "      <td>1</td>\n",
              "    </tr>\n",
              "    <tr>\n",
              "      <th>1</th>\n",
              "      <td>hanghai copper hits near 2-week high on trade ...</td>\n",
              "      <td>1</td>\n",
              "    </tr>\n",
              "    <tr>\n",
              "      <th>2</th>\n",
              "      <td>Copper at near 2-week highs on hopes China imp...</td>\n",
              "      <td>0</td>\n",
              "    </tr>\n",
              "    <tr>\n",
              "      <th>3</th>\n",
              "      <td>China's Yunnan to help firms stockpile 110,000...</td>\n",
              "      <td>1</td>\n",
              "    </tr>\n",
              "    <tr>\n",
              "      <th>4</th>\n",
              "      <td>RPT-UPDATE 1-China turns net aluminium importe...</td>\n",
              "      <td>1</td>\n",
              "    </tr>\n",
              "    <tr>\n",
              "      <th>...</th>\n",
              "      <td>...</td>\n",
              "      <td>...</td>\n",
              "    </tr>\n",
              "    <tr>\n",
              "      <th>1115</th>\n",
              "      <td>Copper rebounds as U.S.-Mexico deal calms nerves</td>\n",
              "      <td>1</td>\n",
              "    </tr>\n",
              "    <tr>\n",
              "      <th>1116</th>\n",
              "      <td>China demand hopes help aluminium to hold near...</td>\n",
              "      <td>1</td>\n",
              "    </tr>\n",
              "    <tr>\n",
              "      <th>1117</th>\n",
              "      <td>RPT-COLUMN-New contracts, new platform as LME ...</td>\n",
              "      <td>1</td>\n",
              "    </tr>\n",
              "    <tr>\n",
              "      <th>1118</th>\n",
              "      <td>RPT-COLUMN- China's aluminium import surge a s...</td>\n",
              "      <td>-1</td>\n",
              "    </tr>\n",
              "    <tr>\n",
              "      <th>1119</th>\n",
              "      <td>COLUMN-Metal markets caught out by strength of...</td>\n",
              "      <td>1</td>\n",
              "    </tr>\n",
              "  </tbody>\n",
              "</table>\n",
              "<p>1120 rows × 2 columns</p>\n",
              "</div>"
            ],
            "text/plain": [
              "                                                   text  score\n",
              "0         Nickel jumps on talks of Indonesia export ban      1\n",
              "1     hanghai copper hits near 2-week high on trade ...      1\n",
              "2     Copper at near 2-week highs on hopes China imp...      0\n",
              "3     China's Yunnan to help firms stockpile 110,000...      1\n",
              "4     RPT-UPDATE 1-China turns net aluminium importe...      1\n",
              "...                                                 ...    ...\n",
              "1115   Copper rebounds as U.S.-Mexico deal calms nerves      1\n",
              "1116  China demand hopes help aluminium to hold near...      1\n",
              "1117  RPT-COLUMN-New contracts, new platform as LME ...      1\n",
              "1118  RPT-COLUMN- China's aluminium import surge a s...     -1\n",
              "1119  COLUMN-Metal markets caught out by strength of...      1\n",
              "\n",
              "[1120 rows x 2 columns]"
            ]
          },
          "execution_count": 5,
          "metadata": {},
          "output_type": "execute_result"
        }
      ],
      "source": [
        "url=   'https://docs.google.com/spreadsheets/d/1XXyxrd7r0mx7kyLaYHDVwh6BFJzo8cPD/edit?usp=sharing&ouid=108589602591644119588&rtpof=true&sd=true'\n",
        "path = 'https://drive.google.com/uc?export=download&id='+url.split('/')[-2]\n",
        "\n",
        "df = pd.read_excel(path)\n",
        "#df = pd.read_excel('trainingdata16oct2020.xlsx')\n",
        "df['summary'] = df['summary'].map(lambda x: x.lstrip('News :'))\n",
        "df['summary'] = df['summary'].map(lambda x: x.lstrip('UPDATE'))\n",
        "df['summary'] = df['summary'].map(lambda x: x.lstrip('METALS-'))\n",
        "df.rename(columns={'sentiment':'score', 'summary':'text'}, inplace = True)\n",
        "df"
      ]
    },
    {
      "cell_type": "code",
      "execution_count": null,
      "metadata": {
        "colab": {
          "base_uri": "https://localhost:8080/",
          "height": 417
        },
        "id": "3O6ah82e-hie",
        "outputId": "66c47391-ba9f-4525-9d2f-1928a94bf905"
      },
      "outputs": [
        {
          "data": {
            "text/html": [
              "<div>\n",
              "<style scoped>\n",
              "    .dataframe tbody tr th:only-of-type {\n",
              "        vertical-align: middle;\n",
              "    }\n",
              "\n",
              "    .dataframe tbody tr th {\n",
              "        vertical-align: top;\n",
              "    }\n",
              "\n",
              "    .dataframe thead th {\n",
              "        text-align: right;\n",
              "    }\n",
              "</style>\n",
              "<table border=\"1\" class=\"dataframe\">\n",
              "  <thead>\n",
              "    <tr style=\"text-align: right;\">\n",
              "      <th></th>\n",
              "      <th>text</th>\n",
              "      <th>score</th>\n",
              "    </tr>\n",
              "  </thead>\n",
              "  <tbody>\n",
              "    <tr>\n",
              "      <th>0</th>\n",
              "      <td>Copper at near 2-week highs on hopes China imp...</td>\n",
              "      <td>0</td>\n",
              "    </tr>\n",
              "    <tr>\n",
              "      <th>1</th>\n",
              "      <td>China's Yunnan to help firms stockpile 110,000...</td>\n",
              "      <td>1</td>\n",
              "    </tr>\n",
              "    <tr>\n",
              "      <th>2</th>\n",
              "      <td>COLUMN-Politics trumps aluminium as U.S. reimp...</td>\n",
              "      <td>-1</td>\n",
              "    </tr>\n",
              "    <tr>\n",
              "      <th>3</th>\n",
              "      <td>Base metals decline on weak China demand outlook</td>\n",
              "      <td>-1</td>\n",
              "    </tr>\n",
              "    <tr>\n",
              "      <th>4</th>\n",
              "      <td>ALUMINIUM  FALLS TO $1,751.50/T, LOWEST SINCE...</td>\n",
              "      <td>-1</td>\n",
              "    </tr>\n",
              "    <tr>\n",
              "      <th>...</th>\n",
              "      <td>...</td>\n",
              "      <td>...</td>\n",
              "    </tr>\n",
              "    <tr>\n",
              "      <th>163</th>\n",
              "      <td>China names former Chinalco exec as industry m...</td>\n",
              "      <td>1</td>\n",
              "    </tr>\n",
              "    <tr>\n",
              "      <th>164</th>\n",
              "      <td>Copper edges off two-year low as Washington so...</td>\n",
              "      <td>0</td>\n",
              "    </tr>\n",
              "    <tr>\n",
              "      <th>165</th>\n",
              "      <td>Uncertainty on global growth, trade war weighs...</td>\n",
              "      <td>-1</td>\n",
              "    </tr>\n",
              "    <tr>\n",
              "      <th>166</th>\n",
              "      <td>Copper gains after Fed chief rekindles rate cu...</td>\n",
              "      <td>1</td>\n",
              "    </tr>\n",
              "    <tr>\n",
              "      <th>167</th>\n",
              "      <td>COLUMN-Metal markets caught out by strength of...</td>\n",
              "      <td>1</td>\n",
              "    </tr>\n",
              "  </tbody>\n",
              "</table>\n",
              "<p>168 rows × 2 columns</p>\n",
              "</div>"
            ],
            "text/plain": [
              "                                                  text  score\n",
              "0    Copper at near 2-week highs on hopes China imp...      0\n",
              "1    China's Yunnan to help firms stockpile 110,000...      1\n",
              "2    COLUMN-Politics trumps aluminium as U.S. reimp...     -1\n",
              "3     Base metals decline on weak China demand outlook     -1\n",
              "4     ALUMINIUM  FALLS TO $1,751.50/T, LOWEST SINCE...     -1\n",
              "..                                                 ...    ...\n",
              "163  China names former Chinalco exec as industry m...      1\n",
              "164  Copper edges off two-year low as Washington so...      0\n",
              "165  Uncertainty on global growth, trade war weighs...     -1\n",
              "166  Copper gains after Fed chief rekindles rate cu...      1\n",
              "167  COLUMN-Metal markets caught out by strength of...      1\n",
              "\n",
              "[168 rows x 2 columns]"
            ]
          },
          "execution_count": 6,
          "metadata": {},
          "output_type": "execute_result"
        }
      ],
      "source": [
        "url=   'https://docs.google.com/spreadsheets/d/145tqf2J949KGCYnH-Nx3hiaHTogiZFn4/edit?usp=sharing&ouid=108589602591644119588&rtpof=true&sd=true'\n",
        "path = 'https://drive.google.com/uc?export=download&id='+url.split('/')[-2]\n",
        "test_df = pd.read_excel(path)\n",
        "#test_df = pd.read_excel('metal news test.xlsx')\n",
        "test_df['summary'] = test_df['summary'].map(lambda x: x.lstrip('News :'))\n",
        "test_df['summary'] = test_df['summary'].map(lambda x: x.lstrip('UPDATE'))\n",
        "test_df['summary'] = test_df['summary'].map(lambda x: x.lstrip('METALS-'))\n",
        "test_df.rename(columns={'sentiment':'score', 'summary':'text'}, inplace = True)\n",
        "test_df"
      ]
    },
    {
      "cell_type": "code",
      "execution_count": null,
      "metadata": {
        "colab": {
          "base_uri": "https://localhost:8080/"
        },
        "id": "x0kOv_8k-hif",
        "outputId": "c13dea30-5cb1-485b-961e-8c3664457029"
      },
      "outputs": [
        {
          "name": "stderr",
          "output_type": "stream",
          "text": [
            "2021-10-27 09:03:38,869 [numexpr.utils][INFO]: NumExpr defaulting to 2 threads.\n"
          ]
        }
      ],
      "source": [
        "df = df.drop_duplicates().merge(test_df.drop_duplicates(), on=test_df.columns.to_list(), \n",
        "                   how='left', indicator=True, right_index = False, left_index = False)\n",
        "df = df.loc[df._merge=='left_only',df.columns!='_merge']\n",
        "df = df.reset_index(drop = True, inplace= False)"
      ]
    },
    {
      "cell_type": "markdown",
      "metadata": {
        "id": "MTdYfF8-tNR6"
      },
      "source": [
        "This notebook utilize 'rnn_utils.py' which needs to work on numpy arrays. So, the test and train datasets are converted to numpy arrays. "
      ]
    },
    {
      "cell_type": "code",
      "execution_count": null,
      "metadata": {
        "id": "7O9KcKPi-hif"
      },
      "outputs": [],
      "source": [
        "X_train = df.drop(columns=['score']).to_numpy()\n",
        "y_train = df['score'].values\n",
        "X_test = test_df.drop(columns=['score']).to_numpy()\n",
        "y_test = test_df['score'].values"
      ]
    },
    {
      "cell_type": "markdown",
      "metadata": {
        "id": "PE6uTmJ3tNR7"
      },
      "source": [
        "To pad to maximum length and equalize of all news length max length in the dataset is found which is 34."
      ]
    },
    {
      "cell_type": "code",
      "execution_count": null,
      "metadata": {
        "colab": {
          "base_uri": "https://localhost:8080/"
        },
        "id": "SXWr-22a-hif",
        "outputId": "8e85aa37-381a-4f22-835c-253dc7a23299"
      },
      "outputs": [
        {
          "name": "stdout",
          "output_type": "stream",
          "text": [
            "34\n"
          ]
        }
      ],
      "source": [
        "maxLen = len(max(X_train[:,0], key=len).split())\n",
        "print(maxLen)"
      ]
    },
    {
      "cell_type": "markdown",
      "metadata": {
        "id": "b5mxtJoptNR7"
      },
      "source": [
        "Let's look some example news with its labels in numpy array format."
      ]
    },
    {
      "cell_type": "code",
      "execution_count": null,
      "metadata": {
        "colab": {
          "base_uri": "https://localhost:8080/"
        },
        "id": "_OIp5d8O-hig",
        "outputId": "058580e9-0154-47f7-fb1e-71fdeb3b047c"
      },
      "outputs": [
        {
          "name": "stdout",
          "output_type": "stream",
          "text": [
            "['Nickel jumps on talks of Indonesia export ban'] 1\n",
            "['hanghai copper hits near 2-week high on trade hopes'] 1\n",
            "['Copper at near 2-week highs on hopes China imports could grow'] 0\n"
          ]
        }
      ],
      "source": [
        "for idx in range(3):\n",
        "    print(X_train[idx], y_train[idx])"
      ]
    },
    {
      "cell_type": "code",
      "execution_count": null,
      "metadata": {
        "colab": {
          "base_uri": "https://localhost:8080/"
        },
        "id": "cQS2o99l-hig",
        "outputId": "79ea8005-a143-4dfd-c8fa-fc80b00d515a"
      },
      "outputs": [
        {
          "data": {
            "text/plain": [
              "1"
            ]
          },
          "execution_count": 10,
          "metadata": {},
          "output_type": "execute_result"
        }
      ],
      "source": [
        "Y_oh_train = convert_to_one_hot(y_train, C = 3)\n",
        "y_train[3]"
      ]
    },
    {
      "cell_type": "code",
      "execution_count": null,
      "metadata": {
        "colab": {
          "base_uri": "https://localhost:8080/"
        },
        "id": "RB1_Qs0w-hig",
        "outputId": "dfbc342d-1057-4295-86d0-18e8f0f65c0b"
      },
      "outputs": [
        {
          "data": {
            "text/plain": [
              "array([0., 1., 0.])"
            ]
          },
          "execution_count": 11,
          "metadata": {},
          "output_type": "execute_result"
        }
      ],
      "source": [
        "Y_oh_train[3]"
      ]
    },
    {
      "cell_type": "code",
      "execution_count": null,
      "metadata": {
        "colab": {
          "base_uri": "https://localhost:8080/"
        },
        "id": "-6yyPkYd-hih",
        "outputId": "4c2dd9bc-7701-478e-e1d5-d60422a80ddf"
      },
      "outputs": [
        {
          "name": "stdout",
          "output_type": "stream",
          "text": [
            "News '['Canada set to drop threat to impose retaliatory sanctions against U.S. aluminum -source']' has label index 1\n",
            "Label index 1 in one-hot encoding format is [0. 1. 0.]\n"
          ]
        }
      ],
      "source": [
        "#one hot encoding example\n",
        "\n",
        "idx = 12\n",
        "print(f\"News '{X_train[12]}' has label index {y_train[idx]}\",)\n",
        "print(f\"Label index {y_train[idx]} in one-hot encoding format is {Y_oh_train[idx]}\")"
      ]
    },
    {
      "cell_type": "markdown",
      "metadata": {
        "id": "inWh4NO5tNR9"
      },
      "source": [
        "If you do not have Google Word2Vec in your device, you can download and unzip by uncommenting below."
      ]
    },
    {
      "cell_type": "code",
      "execution_count": null,
      "metadata": {
        "colab": {
          "base_uri": "https://localhost:8080/"
        },
        "id": "jeomqLA--hih",
        "outputId": "9ee0cf92-9721-4889-8b38-c5dfa3950fcf"
      },
      "outputs": [
        {
          "name": "stdout",
          "output_type": "stream",
          "text": [
            "Collecting wget\n",
            "  Downloading wget-3.2.zip (10 kB)\n",
            "Building wheels for collected packages: wget\n",
            "  Building wheel for wget (setup.py) ... \u001b[?25l\u001b[?25hdone\n",
            "  Created wheel for wget: filename=wget-3.2-py3-none-any.whl size=9672 sha256=6438fce27fdbcd997105ebcfb7d84f776f8a1a2ed1f055eedb9ea62244b5c17a\n",
            "  Stored in directory: /root/.cache/pip/wheels/a1/b6/7c/0e63e34eb06634181c63adacca38b79ff8f35c37e3c13e3c02\n",
            "Successfully built wget\n",
            "Installing collected packages: wget\n",
            "Successfully installed wget-3.2\n",
            "--2021-11-07 09:31:56--  https://s3.amazonaws.com/dl4j-distribution/GoogleNews-vectors-negative300.bin.gz\n",
            "Resolving s3.amazonaws.com (s3.amazonaws.com)... 52.217.95.184\n",
            "Connecting to s3.amazonaws.com (s3.amazonaws.com)|52.217.95.184|:443... connected.\n",
            "HTTP request sent, awaiting response... 200 OK\n",
            "Length: 1647046227 (1.5G) [application/x-gzip]\n",
            "Saving to: ‘GoogleNews-vectors-negative300.bin.gz’\n",
            "\n",
            "GoogleNews-vectors- 100%[===================>]   1.53G  53.4MB/s    in 26s     \n",
            "\n",
            "2021-11-07 09:32:22 (59.9 MB/s) - ‘GoogleNews-vectors-negative300.bin.gz’ saved [1647046227/1647046227]\n",
            "\n"
          ]
        }
      ],
      "source": [
        "!pip install wget\n",
        "!wget -c \"https://s3.amazonaws.com/dl4j-distribution/GoogleNews-vectors-negative300.bin.gz\""
      ]
    },
    {
      "cell_type": "code",
      "execution_count": null,
      "metadata": {
        "id": "dVNezc_KtNR-"
      },
      "outputs": [],
      "source": [
        "!gzip -d GoogleNews-vectors-negative300.bin.gz"
      ]
    },
    {
      "cell_type": "markdown",
      "metadata": {
        "id": "bSWKb8pCtNR-"
      },
      "source": [
        "We continue with creating necessary dictionaries:\n",
        "- **word_to_vec_map :** a word is given as a key and returns 300-dimensional corresponding vector as a value. \n",
        "- **index_to_word :** an index is given as a key and returns word as a value.\n",
        "- **word_to_index :** a word is given as a key and returns its index as a value"
      ]
    },
    {
      "cell_type": "code",
      "execution_count": null,
      "metadata": {
        "colab": {
          "background_save": true
        },
        "id": "L_ypPwwutNR-",
        "outputId": "5814d920-a2db-4a96-a8dd-26f3913c8ed3"
      },
      "outputs": [
        {
          "name": "stderr",
          "output_type": "stream",
          "text": [
            "2021-11-07 09:33:32,854 [gensim.models.utils_any2vec][INFO]: loading projection weights from GoogleNews-vectors-negative300.bin\n",
            "2021-11-07 09:34:38,532 [gensim.models.utils_any2vec][INFO]: loaded (3000000, 300) matrix from GoogleNews-vectors-negative300.bin\n"
          ]
        }
      ],
      "source": [
        "word_to_index, index_to_word, word_to_vec_map = read_googlenews_word2vec('GoogleNews-vectors-negative300.bin')"
      ]
    },
    {
      "cell_type": "code",
      "execution_count": null,
      "metadata": {
        "colab": {
          "background_save": true
        },
        "id": "Lb1knEWg-hih",
        "outputId": "27ad7d16-f8eb-4f2f-9d4e-8a87209f4c9b"
      },
      "outputs": [
        {
          "name": "stdout",
          "output_type": "stream",
          "text": [
            "the index of reuters in the vocabulary is 2820784\n",
            "the 289846th word in the vocabulary is Bishop_Ulama\n"
          ]
        }
      ],
      "source": [
        "#word_to_vec_map example\n",
        "\n",
        "word = \"reuters\"\n",
        "idx = 289846\n",
        "print(\"the index of\", word, \"in the vocabulary is\", word_to_index[word])\n",
        "print(\"the\", str(idx) + \"th word in the vocabulary is\", index_to_word[idx])"
      ]
    },
    {
      "cell_type": "markdown",
      "metadata": {
        "id": "rqwceFPctNR_"
      },
      "source": [
        "Averaging of vectors will be applied in a sentence to match it with sentiments. An example can be seen in below:"
      ]
    },
    {
      "cell_type": "code",
      "execution_count": null,
      "metadata": {
        "colab": {
          "base_uri": "https://localhost:8080/"
        },
        "id": "0RCL1C99-hih",
        "outputId": "eca15fbe-1d9e-464b-9487-5a68e44aa701"
      },
      "outputs": [
        {
          "name": "stdout",
          "output_type": "stream",
          "text": [
            "avg = \n",
            " [-0.15332031  0.16894531 -0.04711914  0.1328125   0.01953125  0.01037598\n",
            " -0.296875    0.10595703 -0.02441406  0.15625    -0.12402344  0.02490234\n",
            " -0.00964355  0.04418945  0.0703125   0.17285156 -0.09423828  0.1484375\n",
            " -0.27929688 -0.04321289 -0.48046875  0.00151062 -0.02478027 -0.1875\n",
            "  0.09765625 -0.20605469 -0.4765625   0.03063965 -0.04736328 -0.2578125\n",
            " -0.02636719 -0.06982422  0.00665283 -0.04541016 -0.0402832   0.13769531\n",
            " -0.35546875  0.22753906  0.09375     0.03637695  0.17285156  0.0390625\n",
            "  0.19140625  0.25585938  0.11279297 -0.07568359 -0.09570312 -0.10693359\n",
            " -0.10107422 -0.0189209   0.10302734  0.13085938  0.14160156  0.21875\n",
            "  0.23144531  0.14160156 -0.10058594  0.05297852 -0.11523438 -0.14257812\n",
            " -0.18847656 -0.2890625  -0.00561523  0.08740234  0.01165771 -0.32617188\n",
            " -0.11669922  0.20605469  0.16503906 -0.16601562 -0.25585938 -0.04370117\n",
            "  0.20703125 -0.08056641 -0.20214844 -0.16796875  0.21875    -0.2109375\n",
            " -0.15332031  0.0201416   0.04321289  0.01153564  0.03686523  0.07324219\n",
            "  0.07519531  0.265625    0.15332031  0.16992188  0.08496094  0.14746094\n",
            "  0.02832031  0.203125   -0.18164062 -0.06298828 -0.21972656  0.03857422\n",
            " -0.14550781 -0.13378906  0.29296875 -0.01147461 -0.3125     -0.07470703\n",
            " -0.12255859 -0.0123291   0.14257812  0.33398438 -0.05859375 -0.04858398\n",
            "  0.08837891  0.11767578  0.02441406 -0.04858398  0.26757812 -0.05688477\n",
            "  0.00872803  0.28320312  0.2421875  -0.02355957 -0.00106812  0.12011719\n",
            "  0.04736328  0.15625     0.09912109  0.31835938  0.11621094 -0.26757812\n",
            "  0.15527344  0.08300781 -0.0546875   0.15527344 -0.13378906  0.3203125\n",
            "  0.00363159 -0.17773438 -0.26171875  0.07177734  0.11328125  0.06494141\n",
            "  0.25390625  0.390625    0.06176758 -0.08300781  0.01312256  0.17089844\n",
            " -0.21289062 -0.04345703 -0.08300781  0.01977539 -0.25390625 -0.00178528\n",
            " -0.02600098 -0.33203125  0.08007812 -0.13769531 -0.11181641 -0.06738281\n",
            "  0.20605469  0.25585938 -0.01025391 -0.03393555  0.14550781  0.10986328\n",
            "  0.24707031 -0.06787109  0.13769531  0.04907227  0.17773438  0.00288391\n",
            " -0.03173828  0.01385498 -0.27148438  0.02612305  0.15527344 -0.24707031\n",
            "  0.00793457  0.08789062  0.30078125 -0.0625      0.078125   -0.20605469\n",
            " -0.15722656  0.17382812 -0.22558594 -0.09179688 -0.16308594 -0.10351562\n",
            " -0.1015625   0.36132812 -0.08740234 -0.07373047  0.25390625 -0.22558594\n",
            " -0.07226562  0.17480469  0.07177734  0.17578125  0.23535156  0.08105469\n",
            " -0.09375     0.09423828 -0.01263428 -0.0534668  -0.15625    -0.12988281\n",
            "  0.04052734  0.01330566 -0.08007812  0.07714844 -0.07373047  0.22167969\n",
            " -0.01177979  0.07666016 -0.02075195 -0.08740234 -0.19042969  0.09375\n",
            "  0.06591797 -0.22460938 -0.0246582   0.04272461 -0.26757812  0.15429688\n",
            "  0.11914062 -0.04272461  0.12792969 -0.06494141  0.15820312 -0.06396484\n",
            " -0.18261719 -0.25976562 -0.03222656  0.00549316 -0.36328125  0.015625\n",
            " -0.11328125  0.01733398 -0.20800781  0.20703125  0.17285156  0.09423828\n",
            "  0.07373047  0.09570312  0.50390625 -0.13378906 -0.07226562  0.00674438\n",
            " -0.30664062  0.21777344  0.03149414 -0.2265625   0.38085938 -0.03515625\n",
            "  0.03039551  0.24023438  0.10009766 -0.10449219  0.04418945  0.07568359\n",
            "  0.00302124  0.05322266  0.2578125  -0.03979492 -0.10351562  0.03295898\n",
            " -0.14257812  0.15722656  0.05615234 -0.07275391  0.11572266  0.06787109\n",
            " -0.296875    0.03125     0.05371094 -0.06835938  0.26367188  0.0456543\n",
            " -0.19140625 -0.29492188  0.06201172 -0.03393555 -0.04174805  0.25390625\n",
            " -0.13378906  0.0625     -0.0324707   0.08300781 -0.19238281 -0.13085938\n",
            "  0.0859375  -0.02270508  0.01452637  0.04150391 -0.26757812 -0.02478027\n",
            " -0.10351562 -0.125      -0.02062988  0.11621094 -0.03222656 -0.17578125]\n"
          ]
        }
      ],
      "source": [
        "#sentence_to_avg example \n",
        "\n",
        "avg = sentence_to_avg(\"Mediterranean's food is my favorite\", word_to_vec_map)\n",
        "print(\"avg = \\n\", avg)"
      ]
    },
    {
      "cell_type": "markdown",
      "metadata": {
        "id": "wjm9yzN7tNSA"
      },
      "source": [
        "As a final step, the model is trained by assigning epoch number."
      ]
    },
    {
      "cell_type": "code",
      "execution_count": null,
      "metadata": {
        "colab": {
          "base_uri": "https://localhost:8080/"
        },
        "id": "lxMMlpit-hih",
        "outputId": "58c5a57e-329c-4498-f88a-c74a76e01b2a"
      },
      "outputs": [
        {
          "name": "stdout",
          "output_type": "stream",
          "text": [
            "Epoch: 0 --- cost = 0.9703933346161266\n",
            "Accuracy: 0.5305676855895196\n",
            "Epoch: 100 --- cost = 1.6461018253291135\n",
            "Accuracy: 0.7478165938864629\n"
          ]
        }
      ],
      "source": [
        "pred, W, b = model(X_train, y_train, word_to_vec_map,num_iterations = 200)"
      ]
    },
    {
      "cell_type": "code",
      "execution_count": null,
      "metadata": {
        "colab": {
          "base_uri": "https://localhost:8080/"
        },
        "id": "XURNfq2d-hih",
        "outputId": "e90e0c4a-24cb-447a-b194-ee11d5f7e450"
      },
      "outputs": [
        {
          "name": "stdout",
          "output_type": "stream",
          "text": [
            "Accuracy: 0.6904761904761905\n"
          ]
        }
      ],
      "source": [
        "pred_test = predict(X_test, y_test, W, b, word_to_vec_map)"
      ]
    },
    {
      "cell_type": "code",
      "execution_count": null,
      "metadata": {
        "id": "22i9kaoq-hii"
      },
      "outputs": [],
      "source": [
        "t_n = y_test.shape[0]"
      ]
    },
    {
      "cell_type": "code",
      "execution_count": null,
      "metadata": {
        "colab": {
          "base_uri": "https://localhost:8080/",
          "height": 394
        },
        "id": "xwZOAky1-hii",
        "outputId": "77396ef3-c2cf-4459-f8b6-b07c76222352"
      },
      "outputs": [
        {
          "name": "stdout",
          "output_type": "stream",
          "text": [
            "(168,)\n",
            "           0    1    -1\n",
            "Predicted  -1.0  0.0  1.0  All\n",
            "Actual                        \n",
            "-1           43    1   21   65\n",
            "0             6    1    5   12\n",
            "1            18    1   72   91\n",
            "All          67    3   98  168\n"
          ]
        },
        {
          "data": {
            "image/png": "[encoded data removed]",
            "text/plain": [
              "<Figure size 288x288 with 2 Axes>"
            ]
          },
          "metadata": {},
          "output_type": "display_data"
        }
      ],
      "source": [
        "print(y_test.shape)\n",
        "print('           '+ '0' + '    ' + '1' + '    ' +  '-1')\n",
        "print(pd.crosstab(y_test, pred_test.reshape(t_n,), rownames=['Actual'], colnames=['Predicted'], margins=True))\n",
        "plot_confusion_matrix(y_test, pred_test)"
      ]
    },
    {
      "cell_type": "code",
      "execution_count": null,
      "metadata": {
        "id": "vrHS8H4X-hii"
      },
      "outputs": [],
      "source": [
        "def accuracy_per_class(preds, labels):\n",
        "    \n",
        "    preds_flat = preds\n",
        "    labels_flat = labels\n",
        "\n",
        "    overall_acc = 0\n",
        "    for label in np.unique(labels_flat):\n",
        "        y_preds = preds_flat[labels_flat==label]\n",
        "        y_true = labels_flat[labels_flat==label]\n",
        "        print(f'Class: {label}')\n",
        "        acc = (len(y_preds[y_preds==label])/len(y_true))*100\n",
        "        overall_acc += acc * len(y_preds)\n",
        "        print(f'Accuracy: {acc}\\n')\n",
        "\n",
        "    print(f'Overall Accuracy: {overall_acc/len(labels)}\\n')"
      ]
    },
    {
      "cell_type": "code",
      "execution_count": null,
      "metadata": {
        "colab": {
          "base_uri": "https://localhost:8080/"
        },
        "id": "KJp1m7_2-hii",
        "outputId": "a327122f-58ca-4589-ae79-e424906efdc6"
      },
      "outputs": [
        {
          "name": "stdout",
          "output_type": "stream",
          "text": [
            "Class: -1\n",
            "Accuracy: 66.15384615384615\n",
            "\n",
            "Class: 0\n",
            "Accuracy: 8.333333333333332\n",
            "\n",
            "Class: 1\n",
            "Accuracy: 79.12087912087912\n",
            "\n",
            "Overall Accuracy: 69.04761904761905\n",
            "\n"
          ]
        }
      ],
      "source": [
        "accuracy_per_class(pred_test, y_test)"
      ]
    },
    {
      "cell_type": "markdown",
      "metadata": {
        "id": "j32MHQpgtNSB"
      },
      "source": [
        "Word2Vec has slightly better performance than statistical models and relatively less accurate than deep learning based models. Although, it is not the best on acurracy metrics, it was very simple to build and train it. It could be an option for time critic applications."
      ]
    }
  ],
  "metadata": {
    "colab": {
      "collapsed_sections": [],
      "name": "7.6.3. Deep Learning Based Sentiment Analysis_Word2Vec.ipynb",
      "provenance": [],
      "include_colab_link": true
    },
    "kernelspec": {
      "display_name": "Python 3",
      "language": "python",
      "name": "python3"
    },
    "language_info": {
      "codemirror_mode": {
        "name": "ipython",
        "version": 3
      },
      "file_extension": ".py",
      "mimetype": "text/x-python",
      "name": "python",
      "nbconvert_exporter": "python",
      "pygments_lexer": "ipython3",
      "version": "3.8.8"
    }
  },
  "nbformat": 4,
  "nbformat_minor": 0
}