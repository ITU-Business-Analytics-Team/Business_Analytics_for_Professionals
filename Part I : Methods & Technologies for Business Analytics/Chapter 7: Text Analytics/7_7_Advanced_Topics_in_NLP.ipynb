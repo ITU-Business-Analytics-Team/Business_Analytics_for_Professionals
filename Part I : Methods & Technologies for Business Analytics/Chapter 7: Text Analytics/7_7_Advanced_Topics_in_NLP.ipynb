{
  "nbformat": 4,
  "nbformat_minor": 0,
  "metadata": {
    "kernelspec": {
      "display_name": "Python 3",
      "language": "python",
      "name": "python3"
    },
    "language_info": {
      "codemirror_mode": {
        "name": "ipython",
        "version": 3
      },
      "file_extension": ".py",
      "mimetype": "text/x-python",
      "name": "python",
      "nbconvert_exporter": "python",
      "pygments_lexer": "ipython3",
      "version": "3.8.3"
    },
    "colab": {
      "name": "7.7 Advanced Topics in NLP.ipynb",
      "provenance": [],
      "collapsed_sections": [],
      "include_colab_link": true
    }
  },
  "cells": [
    {
      "cell_type": "markdown",
      "metadata": {
        "id": "view-in-github",
        "colab_type": "text"
      },
      "source": [
        "<a href=\"https://colab.research.google.com/github/ITU-Business-Analytics-Team/Business_Analytics_for_Professionals/blob/main/Part%20I%20%3A%20Methods%20%26%20Technologies%20for%20Business%20Analytics/Chapter%207%3A%20Text%20Analytics/7_7_Advanced_Topics_in_NLP.ipynb\" target=\"_parent\"><img src=\"https://colab.research.google.com/assets/colab-badge.svg\" alt=\"Open In Colab\"/></a>"
      ]
    },
    {
      "cell_type": "markdown",
      "metadata": {
        "id": "5m8AWtzGhpJM"
      },
      "source": [
        "# **7.\tAdvanced Topics in NLP**\n",
        "## 7.1\tSimilarity"
      ]
    },
    {
      "cell_type": "code",
      "metadata": {
        "colab": {
          "base_uri": "https://localhost:8080/"
        },
        "id": "CXGs1pGAhpJI",
        "outputId": "48cc20f1-6b07-4bc5-9645-97025957c357"
      },
      "source": [
        "!pip install textdistance\n",
        "import textdistance\n"
      ],
      "execution_count": null,
      "outputs": [
        {
          "output_type": "stream",
          "name": "stdout",
          "text": [
            "Requirement already satisfied: textdistance in /usr/local/lib/python3.7/dist-packages (4.2.1)\n"
          ]
        }
      ]
    },
    {
      "cell_type": "markdown",
      "metadata": {
        "id": "Wx9-TCr0hpJN"
      },
      "source": [
        "#### Hamming Distance\n",
        "It is defined as the number of positions that have different characters in both strings with same length"
      ]
    },
    {
      "cell_type": "code",
      "metadata": {
        "colab": {
          "base_uri": "https://localhost:8080/"
        },
        "id": "KVmyjDsRhpJO",
        "outputId": "c70712f4-fa90-4987-b22a-f2de0f89db2e"
      },
      "source": [
        "textdistance.hamming('test', 'text')"
      ],
      "execution_count": null,
      "outputs": [
        {
          "output_type": "execute_result",
          "data": {
            "text/plain": [
              "1"
            ]
          },
          "metadata": {},
          "execution_count": 43
        }
      ]
    },
    {
      "cell_type": "markdown",
      "metadata": {
        "id": "VPCUYkejhpJP"
      },
      "source": [
        "#### Jaccard Index\n",
        "It is determined as the intersection of words divided by the union of the words."
      ]
    },
    {
      "cell_type": "code",
      "metadata": {
        "colab": {
          "base_uri": "https://localhost:8080/"
        },
        "id": "6SqvzqynhpJP",
        "outputId": "4d007dbd-84e1-4325-93e7-833a0c0c1fdf"
      },
      "source": [
        "textdistance.jaccard('test', 'text')"
      ],
      "execution_count": null,
      "outputs": [
        {
          "output_type": "execute_result",
          "data": {
            "text/plain": [
              "0.6"
            ]
          },
          "metadata": {},
          "execution_count": 44
        }
      ]
    },
    {
      "cell_type": "markdown",
      "metadata": {
        "id": "hW7NuQC5hpJQ"
      },
      "source": [
        "#### Levenshtein Distance\n",
        "It is found as the fewest possible insertions, deletions, and substitutions needed to convert first text to second text."
      ]
    },
    {
      "cell_type": "code",
      "metadata": {
        "colab": {
          "base_uri": "https://localhost:8080/"
        },
        "id": "jLpZ_NRthpJR",
        "outputId": "0c9c614a-7fc3-43f0-f106-6999a38a266e"
      },
      "source": [
        "textdistance.levenshtein('test', 'text')"
      ],
      "execution_count": null,
      "outputs": [
        {
          "output_type": "execute_result",
          "data": {
            "text/plain": [
              "1"
            ]
          },
          "metadata": {},
          "execution_count": 45
        }
      ]
    },
    {
      "cell_type": "markdown",
      "metadata": {
        "id": "CqZxoECwhpJR"
      },
      "source": [
        "#### Cosine Similarity\n",
        "It provides us with the measure of the cosine of the angle that exists be-tween two vectors."
      ]
    },
    {
      "cell_type": "code",
      "metadata": {
        "colab": {
          "base_uri": "https://localhost:8080/"
        },
        "id": "vMcBx7WGhpJS",
        "outputId": "50e9a18e-226a-4c49-f24c-dacdbf12688e"
      },
      "source": [
        "textdistance.cosine('test', 'text')"
      ],
      "execution_count": null,
      "outputs": [
        {
          "output_type": "execute_result",
          "data": {
            "text/plain": [
              "0.75"
            ]
          },
          "metadata": {},
          "execution_count": 46
        }
      ]
    },
    {
      "cell_type": "markdown",
      "metadata": {
        "id": "hdATB8UKhpJT"
      },
      "source": [
        "### 7.2\tPOS Tagging\n",
        "Part-of-speech (POS) tagging is an important part of natural language pro-cessing, which includes tagging words with clauses such as nouns, verbs, adjec-tives, and the like"
      ]
    },
    {
      "cell_type": "code",
      "metadata": {
        "colab": {
          "base_uri": "https://localhost:8080/"
        },
        "id": "PFf9F86phpJT",
        "outputId": "bc4429c7-4648-4970-a0ee-e75d21a25797"
      },
      "source": [
        "import nltk\n",
        "from nltk.corpus import stopwords\n",
        "from nltk.tokenize import word_tokenize, sent_tokenize\n",
        "nltk.download('stopwords')\n",
        "stop_words = set(stopwords.words('english'))"
      ],
      "execution_count": null,
      "outputs": [
        {
          "output_type": "stream",
          "name": "stdout",
          "text": [
            "[nltk_data] Downloading package stopwords to /root/nltk_data...\n",
            "[nltk_data]   Package stopwords is already up-to-date!\n"
          ]
        }
      ]
    },
    {
      "cell_type": "code",
      "metadata": {
        "colab": {
          "base_uri": "https://localhost:8080/"
        },
        "id": "Pr5QJwPHhpJT",
        "outputId": "402ffc07-7b89-4499-8dac-7ce16e8bf9bf"
      },
      "source": [
        "# Tokenize the text\n",
        "nltk.download('punkt')\n",
        "nltk.download('averaged_perceptron_tagger')\n",
        "tokens = sent_tokenize(\"This book has written by academic members from Istanbul Technical University in Turkey\")\n",
        "#Generate tagging for all the tokens using loop\n",
        "for i in tokens:\n",
        "    words = nltk.word_tokenize(i)\n",
        "    words = [w for w in words if not w in stop_words]\n",
        "    # POS-tagger.\n",
        "    tags = nltk.pos_tag(words)\n",
        "tags"
      ],
      "execution_count": null,
      "outputs": [
        {
          "output_type": "stream",
          "name": "stdout",
          "text": [
            "[nltk_data] Downloading package punkt to /root/nltk_data...\n",
            "[nltk_data]   Package punkt is already up-to-date!\n",
            "[nltk_data] Downloading package averaged_perceptron_tagger to\n",
            "[nltk_data]     /root/nltk_data...\n",
            "[nltk_data]   Package averaged_perceptron_tagger is already up-to-\n",
            "[nltk_data]       date!\n"
          ]
        },
        {
          "output_type": "execute_result",
          "data": {
            "text/plain": [
              "[('This', 'DT'),\n",
              " ('book', 'NN'),\n",
              " ('written', 'VBN'),\n",
              " ('academic', 'JJ'),\n",
              " ('members', 'NNS'),\n",
              " ('Istanbul', 'NNP'),\n",
              " ('Technical', 'NNP'),\n",
              " ('University', 'NNP'),\n",
              " ('Turkey', 'NNP')]"
            ]
          },
          "metadata": {},
          "execution_count": 48
        }
      ]
    },
    {
      "cell_type": "code",
      "metadata": {
        "colab": {
          "base_uri": "https://localhost:8080/"
        },
        "id": "4O0xlkkChpJU",
        "outputId": "039f567c-6c16-4848-daa5-d66243c50c11"
      },
      "source": [
        "nltk.download('tagsets')\n",
        "nltk.help.upenn_tagset()"
      ],
      "execution_count": null,
      "outputs": [
        {
          "output_type": "stream",
          "name": "stdout",
          "text": [
            "[nltk_data] Downloading package tagsets to /root/nltk_data...\n",
            "[nltk_data]   Package tagsets is already up-to-date!\n",
            "$: dollar\n",
            "    $ -$ --$ A$ C$ HK$ M$ NZ$ S$ U.S.$ US$\n",
            "'': closing quotation mark\n",
            "    ' ''\n",
            "(: opening parenthesis\n",
            "    ( [ {\n",
            "): closing parenthesis\n",
            "    ) ] }\n",
            ",: comma\n",
            "    ,\n",
            "--: dash\n",
            "    --\n",
            ".: sentence terminator\n",
            "    . ! ?\n",
            ":: colon or ellipsis\n",
            "    : ; ...\n",
            "CC: conjunction, coordinating\n",
            "    & 'n and both but either et for less minus neither nor or plus so\n",
            "    therefore times v. versus vs. whether yet\n",
            "CD: numeral, cardinal\n",
            "    mid-1890 nine-thirty forty-two one-tenth ten million 0.5 one forty-\n",
            "    seven 1987 twenty '79 zero two 78-degrees eighty-four IX '60s .025\n",
            "    fifteen 271,124 dozen quintillion DM2,000 ...\n",
            "DT: determiner\n",
            "    all an another any both del each either every half la many much nary\n",
            "    neither no some such that the them these this those\n",
            "EX: existential there\n",
            "    there\n",
            "FW: foreign word\n",
            "    gemeinschaft hund ich jeux habeas Haementeria Herr K'ang-si vous\n",
            "    lutihaw alai je jour objets salutaris fille quibusdam pas trop Monte\n",
            "    terram fiche oui corporis ...\n",
            "IN: preposition or conjunction, subordinating\n",
            "    astride among uppon whether out inside pro despite on by throughout\n",
            "    below within for towards near behind atop around if like until below\n",
            "    next into if beside ...\n",
            "JJ: adjective or numeral, ordinal\n",
            "    third ill-mannered pre-war regrettable oiled calamitous first separable\n",
            "    ectoplasmic battery-powered participatory fourth still-to-be-named\n",
            "    multilingual multi-disciplinary ...\n",
            "JJR: adjective, comparative\n",
            "    bleaker braver breezier briefer brighter brisker broader bumper busier\n",
            "    calmer cheaper choosier cleaner clearer closer colder commoner costlier\n",
            "    cozier creamier crunchier cuter ...\n",
            "JJS: adjective, superlative\n",
            "    calmest cheapest choicest classiest cleanest clearest closest commonest\n",
            "    corniest costliest crassest creepiest crudest cutest darkest deadliest\n",
            "    dearest deepest densest dinkiest ...\n",
            "LS: list item marker\n",
            "    A A. B B. C C. D E F First G H I J K One SP-44001 SP-44002 SP-44005\n",
            "    SP-44007 Second Third Three Two * a b c d first five four one six three\n",
            "    two\n",
            "MD: modal auxiliary\n",
            "    can cannot could couldn't dare may might must need ought shall should\n",
            "    shouldn't will would\n",
            "NN: noun, common, singular or mass\n",
            "    common-carrier cabbage knuckle-duster Casino afghan shed thermostat\n",
            "    investment slide humour falloff slick wind hyena override subhumanity\n",
            "    machinist ...\n",
            "NNP: noun, proper, singular\n",
            "    Motown Venneboerger Czestochwa Ranzer Conchita Trumplane Christos\n",
            "    Oceanside Escobar Kreisler Sawyer Cougar Yvette Ervin ODI Darryl CTCA\n",
            "    Shannon A.K.C. Meltex Liverpool ...\n",
            "NNPS: noun, proper, plural\n",
            "    Americans Americas Amharas Amityvilles Amusements Anarcho-Syndicalists\n",
            "    Andalusians Andes Andruses Angels Animals Anthony Antilles Antiques\n",
            "    Apache Apaches Apocrypha ...\n",
            "NNS: noun, common, plural\n",
            "    undergraduates scotches bric-a-brac products bodyguards facets coasts\n",
            "    divestitures storehouses designs clubs fragrances averages\n",
            "    subjectivists apprehensions muses factory-jobs ...\n",
            "PDT: pre-determiner\n",
            "    all both half many quite such sure this\n",
            "POS: genitive marker\n",
            "    ' 's\n",
            "PRP: pronoun, personal\n",
            "    hers herself him himself hisself it itself me myself one oneself ours\n",
            "    ourselves ownself self she thee theirs them themselves they thou thy us\n",
            "PRP$: pronoun, possessive\n",
            "    her his mine my our ours their thy your\n",
            "RB: adverb\n",
            "    occasionally unabatingly maddeningly adventurously professedly\n",
            "    stirringly prominently technologically magisterially predominately\n",
            "    swiftly fiscally pitilessly ...\n",
            "RBR: adverb, comparative\n",
            "    further gloomier grander graver greater grimmer harder harsher\n",
            "    healthier heavier higher however larger later leaner lengthier less-\n",
            "    perfectly lesser lonelier longer louder lower more ...\n",
            "RBS: adverb, superlative\n",
            "    best biggest bluntest earliest farthest first furthest hardest\n",
            "    heartiest highest largest least less most nearest second tightest worst\n",
            "RP: particle\n",
            "    aboard about across along apart around aside at away back before behind\n",
            "    by crop down ever fast for forth from go high i.e. in into just later\n",
            "    low more off on open out over per pie raising start teeth that through\n",
            "    under unto up up-pp upon whole with you\n",
            "SYM: symbol\n",
            "    % & ' '' ''. ) ). * + ,. < = > @ A[fj] U.S U.S.S.R * ** ***\n",
            "TO: \"to\" as preposition or infinitive marker\n",
            "    to\n",
            "UH: interjection\n",
            "    Goodbye Goody Gosh Wow Jeepers Jee-sus Hubba Hey Kee-reist Oops amen\n",
            "    huh howdy uh dammit whammo shucks heck anyways whodunnit honey golly\n",
            "    man baby diddle hush sonuvabitch ...\n",
            "VB: verb, base form\n",
            "    ask assemble assess assign assume atone attention avoid bake balkanize\n",
            "    bank begin behold believe bend benefit bevel beware bless boil bomb\n",
            "    boost brace break bring broil brush build ...\n",
            "VBD: verb, past tense\n",
            "    dipped pleaded swiped regummed soaked tidied convened halted registered\n",
            "    cushioned exacted snubbed strode aimed adopted belied figgered\n",
            "    speculated wore appreciated contemplated ...\n",
            "VBG: verb, present participle or gerund\n",
            "    telegraphing stirring focusing angering judging stalling lactating\n",
            "    hankerin' alleging veering capping approaching traveling besieging\n",
            "    encrypting interrupting erasing wincing ...\n",
            "VBN: verb, past participle\n",
            "    multihulled dilapidated aerosolized chaired languished panelized used\n",
            "    experimented flourished imitated reunifed factored condensed sheared\n",
            "    unsettled primed dubbed desired ...\n",
            "VBP: verb, present tense, not 3rd person singular\n",
            "    predominate wrap resort sue twist spill cure lengthen brush terminate\n",
            "    appear tend stray glisten obtain comprise detest tease attract\n",
            "    emphasize mold postpone sever return wag ...\n",
            "VBZ: verb, present tense, 3rd person singular\n",
            "    bases reconstructs marks mixes displeases seals carps weaves snatches\n",
            "    slumps stretches authorizes smolders pictures emerges stockpiles\n",
            "    seduces fizzes uses bolsters slaps speaks pleads ...\n",
            "WDT: WH-determiner\n",
            "    that what whatever which whichever\n",
            "WP: WH-pronoun\n",
            "    that what whatever whatsoever which who whom whosoever\n",
            "WP$: WH-pronoun, possessive\n",
            "    whose\n",
            "WRB: Wh-adverb\n",
            "    how however whence whenever where whereby whereever wherein whereof why\n",
            "``: opening quotation mark\n",
            "    ` ``\n"
          ]
        }
      ]
    },
    {
      "cell_type": "markdown",
      "metadata": {
        "id": "y3xFYPJThpJU"
      },
      "source": [
        "### 7.3\tNamed Entity Recognition\n",
        "It can be described as the process of finding out which entity a word in the text refers to. "
      ]
    },
    {
      "cell_type": "code",
      "metadata": {
        "id": "iDiHyryVhpJV"
      },
      "source": [
        "import nltk\n",
        "#Uncomment if you need necessary modules\n",
        "#nltk.download('averaged_perceptron_tagger')\n",
        "#nltk.download('maxent_ne_chunker')\n",
        "#nltk.download('words')\n",
        "from nltk import ne_chunk\n",
        "from nltk import word_tokenize"
      ],
      "execution_count": null,
      "outputs": []
    },
    {
      "cell_type": "code",
      "metadata": {
        "colab": {
          "base_uri": "https://localhost:8080/"
        },
        "id": "zxg0keYChpJV",
        "outputId": "8366a1fa-d4d6-400d-baf6-4610643e7bbe"
      },
      "source": [
        "nltk.download('maxent_ne_chunker')\n",
        "nltk.download('words')\n",
        "print(ne_chunk(nltk.pos_tag(word_tokenize(\"This book has written by academic members from Istanbul Technical University in Turkey\")), binary=False))"
      ],
      "execution_count": null,
      "outputs": [
        {
          "output_type": "stream",
          "name": "stdout",
          "text": [
            "[nltk_data] Downloading package maxent_ne_chunker to\n",
            "[nltk_data]     /root/nltk_data...\n",
            "[nltk_data]   Package maxent_ne_chunker is already up-to-date!\n",
            "[nltk_data] Downloading package words to /root/nltk_data...\n",
            "[nltk_data]   Package words is already up-to-date!\n",
            "(S\n",
            "  This/DT\n",
            "  book/NN\n",
            "  has/VBZ\n",
            "  written/VBN\n",
            "  by/IN\n",
            "  academic/JJ\n",
            "  members/NNS\n",
            "  from/IN\n",
            "  (PERSON Istanbul/NNP Technical/NNP University/NNP)\n",
            "  in/IN\n",
            "  (GPE Turkey/NNP))\n"
          ]
        }
      ]
    },
    {
      "cell_type": "code",
      "metadata": {
        "id": "orHokWGQhpJV"
      },
      "source": [
        "#Uncomment if you need necessary libraries\n",
        "#!pip install spacy\n",
        "#!python -m spacy download en_core_web_sm\n",
        "import spacy"
      ],
      "execution_count": null,
      "outputs": []
    },
    {
      "cell_type": "code",
      "metadata": {
        "colab": {
          "base_uri": "https://localhost:8080/"
        },
        "id": "_feedTlAhpJW",
        "outputId": "24b14687-949e-4801-d962-5e39bd3b110c"
      },
      "source": [
        "nlp = spacy.load('en_core_web_sm')\n",
        "# Read/create a sentence\n",
        "doc = nlp(u'This book has written by academic members from Istanbul Technical University in Turkey')\n",
        "for ent in doc.ents:\n",
        "    print(ent.text, ent.start_char, ent.end_char, ent.label_)"
      ],
      "execution_count": null,
      "outputs": [
        {
          "output_type": "stream",
          "name": "stdout",
          "text": [
            "Istanbul Technical University 47 76 ORG\n",
            "Turkey 80 86 GPE\n"
          ]
        }
      ]
    },
    {
      "cell_type": "markdown",
      "metadata": {
        "id": "UOJ2dnjVhpJW"
      },
      "source": [
        "### 7.4\tClustering"
      ]
    },
    {
      "cell_type": "code",
      "metadata": {
        "id": "W0OFDdUfhpJW"
      },
      "source": [
        "import string\n",
        "import pandas as pd\n",
        "from nltk.corpus import stopwords\n",
        "from nltk.stem import wordnet\n",
        "from sklearn.feature_extraction.text import TfidfVectorizer"
      ],
      "execution_count": null,
      "outputs": []
    },
    {
      "cell_type": "code",
      "metadata": {
        "colab": {
          "base_uri": "https://localhost:8080/",
          "height": 667
        },
        "id": "AMA24nLShpJX",
        "outputId": "e80e3f39-b140-47e3-fc94-f3893a1b8c3c"
      },
      "source": [
        "#Read Data\n",
        "# read the data  \n",
        "url=   'https://drive.google.com/file/d/1ll7mM_-gc-8wqrqYoI2ojvv9hVtCut2R/view?usp=sharing'\n",
        "path = 'https://drive.google.com/uc?export=download&id='+url.split('/')[-2]\n",
        "cluster_df = pd.read_csv(path)\n",
        "cluster_df[~cluster_df['Consumer complaint narrative'].isna()].head()"
      ],
      "execution_count": null,
      "outputs": [
        {
          "output_type": "execute_result",
          "data": {
            "text/html": [
              "<div>\n",
              "<style scoped>\n",
              "    .dataframe tbody tr th:only-of-type {\n",
              "        vertical-align: middle;\n",
              "    }\n",
              "\n",
              "    .dataframe tbody tr th {\n",
              "        vertical-align: top;\n",
              "    }\n",
              "\n",
              "    .dataframe thead th {\n",
              "        text-align: right;\n",
              "    }\n",
              "</style>\n",
              "<table border=\"1\" class=\"dataframe\">\n",
              "  <thead>\n",
              "    <tr style=\"text-align: right;\">\n",
              "      <th></th>\n",
              "      <th>Unnamed: 0</th>\n",
              "      <th>Date received</th>\n",
              "      <th>Product</th>\n",
              "      <th>Sub-product</th>\n",
              "      <th>Issue</th>\n",
              "      <th>Sub-issue</th>\n",
              "      <th>Consumer complaint narrative</th>\n",
              "      <th>Company public response</th>\n",
              "      <th>Company</th>\n",
              "      <th>State</th>\n",
              "      <th>ZIP code</th>\n",
              "      <th>Tags</th>\n",
              "      <th>Consumer consent provided?</th>\n",
              "      <th>Submitted via</th>\n",
              "      <th>Date sent to company</th>\n",
              "      <th>Company response to consumer</th>\n",
              "      <th>Timely response?</th>\n",
              "      <th>Consumer disputed?</th>\n",
              "      <th>Complaint ID</th>\n",
              "    </tr>\n",
              "  </thead>\n",
              "  <tbody>\n",
              "    <tr>\n",
              "      <th>1</th>\n",
              "      <td>623002</td>\n",
              "      <td>08/07/2016</td>\n",
              "      <td>Student loan</td>\n",
              "      <td>Federal student loan servicing</td>\n",
              "      <td>Dealing with my lender or servicer</td>\n",
              "      <td>Having problems with customer service</td>\n",
              "      <td>Enrolled in paperless billing. Was not billed ...</td>\n",
              "      <td>NaN</td>\n",
              "      <td>ACS Education Services</td>\n",
              "      <td>NY</td>\n",
              "      <td>110XX</td>\n",
              "      <td>NaN</td>\n",
              "      <td>Consent provided</td>\n",
              "      <td>Web</td>\n",
              "      <td>08/07/2016</td>\n",
              "      <td>Closed with explanation</td>\n",
              "      <td>Yes</td>\n",
              "      <td>No</td>\n",
              "      <td>2049664</td>\n",
              "    </tr>\n",
              "    <tr>\n",
              "      <th>12</th>\n",
              "      <td>226883</td>\n",
              "      <td>11/11/2015</td>\n",
              "      <td>Debt collection</td>\n",
              "      <td>Other (i.e. phone, health club, etc.)</td>\n",
              "      <td>Cont'd attempts collect debt not owed</td>\n",
              "      <td>Debt was paid</td>\n",
              "      <td>We lost our home ( of almost 14 years ) to for...</td>\n",
              "      <td>NaN</td>\n",
              "      <td>Diversified Consultants, Inc.</td>\n",
              "      <td>WI</td>\n",
              "      <td>539XX</td>\n",
              "      <td>NaN</td>\n",
              "      <td>Consent provided</td>\n",
              "      <td>Web</td>\n",
              "      <td>11/11/2015</td>\n",
              "      <td>Closed with explanation</td>\n",
              "      <td>Yes</td>\n",
              "      <td>No</td>\n",
              "      <td>1650657</td>\n",
              "    </tr>\n",
              "    <tr>\n",
              "      <th>28</th>\n",
              "      <td>602022</td>\n",
              "      <td>09/20/2016</td>\n",
              "      <td>Credit reporting</td>\n",
              "      <td>NaN</td>\n",
              "      <td>Credit reporting company's investigation</td>\n",
              "      <td>No notice of investigation status/result</td>\n",
              "      <td>Trans Union had a glitch in their system that ...</td>\n",
              "      <td>Company has responded to the consumer and the ...</td>\n",
              "      <td>TransUnion Intermediate Holdings, Inc.</td>\n",
              "      <td>TX</td>\n",
              "      <td>770XX</td>\n",
              "      <td>NaN</td>\n",
              "      <td>Consent provided</td>\n",
              "      <td>Web</td>\n",
              "      <td>09/20/2016</td>\n",
              "      <td>Closed with non-monetary relief</td>\n",
              "      <td>Yes</td>\n",
              "      <td>NaN</td>\n",
              "      <td>2121069</td>\n",
              "    </tr>\n",
              "    <tr>\n",
              "      <th>32</th>\n",
              "      <td>378090</td>\n",
              "      <td>02/23/2016</td>\n",
              "      <td>Debt collection</td>\n",
              "      <td>Credit card</td>\n",
              "      <td>Disclosure verification of debt</td>\n",
              "      <td>Not disclosed as an attempt to collect</td>\n",
              "      <td>received notice from collection agency that I ...</td>\n",
              "      <td>NaN</td>\n",
              "      <td>Synchrony Financial</td>\n",
              "      <td>NY</td>\n",
              "      <td>139XX</td>\n",
              "      <td>Older American</td>\n",
              "      <td>Consent provided</td>\n",
              "      <td>Web</td>\n",
              "      <td>02/25/2016</td>\n",
              "      <td>Closed with monetary relief</td>\n",
              "      <td>Yes</td>\n",
              "      <td>No</td>\n",
              "      <td>1799253</td>\n",
              "    </tr>\n",
              "    <tr>\n",
              "      <th>37</th>\n",
              "      <td>365525</td>\n",
              "      <td>11/02/2015</td>\n",
              "      <td>Credit card</td>\n",
              "      <td>NaN</td>\n",
              "      <td>Closing/Cancelling account</td>\n",
              "      <td>NaN</td>\n",
              "      <td>I have had a Citi Bank Credit card for several...</td>\n",
              "      <td>Company chooses not to provide a public response</td>\n",
              "      <td>Citibank</td>\n",
              "      <td>LA</td>\n",
              "      <td>703XX</td>\n",
              "      <td>NaN</td>\n",
              "      <td>Consent provided</td>\n",
              "      <td>Web</td>\n",
              "      <td>11/02/2015</td>\n",
              "      <td>Closed with explanation</td>\n",
              "      <td>Yes</td>\n",
              "      <td>No</td>\n",
              "      <td>1634875</td>\n",
              "    </tr>\n",
              "  </tbody>\n",
              "</table>\n",
              "</div>"
            ],
            "text/plain": [
              "    Unnamed: 0 Date received  ... Consumer disputed? Complaint ID\n",
              "1       623002    08/07/2016  ...                 No      2049664\n",
              "12      226883    11/11/2015  ...                 No      1650657\n",
              "28      602022    09/20/2016  ...                NaN      2121069\n",
              "32      378090    02/23/2016  ...                 No      1799253\n",
              "37      365525    11/02/2015  ...                 No      1634875\n",
              "\n",
              "[5 rows x 19 columns]"
            ]
          },
          "metadata": {},
          "execution_count": 55
        }
      ]
    },
    {
      "cell_type": "code",
      "metadata": {
        "id": "GIi096alhpJX"
      },
      "source": [
        "#Select only complaint text data and take samples\n",
        "cl_data = cluster_df[['Consumer complaint narrative']]\n",
        "cl_data = cl_data[pd.notnull(cl_data['Consumer complaint narrative'])]\n",
        "cl_data['Consumer complaint narrative'] = cl_data['Consumer complaint narrative'].str.replace('XXXX','')\n",
        "complaints = cl_data['Consumer complaint narrative'].tolist()"
      ],
      "execution_count": null,
      "outputs": []
    },
    {
      "cell_type": "code",
      "metadata": {
        "id": "hRxFWLcihpJY"
      },
      "source": [
        "# Load Stop Words\n",
        "stop = stopwords.words('english')\n",
        "\n",
        "# Load Lemmatizer\n",
        "lem = wordnet.WordNetLemmatizer()"
      ],
      "execution_count": null,
      "outputs": []
    },
    {
      "cell_type": "code",
      "metadata": {
        "id": "HmI_6edFhpJY"
      },
      "source": [
        "def preprocess_text(text):\n",
        "    # Remove punctuations\n",
        "    for c in string.punctuation:\n",
        "        text= text.replace(c,\"\")\n",
        "        \n",
        "    ## Tokenize (convert from string to list) and convert to lowercase\n",
        "    lst_text = [word.lower() for word in text.split()]\n",
        "            \n",
        "    ## Remove Stopwords\n",
        "    lst_text = [word for word in lst_text if word not in stop] \n",
        "    \n",
        "    ## Lemmatisation (convert the word into root word)\n",
        "    lst_text = [lem.lemmatize(word) for word in lst_text] \n",
        "    \n",
        "    return lst_text"
      ],
      "execution_count": null,
      "outputs": []
    },
    {
      "cell_type": "code",
      "metadata": {
        "id": "GP4xzqfghpJY"
      },
      "source": [
        "vectorizer = TfidfVectorizer(max_features=10000, use_idf=True, tokenizer=preprocess_text, ngram_range=(1,2), max_df=0.9, min_df=0.1)"
      ],
      "execution_count": null,
      "outputs": []
    },
    {
      "cell_type": "code",
      "metadata": {
        "colab": {
          "base_uri": "https://localhost:8080/"
        },
        "id": "_wKeE-qUhpJZ",
        "outputId": "2989c4c1-82ac-4ebf-fc5c-fd9e8822182d"
      },
      "source": [
        "#fit the vectorizer to data\n",
        "nltk.download('wordnet')\n",
        "tfidf_matrix = vectorizer.fit_transform(complaints)\n",
        "terms = vectorizer.get_feature_names()\n",
        "print(tfidf_matrix.shape)"
      ],
      "execution_count": null,
      "outputs": [
        {
          "output_type": "stream",
          "name": "stdout",
          "text": [
            "[nltk_data] Downloading package wordnet to /root/nltk_data...\n",
            "[nltk_data]   Package wordnet is already up-to-date!\n",
            "(1688, 89)\n"
          ]
        }
      ]
    },
    {
      "cell_type": "code",
      "metadata": {
        "colab": {
          "base_uri": "https://localhost:8080/"
        },
        "id": "qAhiSrwPhpJZ",
        "outputId": "e54fc9fc-294a-41e4-da7c-36de17557735"
      },
      "source": [
        "#Import Kmeans\n",
        "from sklearn.cluster import KMeans\n",
        "# Define number of clusters\n",
        "num_clusters = 5\n",
        "#Running clustering algorithm\n",
        "km = KMeans(n_clusters=num_clusters)\n",
        "km.fit(tfidf_matrix)\n",
        "\n",
        "#Final clusters\n",
        "clusters = km.labels_.tolist()\n",
        "complaints_data = { 'complaints': complaints, 'cluster': clusters }\n",
        "frame = pd.DataFrame(complaints_data, index = [clusters] , columns = ['cluster'])\n",
        "\n",
        "# Number of complaints per cluster\n",
        "frame['cluster'].value_counts()"
      ],
      "execution_count": null,
      "outputs": [
        {
          "output_type": "execute_result",
          "data": {
            "text/plain": [
              "0    673\n",
              "4    337\n",
              "3    272\n",
              "2    232\n",
              "1    174\n",
              "Name: cluster, dtype: int64"
            ]
          },
          "metadata": {},
          "execution_count": 61
        }
      ]
    },
    {
      "cell_type": "code",
      "metadata": {
        "colab": {
          "base_uri": "https://localhost:8080/"
        },
        "id": "gZrQ5phmhpJZ",
        "outputId": "aba69b8b-8a80-4171-afa5-1d562bd696b1"
      },
      "source": [
        "topn_features = 5\n",
        "ordered_centroids = km.cluster_centers_.argsort()[:, ::-1]\n",
        "# get key features for each cluster\n",
        "\n",
        "for cluster_num in range(num_clusters):\n",
        "    key_features = [terms[index] for index in ordered_centroids[cluster_num, :topn_features]]\n",
        "    print('CLUSTER #'+str(cluster_num+1))\n",
        "    print('Key Features:', key_features)"
      ],
      "execution_count": null,
      "outputs": [
        {
          "output_type": "stream",
          "name": "stdout",
          "text": [
            "CLUSTER #1\n",
            "Key Features: ['account', 'bank', 'payment', 'call', 'nt']\n",
            "CLUSTER #2\n",
            "Key Features: ['card', 'credit card', 'credit', 'account', 'charge']\n",
            "CLUSTER #3\n",
            "Key Features: ['debt', 'collection', 'company', 'credit', 'account']\n",
            "CLUSTER #4\n",
            "Key Features: ['credit', 'report', 'credit report', 'account', 'information']\n",
            "CLUSTER #5\n",
            "Key Features: ['loan', 'mortgage', 'payment', 'home', 'month']\n"
          ]
        }
      ]
    },
    {
      "cell_type": "markdown",
      "metadata": {
        "id": "zhNUZ9UQhpJZ"
      },
      "source": [
        "### 7.5\tDisambiguating\n",
        "Words can have different meanings in different contexts. This situation presents us with the problem of disambiguation. The Lesk algorithm is one of the most ef-fective algorithms for disambiguating word senses."
      ]
    },
    {
      "cell_type": "code",
      "metadata": {
        "colab": {
          "base_uri": "https://localhost:8080/"
        },
        "id": "DB0YAmFKhpJa",
        "outputId": "caa22827-afaf-4cab-ad98-9cce0fea59bb"
      },
      "source": [
        "from nltk.wsd import lesk\n",
        "from nltk import word_tokenize\n",
        "# sample text and word to disambiguate\n",
        "samples = [('The fruits of the cherry tree have ripened', 'n'),\n",
        "('Finally graduating, he reaped the fruits of his work', 'n')]\n",
        "# perform word sense disambiguation\n",
        "word = 'fruit'\n",
        "for sentence, pos_tag in samples:\n",
        "    word_syn = lesk(word_tokenize(sentence.lower()), word, pos_tag)\n",
        "    print('Sentence:', sentence)\n",
        "    print('Word synset:', word_syn)\n",
        "    print('Corresponding definition:', word_syn.definition())\n",
        "    print()"
      ],
      "execution_count": null,
      "outputs": [
        {
          "output_type": "stream",
          "name": "stdout",
          "text": [
            "Sentence: The fruits of the cherry tree have ripened\n",
            "Word synset: Synset('fruit.n.01')\n",
            "Corresponding definition: the ripened reproductive body of a seed plant\n",
            "\n",
            "Sentence: Finally graduating, he reaped the fruits of his work\n",
            "Word synset: Synset('fruit.n.03')\n",
            "Corresponding definition: the consequence of some effort or action\n",
            "\n"
          ]
        }
      ]
    },
    {
      "cell_type": "markdown",
      "metadata": {
        "id": "CZnamiAihpJa"
      },
      "source": [
        "### 7.6\tLanguage Identification and Translation\n",
        "In the globalizing world, companies can acquire customers from many parts of the world, and at the same time, they need to follow the news from many loca-tions. At this point, there may be a need to analyze text from many different languages. The importance of language identification and language translation in text analysis comes from this situation."
      ]
    },
    {
      "cell_type": "code",
      "metadata": {
        "id": "21CMzLp9IelA",
        "colab": {
          "base_uri": "https://localhost:8080/"
        },
        "outputId": "eac64782-3e2a-4927-b9ef-4b232d442256"
      },
      "source": [
        "!pip install googletrans==4.0.0-rc1"
      ],
      "execution_count": null,
      "outputs": [
        {
          "output_type": "stream",
          "name": "stdout",
          "text": [
            "Requirement already satisfied: googletrans==4.0.0-rc1 in /usr/local/lib/python3.7/dist-packages (4.0.0rc1)\n",
            "Requirement already satisfied: httpx==0.13.3 in /usr/local/lib/python3.7/dist-packages (from googletrans==4.0.0-rc1) (0.13.3)\n",
            "Requirement already satisfied: chardet==3.* in /usr/local/lib/python3.7/dist-packages (from httpx==0.13.3->googletrans==4.0.0-rc1) (3.0.4)\n",
            "Requirement already satisfied: httpcore==0.9.* in /usr/local/lib/python3.7/dist-packages (from httpx==0.13.3->googletrans==4.0.0-rc1) (0.9.1)\n",
            "Requirement already satisfied: idna==2.* in /usr/local/lib/python3.7/dist-packages (from httpx==0.13.3->googletrans==4.0.0-rc1) (2.10)\n",
            "Requirement already satisfied: hstspreload in /usr/local/lib/python3.7/dist-packages (from httpx==0.13.3->googletrans==4.0.0-rc1) (2021.10.1)\n",
            "Requirement already satisfied: certifi in /usr/local/lib/python3.7/dist-packages (from httpx==0.13.3->googletrans==4.0.0-rc1) (2021.5.30)\n",
            "Requirement already satisfied: sniffio in /usr/local/lib/python3.7/dist-packages (from httpx==0.13.3->googletrans==4.0.0-rc1) (1.2.0)\n",
            "Requirement already satisfied: rfc3986<2,>=1.3 in /usr/local/lib/python3.7/dist-packages (from httpx==0.13.3->googletrans==4.0.0-rc1) (1.5.0)\n",
            "Requirement already satisfied: h2==3.* in /usr/local/lib/python3.7/dist-packages (from httpcore==0.9.*->httpx==0.13.3->googletrans==4.0.0-rc1) (3.2.0)\n",
            "Requirement already satisfied: h11<0.10,>=0.8 in /usr/local/lib/python3.7/dist-packages (from httpcore==0.9.*->httpx==0.13.3->googletrans==4.0.0-rc1) (0.9.0)\n",
            "Requirement already satisfied: hyperframe<6,>=5.2.0 in /usr/local/lib/python3.7/dist-packages (from h2==3.*->httpcore==0.9.*->httpx==0.13.3->googletrans==4.0.0-rc1) (5.2.0)\n",
            "Requirement already satisfied: hpack<4,>=3.0 in /usr/local/lib/python3.7/dist-packages (from h2==3.*->httpcore==0.9.*->httpx==0.13.3->googletrans==4.0.0-rc1) (3.0.0)\n"
          ]
        }
      ]
    },
    {
      "cell_type": "code",
      "metadata": {
        "colab": {
          "base_uri": "https://localhost:8080/",
          "height": 35
        },
        "id": "zsePdBXGIlim",
        "outputId": "42ddb5a1-e70c-4d68-d002-536485c3be18"
      },
      "source": [
        "from googletrans import Translator\n",
        "translator = Translator()\n",
        "text = \"Merhaba, Dünya\"\n",
        "from_lang = translator.detect(text)\n",
        "from_lang.lang"
      ],
      "execution_count": null,
      "outputs": [
        {
          "output_type": "execute_result",
          "data": {
            "application/vnd.google.colaboratory.intrinsic+json": {
              "type": "string"
            },
            "text/plain": [
              "'tr'"
            ]
          },
          "metadata": {},
          "execution_count": 65
        }
      ]
    },
    {
      "cell_type": "code",
      "metadata": {
        "colab": {
          "base_uri": "https://localhost:8080/"
        },
        "id": "KrYfJbMjIqzv",
        "outputId": "e2b18c38-2d0c-4cb9-f719-06d9357bf0a7"
      },
      "source": [
        "print(translator.translate(text, src=from_lang.lang, dest='en').text)"
      ],
      "execution_count": null,
      "outputs": [
        {
          "output_type": "stream",
          "name": "stdout",
          "text": [
            "Hello World\n"
          ]
        }
      ]
    }
  ]
}