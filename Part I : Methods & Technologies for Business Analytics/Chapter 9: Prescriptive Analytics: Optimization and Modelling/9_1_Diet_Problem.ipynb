{
  "nbformat": 4,
  "nbformat_minor": 0,
  "metadata": {
    "kernelspec": {
      "display_name": "Python 3",
      "language": "python",
      "name": "python3"
    },
    "language_info": {
      "codemirror_mode": {
        "name": "ipython",
        "version": 3
      },
      "file_extension": ".py",
      "mimetype": "text/x-python",
      "name": "python",
      "nbconvert_exporter": "python",
      "pygments_lexer": "ipython3",
      "version": "3.8.5"
    },
    "colab": {
      "name": "9.1. Diet_Problem.ipynb",
      "provenance": [],
      "collapsed_sections": [],
      "include_colab_link": true
    }
  },
  "cells": [
    {
      "cell_type": "markdown",
      "metadata": {
        "id": "view-in-github",
        "colab_type": "text"
      },
      "source": [
        "<a href=\"https://colab.research.google.com/github/ITU-Business-Analytics-Team/Business_Analytics_for_Professionals/blob/main/Part%20I%20%3A%20Methods%20%26%20Technologies%20for%20Business%20Analytics/Chapter%209%3A%20Prescriptive%20Analytics%3A%20Optimization%20and%20Modelling/9_1_Diet_Problem.ipynb\" target=\"_parent\"><img src=\"https://colab.research.google.com/assets/colab-badge.svg\" alt=\"Open In Colab\"/></a>"
      ]
    },
    {
      "cell_type": "markdown",
      "metadata": {
        "id": "F2xKaZhh_9RT"
      },
      "source": [
        "# **Prescriptive Analytics: Optimization and Modeling**\n",
        "## Diet Problem"
      ]
    },
    {
      "cell_type": "markdown",
      "metadata": {
        "id": "Au-LV1IV_9RW"
      },
      "source": [
        "Diabetes or diabetes mellitus is a disease that occurs as a result of insufficient insulin secretion or insufficient insulin use of pancreas. There is a nutrition program prepared by the Ministry of Health in Table 1 for Type 2 diabetes patients. The minimum and maximum mineral and nutritional values that should be taken for each meal are given in Table 1. For example, while at least 600 kcal of energy is required for a meal, at least 90 mg of magnesium should be taken. There is no upper limit for protein intake.\n",
        "A diabetic who has a budget of 15 dollars. In addition, each 100 mg. magnesium reduces the cholesterol rate by 5% (5mg). Accordingly, prepare a one-meal diet program that provides the necessary mineral and nutrient intake with the least budget."
      ]
    },
    {
      "cell_type": "markdown",
      "metadata": {
        "id": "5zBVbhXd_9RX"
      },
      "source": [
        "**$c_ik:$** Cost of **k**  type warehouse to be opened in **i** district.\n",
        "\n",
        "$n_ij:$  Neighborhood status of district **i** and district **j**.\n"
      ]
    },
    {
      "cell_type": "code",
      "metadata": {
        "id": "B0ivnTZOAMDE"
      },
      "source": [
        "#pip install pyomo\n",
        "!pip install -q pyomo"
      ],
      "execution_count": 9,
      "outputs": []
    },
    {
      "cell_type": "code",
      "metadata": {
        "id": "WbSVROWYrsNS"
      },
      "source": [
        "#from pyomo.environ import *"
      ],
      "execution_count": 10,
      "outputs": []
    },
    {
      "cell_type": "code",
      "metadata": {
        "id": "OsrB49wrrs4C"
      },
      "source": [
        "!apt-get install -y -qq glpk-utils"
      ],
      "execution_count": 11,
      "outputs": []
    },
    {
      "cell_type": "code",
      "metadata": {
        "id": "DeYAWDbo_9RY"
      },
      "source": [
        "import numpy as np\n",
        "import pandas as pd\n",
        "import math\n",
        "import pyomo.environ as pyo\n",
        "import networkx as nx\n",
        "import matplotlib.pyplot as plt\n",
        "import matplotlib.image as img"
      ],
      "execution_count": 12,
      "outputs": []
    },
    {
      "cell_type": "markdown",
      "metadata": {
        "id": "Fd1RE16Z_9RZ"
      },
      "source": [
        "# Scalar"
      ]
    },
    {
      "cell_type": "markdown",
      "metadata": {
        "id": "744K172z1D2w"
      },
      "source": [
        "In order to create the constraints, we defined the values that we need to exceed and take at least in the diet list as a constant variable."
      ]
    },
    {
      "cell_type": "code",
      "metadata": {
        "id": "g9Q_Mj6h_9RZ"
      },
      "source": [
        "e=[351,140,64,679,149,116,454]\n",
        "E=600\n",
        "p=[11.4,13.2,3.2,14.5,25.6,25.5,18.2]\n",
        "P=55\n",
        "m=[131,13,9,165,27,18,379]\n",
        "M=90\n",
        "s=[0.3,0,3.9,0,0,0,0]\n",
        "S=4\n",
        "o=[0,360,8,0,53,47,0]\n",
        "O=65\n",
        "h=[0,360,8,0,53,47,0]\n",
        "H=800\n",
        "g=[0,0,0,6.5,2.5,1,17]\n",
        "G=1\n",
        "c=[20,2,1,14,35,12,4]\n",
        "C=15;\n"
      ],
      "execution_count": 13,
      "outputs": []
    },
    {
      "cell_type": "code",
      "metadata": {
        "id": "5nkghyAf_9Ra"
      },
      "source": [
        "model = pyo.ConcreteModel()"
      ],
      "execution_count": 14,
      "outputs": []
    },
    {
      "cell_type": "markdown",
      "metadata": {
        "id": "9Pp079jy_9Rb"
      },
      "source": [
        "# Decision Variable"
      ]
    },
    {
      "cell_type": "markdown",
      "metadata": {
        "id": "99MyINHb_9Rb"
      },
      "source": [
        "$x_i:$  Amount of food to be taken for diet (gr,lt or unit)."
      ]
    },
    {
      "cell_type": "markdown",
      "metadata": {
        "id": "RjPwRH2i_9Rc"
      },
      "source": [
        "# parameters"
      ]
    },
    {
      "cell_type": "markdown",
      "metadata": {
        "id": "XhT8gCSd_9Rd"
      },
      "source": [
        "$c_i:$ The cost considered for 100 grams, 1 lt milk  or 1 egg\n",
        "\n",
        "$e_i:$ The amount of energy for 100 grams, 1 lt milk  of food or 1 egg.\n",
        "\n",
        "$p_i:$ The amount of protein for 100 grams, 1 lt milk  of food or 1 egg.\n",
        "\n",
        "$m_i:$ The amount of Magnezyum for 100 grams, 1 lt milk  of food or 1 egg.\n",
        "\n",
        "$s_i:$ The amount of sugar for 100 grams of food , 1 lt milk or 1 egg.\n",
        "\n",
        "$o_i:$ The amount of oil for 100 grams, 1 lt milk  of food or 1 egg.\n",
        "\n",
        "$h_i:$ The amount of Cholesterol for 100 grams, 1 lt milk  of food or 1 egg.\n",
        "\n",
        "$g_i:$ The amount of Omega-3 (mg) for 100 grams, 1 lt milk  of food or 1 egg.\n"
      ]
    },
    {
      "cell_type": "code",
      "metadata": {
        "id": "gOcmyrDG_9Rd"
      },
      "source": [
        "I = range(1,8)\n",
        "J=  range(1,8)\n",
        "model.x = pyo.Var(I, domain = pyo.NonNegativeReals) "
      ],
      "execution_count": 15,
      "outputs": []
    },
    {
      "cell_type": "markdown",
      "metadata": {
        "id": "8Z60guTJ_9Rd"
      },
      "source": [
        "# Objective Function"
      ]
    },
    {
      "cell_type": "markdown",
      "source": [
        "$ Min Z: \\sum_{i=1}^l x_{i}*c_{i} $"
      ],
      "metadata": {
        "id": "hMlLXf2ZcQUe"
      }
    },
    {
      "cell_type": "markdown",
      "metadata": {
        "id": "XLDXQ-j81b8P"
      },
      "source": [
        "Getting the necessary nutrients at the least cost constitutes the objective function"
      ]
    },
    {
      "cell_type": "code",
      "metadata": {
        "id": "Bs93jeqL_9Rf"
      },
      "source": [
        "model.obj_val = pyo.Objective(expr = (sum (model.x[i] * c[i-1] for i in I )),sense = pyo.minimize)"
      ],
      "execution_count": 17,
      "outputs": []
    },
    {
      "cell_type": "markdown",
      "metadata": {
        "id": "p-AD1upr_9Rf"
      },
      "source": [
        "# Subject To"
      ]
    },
    {
      "cell_type": "markdown",
      "metadata": {
        "id": "mPrBh_I31u9S"
      },
      "source": [
        "Diet conditions are added to the model below."
      ]
    },
    {
      "cell_type": "markdown",
      "source": [
        "$  \\sum_{i=1}^l x_{i}*e_{i} \\geq 600 $ \\\\\n",
        "$  \\sum_{i=1}^l x_{i}*p_{i} \\geq 55 $ \\\\\n",
        "$  \\sum_{i=1}^l x_{i}*m_{i} \\geq 90 $ \\\\\n",
        "$  \\sum_{i=1}^l x_{i}*s_{i} \\leq 4 $ \\\\\n",
        "$  \\sum_{i=1}^l x_{i}*o_{i} \\leq 65 $ \\\\\n",
        "$  \\sum_{i=1}^l x_{i}*cl_{i}-0.05\\sum_{i=1}^l x_{i}*om_{i} \\leq 800 $ \\\\\n",
        "$  \\sum_{i=1}^l x_{i}*om_{i} \\geq 1 $ \\\\\n",
        "$  \\sum_{i=1}^l x_{i}*c_{i} \\leq 15 $ \\\\\n",
        "$x_{i} \\geq 0$"
      ],
      "metadata": {
        "id": "-U0rVrArcK_O"
      }
    },
    {
      "cell_type": "code",
      "metadata": {
        "id": "UDByyIK7_9Rg",
        "colab": {
          "base_uri": "https://localhost:8080/"
        },
        "outputId": "0b97f76f-ca88-457d-8fa4-9b392f77cce7"
      },
      "source": [
        "model.diet = pyo.ConstraintList()\n",
        "model.diet.add(sum(model.x[i]*e[i-1] for i  in I) >=E)\n",
        "model.diet.add(sum(model.x[i]*p[i-1] for i  in I) >=P)\n",
        "model.diet.add(sum(model.x[i]*m[i-1] for i  in I) >=M)\n",
        "model.diet.add(sum(model.x[i]*s[i-1] for i  in I) <=S)\n",
        "model.diet.add(sum(model.x[i]*o[i-1] for i  in I) <=O)\n",
        "model.diet.add(sum(model.x[i]*h[i-1]-0.05*model.x[i]*g[i-1] for i  in I) <=H)\n",
        "model.diet.add(sum(model.x[i]*g[i-1] for i  in I) >=G)\n",
        "model.diet.add(sum(model.x[i]*c[i-1] for i  in I) <=30)\n",
        "model.diet.pprint()"
      ],
      "execution_count": 19,
      "outputs": [
        {
          "output_type": "stream",
          "name": "stdout",
          "text": [
            "diet : Size=8, Index=diet_index, Active=True\n",
            "    Key : Lower : Body                                                                                                  : Upper : Active\n",
            "      1 : 600.0 :                             351*x[1] + 140*x[2] + 64*x[3] + 679*x[4] + 149*x[5] + 116*x[6] + 454*x[7] :  +Inf :   True\n",
            "      2 :  55.0 :                      11.4*x[1] + 13.2*x[2] + 3.2*x[3] + 14.5*x[4] + 25.6*x[5] + 25.5*x[6] + 18.2*x[7] :  +Inf :   True\n",
            "      3 :  90.0 :                                 131*x[1] + 13*x[2] + 9*x[3] + 165*x[4] + 27*x[5] + 18*x[6] + 379*x[7] :  +Inf :   True\n",
            "      4 :  -Inf :                                                                                   0.3*x[1] + 3.9*x[3] :   4.0 :   True\n",
            "      5 :  -Inf :                                                                 360*x[2] + 8*x[3] + 53*x[5] + 47*x[6] :  65.0 :   True\n",
            "      6 :  -Inf : 360*x[2] + 8*x[3] - 0.325*x[4] + 53*x[5] - 0.125*x[5] + 47*x[6] - 0.05*x[6] - 0.8500000000000001*x[7] : 800.0 :   True\n",
            "      7 :   1.0 :                                                                  6.5*x[4] + 2.5*x[5] + x[6] + 17*x[7] :  +Inf :   True\n",
            "      8 :  -Inf :                                        20*x[1] + 2*x[2] + x[3] + 14*x[4] + 35*x[5] + 12*x[6] + 4*x[7] :  30.0 :   True\n"
          ]
        }
      ]
    },
    {
      "cell_type": "code",
      "metadata": {
        "id": "VxAX4XjT_9Rg"
      },
      "source": [
        "b={1:\"100 gr Oat\",2:\"1 unit Egg\",3:\"1 lt Milk\", 4:\"100 gr Walnut kernel\", 5:\"100 gr Somon\", 6:\"100 gr Tuna fish\", 7:\"100 gr Flaxseed\"}"
      ],
      "execution_count": 20,
      "outputs": []
    },
    {
      "cell_type": "code",
      "metadata": {
        "id": "hzE0Znooor96"
      },
      "source": [
        "#pip install glpk\n"
      ],
      "execution_count": 21,
      "outputs": []
    },
    {
      "cell_type": "code",
      "metadata": {
        "id": "QztJeAG0qmi1"
      },
      "source": [
        "#from pyomo.opt import SolverFactory"
      ],
      "execution_count": 24,
      "outputs": []
    },
    {
      "cell_type": "markdown",
      "metadata": {
        "id": "N0NAgecV17uG"
      },
      "source": [
        "Since the problem is linear, the \"glpk\" solver is used."
      ]
    },
    {
      "cell_type": "code",
      "metadata": {
        "id": "jcnH9rGH_9Rg",
        "colab": {
          "base_uri": "https://localhost:8080/"
        },
        "outputId": "248f03f2-c283-4ce9-895f-e0cae0396349"
      },
      "source": [
        "print(\"---------------Solution of diet problem--------------\")\n",
        "opt = pyo.SolverFactory(\"glpk\")\n",
        "opt.solve(model)\n",
        "for i in I:\n",
        "    if pyo.value(model.x[i]) > 0:\n",
        "        print(\"Menu is:\",pyo.value(model.x[i]), model.x[i])\n",
        "print(\"---------------Amount to be spent on diet-------------\")        \n",
        "print(\"Diet is \", pyo.value(model.obj_val),'Dolars');        \n",
        "print(\"--------------Essential nutrients for diet------------\")        \n",
        "for i in I:\n",
        "    if pyo.value(model.x[i]) > 0:        \n",
        "        print(\"Menu is:\", pyo.value(model.x[i]), \"unit\", b[i]);"
      ],
      "execution_count": 25,
      "outputs": [
        {
          "output_type": "stream",
          "name": "stdout",
          "text": [
            "---------------Solution of diet problem--------------\n",
            "Menu is: 0.180555555555556 x[2]\n",
            "Menu is: 2.89102564102564 x[7]\n",
            "---------------Amount to be spent on diet-------------\n",
            "Diet is  11.925213675213673 Dolars\n",
            "--------------Essential nutrients for diet------------\n",
            "Menu is: 0.180555555555556 unit 1 unit Egg\n",
            "Menu is: 2.89102564102564 unit 100 gr Flaxseed\n"
          ]
        }
      ]
    },
    {
      "cell_type": "code",
      "metadata": {
        "id": "THs5I2IV_9Rh",
        "colab": {
          "base_uri": "https://localhost:8080/"
        },
        "outputId": "57a2d912-18df-4a19-e40c-76550f11ede9"
      },
      "source": [
        "print(\"Values of Energy intake is\",sum( pyo.value(model.x[i])*e[i-1] for i  in I ),\"Kcal\")\n",
        "print(\"Values of Protein intake\",sum( pyo.value(model.x[i])*p[i-1] for i  in I ), \"mg\")\n",
        "print(\"Values of Magnesium intake\",sum( pyo.value(model.x[i])*m[i-1] for i  in I ), \"mg\")\n",
        "print(\"Values of Sugar intake\",sum( pyo.value(model.x[i])*s[i-1] for i  in I ), \"mg\")\n",
        "print(\"Values of Oil intake\",sum( pyo.value(model.x[i])*o[i-1] for i  in I ), \"mg\")\n",
        "print(\"Values of Cholesterol intake\",sum( pyo.value(model.x[i])*h[i-1] for i  in I ), \"mg\")\n",
        "print(\"Values of Omega-3 intake\",sum( pyo.value(model.x[i])*g[i-1] for i  in I ), \"mg\")\n",
        "print(\"Cost of diet program is\", sum(pyo.value(model.x[i])*c[i-1] for i  in I ), \"dollars\")\n"
      ],
      "execution_count": 26,
      "outputs": [
        {
          "output_type": "stream",
          "name": "stdout",
          "text": [
            "Values of Energy intake is 1337.8034188034185 Kcal\n",
            "Values of Protein intake 54.999999999999986 mg\n",
            "Values of Magnesium intake 1098.0459401709397 mg\n",
            "Values of Sugar intake 0.0 mg\n",
            "Values of Oil intake 65.00000000000016 mg\n",
            "Values of Cholesterol intake 65.00000000000016 mg\n",
            "Values of Omega-3 intake 49.147435897435884 mg\n",
            "Cost of diet program is 11.925213675213673 dollars\n"
          ]
        }
      ]
    },
    {
      "cell_type": "markdown",
      "metadata": {
        "id": "6tjL6Jls2GRd"
      },
      "source": [
        "When all dietary requirements are met, the cost is $11,925.\n",
        "\n",
        "Moreover, other diet values are shown as output above."
      ]
    }
  ]
}