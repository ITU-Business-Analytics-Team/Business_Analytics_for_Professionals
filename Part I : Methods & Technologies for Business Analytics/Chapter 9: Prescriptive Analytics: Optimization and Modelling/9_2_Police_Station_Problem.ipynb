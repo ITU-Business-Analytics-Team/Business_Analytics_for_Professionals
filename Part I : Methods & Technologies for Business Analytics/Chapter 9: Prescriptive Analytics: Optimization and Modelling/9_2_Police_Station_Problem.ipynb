{
  "nbformat": 4,
  "nbformat_minor": 0,
  "metadata": {
    "colab": {
      "name": "9.2. Police Station Problem.ipynb",
      "provenance": [],
      "collapsed_sections": [],
      "include_colab_link": true
    },
    "kernelspec": {
      "name": "python3",
      "display_name": "Python 3"
    },
    "language_info": {
      "name": "python"
    }
  },
  "cells": [
    {
      "cell_type": "markdown",
      "metadata": {
        "id": "view-in-github",
        "colab_type": "text"
      },
      "source": [
        "<a href=\"https://colab.research.google.com/github/ITU-Business-Analytics-Team/Business_Analytics_for_Professionals/blob/main/Part%20I%20%3A%20Methods%20%26%20Technologies%20for%20Business%20Analytics/Chapter%209%3A%20Prescriptive%20Analytics%3A%20Optimization%20and%20Modelling/9_2_Police_Station_Problem.ipynb\" target=\"_parent\"><img src=\"https://colab.research.google.com/assets/colab-badge.svg\" alt=\"Open In Colab\"/></a>"
      ]
    },
    {
      "cell_type": "markdown",
      "metadata": {
        "id": "WPw2Psci6XZK"
      },
      "source": [
        "# **Prescriptive Analytics: Optimization and Modelling**\n",
        "## Linear Programming"
      ]
    },
    {
      "cell_type": "markdown",
      "metadata": {
        "id": "ReWSyPkU7yyh"
      },
      "source": [
        "### Police Station Problem"
      ]
    },
    {
      "cell_type": "markdown",
      "metadata": {
        "id": "a47VYLqwVI-b"
      },
      "source": [
        "In this example, chief officer of the Maçka Police Station will plan the shifts of the officers. Each officer works for 5 days per week in consecutive days and make a break in the following two days. The crime rate fluctuates with the day of week, so the number of the police officers required each day depends on which day of the week it is: Monday, 15; Tuesday, 18; Wednesday, 19; Thursday, 11; Friday, 21; Saturday, 16; Sunday, 11. The Chief wants to schedule police officers to minimize the total number of the officers. An LP model should be formulated for this goal."
      ]
    },
    {
      "cell_type": "code",
      "metadata": {
        "id": "1kJI76BWkmqQ",
        "colab": {
          "base_uri": "https://localhost:8080/"
        },
        "outputId": "cc2661c1-2313-4c4d-8093-cd35aee31703"
      },
      "source": [
        "import shutil\n",
        "import sys\n",
        "import os.path\n",
        "\n",
        "if not shutil.which(\"pyomo\"):\n",
        "    !pip install -q pyomo\n",
        "    assert(shutil.which(\"pyomo\"))\n",
        "\n",
        "if not (shutil.which(\"cbc\") or os.path.isfile(\"cbc\")):\n",
        "    if \"google.colab\" in sys.modules:\n",
        "        !apt-get install -y -qq coinor-cbc\n",
        "    else:\n",
        "        try:\n",
        "            !conda install -c conda-forge coincbc \n",
        "        except:\n",
        "            pass\n",
        "\n",
        "assert(shutil.which(\"cbc\") or os.path.isfile(\"cbc\"))"
      ],
      "execution_count": null,
      "outputs": [
        {
          "output_type": "stream",
          "name": "stdout",
          "text": [
            "\u001b[K     |████████████████████████████████| 9.1 MB 718 kB/s \n",
            "\u001b[K     |████████████████████████████████| 49 kB 3.0 MB/s \n",
            "\u001b[?25hSelecting previously unselected package coinor-libcoinutils3v5.\n",
            "(Reading database ... 155047 files and directories currently installed.)\n",
            "Preparing to unpack .../0-coinor-libcoinutils3v5_2.10.14+repack1-1_amd64.deb ...\n",
            "Unpacking coinor-libcoinutils3v5 (2.10.14+repack1-1) ...\n",
            "Selecting previously unselected package coinor-libosi1v5.\n",
            "Preparing to unpack .../1-coinor-libosi1v5_0.107.9+repack1-1_amd64.deb ...\n",
            "Unpacking coinor-libosi1v5 (0.107.9+repack1-1) ...\n",
            "Selecting previously unselected package coinor-libclp1.\n",
            "Preparing to unpack .../2-coinor-libclp1_1.16.11+repack1-1_amd64.deb ...\n",
            "Unpacking coinor-libclp1 (1.16.11+repack1-1) ...\n",
            "Selecting previously unselected package coinor-libcgl1.\n",
            "Preparing to unpack .../3-coinor-libcgl1_0.59.10+repack1-1_amd64.deb ...\n",
            "Unpacking coinor-libcgl1 (0.59.10+repack1-1) ...\n",
            "Selecting previously unselected package coinor-libcbc3.\n",
            "Preparing to unpack .../4-coinor-libcbc3_2.9.9+repack1-1_amd64.deb ...\n",
            "Unpacking coinor-libcbc3 (2.9.9+repack1-1) ...\n",
            "Selecting previously unselected package coinor-cbc.\n",
            "Preparing to unpack .../5-coinor-cbc_2.9.9+repack1-1_amd64.deb ...\n",
            "Unpacking coinor-cbc (2.9.9+repack1-1) ...\n",
            "Setting up coinor-libcoinutils3v5 (2.10.14+repack1-1) ...\n",
            "Setting up coinor-libosi1v5 (0.107.9+repack1-1) ...\n",
            "Setting up coinor-libclp1 (1.16.11+repack1-1) ...\n",
            "Setting up coinor-libcgl1 (0.59.10+repack1-1) ...\n",
            "Setting up coinor-libcbc3 (2.9.9+repack1-1) ...\n",
            "Setting up coinor-cbc (2.9.9+repack1-1) ...\n",
            "Processing triggers for man-db (2.8.3-2ubuntu0.1) ...\n",
            "Processing triggers for libc-bin (2.27-3ubuntu1.3) ...\n",
            "/sbin/ldconfig.real: /usr/local/lib/python3.7/dist-packages/ideep4py/lib/libmkldnn.so.0 is not a symbolic link\n",
            "\n"
          ]
        }
      ]
    },
    {
      "cell_type": "code",
      "metadata": {
        "id": "TLI6f8Fvk0Qe"
      },
      "source": [
        "# Model creating\n",
        "\n",
        "import pyomo.environ as pyo\n",
        "model = pyo.ConcreteModel()"
      ],
      "execution_count": null,
      "outputs": []
    },
    {
      "cell_type": "markdown",
      "metadata": {
        "id": "xGfHcBG79un2"
      },
      "source": [
        "#Decision Variables \n",
        "$X_1$= number of officers works in days Monday to Friday \\\\\n",
        "$X_2$= number of officers works in days Tuesday to Saturday \\\\\n",
        "$X_3$= number of officers works in days Wednesday to Sunday \\\\\n",
        "$X_4$= number of officers works in days Thursday to Monday \\\\\n",
        "$X_5$= number of officers works in days Friday to Tuesday \\\\\n",
        "$X_6$= number of officers works in days Saturday to Wednesday \\\\\n",
        "$X_7$= number of officers works in days Sunday to Thursday \\\\"
      ]
    },
    {
      "cell_type": "code",
      "metadata": {
        "id": "kfjTC5S6nfDX"
      },
      "source": [
        "# decision varibles\n",
        "\n",
        "model.X1 = pyo.Var(domain = pyo.NonNegativeReals)   #Number of officers works in days Monday to Friday\n",
        "model.X2 = pyo.Var(domain = pyo.NonNegativeReals)   #Number of officers works in days Thuesday to Saturday\n",
        "model.X3 = pyo.Var(domain = pyo.NonNegativeReals)   #Number of officers works in days Wednesday to Sunday\n",
        "model.X4 = pyo.Var(domain = pyo.NonNegativeReals)   #Number of officers works in days Thursday to Monday\n",
        "model.X5 = pyo.Var(domain = pyo.NonNegativeReals)   #Number of officers works in days Friday to Thuesday\n",
        "model.X6 = pyo.Var(domain = pyo.NonNegativeReals)   #Number of officers works in days Saturday to Wednesday \n",
        "model.X7 = pyo.Var(domain = pyo.NonNegativeReals)   #Number of officers works in days Sunday to Thursday"
      ],
      "execution_count": null,
      "outputs": []
    },
    {
      "cell_type": "markdown",
      "metadata": {
        "id": "LTJNcRkV-lxf"
      },
      "source": [
        "#Objective Function\n",
        "$Min= X_1 + X_2 +X_3 + X_4 +X_5 + X_6 + X_7 $"
      ]
    },
    {
      "cell_type": "code",
      "metadata": {
        "id": "u7wk5eGx4T1g"
      },
      "source": [
        "#Objective Functuion\n",
        "\n",
        "model.obj_val = pyo.Objective(\n",
        "    expr = (model.X1+model.X2+model.X3+model.X4+model.X5+model.X6+model.X7),\n",
        "    sense = pyo.minimize\n",
        ")"
      ],
      "execution_count": null,
      "outputs": []
    },
    {
      "cell_type": "markdown",
      "metadata": {
        "id": "v0NjOVSc-5sB"
      },
      "source": [
        "#Subject To \n",
        "$X_1 + X_4 +X_5 + X_6 + X_7 \\geq 15 $ \\\\\n",
        "$X_1 + X_2 +X_5 + X_6 + X_7 \\geq 18 $ \\\\\n",
        "$X_1 + X_2 +X_3 + X_6 + X_7 \\geq 19 $ \\\\\n",
        "$X_1 + X_2 +X_3 + X_4 + X_7 \\geq 11 $ \\\\\n",
        "$X_1 + X_2 +X_3 + X_4 + X_5 \\geq 21 $ \\\\\n",
        "$X_2 + X_3 +X_4 + X_5 + X_6 \\geq 16 $ \\\\\n",
        "$X_3 + X_4 +X_5 + X_6 + X_7 \\geq 11 $ \\\\\n",
        "$X_1 ,X_2, X_3, X_4 ,X_5 , X_6 , X_7 \\geq 0 $ \\\\"
      ]
    },
    {
      "cell_type": "code",
      "metadata": {
        "id": "0l2iipWIqyL8"
      },
      "source": [
        "#Constraints\n",
        "\n",
        "model.monday = pyo.Constraint(\n",
        "    expr = (model.X1+model.X4+model.X5+model.X6+model.X7) >= 15\n",
        ")\n",
        "\n",
        "model.thuesday = pyo.Constraint(\n",
        "    expr = (model.X1+model.X2+model.X5+model.X6+model.X7) >= 18\n",
        ")\n",
        "\n",
        "model.wednesday = pyo.Constraint(\n",
        "    expr = (model.X1+model.X2+model.X3+model.X6+model.X7) >= 19\n",
        ")\n",
        "\n",
        "model.thursday = pyo.Constraint(\n",
        "    expr = (model.X1+model.X2+model.X3+model.X4+model.X7) >= 11\n",
        ")\n",
        "\n",
        "model.friday = pyo.Constraint(\n",
        "    expr = (model.X1+model.X2+model.X3+model.X4+model.X5) >= 21\n",
        ")\n",
        "    \n",
        "model.saturday = pyo.Constraint(\n",
        "    expr = (model.X2+model.X3+model.X4+model.X5+model.X6) >= 16\n",
        ")\n",
        "\n",
        "model.sunday = pyo.Constraint(\n",
        "    expr = (model.X3+model.X4+model.X5+model.X6+model.X7) >= 11\n",
        ")"
      ],
      "execution_count": null,
      "outputs": []
    },
    {
      "cell_type": "markdown",
      "metadata": {
        "id": "oRS1itlDY6wV"
      },
      "source": [
        "# Results \n",
        "\n",
        "According to the results obtained after the LP model was solved, it has been seen that the number of officers working in some shifts was not obtained as an integer. Since the decision variables in LPs are continuous variables, such non-integer values can be obtained and accepted. If the number of police officers working in shifts is desired to be an integer, the model should be constructed and solved by using integer programming. Integer-valued solutions cannot be found by rounding the non-integer values that can be obtained for this problem and other LPs."
      ]
    },
    {
      "cell_type": "code",
      "metadata": {
        "colab": {
          "base_uri": "https://localhost:8080/"
        },
        "id": "uqnmSP_EtnIK",
        "outputId": "6a53d9e4-f06f-4628-a70d-cda260a84928"
      },
      "source": [
        "opt = pyo.SolverFactory(\"cbc\")\n",
        "opt.solve(model)\n",
        "\n",
        "print(\"Min Officer:\", pyo.value(model.obj_val))\n",
        "print(\"Number of officers works in days Monday to Friday:\",pyo.value(model.X1))\n",
        "print(\"Number of officers works in days Thuesday to Saturday:\", pyo.value(model.X2))\n",
        "print(\"Number of officers works in days Wednesday to Sunday:\",pyo.value(model.X3))\n",
        "print(\"Number of officers works in days Thursday to Monday:\",pyo.value(model.X4))\n",
        "print(\"Number of officers works in days Friday to Thuesday:\",pyo.value(model.X5))\n",
        "print(\"Number of officers works in days Saturday to Wednesday:\",pyo.value(model.X6))\n",
        "print(\"Number of officers works in days Sunday to Thursday:\",pyo.value(model.X7))"
      ],
      "execution_count": null,
      "outputs": [
        {
          "output_type": "stream",
          "name": "stdout",
          "text": [
            "Min Officer: 23.6666668\n",
            "Number of officers works in days Monday to Friday: 7.6666667\n",
            "Number of officers works in days Thuesday to Saturday: 5.0\n",
            "Number of officers works in days Wednesday to Sunday: 3.6666667\n",
            "Number of officers works in days Thursday to Monday: 2.0\n",
            "Number of officers works in days Friday to Thuesday: 2.6666667\n",
            "Number of officers works in days Saturday to Wednesday: 2.6666667\n",
            "Number of officers works in days Sunday to Thursday: 0.0\n"
          ]
        }
      ]
    }
  ]
}