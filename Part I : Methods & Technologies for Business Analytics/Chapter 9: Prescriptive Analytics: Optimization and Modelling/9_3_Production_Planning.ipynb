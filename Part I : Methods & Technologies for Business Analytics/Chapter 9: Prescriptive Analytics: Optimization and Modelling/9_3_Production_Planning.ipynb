{
  "nbformat": 4,
  "nbformat_minor": 0,
  "metadata": {
    "colab": {
      "name": "9.3. Production Planning.ipynb",
      "provenance": [],
      "collapsed_sections": [],
      "include_colab_link": true
    },
    "kernelspec": {
      "display_name": "Python 3",
      "name": "python3"
    },
    "language_info": {
      "name": "python"
    }
  },
  "cells": [
    {
      "cell_type": "markdown",
      "metadata": {
        "id": "view-in-github",
        "colab_type": "text"
      },
      "source": [
        "<a href=\"https://colab.research.google.com/github/ITU-Business-Analytics-Team/Business_Analytics_for_Professionals/blob/main/Part%20I%20%3A%20Methods%20%26%20Technologies%20for%20Business%20Analytics/Chapter%209%3A%20Prescriptive%20Analytics%3A%20Optimization%20and%20Modelling/9_3_Production_Planning.ipynb\" target=\"_parent\"><img src=\"https://colab.research.google.com/assets/colab-badge.svg\" alt=\"Open In Colab\"/></a>"
      ]
    },
    {
      "cell_type": "markdown",
      "metadata": {
        "id": "GjrCTiiq8CrU"
      },
      "source": [
        "# **Prescriptive Analytics: Optimization and Modelling**\n",
        "## Integer Programming"
      ]
    },
    {
      "cell_type": "markdown",
      "metadata": {
        "id": "7hfPjhK38DzV"
      },
      "source": [
        "### Production Planning"
      ]
    },
    {
      "cell_type": "markdown",
      "metadata": {
        "id": "cuwSRsjSNAug"
      },
      "source": [
        "In this example, the production planning of ATK-White company is conducted. ATK-White has plans to produce five new products. In Table below, the initial investment costs of the company for the products and the net profit values of the products are given. ATK-White company should also consider the following conditions.\n",
        "Up to three products will be produced.\n",
        "\n",
        "*   In order to produce product 3 or product 4, at least one of product 1 or product 2 must be produced.\n",
        "*   Required labor hours and raw material for the products are given in in Table below. The company has 7000 working hours and 7000 units of raw materials during the planning period.\n",
        "*   In accordance with the agreement of the company with a customer, 500 units of the 1st and 3rd products in total or 750 units of the 2nd and 4th products in total should be send to the customer.\n",
        "*   If the 5th product is produced more than 500, the 4th product must be produced at most 500.\n",
        "An integer programming model must be formulated that will maximize ATK-White's overall profits, taking into account the given conditions.\n",
        "\n",
        "Products| 1 | 2 | 3 | 4 | 5\n",
        "----|---|-----|-----|----|---\n",
        "Investment Cost|\\$15000|\\$35000|\\$50000|\\$25000|\\$40000\n",
        "Unit Net Profit|\\$50|\\$80|\\$70|\\$85|\\$90\n",
        "Required Labor Hours per Product|5|3|7|4|5\n",
        "Required Raw Material per Product|4|4|5|2|3"
      ]
    },
    {
      "cell_type": "code",
      "metadata": {
        "colab": {
          "background_save": true,
          "base_uri": "https://localhost:8080/"
        },
        "id": "aFZeC2USBO5g",
        "outputId": "2b9a6019-ee54-4df1-e4a3-dd6e180a0367"
      },
      "source": [
        "import shutil\n",
        "import sys\n",
        "import os.path\n",
        "\n",
        "if not shutil.which(\"pyomo\"):\n",
        "    !pip install -q pyomo\n",
        "    assert(shutil.which(\"pyomo\"))\n",
        "\n",
        "if not (shutil.which(\"cbc\") or os.path.isfile(\"cbc\")):\n",
        "    if \"google.colab\" in sys.modules:\n",
        "        !apt-get install -y -qq coinor-cbc\n",
        "    else:\n",
        "        try:\n",
        "            !conda install -c conda-forge coincbc \n",
        "        except:\n",
        "            pass\n",
        "\n",
        "assert(shutil.which(\"cbc\") or os.path.isfile(\"cbc\"))"
      ],
      "execution_count": null,
      "outputs": [
        {
          "name": "stdout",
          "output_type": "stream",
          "text": [
            "\u001b[K     |████████████████████████████████| 9.1 MB 5.3 MB/s \n",
            "\u001b[K     |████████████████████████████████| 49 kB 4.4 MB/s \n",
            "\u001b[?25hSelecting previously unselected package coinor-libcoinutils3v5.\n",
            "(Reading database ... 155047 files and directories currently installed.)\n",
            "Preparing to unpack .../0-coinor-libcoinutils3v5_2.10.14+repack1-1_amd64.deb ...\n",
            "Unpacking coinor-libcoinutils3v5 (2.10.14+repack1-1) ...\n",
            "Selecting previously unselected package coinor-libosi1v5.\n",
            "Preparing to unpack .../1-coinor-libosi1v5_0.107.9+repack1-1_amd64.deb ...\n",
            "Unpacking coinor-libosi1v5 (0.107.9+repack1-1) ...\n",
            "Selecting previously unselected package coinor-libclp1.\n",
            "Preparing to unpack .../2-coinor-libclp1_1.16.11+repack1-1_amd64.deb ...\n",
            "Unpacking coinor-libclp1 (1.16.11+repack1-1) ...\n",
            "Selecting previously unselected package coinor-libcgl1.\n",
            "Preparing to unpack .../3-coinor-libcgl1_0.59.10+repack1-1_amd64.deb ...\n",
            "Unpacking coinor-libcgl1 (0.59.10+repack1-1) ...\n",
            "Selecting previously unselected package coinor-libcbc3.\n",
            "Preparing to unpack .../4-coinor-libcbc3_2.9.9+repack1-1_amd64.deb ...\n",
            "Unpacking coinor-libcbc3 (2.9.9+repack1-1) ...\n",
            "Selecting previously unselected package coinor-cbc.\n",
            "Preparing to unpack .../5-coinor-cbc_2.9.9+repack1-1_amd64.deb ...\n",
            "Unpacking coinor-cbc (2.9.9+repack1-1) ...\n",
            "Setting up coinor-libcoinutils3v5 (2.10.14+repack1-1) ...\n",
            "Setting up coinor-libosi1v5 (0.107.9+repack1-1) ...\n",
            "Setting up coinor-libclp1 (1.16.11+repack1-1) ...\n",
            "Setting up coinor-libcgl1 (0.59.10+repack1-1) ...\n",
            "Setting up coinor-libcbc3 (2.9.9+repack1-1) ...\n",
            "Setting up coinor-cbc (2.9.9+repack1-1) ...\n",
            "Processing triggers for man-db (2.8.3-2ubuntu0.1) ...\n",
            "Processing triggers for libc-bin (2.27-3ubuntu1.3) ...\n",
            "/sbin/ldconfig.real: /usr/local/lib/python3.7/dist-packages/ideep4py/lib/libmkldnn.so.0 is not a symbolic link\n",
            "\n"
          ]
        }
      ]
    },
    {
      "cell_type": "code",
      "metadata": {
        "colab": {
          "background_save": true
        },
        "id": "ocLsqSAOBlY1"
      },
      "source": [
        "#import library\n",
        "import pyomo.environ as pyo\n",
        "import numpy as np"
      ],
      "execution_count": null,
      "outputs": []
    },
    {
      "cell_type": "markdown",
      "metadata": {
        "id": "m3xqlJBfBVps"
      },
      "source": [
        "# Decision Variables \n",
        "$X_i$= Production quantity for product $i$ for $i=1,2,3,4,5$\n",
        "\n",
        "$Y_i=\\begin{cases}\n",
        "    1, & \\text{if investment is made in product $i$ for $i=1,2,3,4,5$} .\\\\\n",
        "    0, & \\text{otherwise}.\n",
        "  \\end{cases}$\n",
        "\n"
      ]
    },
    {
      "cell_type": "code",
      "metadata": {
        "colab": {
          "background_save": true
        },
        "id": "QJSB4EkjBpCL"
      },
      "source": [
        "# Numbers of products\n",
        "N = 5\n",
        "products = np.arange(N)\n",
        "\n",
        "#unit profit for each prodction\n",
        "profit=np.array([50,80,70,85,90])\n",
        "\n",
        "#investment cost for each prodction\n",
        "investment_cost=np.array([15000,35000,50000,25000,40000])\n",
        "\n",
        "#Labor hour consumption of products for the first production line\n",
        "constraint1=np.array([5,3,7,4,5])\n",
        "\n",
        "#Unit raw material quantities of products for the second production line\n",
        "constraint2=np.array([4,4,5,2,3])\n",
        "\n",
        "# Model creating\n",
        "model = pyo.ConcreteModel()\n",
        "\n",
        "# decision varibles\n",
        "model.X = pyo.Var(products, domain = pyo.NonNegativeReals) #the amount of production of the products to be produced\n",
        "model.Y = pyo.Var(products, domain = pyo.Binary)   #products to be produced\n",
        "model.K1=pyo.Var(domain = pyo.Binary)   #whether or not to produce eithor-or production constraint  \n",
        "model.K2=pyo.Var(domain = pyo.Binary)   #whether or not to produce if-then production constraint"
      ],
      "execution_count": null,
      "outputs": []
    },
    {
      "cell_type": "markdown",
      "metadata": {
        "id": "TzWysLs7I2BG"
      },
      "source": [
        "# Objective Function \n",
        "$Max = 50X_1+80X_2+70X_3+85X_4+90X_5-15000Y_1-35000Y_2-50000Y_3-25000Y_4-40000Y_5$"
      ]
    },
    {
      "cell_type": "code",
      "metadata": {
        "colab": {
          "background_save": true
        },
        "id": "D2LQJkO4BwLR"
      },
      "source": [
        "#Objective Functuion \n",
        "\n",
        "model.obj_val = pyo.Objective(\n",
        "    expr = sum(model.X[i]*profit[i] for i in products)-(sum(model.Y[i]*investment_cost[i] for i in products)),\n",
        "    sense = pyo.maximize\n",
        ")"
      ],
      "execution_count": null,
      "outputs": []
    },
    {
      "cell_type": "markdown",
      "metadata": {
        "id": "YtAIp5kPbqHd"
      },
      "source": [
        "The objective function indicates to maximize the total net profit of ATK-White company."
      ]
    },
    {
      "cell_type": "markdown",
      "metadata": {
        "id": "rZNM_gu4Jvu2"
      },
      "source": [
        "# Subject To \n",
        "$5X_1+3X_2+7X_3+4X_4+5X_5 \\leq 7000$ \\\\\n",
        "$4X_1+4X_2+5X_3+2X_4+3X_5 \\leq 7000$ \\\\\n",
        "$X_1 \\leq 1400Y_1$ \\\\\n",
        "$X_2 \\leq 1750Y_2$ \\\\\n",
        "$X_3 \\leq 1000Y_3$ \\\\\n",
        "$X_4 \\leq 1750Y_4$ \\\\\n",
        "$X_5 \\leq 1000Y_1$ \\\\\n",
        "$500-X_1-X_3 \\leq 500K_1$ \\\\\n",
        "$750-X_2-X_4 \\leq 750(1-K_1)$ \\\\\n",
        "$X_4-500 \\leq 1750K_2$ \\\\\n",
        "$X_5-500 \\leq 1400(1-K_2)$ \\\\\n",
        "$Y_1+Y_2+Y_3+Y_4+Y_5 \\leq 3$ \\\\\n",
        "$Y_3 \\leq Y_1+Y_2$ \\\\\n",
        "$Y_4 \\leq Y_1+Y_2$ \\\\\n",
        "$X_1,X_2,X_3,X_4,X_5 \\geq 0$ \\\\\n",
        "$Y_1,Y_2,Y_3,Y_4,Y_5 = 0$ or $1$ \\\\\n",
        "$K_1,K_2 = 0$ or $1$ \\\\"
      ]
    },
    {
      "cell_type": "code",
      "metadata": {
        "colab": {
          "background_save": true
        },
        "id": "VHsEKdhVB0Cp"
      },
      "source": [
        "# Big numbers\n",
        "M1=1400\n",
        "M2=1750\n",
        "M3=1000\n",
        "M4=1750\n",
        "M5=1400\n",
        "M6=500\n",
        "M7=750\n",
        "M8=1750\n",
        "M9=1400\n",
        "\n",
        "\n",
        "# Constraint for labor \n",
        "\n",
        "model.labor_hours = pyo.Constraint(\n",
        "    expr = sum(model.X[i]*constraint1[i] for i in products)<=7000\n",
        ")\n",
        "\n",
        "\n",
        "# Constraint for the raw material \n",
        "\n",
        "model.raw_material = pyo.Constraint(\n",
        "    expr = sum(model.X[i]*constraint2[i] for i in products)<= 7000\n",
        ")\n",
        "\n",
        "\n",
        "#Constraint for when X1 takes a value greater than 0, its corresponding Y1 ≥ 0 (ie = 1) \n",
        "model.product1 = pyo.Constraint(\n",
        "    expr = model.X[0]<=M1*model.Y[0]\n",
        ")\n",
        "\n",
        "\n",
        "#Constraint for when X2 takes a value greater than 0, its corresponding Y2 ≥ 0 (ie = 1) \n",
        "\n",
        "model.product2 = pyo.Constraint(\n",
        "    expr = model.X[1]<=M2*model.Y[1]\n",
        ")\n",
        "\n",
        "\n",
        "#Constraint for when X3 takes a value greater than 0, its corresponding Y3 ≥ 0 (ie = 1) \n",
        "\n",
        "model.product3 = pyo.Constraint(\n",
        "    expr = model.X[2]<=M3*model.Y[2]\n",
        ")\n",
        "\n",
        "\n",
        "#Constraint for when X4 takes a value greater than 0, its corresponding Y4 ≥ 0 (ie = 1) \n",
        "\n",
        "model.product4 = pyo.Constraint(\n",
        "    expr = model.X[3]<=M4*model.Y[3]\n",
        ")\n",
        "\n",
        "\n",
        "#Constraint for when X5 takes a value greater than 0, its corresponding Y5 ≥ 0 (ie = 1). \n",
        "\n",
        "model.product5 = pyo.Constraint(\n",
        "    expr = model.X[4]<=M5*model.Y[4]\n",
        ")\n",
        "\n",
        "\n",
        "# Constraint on ordering a total of 500 units from the 1st and 2nd products or 750 units in total from the 3rd and 4th products  \n",
        "\n",
        "model.either_or1=pyo.Constraint(\n",
        "    expr=500-model.X[0]-model.X[2]<=M6*model.K1\n",
        ")\n",
        "\n",
        "model.either_or2=pyo.Constraint(\n",
        "    expr=750-model.X[1]-model.X[3]<=M7*(1-model.K1)\n",
        ")\n",
        "\n",
        "\n",
        "#Constraint of If the 5th product is produced more than 500, the 4th product can be produced in 500 units at the most \n",
        "\n",
        "model.if_then1=pyo.Constraint(\n",
        "    expr=model.X[3]-500<=M8*model.K2\n",
        ")\n",
        "\n",
        "model.if_then2=pyo.Constraint(\n",
        "    expr=model.X[4]-500<=M9*(1-model.K2)\n",
        ")\n",
        "\n",
        "\n",
        "#Constraint to produce no more than three products \n",
        "\n",
        "model.production_permit=pyo.Constraint(\n",
        "    expr=sum(model.Y[i] for i in products)<=3\n",
        ")\n",
        "\n",
        "\n",
        "#Constraint to produce at least one of product 1 or product 2 in order to produce product 3 or product 4  \n",
        "\n",
        "model.production_condition1=pyo.Constraint(\n",
        "    expr=(model.Y[2]<=model.Y[0]+model.Y[1])\n",
        ")\n",
        "\n",
        "model.production_condition2=pyo.Constraint(\n",
        "    expr=(model.Y[3]<=model.Y[0]+model.Y[1])\n",
        ")"
      ],
      "execution_count": null,
      "outputs": []
    },
    {
      "cell_type": "markdown",
      "metadata": {
        "id": "zeI3XFYNd-aK"
      },
      "source": [
        "# Results \n",
        "\n",
        "According to the results obtained, ATK-White needs to produce 1400 units of the second product and 700 units of the fourth product in order to achieve maximum profit. In this case, the company will use all of its 7000 labor hours and 7000 units of raw materials during the planning period. In addition, regarding the agreement of the company with a customer, which required a total of at least 500 units of the first and third products or 750 units of the second and fourth products, the need can be met from production of 2100 units of the second and fourth products. Since there has been no production of the fifth product, the constraint that a maximum of 500 units of the fourth product should be produced has not been met. Furthermore, since only the second product is produced from the first and second products, the fourth product cen also be produced."
      ]
    },
    {
      "cell_type": "code",
      "metadata": {
        "colab": {
          "background_save": true,
          "base_uri": "https://localhost:8080/"
        },
        "id": "KdDbt7kYDJsH",
        "outputId": "3d86b686-b6df-4520-f732-af2f69d5b132"
      },
      "source": [
        "opt = pyo.SolverFactory(\"cbc\")\n",
        "opt.solve(model)\n",
        "\n",
        "print(\"Max Profit:\", pyo.value(model.obj_val))\n",
        "print(\"X1:\",pyo.value(model.X[0]))\n",
        "print(\"X2:\",pyo.value(model.X[1]))\n",
        "print(\"X3:\",pyo.value(model.X[2]))\n",
        "print(\"X4:\",pyo.value(model.X[3]))\n",
        "print(\"X5:\",pyo.value(model.X[4]))\n",
        "print(\"Y1:\",pyo.value(model.Y[0]))\n",
        "print(\"Y2:\",pyo.value(model.Y[1]))\n",
        "print(\"Y3:\",pyo.value(model.Y[2]))\n",
        "print(\"Y4:\",pyo.value(model.Y[3]))\n",
        "print(\"Y5:\",pyo.value(model.Y[4]))\n",
        "print(\"K1:\",pyo.value(model.K1))\n",
        "print(\"K2:\",pyo.value(model.K2))"
      ],
      "execution_count": null,
      "outputs": [
        {
          "name": "stdout",
          "output_type": "stream",
          "text": [
            "Max Profit: 111500.0\n",
            "X1: 0.0\n",
            "X2: 1400.0\n",
            "X3: 0.0\n",
            "X4: 700.0\n",
            "X5: 0.0\n",
            "Y1: 0.0\n",
            "Y2: 1.0\n",
            "Y3: 0.0\n",
            "Y4: 1.0\n",
            "Y5: 0.0\n",
            "K1: 1.0\n",
            "K2: 1.0\n"
          ]
        }
      ]
    }
  ]
}