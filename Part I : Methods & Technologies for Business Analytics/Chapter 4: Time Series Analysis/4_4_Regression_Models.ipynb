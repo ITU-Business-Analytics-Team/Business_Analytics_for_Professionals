{
  "nbformat": 4,
  "nbformat_minor": 0,
  "metadata": {
    "colab": {
      "name": "4.4. Regression Models.ipynb",
      "provenance": [],
      "collapsed_sections": [],
      "include_colab_link": true
    },
    "kernelspec": {
      "name": "python3",
      "display_name": "Python 3"
    },
    "language_info": {
      "name": "python"
    }
  },
  "cells": [
    {
      "cell_type": "markdown",
      "metadata": {
        "id": "view-in-github",
        "colab_type": "text"
      },
      "source": [
        "<a href=\"https://colab.research.google.com/github/ITU-Business-Analytics-Team/Business_Analytics_for_Professionals/blob/main/Part%20I%20%3A%20Methods%20%26%20Technologies%20for%20Business%20Analytics/Chapter%204%3A%20Time%20Series%20Analysis/4_4_Regression_Models.ipynb\" target=\"_parent\"><img src=\"https://colab.research.google.com/assets/colab-badge.svg\" alt=\"Open In Colab\"/></a>"
      ]
    },
    {
      "cell_type": "markdown",
      "source": [
        "# **Time Series Analysis**\n",
        "## Regression Models"
      ],
      "metadata": {
        "id": "31-Bmh-NhFJv"
      }
    },
    {
      "cell_type": "code",
      "source": [
        "import numpy as np\n",
        "import pandas as pd\n",
        "import matplotlib.pyplot as plt"
      ],
      "metadata": {
        "id": "ASl_JTeOfHGi"
      },
      "execution_count": null,
      "outputs": []
    },
    {
      "cell_type": "markdown",
      "source": [
        "## Problem Statement\n",
        "\n",
        "Forecasting electricity production from wind energy is a crucial problem for operations management in wind turbines. Wind energy is strongly correlated with the wind speed. In this case study forecasting algorithms are applied in wind speed prediction "
      ],
      "metadata": {
        "id": "wLgu0u54dC36"
      }
    },
    {
      "cell_type": "code",
      "source": [
        "#Dataset import\n",
        "url='https://drive.google.com/file/d/1-ohfTF75ZOxMfgaVx6minLsxsCiUfObD/view?usp=sharing'\n",
        "path = 'https://drive.google.com/uc?export=download&id='+url.split('/')[-2]\n",
        "df = pd.read_csv(path,index_col = 0)"
      ],
      "metadata": {
        "id": "T6tOigAud5YL"
      },
      "execution_count": null,
      "outputs": []
    },
    {
      "cell_type": "code",
      "source": [
        "df.head()"
      ],
      "metadata": {
        "colab": {
          "base_uri": "https://localhost:8080/",
          "height": 206
        },
        "id": "Y4COdD2GdCXm",
        "outputId": "29dae75d-2414-4d45-ff76-c5698333fbab"
      },
      "execution_count": null,
      "outputs": [
        {
          "output_type": "execute_result",
          "data": {
            "text/plain": [
              "       Date  Hour  Temperature  WindSpeed  Humidity  WindDirection  Pressure\n",
              "0  1/6/2015     0         13.4        0.8      85.0          118.0    1018.0\n",
              "1  1/6/2015     1         12.9        0.6      88.0          121.0    1018.2\n",
              "2  1/6/2015     2         12.6        0.7      88.0          164.0    1018.4\n",
              "3  1/6/2015     3         12.8        0.7      88.0          134.0    1018.5\n",
              "4  1/6/2015     4         14.6        0.6      86.0           31.0    1018.7"
            ],
            "text/html": [
              "\n",
              "  <div id=\"df-a5e5f4a2-b99d-4657-b35b-1bc98503a609\">\n",
              "    <div class=\"colab-df-container\">\n",
              "      <div>\n",
              "<style scoped>\n",
              "    .dataframe tbody tr th:only-of-type {\n",
              "        vertical-align: middle;\n",
              "    }\n",
              "\n",
              "    .dataframe tbody tr th {\n",
              "        vertical-align: top;\n",
              "    }\n",
              "\n",
              "    .dataframe thead th {\n",
              "        text-align: right;\n",
              "    }\n",
              "</style>\n",
              "<table border=\"1\" class=\"dataframe\">\n",
              "  <thead>\n",
              "    <tr style=\"text-align: right;\">\n",
              "      <th></th>\n",
              "      <th>Date</th>\n",
              "      <th>Hour</th>\n",
              "      <th>Temperature</th>\n",
              "      <th>WindSpeed</th>\n",
              "      <th>Humidity</th>\n",
              "      <th>WindDirection</th>\n",
              "      <th>Pressure</th>\n",
              "    </tr>\n",
              "  </thead>\n",
              "  <tbody>\n",
              "    <tr>\n",
              "      <th>0</th>\n",
              "      <td>1/6/2015</td>\n",
              "      <td>0</td>\n",
              "      <td>13.4</td>\n",
              "      <td>0.8</td>\n",
              "      <td>85.0</td>\n",
              "      <td>118.0</td>\n",
              "      <td>1018.0</td>\n",
              "    </tr>\n",
              "    <tr>\n",
              "      <th>1</th>\n",
              "      <td>1/6/2015</td>\n",
              "      <td>1</td>\n",
              "      <td>12.9</td>\n",
              "      <td>0.6</td>\n",
              "      <td>88.0</td>\n",
              "      <td>121.0</td>\n",
              "      <td>1018.2</td>\n",
              "    </tr>\n",
              "    <tr>\n",
              "      <th>2</th>\n",
              "      <td>1/6/2015</td>\n",
              "      <td>2</td>\n",
              "      <td>12.6</td>\n",
              "      <td>0.7</td>\n",
              "      <td>88.0</td>\n",
              "      <td>164.0</td>\n",
              "      <td>1018.4</td>\n",
              "    </tr>\n",
              "    <tr>\n",
              "      <th>3</th>\n",
              "      <td>1/6/2015</td>\n",
              "      <td>3</td>\n",
              "      <td>12.8</td>\n",
              "      <td>0.7</td>\n",
              "      <td>88.0</td>\n",
              "      <td>134.0</td>\n",
              "      <td>1018.5</td>\n",
              "    </tr>\n",
              "    <tr>\n",
              "      <th>4</th>\n",
              "      <td>1/6/2015</td>\n",
              "      <td>4</td>\n",
              "      <td>14.6</td>\n",
              "      <td>0.6</td>\n",
              "      <td>86.0</td>\n",
              "      <td>31.0</td>\n",
              "      <td>1018.7</td>\n",
              "    </tr>\n",
              "  </tbody>\n",
              "</table>\n",
              "</div>\n",
              "      <button class=\"colab-df-convert\" onclick=\"convertToInteractive('df-a5e5f4a2-b99d-4657-b35b-1bc98503a609')\"\n",
              "              title=\"Convert this dataframe to an interactive table.\"\n",
              "              style=\"display:none;\">\n",
              "        \n",
              "  <svg xmlns=\"http://www.w3.org/2000/svg\" height=\"24px\"viewBox=\"0 0 24 24\"\n",
              "       width=\"24px\">\n",
              "    <path d=\"M0 0h24v24H0V0z\" fill=\"none\"/>\n",
              "    <path d=\"M18.56 5.44l.94 2.06.94-2.06 2.06-.94-2.06-.94-.94-2.06-.94 2.06-2.06.94zm-11 1L8.5 8.5l.94-2.06 2.06-.94-2.06-.94L8.5 2.5l-.94 2.06-2.06.94zm10 10l.94 2.06.94-2.06 2.06-.94-2.06-.94-.94-2.06-.94 2.06-2.06.94z\"/><path d=\"M17.41 7.96l-1.37-1.37c-.4-.4-.92-.59-1.43-.59-.52 0-1.04.2-1.43.59L10.3 9.45l-7.72 7.72c-.78.78-.78 2.05 0 2.83L4 21.41c.39.39.9.59 1.41.59.51 0 1.02-.2 1.41-.59l7.78-7.78 2.81-2.81c.8-.78.8-2.07 0-2.86zM5.41 20L4 18.59l7.72-7.72 1.47 1.35L5.41 20z\"/>\n",
              "  </svg>\n",
              "      </button>\n",
              "      \n",
              "  <style>\n",
              "    .colab-df-container {\n",
              "      display:flex;\n",
              "      flex-wrap:wrap;\n",
              "      gap: 12px;\n",
              "    }\n",
              "\n",
              "    .colab-df-convert {\n",
              "      background-color: #E8F0FE;\n",
              "      border: none;\n",
              "      border-radius: 50%;\n",
              "      cursor: pointer;\n",
              "      display: none;\n",
              "      fill: #1967D2;\n",
              "      height: 32px;\n",
              "      padding: 0 0 0 0;\n",
              "      width: 32px;\n",
              "    }\n",
              "\n",
              "    .colab-df-convert:hover {\n",
              "      background-color: #E2EBFA;\n",
              "      box-shadow: 0px 1px 2px rgba(60, 64, 67, 0.3), 0px 1px 3px 1px rgba(60, 64, 67, 0.15);\n",
              "      fill: #174EA6;\n",
              "    }\n",
              "\n",
              "    [theme=dark] .colab-df-convert {\n",
              "      background-color: #3B4455;\n",
              "      fill: #D2E3FC;\n",
              "    }\n",
              "\n",
              "    [theme=dark] .colab-df-convert:hover {\n",
              "      background-color: #434B5C;\n",
              "      box-shadow: 0px 1px 3px 1px rgba(0, 0, 0, 0.15);\n",
              "      filter: drop-shadow(0px 1px 2px rgba(0, 0, 0, 0.3));\n",
              "      fill: #FFFFFF;\n",
              "    }\n",
              "  </style>\n",
              "\n",
              "      <script>\n",
              "        const buttonEl =\n",
              "          document.querySelector('#df-a5e5f4a2-b99d-4657-b35b-1bc98503a609 button.colab-df-convert');\n",
              "        buttonEl.style.display =\n",
              "          google.colab.kernel.accessAllowed ? 'block' : 'none';\n",
              "\n",
              "        async function convertToInteractive(key) {\n",
              "          const element = document.querySelector('#df-a5e5f4a2-b99d-4657-b35b-1bc98503a609');\n",
              "          const dataTable =\n",
              "            await google.colab.kernel.invokeFunction('convertToInteractive',\n",
              "                                                     [key], {});\n",
              "          if (!dataTable) return;\n",
              "\n",
              "          const docLinkHtml = 'Like what you see? Visit the ' +\n",
              "            '<a target=\"_blank\" href=https://colab.research.google.com/notebooks/data_table.ipynb>data table notebook</a>'\n",
              "            + ' to learn more about interactive tables.';\n",
              "          element.innerHTML = '';\n",
              "          dataTable['output_type'] = 'display_data';\n",
              "          await google.colab.output.renderOutput(dataTable, element);\n",
              "          const docLink = document.createElement('div');\n",
              "          docLink.innerHTML = docLinkHtml;\n",
              "          element.appendChild(docLink);\n",
              "        }\n",
              "      </script>\n",
              "    </div>\n",
              "  </div>\n",
              "  "
            ]
          },
          "metadata": {},
          "execution_count": 5
        }
      ]
    },
    {
      "cell_type": "markdown",
      "source": [
        "Machine learning models may be employed to forecast future values. Let $y_t$ is the variable at time $t$ we want to predict and $\\mathbf x_t$ is the $d$ dimensional exogenous variable. Forecasting model can be constructed as \n",
        "\n",
        "$$y_t = f(y_{t-1},y_{t-2},\\dotsi,y_{t-l},x_{t-1},x_{t-2},\\dotsi,x_{t-l}) $$\n",
        "\n",
        "where $f()$ is the any machine learning algorithm you want to use"
      ],
      "metadata": {
        "id": "RmKSK_5HpOnV"
      }
    },
    {
      "cell_type": "markdown",
      "source": [
        "#### Prepare the Data\n",
        "\n",
        "First we need to prepare the input and output data as follows:\n",
        "\n",
        "$$ X = \\begin{bmatrix}\n",
        "\\mathbf x_1 & \\mathbf x_2 & \\dotsi & \\mathbf x_l & y_1 & y_2 & \\dotsi & y_l\\\\\n",
        "\\mathbf x_2 & \\mathbf x_3 & \\dotsi & \\mathbf x_{l+1} & y_2 & y_3 & \\dotsi &y_{l+1}\\\\\n",
        "\\vdots & \\vdots & \\ddots & \\vdots &\\vdots &\\vdots &\\ddots &\\vdots & \\\\\n",
        "\\mathbf x_{t-l} & \\mathbf x_{t-l+1} & \\dotsi & \\mathbf x_{t-1} & y_{t-l} & y_{t-l+1} & \\dotsi &y_{t-1}\n",
        "\\end{bmatrix}\n",
        "$$\n",
        "\n",
        "$$ y = \\begin{bmatrix}\n",
        "y_{l+1}\\\\\n",
        "y_{l+2}\\\\\n",
        "\\vdots\\\\\n",
        "y_t\n",
        "\\end{bmatrix}\n",
        "$$"
      ],
      "metadata": {
        "id": "I-lGG01ksCpW"
      }
    },
    {
      "cell_type": "code",
      "source": [
        "def make_data(data, target_col, lag):\n",
        "    X = []\n",
        "    y = []\n",
        "    for i in range(len(data)-lag):\n",
        "        X.append(data[i:i+lag,:].ravel())\n",
        "        y.append(data[i+lag,target_col])\n",
        "\n",
        "    return np.array(X), np.array(y)\n",
        "\n"
      ],
      "metadata": {
        "id": "aXUQrJbZsBXg"
      },
      "execution_count": null,
      "outputs": []
    },
    {
      "cell_type": "markdown",
      "source": [
        "First divide the data into training and test sets. We are going to use last 24 hours of data as test and the rest will be used as training.After transforming the time series data into input and target variables we can utilize out favorite machine learning algorithm to perform one step ahead forecasting"
      ],
      "metadata": {
        "id": "zFswOhTitbJV"
      }
    },
    {
      "cell_type": "code",
      "source": [
        "lag = 24\n",
        "X,y = make_data(df.values[:,1:], 2,lag)\n",
        "X_train = X[:-24]\n",
        "X_test = X[-24:]\n",
        "y_train = y[:-24]\n",
        "y_test = y[-24:]"
      ],
      "metadata": {
        "id": "yfTK_Hflv-xK"
      },
      "execution_count": null,
      "outputs": []
    },
    {
      "cell_type": "code",
      "source": [
        "from sklearn.ensemble import RandomForestRegressor\n",
        "from sklearn.metrics import mean_squared_error\n",
        "mdl = RandomForestRegressor()\n",
        "mdl.fit(X_train, y_train)\n",
        "ypred = mdl.predict(X_test)\n",
        "\n"
      ],
      "metadata": {
        "id": "SiSWbQ8ttasJ"
      },
      "execution_count": null,
      "outputs": []
    },
    {
      "cell_type": "code",
      "source": [
        "plt.plot(y_test, \"-ob\", label = \"Observed\")\n",
        "plt.plot(ypred, \"-*r\", label = \"Forecasted\")\n",
        "plt.grid()\n",
        "plt.legend()\n",
        "print(\"MSE Score:\", mean_squared_error(y_test, ypred))"
      ],
      "metadata": {
        "id": "lmnz5aWVsqVo",
        "colab": {
          "base_uri": "https://localhost:8080/",
          "height": 283
        },
        "outputId": "5e94d287-3702-4a49-d644-98f871d7de02"
      },
      "execution_count": null,
      "outputs": [
        {
          "output_type": "stream",
          "name": "stdout",
          "text": [
            "MSE Score: 0.3458634583333331\n"
          ]
        },
        {
          "output_type": "display_data",
          "data": {
            "text/plain": [
              "<Figure size 432x288 with 1 Axes>"
            ],
            "image/png": "[encoded data removed]"
          },
          "metadata": {
            "needs_background": "light"
          }
        }
      ]
    }
  ]
}