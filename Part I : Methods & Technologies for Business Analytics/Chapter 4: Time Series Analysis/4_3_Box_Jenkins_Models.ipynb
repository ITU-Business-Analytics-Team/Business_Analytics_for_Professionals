{
  "nbformat": 4,
  "nbformat_minor": 0,
  "metadata": {
    "colab": {
      "name": "4.3. Box-Jenkins Models.ipynb",
      "provenance": [],
      "collapsed_sections": [],
      "include_colab_link": true
    },
    "kernelspec": {
      "name": "python3",
      "display_name": "Python 3"
    },
    "language_info": {
      "name": "python"
    }
  },
  "cells": [
    {
      "cell_type": "markdown",
      "metadata": {
        "id": "view-in-github",
        "colab_type": "text"
      },
      "source": [
        "<a href=\"https://colab.research.google.com/github/ITU-Business-Analytics-Team/Business_Analytics_for_Professionals/blob/main/Part%20I%20%3A%20Methods%20%26%20Technologies%20for%20Business%20Analytics/Chapter%204%3A%20Time%20Series%20Analysis/4_3_Box_Jenkins_Models.ipynb\" target=\"_parent\"><img src=\"https://colab.research.google.com/assets/colab-badge.svg\" alt=\"Open In Colab\"/></a>"
      ]
    },
    {
      "cell_type": "markdown",
      "source": [
        "# **Time Series Analysis**\n",
        "## Box-Jenkins Models"
      ],
      "metadata": {
        "id": "nzE85Tz7hQAD"
      }
    },
    {
      "cell_type": "code",
      "execution_count": null,
      "metadata": {
        "colab": {
          "base_uri": "https://localhost:8080/"
        },
        "id": "8-5pchrocwn5",
        "outputId": "b210229b-042f-4cab-97f9-4775962509e9"
      },
      "outputs": [
        {
          "output_type": "stream",
          "name": "stdout",
          "text": [
            "Requirement already satisfied: statsmodels in /usr/local/lib/python3.7/dist-packages (0.10.2)\n",
            "Collecting statsmodels\n",
            "  Downloading statsmodels-0.13.2-cp37-cp37m-manylinux_2_17_x86_64.manylinux2014_x86_64.whl (9.8 MB)\n",
            "\u001b[K     |████████████████████████████████| 9.8 MB 5.0 MB/s \n",
            "\u001b[?25hRequirement already satisfied: scipy>=1.3 in /usr/local/lib/python3.7/dist-packages (from statsmodels) (1.4.1)\n",
            "Requirement already satisfied: numpy>=1.17 in /usr/local/lib/python3.7/dist-packages (from statsmodels) (1.21.6)\n",
            "Requirement already satisfied: packaging>=21.3 in /usr/local/lib/python3.7/dist-packages (from statsmodels) (21.3)\n",
            "Requirement already satisfied: pandas>=0.25 in /usr/local/lib/python3.7/dist-packages (from statsmodels) (1.3.5)\n",
            "Requirement already satisfied: patsy>=0.5.2 in /usr/local/lib/python3.7/dist-packages (from statsmodels) (0.5.2)\n",
            "Requirement already satisfied: pyparsing!=3.0.5,>=2.0.2 in /usr/local/lib/python3.7/dist-packages (from packaging>=21.3->statsmodels) (3.0.8)\n",
            "Requirement already satisfied: pytz>=2017.3 in /usr/local/lib/python3.7/dist-packages (from pandas>=0.25->statsmodels) (2022.1)\n",
            "Requirement already satisfied: python-dateutil>=2.7.3 in /usr/local/lib/python3.7/dist-packages (from pandas>=0.25->statsmodels) (2.8.2)\n",
            "Requirement already satisfied: six in /usr/local/lib/python3.7/dist-packages (from patsy>=0.5.2->statsmodels) (1.15.0)\n",
            "Installing collected packages: statsmodels\n",
            "  Attempting uninstall: statsmodels\n",
            "    Found existing installation: statsmodels 0.10.2\n",
            "    Uninstalling statsmodels-0.10.2:\n",
            "      Successfully uninstalled statsmodels-0.10.2\n",
            "Successfully installed statsmodels-0.13.2\n"
          ]
        }
      ],
      "source": [
        "!pip install -U statsmodels"
      ]
    },
    {
      "cell_type": "code",
      "source": [
        "import numpy as np\n",
        "import pandas as pd\n",
        "import matplotlib.pyplot as plt"
      ],
      "metadata": {
        "id": "ASl_JTeOfHGi"
      },
      "execution_count": null,
      "outputs": []
    },
    {
      "cell_type": "markdown",
      "source": [
        "## Problem Statement\n",
        "\n",
        "Forecasting electricity production from wind energy is a crucial problem for operations management in wind turbines. Wind energy is strongly correlated with the wind speed. In this case study forecasting algorithms are applied in wind speed prediction "
      ],
      "metadata": {
        "id": "wLgu0u54dC36"
      }
    },
    {
      "cell_type": "code",
      "source": [
        "#Dataset import\n",
        "url='https://drive.google.com/file/d/1-ohfTF75ZOxMfgaVx6minLsxsCiUfObD/view?usp=sharing'\n",
        "path = 'https://drive.google.com/uc?export=download&id='+url.split('/')[-2]\n",
        "df = pd.read_csv(path)"
      ],
      "metadata": {
        "id": "qag0EuODd4Aa"
      },
      "execution_count": null,
      "outputs": []
    },
    {
      "cell_type": "code",
      "source": [
        "df.head()"
      ],
      "metadata": {
        "colab": {
          "base_uri": "https://localhost:8080/",
          "height": 206
        },
        "id": "Y4COdD2GdCXm",
        "outputId": "53cbed9e-70c9-4e33-96bc-60764108fe62"
      },
      "execution_count": null,
      "outputs": [
        {
          "output_type": "execute_result",
          "data": {
            "text/plain": [
              "   Unnamed: 0      Date  Hour  Temperature  WindSpeed  Humidity  \\\n",
              "0           0  1/6/2015     0         13.4        0.8      85.0   \n",
              "1           1  1/6/2015     1         12.9        0.6      88.0   \n",
              "2           2  1/6/2015     2         12.6        0.7      88.0   \n",
              "3           3  1/6/2015     3         12.8        0.7      88.0   \n",
              "4           4  1/6/2015     4         14.6        0.6      86.0   \n",
              "\n",
              "   WindDirection  Pressure  \n",
              "0          118.0    1018.0  \n",
              "1          121.0    1018.2  \n",
              "2          164.0    1018.4  \n",
              "3          134.0    1018.5  \n",
              "4           31.0    1018.7  "
            ],
            "text/html": [
              "\n",
              "  <div id=\"df-07b4b2fb-3a33-4b36-950b-36442d9a8e9d\">\n",
              "    <div class=\"colab-df-container\">\n",
              "      <div>\n",
              "<style scoped>\n",
              "    .dataframe tbody tr th:only-of-type {\n",
              "        vertical-align: middle;\n",
              "    }\n",
              "\n",
              "    .dataframe tbody tr th {\n",
              "        vertical-align: top;\n",
              "    }\n",
              "\n",
              "    .dataframe thead th {\n",
              "        text-align: right;\n",
              "    }\n",
              "</style>\n",
              "<table border=\"1\" class=\"dataframe\">\n",
              "  <thead>\n",
              "    <tr style=\"text-align: right;\">\n",
              "      <th></th>\n",
              "      <th>Unnamed: 0</th>\n",
              "      <th>Date</th>\n",
              "      <th>Hour</th>\n",
              "      <th>Temperature</th>\n",
              "      <th>WindSpeed</th>\n",
              "      <th>Humidity</th>\n",
              "      <th>WindDirection</th>\n",
              "      <th>Pressure</th>\n",
              "    </tr>\n",
              "  </thead>\n",
              "  <tbody>\n",
              "    <tr>\n",
              "      <th>0</th>\n",
              "      <td>0</td>\n",
              "      <td>1/6/2015</td>\n",
              "      <td>0</td>\n",
              "      <td>13.4</td>\n",
              "      <td>0.8</td>\n",
              "      <td>85.0</td>\n",
              "      <td>118.0</td>\n",
              "      <td>1018.0</td>\n",
              "    </tr>\n",
              "    <tr>\n",
              "      <th>1</th>\n",
              "      <td>1</td>\n",
              "      <td>1/6/2015</td>\n",
              "      <td>1</td>\n",
              "      <td>12.9</td>\n",
              "      <td>0.6</td>\n",
              "      <td>88.0</td>\n",
              "      <td>121.0</td>\n",
              "      <td>1018.2</td>\n",
              "    </tr>\n",
              "    <tr>\n",
              "      <th>2</th>\n",
              "      <td>2</td>\n",
              "      <td>1/6/2015</td>\n",
              "      <td>2</td>\n",
              "      <td>12.6</td>\n",
              "      <td>0.7</td>\n",
              "      <td>88.0</td>\n",
              "      <td>164.0</td>\n",
              "      <td>1018.4</td>\n",
              "    </tr>\n",
              "    <tr>\n",
              "      <th>3</th>\n",
              "      <td>3</td>\n",
              "      <td>1/6/2015</td>\n",
              "      <td>3</td>\n",
              "      <td>12.8</td>\n",
              "      <td>0.7</td>\n",
              "      <td>88.0</td>\n",
              "      <td>134.0</td>\n",
              "      <td>1018.5</td>\n",
              "    </tr>\n",
              "    <tr>\n",
              "      <th>4</th>\n",
              "      <td>4</td>\n",
              "      <td>1/6/2015</td>\n",
              "      <td>4</td>\n",
              "      <td>14.6</td>\n",
              "      <td>0.6</td>\n",
              "      <td>86.0</td>\n",
              "      <td>31.0</td>\n",
              "      <td>1018.7</td>\n",
              "    </tr>\n",
              "  </tbody>\n",
              "</table>\n",
              "</div>\n",
              "      <button class=\"colab-df-convert\" onclick=\"convertToInteractive('df-07b4b2fb-3a33-4b36-950b-36442d9a8e9d')\"\n",
              "              title=\"Convert this dataframe to an interactive table.\"\n",
              "              style=\"display:none;\">\n",
              "        \n",
              "  <svg xmlns=\"http://www.w3.org/2000/svg\" height=\"24px\"viewBox=\"0 0 24 24\"\n",
              "       width=\"24px\">\n",
              "    <path d=\"M0 0h24v24H0V0z\" fill=\"none\"/>\n",
              "    <path d=\"M18.56 5.44l.94 2.06.94-2.06 2.06-.94-2.06-.94-.94-2.06-.94 2.06-2.06.94zm-11 1L8.5 8.5l.94-2.06 2.06-.94-2.06-.94L8.5 2.5l-.94 2.06-2.06.94zm10 10l.94 2.06.94-2.06 2.06-.94-2.06-.94-.94-2.06-.94 2.06-2.06.94z\"/><path d=\"M17.41 7.96l-1.37-1.37c-.4-.4-.92-.59-1.43-.59-.52 0-1.04.2-1.43.59L10.3 9.45l-7.72 7.72c-.78.78-.78 2.05 0 2.83L4 21.41c.39.39.9.59 1.41.59.51 0 1.02-.2 1.41-.59l7.78-7.78 2.81-2.81c.8-.78.8-2.07 0-2.86zM5.41 20L4 18.59l7.72-7.72 1.47 1.35L5.41 20z\"/>\n",
              "  </svg>\n",
              "      </button>\n",
              "      \n",
              "  <style>\n",
              "    .colab-df-container {\n",
              "      display:flex;\n",
              "      flex-wrap:wrap;\n",
              "      gap: 12px;\n",
              "    }\n",
              "\n",
              "    .colab-df-convert {\n",
              "      background-color: #E8F0FE;\n",
              "      border: none;\n",
              "      border-radius: 50%;\n",
              "      cursor: pointer;\n",
              "      display: none;\n",
              "      fill: #1967D2;\n",
              "      height: 32px;\n",
              "      padding: 0 0 0 0;\n",
              "      width: 32px;\n",
              "    }\n",
              "\n",
              "    .colab-df-convert:hover {\n",
              "      background-color: #E2EBFA;\n",
              "      box-shadow: 0px 1px 2px rgba(60, 64, 67, 0.3), 0px 1px 3px 1px rgba(60, 64, 67, 0.15);\n",
              "      fill: #174EA6;\n",
              "    }\n",
              "\n",
              "    [theme=dark] .colab-df-convert {\n",
              "      background-color: #3B4455;\n",
              "      fill: #D2E3FC;\n",
              "    }\n",
              "\n",
              "    [theme=dark] .colab-df-convert:hover {\n",
              "      background-color: #434B5C;\n",
              "      box-shadow: 0px 1px 3px 1px rgba(0, 0, 0, 0.15);\n",
              "      filter: drop-shadow(0px 1px 2px rgba(0, 0, 0, 0.3));\n",
              "      fill: #FFFFFF;\n",
              "    }\n",
              "  </style>\n",
              "\n",
              "      <script>\n",
              "        const buttonEl =\n",
              "          document.querySelector('#df-07b4b2fb-3a33-4b36-950b-36442d9a8e9d button.colab-df-convert');\n",
              "        buttonEl.style.display =\n",
              "          google.colab.kernel.accessAllowed ? 'block' : 'none';\n",
              "\n",
              "        async function convertToInteractive(key) {\n",
              "          const element = document.querySelector('#df-07b4b2fb-3a33-4b36-950b-36442d9a8e9d');\n",
              "          const dataTable =\n",
              "            await google.colab.kernel.invokeFunction('convertToInteractive',\n",
              "                                                     [key], {});\n",
              "          if (!dataTable) return;\n",
              "\n",
              "          const docLinkHtml = 'Like what you see? Visit the ' +\n",
              "            '<a target=\"_blank\" href=https://colab.research.google.com/notebooks/data_table.ipynb>data table notebook</a>'\n",
              "            + ' to learn more about interactive tables.';\n",
              "          element.innerHTML = '';\n",
              "          dataTable['output_type'] = 'display_data';\n",
              "          await google.colab.output.renderOutput(dataTable, element);\n",
              "          const docLink = document.createElement('div');\n",
              "          docLink.innerHTML = docLinkHtml;\n",
              "          element.appendChild(docLink);\n",
              "        }\n",
              "      </script>\n",
              "    </div>\n",
              "  </div>\n",
              "  "
            ]
          },
          "metadata": {},
          "execution_count": 4
        }
      ]
    },
    {
      "cell_type": "code",
      "source": [
        "wind = df[\"WindSpeed\"]\n",
        "wind.head()"
      ],
      "metadata": {
        "colab": {
          "base_uri": "https://localhost:8080/"
        },
        "id": "riOioic7dG1X",
        "outputId": "c01242d0-d890-4178-8151-31e0f9d94357"
      },
      "execution_count": null,
      "outputs": [
        {
          "output_type": "execute_result",
          "data": {
            "text/plain": [
              "0    0.8\n",
              "1    0.6\n",
              "2    0.7\n",
              "3    0.7\n",
              "4    0.6\n",
              "Name: WindSpeed, dtype: float64"
            ]
          },
          "metadata": {},
          "execution_count": 5
        }
      ]
    },
    {
      "cell_type": "markdown",
      "source": [
        "We want to use last day as testing data where as remaining will be used as training data"
      ],
      "metadata": {
        "id": "_XDKVXSfdNEH"
      }
    },
    {
      "cell_type": "code",
      "source": [
        "wind_train = wind[:-24]\n",
        "wind_test = wind[-24:]"
      ],
      "metadata": {
        "id": "j_B310DUdMRX"
      },
      "execution_count": null,
      "outputs": []
    },
    {
      "cell_type": "markdown",
      "source": [
        "## ARIMA MODELS\n",
        "\n",
        "### Autoregressive Models (AR(p))\n",
        "\n",
        "An autoregressive model of order $p$ can be written as\n",
        "\n",
        "$$y_t = \\phi_0 + \\phi_1y_{t-1} + \\phi_2y_{t-2} + \\dotsi+ \\phi_py_{t-p} + ϵ_t$$"
      ],
      "metadata": {
        "id": "jxm4D_YldUbH"
      }
    },
    {
      "cell_type": "code",
      "source": [
        "from statsmodels.tsa.arima.model import ARIMA\n",
        "from sklearn.metrics import mean_squared_error\n",
        "\n",
        "mdl = ARIMA(wind_train, order = (2,0,0)).fit()\n",
        "ypred = mdl.predict(wind_test.index[0],wind_test.index[-1])\n",
        "\n",
        "plt.plot(wind_test, \"-ob\", label = \"Observed\")\n",
        "plt.plot(ypred, \"-*r\", label = \"Forecasted\")\n",
        "plt.grid()\n",
        "plt.legend()\n",
        "print(\"MSE Score:\", mean_squared_error(wind_test, ypred))"
      ],
      "metadata": {
        "colab": {
          "base_uri": "https://localhost:8080/",
          "height": 283
        },
        "id": "kFjk2XUXdT_C",
        "outputId": "d8c33e4b-90d3-4c3d-88d9-b15674401981"
      },
      "execution_count": null,
      "outputs": [
        {
          "output_type": "stream",
          "name": "stdout",
          "text": [
            "MSE Score: 0.46680377613795687\n"
          ]
        },
        {
          "output_type": "display_data",
          "data": {
            "text/plain": [
              "<Figure size 432x288 with 1 Axes>"
            ],
            "image/png": "[encoded data removed]"
          },
          "metadata": {
            "needs_background": "light"
          }
        }
      ]
    },
    {
      "cell_type": "markdown",
      "source": [
        "### Moving Average Models (MA(q))\n",
        "\n",
        "An moving average model of order $q$ can be written as\n",
        "\n",
        "$$y_t = \\theta_0 + ϵ_t \\theta_1ϵ_{t-1} + \\theta_2ϵ_{t-2} + \\dotsi+ \\theta_pϵ_{t-p} $$\n",
        "\n",
        "where $ϵ$ ~ $N(0,σ^2)$"
      ],
      "metadata": {
        "id": "6ZHyPZ7efnGz"
      }
    },
    {
      "cell_type": "code",
      "source": [
        "from statsmodels.tsa.arima.model import ARIMA\n",
        "from sklearn.metrics import mean_squared_error\n",
        "\n",
        "mdl = ARIMA(wind_train, order = (0,0,2)).fit()\n",
        "ypred = mdl.predict(wind_test.index[0],wind_test.index[-1])\n",
        "\n",
        "plt.plot(wind_test, \"-ob\", label = \"Observed\")\n",
        "plt.plot(ypred, \"-*r\", label = \"Forecasted\")\n",
        "plt.grid()\n",
        "plt.legend()\n",
        "print(\"MSE Score:\", mean_squared_error(wind_test, ypred))"
      ],
      "metadata": {
        "colab": {
          "base_uri": "https://localhost:8080/",
          "height": 283
        },
        "id": "Wf9Vn8PThAJp",
        "outputId": "e74ab6e9-b35b-46b8-9168-3b73a0e7050b"
      },
      "execution_count": null,
      "outputs": [
        {
          "output_type": "stream",
          "name": "stdout",
          "text": [
            "MSE Score: 0.5785991077377791\n"
          ]
        },
        {
          "output_type": "display_data",
          "data": {
            "text/plain": [
              "<Figure size 432x288 with 1 Axes>"
            ],
            "image/png": "[encoded data removed]"
          },
          "metadata": {
            "needs_background": "light"
          }
        }
      ]
    },
    {
      "cell_type": "markdown",
      "source": [
        "### Autorregressive Moving Average Models (ARMA(p, q))\n",
        "\n",
        "An moving average model of order $q$ can be written as\n",
        "\n",
        "$$y_t = \\theta_0 + ϵ_t \\theta_1ϵ_{t-1} + \\theta_2ϵ_{t-2} + \\dotsi+ \\theta_pϵ_{t-p} + \\phi_1y_{t-1} + \\phi_2y_{t-2} + \\dotsi+ \\phi_py_{t-p} $$\n",
        "\n",
        "where $ϵ$ ~ $N(0,σ^2)$"
      ],
      "metadata": {
        "id": "rdXvrkkAhLR6"
      }
    },
    {
      "cell_type": "code",
      "source": [
        "from statsmodels.tsa.arima.model import ARIMA\n",
        "from sklearn.metrics import mean_squared_error\n",
        "\n",
        "mdl = ARIMA(wind_train, order = (2,0,2)).fit()\n",
        "ypred = mdl.predict(wind_test.index[0],wind_test.index[-1])\n",
        "\n",
        "plt.plot(wind_test, \"-ob\", label = \"Observed\")\n",
        "plt.plot(ypred, \"-*r\", label = \"Forecasted\")\n",
        "plt.grid()\n",
        "plt.legend()\n",
        "print(\"MSE Score:\", mean_squared_error(wind_test, ypred))"
      ],
      "metadata": {
        "colab": {
          "base_uri": "https://localhost:8080/",
          "height": 283
        },
        "id": "h8ZkoQjmhKsI",
        "outputId": "bec4c8a3-4d5c-43bd-aa89-3e87f200bd79"
      },
      "execution_count": null,
      "outputs": [
        {
          "output_type": "stream",
          "name": "stdout",
          "text": [
            "MSE Score: 0.46284952236194643\n"
          ]
        },
        {
          "output_type": "display_data",
          "data": {
            "text/plain": [
              "<Figure size 432x288 with 1 Axes>"
            ],
            "image/png": "[encoded data removed]"
          },
          "metadata": {
            "needs_background": "light"
          }
        }
      ]
    },
    {
      "cell_type": "markdown",
      "source": [
        "### Autorregressive Moving Integrated Average Models (ARIMA(p,d, q))\n",
        "\n",
        "We can use differencing to make time series stationary as follows:\n",
        "\n",
        "$$y_t^{'} = y_t - y_{t-1}$$\n"
      ],
      "metadata": {
        "id": "ld6fZznWhw3H"
      }
    },
    {
      "cell_type": "code",
      "source": [
        "from statsmodels.tsa.arima.model import ARIMA\n",
        "from sklearn.metrics import mean_squared_error\n",
        "\n",
        "mdl = ARIMA(wind_train, order = (2,1,2)).fit()\n",
        "ypred = mdl.predict(wind_test.index[0],wind_test.index[-1])\n",
        "\n",
        "plt.plot(wind_test, \"-ob\", label = \"Observed\")\n",
        "plt.plot(ypred, \"-*r\", label = \"Forecasted\")\n",
        "plt.grid()\n",
        "plt.legend()\n",
        "print(\"MSE Score:\", mean_squared_error(wind_test, ypred))"
      ],
      "metadata": {
        "colab": {
          "base_uri": "https://localhost:8080/",
          "height": 283
        },
        "id": "3GHDkLU5iiJl",
        "outputId": "8ad0804c-8c30-46ab-a95a-92f5b35e7483"
      },
      "execution_count": null,
      "outputs": [
        {
          "output_type": "stream",
          "name": "stdout",
          "text": [
            "MSE Score: 0.5952250515212202\n"
          ]
        },
        {
          "output_type": "display_data",
          "data": {
            "text/plain": [
              "<Figure size 432x288 with 1 Axes>"
            ],
            "image/png": "[encoded data removed]"
          },
          "metadata": {
            "needs_background": "light"
          }
        }
      ]
    },
    {
      "cell_type": "markdown",
      "source": [
        "### Seasonal Autoregressive Moving Average Models(SARIMA(p,d,q)(P,D,Q)m)\n",
        "\n",
        "ARIMA models also can be used to model seasonality\n",
        "\n"
      ],
      "metadata": {
        "id": "pFyktocFippt"
      }
    },
    {
      "cell_type": "code",
      "source": [
        "from statsmodels.tsa.statespace.sarimax import SARIMAX\n",
        "from sklearn.metrics import mean_squared_error\n",
        "\n",
        "mdl = SARIMAX(wind_train, order = (2,1,2), seasonal_order=(1,0,0,24)).fit()\n",
        "ypred = mdl.predict(wind_test.index[0],wind_test.index[-1])\n",
        "\n",
        "plt.plot(wind_test, \"-ob\", label = \"Observed\")\n",
        "plt.plot(ypred, \"-*r\", label = \"Forecasted\")\n",
        "plt.grid()\n",
        "plt.legend()\n",
        "print(\"MSE Score:\", mean_squared_error(wind_test, ypred))"
      ],
      "metadata": {
        "id": "DQqp3uL2imSy",
        "colab": {
          "base_uri": "https://localhost:8080/",
          "height": 283
        },
        "outputId": "6ccf816d-5571-45a0-b768-5d3baa743e44"
      },
      "execution_count": null,
      "outputs": [
        {
          "output_type": "stream",
          "name": "stdout",
          "text": [
            "MSE Score: 0.5387698502127877\n"
          ]
        },
        {
          "output_type": "display_data",
          "data": {
            "text/plain": [
              "<Figure size 432x288 with 1 Axes>"
            ],
            "image/png": "[encoded data removed]"
          },
          "metadata": {
            "needs_background": "light"
          }
        }
      ]
    }
  ]
}