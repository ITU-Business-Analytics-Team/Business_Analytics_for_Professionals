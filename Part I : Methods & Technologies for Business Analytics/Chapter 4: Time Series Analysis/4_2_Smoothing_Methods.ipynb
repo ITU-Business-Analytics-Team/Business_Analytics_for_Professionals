{
  "nbformat": 4,
  "nbformat_minor": 0,
  "metadata": {
    "colab": {
      "name": "4.2. Smoothing Methods.ipynb",
      "provenance": [],
      "collapsed_sections": [],
      "include_colab_link": true
    },
    "kernelspec": {
      "name": "python3",
      "display_name": "Python 3"
    },
    "language_info": {
      "name": "python"
    }
  },
  "cells": [
    {
      "cell_type": "markdown",
      "metadata": {
        "id": "view-in-github",
        "colab_type": "text"
      },
      "source": [
        "<a href=\"https://colab.research.google.com/github/ITU-Business-Analytics-Team/Business_Analytics_for_Professionals/blob/main/Part%20I%20%3A%20Methods%20%26%20Technologies%20for%20Business%20Analytics/Chapter%204%3A%20Time%20Series%20Analysis/4_2_Smoothing_Methods.ipynb\" target=\"_parent\"><img src=\"https://colab.research.google.com/assets/colab-badge.svg\" alt=\"Open In Colab\"/></a>"
      ]
    },
    {
      "cell_type": "markdown",
      "source": [
        "# **Time Series Analysis**\n",
        "## Smoothing Methods"
      ],
      "metadata": {
        "id": "QUY9tkuVLBIo"
      }
    },
    {
      "cell_type": "code",
      "metadata": {
        "id": "zRZG5cJhlo1R"
      },
      "source": [
        "import numpy as np\n",
        "import pandas as pd\n",
        "import matplotlib.pyplot as plt"
      ],
      "execution_count": null,
      "outputs": []
    },
    {
      "cell_type": "markdown",
      "source": [
        "## Problem Statement\n",
        "\n",
        "Forecasting electricity production from wind energy is a crucial problem for operations management in wind turbines. Wind energy is strongly correlated with the wind speed. In this case study forecasting algorithms are applied in wind speed prediction "
      ],
      "metadata": {
        "id": "Ze3gApLq62c0"
      }
    },
    {
      "cell_type": "code",
      "source": [
        "#Dataset import\n",
        "url='https://drive.google.com/file/d/1-ohfTF75ZOxMfgaVx6minLsxsCiUfObD/view?usp=sharing'\n",
        "path = 'https://drive.google.com/uc?export=download&id='+url.split('/')[-2]\n",
        "df = pd.read_csv(path)"
      ],
      "metadata": {
        "id": "-8z3vvmVcoFo"
      },
      "execution_count": null,
      "outputs": []
    },
    {
      "cell_type": "code",
      "source": [
        "#df = pd.read_csv(\"windspeed.csv\")\n",
        "df.head()"
      ],
      "metadata": {
        "colab": {
          "base_uri": "https://localhost:8080/",
          "height": 206
        },
        "id": "x0fKejTZ_sRa",
        "outputId": "68f360b2-402f-4002-a3f4-b0081c9f92c9"
      },
      "execution_count": null,
      "outputs": [
        {
          "output_type": "execute_result",
          "data": {
            "text/plain": [
              "   Unnamed: 0      Date  Hour  Temperature  WindSpeed  Humidity  \\\n",
              "0           0  1/6/2015     0         13.4        0.8      85.0   \n",
              "1           1  1/6/2015     1         12.9        0.6      88.0   \n",
              "2           2  1/6/2015     2         12.6        0.7      88.0   \n",
              "3           3  1/6/2015     3         12.8        0.7      88.0   \n",
              "4           4  1/6/2015     4         14.6        0.6      86.0   \n",
              "\n",
              "   WindDirection  Pressure  \n",
              "0          118.0    1018.0  \n",
              "1          121.0    1018.2  \n",
              "2          164.0    1018.4  \n",
              "3          134.0    1018.5  \n",
              "4           31.0    1018.7  "
            ],
            "text/html": [
              "\n",
              "  <div id=\"df-9872fcc4-0d1c-40b1-8307-ea72dece7883\">\n",
              "    <div class=\"colab-df-container\">\n",
              "      <div>\n",
              "<style scoped>\n",
              "    .dataframe tbody tr th:only-of-type {\n",
              "        vertical-align: middle;\n",
              "    }\n",
              "\n",
              "    .dataframe tbody tr th {\n",
              "        vertical-align: top;\n",
              "    }\n",
              "\n",
              "    .dataframe thead th {\n",
              "        text-align: right;\n",
              "    }\n",
              "</style>\n",
              "<table border=\"1\" class=\"dataframe\">\n",
              "  <thead>\n",
              "    <tr style=\"text-align: right;\">\n",
              "      <th></th>\n",
              "      <th>Unnamed: 0</th>\n",
              "      <th>Date</th>\n",
              "      <th>Hour</th>\n",
              "      <th>Temperature</th>\n",
              "      <th>WindSpeed</th>\n",
              "      <th>Humidity</th>\n",
              "      <th>WindDirection</th>\n",
              "      <th>Pressure</th>\n",
              "    </tr>\n",
              "  </thead>\n",
              "  <tbody>\n",
              "    <tr>\n",
              "      <th>0</th>\n",
              "      <td>0</td>\n",
              "      <td>1/6/2015</td>\n",
              "      <td>0</td>\n",
              "      <td>13.4</td>\n",
              "      <td>0.8</td>\n",
              "      <td>85.0</td>\n",
              "      <td>118.0</td>\n",
              "      <td>1018.0</td>\n",
              "    </tr>\n",
              "    <tr>\n",
              "      <th>1</th>\n",
              "      <td>1</td>\n",
              "      <td>1/6/2015</td>\n",
              "      <td>1</td>\n",
              "      <td>12.9</td>\n",
              "      <td>0.6</td>\n",
              "      <td>88.0</td>\n",
              "      <td>121.0</td>\n",
              "      <td>1018.2</td>\n",
              "    </tr>\n",
              "    <tr>\n",
              "      <th>2</th>\n",
              "      <td>2</td>\n",
              "      <td>1/6/2015</td>\n",
              "      <td>2</td>\n",
              "      <td>12.6</td>\n",
              "      <td>0.7</td>\n",
              "      <td>88.0</td>\n",
              "      <td>164.0</td>\n",
              "      <td>1018.4</td>\n",
              "    </tr>\n",
              "    <tr>\n",
              "      <th>3</th>\n",
              "      <td>3</td>\n",
              "      <td>1/6/2015</td>\n",
              "      <td>3</td>\n",
              "      <td>12.8</td>\n",
              "      <td>0.7</td>\n",
              "      <td>88.0</td>\n",
              "      <td>134.0</td>\n",
              "      <td>1018.5</td>\n",
              "    </tr>\n",
              "    <tr>\n",
              "      <th>4</th>\n",
              "      <td>4</td>\n",
              "      <td>1/6/2015</td>\n",
              "      <td>4</td>\n",
              "      <td>14.6</td>\n",
              "      <td>0.6</td>\n",
              "      <td>86.0</td>\n",
              "      <td>31.0</td>\n",
              "      <td>1018.7</td>\n",
              "    </tr>\n",
              "  </tbody>\n",
              "</table>\n",
              "</div>\n",
              "      <button class=\"colab-df-convert\" onclick=\"convertToInteractive('df-9872fcc4-0d1c-40b1-8307-ea72dece7883')\"\n",
              "              title=\"Convert this dataframe to an interactive table.\"\n",
              "              style=\"display:none;\">\n",
              "        \n",
              "  <svg xmlns=\"http://www.w3.org/2000/svg\" height=\"24px\"viewBox=\"0 0 24 24\"\n",
              "       width=\"24px\">\n",
              "    <path d=\"M0 0h24v24H0V0z\" fill=\"none\"/>\n",
              "    <path d=\"M18.56 5.44l.94 2.06.94-2.06 2.06-.94-2.06-.94-.94-2.06-.94 2.06-2.06.94zm-11 1L8.5 8.5l.94-2.06 2.06-.94-2.06-.94L8.5 2.5l-.94 2.06-2.06.94zm10 10l.94 2.06.94-2.06 2.06-.94-2.06-.94-.94-2.06-.94 2.06-2.06.94z\"/><path d=\"M17.41 7.96l-1.37-1.37c-.4-.4-.92-.59-1.43-.59-.52 0-1.04.2-1.43.59L10.3 9.45l-7.72 7.72c-.78.78-.78 2.05 0 2.83L4 21.41c.39.39.9.59 1.41.59.51 0 1.02-.2 1.41-.59l7.78-7.78 2.81-2.81c.8-.78.8-2.07 0-2.86zM5.41 20L4 18.59l7.72-7.72 1.47 1.35L5.41 20z\"/>\n",
              "  </svg>\n",
              "      </button>\n",
              "      \n",
              "  <style>\n",
              "    .colab-df-container {\n",
              "      display:flex;\n",
              "      flex-wrap:wrap;\n",
              "      gap: 12px;\n",
              "    }\n",
              "\n",
              "    .colab-df-convert {\n",
              "      background-color: #E8F0FE;\n",
              "      border: none;\n",
              "      border-radius: 50%;\n",
              "      cursor: pointer;\n",
              "      display: none;\n",
              "      fill: #1967D2;\n",
              "      height: 32px;\n",
              "      padding: 0 0 0 0;\n",
              "      width: 32px;\n",
              "    }\n",
              "\n",
              "    .colab-df-convert:hover {\n",
              "      background-color: #E2EBFA;\n",
              "      box-shadow: 0px 1px 2px rgba(60, 64, 67, 0.3), 0px 1px 3px 1px rgba(60, 64, 67, 0.15);\n",
              "      fill: #174EA6;\n",
              "    }\n",
              "\n",
              "    [theme=dark] .colab-df-convert {\n",
              "      background-color: #3B4455;\n",
              "      fill: #D2E3FC;\n",
              "    }\n",
              "\n",
              "    [theme=dark] .colab-df-convert:hover {\n",
              "      background-color: #434B5C;\n",
              "      box-shadow: 0px 1px 3px 1px rgba(0, 0, 0, 0.15);\n",
              "      filter: drop-shadow(0px 1px 2px rgba(0, 0, 0, 0.3));\n",
              "      fill: #FFFFFF;\n",
              "    }\n",
              "  </style>\n",
              "\n",
              "      <script>\n",
              "        const buttonEl =\n",
              "          document.querySelector('#df-9872fcc4-0d1c-40b1-8307-ea72dece7883 button.colab-df-convert');\n",
              "        buttonEl.style.display =\n",
              "          google.colab.kernel.accessAllowed ? 'block' : 'none';\n",
              "\n",
              "        async function convertToInteractive(key) {\n",
              "          const element = document.querySelector('#df-9872fcc4-0d1c-40b1-8307-ea72dece7883');\n",
              "          const dataTable =\n",
              "            await google.colab.kernel.invokeFunction('convertToInteractive',\n",
              "                                                     [key], {});\n",
              "          if (!dataTable) return;\n",
              "\n",
              "          const docLinkHtml = 'Like what you see? Visit the ' +\n",
              "            '<a target=\"_blank\" href=https://colab.research.google.com/notebooks/data_table.ipynb>data table notebook</a>'\n",
              "            + ' to learn more about interactive tables.';\n",
              "          element.innerHTML = '';\n",
              "          dataTable['output_type'] = 'display_data';\n",
              "          await google.colab.output.renderOutput(dataTable, element);\n",
              "          const docLink = document.createElement('div');\n",
              "          docLink.innerHTML = docLinkHtml;\n",
              "          element.appendChild(docLink);\n",
              "        }\n",
              "      </script>\n",
              "    </div>\n",
              "  </div>\n",
              "  "
            ]
          },
          "metadata": {},
          "execution_count": 3
        }
      ]
    },
    {
      "cell_type": "markdown",
      "source": [
        "Order is not correct newer dates on the top while older dates are in the bottom. First we need to flip the data"
      ],
      "metadata": {
        "id": "CYjXpm1UN3I0"
      }
    },
    {
      "cell_type": "code",
      "source": [
        "df = df.iloc[::-1,:]\n",
        "df.reset_index(inplace = True, drop= True)\n",
        "df.head()"
      ],
      "metadata": {
        "colab": {
          "base_uri": "https://localhost:8080/",
          "height": 206
        },
        "id": "M4pqS1o5N1SB",
        "outputId": "8015c250-c4f8-46f2-ffff-190a7dbe60b2"
      },
      "execution_count": null,
      "outputs": [
        {
          "output_type": "execute_result",
          "data": {
            "text/plain": [
              "   Unnamed: 0        Date  Hour  Temperature  WindSpeed  Humidity  \\\n",
              "0       43847  31/05/2020    23         17.7        1.9      70.0   \n",
              "1       43846  31/05/2020    22         15.9        1.1      77.0   \n",
              "2       43845  31/05/2020    21         17.0        1.0      75.0   \n",
              "3       43844  31/05/2020    20         17.8        1.7      72.0   \n",
              "4       43843  31/05/2020    19         18.5        0.7      67.0   \n",
              "\n",
              "   WindDirection  Pressure  \n",
              "0          238.0    1011.7  \n",
              "1          173.0    1011.7  \n",
              "2          240.0    1011.9  \n",
              "3          244.0    1011.9  \n",
              "4          210.0    1011.8  "
            ],
            "text/html": [
              "\n",
              "  <div id=\"df-e8065654-9011-4d3c-a5d5-c5137452ff95\">\n",
              "    <div class=\"colab-df-container\">\n",
              "      <div>\n",
              "<style scoped>\n",
              "    .dataframe tbody tr th:only-of-type {\n",
              "        vertical-align: middle;\n",
              "    }\n",
              "\n",
              "    .dataframe tbody tr th {\n",
              "        vertical-align: top;\n",
              "    }\n",
              "\n",
              "    .dataframe thead th {\n",
              "        text-align: right;\n",
              "    }\n",
              "</style>\n",
              "<table border=\"1\" class=\"dataframe\">\n",
              "  <thead>\n",
              "    <tr style=\"text-align: right;\">\n",
              "      <th></th>\n",
              "      <th>Unnamed: 0</th>\n",
              "      <th>Date</th>\n",
              "      <th>Hour</th>\n",
              "      <th>Temperature</th>\n",
              "      <th>WindSpeed</th>\n",
              "      <th>Humidity</th>\n",
              "      <th>WindDirection</th>\n",
              "      <th>Pressure</th>\n",
              "    </tr>\n",
              "  </thead>\n",
              "  <tbody>\n",
              "    <tr>\n",
              "      <th>0</th>\n",
              "      <td>43847</td>\n",
              "      <td>31/05/2020</td>\n",
              "      <td>23</td>\n",
              "      <td>17.7</td>\n",
              "      <td>1.9</td>\n",
              "      <td>70.0</td>\n",
              "      <td>238.0</td>\n",
              "      <td>1011.7</td>\n",
              "    </tr>\n",
              "    <tr>\n",
              "      <th>1</th>\n",
              "      <td>43846</td>\n",
              "      <td>31/05/2020</td>\n",
              "      <td>22</td>\n",
              "      <td>15.9</td>\n",
              "      <td>1.1</td>\n",
              "      <td>77.0</td>\n",
              "      <td>173.0</td>\n",
              "      <td>1011.7</td>\n",
              "    </tr>\n",
              "    <tr>\n",
              "      <th>2</th>\n",
              "      <td>43845</td>\n",
              "      <td>31/05/2020</td>\n",
              "      <td>21</td>\n",
              "      <td>17.0</td>\n",
              "      <td>1.0</td>\n",
              "      <td>75.0</td>\n",
              "      <td>240.0</td>\n",
              "      <td>1011.9</td>\n",
              "    </tr>\n",
              "    <tr>\n",
              "      <th>3</th>\n",
              "      <td>43844</td>\n",
              "      <td>31/05/2020</td>\n",
              "      <td>20</td>\n",
              "      <td>17.8</td>\n",
              "      <td>1.7</td>\n",
              "      <td>72.0</td>\n",
              "      <td>244.0</td>\n",
              "      <td>1011.9</td>\n",
              "    </tr>\n",
              "    <tr>\n",
              "      <th>4</th>\n",
              "      <td>43843</td>\n",
              "      <td>31/05/2020</td>\n",
              "      <td>19</td>\n",
              "      <td>18.5</td>\n",
              "      <td>0.7</td>\n",
              "      <td>67.0</td>\n",
              "      <td>210.0</td>\n",
              "      <td>1011.8</td>\n",
              "    </tr>\n",
              "  </tbody>\n",
              "</table>\n",
              "</div>\n",
              "      <button class=\"colab-df-convert\" onclick=\"convertToInteractive('df-e8065654-9011-4d3c-a5d5-c5137452ff95')\"\n",
              "              title=\"Convert this dataframe to an interactive table.\"\n",
              "              style=\"display:none;\">\n",
              "        \n",
              "  <svg xmlns=\"http://www.w3.org/2000/svg\" height=\"24px\"viewBox=\"0 0 24 24\"\n",
              "       width=\"24px\">\n",
              "    <path d=\"M0 0h24v24H0V0z\" fill=\"none\"/>\n",
              "    <path d=\"M18.56 5.44l.94 2.06.94-2.06 2.06-.94-2.06-.94-.94-2.06-.94 2.06-2.06.94zm-11 1L8.5 8.5l.94-2.06 2.06-.94-2.06-.94L8.5 2.5l-.94 2.06-2.06.94zm10 10l.94 2.06.94-2.06 2.06-.94-2.06-.94-.94-2.06-.94 2.06-2.06.94z\"/><path d=\"M17.41 7.96l-1.37-1.37c-.4-.4-.92-.59-1.43-.59-.52 0-1.04.2-1.43.59L10.3 9.45l-7.72 7.72c-.78.78-.78 2.05 0 2.83L4 21.41c.39.39.9.59 1.41.59.51 0 1.02-.2 1.41-.59l7.78-7.78 2.81-2.81c.8-.78.8-2.07 0-2.86zM5.41 20L4 18.59l7.72-7.72 1.47 1.35L5.41 20z\"/>\n",
              "  </svg>\n",
              "      </button>\n",
              "      \n",
              "  <style>\n",
              "    .colab-df-container {\n",
              "      display:flex;\n",
              "      flex-wrap:wrap;\n",
              "      gap: 12px;\n",
              "    }\n",
              "\n",
              "    .colab-df-convert {\n",
              "      background-color: #E8F0FE;\n",
              "      border: none;\n",
              "      border-radius: 50%;\n",
              "      cursor: pointer;\n",
              "      display: none;\n",
              "      fill: #1967D2;\n",
              "      height: 32px;\n",
              "      padding: 0 0 0 0;\n",
              "      width: 32px;\n",
              "    }\n",
              "\n",
              "    .colab-df-convert:hover {\n",
              "      background-color: #E2EBFA;\n",
              "      box-shadow: 0px 1px 2px rgba(60, 64, 67, 0.3), 0px 1px 3px 1px rgba(60, 64, 67, 0.15);\n",
              "      fill: #174EA6;\n",
              "    }\n",
              "\n",
              "    [theme=dark] .colab-df-convert {\n",
              "      background-color: #3B4455;\n",
              "      fill: #D2E3FC;\n",
              "    }\n",
              "\n",
              "    [theme=dark] .colab-df-convert:hover {\n",
              "      background-color: #434B5C;\n",
              "      box-shadow: 0px 1px 3px 1px rgba(0, 0, 0, 0.15);\n",
              "      filter: drop-shadow(0px 1px 2px rgba(0, 0, 0, 0.3));\n",
              "      fill: #FFFFFF;\n",
              "    }\n",
              "  </style>\n",
              "\n",
              "      <script>\n",
              "        const buttonEl =\n",
              "          document.querySelector('#df-e8065654-9011-4d3c-a5d5-c5137452ff95 button.colab-df-convert');\n",
              "        buttonEl.style.display =\n",
              "          google.colab.kernel.accessAllowed ? 'block' : 'none';\n",
              "\n",
              "        async function convertToInteractive(key) {\n",
              "          const element = document.querySelector('#df-e8065654-9011-4d3c-a5d5-c5137452ff95');\n",
              "          const dataTable =\n",
              "            await google.colab.kernel.invokeFunction('convertToInteractive',\n",
              "                                                     [key], {});\n",
              "          if (!dataTable) return;\n",
              "\n",
              "          const docLinkHtml = 'Like what you see? Visit the ' +\n",
              "            '<a target=\"_blank\" href=https://colab.research.google.com/notebooks/data_table.ipynb>data table notebook</a>'\n",
              "            + ' to learn more about interactive tables.';\n",
              "          element.innerHTML = '';\n",
              "          dataTable['output_type'] = 'display_data';\n",
              "          await google.colab.output.renderOutput(dataTable, element);\n",
              "          const docLink = document.createElement('div');\n",
              "          docLink.innerHTML = docLinkHtml;\n",
              "          element.appendChild(docLink);\n",
              "        }\n",
              "      </script>\n",
              "    </div>\n",
              "  </div>\n",
              "  "
            ]
          },
          "metadata": {},
          "execution_count": 4
        }
      ]
    },
    {
      "cell_type": "code",
      "source": [
        "wind = df[\"WindSpeed\"]\n",
        "wind.head()"
      ],
      "metadata": {
        "colab": {
          "base_uri": "https://localhost:8080/"
        },
        "id": "Qib9feV7AIW8",
        "outputId": "99a59ca5-8fe6-4bb6-e3ff-0d0beda9bf06"
      },
      "execution_count": null,
      "outputs": [
        {
          "output_type": "execute_result",
          "data": {
            "text/plain": [
              "0    1.9\n",
              "1    1.1\n",
              "2    1.0\n",
              "3    1.7\n",
              "4    0.7\n",
              "Name: WindSpeed, dtype: float64"
            ]
          },
          "metadata": {},
          "execution_count": 5
        }
      ]
    },
    {
      "cell_type": "markdown",
      "source": [
        "We want to use last day as testing data where as remaining will be used as training data"
      ],
      "metadata": {
        "id": "7VarWU25CzMO"
      }
    },
    {
      "cell_type": "code",
      "source": [
        "wind_train = wind[:-24]\n",
        "wind_test = wind[-24:]"
      ],
      "metadata": {
        "id": "6Mhh8gqcCycZ"
      },
      "execution_count": null,
      "outputs": []
    },
    {
      "cell_type": "markdown",
      "source": [
        "### Smoothing Methods\n",
        "\n",
        "#### Exponential Smoothing\n",
        "\n",
        "Formulation for exponential smoothing is as follows\n",
        "\n",
        "$$\\hat{y}_{t+h} = l_{t+1} $$\n",
        "$$l_{t+1} = \\alpha y_t + (1-\\alpha) l_t$$\n",
        "\n",
        "where: <br>\n",
        "$l_t$ : is the level at time $t$ <br>\n",
        "$\\hat{y}_{t}$ : is the forecasted value at time $t$<br>\n",
        "$y_t$ : is the observed value at time $t$<br>\n",
        "$\\alpha$: is the smoothing constant<br>\n",
        "$h$: forecasting period"
      ],
      "metadata": {
        "id": "x0u8xWno7vqu"
      }
    },
    {
      "cell_type": "code",
      "source": [
        "from statsmodels.tsa.holtwinters import ExponentialSmoothing\n",
        "from sklearn.metrics import r2_score\n",
        "mdl = ExponentialSmoothing(wind_train).fit()\n",
        "## We are going to predict from first index of the testing data till the last index of the testing data\n",
        "ypred = mdl.predict(wind_test.index[0],wind_test.index[-1])\n",
        "\n",
        "plt.plot(wind_test, \"-ob\", label = \"Observed\")\n",
        "plt.plot(ypred, \"-*r\", label = \"Forecasted\")\n",
        "plt.grid()\n",
        "plt.legend()\n",
        "print(\"R2 Score:\", r2_score(wind_test, ypred))"
      ],
      "metadata": {
        "colab": {
          "base_uri": "https://localhost:8080/",
          "height": 319
        },
        "id": "tM2iQq2h7pO9",
        "outputId": "4cc6499b-a522-4aa0-ba78-47ad27ad94d9"
      },
      "execution_count": null,
      "outputs": [
        {
          "output_type": "stream",
          "name": "stderr",
          "text": [
            "/usr/local/lib/python3.7/dist-packages/statsmodels/tools/_testing.py:19: FutureWarning: pandas.util.testing is deprecated. Use the functions in the public API at pandas.testing instead.\n",
            "  import pandas.util.testing as tm\n"
          ]
        },
        {
          "output_type": "stream",
          "name": "stdout",
          "text": [
            "R2 Score: -0.2663696969231546\n"
          ]
        },
        {
          "output_type": "display_data",
          "data": {
            "text/plain": [
              "<Figure size 432x288 with 1 Axes>"
            ],
            "image/png": "[encoded data removed]"
          },
          "metadata": {
            "needs_background": "light"
          }
        }
      ]
    },
    {
      "cell_type": "markdown",
      "source": [
        "From the plot we can see that multistep forecasting is not effective with Simple Exponential Smoothing\n",
        "\n",
        "### Holt's Trend Method\n",
        "\n",
        "$$\\hat{y}_{t+h} = l_{t} + hb_t $$\n",
        "$$l_{t} = \\alpha y_t + (1-\\alpha) (l_{t-1} + b_{t-1})$$\n",
        "$$b_t = \\beta (l_{t}-l_{t-1}) + (1-\\beta)b_{t-1}$$\n",
        "\n",
        "where: <br>\n",
        "$b_t$ : is the trend at time $t$ <br>\n",
        "$\\beta$: is the smoothing parameter for trend"
      ],
      "metadata": {
        "id": "YuIjHQ5eEpTk"
      }
    },
    {
      "cell_type": "code",
      "source": [
        "# We can have multiplicative and additive trend\n",
        "mdl = ExponentialSmoothing(wind_train, trend = \"add\").fit()\n",
        "## We are going to predict from first index of the testing data till the last index of the testing data\n",
        "ypred = mdl.predict(wind_test.index[0],wind_test.index[-1])\n",
        "\n",
        "plt.plot(wind_test, \"-ob\", label = \"Observed\")\n",
        "plt.plot(ypred, \"-*r\", label = \"Forecasted\")\n",
        "plt.grid()\n",
        "plt.legend()\n",
        "print(\"R2 Score:\", r2_score(wind_test, ypred))"
      ],
      "metadata": {
        "colab": {
          "base_uri": "https://localhost:8080/",
          "height": 283
        },
        "id": "KmzFoyebE3S2",
        "outputId": "186c7e1b-21ce-4945-8a55-149e057d08dc"
      },
      "execution_count": null,
      "outputs": [
        {
          "output_type": "stream",
          "name": "stdout",
          "text": [
            "R2 Score: -0.2663694822038909\n"
          ]
        },
        {
          "output_type": "display_data",
          "data": {
            "text/plain": [
              "<Figure size 432x288 with 1 Axes>"
            ],
            "image/png": "[encoded data removed]"
          },
          "metadata": {
            "needs_background": "light"
          }
        }
      ]
    },
    {
      "cell_type": "markdown",
      "source": [
        "### Damped Trend Method\n",
        "\n",
        "$$\\hat{y}_{t+h} = l_{t} + (\\phi + \\phi^2 + \\dotsi+\\phi^h )b_t $$\n",
        "$$l_{t} = \\alpha y_t + (1-\\alpha) (l_{t-1} + \\phi b_{t-1})$$\n",
        "$$b_t = \\beta (l_{t}-l_{t-1}) + (1-\\beta)\\phi b_{t-1}$$\n",
        "\n",
        "where: <br>\n",
        "$\\phi$: is the damping parameter "
      ],
      "metadata": {
        "id": "AmjrlvS9Gm4D"
      }
    },
    {
      "cell_type": "markdown",
      "source": [
        "Since the data above does not include trend, integrating damping makes the model unstable and does not give meaningfull prediction. For illustration purpose we are going to use the portion of data."
      ],
      "metadata": {
        "id": "By8mJ4UxMT4m"
      }
    },
    {
      "cell_type": "markdown",
      "source": [
        "# **Smoothing Methods**"
      ],
      "metadata": {
        "id": "6b9a6tSOhXe3"
      }
    },
    {
      "cell_type": "code",
      "source": [
        "wind_damp = wind[:100] \n",
        "wind_damp_train = wind_damp[:-24]\n",
        "wind_damp_test = wind_damp[-24:]\n",
        "mdl = ExponentialSmoothing(wind_damp_train, trend = \"add\", damped = True).fit()\n",
        "## We are going to predict from first index of the testing data till the last index of the testing data\n",
        "ypred = mdl.predict(wind_damp_test.index[0],wind_damp_test.index[-1])\n",
        "\n",
        "plt.plot(wind_damp_test, \"-ob\", label = \"Observed\")\n",
        "plt.plot(ypred, \"-*r\", label = \"Forecasted\")\n",
        "plt.grid()\n",
        "plt.legend()\n",
        "print(\"R2 Score:\", r2_score(wind_damp_test, ypred))"
      ],
      "metadata": {
        "colab": {
          "base_uri": "https://localhost:8080/",
          "height": 319
        },
        "id": "MMKdRw65IBNc",
        "outputId": "551bd7cb-5bc5-485c-ec9c-ca1c48918ebb"
      },
      "execution_count": null,
      "outputs": [
        {
          "output_type": "stream",
          "name": "stderr",
          "text": [
            "/usr/local/lib/python3.7/dist-packages/statsmodels/tsa/holtwinters.py:712: ConvergenceWarning: Optimization failed to converge. Check mle_retvals.\n",
            "  ConvergenceWarning)\n"
          ]
        },
        {
          "output_type": "stream",
          "name": "stdout",
          "text": [
            "R2 Score: -1.1873470414462308\n"
          ]
        },
        {
          "output_type": "display_data",
          "data": {
            "text/plain": [
              "<Figure size 432x288 with 1 Axes>"
            ],
            "image/png": "[encoded data removed]"
          },
          "metadata": {
            "needs_background": "light"
          }
        }
      ]
    },
    {
      "cell_type": "markdown",
      "source": [
        "When there is no trend you shouldnt use damping"
      ],
      "metadata": {
        "id": "ek8GEDi5Oq2W"
      }
    },
    {
      "cell_type": "markdown",
      "source": [
        "### Holt Winters' Seasonal Model\n",
        "\n",
        "$$\\hat{y}_{t+h} = l_{t} + hb_t + s_{t+h-m(k+1)}$$\n",
        "$$l_{t} = \\alpha (y_t-s_{t-m}) + (1-\\alpha) (l_{t-1} + b_{t-1})$$\n",
        "$$b_t = \\beta (l_{t}-l_{t-1}) + (1-\\beta)b_{t-1}$$\n",
        "$$s_t = γ(y_t-l_{t-1}-b_{t-1})+(1-γ)s_{t-m}$$\n",
        "\n",
        "where: <br>\n",
        "$s_t$ : is the seasonal parameter at time $t$ <br>\n",
        "$\\gamma$: is the smoothing parameter for seasonality<br>\n",
        "$m$: is the seasonal period<br>\n",
        "$k$: is the integer part of $(h-1)/m$\n",
        "\n"
      ],
      "metadata": {
        "id": "2r9_GIEdOvnI"
      }
    },
    {
      "cell_type": "markdown",
      "source": [
        ""
      ],
      "metadata": {
        "id": "HHdLZzn_PYny"
      }
    },
    {
      "cell_type": "code",
      "source": [
        "# We can have multiplicative and additive seasonality. We wil take seasonal period as one day\n",
        "mdl = ExponentialSmoothing(wind_train, seasonal = \"add\", seasonal_periods = 24).fit()\n",
        "## We are going to predict from first index of the testing data till the last index of the testing data\n",
        "ypred = mdl.predict(wind_test.index[0],wind_test.index[-1])\n",
        "\n",
        "plt.plot(wind_test, \"-ob\", label = \"Observed\")\n",
        "plt.plot(ypred, \"-*r\", label = \"Forecasted\")\n",
        "plt.grid()\n",
        "plt.legend()\n",
        "print(\"R2 Score:\", r2_score(wind_test, ypred))"
      ],
      "metadata": {
        "id": "MdnV0nfAOqd7",
        "outputId": "1df7a8d7-cacb-4443-e02b-d15edb9e724f",
        "colab": {
          "base_uri": "https://localhost:8080/",
          "height": 284
        }
      },
      "execution_count": null,
      "outputs": [
        {
          "output_type": "stream",
          "name": "stdout",
          "text": [
            "R2 Score: -1.4963539706149844\n"
          ]
        },
        {
          "output_type": "display_data",
          "data": {
            "text/plain": [
              "<Figure size 432x288 with 1 Axes>"
            ],
            "image/png": "[encoded data removed]"
          },
          "metadata": {
            "needs_background": "light"
          }
        }
      ]
    }
  ]
}