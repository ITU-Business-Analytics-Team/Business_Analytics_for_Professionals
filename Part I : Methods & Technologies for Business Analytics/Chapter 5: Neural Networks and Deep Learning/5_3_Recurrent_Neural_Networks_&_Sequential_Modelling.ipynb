{
  "nbformat": 4,
  "nbformat_minor": 0,
  "metadata": {
    "kernelspec": {
      "display_name": "Python 3",
      "language": "python",
      "name": "python3"
    },
    "language_info": {
      "codemirror_mode": {
        "name": "ipython",
        "version": 3
      },
      "file_extension": ".py",
      "mimetype": "text/x-python",
      "name": "python",
      "nbconvert_exporter": "python",
      "pygments_lexer": "ipython3",
      "version": "3.8.3"
    },
    "colab": {
      "name": "5.3. Recurrent Neural Networks & Sequential Modelling.ipynb",
      "provenance": [],
      "collapsed_sections": [],
      "include_colab_link": true
    }
  },
  "cells": [
    {
      "cell_type": "markdown",
      "metadata": {
        "id": "view-in-github",
        "colab_type": "text"
      },
      "source": [
        "<a href=\"https://colab.research.google.com/github/ITU-Business-Analytics-Team/Business_Analytics_for_Professionals/blob/main/Part%20I%20%3A%20Methods%20%26%20Technologies%20for%20Business%20Analytics/Chapter%205%3A%20Neural%20Networks%20and%20Deep%20Learning/5_3_Recurrent_Neural_Networks_%26_Sequential_Modelling.ipynb\" target=\"_parent\"><img src=\"https://colab.research.google.com/assets/colab-badge.svg\" alt=\"Open In Colab\"/></a>"
      ]
    },
    {
      "cell_type": "markdown",
      "metadata": {
        "id": "fADkWq6rb7WQ"
      },
      "source": [
        "# **Neural Networks and Deep Learning**\n",
        "## Recurrent Neural Networks & Sequential Modelling"
      ]
    },
    {
      "cell_type": "markdown",
      "metadata": {
        "id": "U_2MGsMjcF9O"
      },
      "source": [
        "### **Example: Power Consumption Forecast**"
      ]
    },
    {
      "cell_type": "code",
      "metadata": {
        "id": "Eba-UHbGPuME"
      },
      "source": [
        "import pandas as pd\n",
        "import numpy as np \n",
        "\n",
        "from sklearn.preprocessing import MinMaxScaler\n",
        "\n",
        "#Install tensorflow if not \n",
        "#!pip install tensorflow==2.2\n",
        "\n",
        "import tensorflow as tf\n",
        "import tensorflow.keras.backend as K\n",
        "from tensorflow.keras.models import Sequential\n",
        "from tensorflow.keras.layers import Dense, LSTM,Dropout, Activation"
      ],
      "execution_count": null,
      "outputs": []
    },
    {
      "cell_type": "code",
      "metadata": {
        "colab": {
          "base_uri": "https://localhost:8080/",
          "height": 235
        },
        "id": "DX-02YcicRwb",
        "outputId": "5775343d-002a-4c02-da39-abb1a574eac7"
      },
      "source": [
        "# Import Data  \n",
        "url=   'https://drive.google.com/file/d/1FJyED9Rh6UHDFvcY1YxHzGn5TqSq3kzu/view?usp=sharing'\n",
        "path = 'https://drive.google.com/uc?export=download&id='+url.split('/')[-2]\n",
        "df = pd.read_csv(path,sep=\";\")\n",
        "df.set_index(['Date','Time'], inplace=True)\n",
        "df.head()"
      ],
      "execution_count": null,
      "outputs": [
        {
          "output_type": "execute_result",
          "data": {
            "text/html": [
              "<div>\n",
              "<style scoped>\n",
              "    .dataframe tbody tr th:only-of-type {\n",
              "        vertical-align: middle;\n",
              "    }\n",
              "\n",
              "    .dataframe tbody tr th {\n",
              "        vertical-align: top;\n",
              "    }\n",
              "\n",
              "    .dataframe thead th {\n",
              "        text-align: right;\n",
              "    }\n",
              "</style>\n",
              "<table border=\"1\" class=\"dataframe\">\n",
              "  <thead>\n",
              "    <tr style=\"text-align: right;\">\n",
              "      <th></th>\n",
              "      <th></th>\n",
              "      <th>Global_active_power</th>\n",
              "      <th>Global_reactive_power</th>\n",
              "      <th>Voltage</th>\n",
              "      <th>Global_intensity</th>\n",
              "      <th>Sub_metering_1</th>\n",
              "      <th>Sub_metering_2</th>\n",
              "      <th>Sub_metering_3</th>\n",
              "    </tr>\n",
              "    <tr>\n",
              "      <th>Date</th>\n",
              "      <th>Time</th>\n",
              "      <th></th>\n",
              "      <th></th>\n",
              "      <th></th>\n",
              "      <th></th>\n",
              "      <th></th>\n",
              "      <th></th>\n",
              "      <th></th>\n",
              "    </tr>\n",
              "  </thead>\n",
              "  <tbody>\n",
              "    <tr>\n",
              "      <th rowspan=\"5\" valign=\"top\">16/12/2006</th>\n",
              "      <th>17:24:00</th>\n",
              "      <td>4.216</td>\n",
              "      <td>0.418</td>\n",
              "      <td>234.840</td>\n",
              "      <td>18.400</td>\n",
              "      <td>0.000</td>\n",
              "      <td>1.000</td>\n",
              "      <td>17.0</td>\n",
              "    </tr>\n",
              "    <tr>\n",
              "      <th>17:25:00</th>\n",
              "      <td>5.360</td>\n",
              "      <td>0.436</td>\n",
              "      <td>233.630</td>\n",
              "      <td>23.000</td>\n",
              "      <td>0.000</td>\n",
              "      <td>1.000</td>\n",
              "      <td>16.0</td>\n",
              "    </tr>\n",
              "    <tr>\n",
              "      <th>17:26:00</th>\n",
              "      <td>5.374</td>\n",
              "      <td>0.498</td>\n",
              "      <td>233.290</td>\n",
              "      <td>23.000</td>\n",
              "      <td>0.000</td>\n",
              "      <td>2.000</td>\n",
              "      <td>17.0</td>\n",
              "    </tr>\n",
              "    <tr>\n",
              "      <th>17:27:00</th>\n",
              "      <td>5.388</td>\n",
              "      <td>0.502</td>\n",
              "      <td>233.740</td>\n",
              "      <td>23.000</td>\n",
              "      <td>0.000</td>\n",
              "      <td>1.000</td>\n",
              "      <td>17.0</td>\n",
              "    </tr>\n",
              "    <tr>\n",
              "      <th>17:28:00</th>\n",
              "      <td>3.666</td>\n",
              "      <td>0.528</td>\n",
              "      <td>235.680</td>\n",
              "      <td>15.800</td>\n",
              "      <td>0.000</td>\n",
              "      <td>1.000</td>\n",
              "      <td>17.0</td>\n",
              "    </tr>\n",
              "  </tbody>\n",
              "</table>\n",
              "</div>"
            ],
            "text/plain": [
              "                    Global_active_power  ... Sub_metering_3\n",
              "Date       Time                          ...               \n",
              "16/12/2006 17:24:00               4.216  ...           17.0\n",
              "           17:25:00               5.360  ...           16.0\n",
              "           17:26:00               5.374  ...           17.0\n",
              "           17:27:00               5.388  ...           17.0\n",
              "           17:28:00               3.666  ...           17.0\n",
              "\n",
              "[5 rows x 7 columns]"
            ]
          },
          "metadata": {},
          "execution_count": 2
        }
      ]
    },
    {
      "cell_type": "markdown",
      "metadata": {
        "id": "dSXbBnH3PuMJ"
      },
      "source": [
        "## Dataset Information\n",
        "Variable Name | Variable Description\n",
        "-------------------|------------------\n",
        "Global_active_power\t| The total active power consumed by the household (kilowatts)\n",
        "Global_reactive_power | The total reactive power consumed by the household (kilowatts)\n",
        "Voltage | Minute-averaged voltage (volts)\n",
        "Global_intensity | Household global minute-averaged current intensity (amperes)\n",
        "Sub_metering_1 | Active energy for kitchen (watt-hours of active energy)\n",
        "Sub_metering_2 | Active energy for laundry (watt-hours of active energy)\n",
        "Sub_metering_3 | Active energy for climate control systems (watt-hours of active energy)"
      ]
    },
    {
      "cell_type": "markdown",
      "metadata": {
        "id": "-_hVAjB4PuML"
      },
      "source": [
        "## Data Preprocessing"
      ]
    },
    {
      "cell_type": "markdown",
      "metadata": {
        "id": "JjDgw4blPuML"
      },
      "source": [
        "Missing values given '?' are changed to nan and variables are converted to numeric type"
      ]
    },
    {
      "cell_type": "code",
      "metadata": {
        "colab": {
          "base_uri": "https://localhost:8080/"
        },
        "id": "JsHklDVaPuMM",
        "outputId": "c97ea01d-9450-471c-8d89-ca996d1a6aa7"
      },
      "source": [
        "df.replace('?', np.nan, inplace=True)\n",
        "cols = df.select_dtypes(exclude=['float']).columns\n",
        "df[cols] = df[cols].apply(pd.to_numeric, downcast='float', errors='coerce')\n",
        "df.dtypes"
      ],
      "execution_count": null,
      "outputs": [
        {
          "output_type": "execute_result",
          "data": {
            "text/plain": [
              "Global_active_power      float32\n",
              "Global_reactive_power    float32\n",
              "Voltage                  float32\n",
              "Global_intensity         float32\n",
              "Sub_metering_1           float32\n",
              "Sub_metering_2           float32\n",
              "Sub_metering_3           float64\n",
              "dtype: object"
            ]
          },
          "metadata": {},
          "execution_count": 4
        }
      ]
    },
    {
      "cell_type": "markdown",
      "metadata": {
        "id": "TCAruRW-PuMM"
      },
      "source": [
        "Next, remaning watt-hours are calculating"
      ]
    },
    {
      "cell_type": "code",
      "metadata": {
        "id": "agtIt6LnPuMN"
      },
      "source": [
        "df['sub_metering_4'] = (df['Global_active_power'] * 1000 / 60) - (df['Sub_metering_1'] + df['Sub_metering_2'] + df['Sub_metering_2'])"
      ],
      "execution_count": null,
      "outputs": []
    },
    {
      "cell_type": "markdown",
      "metadata": {
        "id": "NBfnTDoAPuMO"
      },
      "source": [
        "The target variable is created to predict the next minute"
      ]
    },
    {
      "cell_type": "code",
      "metadata": {
        "id": "oEb_QLdaPuMO"
      },
      "source": [
        "df['Global_active_power_Next'] = df['Global_active_power'].shift(1)\n",
        "df.dropna(inplace=True)"
      ],
      "execution_count": null,
      "outputs": []
    },
    {
      "cell_type": "code",
      "metadata": {
        "id": "gWndpor8PuMP"
      },
      "source": [
        "X = df.drop(columns=['Global_active_power_Next'])\n",
        "y = df[['Global_active_power_Next']]"
      ],
      "execution_count": null,
      "outputs": []
    },
    {
      "cell_type": "code",
      "metadata": {
        "colab": {
          "base_uri": "https://localhost:8080/"
        },
        "id": "EmKJfodKPuMP",
        "outputId": "d13cac77-075f-449e-b7fc-66457dff5596"
      },
      "source": [
        "train_size = int(len(df) * 0.8)\n",
        "test_size = len(df) - train_size\n",
        "train_size, test_size"
      ],
      "execution_count": null,
      "outputs": [
        {
          "output_type": "execute_result",
          "data": {
            "text/plain": [
              "(7996, 2000)"
            ]
          },
          "metadata": {},
          "execution_count": 8
        }
      ]
    },
    {
      "cell_type": "code",
      "metadata": {
        "id": "OJ7IbE2fPuMQ"
      },
      "source": [
        "scaler_x = MinMaxScaler()\n",
        "X_norm = scaler_x.fit_transform(X)\n",
        "X_train, X_test = X_norm[:train_size], X_norm[train_size:]\n",
        "\n",
        "y_true = y[train_size:]\n",
        "scaler_y = MinMaxScaler()\n",
        "y_norm = scaler_y.fit_transform(y)\n",
        "y_train = y_norm[:train_size]"
      ],
      "execution_count": null,
      "outputs": []
    },
    {
      "cell_type": "markdown",
      "metadata": {
        "id": "2V81h4ZwPuMQ"
      },
      "source": [
        "The values of the previous 2 minutes will be used to predict the next minute"
      ]
    },
    {
      "cell_type": "code",
      "metadata": {
        "id": "uzBjNYQwPuMQ"
      },
      "source": [
        "lookback=2\n",
        "train_size = train_size - lookback + 1"
      ],
      "execution_count": null,
      "outputs": []
    },
    {
      "cell_type": "markdown",
      "metadata": {
        "id": "q1WN05hPPuMR"
      },
      "source": [
        "Preparing data for the LSTM method"
      ]
    },
    {
      "cell_type": "code",
      "metadata": {
        "id": "zvble8dcPuMR"
      },
      "source": [
        "X_all=[]\n",
        "y_all=[]\n",
        "for i in range(len(X_norm)-lookback + 1):\n",
        "    t=[]\n",
        "    for j in range(0,lookback):\n",
        "        t.append(X_norm[[(i+j)]])\n",
        "    X_all.append(t)\n",
        "    y_all.append(y_norm[i+ lookback - 1])\n",
        "\n",
        "X_all, y_all= np.array(X_all), np.array(y_all)\n",
        "\n",
        "y_pred=[]\n",
        "\n",
        "X_train= X_all[:train_size]\n",
        "X_test = X_all[train_size:train_size + test_size]\n",
        "if lookback!=0:\n",
        "    X_train = X_train.reshape(X_train.shape[0],lookback, X_train.shape[3])\n",
        "    X_test = X_test.reshape(X_test.shape[0],lookback, X_test.shape[3])\n",
        "else:\n",
        "    X_train = X_train.reshape(X_train.shape[0], X_train.shape[2])\n",
        "    X_test = X_test.reshape(X_test.shape[0], X_test.shape[2])\n",
        "    \n",
        "y_train= y_all[:train_size]\n",
        "y_test= y_all[train_size:]"
      ],
      "execution_count": null,
      "outputs": []
    },
    {
      "cell_type": "code",
      "metadata": {
        "colab": {
          "base_uri": "https://localhost:8080/"
        },
        "id": "26S9qXe7PuMS",
        "outputId": "582445c9-44a0-4f41-a4a2-7b08776755e8"
      },
      "source": [
        "X_train.shape,X_test.shape,y_train.shape,y_test.shape"
      ],
      "execution_count": null,
      "outputs": [
        {
          "output_type": "execute_result",
          "data": {
            "text/plain": [
              "((7995, 2, 8), (2000, 2, 8), (7995, 1), (2000, 1))"
            ]
          },
          "metadata": {},
          "execution_count": 12
        }
      ]
    },
    {
      "cell_type": "markdown",
      "metadata": {
        "id": "WOTGC_U_PuMS"
      },
      "source": [
        "## LSTM Multivariate Time Series Regression"
      ]
    },
    {
      "cell_type": "code",
      "metadata": {
        "id": "lgEkFoWyPuMS"
      },
      "source": [
        "units=4\n",
        "epochs=100\n",
        "batch_size=144"
      ],
      "execution_count": null,
      "outputs": []
    },
    {
      "cell_type": "code",
      "metadata": {
        "id": "Dazn3CKXPuMT"
      },
      "source": [
        "from matplotlib import pyplot"
      ],
      "execution_count": null,
      "outputs": []
    },
    {
      "cell_type": "code",
      "metadata": {
        "colab": {
          "base_uri": "https://localhost:8080/",
          "height": 1000
        },
        "id": "BmR4v_rYPuMT",
        "outputId": "b7adb5b8-e890-442e-cced-4123d901bc07"
      },
      "source": [
        "np.random.seed(1)\n",
        "\n",
        "K.clear_session()\n",
        "\n",
        "## LSTM Model & Prediction ###############\n",
        "model = Sequential()\n",
        "\n",
        "model.add(LSTM(units=units, input_shape=(lookback,X_all.shape[3]), dropout=0.2, recurrent_dropout=0.2))\n",
        "model.add(Dropout(0.2))\n",
        "\n",
        "model.add(Dense(1))\n",
        "model.compile(loss='mae', optimizer='adam',metrics=['mae'])\n",
        "    \n",
        "history = model.fit(X_train, y_train, epochs=epochs, batch_size=batch_size, validation_data=(X_test, y_test))\n",
        "# plot history\n",
        "pyplot.plot(history.history['loss'], label='train')\n",
        "pyplot.plot(history.history['val_loss'], label='test')\n",
        "pyplot.legend()\n",
        "pyplot.show()\n",
        "\n",
        "y_pred= model.predict(X_test)\n",
        "\n",
        "##########################################\n",
        "        \n",
        "y_pred = np.array(y_pred).reshape(test_size,1)\n",
        "y_pred = scaler_y.inverse_transform(y_pred)"
      ],
      "execution_count": null,
      "outputs": [
        {
          "output_type": "stream",
          "name": "stdout",
          "text": [
            "Epoch 1/100\n",
            "56/56 [==============================] - 3s 10ms/step - loss: 0.2518 - mae: 0.2518 - val_loss: 0.2728 - val_mae: 0.2728\n",
            "Epoch 2/100\n",
            "56/56 [==============================] - 0s 4ms/step - loss: 0.1741 - mae: 0.1741 - val_loss: 0.1994 - val_mae: 0.1994\n",
            "Epoch 3/100\n",
            "56/56 [==============================] - 0s 4ms/step - loss: 0.1365 - mae: 0.1365 - val_loss: 0.1530 - val_mae: 0.1530\n",
            "Epoch 4/100\n",
            "56/56 [==============================] - 0s 4ms/step - loss: 0.1084 - mae: 0.1084 - val_loss: 0.1172 - val_mae: 0.1172\n",
            "Epoch 5/100\n",
            "56/56 [==============================] - 0s 4ms/step - loss: 0.0858 - mae: 0.0858 - val_loss: 0.0958 - val_mae: 0.0958\n",
            "Epoch 6/100\n",
            "56/56 [==============================] - 0s 4ms/step - loss: 0.0735 - mae: 0.0735 - val_loss: 0.0862 - val_mae: 0.0862\n",
            "Epoch 7/100\n",
            "56/56 [==============================] - 0s 4ms/step - loss: 0.0694 - mae: 0.0694 - val_loss: 0.0833 - val_mae: 0.0833\n",
            "Epoch 8/100\n",
            "56/56 [==============================] - 0s 4ms/step - loss: 0.0667 - mae: 0.0667 - val_loss: 0.0821 - val_mae: 0.0821\n",
            "Epoch 9/100\n",
            "56/56 [==============================] - 0s 4ms/step - loss: 0.0634 - mae: 0.0634 - val_loss: 0.0776 - val_mae: 0.0776\n",
            "Epoch 10/100\n",
            "56/56 [==============================] - 0s 4ms/step - loss: 0.0603 - mae: 0.0603 - val_loss: 0.0767 - val_mae: 0.0767\n",
            "Epoch 11/100\n",
            "56/56 [==============================] - 0s 4ms/step - loss: 0.0604 - mae: 0.0604 - val_loss: 0.0729 - val_mae: 0.0729\n",
            "Epoch 12/100\n",
            "56/56 [==============================] - 0s 5ms/step - loss: 0.0580 - mae: 0.0580 - val_loss: 0.0696 - val_mae: 0.0696\n",
            "Epoch 13/100\n",
            "56/56 [==============================] - 0s 5ms/step - loss: 0.0567 - mae: 0.0567 - val_loss: 0.0696 - val_mae: 0.0696\n",
            "Epoch 14/100\n",
            "56/56 [==============================] - 0s 4ms/step - loss: 0.0553 - mae: 0.0553 - val_loss: 0.0612 - val_mae: 0.0612\n",
            "Epoch 15/100\n",
            "56/56 [==============================] - 0s 4ms/step - loss: 0.0543 - mae: 0.0543 - val_loss: 0.0628 - val_mae: 0.0628\n",
            "Epoch 16/100\n",
            "56/56 [==============================] - 0s 4ms/step - loss: 0.0531 - mae: 0.0531 - val_loss: 0.0599 - val_mae: 0.0599\n",
            "Epoch 17/100\n",
            "56/56 [==============================] - 0s 4ms/step - loss: 0.0529 - mae: 0.0529 - val_loss: 0.0587 - val_mae: 0.0587\n",
            "Epoch 18/100\n",
            "56/56 [==============================] - 0s 4ms/step - loss: 0.0521 - mae: 0.0521 - val_loss: 0.0566 - val_mae: 0.0566\n",
            "Epoch 19/100\n",
            "56/56 [==============================] - 0s 4ms/step - loss: 0.0514 - mae: 0.0514 - val_loss: 0.0560 - val_mae: 0.0560\n",
            "Epoch 20/100\n",
            "56/56 [==============================] - 0s 4ms/step - loss: 0.0509 - mae: 0.0509 - val_loss: 0.0538 - val_mae: 0.0538\n",
            "Epoch 21/100\n",
            "56/56 [==============================] - 0s 4ms/step - loss: 0.0498 - mae: 0.0498 - val_loss: 0.0535 - val_mae: 0.0535\n",
            "Epoch 22/100\n",
            "56/56 [==============================] - 0s 4ms/step - loss: 0.0497 - mae: 0.0497 - val_loss: 0.0504 - val_mae: 0.0504\n",
            "Epoch 23/100\n",
            "56/56 [==============================] - 0s 4ms/step - loss: 0.0490 - mae: 0.0490 - val_loss: 0.0512 - val_mae: 0.0512\n",
            "Epoch 24/100\n",
            "56/56 [==============================] - 0s 4ms/step - loss: 0.0485 - mae: 0.0485 - val_loss: 0.0525 - val_mae: 0.0525\n",
            "Epoch 25/100\n",
            "56/56 [==============================] - 0s 4ms/step - loss: 0.0497 - mae: 0.0497 - val_loss: 0.0521 - val_mae: 0.0521\n",
            "Epoch 26/100\n",
            "56/56 [==============================] - 0s 4ms/step - loss: 0.0487 - mae: 0.0487 - val_loss: 0.0536 - val_mae: 0.0536\n",
            "Epoch 27/100\n",
            "56/56 [==============================] - 0s 4ms/step - loss: 0.0483 - mae: 0.0483 - val_loss: 0.0493 - val_mae: 0.0493\n",
            "Epoch 28/100\n",
            "56/56 [==============================] - 0s 4ms/step - loss: 0.0477 - mae: 0.0477 - val_loss: 0.0498 - val_mae: 0.0498\n",
            "Epoch 29/100\n",
            "56/56 [==============================] - 0s 4ms/step - loss: 0.0480 - mae: 0.0480 - val_loss: 0.0526 - val_mae: 0.0526\n",
            "Epoch 30/100\n",
            "56/56 [==============================] - 0s 4ms/step - loss: 0.0469 - mae: 0.0469 - val_loss: 0.0500 - val_mae: 0.0500\n",
            "Epoch 31/100\n",
            "56/56 [==============================] - 0s 4ms/step - loss: 0.0474 - mae: 0.0474 - val_loss: 0.0536 - val_mae: 0.0536\n",
            "Epoch 32/100\n",
            "56/56 [==============================] - 0s 4ms/step - loss: 0.0476 - mae: 0.0476 - val_loss: 0.0522 - val_mae: 0.0522\n",
            "Epoch 33/100\n",
            "56/56 [==============================] - 0s 4ms/step - loss: 0.0475 - mae: 0.0475 - val_loss: 0.0517 - val_mae: 0.0517\n",
            "Epoch 34/100\n",
            "56/56 [==============================] - 0s 4ms/step - loss: 0.0468 - mae: 0.0468 - val_loss: 0.0535 - val_mae: 0.0535\n",
            "Epoch 35/100\n",
            "56/56 [==============================] - 0s 4ms/step - loss: 0.0474 - mae: 0.0474 - val_loss: 0.0518 - val_mae: 0.0518\n",
            "Epoch 36/100\n",
            "56/56 [==============================] - 0s 4ms/step - loss: 0.0455 - mae: 0.0455 - val_loss: 0.0504 - val_mae: 0.0504\n",
            "Epoch 37/100\n",
            "56/56 [==============================] - 0s 4ms/step - loss: 0.0460 - mae: 0.0460 - val_loss: 0.0503 - val_mae: 0.0503\n",
            "Epoch 38/100\n",
            "56/56 [==============================] - 0s 4ms/step - loss: 0.0467 - mae: 0.0467 - val_loss: 0.0502 - val_mae: 0.0502\n",
            "Epoch 39/100\n",
            "56/56 [==============================] - 0s 4ms/step - loss: 0.0465 - mae: 0.0465 - val_loss: 0.0503 - val_mae: 0.0503\n",
            "Epoch 40/100\n",
            "56/56 [==============================] - 0s 4ms/step - loss: 0.0456 - mae: 0.0456 - val_loss: 0.0521 - val_mae: 0.0521\n",
            "Epoch 41/100\n",
            "56/56 [==============================] - 0s 4ms/step - loss: 0.0459 - mae: 0.0459 - val_loss: 0.0531 - val_mae: 0.0531\n",
            "Epoch 42/100\n",
            "56/56 [==============================] - 0s 4ms/step - loss: 0.0458 - mae: 0.0458 - val_loss: 0.0513 - val_mae: 0.0513\n",
            "Epoch 43/100\n",
            "56/56 [==============================] - 0s 4ms/step - loss: 0.0465 - mae: 0.0465 - val_loss: 0.0509 - val_mae: 0.0509\n",
            "Epoch 44/100\n",
            "56/56 [==============================] - 0s 4ms/step - loss: 0.0466 - mae: 0.0466 - val_loss: 0.0505 - val_mae: 0.0505\n",
            "Epoch 45/100\n",
            "56/56 [==============================] - 0s 4ms/step - loss: 0.0458 - mae: 0.0458 - val_loss: 0.0507 - val_mae: 0.0507\n",
            "Epoch 46/100\n",
            "56/56 [==============================] - 0s 4ms/step - loss: 0.0456 - mae: 0.0456 - val_loss: 0.0527 - val_mae: 0.0527\n",
            "Epoch 47/100\n",
            "56/56 [==============================] - 0s 4ms/step - loss: 0.0458 - mae: 0.0458 - val_loss: 0.0528 - val_mae: 0.0528\n",
            "Epoch 48/100\n",
            "56/56 [==============================] - 0s 4ms/step - loss: 0.0455 - mae: 0.0455 - val_loss: 0.0499 - val_mae: 0.0499\n",
            "Epoch 49/100\n",
            "56/56 [==============================] - 0s 4ms/step - loss: 0.0460 - mae: 0.0460 - val_loss: 0.0518 - val_mae: 0.0518\n",
            "Epoch 50/100\n",
            "56/56 [==============================] - 0s 4ms/step - loss: 0.0448 - mae: 0.0448 - val_loss: 0.0499 - val_mae: 0.0499\n",
            "Epoch 51/100\n",
            "56/56 [==============================] - 0s 4ms/step - loss: 0.0456 - mae: 0.0456 - val_loss: 0.0530 - val_mae: 0.0530\n",
            "Epoch 52/100\n",
            "56/56 [==============================] - 0s 4ms/step - loss: 0.0456 - mae: 0.0456 - val_loss: 0.0492 - val_mae: 0.0492\n",
            "Epoch 53/100\n",
            "56/56 [==============================] - 0s 4ms/step - loss: 0.0453 - mae: 0.0453 - val_loss: 0.0519 - val_mae: 0.0519\n",
            "Epoch 54/100\n",
            "56/56 [==============================] - 0s 4ms/step - loss: 0.0456 - mae: 0.0456 - val_loss: 0.0516 - val_mae: 0.0516\n",
            "Epoch 55/100\n",
            "56/56 [==============================] - 0s 4ms/step - loss: 0.0456 - mae: 0.0456 - val_loss: 0.0506 - val_mae: 0.0506\n",
            "Epoch 56/100\n",
            "56/56 [==============================] - 0s 5ms/step - loss: 0.0454 - mae: 0.0454 - val_loss: 0.0513 - val_mae: 0.0513\n",
            "Epoch 57/100\n",
            "56/56 [==============================] - 0s 4ms/step - loss: 0.0450 - mae: 0.0450 - val_loss: 0.0499 - val_mae: 0.0499\n",
            "Epoch 58/100\n",
            "56/56 [==============================] - 0s 4ms/step - loss: 0.0448 - mae: 0.0448 - val_loss: 0.0499 - val_mae: 0.0499\n",
            "Epoch 59/100\n",
            "56/56 [==============================] - 0s 4ms/step - loss: 0.0457 - mae: 0.0457 - val_loss: 0.0514 - val_mae: 0.0514\n",
            "Epoch 60/100\n",
            "56/56 [==============================] - 0s 5ms/step - loss: 0.0442 - mae: 0.0442 - val_loss: 0.0502 - val_mae: 0.0502\n",
            "Epoch 61/100\n",
            "56/56 [==============================] - 0s 4ms/step - loss: 0.0444 - mae: 0.0444 - val_loss: 0.0501 - val_mae: 0.0501\n",
            "Epoch 62/100\n",
            "56/56 [==============================] - 0s 4ms/step - loss: 0.0453 - mae: 0.0453 - val_loss: 0.0516 - val_mae: 0.0516\n",
            "Epoch 63/100\n",
            "56/56 [==============================] - 0s 4ms/step - loss: 0.0445 - mae: 0.0445 - val_loss: 0.0466 - val_mae: 0.0466\n",
            "Epoch 64/100\n",
            "56/56 [==============================] - 0s 4ms/step - loss: 0.0450 - mae: 0.0450 - val_loss: 0.0496 - val_mae: 0.0496\n",
            "Epoch 65/100\n",
            "56/56 [==============================] - 0s 4ms/step - loss: 0.0453 - mae: 0.0453 - val_loss: 0.0496 - val_mae: 0.0496\n",
            "Epoch 66/100\n",
            "56/56 [==============================] - 0s 5ms/step - loss: 0.0453 - mae: 0.0453 - val_loss: 0.0481 - val_mae: 0.0481\n",
            "Epoch 67/100\n",
            "56/56 [==============================] - 0s 4ms/step - loss: 0.0450 - mae: 0.0450 - val_loss: 0.0516 - val_mae: 0.0516\n",
            "Epoch 68/100\n",
            "56/56 [==============================] - 0s 5ms/step - loss: 0.0446 - mae: 0.0446 - val_loss: 0.0472 - val_mae: 0.0472\n",
            "Epoch 69/100\n",
            "56/56 [==============================] - 0s 4ms/step - loss: 0.0446 - mae: 0.0446 - val_loss: 0.0502 - val_mae: 0.0502\n",
            "Epoch 70/100\n",
            "56/56 [==============================] - 0s 4ms/step - loss: 0.0447 - mae: 0.0447 - val_loss: 0.0490 - val_mae: 0.0490\n",
            "Epoch 71/100\n",
            "56/56 [==============================] - 0s 4ms/step - loss: 0.0453 - mae: 0.0453 - val_loss: 0.0458 - val_mae: 0.0458\n",
            "Epoch 72/100\n",
            "56/56 [==============================] - 0s 4ms/step - loss: 0.0447 - mae: 0.0447 - val_loss: 0.0504 - val_mae: 0.0504\n",
            "Epoch 73/100\n",
            "56/56 [==============================] - 0s 4ms/step - loss: 0.0450 - mae: 0.0450 - val_loss: 0.0491 - val_mae: 0.0491\n",
            "Epoch 74/100\n",
            "56/56 [==============================] - 0s 4ms/step - loss: 0.0452 - mae: 0.0452 - val_loss: 0.0496 - val_mae: 0.0496\n",
            "Epoch 75/100\n",
            "56/56 [==============================] - 0s 5ms/step - loss: 0.0443 - mae: 0.0443 - val_loss: 0.0508 - val_mae: 0.0508\n",
            "Epoch 76/100\n",
            "56/56 [==============================] - 0s 5ms/step - loss: 0.0445 - mae: 0.0445 - val_loss: 0.0490 - val_mae: 0.0490\n",
            "Epoch 77/100\n",
            "56/56 [==============================] - 0s 4ms/step - loss: 0.0444 - mae: 0.0444 - val_loss: 0.0494 - val_mae: 0.0494\n",
            "Epoch 78/100\n",
            "56/56 [==============================] - 0s 4ms/step - loss: 0.0442 - mae: 0.0442 - val_loss: 0.0487 - val_mae: 0.0487\n",
            "Epoch 79/100\n",
            "56/56 [==============================] - 0s 4ms/step - loss: 0.0444 - mae: 0.0444 - val_loss: 0.0453 - val_mae: 0.0453\n",
            "Epoch 80/100\n",
            "56/56 [==============================] - 0s 4ms/step - loss: 0.0452 - mae: 0.0452 - val_loss: 0.0459 - val_mae: 0.0459\n",
            "Epoch 81/100\n",
            "56/56 [==============================] - 0s 4ms/step - loss: 0.0448 - mae: 0.0448 - val_loss: 0.0487 - val_mae: 0.0487\n",
            "Epoch 82/100\n",
            "56/56 [==============================] - 0s 4ms/step - loss: 0.0452 - mae: 0.0452 - val_loss: 0.0478 - val_mae: 0.0478\n",
            "Epoch 83/100\n",
            "56/56 [==============================] - 0s 4ms/step - loss: 0.0452 - mae: 0.0452 - val_loss: 0.0490 - val_mae: 0.0490\n",
            "Epoch 84/100\n",
            "56/56 [==============================] - 0s 5ms/step - loss: 0.0445 - mae: 0.0445 - val_loss: 0.0476 - val_mae: 0.0476\n",
            "Epoch 85/100\n",
            "56/56 [==============================] - 0s 5ms/step - loss: 0.0445 - mae: 0.0445 - val_loss: 0.0485 - val_mae: 0.0485\n",
            "Epoch 86/100\n",
            "56/56 [==============================] - 0s 4ms/step - loss: 0.0440 - mae: 0.0440 - val_loss: 0.0491 - val_mae: 0.0491\n",
            "Epoch 87/100\n",
            "56/56 [==============================] - 0s 5ms/step - loss: 0.0446 - mae: 0.0446 - val_loss: 0.0487 - val_mae: 0.0487\n",
            "Epoch 88/100\n",
            "56/56 [==============================] - 0s 4ms/step - loss: 0.0441 - mae: 0.0441 - val_loss: 0.0485 - val_mae: 0.0485\n",
            "Epoch 89/100\n",
            "56/56 [==============================] - 0s 5ms/step - loss: 0.0440 - mae: 0.0440 - val_loss: 0.0471 - val_mae: 0.0471\n",
            "Epoch 90/100\n",
            "56/56 [==============================] - 0s 5ms/step - loss: 0.0444 - mae: 0.0444 - val_loss: 0.0480 - val_mae: 0.0480\n",
            "Epoch 91/100\n",
            "56/56 [==============================] - 0s 5ms/step - loss: 0.0440 - mae: 0.0440 - val_loss: 0.0505 - val_mae: 0.0505\n",
            "Epoch 92/100\n",
            "56/56 [==============================] - 0s 5ms/step - loss: 0.0443 - mae: 0.0443 - val_loss: 0.0495 - val_mae: 0.0495\n",
            "Epoch 93/100\n",
            "56/56 [==============================] - 0s 4ms/step - loss: 0.0447 - mae: 0.0447 - val_loss: 0.0487 - val_mae: 0.0487\n",
            "Epoch 94/100\n",
            "56/56 [==============================] - 0s 4ms/step - loss: 0.0438 - mae: 0.0438 - val_loss: 0.0497 - val_mae: 0.0497\n",
            "Epoch 95/100\n",
            "56/56 [==============================] - 0s 4ms/step - loss: 0.0441 - mae: 0.0441 - val_loss: 0.0509 - val_mae: 0.0509\n",
            "Epoch 96/100\n",
            "56/56 [==============================] - 0s 4ms/step - loss: 0.0440 - mae: 0.0440 - val_loss: 0.0507 - val_mae: 0.0507\n",
            "Epoch 97/100\n",
            "56/56 [==============================] - 0s 4ms/step - loss: 0.0442 - mae: 0.0442 - val_loss: 0.0508 - val_mae: 0.0508\n",
            "Epoch 98/100\n",
            "56/56 [==============================] - 0s 4ms/step - loss: 0.0441 - mae: 0.0441 - val_loss: 0.0468 - val_mae: 0.0468\n",
            "Epoch 99/100\n",
            "56/56 [==============================] - 0s 4ms/step - loss: 0.0441 - mae: 0.0441 - val_loss: 0.0469 - val_mae: 0.0469\n",
            "Epoch 100/100\n",
            "56/56 [==============================] - 0s 4ms/step - loss: 0.0449 - mae: 0.0449 - val_loss: 0.0490 - val_mae: 0.0490\n"
          ]
        },
        {
          "output_type": "display_data",
          "data": {
            "image/png": "[encoded data removed]",
            "text/plain": [
              "<Figure size 432x288 with 1 Axes>"
            ]
          },
          "metadata": {
            "needs_background": "light"
          }
        }
      ]
    },
    {
      "cell_type": "markdown",
      "metadata": {
        "id": "pFZDRh1ZPuMT"
      },
      "source": [
        "## Performance Evaluation"
      ]
    },
    {
      "cell_type": "code",
      "metadata": {
        "id": "8Gpn-fpWPuMU"
      },
      "source": [
        "from sklearn.metrics import mean_absolute_error"
      ],
      "execution_count": null,
      "outputs": []
    },
    {
      "cell_type": "code",
      "metadata": {
        "colab": {
          "base_uri": "https://localhost:8080/"
        },
        "id": "vZMN3wA7PuMU",
        "outputId": "790efdd6-cffe-45df-8824-d23c93efd3c0"
      },
      "source": [
        "mean_absolute_error(y_pred,y_true)"
      ],
      "execution_count": null,
      "outputs": [
        {
          "output_type": "execute_result",
          "data": {
            "text/plain": [
              "0.37695768"
            ]
          },
          "metadata": {},
          "execution_count": 17
        }
      ]
    },
    {
      "cell_type": "markdown",
      "metadata": {
        "id": "_ST4HCccPuMU"
      },
      "source": [
        "LSTM results are compared with multi layer perceptron method"
      ]
    },
    {
      "cell_type": "code",
      "metadata": {
        "id": "gZ3T9yagPuMU"
      },
      "source": [
        "from sklearn.neural_network import MLPRegressor"
      ],
      "execution_count": null,
      "outputs": []
    },
    {
      "cell_type": "code",
      "metadata": {
        "id": "K5MoYupcPuMU"
      },
      "source": [
        "X_train, X_test = X_norm[:train_size], X_norm[train_size:]\n",
        "                \n",
        "y_train = y_norm[:train_size]\n",
        "y_true = y[train_size:]\n",
        "\n",
        "### MLP\n",
        "\n",
        "regressor = MLPRegressor(random_state=0,hidden_layer_sizes=(1,10))\n",
        "regressor.fit(X_train, y_train.ravel())\n",
        "\n",
        "y_pred = regressor.predict(X_test)\n",
        "y_pred = scaler_y.inverse_transform(y_pred.reshape(y_pred.shape[0],1))"
      ],
      "execution_count": null,
      "outputs": []
    },
    {
      "cell_type": "code",
      "metadata": {
        "colab": {
          "base_uri": "https://localhost:8080/"
        },
        "id": "D983rfgTPuMV",
        "outputId": "1cffa68d-06b4-46ce-eeb1-0d4c7008a9fa"
      },
      "source": [
        "mean_absolute_error(y_pred,y_true)"
      ],
      "execution_count": null,
      "outputs": [
        {
          "output_type": "execute_result",
          "data": {
            "text/plain": [
              "0.5375156040616599"
            ]
          },
          "metadata": {},
          "execution_count": 20
        }
      ]
    },
    {
      "cell_type": "code",
      "metadata": {
        "id": "95YmWYOOPuMV"
      },
      "source": [
        ""
      ],
      "execution_count": null,
      "outputs": []
    }
  ]
}