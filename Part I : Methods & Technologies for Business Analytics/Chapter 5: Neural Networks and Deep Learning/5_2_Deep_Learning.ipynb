{
  "nbformat": 4,
  "nbformat_minor": 0,
  "metadata": {
    "colab": {
      "name": "5.2. Deep Learning.ipynb",
      "provenance": [],
      "collapsed_sections": [],
      "include_colab_link": true
    },
    "kernelspec": {
      "name": "python3",
      "display_name": "Python 3"
    },
    "language_info": {
      "name": "python"
    }
  },
  "cells": [
    {
      "cell_type": "markdown",
      "metadata": {
        "id": "view-in-github",
        "colab_type": "text"
      },
      "source": [
        "<a href=\"https://colab.research.google.com/github/ITU-Business-Analytics-Team/Business_Analytics_for_Professionals/blob/main/Part%20I%20%3A%20Methods%20%26%20Technologies%20for%20Business%20Analytics/Chapter%205%3A%20Neural%20Networks%20and%20Deep%20Learning/5_2_Deep_Learning.ipynb\" target=\"_parent\"><img src=\"https://colab.research.google.com/assets/colab-badge.svg\" alt=\"Open In Colab\"/></a>"
      ]
    },
    {
      "cell_type": "markdown",
      "source": [
        "# **Neural Networks and Deep Learning**\n",
        "## Deep Learning"
      ],
      "metadata": {
        "id": "A06x2S-XHSn_"
      }
    },
    {
      "cell_type": "code",
      "metadata": {
        "id": "FeaEoJjatKpU"
      },
      "source": [
        "import numpy as np\n",
        "import pandas as pd\n",
        "import matplotlib.pyplot as plt\n",
        "\n",
        "import tensorflow as tf"
      ],
      "execution_count": null,
      "outputs": []
    },
    {
      "cell_type": "markdown",
      "metadata": {
        "id": "h30z0H-rwkm-"
      },
      "source": [
        "## Problem Definition\n",
        "Garment employees productivty dataset is used for the following deep learning examples. In the dataset attributes given in the below table is used to predict the productivity of the employees measured between 0-1$^1$. \n",
        "\n",
        "$^1$ Imran, Abdullah Al, Md Shamsur Rahim, and Tanvir Ahmed. \"Mining the productivity data of the garment industry.\" International Journal of Business Intelligence and Data Mining 19.3 (2021): 319-342.\n",
        "\n",
        "| Column Name | Description|\n",
        "|-------------|------------|\n",
        "|date |Date in MM-DD-YYYY|\n",
        "|day  |Day of the Week|\n",
        "|quarter   |A portion of the month. A month was divided into four quarters|\n",
        "|department   |Associated department with the instance|\n",
        "| team  |Associated team number with the instance |\n",
        "| no_of_workers  |Number of workers in each team |\n",
        "|  no_of_style_change |Number of changes in the style of a particular product |\n",
        "| targeted_productivity  |Targeted productivity set by the Authority for each team for each day. |\n",
        "| smv  |Standard Minute Value, it is the allocated time for a task |\n",
        "| wip  | Work in progress. Includes the number of unfinished items for products|\n",
        "| over_time  |Represents the amount of overtime by each team in minutes |\n",
        "| incentive  |Represents the amount of financial incentive (in BDT) that enables or motivates a particular course of action. |\n",
        "|idle_time   |The amount of time when the production was interrupted due to several reasons |\n",
        "| idle_men  | The number of workers who were idle due to production interruption|\n",
        "|actual_productivity |The actual % of productivity that was delivered by the workers. It ranges from 0-1.|\n"
      ]
    },
    {
      "cell_type": "code",
      "source": [
        "#Dataset import\n",
        "url='https://drive.google.com/file/d/1AfQ8oJL33zVjTtwbktVKL5RYOv6DNF_t/view?usp=sharing'\n",
        "path = 'https://drive.google.com/uc?export=download&id='+url.split('/')[-2]\n",
        "df = pd.read_csv(path)"
      ],
      "metadata": {
        "id": "-f3rXkUCH_E-"
      },
      "execution_count": null,
      "outputs": []
    },
    {
      "cell_type": "code",
      "metadata": {
        "colab": {
          "base_uri": "https://localhost:8080/",
          "height": 206
        },
        "id": "rQ05XFLkv_0H",
        "outputId": "a563d367-2315-4a93-f817-d250551624c1"
      },
      "source": [
        "df.head()"
      ],
      "execution_count": null,
      "outputs": [
        {
          "output_type": "execute_result",
          "data": {
            "text/plain": [
              "       date   quarter  department       day  team  targeted_productivity  \\\n",
              "0  1/1/2015  Quarter1      sweing  Thursday     8                   0.80   \n",
              "1  1/1/2015  Quarter1  finishing   Thursday     1                   0.75   \n",
              "2  1/1/2015  Quarter1      sweing  Thursday    11                   0.80   \n",
              "3  1/1/2015  Quarter1      sweing  Thursday    12                   0.80   \n",
              "4  1/1/2015  Quarter1      sweing  Thursday     6                   0.80   \n",
              "\n",
              "     smv     wip  over_time  incentive  idle_time  idle_men  \\\n",
              "0  26.16  1108.0       7080         98        0.0         0   \n",
              "1   3.94     NaN        960          0        0.0         0   \n",
              "2  11.41   968.0       3660         50        0.0         0   \n",
              "3  11.41   968.0       3660         50        0.0         0   \n",
              "4  25.90  1170.0       1920         50        0.0         0   \n",
              "\n",
              "   no_of_style_change  no_of_workers  actual_productivity  \n",
              "0                   0           59.0             0.940725  \n",
              "1                   0            8.0             0.886500  \n",
              "2                   0           30.5             0.800570  \n",
              "3                   0           30.5             0.800570  \n",
              "4                   0           56.0             0.800382  "
            ],
            "text/html": [
              "\n",
              "  <div id=\"df-bd95c0ef-bb40-4893-87fe-3a17d571ada9\">\n",
              "    <div class=\"colab-df-container\">\n",
              "      <div>\n",
              "<style scoped>\n",
              "    .dataframe tbody tr th:only-of-type {\n",
              "        vertical-align: middle;\n",
              "    }\n",
              "\n",
              "    .dataframe tbody tr th {\n",
              "        vertical-align: top;\n",
              "    }\n",
              "\n",
              "    .dataframe thead th {\n",
              "        text-align: right;\n",
              "    }\n",
              "</style>\n",
              "<table border=\"1\" class=\"dataframe\">\n",
              "  <thead>\n",
              "    <tr style=\"text-align: right;\">\n",
              "      <th></th>\n",
              "      <th>date</th>\n",
              "      <th>quarter</th>\n",
              "      <th>department</th>\n",
              "      <th>day</th>\n",
              "      <th>team</th>\n",
              "      <th>targeted_productivity</th>\n",
              "      <th>smv</th>\n",
              "      <th>wip</th>\n",
              "      <th>over_time</th>\n",
              "      <th>incentive</th>\n",
              "      <th>idle_time</th>\n",
              "      <th>idle_men</th>\n",
              "      <th>no_of_style_change</th>\n",
              "      <th>no_of_workers</th>\n",
              "      <th>actual_productivity</th>\n",
              "    </tr>\n",
              "  </thead>\n",
              "  <tbody>\n",
              "    <tr>\n",
              "      <th>0</th>\n",
              "      <td>1/1/2015</td>\n",
              "      <td>Quarter1</td>\n",
              "      <td>sweing</td>\n",
              "      <td>Thursday</td>\n",
              "      <td>8</td>\n",
              "      <td>0.80</td>\n",
              "      <td>26.16</td>\n",
              "      <td>1108.0</td>\n",
              "      <td>7080</td>\n",
              "      <td>98</td>\n",
              "      <td>0.0</td>\n",
              "      <td>0</td>\n",
              "      <td>0</td>\n",
              "      <td>59.0</td>\n",
              "      <td>0.940725</td>\n",
              "    </tr>\n",
              "    <tr>\n",
              "      <th>1</th>\n",
              "      <td>1/1/2015</td>\n",
              "      <td>Quarter1</td>\n",
              "      <td>finishing</td>\n",
              "      <td>Thursday</td>\n",
              "      <td>1</td>\n",
              "      <td>0.75</td>\n",
              "      <td>3.94</td>\n",
              "      <td>NaN</td>\n",
              "      <td>960</td>\n",
              "      <td>0</td>\n",
              "      <td>0.0</td>\n",
              "      <td>0</td>\n",
              "      <td>0</td>\n",
              "      <td>8.0</td>\n",
              "      <td>0.886500</td>\n",
              "    </tr>\n",
              "    <tr>\n",
              "      <th>2</th>\n",
              "      <td>1/1/2015</td>\n",
              "      <td>Quarter1</td>\n",
              "      <td>sweing</td>\n",
              "      <td>Thursday</td>\n",
              "      <td>11</td>\n",
              "      <td>0.80</td>\n",
              "      <td>11.41</td>\n",
              "      <td>968.0</td>\n",
              "      <td>3660</td>\n",
              "      <td>50</td>\n",
              "      <td>0.0</td>\n",
              "      <td>0</td>\n",
              "      <td>0</td>\n",
              "      <td>30.5</td>\n",
              "      <td>0.800570</td>\n",
              "    </tr>\n",
              "    <tr>\n",
              "      <th>3</th>\n",
              "      <td>1/1/2015</td>\n",
              "      <td>Quarter1</td>\n",
              "      <td>sweing</td>\n",
              "      <td>Thursday</td>\n",
              "      <td>12</td>\n",
              "      <td>0.80</td>\n",
              "      <td>11.41</td>\n",
              "      <td>968.0</td>\n",
              "      <td>3660</td>\n",
              "      <td>50</td>\n",
              "      <td>0.0</td>\n",
              "      <td>0</td>\n",
              "      <td>0</td>\n",
              "      <td>30.5</td>\n",
              "      <td>0.800570</td>\n",
              "    </tr>\n",
              "    <tr>\n",
              "      <th>4</th>\n",
              "      <td>1/1/2015</td>\n",
              "      <td>Quarter1</td>\n",
              "      <td>sweing</td>\n",
              "      <td>Thursday</td>\n",
              "      <td>6</td>\n",
              "      <td>0.80</td>\n",
              "      <td>25.90</td>\n",
              "      <td>1170.0</td>\n",
              "      <td>1920</td>\n",
              "      <td>50</td>\n",
              "      <td>0.0</td>\n",
              "      <td>0</td>\n",
              "      <td>0</td>\n",
              "      <td>56.0</td>\n",
              "      <td>0.800382</td>\n",
              "    </tr>\n",
              "  </tbody>\n",
              "</table>\n",
              "</div>\n",
              "      <button class=\"colab-df-convert\" onclick=\"convertToInteractive('df-bd95c0ef-bb40-4893-87fe-3a17d571ada9')\"\n",
              "              title=\"Convert this dataframe to an interactive table.\"\n",
              "              style=\"display:none;\">\n",
              "        \n",
              "  <svg xmlns=\"http://www.w3.org/2000/svg\" height=\"24px\"viewBox=\"0 0 24 24\"\n",
              "       width=\"24px\">\n",
              "    <path d=\"M0 0h24v24H0V0z\" fill=\"none\"/>\n",
              "    <path d=\"M18.56 5.44l.94 2.06.94-2.06 2.06-.94-2.06-.94-.94-2.06-.94 2.06-2.06.94zm-11 1L8.5 8.5l.94-2.06 2.06-.94-2.06-.94L8.5 2.5l-.94 2.06-2.06.94zm10 10l.94 2.06.94-2.06 2.06-.94-2.06-.94-.94-2.06-.94 2.06-2.06.94z\"/><path d=\"M17.41 7.96l-1.37-1.37c-.4-.4-.92-.59-1.43-.59-.52 0-1.04.2-1.43.59L10.3 9.45l-7.72 7.72c-.78.78-.78 2.05 0 2.83L4 21.41c.39.39.9.59 1.41.59.51 0 1.02-.2 1.41-.59l7.78-7.78 2.81-2.81c.8-.78.8-2.07 0-2.86zM5.41 20L4 18.59l7.72-7.72 1.47 1.35L5.41 20z\"/>\n",
              "  </svg>\n",
              "      </button>\n",
              "      \n",
              "  <style>\n",
              "    .colab-df-container {\n",
              "      display:flex;\n",
              "      flex-wrap:wrap;\n",
              "      gap: 12px;\n",
              "    }\n",
              "\n",
              "    .colab-df-convert {\n",
              "      background-color: #E8F0FE;\n",
              "      border: none;\n",
              "      border-radius: 50%;\n",
              "      cursor: pointer;\n",
              "      display: none;\n",
              "      fill: #1967D2;\n",
              "      height: 32px;\n",
              "      padding: 0 0 0 0;\n",
              "      width: 32px;\n",
              "    }\n",
              "\n",
              "    .colab-df-convert:hover {\n",
              "      background-color: #E2EBFA;\n",
              "      box-shadow: 0px 1px 2px rgba(60, 64, 67, 0.3), 0px 1px 3px 1px rgba(60, 64, 67, 0.15);\n",
              "      fill: #174EA6;\n",
              "    }\n",
              "\n",
              "    [theme=dark] .colab-df-convert {\n",
              "      background-color: #3B4455;\n",
              "      fill: #D2E3FC;\n",
              "    }\n",
              "\n",
              "    [theme=dark] .colab-df-convert:hover {\n",
              "      background-color: #434B5C;\n",
              "      box-shadow: 0px 1px 3px 1px rgba(0, 0, 0, 0.15);\n",
              "      filter: drop-shadow(0px 1px 2px rgba(0, 0, 0, 0.3));\n",
              "      fill: #FFFFFF;\n",
              "    }\n",
              "  </style>\n",
              "\n",
              "      <script>\n",
              "        const buttonEl =\n",
              "          document.querySelector('#df-bd95c0ef-bb40-4893-87fe-3a17d571ada9 button.colab-df-convert');\n",
              "        buttonEl.style.display =\n",
              "          google.colab.kernel.accessAllowed ? 'block' : 'none';\n",
              "\n",
              "        async function convertToInteractive(key) {\n",
              "          const element = document.querySelector('#df-bd95c0ef-bb40-4893-87fe-3a17d571ada9');\n",
              "          const dataTable =\n",
              "            await google.colab.kernel.invokeFunction('convertToInteractive',\n",
              "                                                     [key], {});\n",
              "          if (!dataTable) return;\n",
              "\n",
              "          const docLinkHtml = 'Like what you see? Visit the ' +\n",
              "            '<a target=\"_blank\" href=https://colab.research.google.com/notebooks/data_table.ipynb>data table notebook</a>'\n",
              "            + ' to learn more about interactive tables.';\n",
              "          element.innerHTML = '';\n",
              "          dataTable['output_type'] = 'display_data';\n",
              "          await google.colab.output.renderOutput(dataTable, element);\n",
              "          const docLink = document.createElement('div');\n",
              "          docLink.innerHTML = docLinkHtml;\n",
              "          element.appendChild(docLink);\n",
              "        }\n",
              "      </script>\n",
              "    </div>\n",
              "  </div>\n",
              "  "
            ]
          },
          "metadata": {},
          "execution_count": 3
        }
      ]
    },
    {
      "cell_type": "markdown",
      "metadata": {
        "id": "FmFUp3ux2ym0"
      },
      "source": [
        "First lets preprocess the data by converting `team` variable into categorical data, dropping the `date` column, removing the rows with NAs and converting categorical variables into numeric ones."
      ]
    },
    {
      "cell_type": "code",
      "metadata": {
        "id": "W1x5ah2T3A4p"
      },
      "source": [
        "df[\"team\"] = df[\"team\"].astype(\"str\")\n",
        "df.drop(\"date\", axis = 1, inplace=True)\n",
        "df.dropna(inplace=True)\n",
        "df = pd.get_dummies(df, drop_first = True)"
      ],
      "execution_count": null,
      "outputs": []
    },
    {
      "cell_type": "markdown",
      "metadata": {
        "id": "T59tOjDL5kA7"
      },
      "source": [
        "Next specify the inputs and outputs, split the data into training and testing sets and normalize the data"
      ]
    },
    {
      "cell_type": "code",
      "metadata": {
        "colab": {
          "base_uri": "https://localhost:8080/"
        },
        "id": "5CDcIwWjv4hH",
        "outputId": "f302747f-ca74-4bc5-acd2-c7765e77d361"
      },
      "source": [
        "from sklearn.model_selection import train_test_split\n",
        "\n",
        "X = df.drop(\"actual_productivity\", axis = 1)\n",
        "y = df[\"actual_productivity\"]\n",
        "\n",
        "X_train,X_test,y_train,y_test = train_test_split(X,y, test_size = 0.3, random_state = 42)\n",
        "\n",
        "mu = X_train.mean(axis = 0)\n",
        "sigma = X_train.std(axis = 0)\n",
        "\n",
        "\n",
        "X_train = (X_train - mu) / sigma\n",
        "X_test = (X_test - mu) / sigma\n",
        "\n",
        "print(X_train.shape)"
      ],
      "execution_count": null,
      "outputs": [
        {
          "output_type": "stream",
          "name": "stdout",
          "text": [
            "(483, 29)\n"
          ]
        }
      ]
    },
    {
      "cell_type": "markdown",
      "metadata": {
        "id": "-0vuOstc6hab"
      },
      "source": [
        " # Deep learning model for regression\n",
        "Prepare the deep learning model for training, since we are doing regression model we have used one neuron in the output layer with linear activation function defined as:\n",
        "$$f(x) = x$$"
      ]
    },
    {
      "cell_type": "code",
      "metadata": {
        "colab": {
          "base_uri": "https://localhost:8080/"
        },
        "id": "K_m8lMee6dxv",
        "outputId": "9fc81e4f-6ad4-428e-f6c1-fc2ced9c77f5"
      },
      "source": [
        "mdl = tf.keras.Sequential()\n",
        "\n",
        "mdl.add(tf.keras.layers.Dense(64, activation=\"relu\", input_shape = (X_train.shape[1],)))\n",
        "mdl.add(tf.keras.layers.Dense(32, activation=\"relu\"))\n",
        "mdl.add(tf.keras.layers.Dense(16, activation=\"relu\"))\n",
        "mdl.add(tf.keras.layers.Dense(1,activation=\"linear\"))\n",
        "mdl.summary()"
      ],
      "execution_count": null,
      "outputs": [
        {
          "output_type": "stream",
          "name": "stdout",
          "text": [
            "Model: \"sequential\"\n",
            "_________________________________________________________________\n",
            " Layer (type)                Output Shape              Param #   \n",
            "=================================================================\n",
            " dense (Dense)               (None, 64)                1920      \n",
            "                                                                 \n",
            " dense_1 (Dense)             (None, 32)                2080      \n",
            "                                                                 \n",
            " dense_2 (Dense)             (None, 16)                528       \n",
            "                                                                 \n",
            " dense_3 (Dense)             (None, 1)                 17        \n",
            "                                                                 \n",
            "=================================================================\n",
            "Total params: 4,545\n",
            "Trainable params: 4,545\n",
            "Non-trainable params: 0\n",
            "_________________________________________________________________\n"
          ]
        }
      ]
    },
    {
      "cell_type": "markdown",
      "metadata": {
        "id": "0WF3q2gt8TOt"
      },
      "source": [
        "For regression models we genereally use `mean squared error(mse)` metric as loss function.\n",
        "$$mse = \\frac{1}{n}\\sum_{i=1}^n(y-\\hat{y})^2$$\n",
        "\n",
        "Also we are going to monitor `mean absolute percenate error(mape)` value for every iteration\n",
        "\n",
        "$$mape = \\frac{1}{n}\\sum_{i=1}^n\\frac{|y-\\hat{y}|}{|y|}*100$$\n",
        "\n",
        "\n"
      ]
    },
    {
      "cell_type": "code",
      "metadata": {
        "colab": {
          "base_uri": "https://localhost:8080/"
        },
        "id": "CXs_zcPh66Cj",
        "outputId": "34331de1-e51c-4283-e44b-04d131d26c4c"
      },
      "source": [
        "mdl.compile(optimizer=\"adam\", loss = \"mse\", metrics=[\"mape\"])\n",
        "mdl.fit(X_train,y_train, epochs=10)"
      ],
      "execution_count": null,
      "outputs": [
        {
          "output_type": "stream",
          "name": "stdout",
          "text": [
            "Epoch 1/10\n",
            "16/16 [==============================] - 1s 3ms/step - loss: 0.5119 - mape: 86.5677\n",
            "Epoch 2/10\n",
            "16/16 [==============================] - 0s 2ms/step - loss: 0.1108 - mape: 38.7709\n",
            "Epoch 3/10\n",
            "16/16 [==============================] - 0s 3ms/step - loss: 0.0531 - mape: 27.3886\n",
            "Epoch 4/10\n",
            "16/16 [==============================] - 0s 2ms/step - loss: 0.0357 - mape: 22.3120\n",
            "Epoch 5/10\n",
            "16/16 [==============================] - 0s 3ms/step - loss: 0.0272 - mape: 19.6524\n",
            "Epoch 6/10\n",
            "16/16 [==============================] - 0s 3ms/step - loss: 0.0227 - mape: 18.2906\n",
            "Epoch 7/10\n",
            "16/16 [==============================] - 0s 3ms/step - loss: 0.0189 - mape: 16.7915\n",
            "Epoch 8/10\n",
            "16/16 [==============================] - 0s 4ms/step - loss: 0.0165 - mape: 15.9180\n",
            "Epoch 9/10\n",
            "16/16 [==============================] - 0s 3ms/step - loss: 0.0138 - mape: 14.4233\n",
            "Epoch 10/10\n",
            "16/16 [==============================] - 0s 2ms/step - loss: 0.0120 - mape: 13.3388\n"
          ]
        },
        {
          "output_type": "execute_result",
          "data": {
            "text/plain": [
              "<keras.callbacks.History at 0x7efcd4adb490>"
            ]
          },
          "metadata": {},
          "execution_count": 7
        }
      ]
    },
    {
      "cell_type": "markdown",
      "metadata": {
        "id": "hTPJH3an7qHh"
      },
      "source": [
        "## Deep Learning for Binomial Classification\n",
        "Now we would like to setup a deep learning model for classification. For that purpose we are going to label employees that are over 70% productivity as 1 and others as 0."
      ]
    },
    {
      "cell_type": "code",
      "metadata": {
        "id": "YE-fa7C87pba"
      },
      "source": [
        "X = df.drop(\"actual_productivity\", axis = 1)\n",
        "y = (df[\"actual_productivity\"] > 0.7).astype(\"int\")\n",
        "\n",
        "X_train,X_test,y_train,y_test = train_test_split(X,y, test_size = 0.3, random_state = 42)\n",
        "\n",
        "mu = X_train.mean(axis = 0)\n",
        "sigma = X_train.std(axis = 0)\n",
        "\n",
        "\n",
        "X_train = (X_train - mu) / sigma\n",
        "X_test = (X_test - mu) / sigma\n"
      ],
      "execution_count": null,
      "outputs": []
    },
    {
      "cell_type": "markdown",
      "metadata": {
        "id": "dZEnECnA8ct0"
      },
      "source": [
        "For binary classification we need to set the activation function in the last layer as `sigmoid` which is defined as\n",
        "\n",
        "$$f(x) = \\frac{1}{1 + e^{-x}}$$"
      ]
    },
    {
      "cell_type": "code",
      "metadata": {
        "colab": {
          "base_uri": "https://localhost:8080/"
        },
        "id": "2cq7b_5W8Z6o",
        "outputId": "81308ecc-13ff-44bd-8871-0813d435c06f"
      },
      "source": [
        "mdl = tf.keras.Sequential()\n",
        "\n",
        "mdl.add(tf.keras.layers.Dense(64, activation=\"relu\", input_shape = (X_train.shape[1],)))\n",
        "mdl.add(tf.keras.layers.Dense(32, activation=\"relu\"))\n",
        "mdl.add(tf.keras.layers.Dense(16, activation=\"relu\"))\n",
        "mdl.add(tf.keras.layers.Dense(1,activation=\"sigmoid\"))\n",
        "mdl.summary()"
      ],
      "execution_count": null,
      "outputs": [
        {
          "output_type": "stream",
          "name": "stdout",
          "text": [
            "Model: \"sequential_1\"\n",
            "_________________________________________________________________\n",
            " Layer (type)                Output Shape              Param #   \n",
            "=================================================================\n",
            " dense_4 (Dense)             (None, 64)                1920      \n",
            "                                                                 \n",
            " dense_5 (Dense)             (None, 32)                2080      \n",
            "                                                                 \n",
            " dense_6 (Dense)             (None, 16)                528       \n",
            "                                                                 \n",
            " dense_7 (Dense)             (None, 1)                 17        \n",
            "                                                                 \n",
            "=================================================================\n",
            "Total params: 4,545\n",
            "Trainable params: 4,545\n",
            "Non-trainable params: 0\n",
            "_________________________________________________________________\n"
          ]
        }
      ]
    },
    {
      "cell_type": "markdown",
      "metadata": {
        "id": "BXqZl0OL8sQl"
      },
      "source": [
        "Loss function should be binary crossentorpy\n",
        "$$L = \\frac{1}{n}\\sum_{i=1}^ny_ilog(\\hat{p}_i)+(1-y_i)log(1-\\hat{p}_i)$$\n",
        " and we can monitor the metric accuracy\n",
        "$$accuracy = \\frac{number\\;of\\; correct\\; labeled}{number\\; observed}$$"
      ]
    },
    {
      "cell_type": "code",
      "metadata": {
        "colab": {
          "base_uri": "https://localhost:8080/"
        },
        "id": "0GawXYhv8bs7",
        "outputId": "51041f94-68a5-4bd3-ebf1-42f48eb37a0e"
      },
      "source": [
        "mdl.compile(optimizer=\"adam\", loss = \"binary_crossentropy\", metrics=[\"accuracy\"])\n",
        "mdl.fit(X_train,y_train, epochs=10)"
      ],
      "execution_count": null,
      "outputs": [
        {
          "output_type": "stream",
          "name": "stdout",
          "text": [
            "Epoch 1/10\n",
            "16/16 [==============================] - 1s 3ms/step - loss: 0.6636 - accuracy: 0.6149\n",
            "Epoch 2/10\n",
            "16/16 [==============================] - 0s 3ms/step - loss: 0.5474 - accuracy: 0.7371\n",
            "Epoch 3/10\n",
            "16/16 [==============================] - 0s 4ms/step - loss: 0.4649 - accuracy: 0.7805\n",
            "Epoch 4/10\n",
            "16/16 [==============================] - 0s 4ms/step - loss: 0.3880 - accuracy: 0.8199\n",
            "Epoch 5/10\n",
            "16/16 [==============================] - 0s 3ms/step - loss: 0.3186 - accuracy: 0.8737\n",
            "Epoch 6/10\n",
            "16/16 [==============================] - 0s 2ms/step - loss: 0.2597 - accuracy: 0.9027\n",
            "Epoch 7/10\n",
            "16/16 [==============================] - 0s 3ms/step - loss: 0.2199 - accuracy: 0.9213\n",
            "Epoch 8/10\n",
            "16/16 [==============================] - 0s 3ms/step - loss: 0.1917 - accuracy: 0.9296\n",
            "Epoch 9/10\n",
            "16/16 [==============================] - 0s 3ms/step - loss: 0.1707 - accuracy: 0.9358\n",
            "Epoch 10/10\n",
            "16/16 [==============================] - 0s 3ms/step - loss: 0.1533 - accuracy: 0.9358\n"
          ]
        },
        {
          "output_type": "execute_result",
          "data": {
            "text/plain": [
              "<keras.callbacks.History at 0x7efcd3220e10>"
            ]
          },
          "metadata": {},
          "execution_count": 10
        }
      ]
    },
    {
      "cell_type": "markdown",
      "metadata": {
        "id": "NT2g30ISDKHC"
      },
      "source": [
        "# Deep Learning for Multinomial Classification\n",
        "\n",
        "Using `k means clustering` function in `sklearn` library we are going to divide the output values into three categories."
      ]
    },
    {
      "cell_type": "code",
      "metadata": {
        "id": "U3zDGLGLC6La"
      },
      "source": [
        "from sklearn.cluster import KMeans\n",
        "cluster = KMeans(3).fit(df[\"actual_productivity\"].values.reshape(-1,1))\n",
        "\n",
        "\n",
        "X = df.drop(\"actual_productivity\", axis = 1)\n",
        "y = cluster.predict(df[\"actual_productivity\"].values.reshape(-1,1))\n",
        "\n",
        "X_train,X_test,y_train,y_test = train_test_split(X,y, test_size = 0.3, random_state = 42)\n",
        "\n",
        "mu = X_train.mean(axis = 0)\n",
        "sigma = X_train.std(axis = 0)\n",
        "\n",
        "\n",
        "X_train = (X_train - mu) / sigma\n",
        "X_test = (X_test - mu) / sigma"
      ],
      "execution_count": null,
      "outputs": []
    },
    {
      "cell_type": "markdown",
      "metadata": {
        "id": "KgHwtQfgJff2"
      },
      "source": [
        "For multinomial classification; you need same number of neurons in the output layer as the number of categories in your target variable. Activation function should be selected as `softmax`.\n",
        "\n",
        "$$softmax(x) = \\frac{e^{-x_i}}{\\sum e^{-x_i}}$$"
      ]
    },
    {
      "cell_type": "code",
      "metadata": {
        "colab": {
          "base_uri": "https://localhost:8080/"
        },
        "id": "MF07ZSclHF1E",
        "outputId": "86140ab6-66c6-4ee9-9d2a-21c07c6fc3fd"
      },
      "source": [
        "mdl = tf.keras.Sequential()\n",
        "\n",
        "mdl.add(tf.keras.layers.Dense(64, activation=\"relu\", input_shape = (X_train.shape[1],)))\n",
        "mdl.add(tf.keras.layers.Dense(32, activation=\"relu\"))\n",
        "mdl.add(tf.keras.layers.Dense(16, activation=\"relu\"))\n",
        "mdl.add(tf.keras.layers.Dense(3,activation=\"softmax\"))\n",
        "mdl.summary()"
      ],
      "execution_count": null,
      "outputs": [
        {
          "output_type": "stream",
          "name": "stdout",
          "text": [
            "Model: \"sequential_2\"\n",
            "_________________________________________________________________\n",
            " Layer (type)                Output Shape              Param #   \n",
            "=================================================================\n",
            " dense_8 (Dense)             (None, 64)                1920      \n",
            "                                                                 \n",
            " dense_9 (Dense)             (None, 32)                2080      \n",
            "                                                                 \n",
            " dense_10 (Dense)            (None, 16)                528       \n",
            "                                                                 \n",
            " dense_11 (Dense)            (None, 3)                 51        \n",
            "                                                                 \n",
            "=================================================================\n",
            "Total params: 4,579\n",
            "Trainable params: 4,579\n",
            "Non-trainable params: 0\n",
            "_________________________________________________________________\n"
          ]
        }
      ]
    },
    {
      "cell_type": "markdown",
      "metadata": {
        "id": "7WZ5x2fKKQi_"
      },
      "source": [
        "If your target variables is one hot encoded you can use `categorical_crossentropy`, if it is label encoded you can use `sparse_categorical_crossentropy` as your loss function"
      ]
    },
    {
      "cell_type": "code",
      "metadata": {
        "colab": {
          "base_uri": "https://localhost:8080/"
        },
        "id": "FHkUTlVGKOr7",
        "outputId": "ef950627-6703-475d-ce00-28c65042f0dc"
      },
      "source": [
        "mdl.compile(optimizer=\"adam\", loss = \"sparse_categorical_crossentropy\", metrics=[\"accuracy\"])\n",
        "mdl.fit(X_train,y_train, epochs=10)"
      ],
      "execution_count": null,
      "outputs": [
        {
          "output_type": "stream",
          "name": "stdout",
          "text": [
            "Epoch 1/10\n",
            "16/16 [==============================] - 1s 2ms/step - loss: 1.0186 - accuracy: 0.4638\n",
            "Epoch 2/10\n",
            "16/16 [==============================] - 0s 2ms/step - loss: 0.8976 - accuracy: 0.6253\n",
            "Epoch 3/10\n",
            "16/16 [==============================] - 0s 3ms/step - loss: 0.8108 - accuracy: 0.6832\n",
            "Epoch 4/10\n",
            "16/16 [==============================] - 0s 4ms/step - loss: 0.7297 - accuracy: 0.6977\n",
            "Epoch 5/10\n",
            "16/16 [==============================] - 0s 2ms/step - loss: 0.6483 - accuracy: 0.7391\n",
            "Epoch 6/10\n",
            "16/16 [==============================] - 0s 4ms/step - loss: 0.5816 - accuracy: 0.7681\n",
            "Epoch 7/10\n",
            "16/16 [==============================] - 0s 2ms/step - loss: 0.5181 - accuracy: 0.7867\n",
            "Epoch 8/10\n",
            "16/16 [==============================] - 0s 3ms/step - loss: 0.4650 - accuracy: 0.8302\n",
            "Epoch 9/10\n",
            "16/16 [==============================] - 0s 7ms/step - loss: 0.4170 - accuracy: 0.8489\n",
            "Epoch 10/10\n",
            "16/16 [==============================] - 0s 3ms/step - loss: 0.3740 - accuracy: 0.8716\n"
          ]
        },
        {
          "output_type": "execute_result",
          "data": {
            "text/plain": [
              "<keras.callbacks.History at 0x7efcd966d8d0>"
            ]
          },
          "metadata": {},
          "execution_count": 13
        }
      ]
    }
  ]
}