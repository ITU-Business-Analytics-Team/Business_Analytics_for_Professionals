{
  "nbformat": 4,
  "nbformat_minor": 0,
  "metadata": {
    "colab": {
      "name": "5.2. Deep Learning.ipynb",
      "provenance": [],
      "collapsed_sections": [],
      "include_colab_link": true
    },
    "kernelspec": {
      "name": "python3",
      "display_name": "Python 3"
    },
    "language_info": {
      "name": "python"
    }
  },
  "cells": [
    {
      "cell_type": "markdown",
      "metadata": {
        "id": "view-in-github",
        "colab_type": "text"
      },
      "source": [
        "<a href=\"https://colab.research.google.com/github/ITU-Business-Analytics-Team/Business_Analytics_for_Professionals/blob/main/Part%20I%20%3A%20Methods%20%26%20Technologies%20for%20Business%20Analytics/Chapter%205%3A%20Neural%20Networks%20and%20Deep%20Learning/5_2_Deep_Learning.ipynb\" target=\"_parent\"><img src=\"https://colab.research.google.com/assets/colab-badge.svg\" alt=\"Open In Colab\"/></a>"
      ]
    },
    {
      "cell_type": "markdown",
      "source": [
        "# **Neural Networks and Deep Learning**\n",
        "## Deep Learning"
      ],
      "metadata": {
        "id": "A06x2S-XHSn_"
      }
    },
    {
      "cell_type": "code",
      "metadata": {
        "id": "FeaEoJjatKpU"
      },
      "source": [
        "import numpy as np\n",
        "import pandas as pd\n",
        "import matplotlib.pyplot as plt\n",
        "\n",
        "import tensorflow as tf"
      ],
      "execution_count": null,
      "outputs": []
    },
    {
      "cell_type": "markdown",
      "metadata": {
        "id": "h30z0H-rwkm-"
      },
      "source": [
        "## Problem Definition\n",
        "Garment employees productivty dataset is used for the following deep learning examples. In the dataset attributes given in the below table is used to predict the productivity of the employees measured between 0-1$^1$. \n",
        "\n",
        "$^1$ Imran, Abdullah Al, Md Shamsur Rahim, and Tanvir Ahmed. \"Mining the productivity data of the garment industry.\" International Journal of Business Intelligence and Data Mining 19.3 (2021): 319-342.\n",
        "\n",
        "| Column Name | Description|\n",
        "|-------------|------------|\n",
        "|date |Date in MM-DD-YYYY|\n",
        "|day  |Day of the Week|\n",
        "|quarter   |A portion of the month. A month was divided into four quarters|\n",
        "|department   |Associated department with the instance|\n",
        "| team  |Associated team number with the instance |\n",
        "| no_of_workers  |Number of workers in each team |\n",
        "|  no_of_style_change |Number of changes in the style of a particular product |\n",
        "| targeted_productivity  |Targeted productivity set by the Authority for each team for each day. |\n",
        "| smv  |Standard Minute Value, it is the allocated time for a task |\n",
        "| wip  | Work in progress. Includes the number of unfinished items for products|\n",
        "| over_time  |Represents the amount of overtime by each team in minutes |\n",
        "| incentive  |Represents the amount of financial incentive (in BDT) that enables or motivates a particular course of action. |\n",
        "|idle_time   |The amount of time when the production was interrupted due to several reasons |\n",
        "| idle_men  | The number of workers who were idle due to production interruption|\n",
        "|actual_productivity |The actual % of productivity that was delivered by the workers. It ranges from 0-1.|\n"
      ]
    },
    {
      "cell_type": "code",
      "metadata": {
        "colab": {
          "base_uri": "https://localhost:8080/",
          "height": 226
        },
        "id": "rQ05XFLkv_0H",
        "outputId": "59d38cab-72ad-4ee0-e5ed-183593f1e154"
      },
      "source": [
        "df = pd.read_csv(\"garments_worker_productivity.csv\")\n",
        "df.head()"
      ],
      "execution_count": null,
      "outputs": [
        {
          "output_type": "execute_result",
          "data": {
            "text/html": [
              "<div>\n",
              "<style scoped>\n",
              "    .dataframe tbody tr th:only-of-type {\n",
              "        vertical-align: middle;\n",
              "    }\n",
              "\n",
              "    .dataframe tbody tr th {\n",
              "        vertical-align: top;\n",
              "    }\n",
              "\n",
              "    .dataframe thead th {\n",
              "        text-align: right;\n",
              "    }\n",
              "</style>\n",
              "<table border=\"1\" class=\"dataframe\">\n",
              "  <thead>\n",
              "    <tr style=\"text-align: right;\">\n",
              "      <th></th>\n",
              "      <th>date</th>\n",
              "      <th>quarter</th>\n",
              "      <th>department</th>\n",
              "      <th>day</th>\n",
              "      <th>team</th>\n",
              "      <th>targeted_productivity</th>\n",
              "      <th>smv</th>\n",
              "      <th>wip</th>\n",
              "      <th>over_time</th>\n",
              "      <th>incentive</th>\n",
              "      <th>idle_time</th>\n",
              "      <th>idle_men</th>\n",
              "      <th>no_of_style_change</th>\n",
              "      <th>no_of_workers</th>\n",
              "      <th>actual_productivity</th>\n",
              "    </tr>\n",
              "  </thead>\n",
              "  <tbody>\n",
              "    <tr>\n",
              "      <th>0</th>\n",
              "      <td>1/1/2015</td>\n",
              "      <td>Quarter1</td>\n",
              "      <td>sweing</td>\n",
              "      <td>Thursday</td>\n",
              "      <td>8</td>\n",
              "      <td>0.80</td>\n",
              "      <td>26.16</td>\n",
              "      <td>1108.0</td>\n",
              "      <td>7080</td>\n",
              "      <td>98</td>\n",
              "      <td>0.0</td>\n",
              "      <td>0</td>\n",
              "      <td>0</td>\n",
              "      <td>59.0</td>\n",
              "      <td>0.940725</td>\n",
              "    </tr>\n",
              "    <tr>\n",
              "      <th>1</th>\n",
              "      <td>1/1/2015</td>\n",
              "      <td>Quarter1</td>\n",
              "      <td>finishing</td>\n",
              "      <td>Thursday</td>\n",
              "      <td>1</td>\n",
              "      <td>0.75</td>\n",
              "      <td>3.94</td>\n",
              "      <td>NaN</td>\n",
              "      <td>960</td>\n",
              "      <td>0</td>\n",
              "      <td>0.0</td>\n",
              "      <td>0</td>\n",
              "      <td>0</td>\n",
              "      <td>8.0</td>\n",
              "      <td>0.886500</td>\n",
              "    </tr>\n",
              "    <tr>\n",
              "      <th>2</th>\n",
              "      <td>1/1/2015</td>\n",
              "      <td>Quarter1</td>\n",
              "      <td>sweing</td>\n",
              "      <td>Thursday</td>\n",
              "      <td>11</td>\n",
              "      <td>0.80</td>\n",
              "      <td>11.41</td>\n",
              "      <td>968.0</td>\n",
              "      <td>3660</td>\n",
              "      <td>50</td>\n",
              "      <td>0.0</td>\n",
              "      <td>0</td>\n",
              "      <td>0</td>\n",
              "      <td>30.5</td>\n",
              "      <td>0.800570</td>\n",
              "    </tr>\n",
              "    <tr>\n",
              "      <th>3</th>\n",
              "      <td>1/1/2015</td>\n",
              "      <td>Quarter1</td>\n",
              "      <td>sweing</td>\n",
              "      <td>Thursday</td>\n",
              "      <td>12</td>\n",
              "      <td>0.80</td>\n",
              "      <td>11.41</td>\n",
              "      <td>968.0</td>\n",
              "      <td>3660</td>\n",
              "      <td>50</td>\n",
              "      <td>0.0</td>\n",
              "      <td>0</td>\n",
              "      <td>0</td>\n",
              "      <td>30.5</td>\n",
              "      <td>0.800570</td>\n",
              "    </tr>\n",
              "    <tr>\n",
              "      <th>4</th>\n",
              "      <td>1/1/2015</td>\n",
              "      <td>Quarter1</td>\n",
              "      <td>sweing</td>\n",
              "      <td>Thursday</td>\n",
              "      <td>6</td>\n",
              "      <td>0.80</td>\n",
              "      <td>25.90</td>\n",
              "      <td>1170.0</td>\n",
              "      <td>1920</td>\n",
              "      <td>50</td>\n",
              "      <td>0.0</td>\n",
              "      <td>0</td>\n",
              "      <td>0</td>\n",
              "      <td>56.0</td>\n",
              "      <td>0.800382</td>\n",
              "    </tr>\n",
              "  </tbody>\n",
              "</table>\n",
              "</div>"
            ],
            "text/plain": [
              "       date   quarter  ... no_of_workers actual_productivity\n",
              "0  1/1/2015  Quarter1  ...          59.0            0.940725\n",
              "1  1/1/2015  Quarter1  ...           8.0            0.886500\n",
              "2  1/1/2015  Quarter1  ...          30.5            0.800570\n",
              "3  1/1/2015  Quarter1  ...          30.5            0.800570\n",
              "4  1/1/2015  Quarter1  ...          56.0            0.800382\n",
              "\n",
              "[5 rows x 15 columns]"
            ]
          },
          "metadata": {},
          "execution_count": 5
        }
      ]
    },
    {
      "cell_type": "markdown",
      "metadata": {
        "id": "FmFUp3ux2ym0"
      },
      "source": [
        "First lets preprocess the data by converting `team` variable into categorical data, dropping the `date` column, removing the rows with NAs and converting categorical variables into numeric ones."
      ]
    },
    {
      "cell_type": "code",
      "metadata": {
        "id": "W1x5ah2T3A4p"
      },
      "source": [
        "df[\"team\"] = df[\"team\"].astype(\"str\")\n",
        "df.drop(\"date\", axis = 1, inplace=True)\n",
        "df.dropna(inplace=True)\n",
        "df = pd.get_dummies(df, drop_first = True)"
      ],
      "execution_count": null,
      "outputs": []
    },
    {
      "cell_type": "markdown",
      "metadata": {
        "id": "T59tOjDL5kA7"
      },
      "source": [
        "Next specify the inputs and outputs, split the data into training and testing sets and normalize the data"
      ]
    },
    {
      "cell_type": "code",
      "metadata": {
        "colab": {
          "base_uri": "https://localhost:8080/"
        },
        "id": "5CDcIwWjv4hH",
        "outputId": "6429850b-5dda-4bb9-8895-087a3bb41106"
      },
      "source": [
        "from sklearn.model_selection import train_test_split\n",
        "\n",
        "X = df.drop(\"actual_productivity\", axis = 1)\n",
        "y = df[\"actual_productivity\"]\n",
        "\n",
        "X_train,X_test,y_train,y_test = train_test_split(X,y, test_size = 0.3, random_state = 42)\n",
        "\n",
        "mu = X_train.mean(axis = 0)\n",
        "sigma = X_train.std(axis = 0)\n",
        "\n",
        "\n",
        "X_train = (X_train - mu) / sigma\n",
        "X_test = (X_test - mu) / sigma\n",
        "\n",
        "print(X_train.shape)"
      ],
      "execution_count": null,
      "outputs": [
        {
          "output_type": "stream",
          "name": "stdout",
          "text": [
            "(483, 29)\n"
          ]
        }
      ]
    },
    {
      "cell_type": "markdown",
      "metadata": {
        "id": "-0vuOstc6hab"
      },
      "source": [
        " # Deep learning model for regression\n",
        "Prepare the deep learning model for training, since we are doing regression model we have used one neuron in the output layer with linear activation function defined as:\n",
        "$$f(x) = x$$"
      ]
    },
    {
      "cell_type": "code",
      "metadata": {
        "colab": {
          "base_uri": "https://localhost:8080/"
        },
        "id": "K_m8lMee6dxv",
        "outputId": "49d943a6-bb2b-4d2b-aad5-85c729900958"
      },
      "source": [
        "mdl = tf.keras.Sequential()\n",
        "\n",
        "mdl.add(tf.keras.layers.Dense(64, activation=\"relu\", input_shape = (X_train.shape[1],)))\n",
        "mdl.add(tf.keras.layers.Dense(32, activation=\"relu\"))\n",
        "mdl.add(tf.keras.layers.Dense(16, activation=\"relu\"))\n",
        "mdl.add(tf.keras.layers.Dense(1,activation=\"linear\"))\n",
        "mdl.summary()"
      ],
      "execution_count": null,
      "outputs": [
        {
          "output_type": "stream",
          "name": "stdout",
          "text": [
            "Model: \"sequential\"\n",
            "_________________________________________________________________\n",
            " Layer (type)                Output Shape              Param #   \n",
            "=================================================================\n",
            " dense (Dense)               (None, 64)                1920      \n",
            "                                                                 \n",
            " dense_1 (Dense)             (None, 32)                2080      \n",
            "                                                                 \n",
            " dense_2 (Dense)             (None, 16)                528       \n",
            "                                                                 \n",
            " dense_3 (Dense)             (None, 1)                 17        \n",
            "                                                                 \n",
            "=================================================================\n",
            "Total params: 4,545\n",
            "Trainable params: 4,545\n",
            "Non-trainable params: 0\n",
            "_________________________________________________________________\n"
          ]
        }
      ]
    },
    {
      "cell_type": "markdown",
      "metadata": {
        "id": "0WF3q2gt8TOt"
      },
      "source": [
        "For regression models we genereally use `mean squared error(mse)` metric as loss function.\n",
        "$$mse = \\frac{1}{n}\\sum_{i=1}^n(y-\\hat{y})^2$$\n",
        "\n",
        "Also we are going to monitor `mean absolute percenate error(mape)` value for every iteration\n",
        "\n",
        "$$mape = \\frac{1}{n}\\sum_{i=1}^n\\frac{|y-\\hat{y}|}{|y|}*100$$\n",
        "\n",
        "\n"
      ]
    },
    {
      "cell_type": "code",
      "metadata": {
        "colab": {
          "base_uri": "https://localhost:8080/"
        },
        "id": "CXs_zcPh66Cj",
        "outputId": "8cd13bbe-1208-4d9e-f5e7-c6b018372dae"
      },
      "source": [
        "mdl.compile(optimizer=\"adam\", loss = \"mse\", metrics=[\"mape\"])\n",
        "mdl.fit(X_train,y_train, epochs=10)"
      ],
      "execution_count": null,
      "outputs": [
        {
          "output_type": "stream",
          "name": "stdout",
          "text": [
            "Epoch 1/10\n",
            "16/16 [==============================] - 1s 2ms/step - loss: 0.3915 - mape: 74.5864\n",
            "Epoch 2/10\n",
            "16/16 [==============================] - 0s 2ms/step - loss: 0.0777 - mape: 35.8410\n",
            "Epoch 3/10\n",
            "16/16 [==============================] - 0s 2ms/step - loss: 0.0436 - mape: 26.1042\n",
            "Epoch 4/10\n",
            "16/16 [==============================] - 0s 2ms/step - loss: 0.0307 - mape: 21.5333\n",
            "Epoch 5/10\n",
            "16/16 [==============================] - 0s 3ms/step - loss: 0.0245 - mape: 19.3565\n",
            "Epoch 6/10\n",
            "16/16 [==============================] - 0s 4ms/step - loss: 0.0207 - mape: 17.5937\n",
            "Epoch 7/10\n",
            "16/16 [==============================] - 0s 3ms/step - loss: 0.0176 - mape: 16.3759\n",
            "Epoch 8/10\n",
            "16/16 [==============================] - 0s 4ms/step - loss: 0.0155 - mape: 15.3296\n",
            "Epoch 9/10\n",
            "16/16 [==============================] - 0s 3ms/step - loss: 0.0138 - mape: 14.3861\n",
            "Epoch 10/10\n",
            "16/16 [==============================] - 0s 3ms/step - loss: 0.0122 - mape: 13.6424\n"
          ]
        },
        {
          "output_type": "execute_result",
          "data": {
            "text/plain": [
              "<keras.callbacks.History at 0x7f3c69d02690>"
            ]
          },
          "metadata": {},
          "execution_count": 9
        }
      ]
    },
    {
      "cell_type": "markdown",
      "metadata": {
        "id": "hTPJH3an7qHh"
      },
      "source": [
        "## Deep Learning for Binomial Classification\n",
        "Now we would like to setup a deep learning model for classification. For that purpose we are going to label employees that are over 70% productivity as 1 and others as 0."
      ]
    },
    {
      "cell_type": "code",
      "metadata": {
        "id": "YE-fa7C87pba"
      },
      "source": [
        "X = df.drop(\"actual_productivity\", axis = 1)\n",
        "y = (df[\"actual_productivity\"] > 0.7).astype(\"int\")\n",
        "\n",
        "X_train,X_test,y_train,y_test = train_test_split(X,y, test_size = 0.3, random_state = 42)\n",
        "\n",
        "mu = X_train.mean(axis = 0)\n",
        "sigma = X_train.std(axis = 0)\n",
        "\n",
        "\n",
        "X_train = (X_train - mu) / sigma\n",
        "X_test = (X_test - mu) / sigma\n"
      ],
      "execution_count": null,
      "outputs": []
    },
    {
      "cell_type": "markdown",
      "metadata": {
        "id": "dZEnECnA8ct0"
      },
      "source": [
        "For binary classification we need to set the activation function in the last layer as `sigmoid` which is defined as\n",
        "\n",
        "$$f(x) = \\frac{1}{1 + e^{-x}}$$"
      ]
    },
    {
      "cell_type": "code",
      "metadata": {
        "colab": {
          "base_uri": "https://localhost:8080/"
        },
        "id": "2cq7b_5W8Z6o",
        "outputId": "68c684e6-c3fd-4390-f411-85645d8f7c8b"
      },
      "source": [
        "mdl = tf.keras.Sequential()\n",
        "\n",
        "mdl.add(tf.keras.layers.Dense(64, activation=\"relu\", input_shape = (X_train.shape[1],)))\n",
        "mdl.add(tf.keras.layers.Dense(32, activation=\"relu\"))\n",
        "mdl.add(tf.keras.layers.Dense(16, activation=\"relu\"))\n",
        "mdl.add(tf.keras.layers.Dense(1,activation=\"sigmoid\"))\n",
        "mdl.summary()"
      ],
      "execution_count": null,
      "outputs": [
        {
          "output_type": "stream",
          "name": "stdout",
          "text": [
            "Model: \"sequential_3\"\n",
            "_________________________________________________________________\n",
            " Layer (type)                Output Shape              Param #   \n",
            "=================================================================\n",
            " dense_12 (Dense)            (None, 64)                1920      \n",
            "                                                                 \n",
            " dense_13 (Dense)            (None, 32)                2080      \n",
            "                                                                 \n",
            " dense_14 (Dense)            (None, 16)                528       \n",
            "                                                                 \n",
            " dense_15 (Dense)            (None, 1)                 17        \n",
            "                                                                 \n",
            "=================================================================\n",
            "Total params: 4,545\n",
            "Trainable params: 4,545\n",
            "Non-trainable params: 0\n",
            "_________________________________________________________________\n"
          ]
        }
      ]
    },
    {
      "cell_type": "markdown",
      "metadata": {
        "id": "BXqZl0OL8sQl"
      },
      "source": [
        "Loss function should be binary crossentorpy\n",
        "$$L = \\frac{1}{n}\\sum_{i=1}^ny_ilog(\\hat{p}_i)+(1-y_i)log(1-\\hat{p}_i)$$\n",
        " and we can monitor the metric accuracy\n",
        "$$accuracy = \\frac{number\\;of\\; correct\\; labeled}{number\\; observed}$$"
      ]
    },
    {
      "cell_type": "code",
      "metadata": {
        "colab": {
          "base_uri": "https://localhost:8080/"
        },
        "id": "0GawXYhv8bs7",
        "outputId": "f2807cf4-39a4-4d67-e7df-a312f03b1f87"
      },
      "source": [
        "mdl.compile(optimizer=\"adam\", loss = \"binary_crossentropy\", metrics=[\"accuracy\"])\n",
        "mdl.fit(X_train,y_train, epochs=10)"
      ],
      "execution_count": null,
      "outputs": [
        {
          "output_type": "stream",
          "name": "stdout",
          "text": [
            "Epoch 1/10\n",
            "16/16 [==============================] - 1s 2ms/step - loss: 0.6058 - accuracy: 0.7288\n",
            "Epoch 2/10\n",
            "16/16 [==============================] - 0s 2ms/step - loss: 0.5103 - accuracy: 0.7433\n",
            "Epoch 3/10\n",
            "16/16 [==============================] - 0s 2ms/step - loss: 0.4412 - accuracy: 0.8012\n",
            "Epoch 4/10\n",
            "16/16 [==============================] - 0s 2ms/step - loss: 0.3727 - accuracy: 0.8551\n",
            "Epoch 5/10\n",
            "16/16 [==============================] - 0s 2ms/step - loss: 0.3111 - accuracy: 0.8882\n",
            "Epoch 6/10\n",
            "16/16 [==============================] - 0s 3ms/step - loss: 0.2613 - accuracy: 0.9110\n",
            "Epoch 7/10\n",
            "16/16 [==============================] - 0s 3ms/step - loss: 0.2218 - accuracy: 0.9337\n",
            "Epoch 8/10\n",
            "16/16 [==============================] - 0s 2ms/step - loss: 0.1958 - accuracy: 0.9337\n",
            "Epoch 9/10\n",
            "16/16 [==============================] - 0s 2ms/step - loss: 0.1753 - accuracy: 0.9358\n",
            "Epoch 10/10\n",
            "16/16 [==============================] - 0s 2ms/step - loss: 0.1559 - accuracy: 0.9400\n"
          ]
        },
        {
          "output_type": "execute_result",
          "data": {
            "text/plain": [
              "<keras.callbacks.History at 0x7f3c58ac81d0>"
            ]
          },
          "metadata": {},
          "execution_count": 26
        }
      ]
    },
    {
      "cell_type": "markdown",
      "metadata": {
        "id": "NT2g30ISDKHC"
      },
      "source": [
        "# Deep Learning for Multinomial Classification\n",
        "\n",
        "Using `k means clustering` function in `sklearn` library we are going to divide the output values into three categories."
      ]
    },
    {
      "cell_type": "code",
      "metadata": {
        "id": "U3zDGLGLC6La"
      },
      "source": [
        "from sklearn.cluster import KMeans\n",
        "cluster = KMeans(3).fit(df[\"actual_productivity\"].values.reshape(-1,1))\n",
        "\n",
        "\n",
        "X = df.drop(\"actual_productivity\", axis = 1)\n",
        "y = cluster.predict(df[\"actual_productivity\"].values.reshape(-1,1))\n",
        "\n",
        "X_train,X_test,y_train,y_test = train_test_split(X,y, test_size = 0.3, random_state = 42)\n",
        "\n",
        "mu = X_train.mean(axis = 0)\n",
        "sigma = X_train.std(axis = 0)\n",
        "\n",
        "\n",
        "X_train = (X_train - mu) / sigma\n",
        "X_test = (X_test - mu) / sigma"
      ],
      "execution_count": null,
      "outputs": []
    },
    {
      "cell_type": "markdown",
      "metadata": {
        "id": "KgHwtQfgJff2"
      },
      "source": [
        "For multinomial classification; you need same number of neurons in the output layer as the number of categories in your target variable. Activation function should be selected as `softmax`.\n",
        "\n",
        "$$softmax(x) = \\frac{e^{-x_i}}{\\sum e^{-x_i}}$$"
      ]
    },
    {
      "cell_type": "code",
      "metadata": {
        "colab": {
          "base_uri": "https://localhost:8080/"
        },
        "id": "MF07ZSclHF1E",
        "outputId": "1f988ba0-897b-415d-fc2b-9ab8c31cdbe8"
      },
      "source": [
        "mdl = tf.keras.Sequential()\n",
        "\n",
        "mdl.add(tf.keras.layers.Dense(64, activation=\"relu\", input_shape = (X_train.shape[1],)))\n",
        "mdl.add(tf.keras.layers.Dense(32, activation=\"relu\"))\n",
        "mdl.add(tf.keras.layers.Dense(16, activation=\"relu\"))\n",
        "mdl.add(tf.keras.layers.Dense(3,activation=\"softmax\"))\n",
        "mdl.summary()"
      ],
      "execution_count": null,
      "outputs": [
        {
          "output_type": "stream",
          "name": "stdout",
          "text": [
            "Model: \"sequential_4\"\n",
            "_________________________________________________________________\n",
            " Layer (type)                Output Shape              Param #   \n",
            "=================================================================\n",
            " dense_16 (Dense)            (None, 64)                1920      \n",
            "                                                                 \n",
            " dense_17 (Dense)            (None, 32)                2080      \n",
            "                                                                 \n",
            " dense_18 (Dense)            (None, 16)                528       \n",
            "                                                                 \n",
            " dense_19 (Dense)            (None, 3)                 51        \n",
            "                                                                 \n",
            "=================================================================\n",
            "Total params: 4,579\n",
            "Trainable params: 4,579\n",
            "Non-trainable params: 0\n",
            "_________________________________________________________________\n"
          ]
        }
      ]
    },
    {
      "cell_type": "markdown",
      "metadata": {
        "id": "7WZ5x2fKKQi_"
      },
      "source": [
        "If your target variables is one hot encoded you can use `categorical_crossentropy`, if it is label encoded you can use `sparse_categorical_crossentropy` as your loss function"
      ]
    },
    {
      "cell_type": "code",
      "metadata": {
        "colab": {
          "base_uri": "https://localhost:8080/"
        },
        "id": "FHkUTlVGKOr7",
        "outputId": "944e6ee1-633c-4dd2-8fc9-27d7e2f13867"
      },
      "source": [
        "mdl.compile(optimizer=\"adam\", loss = \"sparse_categorical_crossentropy\", metrics=[\"accuracy\"])\n",
        "mdl.fit(X_train,y_train, epochs=10)"
      ],
      "execution_count": null,
      "outputs": [
        {
          "output_type": "stream",
          "name": "stdout",
          "text": [
            "Epoch 1/10\n",
            "16/16 [==============================] - 0s 2ms/step - loss: 1.1434 - accuracy: 0.3644\n",
            "Epoch 2/10\n",
            "16/16 [==============================] - 0s 2ms/step - loss: 0.9998 - accuracy: 0.4762\n",
            "Epoch 3/10\n",
            "16/16 [==============================] - 0s 2ms/step - loss: 0.9197 - accuracy: 0.6108\n",
            "Epoch 4/10\n",
            "16/16 [==============================] - 0s 2ms/step - loss: 0.8366 - accuracy: 0.6563\n",
            "Epoch 5/10\n",
            "16/16 [==============================] - 0s 2ms/step - loss: 0.7436 - accuracy: 0.7184\n",
            "Epoch 6/10\n",
            "16/16 [==============================] - 0s 2ms/step - loss: 0.6549 - accuracy: 0.7702\n",
            "Epoch 7/10\n",
            "16/16 [==============================] - 0s 2ms/step - loss: 0.5746 - accuracy: 0.7867\n",
            "Epoch 8/10\n",
            "16/16 [==============================] - 0s 2ms/step - loss: 0.5091 - accuracy: 0.8137\n",
            "Epoch 9/10\n",
            "16/16 [==============================] - 0s 2ms/step - loss: 0.4544 - accuracy: 0.8323\n",
            "Epoch 10/10\n",
            "16/16 [==============================] - 0s 2ms/step - loss: 0.4193 - accuracy: 0.8468\n"
          ]
        },
        {
          "output_type": "execute_result",
          "data": {
            "text/plain": [
              "<keras.callbacks.History at 0x7f3c58a62f90>"
            ]
          },
          "metadata": {},
          "execution_count": 30
        }
      ]
    }
  ]
}