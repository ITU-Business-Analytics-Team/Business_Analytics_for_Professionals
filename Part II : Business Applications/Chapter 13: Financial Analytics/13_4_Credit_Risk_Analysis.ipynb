{
  "nbformat": 4,
  "nbformat_minor": 0,
  "metadata": {
    "colab": {
      "name": "13.4. Credit Risk Analysis.ipynb",
      "provenance": [],
      "collapsed_sections": [],
      "include_colab_link": true
    },
    "kernelspec": {
      "name": "python3",
      "display_name": "Python 3"
    },
    "language_info": {
      "name": "python"
    }
  },
  "cells": [
    {
      "cell_type": "markdown",
      "metadata": {
        "id": "view-in-github",
        "colab_type": "text"
      },
      "source": [
        "<a href=\"https://colab.research.google.com/github/ITU-Business-Analytics-Team/Business_Analytics_for_Professionals/blob/main/Part%20II%20%3A%20Business%20Applications/Chapter%2013%3A%20Financial%20Analytics/13_4_Credit_Risk_Analysis.ipynb\" target=\"_parent\"><img src=\"https://colab.research.google.com/assets/colab-badge.svg\" alt=\"Open In Colab\"/></a>"
      ]
    },
    {
      "cell_type": "markdown",
      "metadata": {
        "id": "9vyyWkFCwM-B"
      },
      "source": [
        "# **Financial Analytics**\n",
        "## Credit Risk Analysis"
      ]
    },
    {
      "cell_type": "markdown",
      "metadata": {
        "id": "EOHR4SW4hCxq"
      },
      "source": [
        "### **Problem Definition**\n",
        "\n",
        "The German Bank wants to determine whether customers who apply for credit can be approved to give credit. The bank desires to know information about customers economic conditions which how much their salaries, what for customers want to take credit which buying a car, having a house, a tv or a mobile phone and so on. If the applicant is in the good condition to pay back money, the bank open a credit to customers who apply the bank credit services. The case is how to make faster decision that giving a credit to a new customer is risky or not instead of investigating one by one each applicant. According to previous applicants that is the research question. All it is needed to find most accurate model to evaluate the applicant credit approval. The German Bank System have applicants to Banks to take credit. The Credit approval services demand some information about applicants and keep this information to evaluate accepting or rejecting credit applies. Following information is about the applicants’ features the German Bank System’s requirements:\n",
        "\n",
        "Variable Name | Variable Description\n",
        "-------------------|------------------\n",
        "Age| this feature is numerical information and legal age for applying the credit.\n",
        "Gender| this is string and categorical information that two categories they are male or female.\n",
        "Job| Job feature is a categorical feature that has four categories which are expressed numerical instead of categorical strings; 0: unskilled and non-resident, 1: unskilled and resident, 2: skilled, 3: high skilled.\n",
        "Housing| this feature is string variable which means categorical that these are three categories which are own, rent and free.\n",
        "Saving Account| this is a string variable that means categorical variable indicates if applicants have bank account there are four categories; little, moderate, quite rich, and rich. \n",
        "Checking Account| this is a categorical variable which means string have three categorical class that are little, moderate, and rich. \n",
        "Credit Amount| this is a numeric variable that how much money applicants apply on Deutsch Mark (DM)\n",
        "Duration| this feature is numeric variable to show how many months the applicants want to pay back credit.\n",
        "Purpose| this feature is string variable that means categorical variables consist of eight categories that is aim of taking credit targets are car, furniture/equipment, radio/TV, domestic appliances, repairs, education, business, vacation/others.\n",
        "Risk Situation| this feature is value target that string two categoric variable good or bad situation.\n",
        "\n",
        "\n",
        "> For the research question original datasets includes 1000 entries and 20 features. But in this case, only few of features is used to analyse to model research question. Used features has been described in the problem definition section. There are ten features used in the analysis of this case which these features are Age, Gender, Job, Housing, Saving account, Checking account, Credit Amount, Duration, Purpose and Risk Situation.\n",
        "The aim of this case study is to find out what algorithm or machine learning method gives the best accuracy or the best performance. The Bank Credit Approving department uses the algorithm to make more fast and efficient method without losing time on approvals.\n"
      ]
    },
    {
      "cell_type": "code",
      "metadata": {
        "id": "1l-8Zuv2879E"
      },
      "source": [
        "import numpy as np\n",
        "import pandas as pd\n",
        "import matplotlib.pyplot as plt\n",
        "import seaborn as sns\n",
        "import plotly.express as px\n",
        "\n",
        "from sklearn.model_selection import train_test_split\n",
        "from sklearn.preprocessing import StandardScaler\n",
        "from sklearn.metrics import f1_score"
      ],
      "execution_count": null,
      "outputs": []
    },
    {
      "cell_type": "markdown",
      "metadata": {
        "id": "moyyjWMibVpQ"
      },
      "source": [
        "For the case study seven Classification Algorithm have been imported which are Naive Bayes (NB), Decision Tree (DT), Random Forest (RF), Logistic Regression (LR), K-Nearest Neighbour (KNN), Support Vector Machine (SVM) and Xgboost (XGB) Classifier models."
      ]
    },
    {
      "cell_type": "code",
      "metadata": {
        "colab": {
          "base_uri": "https://localhost:8080/"
        },
        "id": "Sf7tMTedOT-r",
        "outputId": "53749679-b1e3-40cd-f971-4b4745bcbaa2"
      },
      "source": [
        "from sklearn.neighbors import KNeighborsClassifier\n",
        "from sklearn.naive_bayes import GaussianNB\n",
        "from sklearn.linear_model import LogisticRegression\n",
        "from sklearn.tree import DecisionTreeClassifier\n",
        "from sklearn.ensemble import RandomForestClassifier\n",
        "from sklearn.svm import SVC\n",
        "\n",
        "import sys\n",
        "print(sys.base_prefix)\n",
        "!pip3 install xgboost\n",
        "from xgboost import XGBClassifier"
      ],
      "execution_count": null,
      "outputs": [
        {
          "output_type": "stream",
          "name": "stdout",
          "text": [
            "/usr\n",
            "Requirement already satisfied: xgboost in /usr/local/lib/python3.7/dist-packages (0.90)\n",
            "Requirement already satisfied: scipy in /usr/local/lib/python3.7/dist-packages (from xgboost) (1.4.1)\n",
            "Requirement already satisfied: numpy in /usr/local/lib/python3.7/dist-packages (from xgboost) (1.19.5)\n"
          ]
        }
      ]
    },
    {
      "cell_type": "markdown",
      "metadata": {
        "id": "AQH7BKq7cGy0"
      },
      "source": [
        "Data have been upload and readed as a DataFrame via pandas library and 3 DataFrame work have been checked. First DataFrame (df) is going to be used with deleting missing values, Second DataFrame (df1) will be used without dropping missing values and the last DataFrame (df2) will be used as filling missing values with most repeated properties. "
      ]
    },
    {
      "cell_type": "code",
      "metadata": {
        "colab": {
          "base_uri": "https://localhost:8080/",
          "height": 423
        },
        "id": "qPPnYxLJ-9Tt",
        "outputId": "70ba8b38-9476-45b4-8c36-372b167a0e96"
      },
      "source": [
        "# Import Data\n",
        "url = 'https://drive.google.com/file/d/1pbFWeYZLjtUUZyRssMvUgZQ3NR4VNU0a/view?usp=sharing'\n",
        "url2='https://drive.google.com/uc?id=' + url.split('/')[-2]\n",
        "df = pd.read_csv(url2)\n",
        "df1 = pd.read_csv(url2)\n",
        "df2 = pd.read_csv(url2)\n",
        "df"
      ],
      "execution_count": null,
      "outputs": [
        {
          "output_type": "execute_result",
          "data": {
            "text/html": [
              "<div>\n",
              "<style scoped>\n",
              "    .dataframe tbody tr th:only-of-type {\n",
              "        vertical-align: middle;\n",
              "    }\n",
              "\n",
              "    .dataframe tbody tr th {\n",
              "        vertical-align: top;\n",
              "    }\n",
              "\n",
              "    .dataframe thead th {\n",
              "        text-align: right;\n",
              "    }\n",
              "</style>\n",
              "<table border=\"1\" class=\"dataframe\">\n",
              "  <thead>\n",
              "    <tr style=\"text-align: right;\">\n",
              "      <th></th>\n",
              "      <th>Unnamed: 0</th>\n",
              "      <th>Age</th>\n",
              "      <th>Sex</th>\n",
              "      <th>Job</th>\n",
              "      <th>Housing</th>\n",
              "      <th>Saving accounts</th>\n",
              "      <th>Checking account</th>\n",
              "      <th>Credit amount</th>\n",
              "      <th>Duration</th>\n",
              "      <th>Purpose</th>\n",
              "      <th>Risk</th>\n",
              "    </tr>\n",
              "  </thead>\n",
              "  <tbody>\n",
              "    <tr>\n",
              "      <th>0</th>\n",
              "      <td>0</td>\n",
              "      <td>67</td>\n",
              "      <td>male</td>\n",
              "      <td>2</td>\n",
              "      <td>own</td>\n",
              "      <td>NaN</td>\n",
              "      <td>little</td>\n",
              "      <td>1169</td>\n",
              "      <td>6</td>\n",
              "      <td>radio/TV</td>\n",
              "      <td>good</td>\n",
              "    </tr>\n",
              "    <tr>\n",
              "      <th>1</th>\n",
              "      <td>1</td>\n",
              "      <td>22</td>\n",
              "      <td>female</td>\n",
              "      <td>2</td>\n",
              "      <td>own</td>\n",
              "      <td>little</td>\n",
              "      <td>moderate</td>\n",
              "      <td>5951</td>\n",
              "      <td>48</td>\n",
              "      <td>radio/TV</td>\n",
              "      <td>bad</td>\n",
              "    </tr>\n",
              "    <tr>\n",
              "      <th>2</th>\n",
              "      <td>2</td>\n",
              "      <td>49</td>\n",
              "      <td>male</td>\n",
              "      <td>1</td>\n",
              "      <td>own</td>\n",
              "      <td>little</td>\n",
              "      <td>NaN</td>\n",
              "      <td>2096</td>\n",
              "      <td>12</td>\n",
              "      <td>education</td>\n",
              "      <td>good</td>\n",
              "    </tr>\n",
              "    <tr>\n",
              "      <th>3</th>\n",
              "      <td>3</td>\n",
              "      <td>45</td>\n",
              "      <td>male</td>\n",
              "      <td>2</td>\n",
              "      <td>free</td>\n",
              "      <td>little</td>\n",
              "      <td>little</td>\n",
              "      <td>7882</td>\n",
              "      <td>42</td>\n",
              "      <td>furniture/equipment</td>\n",
              "      <td>good</td>\n",
              "    </tr>\n",
              "    <tr>\n",
              "      <th>4</th>\n",
              "      <td>4</td>\n",
              "      <td>53</td>\n",
              "      <td>male</td>\n",
              "      <td>2</td>\n",
              "      <td>free</td>\n",
              "      <td>little</td>\n",
              "      <td>little</td>\n",
              "      <td>4870</td>\n",
              "      <td>24</td>\n",
              "      <td>car</td>\n",
              "      <td>bad</td>\n",
              "    </tr>\n",
              "    <tr>\n",
              "      <th>...</th>\n",
              "      <td>...</td>\n",
              "      <td>...</td>\n",
              "      <td>...</td>\n",
              "      <td>...</td>\n",
              "      <td>...</td>\n",
              "      <td>...</td>\n",
              "      <td>...</td>\n",
              "      <td>...</td>\n",
              "      <td>...</td>\n",
              "      <td>...</td>\n",
              "      <td>...</td>\n",
              "    </tr>\n",
              "    <tr>\n",
              "      <th>995</th>\n",
              "      <td>995</td>\n",
              "      <td>31</td>\n",
              "      <td>female</td>\n",
              "      <td>1</td>\n",
              "      <td>own</td>\n",
              "      <td>little</td>\n",
              "      <td>NaN</td>\n",
              "      <td>1736</td>\n",
              "      <td>12</td>\n",
              "      <td>furniture/equipment</td>\n",
              "      <td>good</td>\n",
              "    </tr>\n",
              "    <tr>\n",
              "      <th>996</th>\n",
              "      <td>996</td>\n",
              "      <td>40</td>\n",
              "      <td>male</td>\n",
              "      <td>3</td>\n",
              "      <td>own</td>\n",
              "      <td>little</td>\n",
              "      <td>little</td>\n",
              "      <td>3857</td>\n",
              "      <td>30</td>\n",
              "      <td>car</td>\n",
              "      <td>good</td>\n",
              "    </tr>\n",
              "    <tr>\n",
              "      <th>997</th>\n",
              "      <td>997</td>\n",
              "      <td>38</td>\n",
              "      <td>male</td>\n",
              "      <td>2</td>\n",
              "      <td>own</td>\n",
              "      <td>little</td>\n",
              "      <td>NaN</td>\n",
              "      <td>804</td>\n",
              "      <td>12</td>\n",
              "      <td>radio/TV</td>\n",
              "      <td>good</td>\n",
              "    </tr>\n",
              "    <tr>\n",
              "      <th>998</th>\n",
              "      <td>998</td>\n",
              "      <td>23</td>\n",
              "      <td>male</td>\n",
              "      <td>2</td>\n",
              "      <td>free</td>\n",
              "      <td>little</td>\n",
              "      <td>little</td>\n",
              "      <td>1845</td>\n",
              "      <td>45</td>\n",
              "      <td>radio/TV</td>\n",
              "      <td>bad</td>\n",
              "    </tr>\n",
              "    <tr>\n",
              "      <th>999</th>\n",
              "      <td>999</td>\n",
              "      <td>27</td>\n",
              "      <td>male</td>\n",
              "      <td>2</td>\n",
              "      <td>own</td>\n",
              "      <td>moderate</td>\n",
              "      <td>moderate</td>\n",
              "      <td>4576</td>\n",
              "      <td>45</td>\n",
              "      <td>car</td>\n",
              "      <td>good</td>\n",
              "    </tr>\n",
              "  </tbody>\n",
              "</table>\n",
              "<p>1000 rows × 11 columns</p>\n",
              "</div>"
            ],
            "text/plain": [
              "     Unnamed: 0  Age     Sex  ...  Duration              Purpose  Risk\n",
              "0             0   67    male  ...         6             radio/TV  good\n",
              "1             1   22  female  ...        48             radio/TV   bad\n",
              "2             2   49    male  ...        12            education  good\n",
              "3             3   45    male  ...        42  furniture/equipment  good\n",
              "4             4   53    male  ...        24                  car   bad\n",
              "..          ...  ...     ...  ...       ...                  ...   ...\n",
              "995         995   31  female  ...        12  furniture/equipment  good\n",
              "996         996   40    male  ...        30                  car  good\n",
              "997         997   38    male  ...        12             radio/TV  good\n",
              "998         998   23    male  ...        45             radio/TV   bad\n",
              "999         999   27    male  ...        45                  car  good\n",
              "\n",
              "[1000 rows x 11 columns]"
            ]
          },
          "metadata": {},
          "execution_count": 3
        }
      ]
    },
    {
      "cell_type": "code",
      "metadata": {
        "colab": {
          "base_uri": "https://localhost:8080/",
          "height": 423
        },
        "id": "fejJoxeTyp5T",
        "outputId": "771f7517-e163-4a21-d06e-cedc928085d9"
      },
      "source": [
        "df1"
      ],
      "execution_count": null,
      "outputs": [
        {
          "output_type": "execute_result",
          "data": {
            "text/html": [
              "<div>\n",
              "<style scoped>\n",
              "    .dataframe tbody tr th:only-of-type {\n",
              "        vertical-align: middle;\n",
              "    }\n",
              "\n",
              "    .dataframe tbody tr th {\n",
              "        vertical-align: top;\n",
              "    }\n",
              "\n",
              "    .dataframe thead th {\n",
              "        text-align: right;\n",
              "    }\n",
              "</style>\n",
              "<table border=\"1\" class=\"dataframe\">\n",
              "  <thead>\n",
              "    <tr style=\"text-align: right;\">\n",
              "      <th></th>\n",
              "      <th>Unnamed: 0</th>\n",
              "      <th>Age</th>\n",
              "      <th>Sex</th>\n",
              "      <th>Job</th>\n",
              "      <th>Housing</th>\n",
              "      <th>Saving accounts</th>\n",
              "      <th>Checking account</th>\n",
              "      <th>Credit amount</th>\n",
              "      <th>Duration</th>\n",
              "      <th>Purpose</th>\n",
              "      <th>Risk</th>\n",
              "    </tr>\n",
              "  </thead>\n",
              "  <tbody>\n",
              "    <tr>\n",
              "      <th>0</th>\n",
              "      <td>0</td>\n",
              "      <td>67</td>\n",
              "      <td>male</td>\n",
              "      <td>2</td>\n",
              "      <td>own</td>\n",
              "      <td>NaN</td>\n",
              "      <td>little</td>\n",
              "      <td>1169</td>\n",
              "      <td>6</td>\n",
              "      <td>radio/TV</td>\n",
              "      <td>good</td>\n",
              "    </tr>\n",
              "    <tr>\n",
              "      <th>1</th>\n",
              "      <td>1</td>\n",
              "      <td>22</td>\n",
              "      <td>female</td>\n",
              "      <td>2</td>\n",
              "      <td>own</td>\n",
              "      <td>little</td>\n",
              "      <td>moderate</td>\n",
              "      <td>5951</td>\n",
              "      <td>48</td>\n",
              "      <td>radio/TV</td>\n",
              "      <td>bad</td>\n",
              "    </tr>\n",
              "    <tr>\n",
              "      <th>2</th>\n",
              "      <td>2</td>\n",
              "      <td>49</td>\n",
              "      <td>male</td>\n",
              "      <td>1</td>\n",
              "      <td>own</td>\n",
              "      <td>little</td>\n",
              "      <td>NaN</td>\n",
              "      <td>2096</td>\n",
              "      <td>12</td>\n",
              "      <td>education</td>\n",
              "      <td>good</td>\n",
              "    </tr>\n",
              "    <tr>\n",
              "      <th>3</th>\n",
              "      <td>3</td>\n",
              "      <td>45</td>\n",
              "      <td>male</td>\n",
              "      <td>2</td>\n",
              "      <td>free</td>\n",
              "      <td>little</td>\n",
              "      <td>little</td>\n",
              "      <td>7882</td>\n",
              "      <td>42</td>\n",
              "      <td>furniture/equipment</td>\n",
              "      <td>good</td>\n",
              "    </tr>\n",
              "    <tr>\n",
              "      <th>4</th>\n",
              "      <td>4</td>\n",
              "      <td>53</td>\n",
              "      <td>male</td>\n",
              "      <td>2</td>\n",
              "      <td>free</td>\n",
              "      <td>little</td>\n",
              "      <td>little</td>\n",
              "      <td>4870</td>\n",
              "      <td>24</td>\n",
              "      <td>car</td>\n",
              "      <td>bad</td>\n",
              "    </tr>\n",
              "    <tr>\n",
              "      <th>...</th>\n",
              "      <td>...</td>\n",
              "      <td>...</td>\n",
              "      <td>...</td>\n",
              "      <td>...</td>\n",
              "      <td>...</td>\n",
              "      <td>...</td>\n",
              "      <td>...</td>\n",
              "      <td>...</td>\n",
              "      <td>...</td>\n",
              "      <td>...</td>\n",
              "      <td>...</td>\n",
              "    </tr>\n",
              "    <tr>\n",
              "      <th>995</th>\n",
              "      <td>995</td>\n",
              "      <td>31</td>\n",
              "      <td>female</td>\n",
              "      <td>1</td>\n",
              "      <td>own</td>\n",
              "      <td>little</td>\n",
              "      <td>NaN</td>\n",
              "      <td>1736</td>\n",
              "      <td>12</td>\n",
              "      <td>furniture/equipment</td>\n",
              "      <td>good</td>\n",
              "    </tr>\n",
              "    <tr>\n",
              "      <th>996</th>\n",
              "      <td>996</td>\n",
              "      <td>40</td>\n",
              "      <td>male</td>\n",
              "      <td>3</td>\n",
              "      <td>own</td>\n",
              "      <td>little</td>\n",
              "      <td>little</td>\n",
              "      <td>3857</td>\n",
              "      <td>30</td>\n",
              "      <td>car</td>\n",
              "      <td>good</td>\n",
              "    </tr>\n",
              "    <tr>\n",
              "      <th>997</th>\n",
              "      <td>997</td>\n",
              "      <td>38</td>\n",
              "      <td>male</td>\n",
              "      <td>2</td>\n",
              "      <td>own</td>\n",
              "      <td>little</td>\n",
              "      <td>NaN</td>\n",
              "      <td>804</td>\n",
              "      <td>12</td>\n",
              "      <td>radio/TV</td>\n",
              "      <td>good</td>\n",
              "    </tr>\n",
              "    <tr>\n",
              "      <th>998</th>\n",
              "      <td>998</td>\n",
              "      <td>23</td>\n",
              "      <td>male</td>\n",
              "      <td>2</td>\n",
              "      <td>free</td>\n",
              "      <td>little</td>\n",
              "      <td>little</td>\n",
              "      <td>1845</td>\n",
              "      <td>45</td>\n",
              "      <td>radio/TV</td>\n",
              "      <td>bad</td>\n",
              "    </tr>\n",
              "    <tr>\n",
              "      <th>999</th>\n",
              "      <td>999</td>\n",
              "      <td>27</td>\n",
              "      <td>male</td>\n",
              "      <td>2</td>\n",
              "      <td>own</td>\n",
              "      <td>moderate</td>\n",
              "      <td>moderate</td>\n",
              "      <td>4576</td>\n",
              "      <td>45</td>\n",
              "      <td>car</td>\n",
              "      <td>good</td>\n",
              "    </tr>\n",
              "  </tbody>\n",
              "</table>\n",
              "<p>1000 rows × 11 columns</p>\n",
              "</div>"
            ],
            "text/plain": [
              "     Unnamed: 0  Age     Sex  ...  Duration              Purpose  Risk\n",
              "0             0   67    male  ...         6             radio/TV  good\n",
              "1             1   22  female  ...        48             radio/TV   bad\n",
              "2             2   49    male  ...        12            education  good\n",
              "3             3   45    male  ...        42  furniture/equipment  good\n",
              "4             4   53    male  ...        24                  car   bad\n",
              "..          ...  ...     ...  ...       ...                  ...   ...\n",
              "995         995   31  female  ...        12  furniture/equipment  good\n",
              "996         996   40    male  ...        30                  car  good\n",
              "997         997   38    male  ...        12             radio/TV  good\n",
              "998         998   23    male  ...        45             radio/TV   bad\n",
              "999         999   27    male  ...        45                  car  good\n",
              "\n",
              "[1000 rows x 11 columns]"
            ]
          },
          "metadata": {},
          "execution_count": 4
        }
      ]
    },
    {
      "cell_type": "code",
      "metadata": {
        "colab": {
          "base_uri": "https://localhost:8080/",
          "height": 423
        },
        "id": "DZU7XFEoyr_w",
        "outputId": "5cf16ab6-37ec-4690-fea1-857ef2af5a8b"
      },
      "source": [
        "df2"
      ],
      "execution_count": null,
      "outputs": [
        {
          "output_type": "execute_result",
          "data": {
            "text/html": [
              "<div>\n",
              "<style scoped>\n",
              "    .dataframe tbody tr th:only-of-type {\n",
              "        vertical-align: middle;\n",
              "    }\n",
              "\n",
              "    .dataframe tbody tr th {\n",
              "        vertical-align: top;\n",
              "    }\n",
              "\n",
              "    .dataframe thead th {\n",
              "        text-align: right;\n",
              "    }\n",
              "</style>\n",
              "<table border=\"1\" class=\"dataframe\">\n",
              "  <thead>\n",
              "    <tr style=\"text-align: right;\">\n",
              "      <th></th>\n",
              "      <th>Unnamed: 0</th>\n",
              "      <th>Age</th>\n",
              "      <th>Sex</th>\n",
              "      <th>Job</th>\n",
              "      <th>Housing</th>\n",
              "      <th>Saving accounts</th>\n",
              "      <th>Checking account</th>\n",
              "      <th>Credit amount</th>\n",
              "      <th>Duration</th>\n",
              "      <th>Purpose</th>\n",
              "      <th>Risk</th>\n",
              "    </tr>\n",
              "  </thead>\n",
              "  <tbody>\n",
              "    <tr>\n",
              "      <th>0</th>\n",
              "      <td>0</td>\n",
              "      <td>67</td>\n",
              "      <td>male</td>\n",
              "      <td>2</td>\n",
              "      <td>own</td>\n",
              "      <td>NaN</td>\n",
              "      <td>little</td>\n",
              "      <td>1169</td>\n",
              "      <td>6</td>\n",
              "      <td>radio/TV</td>\n",
              "      <td>good</td>\n",
              "    </tr>\n",
              "    <tr>\n",
              "      <th>1</th>\n",
              "      <td>1</td>\n",
              "      <td>22</td>\n",
              "      <td>female</td>\n",
              "      <td>2</td>\n",
              "      <td>own</td>\n",
              "      <td>little</td>\n",
              "      <td>moderate</td>\n",
              "      <td>5951</td>\n",
              "      <td>48</td>\n",
              "      <td>radio/TV</td>\n",
              "      <td>bad</td>\n",
              "    </tr>\n",
              "    <tr>\n",
              "      <th>2</th>\n",
              "      <td>2</td>\n",
              "      <td>49</td>\n",
              "      <td>male</td>\n",
              "      <td>1</td>\n",
              "      <td>own</td>\n",
              "      <td>little</td>\n",
              "      <td>NaN</td>\n",
              "      <td>2096</td>\n",
              "      <td>12</td>\n",
              "      <td>education</td>\n",
              "      <td>good</td>\n",
              "    </tr>\n",
              "    <tr>\n",
              "      <th>3</th>\n",
              "      <td>3</td>\n",
              "      <td>45</td>\n",
              "      <td>male</td>\n",
              "      <td>2</td>\n",
              "      <td>free</td>\n",
              "      <td>little</td>\n",
              "      <td>little</td>\n",
              "      <td>7882</td>\n",
              "      <td>42</td>\n",
              "      <td>furniture/equipment</td>\n",
              "      <td>good</td>\n",
              "    </tr>\n",
              "    <tr>\n",
              "      <th>4</th>\n",
              "      <td>4</td>\n",
              "      <td>53</td>\n",
              "      <td>male</td>\n",
              "      <td>2</td>\n",
              "      <td>free</td>\n",
              "      <td>little</td>\n",
              "      <td>little</td>\n",
              "      <td>4870</td>\n",
              "      <td>24</td>\n",
              "      <td>car</td>\n",
              "      <td>bad</td>\n",
              "    </tr>\n",
              "    <tr>\n",
              "      <th>...</th>\n",
              "      <td>...</td>\n",
              "      <td>...</td>\n",
              "      <td>...</td>\n",
              "      <td>...</td>\n",
              "      <td>...</td>\n",
              "      <td>...</td>\n",
              "      <td>...</td>\n",
              "      <td>...</td>\n",
              "      <td>...</td>\n",
              "      <td>...</td>\n",
              "      <td>...</td>\n",
              "    </tr>\n",
              "    <tr>\n",
              "      <th>995</th>\n",
              "      <td>995</td>\n",
              "      <td>31</td>\n",
              "      <td>female</td>\n",
              "      <td>1</td>\n",
              "      <td>own</td>\n",
              "      <td>little</td>\n",
              "      <td>NaN</td>\n",
              "      <td>1736</td>\n",
              "      <td>12</td>\n",
              "      <td>furniture/equipment</td>\n",
              "      <td>good</td>\n",
              "    </tr>\n",
              "    <tr>\n",
              "      <th>996</th>\n",
              "      <td>996</td>\n",
              "      <td>40</td>\n",
              "      <td>male</td>\n",
              "      <td>3</td>\n",
              "      <td>own</td>\n",
              "      <td>little</td>\n",
              "      <td>little</td>\n",
              "      <td>3857</td>\n",
              "      <td>30</td>\n",
              "      <td>car</td>\n",
              "      <td>good</td>\n",
              "    </tr>\n",
              "    <tr>\n",
              "      <th>997</th>\n",
              "      <td>997</td>\n",
              "      <td>38</td>\n",
              "      <td>male</td>\n",
              "      <td>2</td>\n",
              "      <td>own</td>\n",
              "      <td>little</td>\n",
              "      <td>NaN</td>\n",
              "      <td>804</td>\n",
              "      <td>12</td>\n",
              "      <td>radio/TV</td>\n",
              "      <td>good</td>\n",
              "    </tr>\n",
              "    <tr>\n",
              "      <th>998</th>\n",
              "      <td>998</td>\n",
              "      <td>23</td>\n",
              "      <td>male</td>\n",
              "      <td>2</td>\n",
              "      <td>free</td>\n",
              "      <td>little</td>\n",
              "      <td>little</td>\n",
              "      <td>1845</td>\n",
              "      <td>45</td>\n",
              "      <td>radio/TV</td>\n",
              "      <td>bad</td>\n",
              "    </tr>\n",
              "    <tr>\n",
              "      <th>999</th>\n",
              "      <td>999</td>\n",
              "      <td>27</td>\n",
              "      <td>male</td>\n",
              "      <td>2</td>\n",
              "      <td>own</td>\n",
              "      <td>moderate</td>\n",
              "      <td>moderate</td>\n",
              "      <td>4576</td>\n",
              "      <td>45</td>\n",
              "      <td>car</td>\n",
              "      <td>good</td>\n",
              "    </tr>\n",
              "  </tbody>\n",
              "</table>\n",
              "<p>1000 rows × 11 columns</p>\n",
              "</div>"
            ],
            "text/plain": [
              "     Unnamed: 0  Age     Sex  ...  Duration              Purpose  Risk\n",
              "0             0   67    male  ...         6             radio/TV  good\n",
              "1             1   22  female  ...        48             radio/TV   bad\n",
              "2             2   49    male  ...        12            education  good\n",
              "3             3   45    male  ...        42  furniture/equipment  good\n",
              "4             4   53    male  ...        24                  car   bad\n",
              "..          ...  ...     ...  ...       ...                  ...   ...\n",
              "995         995   31  female  ...        12  furniture/equipment  good\n",
              "996         996   40    male  ...        30                  car  good\n",
              "997         997   38    male  ...        12             radio/TV  good\n",
              "998         998   23    male  ...        45             radio/TV   bad\n",
              "999         999   27    male  ...        45                  car  good\n",
              "\n",
              "[1000 rows x 11 columns]"
            ]
          },
          "metadata": {},
          "execution_count": 5
        }
      ]
    },
    {
      "cell_type": "markdown",
      "metadata": {
        "id": "VIplfonRdQWC"
      },
      "source": [
        "The df has missing values which are going to be dropped before analyse."
      ]
    },
    {
      "cell_type": "code",
      "metadata": {
        "colab": {
          "base_uri": "https://localhost:8080/"
        },
        "id": "PuM_AjfJXiyD",
        "outputId": "ee198d31-0c9e-4d99-e8b5-80320c79f102"
      },
      "source": [
        "df.isnull().sum()"
      ],
      "execution_count": null,
      "outputs": [
        {
          "output_type": "execute_result",
          "data": {
            "text/plain": [
              "Unnamed: 0            0\n",
              "Age                   0\n",
              "Sex                   0\n",
              "Job                   0\n",
              "Housing               0\n",
              "Saving accounts     183\n",
              "Checking account    394\n",
              "Credit amount         0\n",
              "Duration              0\n",
              "Purpose               0\n",
              "Risk                  0\n",
              "dtype: int64"
            ]
          },
          "metadata": {},
          "execution_count": 6
        }
      ]
    },
    {
      "cell_type": "code",
      "metadata": {
        "id": "oSRYioQ_-JM5"
      },
      "source": [
        "df0 = df.dropna(subset=['Saving accounts','Checking account'],inplace=True)\n"
      ],
      "execution_count": null,
      "outputs": []
    },
    {
      "cell_type": "code",
      "metadata": {
        "id": "6Cs2CX-_33dG"
      },
      "source": [
        "df0 = df.drop(['Unnamed: 0'],axis=1)"
      ],
      "execution_count": null,
      "outputs": []
    },
    {
      "cell_type": "code",
      "metadata": {
        "colab": {
          "base_uri": "https://localhost:8080/",
          "height": 423
        },
        "id": "xWJvL6-Bp5Aw",
        "outputId": "0aeedf82-7a27-4171-f69c-6b009140594c"
      },
      "source": [
        "df0"
      ],
      "execution_count": null,
      "outputs": [
        {
          "output_type": "execute_result",
          "data": {
            "text/html": [
              "<div>\n",
              "<style scoped>\n",
              "    .dataframe tbody tr th:only-of-type {\n",
              "        vertical-align: middle;\n",
              "    }\n",
              "\n",
              "    .dataframe tbody tr th {\n",
              "        vertical-align: top;\n",
              "    }\n",
              "\n",
              "    .dataframe thead th {\n",
              "        text-align: right;\n",
              "    }\n",
              "</style>\n",
              "<table border=\"1\" class=\"dataframe\">\n",
              "  <thead>\n",
              "    <tr style=\"text-align: right;\">\n",
              "      <th></th>\n",
              "      <th>Age</th>\n",
              "      <th>Sex</th>\n",
              "      <th>Job</th>\n",
              "      <th>Housing</th>\n",
              "      <th>Saving accounts</th>\n",
              "      <th>Checking account</th>\n",
              "      <th>Credit amount</th>\n",
              "      <th>Duration</th>\n",
              "      <th>Purpose</th>\n",
              "      <th>Risk</th>\n",
              "    </tr>\n",
              "  </thead>\n",
              "  <tbody>\n",
              "    <tr>\n",
              "      <th>1</th>\n",
              "      <td>22</td>\n",
              "      <td>female</td>\n",
              "      <td>2</td>\n",
              "      <td>own</td>\n",
              "      <td>little</td>\n",
              "      <td>moderate</td>\n",
              "      <td>5951</td>\n",
              "      <td>48</td>\n",
              "      <td>radio/TV</td>\n",
              "      <td>bad</td>\n",
              "    </tr>\n",
              "    <tr>\n",
              "      <th>3</th>\n",
              "      <td>45</td>\n",
              "      <td>male</td>\n",
              "      <td>2</td>\n",
              "      <td>free</td>\n",
              "      <td>little</td>\n",
              "      <td>little</td>\n",
              "      <td>7882</td>\n",
              "      <td>42</td>\n",
              "      <td>furniture/equipment</td>\n",
              "      <td>good</td>\n",
              "    </tr>\n",
              "    <tr>\n",
              "      <th>4</th>\n",
              "      <td>53</td>\n",
              "      <td>male</td>\n",
              "      <td>2</td>\n",
              "      <td>free</td>\n",
              "      <td>little</td>\n",
              "      <td>little</td>\n",
              "      <td>4870</td>\n",
              "      <td>24</td>\n",
              "      <td>car</td>\n",
              "      <td>bad</td>\n",
              "    </tr>\n",
              "    <tr>\n",
              "      <th>7</th>\n",
              "      <td>35</td>\n",
              "      <td>male</td>\n",
              "      <td>3</td>\n",
              "      <td>rent</td>\n",
              "      <td>little</td>\n",
              "      <td>moderate</td>\n",
              "      <td>6948</td>\n",
              "      <td>36</td>\n",
              "      <td>car</td>\n",
              "      <td>good</td>\n",
              "    </tr>\n",
              "    <tr>\n",
              "      <th>9</th>\n",
              "      <td>28</td>\n",
              "      <td>male</td>\n",
              "      <td>3</td>\n",
              "      <td>own</td>\n",
              "      <td>little</td>\n",
              "      <td>moderate</td>\n",
              "      <td>5234</td>\n",
              "      <td>30</td>\n",
              "      <td>car</td>\n",
              "      <td>bad</td>\n",
              "    </tr>\n",
              "    <tr>\n",
              "      <th>...</th>\n",
              "      <td>...</td>\n",
              "      <td>...</td>\n",
              "      <td>...</td>\n",
              "      <td>...</td>\n",
              "      <td>...</td>\n",
              "      <td>...</td>\n",
              "      <td>...</td>\n",
              "      <td>...</td>\n",
              "      <td>...</td>\n",
              "      <td>...</td>\n",
              "    </tr>\n",
              "    <tr>\n",
              "      <th>989</th>\n",
              "      <td>48</td>\n",
              "      <td>male</td>\n",
              "      <td>1</td>\n",
              "      <td>own</td>\n",
              "      <td>little</td>\n",
              "      <td>moderate</td>\n",
              "      <td>1743</td>\n",
              "      <td>24</td>\n",
              "      <td>radio/TV</td>\n",
              "      <td>good</td>\n",
              "    </tr>\n",
              "    <tr>\n",
              "      <th>993</th>\n",
              "      <td>30</td>\n",
              "      <td>male</td>\n",
              "      <td>3</td>\n",
              "      <td>own</td>\n",
              "      <td>little</td>\n",
              "      <td>little</td>\n",
              "      <td>3959</td>\n",
              "      <td>36</td>\n",
              "      <td>furniture/equipment</td>\n",
              "      <td>good</td>\n",
              "    </tr>\n",
              "    <tr>\n",
              "      <th>996</th>\n",
              "      <td>40</td>\n",
              "      <td>male</td>\n",
              "      <td>3</td>\n",
              "      <td>own</td>\n",
              "      <td>little</td>\n",
              "      <td>little</td>\n",
              "      <td>3857</td>\n",
              "      <td>30</td>\n",
              "      <td>car</td>\n",
              "      <td>good</td>\n",
              "    </tr>\n",
              "    <tr>\n",
              "      <th>998</th>\n",
              "      <td>23</td>\n",
              "      <td>male</td>\n",
              "      <td>2</td>\n",
              "      <td>free</td>\n",
              "      <td>little</td>\n",
              "      <td>little</td>\n",
              "      <td>1845</td>\n",
              "      <td>45</td>\n",
              "      <td>radio/TV</td>\n",
              "      <td>bad</td>\n",
              "    </tr>\n",
              "    <tr>\n",
              "      <th>999</th>\n",
              "      <td>27</td>\n",
              "      <td>male</td>\n",
              "      <td>2</td>\n",
              "      <td>own</td>\n",
              "      <td>moderate</td>\n",
              "      <td>moderate</td>\n",
              "      <td>4576</td>\n",
              "      <td>45</td>\n",
              "      <td>car</td>\n",
              "      <td>good</td>\n",
              "    </tr>\n",
              "  </tbody>\n",
              "</table>\n",
              "<p>522 rows × 10 columns</p>\n",
              "</div>"
            ],
            "text/plain": [
              "     Age     Sex  Job  ... Duration              Purpose  Risk\n",
              "1     22  female    2  ...       48             radio/TV   bad\n",
              "3     45    male    2  ...       42  furniture/equipment  good\n",
              "4     53    male    2  ...       24                  car   bad\n",
              "7     35    male    3  ...       36                  car  good\n",
              "9     28    male    3  ...       30                  car   bad\n",
              "..   ...     ...  ...  ...      ...                  ...   ...\n",
              "989   48    male    1  ...       24             radio/TV  good\n",
              "993   30    male    3  ...       36  furniture/equipment  good\n",
              "996   40    male    3  ...       30                  car  good\n",
              "998   23    male    2  ...       45             radio/TV   bad\n",
              "999   27    male    2  ...       45                  car  good\n",
              "\n",
              "[522 rows x 10 columns]"
            ]
          },
          "metadata": {},
          "execution_count": 9
        }
      ]
    },
    {
      "cell_type": "code",
      "metadata": {
        "id": "PiTustfa8vzN"
      },
      "source": [
        "X0 = df0.drop(['Risk'], axis=1)"
      ],
      "execution_count": null,
      "outputs": []
    },
    {
      "cell_type": "code",
      "metadata": {
        "colab": {
          "base_uri": "https://localhost:8080/",
          "height": 423
        },
        "id": "grQsDRO61eH0",
        "outputId": "0cbfbfa0-0b3a-40bd-8779-dbc01d866396"
      },
      "source": [
        "X0"
      ],
      "execution_count": null,
      "outputs": [
        {
          "output_type": "execute_result",
          "data": {
            "text/html": [
              "<div>\n",
              "<style scoped>\n",
              "    .dataframe tbody tr th:only-of-type {\n",
              "        vertical-align: middle;\n",
              "    }\n",
              "\n",
              "    .dataframe tbody tr th {\n",
              "        vertical-align: top;\n",
              "    }\n",
              "\n",
              "    .dataframe thead th {\n",
              "        text-align: right;\n",
              "    }\n",
              "</style>\n",
              "<table border=\"1\" class=\"dataframe\">\n",
              "  <thead>\n",
              "    <tr style=\"text-align: right;\">\n",
              "      <th></th>\n",
              "      <th>Age</th>\n",
              "      <th>Sex</th>\n",
              "      <th>Job</th>\n",
              "      <th>Housing</th>\n",
              "      <th>Saving accounts</th>\n",
              "      <th>Checking account</th>\n",
              "      <th>Credit amount</th>\n",
              "      <th>Duration</th>\n",
              "      <th>Purpose</th>\n",
              "    </tr>\n",
              "  </thead>\n",
              "  <tbody>\n",
              "    <tr>\n",
              "      <th>1</th>\n",
              "      <td>22</td>\n",
              "      <td>female</td>\n",
              "      <td>2</td>\n",
              "      <td>own</td>\n",
              "      <td>little</td>\n",
              "      <td>moderate</td>\n",
              "      <td>5951</td>\n",
              "      <td>48</td>\n",
              "      <td>radio/TV</td>\n",
              "    </tr>\n",
              "    <tr>\n",
              "      <th>3</th>\n",
              "      <td>45</td>\n",
              "      <td>male</td>\n",
              "      <td>2</td>\n",
              "      <td>free</td>\n",
              "      <td>little</td>\n",
              "      <td>little</td>\n",
              "      <td>7882</td>\n",
              "      <td>42</td>\n",
              "      <td>furniture/equipment</td>\n",
              "    </tr>\n",
              "    <tr>\n",
              "      <th>4</th>\n",
              "      <td>53</td>\n",
              "      <td>male</td>\n",
              "      <td>2</td>\n",
              "      <td>free</td>\n",
              "      <td>little</td>\n",
              "      <td>little</td>\n",
              "      <td>4870</td>\n",
              "      <td>24</td>\n",
              "      <td>car</td>\n",
              "    </tr>\n",
              "    <tr>\n",
              "      <th>7</th>\n",
              "      <td>35</td>\n",
              "      <td>male</td>\n",
              "      <td>3</td>\n",
              "      <td>rent</td>\n",
              "      <td>little</td>\n",
              "      <td>moderate</td>\n",
              "      <td>6948</td>\n",
              "      <td>36</td>\n",
              "      <td>car</td>\n",
              "    </tr>\n",
              "    <tr>\n",
              "      <th>9</th>\n",
              "      <td>28</td>\n",
              "      <td>male</td>\n",
              "      <td>3</td>\n",
              "      <td>own</td>\n",
              "      <td>little</td>\n",
              "      <td>moderate</td>\n",
              "      <td>5234</td>\n",
              "      <td>30</td>\n",
              "      <td>car</td>\n",
              "    </tr>\n",
              "    <tr>\n",
              "      <th>...</th>\n",
              "      <td>...</td>\n",
              "      <td>...</td>\n",
              "      <td>...</td>\n",
              "      <td>...</td>\n",
              "      <td>...</td>\n",
              "      <td>...</td>\n",
              "      <td>...</td>\n",
              "      <td>...</td>\n",
              "      <td>...</td>\n",
              "    </tr>\n",
              "    <tr>\n",
              "      <th>989</th>\n",
              "      <td>48</td>\n",
              "      <td>male</td>\n",
              "      <td>1</td>\n",
              "      <td>own</td>\n",
              "      <td>little</td>\n",
              "      <td>moderate</td>\n",
              "      <td>1743</td>\n",
              "      <td>24</td>\n",
              "      <td>radio/TV</td>\n",
              "    </tr>\n",
              "    <tr>\n",
              "      <th>993</th>\n",
              "      <td>30</td>\n",
              "      <td>male</td>\n",
              "      <td>3</td>\n",
              "      <td>own</td>\n",
              "      <td>little</td>\n",
              "      <td>little</td>\n",
              "      <td>3959</td>\n",
              "      <td>36</td>\n",
              "      <td>furniture/equipment</td>\n",
              "    </tr>\n",
              "    <tr>\n",
              "      <th>996</th>\n",
              "      <td>40</td>\n",
              "      <td>male</td>\n",
              "      <td>3</td>\n",
              "      <td>own</td>\n",
              "      <td>little</td>\n",
              "      <td>little</td>\n",
              "      <td>3857</td>\n",
              "      <td>30</td>\n",
              "      <td>car</td>\n",
              "    </tr>\n",
              "    <tr>\n",
              "      <th>998</th>\n",
              "      <td>23</td>\n",
              "      <td>male</td>\n",
              "      <td>2</td>\n",
              "      <td>free</td>\n",
              "      <td>little</td>\n",
              "      <td>little</td>\n",
              "      <td>1845</td>\n",
              "      <td>45</td>\n",
              "      <td>radio/TV</td>\n",
              "    </tr>\n",
              "    <tr>\n",
              "      <th>999</th>\n",
              "      <td>27</td>\n",
              "      <td>male</td>\n",
              "      <td>2</td>\n",
              "      <td>own</td>\n",
              "      <td>moderate</td>\n",
              "      <td>moderate</td>\n",
              "      <td>4576</td>\n",
              "      <td>45</td>\n",
              "      <td>car</td>\n",
              "    </tr>\n",
              "  </tbody>\n",
              "</table>\n",
              "<p>522 rows × 9 columns</p>\n",
              "</div>"
            ],
            "text/plain": [
              "     Age     Sex  Job  ... Credit amount Duration              Purpose\n",
              "1     22  female    2  ...          5951       48             radio/TV\n",
              "3     45    male    2  ...          7882       42  furniture/equipment\n",
              "4     53    male    2  ...          4870       24                  car\n",
              "7     35    male    3  ...          6948       36                  car\n",
              "9     28    male    3  ...          5234       30                  car\n",
              "..   ...     ...  ...  ...           ...      ...                  ...\n",
              "989   48    male    1  ...          1743       24             radio/TV\n",
              "993   30    male    3  ...          3959       36  furniture/equipment\n",
              "996   40    male    3  ...          3857       30                  car\n",
              "998   23    male    2  ...          1845       45             radio/TV\n",
              "999   27    male    2  ...          4576       45                  car\n",
              "\n",
              "[522 rows x 9 columns]"
            ]
          },
          "metadata": {},
          "execution_count": 11
        }
      ]
    },
    {
      "cell_type": "code",
      "metadata": {
        "id": "JaNVryR8trKD"
      },
      "source": [
        "y0 = df0['Risk']"
      ],
      "execution_count": null,
      "outputs": []
    },
    {
      "cell_type": "code",
      "metadata": {
        "colab": {
          "base_uri": "https://localhost:8080/"
        },
        "id": "we7Oc7qarVL1",
        "outputId": "02b21315-1201-4d27-8bf5-7885e12623c7"
      },
      "source": [
        "y0"
      ],
      "execution_count": null,
      "outputs": [
        {
          "output_type": "execute_result",
          "data": {
            "text/plain": [
              "1       bad\n",
              "3      good\n",
              "4       bad\n",
              "7      good\n",
              "9       bad\n",
              "       ... \n",
              "989    good\n",
              "993    good\n",
              "996    good\n",
              "998     bad\n",
              "999    good\n",
              "Name: Risk, Length: 522, dtype: object"
            ]
          },
          "metadata": {},
          "execution_count": 13
        }
      ]
    },
    {
      "cell_type": "code",
      "metadata": {
        "id": "fgptxxeL8vtE"
      },
      "source": [
        "y0=pd.get_dummies(y0,columns=['Risk'])\n",
        "y0.drop('bad',axis=1,inplace=True)"
      ],
      "execution_count": null,
      "outputs": []
    },
    {
      "cell_type": "code",
      "metadata": {
        "id": "T3usg3aF9Cw7"
      },
      "source": [
        "X0=pd.get_dummies(X0, columns=[\"Sex\",\"Job\",\"Housing\",\"Saving accounts\", \"Checking account\", \"Purpose\"])\n",
        "X0.drop(\"Sex_male\",axis=1,inplace=True)\n",
        "X0.drop(\"Job_0\",axis=1,inplace=True)\n",
        "X0.drop(\"Housing_free\",axis=1,inplace=True)\n",
        "X0.drop(\"Saving accounts_little\",axis=1,inplace=True)\n",
        "X0.drop(\"Checking account_little\",axis=1,inplace=True)\n",
        "X0.drop(\"Purpose_business\",axis=1,inplace=True)"
      ],
      "execution_count": null,
      "outputs": []
    },
    {
      "cell_type": "code",
      "metadata": {
        "colab": {
          "base_uri": "https://localhost:8080/",
          "height": 478
        },
        "id": "MG98LfyCrYit",
        "outputId": "2cd6f2bb-a140-4258-b54d-6daeb863d98d"
      },
      "source": [
        "X0"
      ],
      "execution_count": null,
      "outputs": [
        {
          "output_type": "execute_result",
          "data": {
            "text/html": [
              "<div>\n",
              "<style scoped>\n",
              "    .dataframe tbody tr th:only-of-type {\n",
              "        vertical-align: middle;\n",
              "    }\n",
              "\n",
              "    .dataframe tbody tr th {\n",
              "        vertical-align: top;\n",
              "    }\n",
              "\n",
              "    .dataframe thead th {\n",
              "        text-align: right;\n",
              "    }\n",
              "</style>\n",
              "<table border=\"1\" class=\"dataframe\">\n",
              "  <thead>\n",
              "    <tr style=\"text-align: right;\">\n",
              "      <th></th>\n",
              "      <th>Age</th>\n",
              "      <th>Credit amount</th>\n",
              "      <th>Duration</th>\n",
              "      <th>Sex_female</th>\n",
              "      <th>Job_1</th>\n",
              "      <th>Job_2</th>\n",
              "      <th>Job_3</th>\n",
              "      <th>Housing_own</th>\n",
              "      <th>Housing_rent</th>\n",
              "      <th>Saving accounts_moderate</th>\n",
              "      <th>Saving accounts_quite rich</th>\n",
              "      <th>Saving accounts_rich</th>\n",
              "      <th>Checking account_moderate</th>\n",
              "      <th>Checking account_rich</th>\n",
              "      <th>Purpose_car</th>\n",
              "      <th>Purpose_domestic appliances</th>\n",
              "      <th>Purpose_education</th>\n",
              "      <th>Purpose_furniture/equipment</th>\n",
              "      <th>Purpose_radio/TV</th>\n",
              "      <th>Purpose_repairs</th>\n",
              "      <th>Purpose_vacation/others</th>\n",
              "    </tr>\n",
              "  </thead>\n",
              "  <tbody>\n",
              "    <tr>\n",
              "      <th>1</th>\n",
              "      <td>22</td>\n",
              "      <td>5951</td>\n",
              "      <td>48</td>\n",
              "      <td>1</td>\n",
              "      <td>0</td>\n",
              "      <td>1</td>\n",
              "      <td>0</td>\n",
              "      <td>1</td>\n",
              "      <td>0</td>\n",
              "      <td>0</td>\n",
              "      <td>0</td>\n",
              "      <td>0</td>\n",
              "      <td>1</td>\n",
              "      <td>0</td>\n",
              "      <td>0</td>\n",
              "      <td>0</td>\n",
              "      <td>0</td>\n",
              "      <td>0</td>\n",
              "      <td>1</td>\n",
              "      <td>0</td>\n",
              "      <td>0</td>\n",
              "    </tr>\n",
              "    <tr>\n",
              "      <th>3</th>\n",
              "      <td>45</td>\n",
              "      <td>7882</td>\n",
              "      <td>42</td>\n",
              "      <td>0</td>\n",
              "      <td>0</td>\n",
              "      <td>1</td>\n",
              "      <td>0</td>\n",
              "      <td>0</td>\n",
              "      <td>0</td>\n",
              "      <td>0</td>\n",
              "      <td>0</td>\n",
              "      <td>0</td>\n",
              "      <td>0</td>\n",
              "      <td>0</td>\n",
              "      <td>0</td>\n",
              "      <td>0</td>\n",
              "      <td>0</td>\n",
              "      <td>1</td>\n",
              "      <td>0</td>\n",
              "      <td>0</td>\n",
              "      <td>0</td>\n",
              "    </tr>\n",
              "    <tr>\n",
              "      <th>4</th>\n",
              "      <td>53</td>\n",
              "      <td>4870</td>\n",
              "      <td>24</td>\n",
              "      <td>0</td>\n",
              "      <td>0</td>\n",
              "      <td>1</td>\n",
              "      <td>0</td>\n",
              "      <td>0</td>\n",
              "      <td>0</td>\n",
              "      <td>0</td>\n",
              "      <td>0</td>\n",
              "      <td>0</td>\n",
              "      <td>0</td>\n",
              "      <td>0</td>\n",
              "      <td>1</td>\n",
              "      <td>0</td>\n",
              "      <td>0</td>\n",
              "      <td>0</td>\n",
              "      <td>0</td>\n",
              "      <td>0</td>\n",
              "      <td>0</td>\n",
              "    </tr>\n",
              "    <tr>\n",
              "      <th>7</th>\n",
              "      <td>35</td>\n",
              "      <td>6948</td>\n",
              "      <td>36</td>\n",
              "      <td>0</td>\n",
              "      <td>0</td>\n",
              "      <td>0</td>\n",
              "      <td>1</td>\n",
              "      <td>0</td>\n",
              "      <td>1</td>\n",
              "      <td>0</td>\n",
              "      <td>0</td>\n",
              "      <td>0</td>\n",
              "      <td>1</td>\n",
              "      <td>0</td>\n",
              "      <td>1</td>\n",
              "      <td>0</td>\n",
              "      <td>0</td>\n",
              "      <td>0</td>\n",
              "      <td>0</td>\n",
              "      <td>0</td>\n",
              "      <td>0</td>\n",
              "    </tr>\n",
              "    <tr>\n",
              "      <th>9</th>\n",
              "      <td>28</td>\n",
              "      <td>5234</td>\n",
              "      <td>30</td>\n",
              "      <td>0</td>\n",
              "      <td>0</td>\n",
              "      <td>0</td>\n",
              "      <td>1</td>\n",
              "      <td>1</td>\n",
              "      <td>0</td>\n",
              "      <td>0</td>\n",
              "      <td>0</td>\n",
              "      <td>0</td>\n",
              "      <td>1</td>\n",
              "      <td>0</td>\n",
              "      <td>1</td>\n",
              "      <td>0</td>\n",
              "      <td>0</td>\n",
              "      <td>0</td>\n",
              "      <td>0</td>\n",
              "      <td>0</td>\n",
              "      <td>0</td>\n",
              "    </tr>\n",
              "    <tr>\n",
              "      <th>...</th>\n",
              "      <td>...</td>\n",
              "      <td>...</td>\n",
              "      <td>...</td>\n",
              "      <td>...</td>\n",
              "      <td>...</td>\n",
              "      <td>...</td>\n",
              "      <td>...</td>\n",
              "      <td>...</td>\n",
              "      <td>...</td>\n",
              "      <td>...</td>\n",
              "      <td>...</td>\n",
              "      <td>...</td>\n",
              "      <td>...</td>\n",
              "      <td>...</td>\n",
              "      <td>...</td>\n",
              "      <td>...</td>\n",
              "      <td>...</td>\n",
              "      <td>...</td>\n",
              "      <td>...</td>\n",
              "      <td>...</td>\n",
              "      <td>...</td>\n",
              "    </tr>\n",
              "    <tr>\n",
              "      <th>989</th>\n",
              "      <td>48</td>\n",
              "      <td>1743</td>\n",
              "      <td>24</td>\n",
              "      <td>0</td>\n",
              "      <td>1</td>\n",
              "      <td>0</td>\n",
              "      <td>0</td>\n",
              "      <td>1</td>\n",
              "      <td>0</td>\n",
              "      <td>0</td>\n",
              "      <td>0</td>\n",
              "      <td>0</td>\n",
              "      <td>1</td>\n",
              "      <td>0</td>\n",
              "      <td>0</td>\n",
              "      <td>0</td>\n",
              "      <td>0</td>\n",
              "      <td>0</td>\n",
              "      <td>1</td>\n",
              "      <td>0</td>\n",
              "      <td>0</td>\n",
              "    </tr>\n",
              "    <tr>\n",
              "      <th>993</th>\n",
              "      <td>30</td>\n",
              "      <td>3959</td>\n",
              "      <td>36</td>\n",
              "      <td>0</td>\n",
              "      <td>0</td>\n",
              "      <td>0</td>\n",
              "      <td>1</td>\n",
              "      <td>1</td>\n",
              "      <td>0</td>\n",
              "      <td>0</td>\n",
              "      <td>0</td>\n",
              "      <td>0</td>\n",
              "      <td>0</td>\n",
              "      <td>0</td>\n",
              "      <td>0</td>\n",
              "      <td>0</td>\n",
              "      <td>0</td>\n",
              "      <td>1</td>\n",
              "      <td>0</td>\n",
              "      <td>0</td>\n",
              "      <td>0</td>\n",
              "    </tr>\n",
              "    <tr>\n",
              "      <th>996</th>\n",
              "      <td>40</td>\n",
              "      <td>3857</td>\n",
              "      <td>30</td>\n",
              "      <td>0</td>\n",
              "      <td>0</td>\n",
              "      <td>0</td>\n",
              "      <td>1</td>\n",
              "      <td>1</td>\n",
              "      <td>0</td>\n",
              "      <td>0</td>\n",
              "      <td>0</td>\n",
              "      <td>0</td>\n",
              "      <td>0</td>\n",
              "      <td>0</td>\n",
              "      <td>1</td>\n",
              "      <td>0</td>\n",
              "      <td>0</td>\n",
              "      <td>0</td>\n",
              "      <td>0</td>\n",
              "      <td>0</td>\n",
              "      <td>0</td>\n",
              "    </tr>\n",
              "    <tr>\n",
              "      <th>998</th>\n",
              "      <td>23</td>\n",
              "      <td>1845</td>\n",
              "      <td>45</td>\n",
              "      <td>0</td>\n",
              "      <td>0</td>\n",
              "      <td>1</td>\n",
              "      <td>0</td>\n",
              "      <td>0</td>\n",
              "      <td>0</td>\n",
              "      <td>0</td>\n",
              "      <td>0</td>\n",
              "      <td>0</td>\n",
              "      <td>0</td>\n",
              "      <td>0</td>\n",
              "      <td>0</td>\n",
              "      <td>0</td>\n",
              "      <td>0</td>\n",
              "      <td>0</td>\n",
              "      <td>1</td>\n",
              "      <td>0</td>\n",
              "      <td>0</td>\n",
              "    </tr>\n",
              "    <tr>\n",
              "      <th>999</th>\n",
              "      <td>27</td>\n",
              "      <td>4576</td>\n",
              "      <td>45</td>\n",
              "      <td>0</td>\n",
              "      <td>0</td>\n",
              "      <td>1</td>\n",
              "      <td>0</td>\n",
              "      <td>1</td>\n",
              "      <td>0</td>\n",
              "      <td>1</td>\n",
              "      <td>0</td>\n",
              "      <td>0</td>\n",
              "      <td>1</td>\n",
              "      <td>0</td>\n",
              "      <td>1</td>\n",
              "      <td>0</td>\n",
              "      <td>0</td>\n",
              "      <td>0</td>\n",
              "      <td>0</td>\n",
              "      <td>0</td>\n",
              "      <td>0</td>\n",
              "    </tr>\n",
              "  </tbody>\n",
              "</table>\n",
              "<p>522 rows × 21 columns</p>\n",
              "</div>"
            ],
            "text/plain": [
              "     Age  Credit amount  ...  Purpose_repairs  Purpose_vacation/others\n",
              "1     22           5951  ...                0                        0\n",
              "3     45           7882  ...                0                        0\n",
              "4     53           4870  ...                0                        0\n",
              "7     35           6948  ...                0                        0\n",
              "9     28           5234  ...                0                        0\n",
              "..   ...            ...  ...              ...                      ...\n",
              "989   48           1743  ...                0                        0\n",
              "993   30           3959  ...                0                        0\n",
              "996   40           3857  ...                0                        0\n",
              "998   23           1845  ...                0                        0\n",
              "999   27           4576  ...                0                        0\n",
              "\n",
              "[522 rows x 21 columns]"
            ]
          },
          "metadata": {},
          "execution_count": 16
        }
      ]
    },
    {
      "cell_type": "code",
      "metadata": {
        "colab": {
          "base_uri": "https://localhost:8080/",
          "height": 423
        },
        "id": "bsv16GlL11Dn",
        "outputId": "69af6cf3-8db9-4207-f403-e130f38d7cb4"
      },
      "source": [
        "y0"
      ],
      "execution_count": null,
      "outputs": [
        {
          "output_type": "execute_result",
          "data": {
            "text/html": [
              "<div>\n",
              "<style scoped>\n",
              "    .dataframe tbody tr th:only-of-type {\n",
              "        vertical-align: middle;\n",
              "    }\n",
              "\n",
              "    .dataframe tbody tr th {\n",
              "        vertical-align: top;\n",
              "    }\n",
              "\n",
              "    .dataframe thead th {\n",
              "        text-align: right;\n",
              "    }\n",
              "</style>\n",
              "<table border=\"1\" class=\"dataframe\">\n",
              "  <thead>\n",
              "    <tr style=\"text-align: right;\">\n",
              "      <th></th>\n",
              "      <th>good</th>\n",
              "    </tr>\n",
              "  </thead>\n",
              "  <tbody>\n",
              "    <tr>\n",
              "      <th>1</th>\n",
              "      <td>0</td>\n",
              "    </tr>\n",
              "    <tr>\n",
              "      <th>3</th>\n",
              "      <td>1</td>\n",
              "    </tr>\n",
              "    <tr>\n",
              "      <th>4</th>\n",
              "      <td>0</td>\n",
              "    </tr>\n",
              "    <tr>\n",
              "      <th>7</th>\n",
              "      <td>1</td>\n",
              "    </tr>\n",
              "    <tr>\n",
              "      <th>9</th>\n",
              "      <td>0</td>\n",
              "    </tr>\n",
              "    <tr>\n",
              "      <th>...</th>\n",
              "      <td>...</td>\n",
              "    </tr>\n",
              "    <tr>\n",
              "      <th>989</th>\n",
              "      <td>1</td>\n",
              "    </tr>\n",
              "    <tr>\n",
              "      <th>993</th>\n",
              "      <td>1</td>\n",
              "    </tr>\n",
              "    <tr>\n",
              "      <th>996</th>\n",
              "      <td>1</td>\n",
              "    </tr>\n",
              "    <tr>\n",
              "      <th>998</th>\n",
              "      <td>0</td>\n",
              "    </tr>\n",
              "    <tr>\n",
              "      <th>999</th>\n",
              "      <td>1</td>\n",
              "    </tr>\n",
              "  </tbody>\n",
              "</table>\n",
              "<p>522 rows × 1 columns</p>\n",
              "</div>"
            ],
            "text/plain": [
              "     good\n",
              "1       0\n",
              "3       1\n",
              "4       0\n",
              "7       1\n",
              "9       0\n",
              "..    ...\n",
              "989     1\n",
              "993     1\n",
              "996     1\n",
              "998     0\n",
              "999     1\n",
              "\n",
              "[522 rows x 1 columns]"
            ]
          },
          "metadata": {},
          "execution_count": 17
        }
      ]
    },
    {
      "cell_type": "markdown",
      "metadata": {
        "id": "W725QFZ4Exht"
      },
      "source": [
        "### In this section, all algorithms have been applied to dropping missing values on data.\n",
        "\n"
      ]
    },
    {
      "cell_type": "code",
      "metadata": {
        "id": "KkP-eA9stgjv"
      },
      "source": [
        "f1_score_list = {}"
      ],
      "execution_count": null,
      "outputs": []
    },
    {
      "cell_type": "markdown",
      "metadata": {
        "id": "RgC2xyFpEshz"
      },
      "source": [
        "#Logistic Regression (LR) "
      ]
    },
    {
      "cell_type": "code",
      "metadata": {
        "id": "wzwcMFJi9Ct8"
      },
      "source": [
        "mdl_LR0 = LogisticRegression(random_state=7)\n",
        "scale_mdl0 = StandardScaler()\n",
        "X0 = scale_mdl0.fit_transform(X0)"
      ],
      "execution_count": null,
      "outputs": []
    },
    {
      "cell_type": "code",
      "metadata": {
        "colab": {
          "base_uri": "https://localhost:8080/"
        },
        "id": "qECPKGMe-JQK",
        "outputId": "372574b4-ca65-429b-a578-821a549c866f"
      },
      "source": [
        "X_train0,X_test0,y_train0,y_test0 = train_test_split(X0,y0,test_size = 0.2, random_state = 7) \n",
        "\n",
        "mdl_LR0.fit(X_train0,np.ravel(y_train0))\n",
        "ypred_train_LR0 = mdl_LR0.predict(X_train0)\n",
        "ypred_test_LR0 = mdl_LR0.predict(X_test0)\n",
        "\n",
        "LR0_f1_score = f1_score(y_test0, ypred_test_LR0)\n",
        "print(LR0_f1_score)\n",
        "f1_score_list['LR0']= LR0_f1_score"
      ],
      "execution_count": null,
      "outputs": [
        {
          "output_type": "stream",
          "name": "stdout",
          "text": [
            "0.6896551724137931\n"
          ]
        }
      ]
    },
    {
      "cell_type": "markdown",
      "metadata": {
        "id": "ne6qvFyHFPH4"
      },
      "source": [
        "# Decision Tree (DT)"
      ]
    },
    {
      "cell_type": "code",
      "metadata": {
        "colab": {
          "base_uri": "https://localhost:8080/"
        },
        "id": "sxClxtqZAtVM",
        "outputId": "98368458-6ab6-47d2-ea9e-d0f928ae31b6"
      },
      "source": [
        "mdl_DT0 = DecisionTreeClassifier(random_state=7)\n",
        "\n",
        "mdl_DT0.fit(X_train0,np.ravel(y_train0))\n",
        "ypred_train_DT0 = mdl_DT0.predict(X_train0)\n",
        "ypred_test_DT0 = mdl_DT0.predict(X_test0)\n",
        "\n",
        "DT0_f1_score = f1_score(y_test0, ypred_test_DT0)\n",
        "print(DT0_f1_score)\n",
        "f1_score_list['DT0']= DT0_f1_score"
      ],
      "execution_count": null,
      "outputs": [
        {
          "output_type": "stream",
          "name": "stdout",
          "text": [
            "0.6923076923076923\n"
          ]
        }
      ]
    },
    {
      "cell_type": "code",
      "metadata": {
        "colab": {
          "base_uri": "https://localhost:8080/"
        },
        "id": "fYufbtOguiVD",
        "outputId": "2c32d83a-e797-44d6-e46a-cd29bcc88398"
      },
      "source": [
        "f1_score_list"
      ],
      "execution_count": null,
      "outputs": [
        {
          "output_type": "execute_result",
          "data": {
            "text/plain": [
              "{'DT0': 0.6923076923076923, 'LR0': 0.6896551724137931}"
            ]
          },
          "metadata": {},
          "execution_count": 22
        }
      ]
    },
    {
      "cell_type": "code",
      "metadata": {
        "colab": {
          "base_uri": "https://localhost:8080/",
          "height": 112
        },
        "id": "eRgxv4ZgusDa",
        "outputId": "22c64cda-ff95-4f91-eeca-3c11de0d14b5"
      },
      "source": [
        "f1_scores = pd.DataFrame(f1_score_list.values(),index=f1_score_list.keys())\n",
        "f1_scores"
      ],
      "execution_count": null,
      "outputs": [
        {
          "output_type": "execute_result",
          "data": {
            "text/html": [
              "<div>\n",
              "<style scoped>\n",
              "    .dataframe tbody tr th:only-of-type {\n",
              "        vertical-align: middle;\n",
              "    }\n",
              "\n",
              "    .dataframe tbody tr th {\n",
              "        vertical-align: top;\n",
              "    }\n",
              "\n",
              "    .dataframe thead th {\n",
              "        text-align: right;\n",
              "    }\n",
              "</style>\n",
              "<table border=\"1\" class=\"dataframe\">\n",
              "  <thead>\n",
              "    <tr style=\"text-align: right;\">\n",
              "      <th></th>\n",
              "      <th>0</th>\n",
              "    </tr>\n",
              "  </thead>\n",
              "  <tbody>\n",
              "    <tr>\n",
              "      <th>LR0</th>\n",
              "      <td>0.689655</td>\n",
              "    </tr>\n",
              "    <tr>\n",
              "      <th>DT0</th>\n",
              "      <td>0.692308</td>\n",
              "    </tr>\n",
              "  </tbody>\n",
              "</table>\n",
              "</div>"
            ],
            "text/plain": [
              "            0\n",
              "LR0  0.689655\n",
              "DT0  0.692308"
            ]
          },
          "metadata": {},
          "execution_count": 23
        }
      ]
    },
    {
      "cell_type": "markdown",
      "metadata": {
        "id": "rWjABF9bFV8n"
      },
      "source": [
        "# Random Forest (RF)"
      ]
    },
    {
      "cell_type": "code",
      "metadata": {
        "colab": {
          "base_uri": "https://localhost:8080/"
        },
        "id": "LtX0PNgQAtSM",
        "outputId": "2e0f1dd0-75c2-4284-991e-13719138e7a2"
      },
      "source": [
        "mdl_RF0 = RandomForestClassifier(random_state=7)\n",
        "classifierRF0 = RandomForestClassifier(n_estimators = 200, criterion = 'entropy', random_state = 7)\n",
        "classifierRF0.fit(X_train0,np.ravel(y_train0))"
      ],
      "execution_count": null,
      "outputs": [
        {
          "output_type": "execute_result",
          "data": {
            "text/plain": [
              "RandomForestClassifier(bootstrap=True, ccp_alpha=0.0, class_weight=None,\n",
              "                       criterion='entropy', max_depth=None, max_features='auto',\n",
              "                       max_leaf_nodes=None, max_samples=None,\n",
              "                       min_impurity_decrease=0.0, min_impurity_split=None,\n",
              "                       min_samples_leaf=1, min_samples_split=2,\n",
              "                       min_weight_fraction_leaf=0.0, n_estimators=200,\n",
              "                       n_jobs=None, oob_score=False, random_state=7, verbose=0,\n",
              "                       warm_start=False)"
            ]
          },
          "metadata": {},
          "execution_count": 24
        }
      ]
    },
    {
      "cell_type": "code",
      "metadata": {
        "id": "DK9Y3MVdGOIZ"
      },
      "source": [
        "y_pred_RF0 = classifierRF0.predict(X_test0)"
      ],
      "execution_count": null,
      "outputs": []
    },
    {
      "cell_type": "code",
      "metadata": {
        "colab": {
          "base_uri": "https://localhost:8080/"
        },
        "id": "FUpn-nUUGHH6",
        "outputId": "df05e2fe-1879-4645-bf4a-7472abb62ca4"
      },
      "source": [
        "RF0_f1_score = f1_score(y_test0, y_pred_RF0)\n",
        "print(RF0_f1_score)\n",
        "f1_score_list['RF0']= RF0_f1_score"
      ],
      "execution_count": null,
      "outputs": [
        {
          "output_type": "stream",
          "name": "stdout",
          "text": [
            "0.7304347826086955\n"
          ]
        }
      ]
    },
    {
      "cell_type": "markdown",
      "metadata": {
        "id": "4jYPxLpNHJqe"
      },
      "source": [
        "# Naive Bayes (NB)"
      ]
    },
    {
      "cell_type": "code",
      "metadata": {
        "id": "2Fw52dr5AtPE"
      },
      "source": [
        "mdl_NB0 = GaussianNB()"
      ],
      "execution_count": null,
      "outputs": []
    },
    {
      "cell_type": "code",
      "metadata": {
        "colab": {
          "base_uri": "https://localhost:8080/"
        },
        "id": "erbBIilMHI3U",
        "outputId": "38e8b687-ea72-4877-f4d4-d5dbe5034abb"
      },
      "source": [
        "classifierNB0 = GaussianNB()\n",
        "classifierNB0.fit(X_train0, np.ravel(y_train0))"
      ],
      "execution_count": null,
      "outputs": [
        {
          "output_type": "execute_result",
          "data": {
            "text/plain": [
              "GaussianNB(priors=None, var_smoothing=1e-09)"
            ]
          },
          "metadata": {},
          "execution_count": 28
        }
      ]
    },
    {
      "cell_type": "code",
      "metadata": {
        "id": "bh45Tit5HX7Z"
      },
      "source": [
        "y_pred_NB0 = classifierNB0.predict(X_test0)"
      ],
      "execution_count": null,
      "outputs": []
    },
    {
      "cell_type": "code",
      "metadata": {
        "colab": {
          "base_uri": "https://localhost:8080/"
        },
        "id": "DQjvraJyHX0X",
        "outputId": "7f548a36-2100-4581-f2b8-eeb9f509a3f6"
      },
      "source": [
        "NB0_f1_score = f1_score(y_test0, y_pred_NB0)\n",
        "print(NB0_f1_score)\n",
        "f1_score_list['NB0']= NB0_f1_score"
      ],
      "execution_count": null,
      "outputs": [
        {
          "output_type": "stream",
          "name": "stdout",
          "text": [
            "0.6216216216216216\n"
          ]
        }
      ]
    },
    {
      "cell_type": "markdown",
      "metadata": {
        "id": "RNcACAQZH1Jn"
      },
      "source": [
        "# K-Nearest Neighbour (KNN)\n"
      ]
    },
    {
      "cell_type": "code",
      "metadata": {
        "id": "jkX9zVUOAxRN"
      },
      "source": [
        "mdl_KNN0 = KNeighborsClassifier()"
      ],
      "execution_count": null,
      "outputs": []
    },
    {
      "cell_type": "code",
      "metadata": {
        "colab": {
          "base_uri": "https://localhost:8080/"
        },
        "id": "bllpClBbINDG",
        "outputId": "78b422c9-2db4-48a6-e295-9189fefe7380"
      },
      "source": [
        "classifierKNN0 = KNeighborsClassifier(n_neighbors=5)\n",
        "classifierKNN0.fit(X_train0, np.ravel(y_train0))"
      ],
      "execution_count": null,
      "outputs": [
        {
          "output_type": "execute_result",
          "data": {
            "text/plain": [
              "KNeighborsClassifier(algorithm='auto', leaf_size=30, metric='minkowski',\n",
              "                     metric_params=None, n_jobs=None, n_neighbors=5, p=2,\n",
              "                     weights='uniform')"
            ]
          },
          "metadata": {},
          "execution_count": 32
        }
      ]
    },
    {
      "cell_type": "code",
      "metadata": {
        "id": "yDNSYK3wIM_N"
      },
      "source": [
        "y_pred_KNN0 = classifierKNN0.predict(X_test0)"
      ],
      "execution_count": null,
      "outputs": []
    },
    {
      "cell_type": "code",
      "metadata": {
        "colab": {
          "base_uri": "https://localhost:8080/"
        },
        "id": "Y5AVrM70IM7n",
        "outputId": "cd79172c-1c26-4464-e9cc-4e9eb222cf20"
      },
      "source": [
        "KNN0_f1_score = f1_score(y_test0, y_pred_KNN0)\n",
        "print(KNN0_f1_score)\n",
        "f1_score_list['KNN0']= KNN0_f1_score"
      ],
      "execution_count": null,
      "outputs": [
        {
          "output_type": "stream",
          "name": "stdout",
          "text": [
            "0.5982905982905983\n"
          ]
        }
      ]
    },
    {
      "cell_type": "markdown",
      "metadata": {
        "id": "KBcJcVkWINr9"
      },
      "source": [
        "# Support Vector Machine (SVM)"
      ]
    },
    {
      "cell_type": "code",
      "metadata": {
        "id": "0QNcVlvEAxOI"
      },
      "source": [
        "mdl_SVM0 = SVC()"
      ],
      "execution_count": null,
      "outputs": []
    },
    {
      "cell_type": "code",
      "metadata": {
        "colab": {
          "base_uri": "https://localhost:8080/"
        },
        "id": "1LcALYlHIZVS",
        "outputId": "c13e85ae-1ecc-43f4-a89e-49163d9d4bca"
      },
      "source": [
        "classifierSVM0 = SVC(kernel = 'linear', random_state = 7)\n",
        "classifierSVM0.fit(X_train0, np.ravel(y_train0))"
      ],
      "execution_count": null,
      "outputs": [
        {
          "output_type": "execute_result",
          "data": {
            "text/plain": [
              "SVC(C=1.0, break_ties=False, cache_size=200, class_weight=None, coef0=0.0,\n",
              "    decision_function_shape='ovr', degree=3, gamma='scale', kernel='linear',\n",
              "    max_iter=-1, probability=False, random_state=7, shrinking=True, tol=0.001,\n",
              "    verbose=False)"
            ]
          },
          "metadata": {},
          "execution_count": 36
        }
      ]
    },
    {
      "cell_type": "code",
      "metadata": {
        "id": "C_KGGysuIZOz"
      },
      "source": [
        "y_pred_SVM0 = classifierSVM0.predict(X_test0)"
      ],
      "execution_count": null,
      "outputs": []
    },
    {
      "cell_type": "code",
      "metadata": {
        "colab": {
          "base_uri": "https://localhost:8080/"
        },
        "id": "cNTybtOJIZLr",
        "outputId": "03495214-282c-4e0a-b50e-5d8dcb70699d"
      },
      "source": [
        "SVM0_f1_score = f1_score(y_test0, y_pred_SVM0)\n",
        "print(SVM0_f1_score)\n",
        "f1_score_list['SVM0']= SVM0_f1_score"
      ],
      "execution_count": null,
      "outputs": [
        {
          "output_type": "stream",
          "name": "stdout",
          "text": [
            "0.6829268292682927\n"
          ]
        }
      ]
    },
    {
      "cell_type": "markdown",
      "metadata": {
        "id": "XvlafK-xIZv3"
      },
      "source": [
        "# XGBoost Classifier (XGB)"
      ]
    },
    {
      "cell_type": "code",
      "metadata": {
        "colab": {
          "base_uri": "https://localhost:8080/"
        },
        "id": "Us2i1ksPIhbl",
        "outputId": "377946d0-95f1-40d1-9788-89c370176b20"
      },
      "source": [
        "params = {'objective':'binary:logistic','max_depth': 4,'alpha': 10,'learning_rate': 1.0,'n_estimators':100}\n",
        "\n",
        "xgb_clf0 = XGBClassifier(**params)\n",
        "\n",
        "xgb_clf0.fit(X_train0, np.ravel(y_train0))"
      ],
      "execution_count": null,
      "outputs": [
        {
          "output_type": "execute_result",
          "data": {
            "text/plain": [
              "XGBClassifier(alpha=10, base_score=0.5, booster='gbtree', colsample_bylevel=1,\n",
              "              colsample_bynode=1, colsample_bytree=1, gamma=0,\n",
              "              learning_rate=1.0, max_delta_step=0, max_depth=4,\n",
              "              min_child_weight=1, missing=None, n_estimators=100, n_jobs=1,\n",
              "              nthread=None, objective='binary:logistic', random_state=0,\n",
              "              reg_alpha=0, reg_lambda=1, scale_pos_weight=1, seed=None,\n",
              "              silent=None, subsample=1, verbosity=1)"
            ]
          },
          "metadata": {},
          "execution_count": 39
        }
      ]
    },
    {
      "cell_type": "code",
      "metadata": {
        "colab": {
          "base_uri": "https://localhost:8080/"
        },
        "id": "XkozJt3bIhYs",
        "outputId": "38471fb3-4c88-47c6-b489-16bc2b8a44dc"
      },
      "source": [
        "print(xgb_clf0)"
      ],
      "execution_count": null,
      "outputs": [
        {
          "output_type": "stream",
          "name": "stdout",
          "text": [
            "XGBClassifier(alpha=10, base_score=0.5, booster='gbtree', colsample_bylevel=1,\n",
            "              colsample_bynode=1, colsample_bytree=1, gamma=0,\n",
            "              learning_rate=1.0, max_delta_step=0, max_depth=4,\n",
            "              min_child_weight=1, missing=None, n_estimators=100, n_jobs=1,\n",
            "              nthread=None, objective='binary:logistic', random_state=0,\n",
            "              reg_alpha=0, reg_lambda=1, scale_pos_weight=1, seed=None,\n",
            "              silent=None, subsample=1, verbosity=1)\n"
          ]
        }
      ]
    },
    {
      "cell_type": "code",
      "metadata": {
        "id": "fmvRZuI_IhVg"
      },
      "source": [
        "y_pred_XGB0 = xgb_clf0.predict(X_test0)"
      ],
      "execution_count": null,
      "outputs": []
    },
    {
      "cell_type": "code",
      "metadata": {
        "colab": {
          "base_uri": "https://localhost:8080/"
        },
        "id": "w-1t5RxSIhSb",
        "outputId": "5904c692-6f3a-4e7e-903f-03770f0830c5"
      },
      "source": [
        "XGB0_f1_score = f1_score(y_test0, y_pred_XGB0)\n",
        "print(XGB0_f1_score)\n",
        "f1_score_list['XGB0']= XGB0_f1_score"
      ],
      "execution_count": null,
      "outputs": [
        {
          "output_type": "stream",
          "name": "stdout",
          "text": [
            "0.6964285714285713\n"
          ]
        }
      ]
    },
    {
      "cell_type": "markdown",
      "metadata": {
        "id": "xcOdg7xgKA0d"
      },
      "source": [
        "### In this section, all algorithms have been applied to data with missing values. \n",
        "\n"
      ]
    },
    {
      "cell_type": "code",
      "metadata": {
        "colab": {
          "base_uri": "https://localhost:8080/",
          "height": 423
        },
        "id": "uR89SLXr1C7c",
        "outputId": "84602834-7e7c-4bc0-a08d-ee354f1dee69"
      },
      "source": [
        "df1"
      ],
      "execution_count": null,
      "outputs": [
        {
          "output_type": "execute_result",
          "data": {
            "text/html": [
              "<div>\n",
              "<style scoped>\n",
              "    .dataframe tbody tr th:only-of-type {\n",
              "        vertical-align: middle;\n",
              "    }\n",
              "\n",
              "    .dataframe tbody tr th {\n",
              "        vertical-align: top;\n",
              "    }\n",
              "\n",
              "    .dataframe thead th {\n",
              "        text-align: right;\n",
              "    }\n",
              "</style>\n",
              "<table border=\"1\" class=\"dataframe\">\n",
              "  <thead>\n",
              "    <tr style=\"text-align: right;\">\n",
              "      <th></th>\n",
              "      <th>Unnamed: 0</th>\n",
              "      <th>Age</th>\n",
              "      <th>Sex</th>\n",
              "      <th>Job</th>\n",
              "      <th>Housing</th>\n",
              "      <th>Saving accounts</th>\n",
              "      <th>Checking account</th>\n",
              "      <th>Credit amount</th>\n",
              "      <th>Duration</th>\n",
              "      <th>Purpose</th>\n",
              "      <th>Risk</th>\n",
              "    </tr>\n",
              "  </thead>\n",
              "  <tbody>\n",
              "    <tr>\n",
              "      <th>0</th>\n",
              "      <td>0</td>\n",
              "      <td>67</td>\n",
              "      <td>male</td>\n",
              "      <td>2</td>\n",
              "      <td>own</td>\n",
              "      <td>NaN</td>\n",
              "      <td>little</td>\n",
              "      <td>1169</td>\n",
              "      <td>6</td>\n",
              "      <td>radio/TV</td>\n",
              "      <td>good</td>\n",
              "    </tr>\n",
              "    <tr>\n",
              "      <th>1</th>\n",
              "      <td>1</td>\n",
              "      <td>22</td>\n",
              "      <td>female</td>\n",
              "      <td>2</td>\n",
              "      <td>own</td>\n",
              "      <td>little</td>\n",
              "      <td>moderate</td>\n",
              "      <td>5951</td>\n",
              "      <td>48</td>\n",
              "      <td>radio/TV</td>\n",
              "      <td>bad</td>\n",
              "    </tr>\n",
              "    <tr>\n",
              "      <th>2</th>\n",
              "      <td>2</td>\n",
              "      <td>49</td>\n",
              "      <td>male</td>\n",
              "      <td>1</td>\n",
              "      <td>own</td>\n",
              "      <td>little</td>\n",
              "      <td>NaN</td>\n",
              "      <td>2096</td>\n",
              "      <td>12</td>\n",
              "      <td>education</td>\n",
              "      <td>good</td>\n",
              "    </tr>\n",
              "    <tr>\n",
              "      <th>3</th>\n",
              "      <td>3</td>\n",
              "      <td>45</td>\n",
              "      <td>male</td>\n",
              "      <td>2</td>\n",
              "      <td>free</td>\n",
              "      <td>little</td>\n",
              "      <td>little</td>\n",
              "      <td>7882</td>\n",
              "      <td>42</td>\n",
              "      <td>furniture/equipment</td>\n",
              "      <td>good</td>\n",
              "    </tr>\n",
              "    <tr>\n",
              "      <th>4</th>\n",
              "      <td>4</td>\n",
              "      <td>53</td>\n",
              "      <td>male</td>\n",
              "      <td>2</td>\n",
              "      <td>free</td>\n",
              "      <td>little</td>\n",
              "      <td>little</td>\n",
              "      <td>4870</td>\n",
              "      <td>24</td>\n",
              "      <td>car</td>\n",
              "      <td>bad</td>\n",
              "    </tr>\n",
              "    <tr>\n",
              "      <th>...</th>\n",
              "      <td>...</td>\n",
              "      <td>...</td>\n",
              "      <td>...</td>\n",
              "      <td>...</td>\n",
              "      <td>...</td>\n",
              "      <td>...</td>\n",
              "      <td>...</td>\n",
              "      <td>...</td>\n",
              "      <td>...</td>\n",
              "      <td>...</td>\n",
              "      <td>...</td>\n",
              "    </tr>\n",
              "    <tr>\n",
              "      <th>995</th>\n",
              "      <td>995</td>\n",
              "      <td>31</td>\n",
              "      <td>female</td>\n",
              "      <td>1</td>\n",
              "      <td>own</td>\n",
              "      <td>little</td>\n",
              "      <td>NaN</td>\n",
              "      <td>1736</td>\n",
              "      <td>12</td>\n",
              "      <td>furniture/equipment</td>\n",
              "      <td>good</td>\n",
              "    </tr>\n",
              "    <tr>\n",
              "      <th>996</th>\n",
              "      <td>996</td>\n",
              "      <td>40</td>\n",
              "      <td>male</td>\n",
              "      <td>3</td>\n",
              "      <td>own</td>\n",
              "      <td>little</td>\n",
              "      <td>little</td>\n",
              "      <td>3857</td>\n",
              "      <td>30</td>\n",
              "      <td>car</td>\n",
              "      <td>good</td>\n",
              "    </tr>\n",
              "    <tr>\n",
              "      <th>997</th>\n",
              "      <td>997</td>\n",
              "      <td>38</td>\n",
              "      <td>male</td>\n",
              "      <td>2</td>\n",
              "      <td>own</td>\n",
              "      <td>little</td>\n",
              "      <td>NaN</td>\n",
              "      <td>804</td>\n",
              "      <td>12</td>\n",
              "      <td>radio/TV</td>\n",
              "      <td>good</td>\n",
              "    </tr>\n",
              "    <tr>\n",
              "      <th>998</th>\n",
              "      <td>998</td>\n",
              "      <td>23</td>\n",
              "      <td>male</td>\n",
              "      <td>2</td>\n",
              "      <td>free</td>\n",
              "      <td>little</td>\n",
              "      <td>little</td>\n",
              "      <td>1845</td>\n",
              "      <td>45</td>\n",
              "      <td>radio/TV</td>\n",
              "      <td>bad</td>\n",
              "    </tr>\n",
              "    <tr>\n",
              "      <th>999</th>\n",
              "      <td>999</td>\n",
              "      <td>27</td>\n",
              "      <td>male</td>\n",
              "      <td>2</td>\n",
              "      <td>own</td>\n",
              "      <td>moderate</td>\n",
              "      <td>moderate</td>\n",
              "      <td>4576</td>\n",
              "      <td>45</td>\n",
              "      <td>car</td>\n",
              "      <td>good</td>\n",
              "    </tr>\n",
              "  </tbody>\n",
              "</table>\n",
              "<p>1000 rows × 11 columns</p>\n",
              "</div>"
            ],
            "text/plain": [
              "     Unnamed: 0  Age     Sex  ...  Duration              Purpose  Risk\n",
              "0             0   67    male  ...         6             radio/TV  good\n",
              "1             1   22  female  ...        48             radio/TV   bad\n",
              "2             2   49    male  ...        12            education  good\n",
              "3             3   45    male  ...        42  furniture/equipment  good\n",
              "4             4   53    male  ...        24                  car   bad\n",
              "..          ...  ...     ...  ...       ...                  ...   ...\n",
              "995         995   31  female  ...        12  furniture/equipment  good\n",
              "996         996   40    male  ...        30                  car  good\n",
              "997         997   38    male  ...        12             radio/TV  good\n",
              "998         998   23    male  ...        45             radio/TV   bad\n",
              "999         999   27    male  ...        45                  car  good\n",
              "\n",
              "[1000 rows x 11 columns]"
            ]
          },
          "metadata": {},
          "execution_count": 43
        }
      ]
    },
    {
      "cell_type": "code",
      "metadata": {
        "id": "ywU_Z2ctLVB_"
      },
      "source": [
        "df300=pd.DataFrame(df1)"
      ],
      "execution_count": null,
      "outputs": []
    },
    {
      "cell_type": "code",
      "metadata": {
        "id": "Q0ZQpRCFLoaV",
        "colab": {
          "base_uri": "https://localhost:8080/",
          "height": 423
        },
        "outputId": "6e8f9550-e363-415c-9af9-9cba364adcd1"
      },
      "source": [
        "df300"
      ],
      "execution_count": null,
      "outputs": [
        {
          "output_type": "execute_result",
          "data": {
            "text/html": [
              "<div>\n",
              "<style scoped>\n",
              "    .dataframe tbody tr th:only-of-type {\n",
              "        vertical-align: middle;\n",
              "    }\n",
              "\n",
              "    .dataframe tbody tr th {\n",
              "        vertical-align: top;\n",
              "    }\n",
              "\n",
              "    .dataframe thead th {\n",
              "        text-align: right;\n",
              "    }\n",
              "</style>\n",
              "<table border=\"1\" class=\"dataframe\">\n",
              "  <thead>\n",
              "    <tr style=\"text-align: right;\">\n",
              "      <th></th>\n",
              "      <th>Unnamed: 0</th>\n",
              "      <th>Age</th>\n",
              "      <th>Sex</th>\n",
              "      <th>Job</th>\n",
              "      <th>Housing</th>\n",
              "      <th>Saving accounts</th>\n",
              "      <th>Checking account</th>\n",
              "      <th>Credit amount</th>\n",
              "      <th>Duration</th>\n",
              "      <th>Purpose</th>\n",
              "      <th>Risk</th>\n",
              "    </tr>\n",
              "  </thead>\n",
              "  <tbody>\n",
              "    <tr>\n",
              "      <th>0</th>\n",
              "      <td>0</td>\n",
              "      <td>67</td>\n",
              "      <td>male</td>\n",
              "      <td>2</td>\n",
              "      <td>own</td>\n",
              "      <td>NaN</td>\n",
              "      <td>little</td>\n",
              "      <td>1169</td>\n",
              "      <td>6</td>\n",
              "      <td>radio/TV</td>\n",
              "      <td>good</td>\n",
              "    </tr>\n",
              "    <tr>\n",
              "      <th>1</th>\n",
              "      <td>1</td>\n",
              "      <td>22</td>\n",
              "      <td>female</td>\n",
              "      <td>2</td>\n",
              "      <td>own</td>\n",
              "      <td>little</td>\n",
              "      <td>moderate</td>\n",
              "      <td>5951</td>\n",
              "      <td>48</td>\n",
              "      <td>radio/TV</td>\n",
              "      <td>bad</td>\n",
              "    </tr>\n",
              "    <tr>\n",
              "      <th>2</th>\n",
              "      <td>2</td>\n",
              "      <td>49</td>\n",
              "      <td>male</td>\n",
              "      <td>1</td>\n",
              "      <td>own</td>\n",
              "      <td>little</td>\n",
              "      <td>NaN</td>\n",
              "      <td>2096</td>\n",
              "      <td>12</td>\n",
              "      <td>education</td>\n",
              "      <td>good</td>\n",
              "    </tr>\n",
              "    <tr>\n",
              "      <th>3</th>\n",
              "      <td>3</td>\n",
              "      <td>45</td>\n",
              "      <td>male</td>\n",
              "      <td>2</td>\n",
              "      <td>free</td>\n",
              "      <td>little</td>\n",
              "      <td>little</td>\n",
              "      <td>7882</td>\n",
              "      <td>42</td>\n",
              "      <td>furniture/equipment</td>\n",
              "      <td>good</td>\n",
              "    </tr>\n",
              "    <tr>\n",
              "      <th>4</th>\n",
              "      <td>4</td>\n",
              "      <td>53</td>\n",
              "      <td>male</td>\n",
              "      <td>2</td>\n",
              "      <td>free</td>\n",
              "      <td>little</td>\n",
              "      <td>little</td>\n",
              "      <td>4870</td>\n",
              "      <td>24</td>\n",
              "      <td>car</td>\n",
              "      <td>bad</td>\n",
              "    </tr>\n",
              "    <tr>\n",
              "      <th>...</th>\n",
              "      <td>...</td>\n",
              "      <td>...</td>\n",
              "      <td>...</td>\n",
              "      <td>...</td>\n",
              "      <td>...</td>\n",
              "      <td>...</td>\n",
              "      <td>...</td>\n",
              "      <td>...</td>\n",
              "      <td>...</td>\n",
              "      <td>...</td>\n",
              "      <td>...</td>\n",
              "    </tr>\n",
              "    <tr>\n",
              "      <th>995</th>\n",
              "      <td>995</td>\n",
              "      <td>31</td>\n",
              "      <td>female</td>\n",
              "      <td>1</td>\n",
              "      <td>own</td>\n",
              "      <td>little</td>\n",
              "      <td>NaN</td>\n",
              "      <td>1736</td>\n",
              "      <td>12</td>\n",
              "      <td>furniture/equipment</td>\n",
              "      <td>good</td>\n",
              "    </tr>\n",
              "    <tr>\n",
              "      <th>996</th>\n",
              "      <td>996</td>\n",
              "      <td>40</td>\n",
              "      <td>male</td>\n",
              "      <td>3</td>\n",
              "      <td>own</td>\n",
              "      <td>little</td>\n",
              "      <td>little</td>\n",
              "      <td>3857</td>\n",
              "      <td>30</td>\n",
              "      <td>car</td>\n",
              "      <td>good</td>\n",
              "    </tr>\n",
              "    <tr>\n",
              "      <th>997</th>\n",
              "      <td>997</td>\n",
              "      <td>38</td>\n",
              "      <td>male</td>\n",
              "      <td>2</td>\n",
              "      <td>own</td>\n",
              "      <td>little</td>\n",
              "      <td>NaN</td>\n",
              "      <td>804</td>\n",
              "      <td>12</td>\n",
              "      <td>radio/TV</td>\n",
              "      <td>good</td>\n",
              "    </tr>\n",
              "    <tr>\n",
              "      <th>998</th>\n",
              "      <td>998</td>\n",
              "      <td>23</td>\n",
              "      <td>male</td>\n",
              "      <td>2</td>\n",
              "      <td>free</td>\n",
              "      <td>little</td>\n",
              "      <td>little</td>\n",
              "      <td>1845</td>\n",
              "      <td>45</td>\n",
              "      <td>radio/TV</td>\n",
              "      <td>bad</td>\n",
              "    </tr>\n",
              "    <tr>\n",
              "      <th>999</th>\n",
              "      <td>999</td>\n",
              "      <td>27</td>\n",
              "      <td>male</td>\n",
              "      <td>2</td>\n",
              "      <td>own</td>\n",
              "      <td>moderate</td>\n",
              "      <td>moderate</td>\n",
              "      <td>4576</td>\n",
              "      <td>45</td>\n",
              "      <td>car</td>\n",
              "      <td>good</td>\n",
              "    </tr>\n",
              "  </tbody>\n",
              "</table>\n",
              "<p>1000 rows × 11 columns</p>\n",
              "</div>"
            ],
            "text/plain": [
              "     Unnamed: 0  Age     Sex  ...  Duration              Purpose  Risk\n",
              "0             0   67    male  ...         6             radio/TV  good\n",
              "1             1   22  female  ...        48             radio/TV   bad\n",
              "2             2   49    male  ...        12            education  good\n",
              "3             3   45    male  ...        42  furniture/equipment  good\n",
              "4             4   53    male  ...        24                  car   bad\n",
              "..          ...  ...     ...  ...       ...                  ...   ...\n",
              "995         995   31  female  ...        12  furniture/equipment  good\n",
              "996         996   40    male  ...        30                  car  good\n",
              "997         997   38    male  ...        12             radio/TV  good\n",
              "998         998   23    male  ...        45             radio/TV   bad\n",
              "999         999   27    male  ...        45                  car  good\n",
              "\n",
              "[1000 rows x 11 columns]"
            ]
          },
          "metadata": {},
          "execution_count": 45
        }
      ]
    },
    {
      "cell_type": "code",
      "metadata": {
        "id": "TQWo0Yr0zLxG"
      },
      "source": [
        "y1 = df1['Risk']"
      ],
      "execution_count": null,
      "outputs": []
    },
    {
      "cell_type": "code",
      "metadata": {
        "colab": {
          "base_uri": "https://localhost:8080/"
        },
        "id": "VlYoSHpkAFnl",
        "outputId": "57deaffb-42c4-4782-d7cf-fa17d254773e"
      },
      "source": [
        "y1"
      ],
      "execution_count": null,
      "outputs": [
        {
          "output_type": "execute_result",
          "data": {
            "text/plain": [
              "0      good\n",
              "1       bad\n",
              "2      good\n",
              "3      good\n",
              "4       bad\n",
              "       ... \n",
              "995    good\n",
              "996    good\n",
              "997    good\n",
              "998     bad\n",
              "999    good\n",
              "Name: Risk, Length: 1000, dtype: object"
            ]
          },
          "metadata": {},
          "execution_count": 47
        }
      ]
    },
    {
      "cell_type": "code",
      "metadata": {
        "id": "hrks4uvDxQg-"
      },
      "source": [
        "X1 = df1.drop(['Risk','Unnamed: 0'], axis=1)"
      ],
      "execution_count": null,
      "outputs": []
    },
    {
      "cell_type": "code",
      "metadata": {
        "colab": {
          "base_uri": "https://localhost:8080/",
          "height": 423
        },
        "id": "dZWpiwGeq6aL",
        "outputId": "03e769b9-824e-4c84-c907-5983a473706a"
      },
      "source": [
        "X1"
      ],
      "execution_count": null,
      "outputs": [
        {
          "output_type": "execute_result",
          "data": {
            "text/html": [
              "<div>\n",
              "<style scoped>\n",
              "    .dataframe tbody tr th:only-of-type {\n",
              "        vertical-align: middle;\n",
              "    }\n",
              "\n",
              "    .dataframe tbody tr th {\n",
              "        vertical-align: top;\n",
              "    }\n",
              "\n",
              "    .dataframe thead th {\n",
              "        text-align: right;\n",
              "    }\n",
              "</style>\n",
              "<table border=\"1\" class=\"dataframe\">\n",
              "  <thead>\n",
              "    <tr style=\"text-align: right;\">\n",
              "      <th></th>\n",
              "      <th>Age</th>\n",
              "      <th>Sex</th>\n",
              "      <th>Job</th>\n",
              "      <th>Housing</th>\n",
              "      <th>Saving accounts</th>\n",
              "      <th>Checking account</th>\n",
              "      <th>Credit amount</th>\n",
              "      <th>Duration</th>\n",
              "      <th>Purpose</th>\n",
              "    </tr>\n",
              "  </thead>\n",
              "  <tbody>\n",
              "    <tr>\n",
              "      <th>0</th>\n",
              "      <td>67</td>\n",
              "      <td>male</td>\n",
              "      <td>2</td>\n",
              "      <td>own</td>\n",
              "      <td>NaN</td>\n",
              "      <td>little</td>\n",
              "      <td>1169</td>\n",
              "      <td>6</td>\n",
              "      <td>radio/TV</td>\n",
              "    </tr>\n",
              "    <tr>\n",
              "      <th>1</th>\n",
              "      <td>22</td>\n",
              "      <td>female</td>\n",
              "      <td>2</td>\n",
              "      <td>own</td>\n",
              "      <td>little</td>\n",
              "      <td>moderate</td>\n",
              "      <td>5951</td>\n",
              "      <td>48</td>\n",
              "      <td>radio/TV</td>\n",
              "    </tr>\n",
              "    <tr>\n",
              "      <th>2</th>\n",
              "      <td>49</td>\n",
              "      <td>male</td>\n",
              "      <td>1</td>\n",
              "      <td>own</td>\n",
              "      <td>little</td>\n",
              "      <td>NaN</td>\n",
              "      <td>2096</td>\n",
              "      <td>12</td>\n",
              "      <td>education</td>\n",
              "    </tr>\n",
              "    <tr>\n",
              "      <th>3</th>\n",
              "      <td>45</td>\n",
              "      <td>male</td>\n",
              "      <td>2</td>\n",
              "      <td>free</td>\n",
              "      <td>little</td>\n",
              "      <td>little</td>\n",
              "      <td>7882</td>\n",
              "      <td>42</td>\n",
              "      <td>furniture/equipment</td>\n",
              "    </tr>\n",
              "    <tr>\n",
              "      <th>4</th>\n",
              "      <td>53</td>\n",
              "      <td>male</td>\n",
              "      <td>2</td>\n",
              "      <td>free</td>\n",
              "      <td>little</td>\n",
              "      <td>little</td>\n",
              "      <td>4870</td>\n",
              "      <td>24</td>\n",
              "      <td>car</td>\n",
              "    </tr>\n",
              "    <tr>\n",
              "      <th>...</th>\n",
              "      <td>...</td>\n",
              "      <td>...</td>\n",
              "      <td>...</td>\n",
              "      <td>...</td>\n",
              "      <td>...</td>\n",
              "      <td>...</td>\n",
              "      <td>...</td>\n",
              "      <td>...</td>\n",
              "      <td>...</td>\n",
              "    </tr>\n",
              "    <tr>\n",
              "      <th>995</th>\n",
              "      <td>31</td>\n",
              "      <td>female</td>\n",
              "      <td>1</td>\n",
              "      <td>own</td>\n",
              "      <td>little</td>\n",
              "      <td>NaN</td>\n",
              "      <td>1736</td>\n",
              "      <td>12</td>\n",
              "      <td>furniture/equipment</td>\n",
              "    </tr>\n",
              "    <tr>\n",
              "      <th>996</th>\n",
              "      <td>40</td>\n",
              "      <td>male</td>\n",
              "      <td>3</td>\n",
              "      <td>own</td>\n",
              "      <td>little</td>\n",
              "      <td>little</td>\n",
              "      <td>3857</td>\n",
              "      <td>30</td>\n",
              "      <td>car</td>\n",
              "    </tr>\n",
              "    <tr>\n",
              "      <th>997</th>\n",
              "      <td>38</td>\n",
              "      <td>male</td>\n",
              "      <td>2</td>\n",
              "      <td>own</td>\n",
              "      <td>little</td>\n",
              "      <td>NaN</td>\n",
              "      <td>804</td>\n",
              "      <td>12</td>\n",
              "      <td>radio/TV</td>\n",
              "    </tr>\n",
              "    <tr>\n",
              "      <th>998</th>\n",
              "      <td>23</td>\n",
              "      <td>male</td>\n",
              "      <td>2</td>\n",
              "      <td>free</td>\n",
              "      <td>little</td>\n",
              "      <td>little</td>\n",
              "      <td>1845</td>\n",
              "      <td>45</td>\n",
              "      <td>radio/TV</td>\n",
              "    </tr>\n",
              "    <tr>\n",
              "      <th>999</th>\n",
              "      <td>27</td>\n",
              "      <td>male</td>\n",
              "      <td>2</td>\n",
              "      <td>own</td>\n",
              "      <td>moderate</td>\n",
              "      <td>moderate</td>\n",
              "      <td>4576</td>\n",
              "      <td>45</td>\n",
              "      <td>car</td>\n",
              "    </tr>\n",
              "  </tbody>\n",
              "</table>\n",
              "<p>1000 rows × 9 columns</p>\n",
              "</div>"
            ],
            "text/plain": [
              "     Age     Sex  Job  ... Credit amount Duration              Purpose\n",
              "0     67    male    2  ...          1169        6             radio/TV\n",
              "1     22  female    2  ...          5951       48             radio/TV\n",
              "2     49    male    1  ...          2096       12            education\n",
              "3     45    male    2  ...          7882       42  furniture/equipment\n",
              "4     53    male    2  ...          4870       24                  car\n",
              "..   ...     ...  ...  ...           ...      ...                  ...\n",
              "995   31  female    1  ...          1736       12  furniture/equipment\n",
              "996   40    male    3  ...          3857       30                  car\n",
              "997   38    male    2  ...           804       12             radio/TV\n",
              "998   23    male    2  ...          1845       45             radio/TV\n",
              "999   27    male    2  ...          4576       45                  car\n",
              "\n",
              "[1000 rows x 9 columns]"
            ]
          },
          "metadata": {},
          "execution_count": 49
        }
      ]
    },
    {
      "cell_type": "code",
      "metadata": {
        "id": "mJgsBP3vKgj3"
      },
      "source": [
        "y1=pd.get_dummies(y1,columns=['Risk'])\n",
        "y1.drop('bad',axis=1,inplace=True)"
      ],
      "execution_count": null,
      "outputs": []
    },
    {
      "cell_type": "code",
      "metadata": {
        "id": "o3f3jwdeKgea"
      },
      "source": [
        "X1=pd.get_dummies(X1, columns=[\"Sex\",\"Job\",\"Housing\",\"Saving accounts\", \"Checking account\", \"Purpose\"])\n",
        "X1.drop(\"Sex_male\",axis=1,inplace=True)\n",
        "X1.drop(\"Job_0\",axis=1,inplace=True)\n",
        "X1.drop(\"Housing_free\",axis=1,inplace=True)\n",
        "X1.drop(\"Saving accounts_little\",axis=1,inplace=True)\n",
        "X1.drop(\"Checking account_little\",axis=1,inplace=True)\n",
        "X1.drop(\"Purpose_business\",axis=1,inplace=True)"
      ],
      "execution_count": null,
      "outputs": []
    },
    {
      "cell_type": "markdown",
      "metadata": {
        "id": "P2_zrYGmLZ2n"
      },
      "source": [
        "# Logistic Regression"
      ]
    },
    {
      "cell_type": "code",
      "metadata": {
        "id": "kcxvmVT8LJAN"
      },
      "source": [
        "mdl_LR1 = LogisticRegression()\n",
        "scale_mdl1 = StandardScaler()\n",
        "X1 = scale_mdl1.fit_transform(X1)"
      ],
      "execution_count": null,
      "outputs": []
    },
    {
      "cell_type": "code",
      "metadata": {
        "colab": {
          "base_uri": "https://localhost:8080/"
        },
        "id": "YlTcE-kqLI94",
        "outputId": "9dc5dbfc-fbb8-470a-9823-97b1d76b0c02"
      },
      "source": [
        "X_train1,X_test1,y_train1,y_test1 = train_test_split(X1,y1,test_size = 0.2, random_state = 7) \n",
        "\n",
        "mdl_LR1.fit(X_train1,np.ravel(y_train1))\n",
        "ypred_train_LR1 = mdl_LR1.predict(X_train1)\n",
        "ypred_test_LR1 = mdl_LR1.predict(X_test1)\n",
        "\n",
        "LR1_f1_score = f1_score(y_test1, ypred_test_LR1)\n",
        "print(LR1_f1_score)\n",
        "f1_score_list['LR1']= LR1_f1_score"
      ],
      "execution_count": null,
      "outputs": [
        {
          "output_type": "stream",
          "name": "stdout",
          "text": [
            "0.8395061728395061\n"
          ]
        }
      ]
    },
    {
      "cell_type": "markdown",
      "metadata": {
        "id": "IhYRwPlSMLPK"
      },
      "source": [
        "# Decision Tree (DT)"
      ]
    },
    {
      "cell_type": "code",
      "metadata": {
        "colab": {
          "base_uri": "https://localhost:8080/"
        },
        "id": "p19kQQXhLI7m",
        "outputId": "94a8abad-849c-4ba2-99a7-7fbacdb37479"
      },
      "source": [
        "mdl_DT1 = DecisionTreeClassifier(random_state=7)\n",
        "\n",
        "mdl_DT1.fit(X_train1,np.ravel(y_train1))\n",
        "ypred_train_DT1 = mdl_DT1.predict(X_train1)\n",
        "ypred_test_DT1 = mdl_DT1.predict(X_test1)\n",
        "\n",
        "DT1_f1_score = f1_score(y_test1, ypred_test_DT1)\n",
        "print(DT1_f1_score)\n",
        "f1_score_list['DT1']= DT1_f1_score"
      ],
      "execution_count": null,
      "outputs": [
        {
          "output_type": "stream",
          "name": "stdout",
          "text": [
            "0.6788321167883212\n"
          ]
        }
      ]
    },
    {
      "cell_type": "markdown",
      "metadata": {
        "id": "mmMcnPBjMgJV"
      },
      "source": [
        "# Random Forest (RF)"
      ]
    },
    {
      "cell_type": "code",
      "metadata": {
        "colab": {
          "base_uri": "https://localhost:8080/"
        },
        "id": "tQyURBVFLI4g",
        "outputId": "0819ade0-da24-4d1b-9786-a9ff85236a90"
      },
      "source": [
        "mdl_RF1 = RandomForestClassifier(random_state=7)\n",
        "classifierRF1 = RandomForestClassifier(n_estimators = 200, criterion = 'entropy', random_state = 7)\n",
        "classifierRF1.fit(X_train1,np.ravel(y_train1))"
      ],
      "execution_count": null,
      "outputs": [
        {
          "output_type": "execute_result",
          "data": {
            "text/plain": [
              "RandomForestClassifier(bootstrap=True, ccp_alpha=0.0, class_weight=None,\n",
              "                       criterion='entropy', max_depth=None, max_features='auto',\n",
              "                       max_leaf_nodes=None, max_samples=None,\n",
              "                       min_impurity_decrease=0.0, min_impurity_split=None,\n",
              "                       min_samples_leaf=1, min_samples_split=2,\n",
              "                       min_weight_fraction_leaf=0.0, n_estimators=200,\n",
              "                       n_jobs=None, oob_score=False, random_state=7, verbose=0,\n",
              "                       warm_start=False)"
            ]
          },
          "metadata": {},
          "execution_count": 55
        }
      ]
    },
    {
      "cell_type": "code",
      "metadata": {
        "id": "fit43zsdLI10"
      },
      "source": [
        "y_pred_RF1 = classifierRF1.predict(X_test1)"
      ],
      "execution_count": null,
      "outputs": []
    },
    {
      "cell_type": "code",
      "metadata": {
        "colab": {
          "base_uri": "https://localhost:8080/"
        },
        "id": "3gTDcMXzM_Ri",
        "outputId": "390a1753-3ff9-4863-eb29-91bc8f05d6df"
      },
      "source": [
        "RF1_f1_score = f1_score(y_test1, y_pred_RF1)\n",
        "print(RF1_f1_score)\n",
        "f1_score_list['RF1']= RF1_f1_score"
      ],
      "execution_count": null,
      "outputs": [
        {
          "output_type": "stream",
          "name": "stdout",
          "text": [
            "0.8238993710691823\n"
          ]
        }
      ]
    },
    {
      "cell_type": "code",
      "metadata": {
        "colab": {
          "base_uri": "https://localhost:8080/",
          "height": 81
        },
        "id": "wqtyaKS3wzJ8",
        "outputId": "dbed8708-f286-4d18-fe7a-39f9bf5e5aed"
      },
      "source": [
        "f1_scores = pd.DataFrame(f1_score_list.values(),index=f1_score_list.keys())\n",
        "f1_scores.T"
      ],
      "execution_count": null,
      "outputs": [
        {
          "output_type": "execute_result",
          "data": {
            "text/html": [
              "<div>\n",
              "<style scoped>\n",
              "    .dataframe tbody tr th:only-of-type {\n",
              "        vertical-align: middle;\n",
              "    }\n",
              "\n",
              "    .dataframe tbody tr th {\n",
              "        vertical-align: top;\n",
              "    }\n",
              "\n",
              "    .dataframe thead th {\n",
              "        text-align: right;\n",
              "    }\n",
              "</style>\n",
              "<table border=\"1\" class=\"dataframe\">\n",
              "  <thead>\n",
              "    <tr style=\"text-align: right;\">\n",
              "      <th></th>\n",
              "      <th>LR0</th>\n",
              "      <th>DT0</th>\n",
              "      <th>RF0</th>\n",
              "      <th>NB0</th>\n",
              "      <th>KNN0</th>\n",
              "      <th>SVM0</th>\n",
              "      <th>XGB0</th>\n",
              "      <th>LR1</th>\n",
              "      <th>DT1</th>\n",
              "      <th>RF1</th>\n",
              "    </tr>\n",
              "  </thead>\n",
              "  <tbody>\n",
              "    <tr>\n",
              "      <th>0</th>\n",
              "      <td>0.689655</td>\n",
              "      <td>0.692308</td>\n",
              "      <td>0.730435</td>\n",
              "      <td>0.621622</td>\n",
              "      <td>0.598291</td>\n",
              "      <td>0.682927</td>\n",
              "      <td>0.696429</td>\n",
              "      <td>0.839506</td>\n",
              "      <td>0.678832</td>\n",
              "      <td>0.823899</td>\n",
              "    </tr>\n",
              "  </tbody>\n",
              "</table>\n",
              "</div>"
            ],
            "text/plain": [
              "        LR0       DT0       RF0  ...       LR1       DT1       RF1\n",
              "0  0.689655  0.692308  0.730435  ...  0.839506  0.678832  0.823899\n",
              "\n",
              "[1 rows x 10 columns]"
            ]
          },
          "metadata": {},
          "execution_count": 58
        }
      ]
    },
    {
      "cell_type": "markdown",
      "metadata": {
        "id": "8XhjMQDsNJy2"
      },
      "source": [
        "# Naive Bayes (NB)"
      ]
    },
    {
      "cell_type": "code",
      "metadata": {
        "colab": {
          "base_uri": "https://localhost:8080/"
        },
        "id": "Rzv0MbSwM_MR",
        "outputId": "2dac879b-2e75-447b-ff83-cba48dfba146"
      },
      "source": [
        "classifierNB1 = GaussianNB()\n",
        "classifierNB1.fit(X_train1, np.ravel(y_train1))"
      ],
      "execution_count": null,
      "outputs": [
        {
          "output_type": "execute_result",
          "data": {
            "text/plain": [
              "GaussianNB(priors=None, var_smoothing=1e-09)"
            ]
          },
          "metadata": {},
          "execution_count": 59
        }
      ]
    },
    {
      "cell_type": "code",
      "metadata": {
        "id": "RmC8gpo9M_JY"
      },
      "source": [
        "y_pred_NB1 = classifierNB1.predict(X_test1)"
      ],
      "execution_count": null,
      "outputs": []
    },
    {
      "cell_type": "code",
      "metadata": {
        "colab": {
          "base_uri": "https://localhost:8080/"
        },
        "id": "SEUrSfo-M_GU",
        "outputId": "77bceb88-6845-47d3-b0d4-e8736ffa684f"
      },
      "source": [
        "NB1_f1_score = f1_score(y_test1, y_pred_NB1)\n",
        "print(NB1_f1_score)\n",
        "f1_score_list['NB1']= NB1_f1_score"
      ],
      "execution_count": null,
      "outputs": [
        {
          "output_type": "stream",
          "name": "stdout",
          "text": [
            "0.7915194346289752\n"
          ]
        }
      ]
    },
    {
      "cell_type": "markdown",
      "metadata": {
        "id": "_PoQL4bMN3qP"
      },
      "source": [
        "# K-Nearest Neighbour (KNN)\n"
      ]
    },
    {
      "cell_type": "code",
      "metadata": {
        "colab": {
          "base_uri": "https://localhost:8080/"
        },
        "id": "-bPyceBvONJo",
        "outputId": "ad7116e0-3771-4dea-b020-bfa87ce873b8"
      },
      "source": [
        "classifierKNN1 = KNeighborsClassifier(n_neighbors=5)\n",
        "classifierKNN1.fit(X_train1, np.ravel(y_train1))"
      ],
      "execution_count": null,
      "outputs": [
        {
          "output_type": "execute_result",
          "data": {
            "text/plain": [
              "KNeighborsClassifier(algorithm='auto', leaf_size=30, metric='minkowski',\n",
              "                     metric_params=None, n_jobs=None, n_neighbors=5, p=2,\n",
              "                     weights='uniform')"
            ]
          },
          "metadata": {},
          "execution_count": 62
        }
      ]
    },
    {
      "cell_type": "code",
      "metadata": {
        "id": "IhyNQ6xdONuf"
      },
      "source": [
        "y_pred_KNN1 = classifierKNN1.predict(X_test1)"
      ],
      "execution_count": null,
      "outputs": []
    },
    {
      "cell_type": "code",
      "metadata": {
        "colab": {
          "base_uri": "https://localhost:8080/"
        },
        "id": "3_2IxPKDONoq",
        "outputId": "dbd75e5f-6c68-435b-c716-5e2ccef8b001"
      },
      "source": [
        "KNN1_f1_score = f1_score(y_test1, y_pred_KNN1)\n",
        "print(KNN1_f1_score)\n",
        "f1_score_list['KNN1']= KNN1_f1_score"
      ],
      "execution_count": null,
      "outputs": [
        {
          "output_type": "stream",
          "name": "stdout",
          "text": [
            "0.819047619047619\n"
          ]
        }
      ]
    },
    {
      "cell_type": "markdown",
      "metadata": {
        "id": "UUYkDisjPpg-"
      },
      "source": [
        "# Support Vector Machine (SVM)"
      ]
    },
    {
      "cell_type": "code",
      "metadata": {
        "colab": {
          "base_uri": "https://localhost:8080/"
        },
        "id": "Og7Ky-znPpOr",
        "outputId": "723ab060-cd87-41ca-c764-bd88197f575c"
      },
      "source": [
        "classifierSVM1 = SVC(kernel = 'linear', random_state = 7)\n",
        "classifierSVM1.fit(X_train1, np.ravel(y_train1))"
      ],
      "execution_count": null,
      "outputs": [
        {
          "output_type": "execute_result",
          "data": {
            "text/plain": [
              "SVC(C=1.0, break_ties=False, cache_size=200, class_weight=None, coef0=0.0,\n",
              "    decision_function_shape='ovr', degree=3, gamma='scale', kernel='linear',\n",
              "    max_iter=-1, probability=False, random_state=7, shrinking=True, tol=0.001,\n",
              "    verbose=False)"
            ]
          },
          "metadata": {},
          "execution_count": 65
        }
      ]
    },
    {
      "cell_type": "code",
      "metadata": {
        "id": "YPvRhOkDPpJG"
      },
      "source": [
        "y_pred_SVM1 = classifierSVM1.predict(X_test1)"
      ],
      "execution_count": null,
      "outputs": []
    },
    {
      "cell_type": "code",
      "metadata": {
        "colab": {
          "base_uri": "https://localhost:8080/"
        },
        "id": "C3pEWH4RPpFt",
        "outputId": "7c7462cc-b417-462a-df6a-7362fe89f638"
      },
      "source": [
        "SVM1_f1_score = f1_score(y_test1, y_pred_SVM1)\n",
        "print(SVM1_f1_score)\n",
        "f1_score_list['SVM1']= SVM1_f1_score"
      ],
      "execution_count": null,
      "outputs": [
        {
          "output_type": "stream",
          "name": "stdout",
          "text": [
            "0.8538681948424068\n"
          ]
        }
      ]
    },
    {
      "cell_type": "markdown",
      "metadata": {
        "id": "7eVzCRELQCCe"
      },
      "source": [
        "# XGBoost Classifier (XGB)"
      ]
    },
    {
      "cell_type": "code",
      "metadata": {
        "colab": {
          "base_uri": "https://localhost:8080/"
        },
        "id": "YoJDdUTZPpCJ",
        "outputId": "ea193e14-28f4-42dd-ff48-66b18a86899f"
      },
      "source": [
        "params = {'objective':'binary:logistic','max_depth': 4,'alpha': 10,'learning_rate': 1.0,'n_estimators':100}\n",
        "\n",
        "xgb_clf1 = XGBClassifier(**params)\n",
        "\n",
        "xgb_clf1.fit(X_train1, np.ravel(y_train1))"
      ],
      "execution_count": null,
      "outputs": [
        {
          "output_type": "execute_result",
          "data": {
            "text/plain": [
              "XGBClassifier(alpha=10, base_score=0.5, booster='gbtree', colsample_bylevel=1,\n",
              "              colsample_bynode=1, colsample_bytree=1, gamma=0,\n",
              "              learning_rate=1.0, max_delta_step=0, max_depth=4,\n",
              "              min_child_weight=1, missing=None, n_estimators=100, n_jobs=1,\n",
              "              nthread=None, objective='binary:logistic', random_state=0,\n",
              "              reg_alpha=0, reg_lambda=1, scale_pos_weight=1, seed=None,\n",
              "              silent=None, subsample=1, verbosity=1)"
            ]
          },
          "metadata": {},
          "execution_count": 68
        }
      ]
    },
    {
      "cell_type": "code",
      "metadata": {
        "colab": {
          "base_uri": "https://localhost:8080/"
        },
        "id": "dgPvpy2wPo9u",
        "outputId": "493c38a6-8f3a-4fd2-8e83-9a5cf5710165"
      },
      "source": [
        "print(xgb_clf1)"
      ],
      "execution_count": null,
      "outputs": [
        {
          "output_type": "stream",
          "name": "stdout",
          "text": [
            "XGBClassifier(alpha=10, base_score=0.5, booster='gbtree', colsample_bylevel=1,\n",
            "              colsample_bynode=1, colsample_bytree=1, gamma=0,\n",
            "              learning_rate=1.0, max_delta_step=0, max_depth=4,\n",
            "              min_child_weight=1, missing=None, n_estimators=100, n_jobs=1,\n",
            "              nthread=None, objective='binary:logistic', random_state=0,\n",
            "              reg_alpha=0, reg_lambda=1, scale_pos_weight=1, seed=None,\n",
            "              silent=None, subsample=1, verbosity=1)\n"
          ]
        }
      ]
    },
    {
      "cell_type": "code",
      "metadata": {
        "id": "t7WcMyFbQ9H5"
      },
      "source": [
        "y_pred_XGB1 = xgb_clf1.predict(X_test1)"
      ],
      "execution_count": null,
      "outputs": []
    },
    {
      "cell_type": "code",
      "metadata": {
        "colab": {
          "base_uri": "https://localhost:8080/"
        },
        "id": "NZWjs_ApQ9Ex",
        "outputId": "fa772fe5-98dc-4675-fff2-67f42c824571"
      },
      "source": [
        "XGB1_f1_score = f1_score(y_test1, y_pred_XGB1)\n",
        "print(XGB1_f1_score)\n",
        "f1_score_list['XGB1']= XGB1_f1_score"
      ],
      "execution_count": null,
      "outputs": [
        {
          "output_type": "stream",
          "name": "stdout",
          "text": [
            "0.7878787878787878\n"
          ]
        }
      ]
    },
    {
      "cell_type": "markdown",
      "metadata": {
        "id": "CuOtDJkHRIIL"
      },
      "source": [
        "### In this last section, missing values have been filled maximum repeted properties."
      ]
    },
    {
      "cell_type": "code",
      "metadata": {
        "colab": {
          "base_uri": "https://localhost:8080/",
          "height": 423
        },
        "id": "RUVhZ3K0yar9",
        "outputId": "14944b79-f769-4037-c350-73a0e2c92858"
      },
      "source": [
        "df2"
      ],
      "execution_count": null,
      "outputs": [
        {
          "output_type": "execute_result",
          "data": {
            "text/html": [
              "<div>\n",
              "<style scoped>\n",
              "    .dataframe tbody tr th:only-of-type {\n",
              "        vertical-align: middle;\n",
              "    }\n",
              "\n",
              "    .dataframe tbody tr th {\n",
              "        vertical-align: top;\n",
              "    }\n",
              "\n",
              "    .dataframe thead th {\n",
              "        text-align: right;\n",
              "    }\n",
              "</style>\n",
              "<table border=\"1\" class=\"dataframe\">\n",
              "  <thead>\n",
              "    <tr style=\"text-align: right;\">\n",
              "      <th></th>\n",
              "      <th>Unnamed: 0</th>\n",
              "      <th>Age</th>\n",
              "      <th>Sex</th>\n",
              "      <th>Job</th>\n",
              "      <th>Housing</th>\n",
              "      <th>Saving accounts</th>\n",
              "      <th>Checking account</th>\n",
              "      <th>Credit amount</th>\n",
              "      <th>Duration</th>\n",
              "      <th>Purpose</th>\n",
              "      <th>Risk</th>\n",
              "    </tr>\n",
              "  </thead>\n",
              "  <tbody>\n",
              "    <tr>\n",
              "      <th>0</th>\n",
              "      <td>0</td>\n",
              "      <td>67</td>\n",
              "      <td>male</td>\n",
              "      <td>2</td>\n",
              "      <td>own</td>\n",
              "      <td>NaN</td>\n",
              "      <td>little</td>\n",
              "      <td>1169</td>\n",
              "      <td>6</td>\n",
              "      <td>radio/TV</td>\n",
              "      <td>good</td>\n",
              "    </tr>\n",
              "    <tr>\n",
              "      <th>1</th>\n",
              "      <td>1</td>\n",
              "      <td>22</td>\n",
              "      <td>female</td>\n",
              "      <td>2</td>\n",
              "      <td>own</td>\n",
              "      <td>little</td>\n",
              "      <td>moderate</td>\n",
              "      <td>5951</td>\n",
              "      <td>48</td>\n",
              "      <td>radio/TV</td>\n",
              "      <td>bad</td>\n",
              "    </tr>\n",
              "    <tr>\n",
              "      <th>2</th>\n",
              "      <td>2</td>\n",
              "      <td>49</td>\n",
              "      <td>male</td>\n",
              "      <td>1</td>\n",
              "      <td>own</td>\n",
              "      <td>little</td>\n",
              "      <td>NaN</td>\n",
              "      <td>2096</td>\n",
              "      <td>12</td>\n",
              "      <td>education</td>\n",
              "      <td>good</td>\n",
              "    </tr>\n",
              "    <tr>\n",
              "      <th>3</th>\n",
              "      <td>3</td>\n",
              "      <td>45</td>\n",
              "      <td>male</td>\n",
              "      <td>2</td>\n",
              "      <td>free</td>\n",
              "      <td>little</td>\n",
              "      <td>little</td>\n",
              "      <td>7882</td>\n",
              "      <td>42</td>\n",
              "      <td>furniture/equipment</td>\n",
              "      <td>good</td>\n",
              "    </tr>\n",
              "    <tr>\n",
              "      <th>4</th>\n",
              "      <td>4</td>\n",
              "      <td>53</td>\n",
              "      <td>male</td>\n",
              "      <td>2</td>\n",
              "      <td>free</td>\n",
              "      <td>little</td>\n",
              "      <td>little</td>\n",
              "      <td>4870</td>\n",
              "      <td>24</td>\n",
              "      <td>car</td>\n",
              "      <td>bad</td>\n",
              "    </tr>\n",
              "    <tr>\n",
              "      <th>...</th>\n",
              "      <td>...</td>\n",
              "      <td>...</td>\n",
              "      <td>...</td>\n",
              "      <td>...</td>\n",
              "      <td>...</td>\n",
              "      <td>...</td>\n",
              "      <td>...</td>\n",
              "      <td>...</td>\n",
              "      <td>...</td>\n",
              "      <td>...</td>\n",
              "      <td>...</td>\n",
              "    </tr>\n",
              "    <tr>\n",
              "      <th>995</th>\n",
              "      <td>995</td>\n",
              "      <td>31</td>\n",
              "      <td>female</td>\n",
              "      <td>1</td>\n",
              "      <td>own</td>\n",
              "      <td>little</td>\n",
              "      <td>NaN</td>\n",
              "      <td>1736</td>\n",
              "      <td>12</td>\n",
              "      <td>furniture/equipment</td>\n",
              "      <td>good</td>\n",
              "    </tr>\n",
              "    <tr>\n",
              "      <th>996</th>\n",
              "      <td>996</td>\n",
              "      <td>40</td>\n",
              "      <td>male</td>\n",
              "      <td>3</td>\n",
              "      <td>own</td>\n",
              "      <td>little</td>\n",
              "      <td>little</td>\n",
              "      <td>3857</td>\n",
              "      <td>30</td>\n",
              "      <td>car</td>\n",
              "      <td>good</td>\n",
              "    </tr>\n",
              "    <tr>\n",
              "      <th>997</th>\n",
              "      <td>997</td>\n",
              "      <td>38</td>\n",
              "      <td>male</td>\n",
              "      <td>2</td>\n",
              "      <td>own</td>\n",
              "      <td>little</td>\n",
              "      <td>NaN</td>\n",
              "      <td>804</td>\n",
              "      <td>12</td>\n",
              "      <td>radio/TV</td>\n",
              "      <td>good</td>\n",
              "    </tr>\n",
              "    <tr>\n",
              "      <th>998</th>\n",
              "      <td>998</td>\n",
              "      <td>23</td>\n",
              "      <td>male</td>\n",
              "      <td>2</td>\n",
              "      <td>free</td>\n",
              "      <td>little</td>\n",
              "      <td>little</td>\n",
              "      <td>1845</td>\n",
              "      <td>45</td>\n",
              "      <td>radio/TV</td>\n",
              "      <td>bad</td>\n",
              "    </tr>\n",
              "    <tr>\n",
              "      <th>999</th>\n",
              "      <td>999</td>\n",
              "      <td>27</td>\n",
              "      <td>male</td>\n",
              "      <td>2</td>\n",
              "      <td>own</td>\n",
              "      <td>moderate</td>\n",
              "      <td>moderate</td>\n",
              "      <td>4576</td>\n",
              "      <td>45</td>\n",
              "      <td>car</td>\n",
              "      <td>good</td>\n",
              "    </tr>\n",
              "  </tbody>\n",
              "</table>\n",
              "<p>1000 rows × 11 columns</p>\n",
              "</div>"
            ],
            "text/plain": [
              "     Unnamed: 0  Age     Sex  ...  Duration              Purpose  Risk\n",
              "0             0   67    male  ...         6             radio/TV  good\n",
              "1             1   22  female  ...        48             radio/TV   bad\n",
              "2             2   49    male  ...        12            education  good\n",
              "3             3   45    male  ...        42  furniture/equipment  good\n",
              "4             4   53    male  ...        24                  car   bad\n",
              "..          ...  ...     ...  ...       ...                  ...   ...\n",
              "995         995   31  female  ...        12  furniture/equipment  good\n",
              "996         996   40    male  ...        30                  car  good\n",
              "997         997   38    male  ...        12             radio/TV  good\n",
              "998         998   23    male  ...        45             radio/TV   bad\n",
              "999         999   27    male  ...        45                  car  good\n",
              "\n",
              "[1000 rows x 11 columns]"
            ]
          },
          "metadata": {},
          "execution_count": 72
        }
      ]
    },
    {
      "cell_type": "code",
      "metadata": {
        "id": "iK2XjaQiAXit"
      },
      "source": [
        "y2 = df2['Risk']"
      ],
      "execution_count": null,
      "outputs": []
    },
    {
      "cell_type": "code",
      "metadata": {
        "colab": {
          "base_uri": "https://localhost:8080/"
        },
        "id": "s5j7z0hoAZln",
        "outputId": "a21f380e-e3b1-4c12-ac87-94c37c725c1c"
      },
      "source": [
        "y2"
      ],
      "execution_count": null,
      "outputs": [
        {
          "output_type": "execute_result",
          "data": {
            "text/plain": [
              "0      good\n",
              "1       bad\n",
              "2      good\n",
              "3      good\n",
              "4       bad\n",
              "       ... \n",
              "995    good\n",
              "996    good\n",
              "997    good\n",
              "998     bad\n",
              "999    good\n",
              "Name: Risk, Length: 1000, dtype: object"
            ]
          },
          "metadata": {},
          "execution_count": 74
        }
      ]
    },
    {
      "cell_type": "code",
      "metadata": {
        "id": "IQOlttLwRpet"
      },
      "source": [
        "X2 =df2.drop(['Risk','Unnamed: 0'], axis=1)"
      ],
      "execution_count": null,
      "outputs": []
    },
    {
      "cell_type": "code",
      "metadata": {
        "colab": {
          "base_uri": "https://localhost:8080/",
          "height": 423
        },
        "id": "MheUutjAzBI_",
        "outputId": "6752c303-9556-489f-9045-ec5283661ef1"
      },
      "source": [
        "X2"
      ],
      "execution_count": null,
      "outputs": [
        {
          "output_type": "execute_result",
          "data": {
            "text/html": [
              "<div>\n",
              "<style scoped>\n",
              "    .dataframe tbody tr th:only-of-type {\n",
              "        vertical-align: middle;\n",
              "    }\n",
              "\n",
              "    .dataframe tbody tr th {\n",
              "        vertical-align: top;\n",
              "    }\n",
              "\n",
              "    .dataframe thead th {\n",
              "        text-align: right;\n",
              "    }\n",
              "</style>\n",
              "<table border=\"1\" class=\"dataframe\">\n",
              "  <thead>\n",
              "    <tr style=\"text-align: right;\">\n",
              "      <th></th>\n",
              "      <th>Age</th>\n",
              "      <th>Sex</th>\n",
              "      <th>Job</th>\n",
              "      <th>Housing</th>\n",
              "      <th>Saving accounts</th>\n",
              "      <th>Checking account</th>\n",
              "      <th>Credit amount</th>\n",
              "      <th>Duration</th>\n",
              "      <th>Purpose</th>\n",
              "    </tr>\n",
              "  </thead>\n",
              "  <tbody>\n",
              "    <tr>\n",
              "      <th>0</th>\n",
              "      <td>67</td>\n",
              "      <td>male</td>\n",
              "      <td>2</td>\n",
              "      <td>own</td>\n",
              "      <td>NaN</td>\n",
              "      <td>little</td>\n",
              "      <td>1169</td>\n",
              "      <td>6</td>\n",
              "      <td>radio/TV</td>\n",
              "    </tr>\n",
              "    <tr>\n",
              "      <th>1</th>\n",
              "      <td>22</td>\n",
              "      <td>female</td>\n",
              "      <td>2</td>\n",
              "      <td>own</td>\n",
              "      <td>little</td>\n",
              "      <td>moderate</td>\n",
              "      <td>5951</td>\n",
              "      <td>48</td>\n",
              "      <td>radio/TV</td>\n",
              "    </tr>\n",
              "    <tr>\n",
              "      <th>2</th>\n",
              "      <td>49</td>\n",
              "      <td>male</td>\n",
              "      <td>1</td>\n",
              "      <td>own</td>\n",
              "      <td>little</td>\n",
              "      <td>NaN</td>\n",
              "      <td>2096</td>\n",
              "      <td>12</td>\n",
              "      <td>education</td>\n",
              "    </tr>\n",
              "    <tr>\n",
              "      <th>3</th>\n",
              "      <td>45</td>\n",
              "      <td>male</td>\n",
              "      <td>2</td>\n",
              "      <td>free</td>\n",
              "      <td>little</td>\n",
              "      <td>little</td>\n",
              "      <td>7882</td>\n",
              "      <td>42</td>\n",
              "      <td>furniture/equipment</td>\n",
              "    </tr>\n",
              "    <tr>\n",
              "      <th>4</th>\n",
              "      <td>53</td>\n",
              "      <td>male</td>\n",
              "      <td>2</td>\n",
              "      <td>free</td>\n",
              "      <td>little</td>\n",
              "      <td>little</td>\n",
              "      <td>4870</td>\n",
              "      <td>24</td>\n",
              "      <td>car</td>\n",
              "    </tr>\n",
              "    <tr>\n",
              "      <th>...</th>\n",
              "      <td>...</td>\n",
              "      <td>...</td>\n",
              "      <td>...</td>\n",
              "      <td>...</td>\n",
              "      <td>...</td>\n",
              "      <td>...</td>\n",
              "      <td>...</td>\n",
              "      <td>...</td>\n",
              "      <td>...</td>\n",
              "    </tr>\n",
              "    <tr>\n",
              "      <th>995</th>\n",
              "      <td>31</td>\n",
              "      <td>female</td>\n",
              "      <td>1</td>\n",
              "      <td>own</td>\n",
              "      <td>little</td>\n",
              "      <td>NaN</td>\n",
              "      <td>1736</td>\n",
              "      <td>12</td>\n",
              "      <td>furniture/equipment</td>\n",
              "    </tr>\n",
              "    <tr>\n",
              "      <th>996</th>\n",
              "      <td>40</td>\n",
              "      <td>male</td>\n",
              "      <td>3</td>\n",
              "      <td>own</td>\n",
              "      <td>little</td>\n",
              "      <td>little</td>\n",
              "      <td>3857</td>\n",
              "      <td>30</td>\n",
              "      <td>car</td>\n",
              "    </tr>\n",
              "    <tr>\n",
              "      <th>997</th>\n",
              "      <td>38</td>\n",
              "      <td>male</td>\n",
              "      <td>2</td>\n",
              "      <td>own</td>\n",
              "      <td>little</td>\n",
              "      <td>NaN</td>\n",
              "      <td>804</td>\n",
              "      <td>12</td>\n",
              "      <td>radio/TV</td>\n",
              "    </tr>\n",
              "    <tr>\n",
              "      <th>998</th>\n",
              "      <td>23</td>\n",
              "      <td>male</td>\n",
              "      <td>2</td>\n",
              "      <td>free</td>\n",
              "      <td>little</td>\n",
              "      <td>little</td>\n",
              "      <td>1845</td>\n",
              "      <td>45</td>\n",
              "      <td>radio/TV</td>\n",
              "    </tr>\n",
              "    <tr>\n",
              "      <th>999</th>\n",
              "      <td>27</td>\n",
              "      <td>male</td>\n",
              "      <td>2</td>\n",
              "      <td>own</td>\n",
              "      <td>moderate</td>\n",
              "      <td>moderate</td>\n",
              "      <td>4576</td>\n",
              "      <td>45</td>\n",
              "      <td>car</td>\n",
              "    </tr>\n",
              "  </tbody>\n",
              "</table>\n",
              "<p>1000 rows × 9 columns</p>\n",
              "</div>"
            ],
            "text/plain": [
              "     Age     Sex  Job  ... Credit amount Duration              Purpose\n",
              "0     67    male    2  ...          1169        6             radio/TV\n",
              "1     22  female    2  ...          5951       48             radio/TV\n",
              "2     49    male    1  ...          2096       12            education\n",
              "3     45    male    2  ...          7882       42  furniture/equipment\n",
              "4     53    male    2  ...          4870       24                  car\n",
              "..   ...     ...  ...  ...           ...      ...                  ...\n",
              "995   31  female    1  ...          1736       12  furniture/equipment\n",
              "996   40    male    3  ...          3857       30                  car\n",
              "997   38    male    2  ...           804       12             radio/TV\n",
              "998   23    male    2  ...          1845       45             radio/TV\n",
              "999   27    male    2  ...          4576       45                  car\n",
              "\n",
              "[1000 rows x 9 columns]"
            ]
          },
          "metadata": {},
          "execution_count": 76
        }
      ]
    },
    {
      "cell_type": "code",
      "metadata": {
        "id": "S1n4P0AtL7x6"
      },
      "source": [
        "dia =df2.drop(['Unnamed: 0'], axis=1)"
      ],
      "execution_count": null,
      "outputs": []
    },
    {
      "cell_type": "code",
      "metadata": {
        "colab": {
          "base_uri": "https://localhost:8080/",
          "height": 423
        },
        "id": "qHtUdh86MHgx",
        "outputId": "8a7bb938-a305-4dae-bd31-816e1be0d3e2"
      },
      "source": [
        "dia"
      ],
      "execution_count": null,
      "outputs": [
        {
          "output_type": "execute_result",
          "data": {
            "text/html": [
              "<div>\n",
              "<style scoped>\n",
              "    .dataframe tbody tr th:only-of-type {\n",
              "        vertical-align: middle;\n",
              "    }\n",
              "\n",
              "    .dataframe tbody tr th {\n",
              "        vertical-align: top;\n",
              "    }\n",
              "\n",
              "    .dataframe thead th {\n",
              "        text-align: right;\n",
              "    }\n",
              "</style>\n",
              "<table border=\"1\" class=\"dataframe\">\n",
              "  <thead>\n",
              "    <tr style=\"text-align: right;\">\n",
              "      <th></th>\n",
              "      <th>Age</th>\n",
              "      <th>Sex</th>\n",
              "      <th>Job</th>\n",
              "      <th>Housing</th>\n",
              "      <th>Saving accounts</th>\n",
              "      <th>Checking account</th>\n",
              "      <th>Credit amount</th>\n",
              "      <th>Duration</th>\n",
              "      <th>Purpose</th>\n",
              "      <th>Risk</th>\n",
              "    </tr>\n",
              "  </thead>\n",
              "  <tbody>\n",
              "    <tr>\n",
              "      <th>0</th>\n",
              "      <td>67</td>\n",
              "      <td>male</td>\n",
              "      <td>2</td>\n",
              "      <td>own</td>\n",
              "      <td>NaN</td>\n",
              "      <td>little</td>\n",
              "      <td>1169</td>\n",
              "      <td>6</td>\n",
              "      <td>radio/TV</td>\n",
              "      <td>good</td>\n",
              "    </tr>\n",
              "    <tr>\n",
              "      <th>1</th>\n",
              "      <td>22</td>\n",
              "      <td>female</td>\n",
              "      <td>2</td>\n",
              "      <td>own</td>\n",
              "      <td>little</td>\n",
              "      <td>moderate</td>\n",
              "      <td>5951</td>\n",
              "      <td>48</td>\n",
              "      <td>radio/TV</td>\n",
              "      <td>bad</td>\n",
              "    </tr>\n",
              "    <tr>\n",
              "      <th>2</th>\n",
              "      <td>49</td>\n",
              "      <td>male</td>\n",
              "      <td>1</td>\n",
              "      <td>own</td>\n",
              "      <td>little</td>\n",
              "      <td>NaN</td>\n",
              "      <td>2096</td>\n",
              "      <td>12</td>\n",
              "      <td>education</td>\n",
              "      <td>good</td>\n",
              "    </tr>\n",
              "    <tr>\n",
              "      <th>3</th>\n",
              "      <td>45</td>\n",
              "      <td>male</td>\n",
              "      <td>2</td>\n",
              "      <td>free</td>\n",
              "      <td>little</td>\n",
              "      <td>little</td>\n",
              "      <td>7882</td>\n",
              "      <td>42</td>\n",
              "      <td>furniture/equipment</td>\n",
              "      <td>good</td>\n",
              "    </tr>\n",
              "    <tr>\n",
              "      <th>4</th>\n",
              "      <td>53</td>\n",
              "      <td>male</td>\n",
              "      <td>2</td>\n",
              "      <td>free</td>\n",
              "      <td>little</td>\n",
              "      <td>little</td>\n",
              "      <td>4870</td>\n",
              "      <td>24</td>\n",
              "      <td>car</td>\n",
              "      <td>bad</td>\n",
              "    </tr>\n",
              "    <tr>\n",
              "      <th>...</th>\n",
              "      <td>...</td>\n",
              "      <td>...</td>\n",
              "      <td>...</td>\n",
              "      <td>...</td>\n",
              "      <td>...</td>\n",
              "      <td>...</td>\n",
              "      <td>...</td>\n",
              "      <td>...</td>\n",
              "      <td>...</td>\n",
              "      <td>...</td>\n",
              "    </tr>\n",
              "    <tr>\n",
              "      <th>995</th>\n",
              "      <td>31</td>\n",
              "      <td>female</td>\n",
              "      <td>1</td>\n",
              "      <td>own</td>\n",
              "      <td>little</td>\n",
              "      <td>NaN</td>\n",
              "      <td>1736</td>\n",
              "      <td>12</td>\n",
              "      <td>furniture/equipment</td>\n",
              "      <td>good</td>\n",
              "    </tr>\n",
              "    <tr>\n",
              "      <th>996</th>\n",
              "      <td>40</td>\n",
              "      <td>male</td>\n",
              "      <td>3</td>\n",
              "      <td>own</td>\n",
              "      <td>little</td>\n",
              "      <td>little</td>\n",
              "      <td>3857</td>\n",
              "      <td>30</td>\n",
              "      <td>car</td>\n",
              "      <td>good</td>\n",
              "    </tr>\n",
              "    <tr>\n",
              "      <th>997</th>\n",
              "      <td>38</td>\n",
              "      <td>male</td>\n",
              "      <td>2</td>\n",
              "      <td>own</td>\n",
              "      <td>little</td>\n",
              "      <td>NaN</td>\n",
              "      <td>804</td>\n",
              "      <td>12</td>\n",
              "      <td>radio/TV</td>\n",
              "      <td>good</td>\n",
              "    </tr>\n",
              "    <tr>\n",
              "      <th>998</th>\n",
              "      <td>23</td>\n",
              "      <td>male</td>\n",
              "      <td>2</td>\n",
              "      <td>free</td>\n",
              "      <td>little</td>\n",
              "      <td>little</td>\n",
              "      <td>1845</td>\n",
              "      <td>45</td>\n",
              "      <td>radio/TV</td>\n",
              "      <td>bad</td>\n",
              "    </tr>\n",
              "    <tr>\n",
              "      <th>999</th>\n",
              "      <td>27</td>\n",
              "      <td>male</td>\n",
              "      <td>2</td>\n",
              "      <td>own</td>\n",
              "      <td>moderate</td>\n",
              "      <td>moderate</td>\n",
              "      <td>4576</td>\n",
              "      <td>45</td>\n",
              "      <td>car</td>\n",
              "      <td>good</td>\n",
              "    </tr>\n",
              "  </tbody>\n",
              "</table>\n",
              "<p>1000 rows × 10 columns</p>\n",
              "</div>"
            ],
            "text/plain": [
              "     Age     Sex  Job  ... Duration              Purpose  Risk\n",
              "0     67    male    2  ...        6             radio/TV  good\n",
              "1     22  female    2  ...       48             radio/TV   bad\n",
              "2     49    male    1  ...       12            education  good\n",
              "3     45    male    2  ...       42  furniture/equipment  good\n",
              "4     53    male    2  ...       24                  car   bad\n",
              "..   ...     ...  ...  ...      ...                  ...   ...\n",
              "995   31  female    1  ...       12  furniture/equipment  good\n",
              "996   40    male    3  ...       30                  car  good\n",
              "997   38    male    2  ...       12             radio/TV  good\n",
              "998   23    male    2  ...       45             radio/TV   bad\n",
              "999   27    male    2  ...       45                  car  good\n",
              "\n",
              "[1000 rows x 10 columns]"
            ]
          },
          "metadata": {},
          "execution_count": 78
        }
      ]
    },
    {
      "cell_type": "code",
      "metadata": {
        "colab": {
          "base_uri": "https://localhost:8080/"
        },
        "id": "Q6U2Fe94KdET",
        "outputId": "98dcaef5-3107-410a-a850-1260cd1ee68d"
      },
      "source": [
        "X2.columns"
      ],
      "execution_count": null,
      "outputs": [
        {
          "output_type": "execute_result",
          "data": {
            "text/plain": [
              "Index(['Age', 'Sex', 'Job', 'Housing', 'Saving accounts', 'Checking account',\n",
              "       'Credit amount', 'Duration', 'Purpose'],\n",
              "      dtype='object')"
            ]
          },
          "metadata": {},
          "execution_count": 79
        }
      ]
    },
    {
      "cell_type": "code",
      "metadata": {
        "colab": {
          "base_uri": "https://localhost:8080/",
          "height": 542
        },
        "id": "IvKqHp36D1KE",
        "outputId": "11ad1ea8-d58c-499b-fb61-9cbe6686ca36"
      },
      "source": [
        "df = px.data.tips()\n",
        "fig = px.parallel_categories(dia,dimensions=['Age', 'Sex', 'Job', 'Housing', 'Saving accounts', 'Checking account',\n",
        "       'Credit amount', 'Duration', 'Purpose','Risk'],color=\"Job\", color_continuous_scale=px.colors.sequential.Inferno)\n",
        "\n",
        "fig.show()"
      ],
      "execution_count": null,
      "outputs": [
        {
          "output_type": "display_data",
          "data": {
            "text/html": [
              "<html>\n",
              "<head><meta charset=\"utf-8\" /></head>\n",
              "<body>\n",
              "    <div>\n",
              "            <script src=\"https://cdnjs.cloudflare.com/ajax/libs/mathjax/2.7.5/MathJax.js?config=TeX-AMS-MML_SVG\"></script><script type=\"text/javascript\">if (window.MathJax) {MathJax.Hub.Config({SVG: {font: \"STIX-Web\"}});}</script>\n",
              "                <script type=\"text/javascript\">window.PlotlyConfig = {MathJaxConfig: 'local'};</script>\n",
              "        <script src=\"https://cdn.plot.ly/plotly-latest.min.js\"></script>    \n",
              "            <div id=\"66498e9f-2a0d-450f-b630-4223eedfc808\" class=\"plotly-graph-div\" style=\"height:525px; width:100%;\"></div>\n",
              "            <script type=\"text/javascript\">\n",
              "                \n",
              "                    window.PLOTLYENV=window.PLOTLYENV || {};\n",
              "                    \n",
              "                if (document.getElementById(\"66498e9f-2a0d-450f-b630-4223eedfc808\")) {\n",
              "                    Plotly.newPlot(\n",
              "                        '66498e9f-2a0d-450f-b630-4223eedfc808',\n",
              "                        [{\"dimensions\": [{\"label\": \"Sex\", \"values\": [\"male\", \"female\", \"male\", \"male\", \"male\", \"male\", \"male\", \"male\", \"male\", \"male\", \"female\", \"female\", \"female\", \"male\", \"female\", \"female\", \"male\", \"male\", \"female\", \"male\", \"male\", \"male\", \"male\", \"male\", \"male\", \"male\", \"male\", \"female\", \"male\", \"male\", \"male\", \"male\", \"male\", \"male\", \"female\", \"male\", \"male\", \"male\", \"male\", \"male\", \"male\", \"male\", \"male\", \"male\", \"female\", \"female\", \"male\", \"female\", \"male\", \"female\", \"male\", \"male\", \"male\", \"male\", \"male\", \"male\", \"male\", \"female\", \"female\", \"female\", \"male\", \"male\", \"male\", \"male\", \"female\", \"male\", \"female\", \"male\", \"male\", \"female\", \"female\", \"male\", \"male\", \"female\", \"male\", \"male\", \"male\", \"male\", \"male\", \"male\", \"female\", \"male\", \"female\", \"female\", \"male\", \"female\", \"female\", \"male\", \"male\", \"male\", \"male\", \"male\", \"female\", \"male\", \"male\", \"male\", \"female\", \"male\", \"male\", \"male\", \"male\", \"male\", \"female\", \"male\", \"male\", \"male\", \"male\", \"male\", \"female\", \"male\", \"male\", \"female\", \"male\", \"female\", \"male\", \"male\", \"female\", \"female\", \"female\", \"male\", \"female\", \"female\", \"male\", \"male\", \"female\", \"male\", \"male\", \"male\", \"male\", \"female\", \"female\", \"male\", \"male\", \"male\", \"female\", \"female\", \"male\", \"male\", \"male\", \"female\", \"male\", \"female\", \"male\", \"male\", \"female\", \"male\", \"female\", \"female\", \"male\", \"male\", \"male\", \"male\", \"male\", \"female\", \"male\", \"female\", \"male\", \"male\", \"male\", \"male\", \"male\", \"female\", \"male\", \"male\", \"male\", \"male\", \"female\", \"female\", \"female\", \"male\", \"male\", \"female\", \"female\", \"male\", \"male\", \"female\", \"male\", \"male\", \"male\", \"male\", \"male\", \"male\", \"male\", \"male\", \"male\", \"male\", \"female\", \"male\", \"male\", \"female\", \"male\", \"male\", \"male\", \"male\", \"male\", \"female\", \"female\", \"female\", \"male\", \"male\", \"male\", \"male\", \"male\", \"male\", \"male\", \"male\", \"male\", \"male\", \"male\", \"male\", \"male\", \"female\", \"male\", \"male\", \"male\", \"female\", \"male\", \"male\", \"male\", \"female\", \"male\", \"female\", \"male\", \"male\", \"male\", \"male\", \"male\", \"male\", \"male\", \"male\", \"male\", \"male\", \"male\", \"male\", \"male\", \"male\", \"male\", \"male\", \"female\", \"male\", \"female\", \"male\", \"male\", \"female\", \"female\", \"male\", \"male\", \"male\", \"male\", \"female\", \"female\", \"female\", \"female\", \"male\", \"male\", \"male\", \"male\", \"male\", \"female\", \"female\", \"male\", \"female\", \"male\", \"female\", \"male\", \"male\", \"male\", \"female\", \"male\", \"male\", \"male\", \"female\", \"male\", \"male\", \"male\", \"male\", \"female\", \"male\", \"female\", \"male\", \"male\", \"male\", \"male\", \"male\", \"male\", \"female\", \"male\", \"male\", \"female\", \"male\", \"male\", \"male\", \"female\", \"male\", \"male\", \"female\", \"female\", \"male\", \"male\", \"male\", \"female\", \"female\", \"male\", \"male\", \"male\", \"male\", \"female\", \"male\", \"female\", \"male\", \"male\", \"male\", \"female\", \"male\", \"male\", \"male\", \"male\", \"female\", \"male\", \"female\", \"male\", \"male\", \"male\", \"male\", \"female\", \"male\", \"male\", \"female\", \"male\", \"male\", \"male\", \"female\", \"female\", \"female\", \"male\", \"male\", \"female\", \"female\", \"male\", \"male\", \"female\", \"female\", \"male\", \"male\", \"male\", \"female\", \"male\", \"female\", \"male\", \"male\", \"female\", \"female\", \"male\", \"male\", \"male\", \"male\", \"male\", \"male\", \"male\", \"female\", \"male\", \"male\", \"female\", \"male\", \"male\", \"male\", \"male\", \"female\", \"male\", \"female\", \"male\", \"male\", \"female\", \"male\", \"female\", \"female\", \"male\", \"male\", \"male\", \"female\", \"male\", \"female\", \"female\", \"male\", \"male\", \"female\", \"female\", \"male\", \"male\", \"female\", \"male\", \"female\", \"male\", \"female\", \"male\", \"male\", \"female\", \"male\", \"male\", \"female\", \"male\", \"male\", \"male\", \"male\", \"male\", \"male\", \"male\", \"male\", \"male\", \"male\", \"female\", \"male\", \"male\", \"male\", \"female\", \"male\", \"male\", \"female\", \"female\", \"female\", \"female\", \"male\", \"male\", \"male\", \"female\", \"male\", \"male\", \"male\", \"male\", \"female\", \"male\", \"male\", \"male\", \"male\", \"male\", \"male\", \"male\", \"female\", \"male\", \"female\", \"male\", \"female\", \"male\", \"male\", \"female\", \"female\", \"female\", \"male\", \"female\", \"male\", \"male\", \"female\", \"male\", \"male\", \"male\", \"female\", \"male\", \"male\", \"female\", \"male\", \"male\", \"male\", \"female\", \"male\", \"male\", \"male\", \"female\", \"male\", \"female\", \"male\", \"male\", \"female\", \"male\", \"male\", \"male\", \"female\", \"male\", \"male\", \"male\", \"male\", \"female\", \"male\", \"female\", \"female\", \"male\", \"male\", \"male\", \"female\", \"male\", \"male\", \"male\", \"female\", \"female\", \"male\", \"male\", \"male\", \"male\", \"male\", \"male\", \"male\", \"female\", \"male\", \"male\", \"male\", \"female\", \"male\", \"male\", \"male\", \"male\", \"male\", \"male\", \"male\", \"male\", \"male\", \"male\", \"female\", \"male\", \"female\", \"male\", \"male\", \"male\", \"female\", \"male\", \"female\", \"female\", \"male\", \"female\", \"male\", \"male\", \"male\", \"male\", \"female\", \"male\", \"male\", \"male\", \"male\", \"female\", \"female\", \"male\", \"female\", \"male\", \"male\", \"male\", \"male\", \"male\", \"male\", \"female\", \"male\", \"female\", \"male\", \"female\", \"male\", \"male\", \"male\", \"female\", \"male\", \"female\", \"female\", \"male\", \"male\", \"male\", \"male\", \"female\", \"male\", \"male\", \"female\", \"male\", \"male\", \"male\", \"female\", \"female\", \"male\", \"female\", \"female\", \"male\", \"female\", \"female\", \"female\", \"male\", \"male\", \"male\", \"male\", \"female\", \"male\", \"female\", \"female\", \"male\", \"male\", \"male\", \"male\", \"female\", \"female\", \"female\", \"female\", \"male\", \"female\", \"female\", \"male\", \"male\", \"male\", \"female\", \"female\", \"female\", \"female\", \"female\", \"male\", \"male\", \"female\", \"male\", \"male\", \"female\", \"female\", \"female\", \"female\", \"female\", \"male\", \"male\", \"male\", \"female\", \"male\", \"male\", \"male\", \"male\", \"female\", \"male\", \"male\", \"male\", \"male\", \"male\", \"male\", \"female\", \"male\", \"male\", \"female\", \"female\", \"male\", \"female\", \"male\", \"female\", \"male\", \"female\", \"male\", \"male\", \"male\", \"male\", \"male\", \"male\", \"female\", \"male\", \"male\", \"male\", \"male\", \"male\", \"male\", \"male\", \"male\", \"male\", \"male\", \"female\", \"male\", \"male\", \"male\", \"male\", \"male\", \"female\", \"male\", \"male\", \"female\", \"male\", \"male\", \"male\", \"male\", \"male\", \"male\", \"male\", \"female\", \"male\", \"male\", \"male\", \"female\", \"female\", \"male\", \"male\", \"male\", \"male\", \"male\", \"male\", \"male\", \"male\", \"male\", \"male\", \"female\", \"male\", \"male\", \"male\", \"male\", \"male\", \"female\", \"male\", \"male\", \"female\", \"male\", \"female\", \"male\", \"female\", \"female\", \"male\", \"female\", \"female\", \"male\", \"male\", \"female\", \"male\", \"male\", \"male\", \"male\", \"male\", \"male\", \"male\", \"male\", \"male\", \"female\", \"female\", \"female\", \"female\", \"female\", \"male\", \"female\", \"female\", \"male\", \"male\", \"male\", \"female\", \"female\", \"female\", \"female\", \"female\", \"male\", \"male\", \"female\", \"male\", \"male\", \"male\", \"male\", \"male\", \"male\", \"female\", \"female\", \"male\", \"male\", \"female\", \"female\", \"female\", \"female\", \"male\", \"female\", \"male\", \"male\", \"male\", \"male\", \"female\", \"female\", \"male\", \"male\", \"male\", \"male\", \"male\", \"female\", \"male\", \"male\", \"female\", \"female\", \"male\", \"male\", \"male\", \"female\", \"male\", \"female\", \"male\", \"female\", \"male\", \"male\", \"male\", \"female\", \"male\", \"male\", \"male\", \"male\", \"male\", \"male\", \"female\", \"male\", \"male\", \"male\", \"male\", \"female\", \"male\", \"female\", \"male\", \"male\", \"male\", \"female\", \"female\", \"male\", \"female\", \"male\", \"male\", \"male\", \"male\", \"female\", \"male\", \"male\", \"male\", \"male\", \"male\", \"female\", \"male\", \"female\", \"male\", \"male\", \"male\", \"male\", \"male\", \"male\", \"male\", \"male\", \"female\", \"male\", \"male\", \"male\", \"male\", \"female\", \"male\", \"female\", \"female\", \"male\", \"female\", \"female\", \"male\", \"male\", \"male\", \"male\", \"female\", \"male\", \"male\", \"male\", \"male\", \"male\", \"male\", \"male\", \"male\", \"male\", \"male\", \"male\", \"male\", \"male\", \"female\", \"male\", \"female\", \"male\", \"male\", \"male\", \"female\", \"male\", \"male\", \"female\", \"female\", \"male\", \"male\", \"female\", \"female\", \"male\", \"male\", \"female\", \"male\", \"female\", \"male\", \"male\", \"male\", \"male\", \"male\", \"male\", \"male\", \"female\", \"male\", \"female\", \"male\", \"male\", \"male\", \"male\", \"male\", \"male\", \"male\", \"male\", \"male\", \"male\", \"female\", \"female\", \"female\", \"male\", \"male\", \"male\", \"male\", \"male\", \"male\", \"male\", \"male\", \"male\", \"female\", \"female\", \"female\", \"female\", \"female\", \"male\", \"male\", \"female\", \"male\", \"male\", \"male\", \"male\", \"female\", \"male\", \"female\", \"male\", \"male\", \"male\", \"female\", \"male\", \"male\", \"male\", \"male\", \"female\", \"male\", \"male\", \"female\", \"male\", \"female\", \"male\", \"male\", \"male\", \"male\", \"male\", \"male\", \"male\", \"female\", \"female\", \"male\", \"male\", \"male\", \"male\", \"male\", \"male\", \"female\", \"female\", \"female\", \"female\", \"male\", \"male\", \"male\", \"male\", \"male\", \"male\", \"male\", \"male\", \"male\", \"female\", \"male\", \"female\", \"male\", \"male\", \"male\", \"male\", \"female\", \"male\", \"female\", \"female\", \"female\", \"male\", \"male\", \"male\", \"male\", \"male\", \"female\", \"male\", \"male\", \"female\", \"male\", \"female\", \"male\", \"male\", \"male\", \"male\", \"male\", \"male\", \"male\", \"female\", \"male\", \"male\", \"male\", \"male\"]}, {\"label\": \"Job\", \"values\": [2, 2, 1, 2, 2, 1, 2, 3, 1, 3, 2, 2, 2, 1, 2, 1, 2, 2, 3, 2, 2, 2, 1, 2, 2, 1, 1, 2, 2, 2, 2, 2, 2, 1, 3, 1, 2, 2, 2, 2, 3, 2, 1, 2, 1, 3, 2, 0, 1, 2, 1, 3, 2, 2, 2, 1, 3, 2, 3, 1, 2, 2, 3, 2, 2, 2, 2, 2, 2, 2, 2, 1, 3, 1, 3, 3, 2, 2, 1, 2, 2, 2, 1, 1, 1, 3, 2, 2, 3, 2, 2, 2, 1, 2, 2, 2, 2, 2, 2, 3, 1, 2, 2, 2, 2, 3, 3, 2, 2, 2, 2, 2, 1, 2, 2, 2, 3, 2, 2, 3, 2, 3, 1, 2, 2, 2, 1, 2, 3, 2, 2, 2, 1, 2, 2, 2, 2, 1, 2, 1, 0, 3, 3, 2, 2, 2, 2, 2, 2, 2, 2, 2, 2, 2, 3, 2, 2, 1, 2, 1, 2, 2, 2, 3, 2, 2, 2, 2, 2, 2, 2, 2, 3, 2, 2, 3, 2, 2, 3, 2, 2, 3, 1, 2, 2, 2, 3, 0, 2, 2, 3, 1, 2, 2, 2, 3, 2, 2, 2, 3, 2, 1, 2, 2, 1, 3, 2, 2, 1, 2, 2, 1, 2, 3, 2, 1, 2, 2, 1, 2, 1, 2, 2, 2, 2, 2, 2, 3, 2, 2, 2, 1, 2, 1, 1, 3, 0, 1, 2, 2, 2, 2, 2, 2, 1, 2, 2, 2, 2, 2, 1, 1, 2, 2, 2, 1, 1, 2, 2, 1, 2, 2, 3, 1, 1, 2, 2, 2, 3, 2, 2, 2, 3, 2, 1, 2, 2, 1, 2, 3, 2, 2, 1, 2, 2, 1, 2, 3, 2, 2, 2, 3, 3, 2, 3, 2, 2, 1, 2, 2, 0, 2, 1, 2, 2, 2, 1, 1, 2, 1, 0, 2, 2, 1, 1, 2, 1, 1, 2, 1, 3, 2, 3, 2, 2, 1, 2, 2, 2, 2, 3, 2, 3, 1, 2, 3, 1, 2, 2, 1, 2, 1, 2, 3, 1, 1, 2, 0, 1, 2, 2, 2, 3, 2, 2, 1, 2, 3, 2, 2, 2, 3, 2, 2, 0, 2, 2, 2, 2, 2, 2, 2, 2, 3, 3, 2, 2, 2, 3, 1, 2, 3, 2, 2, 1, 2, 2, 3, 2, 2, 3, 1, 3, 2, 3, 2, 3, 2, 2, 1, 2, 2, 2, 1, 2, 2, 2, 2, 3, 2, 2, 3, 3, 1, 2, 2, 1, 2, 3, 2, 2, 2, 1, 3, 2, 2, 2, 2, 2, 0, 1, 3, 3, 2, 2, 2, 1, 2, 0, 0, 3, 2, 2, 1, 3, 1, 2, 2, 3, 2, 3, 2, 2, 3, 2, 3, 2, 2, 2, 2, 2, 2, 3, 2, 2, 2, 1, 2, 2, 1, 2, 2, 1, 3, 2, 2, 2, 2, 1, 2, 1, 2, 2, 2, 2, 3, 2, 2, 1, 2, 2, 3, 2, 2, 1, 2, 3, 2, 1, 2, 2, 2, 2, 2, 2, 1, 2, 3, 2, 3, 2, 3, 2, 2, 2, 2, 1, 2, 2, 2, 2, 2, 2, 2, 1, 2, 2, 1, 2, 1, 2, 2, 2, 2, 2, 2, 3, 2, 3, 1, 2, 2, 2, 1, 1, 2, 2, 2, 1, 2, 2, 1, 2, 2, 3, 2, 2, 2, 2, 1, 2, 1, 2, 2, 3, 2, 2, 2, 2, 2, 1, 2, 3, 1, 1, 2, 2, 2, 2, 1, 2, 1, 2, 1, 3, 2, 2, 1, 1, 2, 1, 2, 1, 1, 3, 1, 2, 1, 2, 2, 2, 2, 1, 3, 2, 2, 3, 2, 2, 2, 2, 1, 2, 2, 2, 3, 3, 2, 2, 1, 2, 2, 2, 2, 2, 2, 2, 2, 2, 1, 2, 2, 2, 2, 1, 2, 2, 2, 2, 2, 0, 1, 3, 2, 3, 2, 2, 2, 2, 1, 3, 1, 2, 3, 2, 2, 1, 2, 2, 2, 2, 2, 2, 3, 1, 3, 2, 2, 2, 2, 1, 2, 3, 2, 1, 3, 2, 2, 1, 2, 2, 2, 2, 2, 1, 2, 2, 2, 2, 2, 2, 1, 2, 1, 2, 2, 2, 0, 2, 3, 1, 2, 2, 2, 2, 2, 2, 2, 2, 1, 3, 2, 3, 1, 3, 2, 2, 3, 2, 2, 3, 2, 1, 1, 2, 1, 1, 2, 2, 2, 2, 1, 1, 2, 2, 0, 3, 1, 3, 1, 2, 1, 2, 2, 3, 1, 2, 1, 2, 2, 2, 1, 1, 2, 2, 2, 0, 2, 2, 2, 2, 2, 1, 3, 2, 1, 1, 2, 2, 1, 2, 3, 3, 2, 0, 2, 2, 2, 3, 2, 2, 2, 1, 1, 3, 1, 2, 2, 2, 2, 2, 3, 2, 2, 2, 2, 2, 1, 2, 0, 2, 1, 2, 2, 0, 2, 1, 2, 3, 0, 2, 1, 2, 2, 2, 2, 2, 2, 3, 2, 2, 2, 2, 1, 3, 2, 2, 2, 2, 2, 2, 2, 2, 2, 1, 2, 2, 1, 2, 2, 2, 1, 2, 2, 2, 2, 2, 2, 2, 1, 2, 2, 2, 1, 2, 2, 2, 2, 2, 2, 2, 2, 2, 1, 1, 2, 2, 2, 2, 2, 2, 2, 2, 2, 1, 2, 3, 2, 3, 2, 3, 2, 2, 0, 2, 2, 2, 2, 3, 2, 3, 2, 1, 2, 2, 3, 3, 2, 1, 2, 2, 2, 2, 2, 3, 3, 1, 2, 1, 1, 2, 1, 2, 2, 2, 3, 2, 3, 2, 3, 2, 3, 2, 2, 2, 2, 2, 2, 2, 1, 1, 2, 2, 2, 2, 3, 1, 3, 2, 3, 3, 1, 2, 1, 2, 2, 2, 3, 1, 2, 0, 2, 2, 3, 2, 3, 1, 1, 1, 2, 2, 2, 2, 2, 1, 2, 1, 3, 2, 1, 2, 1, 0, 2, 2, 1, 2, 2, 1, 2, 2, 3, 3, 2, 1, 2, 2, 2, 3, 1, 1, 1, 1, 3, 2, 1, 3, 2, 2, 2]}, {\"label\": \"Housing\", \"values\": [\"own\", \"own\", \"own\", \"free\", \"free\", \"free\", \"own\", \"rent\", \"own\", \"own\", \"rent\", \"rent\", \"own\", \"own\", \"rent\", \"own\", \"own\", \"own\", \"free\", \"own\", \"own\", \"rent\", \"rent\", \"own\", \"own\", \"own\", \"own\", \"rent\", \"own\", \"own\", \"own\", \"own\", \"own\", \"rent\", \"own\", \"own\", \"free\", \"own\", \"own\", \"own\", \"own\", \"own\", \"own\", \"rent\", \"free\", \"own\", \"own\", \"rent\", \"own\", \"own\", \"own\", \"own\", \"own\", \"own\", \"free\", \"own\", \"own\", \"own\", \"own\", \"rent\", \"own\", \"own\", \"free\", \"own\", \"own\", \"own\", \"own\", \"own\", \"free\", \"own\", \"own\", \"rent\", \"free\", \"own\", \"own\", \"free\", \"own\", \"own\", \"own\", \"own\", \"own\", \"own\", \"rent\", \"own\", \"own\", \"own\", \"own\", \"free\", \"own\", \"own\", \"own\", \"own\", \"own\", \"rent\", \"own\", \"rent\", \"own\", \"own\", \"own\", \"rent\", \"rent\", \"rent\", \"own\", \"rent\", \"rent\", \"own\", \"own\", \"own\", \"own\", \"own\", \"own\", \"rent\", \"rent\", \"own\", \"own\", \"own\", \"own\", \"rent\", \"own\", \"own\", \"own\", \"rent\", \"rent\", \"free\", \"rent\", \"own\", \"own\", \"own\", \"own\", \"own\", \"own\", \"own\", \"own\", \"free\", \"own\", \"own\", \"own\", \"own\", \"own\", \"rent\", \"own\", \"own\", \"own\", \"own\", \"own\", \"own\", \"own\", \"own\", \"own\", \"own\", \"free\", \"own\", \"own\", \"rent\", \"rent\", \"rent\", \"own\", \"own\", \"own\", \"own\", \"own\", \"own\", \"own\", \"free\", \"own\", \"own\", \"own\", \"own\", \"rent\", \"own\", \"rent\", \"own\", \"own\", \"own\", \"own\", \"own\", \"own\", \"own\", \"rent\", \"own\", \"own\", \"own\", \"own\", \"own\", \"own\", \"own\", \"free\", \"free\", \"own\", \"own\", \"own\", \"free\", \"own\", \"rent\", \"rent\", \"own\", \"own\", \"rent\", \"free\", \"own\", \"own\", \"own\", \"own\", \"rent\", \"own\", \"free\", \"own\", \"own\", \"own\", \"own\", \"own\", \"own\", \"own\", \"own\", \"own\", \"own\", \"own\", \"own\", \"rent\", \"own\", \"own\", \"rent\", \"own\", \"own\", \"own\", \"own\", \"own\", \"free\", \"own\", \"free\", \"own\", \"free\", \"own\", \"own\", \"own\", \"own\", \"own\", \"rent\", \"own\", \"own\", \"own\", \"own\", \"free\", \"own\", \"own\", \"own\", \"own\", \"rent\", \"own\", \"rent\", \"own\", \"own\", \"own\", \"own\", \"own\", \"own\", \"own\", \"free\", \"own\", \"own\", \"own\", \"own\", \"free\", \"free\", \"own\", \"own\", \"own\", \"own\", \"own\", \"own\", \"own\", \"rent\", \"free\", \"own\", \"own\", \"own\", \"own\", \"own\", \"own\", \"rent\", \"rent\", \"own\", \"own\", \"own\", \"own\", \"own\", \"own\", \"free\", \"own\", \"own\", \"own\", \"rent\", \"free\", \"free\", \"own\", \"own\", \"rent\", \"own\", \"own\", \"own\", \"own\", \"own\", \"own\", \"own\", \"free\", \"own\", \"rent\", \"own\", \"own\", \"rent\", \"free\", \"own\", \"own\", \"own\", \"own\", \"own\", \"own\", \"own\", \"own\", \"own\", \"own\", \"own\", \"free\", \"own\", \"own\", \"own\", \"rent\", \"own\", \"own\", \"own\", \"free\", \"own\", \"own\", \"rent\", \"rent\", \"rent\", \"own\", \"rent\", \"own\", \"own\", \"free\", \"rent\", \"rent\", \"own\", \"own\", \"own\", \"own\", \"rent\", \"own\", \"free\", \"rent\", \"own\", \"own\", \"rent\", \"free\", \"own\", \"own\", \"own\", \"own\", \"rent\", \"free\", \"own\", \"own\", \"rent\", \"own\", \"own\", \"own\", \"rent\", \"own\", \"rent\", \"own\", \"own\", \"rent\", \"free\", \"free\", \"rent\", \"own\", \"free\", \"free\", \"own\", \"own\", \"free\", \"rent\", \"own\", \"own\", \"own\", \"rent\", \"own\", \"own\", \"own\", \"own\", \"rent\", \"free\", \"own\", \"own\", \"rent\", \"free\", \"own\", \"rent\", \"own\", \"own\", \"own\", \"own\", \"own\", \"own\", \"own\", \"own\", \"own\", \"own\", \"own\", \"own\", \"own\", \"own\", \"rent\", \"own\", \"own\", \"own\", \"rent\", \"own\", \"own\", \"rent\", \"own\", \"own\", \"own\", \"own\", \"rent\", \"own\", \"own\", \"own\", \"free\", \"own\", \"own\", \"free\", \"own\", \"own\", \"own\", \"rent\", \"own\", \"own\", \"own\", \"own\", \"own\", \"own\", \"own\", \"own\", \"rent\", \"own\", \"own\", \"own\", \"own\", \"own\", \"own\", \"own\", \"own\", \"own\", \"own\", \"rent\", \"free\", \"own\", \"own\", \"own\", \"own\", \"rent\", \"own\", \"own\", \"own\", \"rent\", \"own\", \"own\", \"own\", \"rent\", \"own\", \"own\", \"own\", \"own\", \"rent\", \"own\", \"own\", \"own\", \"own\", \"own\", \"own\", \"rent\", \"own\", \"own\", \"own\", \"own\", \"free\", \"rent\", \"rent\", \"own\", \"free\", \"own\", \"own\", \"rent\", \"own\", \"rent\", \"own\", \"own\", \"own\", \"own\", \"free\", \"own\", \"own\", \"rent\", \"own\", \"own\", \"own\", \"own\", \"own\", \"own\", \"free\", \"rent\", \"rent\", \"own\", \"own\", \"own\", \"rent\", \"own\", \"free\", \"free\", \"own\", \"free\", \"own\", \"own\", \"own\", \"own\", \"own\", \"rent\", \"own\", \"own\", \"rent\", \"rent\", \"own\", \"own\", \"rent\", \"own\", \"own\", \"free\", \"own\", \"rent\", \"free\", \"own\", \"own\", \"own\", \"free\", \"own\", \"own\", \"own\", \"free\", \"own\", \"own\", \"own\", \"own\", \"own\", \"own\", \"own\", \"own\", \"own\", \"own\", \"free\", \"rent\", \"own\", \"free\", \"own\", \"rent\", \"own\", \"own\", \"own\", \"own\", \"rent\", \"own\", \"rent\", \"own\", \"own\", \"own\", \"own\", \"own\", \"own\", \"own\", \"own\", \"own\", \"rent\", \"rent\", \"free\", \"rent\", \"rent\", \"own\", \"own\", \"own\", \"own\", \"rent\", \"own\", \"rent\", \"own\", \"own\", \"rent\", \"own\", \"own\", \"free\", \"own\", \"own\", \"free\", \"own\", \"own\", \"own\", \"own\", \"free\", \"own\", \"free\", \"own\", \"free\", \"own\", \"rent\", \"own\", \"own\", \"free\", \"rent\", \"rent\", \"own\", \"own\", \"own\", \"own\", \"rent\", \"free\", \"own\", \"own\", \"own\", \"own\", \"own\", \"own\", \"own\", \"own\", \"rent\", \"own\", \"own\", \"own\", \"own\", \"own\", \"own\", \"own\", \"own\", \"own\", \"own\", \"own\", \"rent\", \"own\", \"own\", \"free\", \"rent\", \"free\", \"own\", \"own\", \"own\", \"own\", \"free\", \"own\", \"own\", \"own\", \"own\", \"rent\", \"own\", \"own\", \"own\", \"own\", \"own\", \"own\", \"own\", \"rent\", \"own\", \"own\", \"own\", \"own\", \"own\", \"own\", \"rent\", \"own\", \"own\", \"rent\", \"own\", \"own\", \"free\", \"own\", \"free\", \"own\", \"free\", \"own\", \"free\", \"own\", \"own\", \"own\", \"own\", \"own\", \"own\", \"own\", \"rent\", \"own\", \"own\", \"own\", \"rent\", \"rent\", \"free\", \"free\", \"own\", \"own\", \"free\", \"own\", \"rent\", \"own\", \"own\", \"own\", \"free\", \"own\", \"own\", \"own\", \"own\", \"own\", \"free\", \"own\", \"own\", \"own\", \"rent\", \"own\", \"own\", \"rent\", \"own\", \"own\", \"rent\", \"rent\", \"own\", \"own\", \"rent\", \"own\", \"rent\", \"own\", \"own\", \"rent\", \"own\", \"own\", \"rent\", \"own\", \"own\", \"own\", \"own\", \"own\", \"own\", \"rent\", \"own\", \"own\", \"own\", \"own\", \"own\", \"rent\", \"own\", \"free\", \"rent\", \"own\", \"free\", \"own\", \"own\", \"own\", \"rent\", \"own\", \"free\", \"own\", \"own\", \"own\", \"rent\", \"rent\", \"own\", \"rent\", \"own\", \"own\", \"own\", \"free\", \"rent\", \"own\", \"own\", \"own\", \"own\", \"own\", \"own\", \"own\", \"own\", \"own\", \"own\", \"own\", \"own\", \"free\", \"own\", \"own\", \"own\", \"own\", \"free\", \"rent\", \"rent\", \"free\", \"rent\", \"own\", \"own\", \"free\", \"rent\", \"own\", \"own\", \"rent\", \"own\", \"own\", \"own\", \"free\", \"rent\", \"own\", \"own\", \"own\", \"own\", \"free\", \"rent\", \"own\", \"rent\", \"own\", \"own\", \"own\", \"own\", \"own\", \"own\", \"own\", \"own\", \"rent\", \"own\", \"free\", \"free\", \"own\", \"rent\", \"rent\", \"own\", \"own\", \"own\", \"own\", \"rent\", \"own\", \"own\", \"own\", \"own\", \"own\", \"own\", \"own\", \"own\", \"rent\", \"own\", \"own\", \"own\", \"rent\", \"own\", \"free\", \"free\", \"own\", \"own\", \"own\", \"free\", \"own\", \"rent\", \"own\", \"own\", \"own\", \"own\", \"rent\", \"rent\", \"own\", \"own\", \"own\", \"rent\", \"own\", \"own\", \"own\", \"own\", \"own\", \"own\", \"free\", \"own\", \"free\", \"own\", \"own\", \"free\", \"own\", \"own\", \"own\", \"own\", \"own\", \"own\", \"own\", \"rent\", \"own\", \"own\", \"own\", \"own\", \"own\", \"own\", \"rent\", \"own\", \"rent\", \"own\", \"rent\", \"own\", \"free\", \"rent\", \"own\", \"rent\", \"own\", \"own\", \"own\", \"own\", \"own\", \"own\", \"own\", \"own\", \"rent\", \"own\", \"own\", \"own\", \"own\", \"rent\", \"own\", \"own\", \"rent\", \"rent\", \"own\", \"own\", \"rent\", \"free\", \"own\", \"own\", \"own\", \"own\", \"own\", \"own\", \"own\", \"own\", \"own\", \"rent\", \"free\", \"own\", \"own\", \"own\", \"own\", \"own\", \"rent\", \"own\", \"free\", \"own\", \"own\", \"own\", \"own\", \"own\", \"rent\", \"own\", \"own\", \"rent\", \"own\", \"own\", \"own\", \"free\", \"rent\", \"own\", \"own\", \"own\", \"own\", \"own\", \"own\", \"rent\", \"rent\", \"own\", \"own\", \"own\", \"rent\", \"rent\", \"own\", \"own\", \"own\", \"own\", \"own\", \"rent\", \"own\", \"rent\", \"own\", \"own\", \"own\", \"rent\", \"own\", \"own\", \"free\", \"own\", \"own\", \"own\", \"rent\", \"own\", \"own\", \"own\", \"own\", \"own\", \"free\", \"own\"]}, {\"label\": \"Saving accounts\", \"values\": [null, \"little\", \"little\", \"little\", \"little\", null, \"quite rich\", \"little\", \"rich\", \"little\", \"little\", \"little\", \"little\", \"little\", \"little\", \"moderate\", null, null, \"little\", \"quite rich\", \"little\", \"quite rich\", \"little\", \"moderate\", null, \"little\", \"little\", \"rich\", \"little\", \"little\", \"rich\", \"little\", \"moderate\", null, \"little\", \"little\", \"little\", \"little\", \"little\", \"little\", \"quite rich\", \"quite rich\", \"little\", \"moderate\", \"little\", \"little\", \"quite rich\", \"quite rich\", \"little\", \"moderate\", null, \"little\", \"little\", null, \"little\", null, null, \"little\", \"little\", \"little\", \"little\", null, \"little\", \"little\", \"little\", null, \"little\", \"rich\", \"little\", null, \"little\", null, \"little\", \"little\", null, \"little\", \"little\", \"little\", null, \"little\", null, \"quite rich\", \"moderate\", \"little\", \"little\", \"little\", \"little\", \"moderate\", \"moderate\", \"little\", \"little\", \"little\", null, null, \"rich\", \"little\", null, \"moderate\", \"little\", null, \"moderate\", \"little\", \"little\", \"little\", null, \"little\", \"little\", \"little\", null, \"quite rich\", \"moderate\", \"little\", \"little\", \"little\", \"quite rich\", null, null, null, \"quite rich\", \"quite rich\", \"little\", \"little\", \"little\", \"little\", null, \"little\", \"little\", \"little\", \"little\", \"little\", null, \"little\", \"little\", \"little\", \"moderate\", null, \"rich\", \"quite rich\", null, \"little\", \"rich\", \"little\", \"little\", \"little\", \"little\", \"moderate\", \"little\", \"moderate\", \"little\", \"rich\", \"moderate\", \"little\", \"little\", \"rich\", \"moderate\", \"little\", \"moderate\", \"little\", \"moderate\", null, \"moderate\", \"little\", \"quite rich\", \"little\", \"quite rich\", \"quite rich\", \"little\", \"rich\", \"little\", \"little\", \"little\", \"little\", \"little\", \"little\", \"little\", null, \"little\", \"quite rich\", \"little\", \"little\", \"little\", \"little\", null, \"rich\", \"little\", \"little\", \"little\", \"little\", \"moderate\", \"little\", \"rich\", \"moderate\", \"little\", \"little\", \"moderate\", \"little\", \"little\", \"moderate\", null, \"little\", \"quite rich\", \"little\", \"little\", \"little\", \"little\", \"little\", \"little\", \"little\", \"little\", \"rich\", null, null, \"little\", \"little\", null, null, \"little\", \"little\", \"little\", \"little\", \"little\", null, \"little\", null, \"little\", \"little\", \"rich\", \"little\", \"little\", \"little\", \"little\", \"quite rich\", \"moderate\", \"little\", \"little\", \"little\", null, \"moderate\", \"little\", \"little\", null, \"little\", \"little\", \"little\", \"quite rich\", \"little\", \"little\", \"moderate\", \"little\", \"little\", \"rich\", \"little\", \"little\", \"moderate\", null, null, \"little\", \"little\", \"moderate\", \"moderate\", \"little\", \"little\", \"little\", \"little\", \"little\", \"little\", null, \"little\", \"little\", null, null, \"quite rich\", null, \"little\", \"little\", \"little\", \"little\", null, \"little\", \"moderate\", \"rich\", \"little\", null, null, \"moderate\", \"little\", \"little\", \"moderate\", \"little\", \"little\", \"little\", \"little\", \"little\", \"little\", null, \"little\", null, null, \"little\", \"rich\", \"little\", \"little\", null, \"little\", \"quite rich\", \"rich\", null, \"moderate\", \"little\", \"little\", null, \"moderate\", \"little\", \"little\", null, \"little\", \"little\", null, \"little\", \"little\", \"little\", \"little\", \"little\", \"rich\", \"little\", \"little\", null, \"rich\", \"little\", \"little\", \"little\", \"moderate\", \"moderate\", \"moderate\", \"little\", \"little\", \"little\", null, \"little\", \"little\", \"little\", \"little\", \"quite rich\", \"little\", \"little\", \"little\", \"little\", \"quite rich\", \"moderate\", \"rich\", \"little\", \"little\", null, \"little\", \"quite rich\", \"little\", null, \"little\", \"little\", \"little\", null, null, \"little\", \"little\", \"little\", \"little\", \"little\", \"little\", \"little\", \"little\", null, \"little\", \"little\", null, \"moderate\", \"little\", \"little\", null, \"little\", \"moderate\", null, \"little\", null, \"little\", \"moderate\", \"little\", null, \"little\", \"quite rich\", \"little\", \"little\", \"rich\", \"little\", \"little\", \"little\", \"moderate\", \"little\", \"little\", \"little\", \"rich\", \"little\", null, \"little\", \"little\", null, \"little\", null, \"little\", \"quite rich\", \"quite rich\", \"little\", \"little\", \"little\", \"quite rich\", null, \"little\", \"little\", null, \"quite rich\", null, \"rich\", null, \"little\", \"moderate\", null, \"little\", \"little\", \"rich\", \"little\", \"little\", \"little\", \"little\", \"little\", \"little\", \"little\", null, \"quite rich\", \"rich\", \"little\", \"little\", \"little\", \"little\", \"little\", \"little\", \"little\", null, \"little\", \"little\", null, \"rich\", null, \"little\", \"little\", \"little\", \"little\", \"little\", \"little\", \"little\", \"little\", \"little\", \"little\", \"little\", \"little\", null, \"little\", \"little\", \"little\", null, \"little\", \"little\", \"moderate\", \"little\", \"little\", null, \"little\", \"little\", \"quite rich\", \"little\", \"moderate\", \"little\", \"little\", \"little\", \"rich\", \"rich\", \"quite rich\", \"little\", \"little\", \"little\", \"moderate\", \"little\", \"little\", \"little\", \"moderate\", null, \"little\", null, \"moderate\", \"little\", \"little\", \"moderate\", \"little\", \"little\", \"moderate\", \"moderate\", \"little\", null, \"quite rich\", \"moderate\", \"little\", \"moderate\", \"little\", \"little\", \"little\", \"little\", null, \"little\", \"little\", \"little\", \"moderate\", null, \"little\", \"little\", \"little\", \"moderate\", \"little\", \"little\", \"moderate\", \"little\", \"little\", \"little\", \"little\", \"moderate\", \"little\", \"moderate\", null, \"little\", null, \"little\", \"little\", \"little\", \"little\", \"little\", null, \"little\", \"little\", \"little\", \"little\", \"little\", \"little\", null, null, \"quite rich\", \"little\", \"moderate\", \"little\", \"little\", \"moderate\", null, \"little\", \"little\", null, \"little\", \"little\", null, null, \"moderate\", \"little\", \"rich\", null, \"little\", \"little\", \"little\", null, \"little\", \"little\", \"little\", \"little\", null, \"little\", \"little\", \"little\", \"little\", \"little\", \"little\", null, \"little\", \"little\", \"little\", \"little\", \"little\", \"little\", null, \"rich\", \"little\", null, \"moderate\", \"little\", \"little\", \"little\", \"little\", \"little\", \"little\", \"little\", \"little\", \"little\", \"quite rich\", \"little\", \"moderate\", \"little\", null, \"moderate\", \"moderate\", \"rich\", \"little\", \"little\", null, null, \"little\", \"moderate\", \"little\", \"little\", \"little\", null, \"little\", \"little\", null, \"little\", \"moderate\", \"quite rich\", null, \"little\", \"little\", null, \"little\", \"little\", \"little\", \"quite rich\", \"little\", \"little\", \"little\", \"little\", \"little\", \"moderate\", \"little\", \"little\", null, \"little\", \"quite rich\", \"little\", \"little\", \"little\", \"little\", \"little\", \"moderate\", \"little\", \"little\", \"little\", null, \"little\", \"little\", \"little\", null, \"little\", \"little\", \"little\", \"little\", \"rich\", \"little\", \"little\", \"little\", \"moderate\", \"moderate\", \"little\", \"quite rich\", \"quite rich\", \"little\", \"little\", \"moderate\", \"little\", \"little\", \"little\", null, \"little\", \"little\", \"moderate\", null, null, \"moderate\", \"moderate\", \"rich\", \"little\", \"moderate\", \"moderate\", null, \"little\", \"quite rich\", \"little\", \"little\", \"little\", \"little\", \"quite rich\", \"little\", \"moderate\", \"moderate\", \"little\", \"quite rich\", \"moderate\", \"little\", \"little\", \"little\", \"quite rich\", \"little\", null, \"little\", \"little\", null, null, \"little\", null, \"moderate\", \"little\", \"rich\", \"little\", \"quite rich\", \"little\", \"rich\", \"quite rich\", \"little\", \"little\", \"rich\", \"little\", \"little\", \"little\", \"rich\", \"little\", null, \"little\", \"moderate\", \"little\", \"moderate\", \"moderate\", \"little\", null, \"quite rich\", null, \"little\", \"little\", \"little\", null, \"little\", \"little\", \"little\", \"moderate\", \"little\", \"rich\", null, \"little\", null, \"little\", \"little\", null, \"little\", \"little\", null, \"moderate\", \"little\", \"little\", null, \"little\", \"little\", null, \"little\", \"little\", \"moderate\", \"quite rich\", null, \"little\", \"little\", \"rich\", \"little\", \"little\", \"rich\", \"little\", \"moderate\", null, \"rich\", \"quite rich\", null, \"little\", \"little\", \"little\", null, null, \"little\", \"quite rich\", \"moderate\", null, \"little\", null, null, \"little\", \"little\", \"little\", null, null, \"little\", \"little\", null, \"little\", \"little\", \"little\", \"little\", \"little\", \"little\", \"little\", \"little\", \"quite rich\", \"little\", \"little\", \"little\", \"little\", \"little\", \"little\", \"little\", \"little\", \"little\", \"little\", \"little\", null, null, \"quite rich\", \"little\", \"little\", null, \"little\", \"little\", null, \"little\", \"little\", \"little\", \"little\", \"little\", \"little\", \"little\", \"little\", null, null, \"little\", \"little\", \"little\", \"little\", null, \"little\", \"little\", \"little\", \"moderate\", null, \"little\", \"little\", \"moderate\", \"rich\", \"little\", \"little\", \"rich\", \"little\", \"quite rich\", \"little\", \"little\", null, \"little\", \"quite rich\", \"little\", \"moderate\", null, \"little\", \"rich\", \"little\", \"little\", \"little\", null, \"little\", null, null, \"little\", \"little\", \"little\", null, \"little\", \"little\", null, \"little\", \"little\", \"little\", \"little\", null, null, \"little\", \"rich\", null, \"little\", \"little\", null, null, null, \"little\", \"little\", null, null, \"little\", null, \"little\", \"little\", null, \"rich\", \"little\", \"little\", \"moderate\", \"little\", \"moderate\", \"little\", \"little\", \"quite rich\", \"little\", \"little\", \"little\", \"little\", \"little\", \"little\", null, \"little\", \"little\", \"little\", \"little\", \"quite rich\", \"little\", \"moderate\", \"little\", \"little\", \"little\", null, null, \"little\", null, \"little\", \"little\", \"quite rich\", \"quite rich\", null, \"little\", \"moderate\", \"little\", \"little\", \"quite rich\", \"little\", \"little\", \"rich\", null, \"little\", \"little\", \"moderate\", \"little\", \"little\", null, \"quite rich\", \"little\", null, \"quite rich\", \"little\", null, \"little\", \"moderate\", \"little\", \"little\", \"little\", \"little\", \"quite rich\", \"little\", null, \"little\", \"moderate\", \"little\", \"little\", \"moderate\", \"little\", \"little\", \"little\", \"little\", \"moderate\", \"little\", \"little\", null, \"moderate\", null, \"little\", null, \"little\", \"little\", \"little\", \"little\", \"moderate\"]}, {\"label\": \"Checking account\", \"values\": [\"little\", \"moderate\", null, \"little\", \"little\", null, null, \"moderate\", null, \"moderate\", \"moderate\", \"little\", \"moderate\", \"little\", \"little\", \"little\", null, \"little\", \"moderate\", null, null, \"little\", \"little\", \"moderate\", null, \"little\", null, \"rich\", \"moderate\", \"little\", \"moderate\", \"little\", \"moderate\", null, \"rich\", \"moderate\", null, \"rich\", \"rich\", \"moderate\", null, \"moderate\", \"moderate\", \"little\", \"little\", null, null, \"little\", null, null, \"moderate\", \"moderate\", null, null, \"moderate\", null, \"moderate\", null, \"rich\", \"little\", \"moderate\", \"moderate\", \"moderate\", \"moderate\", null, null, null, \"moderate\", null, null, null, null, \"little\", \"moderate\", \"little\", \"little\", \"little\", \"moderate\", null, \"moderate\", null, null, null, \"little\", \"little\", null, \"moderate\", \"moderate\", \"little\", \"little\", null, \"little\", null, \"rich\", \"moderate\", \"moderate\", null, \"moderate\", \"moderate\", \"moderate\", null, \"moderate\", null, \"moderate\", null, \"moderate\", null, \"moderate\", \"little\", \"moderate\", \"moderate\", \"rich\", \"moderate\", null, \"little\", null, \"little\", \"little\", \"little\", \"moderate\", \"little\", null, null, \"rich\", \"moderate\", \"little\", \"little\", \"moderate\", \"moderate\", \"little\", \"moderate\", \"little\", null, null, null, null, null, \"moderate\", \"moderate\", \"rich\", \"rich\", \"moderate\", \"little\", \"little\", null, \"moderate\", \"little\", null, \"little\", null, null, null, \"rich\", \"moderate\", \"moderate\", \"little\", \"little\", \"little\", \"moderate\", null, null, null, null, \"moderate\", null, null, \"little\", \"moderate\", null, \"moderate\", \"little\", null, \"moderate\", \"moderate\", \"little\", null, \"little\", \"little\", null, \"little\", null, \"moderate\", \"little\", null, \"moderate\", null, \"moderate\", \"moderate\", \"little\", \"moderate\", null, \"moderate\", \"moderate\", null, \"moderate\", \"moderate\", null, \"moderate\", \"moderate\", \"moderate\", null, \"little\", null, \"little\", null, \"little\", null, \"moderate\", \"little\", null, null, null, \"little\", \"rich\", null, \"moderate\", \"little\", \"rich\", \"little\", null, \"moderate\", \"little\", null, null, null, null, \"moderate\", \"little\", null, \"little\", \"rich\", null, null, \"moderate\", null, \"little\", \"moderate\", \"moderate\", null, \"little\", \"little\", null, \"little\", null, null, null, null, null, \"rich\", null, \"little\", \"rich\", \"moderate\", null, \"moderate\", \"moderate\", null, \"little\", null, null, \"little\", \"little\", \"little\", null, null, \"moderate\", null, null, \"little\", null, null, null, \"moderate\", \"moderate\", \"little\", null, null, \"little\", null, null, null, null, \"rich\", null, \"moderate\", \"little\", \"little\", \"moderate\", \"moderate\", \"little\", null, \"moderate\", \"little\", \"rich\", null, \"moderate\", null, null, null, \"moderate\", null, \"moderate\", \"rich\", \"little\", null, null, null, \"little\", \"moderate\", \"moderate\", \"moderate\", null, \"rich\", \"moderate\", \"rich\", \"little\", \"little\", \"moderate\", null, \"little\", \"moderate\", \"little\", \"little\", \"little\", null, \"little\", null, null, \"rich\", \"moderate\", \"little\", null, \"moderate\", null, \"little\", \"little\", \"moderate\", \"little\", \"little\", \"moderate\", \"moderate\", \"little\", \"moderate\", \"moderate\", \"rich\", null, \"moderate\", \"moderate\", null, \"moderate\", null, \"moderate\", null, \"little\", null, \"moderate\", null, null, null, \"little\", \"moderate\", \"rich\", \"rich\", null, \"little\", null, null, \"little\", \"little\", \"moderate\", null, null, null, null, \"moderate\", \"little\", null, null, \"moderate\", null, \"little\", \"moderate\", null, \"rich\", null, null, null, \"moderate\", \"moderate\", null, null, \"moderate\", \"little\", \"little\", null, \"moderate\", \"little\", \"little\", \"moderate\", null, null, \"moderate\", null, null, \"moderate\", \"moderate\", null, \"little\", null, \"rich\", \"moderate\", null, null, null, \"little\", null, \"little\", \"little\", null, \"moderate\", null, \"moderate\", \"moderate\", null, \"moderate\", \"moderate\", null, null, null, \"little\", null, \"moderate\", \"little\", null, \"little\", \"moderate\", null, null, \"little\", \"rich\", null, \"little\", \"moderate\", null, \"moderate\", null, \"little\", \"moderate\", \"rich\", \"moderate\", null, null, null, null, \"little\", null, \"little\", \"little\", \"little\", null, \"little\", \"little\", \"moderate\", \"moderate\", null, \"little\", \"little\", null, null, null, \"moderate\", \"little\", \"little\", null, \"moderate\", \"little\", null, \"rich\", \"moderate\", \"little\", \"moderate\", \"moderate\", \"little\", null, null, \"moderate\", null, null, null, null, null, \"moderate\", null, \"moderate\", \"little\", \"little\", \"moderate\", null, \"moderate\", \"rich\", \"little\", \"little\", \"rich\", \"moderate\", \"little\", null, \"rich\", \"moderate\", null, null, \"little\", null, \"rich\", \"moderate\", null, \"little\", \"little\", null, \"little\", null, null, \"little\", \"little\", null, \"moderate\", \"moderate\", null, null, \"little\", \"little\", \"moderate\", \"moderate\", null, null, null, \"rich\", \"little\", \"moderate\", \"little\", \"rich\", \"moderate\", null, \"little\", \"rich\", null, \"little\", null, null, \"little\", null, null, null, \"little\", \"moderate\", \"moderate\", \"moderate\", \"moderate\", null, \"little\", \"moderate\", \"little\", \"little\", \"rich\", \"moderate\", \"moderate\", \"moderate\", \"little\", null, \"moderate\", \"little\", \"little\", null, null, \"little\", \"moderate\", null, \"moderate\", null, \"moderate\", null, \"moderate\", \"moderate\", null, \"moderate\", null, \"little\", \"little\", \"little\", \"little\", \"little\", \"little\", \"moderate\", null, \"moderate\", \"little\", \"moderate\", \"little\", \"moderate\", null, null, \"moderate\", \"moderate\", \"moderate\", null, \"rich\", \"little\", null, \"moderate\", null, null, \"little\", \"rich\", \"little\", \"little\", null, \"moderate\", \"moderate\", \"little\", \"moderate\", null, \"moderate\", null, null, \"little\", \"little\", null, \"rich\", \"moderate\", null, null, \"little\", \"little\", \"moderate\", null, \"moderate\", null, null, null, null, \"little\", \"little\", \"moderate\", null, null, \"little\", null, \"little\", null, \"rich\", \"little\", \"little\", \"moderate\", \"little\", \"moderate\", null, \"little\", \"moderate\", null, \"moderate\", \"moderate\", \"rich\", \"little\", null, \"moderate\", \"rich\", null, \"moderate\", null, \"little\", \"rich\", null, null, null, null, null, null, null, \"moderate\", \"little\", null, null, null, null, null, \"moderate\", null, \"rich\", \"moderate\", null, \"little\", \"little\", \"moderate\", \"moderate\", \"little\", null, null, \"moderate\", null, null, \"rich\", null, \"little\", \"rich\", \"moderate\", \"moderate\", null, \"moderate\", \"moderate\", \"moderate\", \"moderate\", null, \"little\", null, \"little\", \"moderate\", null, null, null, \"rich\", \"moderate\", \"rich\", \"moderate\", \"little\", \"moderate\", null, null, null, \"little\", \"moderate\", \"rich\", \"moderate\", \"little\", \"moderate\", null, null, \"moderate\", \"moderate\", \"little\", null, \"moderate\", \"little\", \"moderate\", null, \"little\", \"little\", \"little\", \"little\", \"little\", null, null, \"little\", \"little\", \"moderate\", null, null, \"little\", \"rich\", \"rich\", null, \"little\", null, \"little\", \"little\", null, null, \"moderate\", \"little\", null, \"moderate\", null, \"little\", \"little\", null, null, \"rich\", \"little\", null, \"little\", null, \"moderate\", \"moderate\", null, \"moderate\", \"moderate\", \"moderate\", \"moderate\", null, null, \"moderate\", \"little\", \"moderate\", null, null, \"rich\", null, null, \"little\", null, null, \"moderate\", null, \"moderate\", \"little\", null, \"moderate\", \"little\", \"moderate\", null, \"moderate\", \"moderate\", \"moderate\", \"moderate\", \"little\", \"little\", \"little\", \"moderate\", null, null, \"little\", \"little\", null, \"rich\", \"little\", \"little\", null, \"little\", \"little\", null, \"little\", \"moderate\", null, \"little\", \"little\", \"moderate\", \"rich\", \"little\", null, null, \"little\", null, \"little\", null, null, null, null, \"moderate\", null, null, \"little\", \"little\", \"little\", null, null, \"little\", null, null, null, null, \"little\", null, null, null, \"little\", null, null, null, \"little\", null, null, \"little\", null, \"rich\", \"little\", null, \"little\", \"moderate\", \"little\", null, \"little\", null, null, null, \"moderate\", null, \"moderate\", \"little\", \"moderate\", \"moderate\", null, null, \"little\", null, \"little\", \"moderate\", null, null, \"little\", null, null, \"little\", \"little\", null, null, null, null, \"little\", \"little\", \"moderate\", null, \"moderate\", null, \"moderate\", \"moderate\", null, \"little\", \"moderate\", null, \"little\", \"little\", \"little\", null, null, \"little\", \"moderate\", \"little\", \"little\", \"little\", \"little\", null, \"little\", \"little\", \"moderate\", null, null, \"little\", \"moderate\", \"rich\", \"moderate\", \"moderate\", null, null, null, null, null, \"little\", \"moderate\", \"little\", null, null, null, \"moderate\", \"little\", \"moderate\", null, \"little\", \"little\", \"rich\", \"moderate\", \"little\", \"moderate\", null, \"moderate\", null, null, \"moderate\", \"moderate\", \"moderate\", null, null, \"little\", \"moderate\", null, \"little\", \"little\", null, \"rich\", \"moderate\", \"moderate\", null, \"moderate\", \"moderate\", null, \"rich\", \"little\", null, \"little\", \"rich\", null, \"little\", \"moderate\", null, null, \"little\", \"little\", null, null, \"little\", null, \"little\", \"moderate\"]}, {\"label\": \"Purpose\", \"values\": [\"radio/TV\", \"radio/TV\", \"education\", \"furniture/equipment\", \"car\", \"education\", \"furniture/equipment\", \"car\", \"radio/TV\", \"car\", \"car\", \"business\", \"radio/TV\", \"car\", \"car\", \"radio/TV\", \"radio/TV\", \"business\", \"car\", \"radio/TV\", \"car\", \"radio/TV\", \"car\", \"car\", \"furniture/equipment\", \"furniture/equipment\", \"radio/TV\", \"radio/TV\", \"radio/TV\", \"business\", \"business\", \"furniture/equipment\", \"car\", \"business\", \"furniture/equipment\", \"radio/TV\", \"education\", \"radio/TV\", \"domestic appliances\", \"radio/TV\", \"radio/TV\", \"radio/TV\", \"repairs\", \"car\", \"car\", \"car\", \"radio/TV\", \"car\", \"car\", \"radio/TV\", \"furniture/equipment\", \"car\", \"radio/TV\", \"car\", \"car\", \"car\", \"radio/TV\", \"radio/TV\", \"car\", \"furniture/equipment\", \"business\", \"radio/TV\", \"business\", \"business\", \"radio/TV\", \"repairs\", \"radio/TV\", \"car\", \"education\", \"radio/TV\", \"car\", \"radio/TV\", \"vacation/others\", \"business\", \"education\", \"car\", \"radio/TV\", \"radio/TV\", \"car\", \"furniture/equipment\", \"radio/TV\", \"radio/TV\", \"business\", \"vacation/others\", \"radio/TV\", \"business\", \"furniture/equipment\", \"education\", \"car\", \"repairs\", \"radio/TV\", \"car\", \"radio/TV\", \"furniture/equipment\", \"car\", \"business\", \"education\", \"business\", \"radio/TV\", \"car\", \"car\", \"radio/TV\", \"radio/TV\", \"furniture/equipment\", \"car\", \"vacation/others\", \"car\", \"car\", \"furniture/equipment\", \"business\", \"business\", \"education\", \"car\", \"car\", \"radio/TV\", \"radio/TV\", \"radio/TV\", \"furniture/equipment\", \"furniture/equipment\", \"car\", \"radio/TV\", \"car\", \"furniture/equipment\", \"car\", \"furniture/equipment\", \"car\", \"radio/TV\", \"repairs\", \"car\", \"car\", \"car\", \"education\", \"furniture/equipment\", \"furniture/equipment\", \"radio/TV\", \"radio/TV\", \"car\", \"radio/TV\", \"radio/TV\", \"radio/TV\", \"car\", \"radio/TV\", \"radio/TV\", \"furniture/equipment\", \"furniture/equipment\", \"business\", \"car\", \"car\", \"furniture/equipment\", \"radio/TV\", \"radio/TV\", \"radio/TV\", \"radio/TV\", \"car\", \"business\", \"furniture/equipment\", \"repairs\", \"education\", \"car\", \"radio/TV\", \"radio/TV\", \"car\", \"domestic appliances\", \"car\", \"car\", \"furniture/equipment\", \"furniture/equipment\", \"furniture/equipment\", \"furniture/equipment\", \"business\", \"car\", \"furniture/equipment\", \"furniture/equipment\", \"radio/TV\", \"education\", \"car\", \"furniture/equipment\", \"radio/TV\", \"radio/TV\", \"car\", \"business\", \"business\", \"car\", \"furniture/equipment\", \"car\", \"radio/TV\", \"car\", \"car\", \"radio/TV\", \"furniture/equipment\", \"business\", \"business\", \"business\", \"radio/TV\", \"radio/TV\", \"education\", \"radio/TV\", \"furniture/equipment\", \"car\", \"furniture/equipment\", \"education\", \"car\", \"business\", \"education\", \"car\", \"car\", \"furniture/equipment\", \"domestic appliances\", \"business\", \"car\", \"radio/TV\", \"radio/TV\", \"business\", \"business\", \"radio/TV\", \"education\", \"business\", \"radio/TV\", \"furniture/equipment\", \"car\", \"radio/TV\", \"education\", \"radio/TV\", \"business\", \"car\", \"repairs\", \"radio/TV\", \"furniture/equipment\", \"radio/TV\", \"furniture/equipment\", \"radio/TV\", \"car\", \"radio/TV\", \"radio/TV\", \"radio/TV\", \"radio/TV\", \"car\", \"business\", \"radio/TV\", \"radio/TV\", \"car\", \"radio/TV\", \"car\", \"business\", \"education\", \"business\", \"radio/TV\", \"car\", \"furniture/equipment\", \"radio/TV\", \"car\", \"furniture/equipment\", \"car\", \"furniture/equipment\", \"furniture/equipment\", \"radio/TV\", \"radio/TV\", \"radio/TV\", \"car\", \"radio/TV\", \"furniture/equipment\", \"radio/TV\", \"car\", \"education\", \"car\", \"radio/TV\", \"business\", \"radio/TV\", \"car\", \"radio/TV\", \"car\", \"furniture/equipment\", \"car\", \"radio/TV\", \"repairs\", \"radio/TV\", \"radio/TV\", \"furniture/equipment\", \"furniture/equipment\", \"radio/TV\", \"car\", \"furniture/equipment\", \"radio/TV\", \"furniture/equipment\", \"car\", \"car\", \"car\", \"vacation/others\", \"radio/TV\", \"radio/TV\", \"business\", \"car\", \"car\", \"car\", \"business\", \"furniture/equipment\", \"car\", \"car\", \"furniture/equipment\", \"furniture/equipment\", \"car\", \"radio/TV\", \"car\", \"car\", \"car\", \"furniture/equipment\", \"car\", \"radio/TV\", \"furniture/equipment\", \"car\", \"vacation/others\", \"furniture/equipment\", \"furniture/equipment\", \"car\", \"car\", \"furniture/equipment\", \"furniture/equipment\", \"furniture/equipment\", \"education\", \"furniture/equipment\", \"car\", \"radio/TV\", \"car\", \"furniture/equipment\", \"car\", \"car\", \"furniture/equipment\", \"car\", \"radio/TV\", \"radio/TV\", \"car\", \"education\", \"car\", \"car\", \"furniture/equipment\", \"furniture/equipment\", \"radio/TV\", \"domestic appliances\", \"furniture/equipment\", \"furniture/equipment\", \"education\", \"furniture/equipment\", \"radio/TV\", \"business\", \"car\", \"radio/TV\", \"radio/TV\", \"radio/TV\", \"business\", \"education\", \"domestic appliances\", \"furniture/equipment\", \"car\", \"radio/TV\", \"education\", \"car\", \"radio/TV\", \"radio/TV\", \"radio/TV\", \"furniture/equipment\", \"education\", \"radio/TV\", \"car\", \"furniture/equipment\", \"furniture/equipment\", \"business\", \"car\", \"furniture/equipment\", \"furniture/equipment\", \"furniture/equipment\", \"car\", \"radio/TV\", \"furniture/equipment\", \"car\", \"vacation/others\", \"business\", \"radio/TV\", \"radio/TV\", \"car\", \"car\", \"furniture/equipment\", \"car\", \"car\", \"car\", \"business\", \"radio/TV\", \"radio/TV\", \"furniture/equipment\", \"business\", \"business\", \"car\", \"furniture/equipment\", \"car\", \"radio/TV\", \"furniture/equipment\", \"education\", \"furniture/equipment\", \"furniture/equipment\", \"car\", \"radio/TV\", \"radio/TV\", \"business\", \"business\", \"car\", \"car\", \"radio/TV\", \"car\", \"radio/TV\", \"radio/TV\", \"car\", \"radio/TV\", \"car\", \"business\", \"car\", \"car\", \"car\", \"car\", \"education\", \"car\", \"car\", \"car\", \"car\", \"car\", \"furniture/equipment\", \"furniture/equipment\", \"car\", \"radio/TV\", \"radio/TV\", \"furniture/equipment\", \"repairs\", \"business\", \"vacation/others\", \"furniture/equipment\", \"repairs\", \"furniture/equipment\", \"radio/TV\", \"repairs\", \"car\", \"repairs\", \"business\", \"car\", \"furniture/equipment\", \"vacation/others\", \"education\", \"furniture/equipment\", \"education\", \"car\", \"radio/TV\", \"furniture/equipment\", \"repairs\", \"car\", \"radio/TV\", \"furniture/equipment\", \"car\", \"car\", \"car\", \"car\", \"car\", \"domestic appliances\", \"radio/TV\", \"furniture/equipment\", \"car\", \"furniture/equipment\", \"education\", \"business\", \"car\", \"radio/TV\", \"radio/TV\", \"business\", \"car\", \"radio/TV\", \"education\", \"car\", \"education\", \"radio/TV\", \"furniture/equipment\", \"car\", \"radio/TV\", \"business\", \"furniture/equipment\", \"radio/TV\", \"car\", \"furniture/equipment\", \"furniture/equipment\", \"car\", \"car\", \"radio/TV\", \"car\", \"car\", \"car\", \"radio/TV\", \"business\", \"radio/TV\", \"radio/TV\", \"car\", \"furniture/equipment\", \"furniture/equipment\", \"furniture/equipment\", \"radio/TV\", \"car\", \"car\", \"car\", \"radio/TV\", \"radio/TV\", \"car\", \"car\", \"car\", \"car\", \"radio/TV\", \"car\", \"car\", \"car\", \"business\", \"radio/TV\", \"car\", \"car\", \"car\", \"furniture/equipment\", \"car\", \"radio/TV\", \"repairs\", \"radio/TV\", \"furniture/equipment\", \"car\", \"radio/TV\", \"car\", \"education\", \"radio/TV\", \"radio/TV\", \"car\", \"education\", \"car\", \"car\", \"radio/TV\", \"radio/TV\", \"education\", \"car\", \"furniture/equipment\", \"car\", \"furniture/equipment\", \"radio/TV\", \"car\", \"furniture/equipment\", \"furniture/equipment\", \"car\", \"car\", \"car\", \"radio/TV\", \"radio/TV\", \"car\", \"repairs\", \"radio/TV\", \"radio/TV\", \"car\", \"education\", \"radio/TV\", \"car\", \"car\", \"furniture/equipment\", \"furniture/equipment\", \"car\", \"radio/TV\", \"radio/TV\", \"car\", \"business\", \"radio/TV\", \"car\", \"radio/TV\", \"radio/TV\", \"radio/TV\", \"furniture/equipment\", \"radio/TV\", \"car\", \"business\", \"radio/TV\", \"furniture/equipment\", \"radio/TV\", \"education\", \"car\", \"education\", \"car\", \"car\", \"furniture/equipment\", \"repairs\", \"car\", \"furniture/equipment\", \"car\", \"furniture/equipment\", \"domestic appliances\", \"furniture/equipment\", \"radio/TV\", \"car\", \"business\", \"car\", \"vacation/others\", \"car\", \"car\", \"business\", \"car\", \"business\", \"radio/TV\", \"furniture/equipment\", \"education\", \"furniture/equipment\", \"furniture/equipment\", \"furniture/equipment\", \"business\", \"radio/TV\", \"radio/TV\", \"car\", \"domestic appliances\", \"car\", \"radio/TV\", \"car\", \"furniture/equipment\", \"business\", \"radio/TV\", \"car\", \"furniture/equipment\", \"car\", \"business\", \"car\", \"business\", \"furniture/equipment\", \"radio/TV\", \"radio/TV\", \"furniture/equipment\", \"car\", \"furniture/equipment\", \"education\", \"radio/TV\", \"furniture/equipment\", \"radio/TV\", \"furniture/equipment\", \"car\", \"education\", \"radio/TV\", \"radio/TV\", \"radio/TV\", \"radio/TV\", \"education\", \"repairs\", \"education\", \"radio/TV\", \"radio/TV\", \"business\", \"furniture/equipment\", \"car\", \"car\", \"education\", \"education\", \"furniture/equipment\", \"car\", \"car\", \"car\", \"car\", \"car\", \"radio/TV\", \"business\", \"furniture/equipment\", \"radio/TV\", \"car\", \"furniture/equipment\", \"furniture/equipment\", \"education\", \"vacation/others\", \"furniture/equipment\", \"business\", \"car\", \"radio/TV\", \"business\", \"business\", \"car\", \"car\", \"business\", \"radio/TV\", \"furniture/equipment\", \"radio/TV\", \"radio/TV\", \"radio/TV\", \"education\", \"radio/TV\", \"radio/TV\", \"radio/TV\", \"business\", \"car\", \"radio/TV\", \"car\", \"radio/TV\", \"car\", \"furniture/equipment\", \"repairs\", \"radio/TV\", \"car\", \"radio/TV\", \"car\", \"radio/TV\", \"car\", \"radio/TV\", \"education\", \"furniture/equipment\", \"car\", \"radio/TV\", \"business\", \"business\", \"car\", \"car\", \"furniture/equipment\", \"radio/TV\", \"radio/TV\", \"radio/TV\", \"education\", \"car\", \"radio/TV\", \"car\", \"car\", \"radio/TV\", \"radio/TV\", \"radio/TV\", \"car\", \"radio/TV\", \"education\", \"car\", \"radio/TV\", \"car\", \"car\", \"radio/TV\", \"radio/TV\", \"business\", \"business\", \"radio/TV\", \"radio/TV\", \"radio/TV\", \"car\", \"car\", \"domestic appliances\", \"car\", \"car\", \"car\", \"business\", \"car\", \"radio/TV\", \"radio/TV\", \"furniture/equipment\", \"furniture/equipment\", \"business\", \"car\", \"car\", \"car\", \"car\", \"furniture/equipment\", \"car\", \"business\", \"radio/TV\", \"repairs\", \"car\", \"car\", \"radio/TV\", \"car\", \"car\", \"car\", \"furniture/equipment\", \"radio/TV\", \"car\", \"car\", \"radio/TV\", \"furniture/equipment\", \"car\", \"furniture/equipment\", \"radio/TV\", \"car\", \"education\", \"car\", \"radio/TV\", \"car\", \"car\", \"car\", \"radio/TV\", \"car\", \"repairs\", \"radio/TV\", \"car\", \"education\", \"car\", \"car\", \"business\", \"radio/TV\", \"car\", \"education\", \"education\", \"business\", \"car\", \"furniture/equipment\", \"furniture/equipment\", \"furniture/equipment\", \"furniture/equipment\", \"car\", \"furniture/equipment\", \"car\", \"car\", \"education\", \"radio/TV\", \"furniture/equipment\", \"radio/TV\", \"car\", \"car\", \"radio/TV\", \"radio/TV\", \"car\", \"car\", \"business\", \"radio/TV\", \"car\", \"domestic appliances\", \"car\", \"car\", \"domestic appliances\", \"radio/TV\", \"vacation/others\", \"radio/TV\", \"car\", \"radio/TV\", \"furniture/equipment\", \"car\", \"furniture/equipment\", \"car\", \"car\", \"business\", \"car\", \"business\", \"business\", \"car\", \"business\", \"radio/TV\", \"radio/TV\", \"car\", \"radio/TV\", \"furniture/equipment\", \"car\", \"radio/TV\", \"furniture/equipment\", \"car\", \"repairs\", \"business\", \"furniture/equipment\", \"furniture/equipment\", \"car\", \"car\", \"radio/TV\", \"radio/TV\", \"car\", \"car\", \"radio/TV\", \"car\", \"car\", \"car\", \"education\", \"furniture/equipment\", \"car\", \"car\", \"car\", \"business\", \"radio/TV\", \"furniture/equipment\", \"furniture/equipment\", \"furniture/equipment\", \"radio/TV\", \"furniture/equipment\", \"business\", \"furniture/equipment\", \"furniture/equipment\", \"car\", \"business\", \"domestic appliances\", \"furniture/equipment\", \"car\", \"radio/TV\", \"radio/TV\", \"car\", \"radio/TV\", \"car\", \"car\", \"car\", \"radio/TV\", \"furniture/equipment\", \"education\", \"business\", \"business\", \"car\", \"car\", \"business\", \"radio/TV\", \"car\", \"car\", \"radio/TV\", \"car\", \"radio/TV\", \"furniture/equipment\", \"furniture/equipment\", \"furniture/equipment\", \"car\", \"car\", \"car\", \"radio/TV\", \"radio/TV\", \"radio/TV\", \"car\", \"education\", \"car\", \"car\", \"radio/TV\", \"furniture/equipment\", \"radio/TV\", \"business\", \"business\", \"vacation/others\", \"car\", \"car\", \"furniture/equipment\", \"furniture/equipment\", \"furniture/equipment\", \"radio/TV\", \"radio/TV\", \"car\", \"furniture/equipment\", \"car\", \"furniture/equipment\", \"car\", \"radio/TV\", \"car\", \"furniture/equipment\", \"radio/TV\", \"car\", \"radio/TV\", \"radio/TV\", \"radio/TV\", \"radio/TV\", \"radio/TV\", \"education\", \"car\", \"car\", \"car\", \"furniture/equipment\", \"car\", \"furniture/equipment\", \"car\", \"furniture/equipment\", \"car\", \"furniture/equipment\", \"radio/TV\", \"business\", \"business\", \"car\", \"furniture/equipment\", \"car\", \"radio/TV\", \"radio/TV\", \"radio/TV\", \"car\", \"furniture/equipment\", \"radio/TV\", \"car\", \"car\", \"radio/TV\", \"repairs\", \"radio/TV\", \"radio/TV\", \"radio/TV\", \"radio/TV\", \"car\", \"repairs\", \"car\", \"car\", \"business\", \"radio/TV\", \"radio/TV\", \"radio/TV\", \"business\", \"car\", \"car\", \"furniture/equipment\", \"business\", \"car\", \"car\", \"furniture/equipment\", \"furniture/equipment\", \"business\", \"radio/TV\", \"car\", \"radio/TV\", \"education\", \"radio/TV\", \"radio/TV\", \"furniture/equipment\", \"car\", \"furniture/equipment\", \"car\", \"radio/TV\", \"radio/TV\", \"car\"]}, {\"label\": \"Risk\", \"values\": [\"good\", \"bad\", \"good\", \"good\", \"bad\", \"good\", \"good\", \"good\", \"good\", \"bad\", \"bad\", \"bad\", \"good\", \"bad\", \"good\", \"bad\", \"good\", \"good\", \"bad\", \"good\", \"good\", \"good\", \"good\", \"good\", \"good\", \"good\", \"good\", \"good\", \"good\", \"bad\", \"good\", \"good\", \"good\", \"good\", \"good\", \"bad\", \"good\", \"bad\", \"good\", \"good\", \"good\", \"good\", \"good\", \"good\", \"bad\", \"good\", \"good\", \"good\", \"good\", \"good\", \"good\", \"good\", \"good\", \"good\", \"bad\", \"good\", \"bad\", \"good\", \"good\", \"bad\", \"good\", \"good\", \"bad\", \"bad\", \"good\", \"good\", \"good\", \"good\", \"bad\", \"good\", \"good\", \"good\", \"good\", \"good\", \"bad\", \"good\", \"bad\", \"good\", \"good\", \"good\", \"bad\", \"good\", \"good\", \"good\", \"good\", \"good\", \"good\", \"bad\", \"good\", \"bad\", \"good\", \"good\", \"bad\", \"good\", \"good\", \"bad\", \"good\", \"good\", \"good\", \"good\", \"good\", \"good\", \"good\", \"good\", \"good\", \"bad\", \"bad\", \"good\", \"good\", \"good\", \"good\", \"good\", \"good\", \"bad\", \"good\", \"good\", \"bad\", \"good\", \"bad\", \"good\", \"bad\", \"good\", \"good\", \"good\", \"bad\", \"good\", \"good\", \"bad\", \"good\", \"bad\", \"good\", \"bad\", \"good\", \"good\", \"good\", \"good\", \"good\", \"bad\", \"good\", \"good\", \"good\", \"good\", \"good\", \"bad\", \"good\", \"good\", \"good\", \"good\", \"good\", \"good\", \"good\", \"good\", \"good\", \"good\", \"good\", \"bad\", \"good\", \"good\", \"good\", \"good\", \"good\", \"good\", \"good\", \"good\", \"good\", \"good\", \"bad\", \"good\", \"good\", \"bad\", \"bad\", \"good\", \"bad\", \"good\", \"bad\", \"bad\", \"good\", \"good\", \"good\", \"good\", \"bad\", \"bad\", \"bad\", \"good\", \"bad\", \"good\", \"bad\", \"good\", \"bad\", \"good\", \"bad\", \"bad\", \"bad\", \"good\", \"bad\", \"bad\", \"good\", \"bad\", \"good\", \"bad\", \"good\", \"good\", \"good\", \"bad\", \"good\", \"good\", \"good\", \"good\", \"good\", \"good\", \"good\", \"good\", \"bad\", \"bad\", \"good\", \"good\", \"good\", \"good\", \"good\", \"good\", \"good\", \"good\", \"good\", \"good\", \"good\", \"good\", \"bad\", \"bad\", \"bad\", \"good\", \"bad\", \"good\", \"good\", \"good\", \"good\", \"bad\", \"bad\", \"bad\", \"good\", \"good\", \"bad\", \"good\", \"bad\", \"good\", \"good\", \"good\", \"good\", \"good\", \"good\", \"bad\", \"good\", \"good\", \"bad\", \"good\", \"good\", \"good\", \"good\", \"bad\", \"good\", \"good\", \"good\", \"good\", \"good\", \"good\", \"good\", \"bad\", \"good\", \"good\", \"bad\", \"good\", \"good\", \"good\", \"good\", \"bad\", \"bad\", \"good\", \"good\", \"good\", \"bad\", \"good\", \"good\", \"good\", \"good\", \"good\", \"good\", \"good\", \"good\", \"good\", \"good\", \"bad\", \"good\", \"bad\", \"good\", \"good\", \"good\", \"bad\", \"good\", \"good\", \"good\", \"good\", \"good\", \"bad\", \"bad\", \"good\", \"bad\", \"good\", \"good\", \"bad\", \"bad\", \"good\", \"good\", \"good\", \"good\", \"bad\", \"good\", \"bad\", \"good\", \"good\", \"good\", \"good\", \"bad\", \"bad\", \"good\", \"good\", \"good\", \"good\", \"good\", \"good\", \"good\", \"good\", \"good\", \"bad\", \"bad\", \"bad\", \"bad\", \"bad\", \"good\", \"bad\", \"good\", \"good\", \"good\", \"good\", \"good\", \"good\", \"good\", \"good\", \"good\", \"good\", \"good\", \"bad\", \"good\", \"bad\", \"good\", \"bad\", \"good\", \"bad\", \"good\", \"bad\", \"good\", \"bad\", \"good\", \"good\", \"good\", \"good\", \"bad\", \"good\", \"good\", \"good\", \"bad\", \"good\", \"good\", \"good\", \"good\", \"good\", \"bad\", \"bad\", \"good\", \"good\", \"bad\", \"good\", \"good\", \"bad\", \"good\", \"good\", \"good\", \"good\", \"good\", \"good\", \"good\", \"good\", \"good\", \"good\", \"good\", \"good\", \"good\", \"good\", \"good\", \"good\", \"bad\", \"good\", \"good\", \"good\", \"bad\", \"good\", \"good\", \"bad\", \"good\", \"good\", \"good\", \"bad\", \"good\", \"good\", \"bad\", \"good\", \"bad\", \"good\", \"bad\", \"good\", \"good\", \"bad\", \"good\", \"good\", \"good\", \"good\", \"bad\", \"good\", \"good\", \"good\", \"good\", \"bad\", \"good\", \"bad\", \"good\", \"good\", \"good\", \"bad\", \"good\", \"good\", \"good\", \"bad\", \"good\", \"good\", \"good\", \"bad\", \"bad\", \"good\", \"bad\", \"good\", \"good\", \"bad\", \"good\", \"good\", \"good\", \"good\", \"bad\", \"good\", \"good\", \"bad\", \"good\", \"good\", \"good\", \"good\", \"good\", \"good\", \"good\", \"good\", \"bad\", \"good\", \"good\", \"good\", \"bad\", \"bad\", \"bad\", \"good\", \"bad\", \"bad\", \"good\", \"good\", \"good\", \"good\", \"good\", \"good\", \"good\", \"good\", \"good\", \"bad\", \"good\", \"good\", \"good\", \"good\", \"good\", \"bad\", \"good\", \"good\", \"good\", \"bad\", \"bad\", \"good\", \"good\", \"good\", \"bad\", \"good\", \"good\", \"bad\", \"bad\", \"bad\", \"good\", \"bad\", \"good\", \"good\", \"bad\", \"good\", \"good\", \"good\", \"good\", \"good\", \"good\", \"bad\", \"good\", \"good\", \"good\", \"bad\", \"bad\", \"good\", \"good\", \"good\", \"good\", \"good\", \"bad\", \"good\", \"good\", \"bad\", \"good\", \"good\", \"good\", \"bad\", \"good\", \"good\", \"bad\", \"good\", \"bad\", \"good\", \"bad\", \"bad\", \"good\", \"bad\", \"good\", \"good\", \"bad\", \"good\", \"good\", \"good\", \"bad\", \"good\", \"good\", \"bad\", \"bad\", \"bad\", \"bad\", \"bad\", \"good\", \"bad\", \"good\", \"bad\", \"good\", \"good\", \"bad\", \"good\", \"good\", \"bad\", \"bad\", \"good\", \"good\", \"good\", \"good\", \"good\", \"good\", \"good\", \"bad\", \"good\", \"bad\", \"good\", \"good\", \"bad\", \"good\", \"bad\", \"good\", \"good\", \"bad\", \"bad\", \"good\", \"good\", \"good\", \"bad\", \"bad\", \"bad\", \"bad\", \"bad\", \"bad\", \"good\", \"good\", \"bad\", \"bad\", \"bad\", \"good\", \"good\", \"good\", \"bad\", \"good\", \"good\", \"bad\", \"bad\", \"good\", \"good\", \"bad\", \"good\", \"good\", \"good\", \"bad\", \"good\", \"good\", \"bad\", \"bad\", \"good\", \"bad\", \"good\", \"good\", \"bad\", \"good\", \"good\", \"good\", \"bad\", \"good\", \"bad\", \"bad\", \"good\", \"good\", \"good\", \"good\", \"bad\", \"bad\", \"good\", \"bad\", \"good\", \"good\", \"bad\", \"good\", \"bad\", \"bad\", \"bad\", \"good\", \"bad\", \"bad\", \"bad\", \"good\", \"good\", \"bad\", \"good\", \"good\", \"good\", \"good\", \"bad\", \"good\", \"good\", \"good\", \"good\", \"good\", \"good\", \"bad\", \"good\", \"good\", \"good\", \"good\", \"good\", \"bad\", \"good\", \"good\", \"bad\", \"good\", \"good\", \"good\", \"good\", \"good\", \"good\", \"good\", \"good\", \"good\", \"good\", \"good\", \"good\", \"good\", \"good\", \"good\", \"good\", \"good\", \"good\", \"good\", \"good\", \"good\", \"good\", \"bad\", \"bad\", \"good\", \"good\", \"good\", \"good\", \"bad\", \"bad\", \"good\", \"good\", \"good\", \"bad\", \"good\", \"good\", \"bad\", \"good\", \"good\", \"good\", \"good\", \"good\", \"bad\", \"bad\", \"bad\", \"good\", \"bad\", \"good\", \"good\", \"bad\", \"bad\", \"good\", \"good\", \"bad\", \"good\", \"good\", \"good\", \"good\", \"bad\", \"good\", \"good\", \"bad\", \"good\", \"good\", \"good\", \"good\", \"good\", \"good\", \"good\", \"bad\", \"good\", \"good\", \"good\", \"bad\", \"good\", \"good\", \"bad\", \"bad\", \"good\", \"bad\", \"good\", \"bad\", \"good\", \"bad\", \"good\", \"bad\", \"good\", \"good\", \"bad\", \"good\", \"good\", \"good\", \"good\", \"bad\", \"good\", \"good\", \"good\", \"bad\", \"good\", \"good\", \"good\", \"good\", \"bad\", \"good\", \"good\", \"bad\", \"good\", \"good\", \"good\", \"good\", \"bad\", \"bad\", \"bad\", \"good\", \"good\", \"good\", \"good\", \"good\", \"bad\", \"good\", \"good\", \"good\", \"good\", \"good\", \"good\", \"good\", \"good\", \"bad\", \"good\", \"good\", \"good\", \"bad\", \"good\", \"good\", \"bad\", \"bad\", \"bad\", \"good\", \"good\", \"good\", \"good\", \"bad\", \"good\", \"good\", \"bad\", \"good\", \"good\", \"good\", \"bad\", \"bad\", \"bad\", \"good\", \"good\", \"bad\", \"bad\", \"good\", \"bad\", \"bad\", \"good\", \"good\", \"good\", \"good\", \"bad\", \"good\", \"bad\", \"good\", \"good\", \"good\", \"bad\", \"good\", \"good\", \"bad\", \"bad\", \"good\", \"good\", \"bad\", \"good\", \"good\", \"good\", \"good\", \"bad\", \"good\", \"good\", \"bad\", \"bad\", \"good\", \"bad\", \"good\", \"good\", \"good\", \"good\", \"good\", \"good\", \"good\", \"good\", \"good\", \"good\", \"good\", \"good\", \"good\", \"bad\", \"good\", \"good\", \"good\", \"good\", \"good\", \"bad\", \"bad\", \"good\", \"bad\", \"good\", \"good\", \"good\", \"good\", \"good\", \"good\", \"good\", \"good\", \"good\", \"good\", \"good\", \"bad\", \"bad\", \"good\", \"good\", \"good\", \"good\", \"good\", \"good\", \"good\", \"good\", \"good\", \"good\", \"bad\", \"good\", \"good\", \"bad\", \"bad\", \"good\", \"bad\", \"bad\", \"bad\", \"good\", \"good\", \"bad\", \"good\", \"bad\", \"bad\", \"good\", \"bad\", \"good\", \"good\", \"good\", \"bad\", \"good\", \"good\", \"good\", \"bad\", \"bad\", \"good\", \"bad\", \"good\", \"good\", \"good\", \"good\", \"good\", \"good\", \"good\", \"bad\", \"good\", \"bad\", \"bad\", \"good\", \"bad\", \"bad\", \"bad\", \"good\", \"good\", \"good\", \"good\", \"bad\", \"good\", \"good\", \"good\", \"good\", \"bad\", \"good\", \"good\", \"bad\", \"good\", \"good\", \"good\", \"good\", \"good\", \"bad\", \"bad\", \"good\", \"good\", \"good\", \"good\", \"bad\", \"bad\", \"bad\", \"bad\", \"good\", \"bad\", \"good\", \"good\", \"good\", \"good\", \"good\", \"good\", \"good\", \"good\", \"good\", \"good\", \"good\", \"good\", \"good\", \"good\", \"bad\", \"good\"]}], \"domain\": {\"x\": [0.0, 1.0], \"y\": [0.0, 1.0]}, \"line\": {\"color\": [2, 2, 1, 2, 2, 1, 2, 3, 1, 3, 2, 2, 2, 1, 2, 1, 2, 2, 3, 2, 2, 2, 1, 2, 2, 1, 1, 2, 2, 2, 2, 2, 2, 1, 3, 1, 2, 2, 2, 2, 3, 2, 1, 2, 1, 3, 2, 0, 1, 2, 1, 3, 2, 2, 2, 1, 3, 2, 3, 1, 2, 2, 3, 2, 2, 2, 2, 2, 2, 2, 2, 1, 3, 1, 3, 3, 2, 2, 1, 2, 2, 2, 1, 1, 1, 3, 2, 2, 3, 2, 2, 2, 1, 2, 2, 2, 2, 2, 2, 3, 1, 2, 2, 2, 2, 3, 3, 2, 2, 2, 2, 2, 1, 2, 2, 2, 3, 2, 2, 3, 2, 3, 1, 2, 2, 2, 1, 2, 3, 2, 2, 2, 1, 2, 2, 2, 2, 1, 2, 1, 0, 3, 3, 2, 2, 2, 2, 2, 2, 2, 2, 2, 2, 2, 3, 2, 2, 1, 2, 1, 2, 2, 2, 3, 2, 2, 2, 2, 2, 2, 2, 2, 3, 2, 2, 3, 2, 2, 3, 2, 2, 3, 1, 2, 2, 2, 3, 0, 2, 2, 3, 1, 2, 2, 2, 3, 2, 2, 2, 3, 2, 1, 2, 2, 1, 3, 2, 2, 1, 2, 2, 1, 2, 3, 2, 1, 2, 2, 1, 2, 1, 2, 2, 2, 2, 2, 2, 3, 2, 2, 2, 1, 2, 1, 1, 3, 0, 1, 2, 2, 2, 2, 2, 2, 1, 2, 2, 2, 2, 2, 1, 1, 2, 2, 2, 1, 1, 2, 2, 1, 2, 2, 3, 1, 1, 2, 2, 2, 3, 2, 2, 2, 3, 2, 1, 2, 2, 1, 2, 3, 2, 2, 1, 2, 2, 1, 2, 3, 2, 2, 2, 3, 3, 2, 3, 2, 2, 1, 2, 2, 0, 2, 1, 2, 2, 2, 1, 1, 2, 1, 0, 2, 2, 1, 1, 2, 1, 1, 2, 1, 3, 2, 3, 2, 2, 1, 2, 2, 2, 2, 3, 2, 3, 1, 2, 3, 1, 2, 2, 1, 2, 1, 2, 3, 1, 1, 2, 0, 1, 2, 2, 2, 3, 2, 2, 1, 2, 3, 2, 2, 2, 3, 2, 2, 0, 2, 2, 2, 2, 2, 2, 2, 2, 3, 3, 2, 2, 2, 3, 1, 2, 3, 2, 2, 1, 2, 2, 3, 2, 2, 3, 1, 3, 2, 3, 2, 3, 2, 2, 1, 2, 2, 2, 1, 2, 2, 2, 2, 3, 2, 2, 3, 3, 1, 2, 2, 1, 2, 3, 2, 2, 2, 1, 3, 2, 2, 2, 2, 2, 0, 1, 3, 3, 2, 2, 2, 1, 2, 0, 0, 3, 2, 2, 1, 3, 1, 2, 2, 3, 2, 3, 2, 2, 3, 2, 3, 2, 2, 2, 2, 2, 2, 3, 2, 2, 2, 1, 2, 2, 1, 2, 2, 1, 3, 2, 2, 2, 2, 1, 2, 1, 2, 2, 2, 2, 3, 2, 2, 1, 2, 2, 3, 2, 2, 1, 2, 3, 2, 1, 2, 2, 2, 2, 2, 2, 1, 2, 3, 2, 3, 2, 3, 2, 2, 2, 2, 1, 2, 2, 2, 2, 2, 2, 2, 1, 2, 2, 1, 2, 1, 2, 2, 2, 2, 2, 2, 3, 2, 3, 1, 2, 2, 2, 1, 1, 2, 2, 2, 1, 2, 2, 1, 2, 2, 3, 2, 2, 2, 2, 1, 2, 1, 2, 2, 3, 2, 2, 2, 2, 2, 1, 2, 3, 1, 1, 2, 2, 2, 2, 1, 2, 1, 2, 1, 3, 2, 2, 1, 1, 2, 1, 2, 1, 1, 3, 1, 2, 1, 2, 2, 2, 2, 1, 3, 2, 2, 3, 2, 2, 2, 2, 1, 2, 2, 2, 3, 3, 2, 2, 1, 2, 2, 2, 2, 2, 2, 2, 2, 2, 1, 2, 2, 2, 2, 1, 2, 2, 2, 2, 2, 0, 1, 3, 2, 3, 2, 2, 2, 2, 1, 3, 1, 2, 3, 2, 2, 1, 2, 2, 2, 2, 2, 2, 3, 1, 3, 2, 2, 2, 2, 1, 2, 3, 2, 1, 3, 2, 2, 1, 2, 2, 2, 2, 2, 1, 2, 2, 2, 2, 2, 2, 1, 2, 1, 2, 2, 2, 0, 2, 3, 1, 2, 2, 2, 2, 2, 2, 2, 2, 1, 3, 2, 3, 1, 3, 2, 2, 3, 2, 2, 3, 2, 1, 1, 2, 1, 1, 2, 2, 2, 2, 1, 1, 2, 2, 0, 3, 1, 3, 1, 2, 1, 2, 2, 3, 1, 2, 1, 2, 2, 2, 1, 1, 2, 2, 2, 0, 2, 2, 2, 2, 2, 1, 3, 2, 1, 1, 2, 2, 1, 2, 3, 3, 2, 0, 2, 2, 2, 3, 2, 2, 2, 1, 1, 3, 1, 2, 2, 2, 2, 2, 3, 2, 2, 2, 2, 2, 1, 2, 0, 2, 1, 2, 2, 0, 2, 1, 2, 3, 0, 2, 1, 2, 2, 2, 2, 2, 2, 3, 2, 2, 2, 2, 1, 3, 2, 2, 2, 2, 2, 2, 2, 2, 2, 1, 2, 2, 1, 2, 2, 2, 1, 2, 2, 2, 2, 2, 2, 2, 1, 2, 2, 2, 1, 2, 2, 2, 2, 2, 2, 2, 2, 2, 1, 1, 2, 2, 2, 2, 2, 2, 2, 2, 2, 1, 2, 3, 2, 3, 2, 3, 2, 2, 0, 2, 2, 2, 2, 3, 2, 3, 2, 1, 2, 2, 3, 3, 2, 1, 2, 2, 2, 2, 2, 3, 3, 1, 2, 1, 1, 2, 1, 2, 2, 2, 3, 2, 3, 2, 3, 2, 3, 2, 2, 2, 2, 2, 2, 2, 1, 1, 2, 2, 2, 2, 3, 1, 3, 2, 3, 3, 1, 2, 1, 2, 2, 2, 3, 1, 2, 0, 2, 2, 3, 2, 3, 1, 1, 1, 2, 2, 2, 2, 2, 1, 2, 1, 3, 2, 1, 2, 1, 0, 2, 2, 1, 2, 2, 1, 2, 2, 3, 3, 2, 1, 2, 2, 2, 3, 1, 1, 1, 1, 3, 2, 1, 3, 2, 2, 2], \"coloraxis\": \"coloraxis\"}, \"name\": \"\", \"type\": \"parcats\"}],\n",
              "                        {\"coloraxis\": {\"colorbar\": {\"title\": {\"text\": \"Job\"}}, \"colorscale\": [[0.0, \"#000004\"], [0.1111111111111111, \"#1b0c41\"], [0.2222222222222222, \"#4a0c6b\"], [0.3333333333333333, \"#781c6d\"], [0.4444444444444444, \"#a52c60\"], [0.5555555555555556, \"#cf4446\"], [0.6666666666666666, \"#ed6925\"], [0.7777777777777778, \"#fb9b06\"], [0.8888888888888888, \"#f7d13d\"], [1.0, \"#fcffa4\"]]}, \"legend\": {\"tracegroupgap\": 0}, \"margin\": {\"t\": 60}, \"template\": {\"data\": {\"bar\": [{\"error_x\": {\"color\": \"#2a3f5f\"}, \"error_y\": {\"color\": \"#2a3f5f\"}, \"marker\": {\"line\": {\"color\": \"#E5ECF6\", \"width\": 0.5}}, \"type\": \"bar\"}], \"barpolar\": [{\"marker\": {\"line\": {\"color\": \"#E5ECF6\", \"width\": 0.5}}, \"type\": \"barpolar\"}], \"carpet\": [{\"aaxis\": {\"endlinecolor\": \"#2a3f5f\", \"gridcolor\": \"white\", \"linecolor\": \"white\", \"minorgridcolor\": \"white\", \"startlinecolor\": \"#2a3f5f\"}, \"baxis\": {\"endlinecolor\": \"#2a3f5f\", \"gridcolor\": \"white\", \"linecolor\": \"white\", \"minorgridcolor\": \"white\", \"startlinecolor\": \"#2a3f5f\"}, \"type\": \"carpet\"}], \"choropleth\": [{\"colorbar\": {\"outlinewidth\": 0, \"ticks\": \"\"}, \"type\": \"choropleth\"}], \"contour\": [{\"colorbar\": {\"outlinewidth\": 0, \"ticks\": \"\"}, \"colorscale\": [[0.0, \"#0d0887\"], [0.1111111111111111, \"#46039f\"], [0.2222222222222222, \"#7201a8\"], [0.3333333333333333, \"#9c179e\"], [0.4444444444444444, \"#bd3786\"], [0.5555555555555556, \"#d8576b\"], [0.6666666666666666, \"#ed7953\"], [0.7777777777777778, \"#fb9f3a\"], [0.8888888888888888, \"#fdca26\"], [1.0, \"#f0f921\"]], \"type\": \"contour\"}], \"contourcarpet\": [{\"colorbar\": {\"outlinewidth\": 0, \"ticks\": \"\"}, \"type\": \"contourcarpet\"}], \"heatmap\": [{\"colorbar\": {\"outlinewidth\": 0, \"ticks\": \"\"}, \"colorscale\": [[0.0, \"#0d0887\"], [0.1111111111111111, \"#46039f\"], [0.2222222222222222, \"#7201a8\"], [0.3333333333333333, \"#9c179e\"], [0.4444444444444444, \"#bd3786\"], [0.5555555555555556, \"#d8576b\"], [0.6666666666666666, \"#ed7953\"], [0.7777777777777778, \"#fb9f3a\"], [0.8888888888888888, \"#fdca26\"], [1.0, \"#f0f921\"]], \"type\": \"heatmap\"}], \"heatmapgl\": [{\"colorbar\": {\"outlinewidth\": 0, \"ticks\": \"\"}, \"colorscale\": [[0.0, \"#0d0887\"], [0.1111111111111111, \"#46039f\"], [0.2222222222222222, \"#7201a8\"], [0.3333333333333333, \"#9c179e\"], [0.4444444444444444, \"#bd3786\"], [0.5555555555555556, \"#d8576b\"], [0.6666666666666666, \"#ed7953\"], [0.7777777777777778, \"#fb9f3a\"], [0.8888888888888888, \"#fdca26\"], [1.0, \"#f0f921\"]], \"type\": \"heatmapgl\"}], \"histogram\": [{\"marker\": {\"colorbar\": {\"outlinewidth\": 0, \"ticks\": \"\"}}, \"type\": \"histogram\"}], \"histogram2d\": [{\"colorbar\": {\"outlinewidth\": 0, \"ticks\": \"\"}, \"colorscale\": [[0.0, \"#0d0887\"], [0.1111111111111111, \"#46039f\"], [0.2222222222222222, \"#7201a8\"], [0.3333333333333333, \"#9c179e\"], [0.4444444444444444, \"#bd3786\"], [0.5555555555555556, \"#d8576b\"], [0.6666666666666666, \"#ed7953\"], [0.7777777777777778, \"#fb9f3a\"], [0.8888888888888888, \"#fdca26\"], [1.0, \"#f0f921\"]], \"type\": \"histogram2d\"}], \"histogram2dcontour\": [{\"colorbar\": {\"outlinewidth\": 0, \"ticks\": \"\"}, \"colorscale\": [[0.0, \"#0d0887\"], [0.1111111111111111, \"#46039f\"], [0.2222222222222222, \"#7201a8\"], [0.3333333333333333, \"#9c179e\"], [0.4444444444444444, \"#bd3786\"], [0.5555555555555556, \"#d8576b\"], [0.6666666666666666, \"#ed7953\"], [0.7777777777777778, \"#fb9f3a\"], [0.8888888888888888, \"#fdca26\"], [1.0, \"#f0f921\"]], \"type\": \"histogram2dcontour\"}], \"mesh3d\": [{\"colorbar\": {\"outlinewidth\": 0, \"ticks\": \"\"}, \"type\": \"mesh3d\"}], \"parcoords\": [{\"line\": {\"colorbar\": {\"outlinewidth\": 0, \"ticks\": \"\"}}, \"type\": \"parcoords\"}], \"pie\": [{\"automargin\": true, \"type\": \"pie\"}], \"scatter\": [{\"marker\": {\"colorbar\": {\"outlinewidth\": 0, \"ticks\": \"\"}}, \"type\": \"scatter\"}], \"scatter3d\": [{\"line\": {\"colorbar\": {\"outlinewidth\": 0, \"ticks\": \"\"}}, \"marker\": {\"colorbar\": {\"outlinewidth\": 0, \"ticks\": \"\"}}, \"type\": \"scatter3d\"}], \"scattercarpet\": [{\"marker\": {\"colorbar\": {\"outlinewidth\": 0, \"ticks\": \"\"}}, \"type\": \"scattercarpet\"}], \"scattergeo\": [{\"marker\": {\"colorbar\": {\"outlinewidth\": 0, \"ticks\": \"\"}}, \"type\": \"scattergeo\"}], \"scattergl\": [{\"marker\": {\"colorbar\": {\"outlinewidth\": 0, \"ticks\": \"\"}}, \"type\": \"scattergl\"}], \"scattermapbox\": [{\"marker\": {\"colorbar\": {\"outlinewidth\": 0, \"ticks\": \"\"}}, \"type\": \"scattermapbox\"}], \"scatterpolar\": [{\"marker\": {\"colorbar\": {\"outlinewidth\": 0, \"ticks\": \"\"}}, \"type\": \"scatterpolar\"}], \"scatterpolargl\": [{\"marker\": {\"colorbar\": {\"outlinewidth\": 0, \"ticks\": \"\"}}, \"type\": \"scatterpolargl\"}], \"scatterternary\": [{\"marker\": {\"colorbar\": {\"outlinewidth\": 0, \"ticks\": \"\"}}, \"type\": \"scatterternary\"}], \"surface\": [{\"colorbar\": {\"outlinewidth\": 0, \"ticks\": \"\"}, \"colorscale\": [[0.0, \"#0d0887\"], [0.1111111111111111, \"#46039f\"], [0.2222222222222222, \"#7201a8\"], [0.3333333333333333, \"#9c179e\"], [0.4444444444444444, \"#bd3786\"], [0.5555555555555556, \"#d8576b\"], [0.6666666666666666, \"#ed7953\"], [0.7777777777777778, \"#fb9f3a\"], [0.8888888888888888, \"#fdca26\"], [1.0, \"#f0f921\"]], \"type\": \"surface\"}], \"table\": [{\"cells\": {\"fill\": {\"color\": \"#EBF0F8\"}, \"line\": {\"color\": \"white\"}}, \"header\": {\"fill\": {\"color\": \"#C8D4E3\"}, \"line\": {\"color\": \"white\"}}, \"type\": \"table\"}]}, \"layout\": {\"annotationdefaults\": {\"arrowcolor\": \"#2a3f5f\", \"arrowhead\": 0, \"arrowwidth\": 1}, \"coloraxis\": {\"colorbar\": {\"outlinewidth\": 0, \"ticks\": \"\"}}, \"colorscale\": {\"diverging\": [[0, \"#8e0152\"], [0.1, \"#c51b7d\"], [0.2, \"#de77ae\"], [0.3, \"#f1b6da\"], [0.4, \"#fde0ef\"], [0.5, \"#f7f7f7\"], [0.6, \"#e6f5d0\"], [0.7, \"#b8e186\"], [0.8, \"#7fbc41\"], [0.9, \"#4d9221\"], [1, \"#276419\"]], \"sequential\": [[0.0, \"#0d0887\"], [0.1111111111111111, \"#46039f\"], [0.2222222222222222, \"#7201a8\"], [0.3333333333333333, \"#9c179e\"], [0.4444444444444444, \"#bd3786\"], [0.5555555555555556, \"#d8576b\"], [0.6666666666666666, \"#ed7953\"], [0.7777777777777778, \"#fb9f3a\"], [0.8888888888888888, \"#fdca26\"], [1.0, \"#f0f921\"]], \"sequentialminus\": [[0.0, \"#0d0887\"], [0.1111111111111111, \"#46039f\"], [0.2222222222222222, \"#7201a8\"], [0.3333333333333333, \"#9c179e\"], [0.4444444444444444, \"#bd3786\"], [0.5555555555555556, \"#d8576b\"], [0.6666666666666666, \"#ed7953\"], [0.7777777777777778, \"#fb9f3a\"], [0.8888888888888888, \"#fdca26\"], [1.0, \"#f0f921\"]]}, \"colorway\": [\"#636efa\", \"#EF553B\", \"#00cc96\", \"#ab63fa\", \"#FFA15A\", \"#19d3f3\", \"#FF6692\", \"#B6E880\", \"#FF97FF\", \"#FECB52\"], \"font\": {\"color\": \"#2a3f5f\"}, \"geo\": {\"bgcolor\": \"white\", \"lakecolor\": \"white\", \"landcolor\": \"#E5ECF6\", \"showlakes\": true, \"showland\": true, \"subunitcolor\": \"white\"}, \"hoverlabel\": {\"align\": \"left\"}, \"hovermode\": \"closest\", \"mapbox\": {\"style\": \"light\"}, \"paper_bgcolor\": \"white\", \"plot_bgcolor\": \"#E5ECF6\", \"polar\": {\"angularaxis\": {\"gridcolor\": \"white\", \"linecolor\": \"white\", \"ticks\": \"\"}, \"bgcolor\": \"#E5ECF6\", \"radialaxis\": {\"gridcolor\": \"white\", \"linecolor\": \"white\", \"ticks\": \"\"}}, \"scene\": {\"xaxis\": {\"backgroundcolor\": \"#E5ECF6\", \"gridcolor\": \"white\", \"gridwidth\": 2, \"linecolor\": \"white\", \"showbackground\": true, \"ticks\": \"\", \"zerolinecolor\": \"white\"}, \"yaxis\": {\"backgroundcolor\": \"#E5ECF6\", \"gridcolor\": \"white\", \"gridwidth\": 2, \"linecolor\": \"white\", \"showbackground\": true, \"ticks\": \"\", \"zerolinecolor\": \"white\"}, \"zaxis\": {\"backgroundcolor\": \"#E5ECF6\", \"gridcolor\": \"white\", \"gridwidth\": 2, \"linecolor\": \"white\", \"showbackground\": true, \"ticks\": \"\", \"zerolinecolor\": \"white\"}}, \"shapedefaults\": {\"line\": {\"color\": \"#2a3f5f\"}}, \"ternary\": {\"aaxis\": {\"gridcolor\": \"white\", \"linecolor\": \"white\", \"ticks\": \"\"}, \"baxis\": {\"gridcolor\": \"white\", \"linecolor\": \"white\", \"ticks\": \"\"}, \"bgcolor\": \"#E5ECF6\", \"caxis\": {\"gridcolor\": \"white\", \"linecolor\": \"white\", \"ticks\": \"\"}}, \"title\": {\"x\": 0.05}, \"xaxis\": {\"automargin\": true, \"gridcolor\": \"white\", \"linecolor\": \"white\", \"ticks\": \"\", \"title\": {\"standoff\": 15}, \"zerolinecolor\": \"white\", \"zerolinewidth\": 2}, \"yaxis\": {\"automargin\": true, \"gridcolor\": \"white\", \"linecolor\": \"white\", \"ticks\": \"\", \"title\": {\"standoff\": 15}, \"zerolinecolor\": \"white\", \"zerolinewidth\": 2}}}},\n",
              "                        {\"responsive\": true}\n",
              "                    ).then(function(){\n",
              "                            \n",
              "var gd = document.getElementById('66498e9f-2a0d-450f-b630-4223eedfc808');\n",
              "var x = new MutationObserver(function (mutations, observer) {{\n",
              "        var display = window.getComputedStyle(gd).display;\n",
              "        if (!display || display === 'none') {{\n",
              "            console.log([gd, 'removed!']);\n",
              "            Plotly.purge(gd);\n",
              "            observer.disconnect();\n",
              "        }}\n",
              "}});\n",
              "\n",
              "// Listen for the removal of the full notebook cells\n",
              "var notebookContainer = gd.closest('#notebook-container');\n",
              "if (notebookContainer) {{\n",
              "    x.observe(notebookContainer, {childList: true});\n",
              "}}\n",
              "\n",
              "// Listen for the clearing of the current output cell\n",
              "var outputEl = gd.closest('.output');\n",
              "if (outputEl) {{\n",
              "    x.observe(outputEl, {childList: true});\n",
              "}}\n",
              "\n",
              "                        })\n",
              "                };\n",
              "                \n",
              "            </script>\n",
              "        </div>\n",
              "</body>\n",
              "</html>"
            ]
          },
          "metadata": {}
        }
      ]
    },
    {
      "cell_type": "code",
      "metadata": {
        "id": "Ujq7V8OVRpbN"
      },
      "source": [
        "X2['Saving accounts'] = X2['Saving accounts'].fillna('little')"
      ],
      "execution_count": null,
      "outputs": []
    },
    {
      "cell_type": "code",
      "metadata": {
        "id": "TRtMuuR4RpYB"
      },
      "source": [
        "X2['Checking account'] = X2['Checking account'].fillna('moderate')"
      ],
      "execution_count": null,
      "outputs": []
    },
    {
      "cell_type": "code",
      "metadata": {
        "colab": {
          "base_uri": "https://localhost:8080/"
        },
        "id": "FrnL47PJRpUQ",
        "outputId": "5f34edb8-504d-40e2-bd1f-f31a912acde1"
      },
      "source": [
        "X2.columns[X2.isnull().any()]"
      ],
      "execution_count": null,
      "outputs": [
        {
          "output_type": "execute_result",
          "data": {
            "text/plain": [
              "Index([], dtype='object')"
            ]
          },
          "metadata": {},
          "execution_count": 83
        }
      ]
    },
    {
      "cell_type": "code",
      "metadata": {
        "id": "CmIVgmYSSMha"
      },
      "source": [
        "y2=pd.get_dummies(y2,columns=['Risk'])\n",
        "y2.drop('bad',axis=1,inplace=True)"
      ],
      "execution_count": null,
      "outputs": []
    },
    {
      "cell_type": "code",
      "metadata": {
        "id": "GrvhzM_iSMcw"
      },
      "source": [
        "X2=pd.get_dummies(X2, columns=[\"Sex\",\"Job\",\"Housing\",\"Saving accounts\", \"Checking account\", \"Purpose\"])"
      ],
      "execution_count": null,
      "outputs": []
    },
    {
      "cell_type": "code",
      "metadata": {
        "colab": {
          "base_uri": "https://localhost:8080/",
          "height": 478
        },
        "id": "Yyo_NcC0whHp",
        "outputId": "07fbe623-cd8c-4bf8-9451-ceff3476389f"
      },
      "source": [
        "X2"
      ],
      "execution_count": null,
      "outputs": [
        {
          "output_type": "execute_result",
          "data": {
            "text/html": [
              "<div>\n",
              "<style scoped>\n",
              "    .dataframe tbody tr th:only-of-type {\n",
              "        vertical-align: middle;\n",
              "    }\n",
              "\n",
              "    .dataframe tbody tr th {\n",
              "        vertical-align: top;\n",
              "    }\n",
              "\n",
              "    .dataframe thead th {\n",
              "        text-align: right;\n",
              "    }\n",
              "</style>\n",
              "<table border=\"1\" class=\"dataframe\">\n",
              "  <thead>\n",
              "    <tr style=\"text-align: right;\">\n",
              "      <th></th>\n",
              "      <th>Age</th>\n",
              "      <th>Credit amount</th>\n",
              "      <th>Duration</th>\n",
              "      <th>Sex_female</th>\n",
              "      <th>Sex_male</th>\n",
              "      <th>Job_0</th>\n",
              "      <th>Job_1</th>\n",
              "      <th>Job_2</th>\n",
              "      <th>Job_3</th>\n",
              "      <th>Housing_free</th>\n",
              "      <th>Housing_own</th>\n",
              "      <th>Housing_rent</th>\n",
              "      <th>Saving accounts_little</th>\n",
              "      <th>Saving accounts_moderate</th>\n",
              "      <th>Saving accounts_quite rich</th>\n",
              "      <th>Saving accounts_rich</th>\n",
              "      <th>Checking account_little</th>\n",
              "      <th>Checking account_moderate</th>\n",
              "      <th>Checking account_rich</th>\n",
              "      <th>Purpose_business</th>\n",
              "      <th>Purpose_car</th>\n",
              "      <th>Purpose_domestic appliances</th>\n",
              "      <th>Purpose_education</th>\n",
              "      <th>Purpose_furniture/equipment</th>\n",
              "      <th>Purpose_radio/TV</th>\n",
              "      <th>Purpose_repairs</th>\n",
              "      <th>Purpose_vacation/others</th>\n",
              "    </tr>\n",
              "  </thead>\n",
              "  <tbody>\n",
              "    <tr>\n",
              "      <th>0</th>\n",
              "      <td>67</td>\n",
              "      <td>1169</td>\n",
              "      <td>6</td>\n",
              "      <td>0</td>\n",
              "      <td>1</td>\n",
              "      <td>0</td>\n",
              "      <td>0</td>\n",
              "      <td>1</td>\n",
              "      <td>0</td>\n",
              "      <td>0</td>\n",
              "      <td>1</td>\n",
              "      <td>0</td>\n",
              "      <td>1</td>\n",
              "      <td>0</td>\n",
              "      <td>0</td>\n",
              "      <td>0</td>\n",
              "      <td>1</td>\n",
              "      <td>0</td>\n",
              "      <td>0</td>\n",
              "      <td>0</td>\n",
              "      <td>0</td>\n",
              "      <td>0</td>\n",
              "      <td>0</td>\n",
              "      <td>0</td>\n",
              "      <td>1</td>\n",
              "      <td>0</td>\n",
              "      <td>0</td>\n",
              "    </tr>\n",
              "    <tr>\n",
              "      <th>1</th>\n",
              "      <td>22</td>\n",
              "      <td>5951</td>\n",
              "      <td>48</td>\n",
              "      <td>1</td>\n",
              "      <td>0</td>\n",
              "      <td>0</td>\n",
              "      <td>0</td>\n",
              "      <td>1</td>\n",
              "      <td>0</td>\n",
              "      <td>0</td>\n",
              "      <td>1</td>\n",
              "      <td>0</td>\n",
              "      <td>1</td>\n",
              "      <td>0</td>\n",
              "      <td>0</td>\n",
              "      <td>0</td>\n",
              "      <td>0</td>\n",
              "      <td>1</td>\n",
              "      <td>0</td>\n",
              "      <td>0</td>\n",
              "      <td>0</td>\n",
              "      <td>0</td>\n",
              "      <td>0</td>\n",
              "      <td>0</td>\n",
              "      <td>1</td>\n",
              "      <td>0</td>\n",
              "      <td>0</td>\n",
              "    </tr>\n",
              "    <tr>\n",
              "      <th>2</th>\n",
              "      <td>49</td>\n",
              "      <td>2096</td>\n",
              "      <td>12</td>\n",
              "      <td>0</td>\n",
              "      <td>1</td>\n",
              "      <td>0</td>\n",
              "      <td>1</td>\n",
              "      <td>0</td>\n",
              "      <td>0</td>\n",
              "      <td>0</td>\n",
              "      <td>1</td>\n",
              "      <td>0</td>\n",
              "      <td>1</td>\n",
              "      <td>0</td>\n",
              "      <td>0</td>\n",
              "      <td>0</td>\n",
              "      <td>0</td>\n",
              "      <td>1</td>\n",
              "      <td>0</td>\n",
              "      <td>0</td>\n",
              "      <td>0</td>\n",
              "      <td>0</td>\n",
              "      <td>1</td>\n",
              "      <td>0</td>\n",
              "      <td>0</td>\n",
              "      <td>0</td>\n",
              "      <td>0</td>\n",
              "    </tr>\n",
              "    <tr>\n",
              "      <th>3</th>\n",
              "      <td>45</td>\n",
              "      <td>7882</td>\n",
              "      <td>42</td>\n",
              "      <td>0</td>\n",
              "      <td>1</td>\n",
              "      <td>0</td>\n",
              "      <td>0</td>\n",
              "      <td>1</td>\n",
              "      <td>0</td>\n",
              "      <td>1</td>\n",
              "      <td>0</td>\n",
              "      <td>0</td>\n",
              "      <td>1</td>\n",
              "      <td>0</td>\n",
              "      <td>0</td>\n",
              "      <td>0</td>\n",
              "      <td>1</td>\n",
              "      <td>0</td>\n",
              "      <td>0</td>\n",
              "      <td>0</td>\n",
              "      <td>0</td>\n",
              "      <td>0</td>\n",
              "      <td>0</td>\n",
              "      <td>1</td>\n",
              "      <td>0</td>\n",
              "      <td>0</td>\n",
              "      <td>0</td>\n",
              "    </tr>\n",
              "    <tr>\n",
              "      <th>4</th>\n",
              "      <td>53</td>\n",
              "      <td>4870</td>\n",
              "      <td>24</td>\n",
              "      <td>0</td>\n",
              "      <td>1</td>\n",
              "      <td>0</td>\n",
              "      <td>0</td>\n",
              "      <td>1</td>\n",
              "      <td>0</td>\n",
              "      <td>1</td>\n",
              "      <td>0</td>\n",
              "      <td>0</td>\n",
              "      <td>1</td>\n",
              "      <td>0</td>\n",
              "      <td>0</td>\n",
              "      <td>0</td>\n",
              "      <td>1</td>\n",
              "      <td>0</td>\n",
              "      <td>0</td>\n",
              "      <td>0</td>\n",
              "      <td>1</td>\n",
              "      <td>0</td>\n",
              "      <td>0</td>\n",
              "      <td>0</td>\n",
              "      <td>0</td>\n",
              "      <td>0</td>\n",
              "      <td>0</td>\n",
              "    </tr>\n",
              "    <tr>\n",
              "      <th>...</th>\n",
              "      <td>...</td>\n",
              "      <td>...</td>\n",
              "      <td>...</td>\n",
              "      <td>...</td>\n",
              "      <td>...</td>\n",
              "      <td>...</td>\n",
              "      <td>...</td>\n",
              "      <td>...</td>\n",
              "      <td>...</td>\n",
              "      <td>...</td>\n",
              "      <td>...</td>\n",
              "      <td>...</td>\n",
              "      <td>...</td>\n",
              "      <td>...</td>\n",
              "      <td>...</td>\n",
              "      <td>...</td>\n",
              "      <td>...</td>\n",
              "      <td>...</td>\n",
              "      <td>...</td>\n",
              "      <td>...</td>\n",
              "      <td>...</td>\n",
              "      <td>...</td>\n",
              "      <td>...</td>\n",
              "      <td>...</td>\n",
              "      <td>...</td>\n",
              "      <td>...</td>\n",
              "      <td>...</td>\n",
              "    </tr>\n",
              "    <tr>\n",
              "      <th>995</th>\n",
              "      <td>31</td>\n",
              "      <td>1736</td>\n",
              "      <td>12</td>\n",
              "      <td>1</td>\n",
              "      <td>0</td>\n",
              "      <td>0</td>\n",
              "      <td>1</td>\n",
              "      <td>0</td>\n",
              "      <td>0</td>\n",
              "      <td>0</td>\n",
              "      <td>1</td>\n",
              "      <td>0</td>\n",
              "      <td>1</td>\n",
              "      <td>0</td>\n",
              "      <td>0</td>\n",
              "      <td>0</td>\n",
              "      <td>0</td>\n",
              "      <td>1</td>\n",
              "      <td>0</td>\n",
              "      <td>0</td>\n",
              "      <td>0</td>\n",
              "      <td>0</td>\n",
              "      <td>0</td>\n",
              "      <td>1</td>\n",
              "      <td>0</td>\n",
              "      <td>0</td>\n",
              "      <td>0</td>\n",
              "    </tr>\n",
              "    <tr>\n",
              "      <th>996</th>\n",
              "      <td>40</td>\n",
              "      <td>3857</td>\n",
              "      <td>30</td>\n",
              "      <td>0</td>\n",
              "      <td>1</td>\n",
              "      <td>0</td>\n",
              "      <td>0</td>\n",
              "      <td>0</td>\n",
              "      <td>1</td>\n",
              "      <td>0</td>\n",
              "      <td>1</td>\n",
              "      <td>0</td>\n",
              "      <td>1</td>\n",
              "      <td>0</td>\n",
              "      <td>0</td>\n",
              "      <td>0</td>\n",
              "      <td>1</td>\n",
              "      <td>0</td>\n",
              "      <td>0</td>\n",
              "      <td>0</td>\n",
              "      <td>1</td>\n",
              "      <td>0</td>\n",
              "      <td>0</td>\n",
              "      <td>0</td>\n",
              "      <td>0</td>\n",
              "      <td>0</td>\n",
              "      <td>0</td>\n",
              "    </tr>\n",
              "    <tr>\n",
              "      <th>997</th>\n",
              "      <td>38</td>\n",
              "      <td>804</td>\n",
              "      <td>12</td>\n",
              "      <td>0</td>\n",
              "      <td>1</td>\n",
              "      <td>0</td>\n",
              "      <td>0</td>\n",
              "      <td>1</td>\n",
              "      <td>0</td>\n",
              "      <td>0</td>\n",
              "      <td>1</td>\n",
              "      <td>0</td>\n",
              "      <td>1</td>\n",
              "      <td>0</td>\n",
              "      <td>0</td>\n",
              "      <td>0</td>\n",
              "      <td>0</td>\n",
              "      <td>1</td>\n",
              "      <td>0</td>\n",
              "      <td>0</td>\n",
              "      <td>0</td>\n",
              "      <td>0</td>\n",
              "      <td>0</td>\n",
              "      <td>0</td>\n",
              "      <td>1</td>\n",
              "      <td>0</td>\n",
              "      <td>0</td>\n",
              "    </tr>\n",
              "    <tr>\n",
              "      <th>998</th>\n",
              "      <td>23</td>\n",
              "      <td>1845</td>\n",
              "      <td>45</td>\n",
              "      <td>0</td>\n",
              "      <td>1</td>\n",
              "      <td>0</td>\n",
              "      <td>0</td>\n",
              "      <td>1</td>\n",
              "      <td>0</td>\n",
              "      <td>1</td>\n",
              "      <td>0</td>\n",
              "      <td>0</td>\n",
              "      <td>1</td>\n",
              "      <td>0</td>\n",
              "      <td>0</td>\n",
              "      <td>0</td>\n",
              "      <td>1</td>\n",
              "      <td>0</td>\n",
              "      <td>0</td>\n",
              "      <td>0</td>\n",
              "      <td>0</td>\n",
              "      <td>0</td>\n",
              "      <td>0</td>\n",
              "      <td>0</td>\n",
              "      <td>1</td>\n",
              "      <td>0</td>\n",
              "      <td>0</td>\n",
              "    </tr>\n",
              "    <tr>\n",
              "      <th>999</th>\n",
              "      <td>27</td>\n",
              "      <td>4576</td>\n",
              "      <td>45</td>\n",
              "      <td>0</td>\n",
              "      <td>1</td>\n",
              "      <td>0</td>\n",
              "      <td>0</td>\n",
              "      <td>1</td>\n",
              "      <td>0</td>\n",
              "      <td>0</td>\n",
              "      <td>1</td>\n",
              "      <td>0</td>\n",
              "      <td>0</td>\n",
              "      <td>1</td>\n",
              "      <td>0</td>\n",
              "      <td>0</td>\n",
              "      <td>0</td>\n",
              "      <td>1</td>\n",
              "      <td>0</td>\n",
              "      <td>0</td>\n",
              "      <td>1</td>\n",
              "      <td>0</td>\n",
              "      <td>0</td>\n",
              "      <td>0</td>\n",
              "      <td>0</td>\n",
              "      <td>0</td>\n",
              "      <td>0</td>\n",
              "    </tr>\n",
              "  </tbody>\n",
              "</table>\n",
              "<p>1000 rows × 27 columns</p>\n",
              "</div>"
            ],
            "text/plain": [
              "     Age  Credit amount  ...  Purpose_repairs  Purpose_vacation/others\n",
              "0     67           1169  ...                0                        0\n",
              "1     22           5951  ...                0                        0\n",
              "2     49           2096  ...                0                        0\n",
              "3     45           7882  ...                0                        0\n",
              "4     53           4870  ...                0                        0\n",
              "..   ...            ...  ...              ...                      ...\n",
              "995   31           1736  ...                0                        0\n",
              "996   40           3857  ...                0                        0\n",
              "997   38            804  ...                0                        0\n",
              "998   23           1845  ...                0                        0\n",
              "999   27           4576  ...                0                        0\n",
              "\n",
              "[1000 rows x 27 columns]"
            ]
          },
          "metadata": {},
          "execution_count": 86
        }
      ]
    },
    {
      "cell_type": "code",
      "metadata": {
        "id": "XDpQkWUWSMYR"
      },
      "source": [
        "X2.drop(\"Sex_male\",axis=1,inplace=True)\n",
        "X2.drop(\"Job_0\",axis=1,inplace=True)\n",
        "X2.drop(\"Housing_free\",axis=1,inplace=True)\n",
        "X2.drop(\"Saving accounts_little\",axis=1,inplace=True)\n",
        "X2.drop(\"Checking account_little\",axis=1,inplace=True)\n",
        "X2.drop(\"Purpose_business\",axis=1,inplace=True)"
      ],
      "execution_count": null,
      "outputs": []
    },
    {
      "cell_type": "markdown",
      "metadata": {
        "id": "_zDx9qN0RZ3x"
      },
      "source": [
        "# Logistic Regression"
      ]
    },
    {
      "cell_type": "code",
      "metadata": {
        "id": "vh3rb5JpQ8-m"
      },
      "source": [
        "mdl_LR2 = LogisticRegression(random_state=7)\n",
        "scale_mdl2 = StandardScaler()\n",
        "X2 = scale_mdl2.fit_transform(X2)"
      ],
      "execution_count": null,
      "outputs": []
    },
    {
      "cell_type": "code",
      "metadata": {
        "colab": {
          "base_uri": "https://localhost:8080/"
        },
        "id": "WS2MyO8YQ86d",
        "outputId": "1cd3aa77-ce9a-499e-f918-fdb367f023e2"
      },
      "source": [
        "X_train2,X_test2,y_train2,y_test2 = train_test_split(X2,y2,test_size = 0.2, random_state = 7) \n",
        "\n",
        "mdl_LR2.fit(X_train2,np.ravel(y_train2))\n",
        "ypred_train_LR2 = mdl_LR2.predict(X_train2)\n",
        "ypred_test_LR2 = mdl_LR2.predict(X_test2)\n",
        "\n",
        "LR2_f1_score = f1_score(y_test2, ypred_test_LR2)\n",
        "print(LR2_f1_score)\n",
        "f1_score_list['LR2']= LR2_f1_score"
      ],
      "execution_count": null,
      "outputs": [
        {
          "output_type": "stream",
          "name": "stdout",
          "text": [
            "0.8589341692789969\n"
          ]
        }
      ]
    },
    {
      "cell_type": "markdown",
      "metadata": {
        "id": "dGicZ-4xTR_q"
      },
      "source": [
        "# Decision Tree (DT)"
      ]
    },
    {
      "cell_type": "code",
      "metadata": {
        "colab": {
          "base_uri": "https://localhost:8080/"
        },
        "id": "pOD6BW1YQ821",
        "outputId": "6b060652-2e3a-482c-d965-de5518b7ded5"
      },
      "source": [
        "mdl_DT2 = DecisionTreeClassifier(random_state=7)\n",
        "\n",
        "mdl_DT2.fit(X_train2,np.ravel(y_train2))\n",
        "ypred_train_DT2 = mdl_DT2.predict(X_train2)\n",
        "ypred_test_DT2 = mdl_DT2.predict(X_test2)\n",
        "\n",
        "DT2_f1_score = f1_score(y_test2, ypred_test_DT2)\n",
        "print(DT2_f1_score)\n",
        "f1_score_list['DT2']= DT2_f1_score"
      ],
      "execution_count": null,
      "outputs": [
        {
          "output_type": "stream",
          "name": "stdout",
          "text": [
            "0.7665505226480835\n"
          ]
        }
      ]
    },
    {
      "cell_type": "markdown",
      "metadata": {
        "id": "yLxHt4bHTpWz"
      },
      "source": [
        "# Random Forest (RF)"
      ]
    },
    {
      "cell_type": "code",
      "metadata": {
        "colab": {
          "base_uri": "https://localhost:8080/"
        },
        "id": "-XEfBC75Q8zN",
        "outputId": "3184a670-457f-4a91-f6e2-85a6671aa04f"
      },
      "source": [
        "mdl_RF2 = RandomForestClassifier(random_state=7)\n",
        "classifierRF2 = RandomForestClassifier(n_estimators = 200, criterion = 'entropy', random_state = 7)\n",
        "classifierRF2.fit(X_train2,np.ravel(y_train2))"
      ],
      "execution_count": null,
      "outputs": [
        {
          "output_type": "execute_result",
          "data": {
            "text/plain": [
              "RandomForestClassifier(bootstrap=True, ccp_alpha=0.0, class_weight=None,\n",
              "                       criterion='entropy', max_depth=None, max_features='auto',\n",
              "                       max_leaf_nodes=None, max_samples=None,\n",
              "                       min_impurity_decrease=0.0, min_impurity_split=None,\n",
              "                       min_samples_leaf=1, min_samples_split=2,\n",
              "                       min_weight_fraction_leaf=0.0, n_estimators=200,\n",
              "                       n_jobs=None, oob_score=False, random_state=7, verbose=0,\n",
              "                       warm_start=False)"
            ]
          },
          "metadata": {},
          "execution_count": 91
        }
      ]
    },
    {
      "cell_type": "code",
      "metadata": {
        "id": "0hyarxiEQ8vc"
      },
      "source": [
        "y_pred_RF2 = classifierRF2.predict(X_test2)"
      ],
      "execution_count": null,
      "outputs": []
    },
    {
      "cell_type": "code",
      "metadata": {
        "colab": {
          "base_uri": "https://localhost:8080/"
        },
        "id": "PPn8ahovQ8pf",
        "outputId": "6d047e2c-4cae-4373-c1e0-e135df81d2fa"
      },
      "source": [
        "RF2_f1_score = f1_score(y_test2, y_pred_RF2)\n",
        "print(RF2_f1_score)\n",
        "f1_score_list['RF2']= RF2_f1_score"
      ],
      "execution_count": null,
      "outputs": [
        {
          "output_type": "stream",
          "name": "stdout",
          "text": [
            "0.8553459119496856\n"
          ]
        }
      ]
    },
    {
      "cell_type": "markdown",
      "metadata": {
        "id": "SfICPQLrWOwQ"
      },
      "source": [
        "# Naive Bayes (NB)"
      ]
    },
    {
      "cell_type": "code",
      "metadata": {
        "colab": {
          "base_uri": "https://localhost:8080/"
        },
        "id": "IoFHQR08Wbsy",
        "outputId": "a1032af6-5a1a-47c7-fe34-75c5f7771115"
      },
      "source": [
        "classifierNB2 = GaussianNB()\n",
        "classifierNB2.fit(X_train2, np.ravel(y_train2))"
      ],
      "execution_count": null,
      "outputs": [
        {
          "output_type": "execute_result",
          "data": {
            "text/plain": [
              "GaussianNB(priors=None, var_smoothing=1e-09)"
            ]
          },
          "metadata": {},
          "execution_count": 94
        }
      ]
    },
    {
      "cell_type": "code",
      "metadata": {
        "id": "gpU5SlmZWmau"
      },
      "source": [
        "y_pred_NB2 = classifierNB2.predict(X_test2)"
      ],
      "execution_count": null,
      "outputs": []
    },
    {
      "cell_type": "code",
      "metadata": {
        "colab": {
          "base_uri": "https://localhost:8080/"
        },
        "id": "dsemZ_inWmro",
        "outputId": "1123dd9b-f4cb-4bbf-e9ee-b1b763b3d108"
      },
      "source": [
        "NB2_f1_score = f1_score(y_test2, y_pred_NB2)\n",
        "print(NB2_f1_score)\n",
        "f1_score_list['NB2']= NB2_f1_score"
      ],
      "execution_count": null,
      "outputs": [
        {
          "output_type": "stream",
          "name": "stdout",
          "text": [
            "0.8056537102473499\n"
          ]
        }
      ]
    },
    {
      "cell_type": "markdown",
      "metadata": {
        "id": "caXEXt56W0H_"
      },
      "source": [
        "# K-Nearest Neighbour (KNN)"
      ]
    },
    {
      "cell_type": "code",
      "metadata": {
        "colab": {
          "base_uri": "https://localhost:8080/"
        },
        "id": "qLQsw8JBWmpH",
        "outputId": "513cf44e-48d9-4ac4-8ba9-ad5096c68b53"
      },
      "source": [
        "classifierKNN2 = KNeighborsClassifier(n_neighbors=5)\n",
        "classifierKNN2.fit(X_train2, np.ravel(y_train2))"
      ],
      "execution_count": null,
      "outputs": [
        {
          "output_type": "execute_result",
          "data": {
            "text/plain": [
              "KNeighborsClassifier(algorithm='auto', leaf_size=30, metric='minkowski',\n",
              "                     metric_params=None, n_jobs=None, n_neighbors=5, p=2,\n",
              "                     weights='uniform')"
            ]
          },
          "metadata": {},
          "execution_count": 97
        }
      ]
    },
    {
      "cell_type": "code",
      "metadata": {
        "id": "rOoSSL26Wmlw"
      },
      "source": [
        "y_pred_KNN2 = classifierKNN2.predict(X_test2)"
      ],
      "execution_count": null,
      "outputs": []
    },
    {
      "cell_type": "code",
      "metadata": {
        "colab": {
          "base_uri": "https://localhost:8080/"
        },
        "id": "tIVsFunuWmh6",
        "outputId": "e01ca6ac-c513-4a9e-e278-492863504fea"
      },
      "source": [
        "KNN2_f1_score = f1_score(y_test2, y_pred_KNN2)\n",
        "print(KNN2_f1_score)\n",
        "f1_score_list['KNN2']= KNN2_f1_score"
      ],
      "execution_count": null,
      "outputs": [
        {
          "output_type": "stream",
          "name": "stdout",
          "text": [
            "0.8269230769230769\n"
          ]
        }
      ]
    },
    {
      "cell_type": "markdown",
      "metadata": {
        "id": "QSXDd1HJXUmk"
      },
      "source": [
        "# Support Vector Machine (SVM)"
      ]
    },
    {
      "cell_type": "code",
      "metadata": {
        "colab": {
          "base_uri": "https://localhost:8080/"
        },
        "id": "Az9KPDvFWmeL",
        "outputId": "ab31bdd4-0e96-4270-8fb1-9a59e13a08b6"
      },
      "source": [
        "classifierSVM2 = SVC(kernel = 'linear', random_state = 7)\n",
        "classifierSVM2.fit(X_train2, np.ravel(y_train2))"
      ],
      "execution_count": null,
      "outputs": [
        {
          "output_type": "execute_result",
          "data": {
            "text/plain": [
              "SVC(C=1.0, break_ties=False, cache_size=200, class_weight=None, coef0=0.0,\n",
              "    decision_function_shape='ovr', degree=3, gamma='scale', kernel='linear',\n",
              "    max_iter=-1, probability=False, random_state=7, shrinking=True, tol=0.001,\n",
              "    verbose=False)"
            ]
          },
          "metadata": {},
          "execution_count": 100
        }
      ]
    },
    {
      "cell_type": "code",
      "metadata": {
        "id": "qBG-MlErXjBI"
      },
      "source": [
        "y_pred_SVM2 = classifierSVM2.predict(X_test2)"
      ],
      "execution_count": null,
      "outputs": []
    },
    {
      "cell_type": "code",
      "metadata": {
        "colab": {
          "base_uri": "https://localhost:8080/"
        },
        "id": "_NXELiYIXi8E",
        "outputId": "f0c1c2c1-1731-497e-a16d-3513eb9e8925"
      },
      "source": [
        "SVM2_f1_score = f1_score(y_test2, y_pred_SVM2)\n",
        "print(SVM2_f1_score)\n",
        "f1_score_list['SVM2']= SVM2_f1_score"
      ],
      "execution_count": null,
      "outputs": [
        {
          "output_type": "stream",
          "name": "stdout",
          "text": [
            "0.7903780068728522\n"
          ]
        }
      ]
    },
    {
      "cell_type": "markdown",
      "metadata": {
        "id": "FN92jmYgXyYd"
      },
      "source": [
        "# XGBoost Classifier (XGB)"
      ]
    },
    {
      "cell_type": "code",
      "metadata": {
        "colab": {
          "base_uri": "https://localhost:8080/"
        },
        "id": "6oMZvJdDXi4i",
        "outputId": "42368160-2684-42a1-e370-51faf19f0e90"
      },
      "source": [
        "params = {'objective':'binary:logistic','max_depth': 4,'alpha': 10,'learning_rate': 1.0,'n_estimators':100}\n",
        "\n",
        "xgb_clf2 = XGBClassifier(**params)\n",
        "\n",
        "xgb_clf2.fit(X_train2, np.ravel(y_train2))"
      ],
      "execution_count": null,
      "outputs": [
        {
          "output_type": "execute_result",
          "data": {
            "text/plain": [
              "XGBClassifier(alpha=10, base_score=0.5, booster='gbtree', colsample_bylevel=1,\n",
              "              colsample_bynode=1, colsample_bytree=1, gamma=0,\n",
              "              learning_rate=1.0, max_delta_step=0, max_depth=4,\n",
              "              min_child_weight=1, missing=None, n_estimators=100, n_jobs=1,\n",
              "              nthread=None, objective='binary:logistic', random_state=0,\n",
              "              reg_alpha=0, reg_lambda=1, scale_pos_weight=1, seed=None,\n",
              "              silent=None, subsample=1, verbosity=1)"
            ]
          },
          "metadata": {},
          "execution_count": 103
        }
      ]
    },
    {
      "cell_type": "code",
      "metadata": {
        "colab": {
          "base_uri": "https://localhost:8080/"
        },
        "id": "-sZYyTMpXi0R",
        "outputId": "003447c9-82c4-478b-e11e-43fa8883b113"
      },
      "source": [
        "print(xgb_clf2)"
      ],
      "execution_count": null,
      "outputs": [
        {
          "output_type": "stream",
          "name": "stdout",
          "text": [
            "XGBClassifier(alpha=10, base_score=0.5, booster='gbtree', colsample_bylevel=1,\n",
            "              colsample_bynode=1, colsample_bytree=1, gamma=0,\n",
            "              learning_rate=1.0, max_delta_step=0, max_depth=4,\n",
            "              min_child_weight=1, missing=None, n_estimators=100, n_jobs=1,\n",
            "              nthread=None, objective='binary:logistic', random_state=0,\n",
            "              reg_alpha=0, reg_lambda=1, scale_pos_weight=1, seed=None,\n",
            "              silent=None, subsample=1, verbosity=1)\n"
          ]
        }
      ]
    },
    {
      "cell_type": "code",
      "metadata": {
        "id": "QXxwFsO6XixI"
      },
      "source": [
        "y_pred_XGB2 = xgb_clf2.predict(X_test2)"
      ],
      "execution_count": null,
      "outputs": []
    },
    {
      "cell_type": "code",
      "metadata": {
        "colab": {
          "base_uri": "https://localhost:8080/"
        },
        "id": "Y-LMsrdbXiud",
        "outputId": "03de1c43-229d-4cd8-d4aa-4027ce5e7d11"
      },
      "source": [
        "XGB2_f1_score = f1_score(y_test2, y_pred_XGB2)\n",
        "print(XGB2_f1_score)\n",
        "f1_score_list['XGB2']= XGB2_f1_score"
      ],
      "execution_count": null,
      "outputs": [
        {
          "output_type": "stream",
          "name": "stdout",
          "text": [
            "0.8106312292358804\n"
          ]
        }
      ]
    },
    {
      "cell_type": "code",
      "metadata": {
        "colab": {
          "base_uri": "https://localhost:8080/",
          "height": 707
        },
        "id": "LLAzx6t44Sqp",
        "outputId": "b6b6df95-3749-4bc0-e21a-38ea25e91ad5"
      },
      "source": [
        "f1_scores = pd.DataFrame(f1_score_list.values(),index=f1_score_list.keys(),columns=['f1_scores'])\n",
        "f1_scores.sort_values(by=['f1_scores'])"
      ],
      "execution_count": null,
      "outputs": [
        {
          "output_type": "execute_result",
          "data": {
            "text/html": [
              "<div>\n",
              "<style scoped>\n",
              "    .dataframe tbody tr th:only-of-type {\n",
              "        vertical-align: middle;\n",
              "    }\n",
              "\n",
              "    .dataframe tbody tr th {\n",
              "        vertical-align: top;\n",
              "    }\n",
              "\n",
              "    .dataframe thead th {\n",
              "        text-align: right;\n",
              "    }\n",
              "</style>\n",
              "<table border=\"1\" class=\"dataframe\">\n",
              "  <thead>\n",
              "    <tr style=\"text-align: right;\">\n",
              "      <th></th>\n",
              "      <th>f1_scores</th>\n",
              "    </tr>\n",
              "  </thead>\n",
              "  <tbody>\n",
              "    <tr>\n",
              "      <th>KNN0</th>\n",
              "      <td>0.598291</td>\n",
              "    </tr>\n",
              "    <tr>\n",
              "      <th>NB0</th>\n",
              "      <td>0.621622</td>\n",
              "    </tr>\n",
              "    <tr>\n",
              "      <th>DT1</th>\n",
              "      <td>0.678832</td>\n",
              "    </tr>\n",
              "    <tr>\n",
              "      <th>SVM0</th>\n",
              "      <td>0.682927</td>\n",
              "    </tr>\n",
              "    <tr>\n",
              "      <th>LR0</th>\n",
              "      <td>0.689655</td>\n",
              "    </tr>\n",
              "    <tr>\n",
              "      <th>DT0</th>\n",
              "      <td>0.692308</td>\n",
              "    </tr>\n",
              "    <tr>\n",
              "      <th>XGB0</th>\n",
              "      <td>0.696429</td>\n",
              "    </tr>\n",
              "    <tr>\n",
              "      <th>RF0</th>\n",
              "      <td>0.730435</td>\n",
              "    </tr>\n",
              "    <tr>\n",
              "      <th>DT2</th>\n",
              "      <td>0.766551</td>\n",
              "    </tr>\n",
              "    <tr>\n",
              "      <th>XGB1</th>\n",
              "      <td>0.787879</td>\n",
              "    </tr>\n",
              "    <tr>\n",
              "      <th>SVM2</th>\n",
              "      <td>0.790378</td>\n",
              "    </tr>\n",
              "    <tr>\n",
              "      <th>NB1</th>\n",
              "      <td>0.791519</td>\n",
              "    </tr>\n",
              "    <tr>\n",
              "      <th>NB2</th>\n",
              "      <td>0.805654</td>\n",
              "    </tr>\n",
              "    <tr>\n",
              "      <th>XGB2</th>\n",
              "      <td>0.810631</td>\n",
              "    </tr>\n",
              "    <tr>\n",
              "      <th>KNN1</th>\n",
              "      <td>0.819048</td>\n",
              "    </tr>\n",
              "    <tr>\n",
              "      <th>RF1</th>\n",
              "      <td>0.823899</td>\n",
              "    </tr>\n",
              "    <tr>\n",
              "      <th>KNN2</th>\n",
              "      <td>0.826923</td>\n",
              "    </tr>\n",
              "    <tr>\n",
              "      <th>LR1</th>\n",
              "      <td>0.839506</td>\n",
              "    </tr>\n",
              "    <tr>\n",
              "      <th>SVM1</th>\n",
              "      <td>0.853868</td>\n",
              "    </tr>\n",
              "    <tr>\n",
              "      <th>RF2</th>\n",
              "      <td>0.855346</td>\n",
              "    </tr>\n",
              "    <tr>\n",
              "      <th>LR2</th>\n",
              "      <td>0.858934</td>\n",
              "    </tr>\n",
              "  </tbody>\n",
              "</table>\n",
              "</div>"
            ],
            "text/plain": [
              "      f1_scores\n",
              "KNN0   0.598291\n",
              "NB0    0.621622\n",
              "DT1    0.678832\n",
              "SVM0   0.682927\n",
              "LR0    0.689655\n",
              "DT0    0.692308\n",
              "XGB0   0.696429\n",
              "RF0    0.730435\n",
              "DT2    0.766551\n",
              "XGB1   0.787879\n",
              "SVM2   0.790378\n",
              "NB1    0.791519\n",
              "NB2    0.805654\n",
              "XGB2   0.810631\n",
              "KNN1   0.819048\n",
              "RF1    0.823899\n",
              "KNN2   0.826923\n",
              "LR1    0.839506\n",
              "SVM1   0.853868\n",
              "RF2    0.855346\n",
              "LR2    0.858934"
            ]
          },
          "metadata": {},
          "execution_count": 107
        }
      ]
    },
    {
      "cell_type": "code",
      "metadata": {
        "colab": {
          "base_uri": "https://localhost:8080/",
          "height": 101
        },
        "id": "gFypztSv4Y82",
        "outputId": "f39885cd-d27b-4b77-b721-7eb7120f0168"
      },
      "source": [
        "f1_scores.T"
      ],
      "execution_count": null,
      "outputs": [
        {
          "output_type": "execute_result",
          "data": {
            "text/html": [
              "<div>\n",
              "<style scoped>\n",
              "    .dataframe tbody tr th:only-of-type {\n",
              "        vertical-align: middle;\n",
              "    }\n",
              "\n",
              "    .dataframe tbody tr th {\n",
              "        vertical-align: top;\n",
              "    }\n",
              "\n",
              "    .dataframe thead th {\n",
              "        text-align: right;\n",
              "    }\n",
              "</style>\n",
              "<table border=\"1\" class=\"dataframe\">\n",
              "  <thead>\n",
              "    <tr style=\"text-align: right;\">\n",
              "      <th></th>\n",
              "      <th>LR0</th>\n",
              "      <th>DT0</th>\n",
              "      <th>RF0</th>\n",
              "      <th>NB0</th>\n",
              "      <th>KNN0</th>\n",
              "      <th>SVM0</th>\n",
              "      <th>XGB0</th>\n",
              "      <th>LR1</th>\n",
              "      <th>DT1</th>\n",
              "      <th>RF1</th>\n",
              "      <th>NB1</th>\n",
              "      <th>KNN1</th>\n",
              "      <th>SVM1</th>\n",
              "      <th>XGB1</th>\n",
              "      <th>LR2</th>\n",
              "      <th>DT2</th>\n",
              "      <th>RF2</th>\n",
              "      <th>NB2</th>\n",
              "      <th>KNN2</th>\n",
              "      <th>SVM2</th>\n",
              "      <th>XGB2</th>\n",
              "    </tr>\n",
              "  </thead>\n",
              "  <tbody>\n",
              "    <tr>\n",
              "      <th>f1_scores</th>\n",
              "      <td>0.689655</td>\n",
              "      <td>0.692308</td>\n",
              "      <td>0.730435</td>\n",
              "      <td>0.621622</td>\n",
              "      <td>0.598291</td>\n",
              "      <td>0.682927</td>\n",
              "      <td>0.696429</td>\n",
              "      <td>0.839506</td>\n",
              "      <td>0.678832</td>\n",
              "      <td>0.823899</td>\n",
              "      <td>0.791519</td>\n",
              "      <td>0.819048</td>\n",
              "      <td>0.853868</td>\n",
              "      <td>0.787879</td>\n",
              "      <td>0.858934</td>\n",
              "      <td>0.766551</td>\n",
              "      <td>0.855346</td>\n",
              "      <td>0.805654</td>\n",
              "      <td>0.826923</td>\n",
              "      <td>0.790378</td>\n",
              "      <td>0.810631</td>\n",
              "    </tr>\n",
              "  </tbody>\n",
              "</table>\n",
              "</div>"
            ],
            "text/plain": [
              "                LR0       DT0       RF0  ...      KNN2      SVM2      XGB2\n",
              "f1_scores  0.689655  0.692308  0.730435  ...  0.826923  0.790378  0.810631\n",
              "\n",
              "[1 rows x 21 columns]"
            ]
          },
          "metadata": {},
          "execution_count": 108
        }
      ]
    },
    {
      "cell_type": "code",
      "metadata": {
        "colab": {
          "base_uri": "https://localhost:8080/",
          "height": 317
        },
        "id": "4L0sgBSJ6NEN",
        "outputId": "83296986-f8f7-4125-cc0a-dbdf213269ff"
      },
      "source": [
        "f1_scores.sort_values(by=['f1_scores'],ascending=False).plot.bar()\n",
        "f1_scores[f1_scores['f1_scores']==f1_scores['f1_scores'].max()]\n",
        "plt.xticks(rotation=45)\n",
        "plt.yticks(rotation=90)"
      ],
      "execution_count": null,
      "outputs": [
        {
          "output_type": "execute_result",
          "data": {
            "text/plain": [
              "(array([0. , 0.2, 0.4, 0.6, 0.8, 1. ]),\n",
              " <a list of 6 Text major ticklabel objects>)"
            ]
          },
          "metadata": {},
          "execution_count": 109
        },
        {
          "output_type": "display_data",
          "data": {
            "image/png": "[encoded data removed]",
            "text/plain": [
              "<Figure size 432x288 with 1 Axes>"
            ]
          },
          "metadata": {
            "needs_background": "light"
          }
        }
      ]
    },
    {
      "cell_type": "code",
      "metadata": {
        "id": "gMwDafEAJXs4",
        "colab": {
          "base_uri": "https://localhost:8080/",
          "height": 81
        },
        "outputId": "a9b3787b-ed9f-49ee-fce0-a5adf0884d70"
      },
      "source": [
        "f1_scores[f1_scores['f1_scores']==f1_scores['f1_scores'].max()]"
      ],
      "execution_count": null,
      "outputs": [
        {
          "output_type": "execute_result",
          "data": {
            "text/html": [
              "<div>\n",
              "<style scoped>\n",
              "    .dataframe tbody tr th:only-of-type {\n",
              "        vertical-align: middle;\n",
              "    }\n",
              "\n",
              "    .dataframe tbody tr th {\n",
              "        vertical-align: top;\n",
              "    }\n",
              "\n",
              "    .dataframe thead th {\n",
              "        text-align: right;\n",
              "    }\n",
              "</style>\n",
              "<table border=\"1\" class=\"dataframe\">\n",
              "  <thead>\n",
              "    <tr style=\"text-align: right;\">\n",
              "      <th></th>\n",
              "      <th>f1_scores</th>\n",
              "    </tr>\n",
              "  </thead>\n",
              "  <tbody>\n",
              "    <tr>\n",
              "      <th>LR2</th>\n",
              "      <td>0.858934</td>\n",
              "    </tr>\n",
              "  </tbody>\n",
              "</table>\n",
              "</div>"
            ],
            "text/plain": [
              "     f1_scores\n",
              "LR2   0.858934"
            ]
          },
          "metadata": {},
          "execution_count": 110
        }
      ]
    },
    {
      "cell_type": "markdown",
      "metadata": {
        "id": "Y-BBSrOpL3CQ"
      },
      "source": [
        "It can be understood from the *f1_scores* table that *LR2 f1_score* has the highest score compering the rest of the models. As a result, LR (Logistic Regression) model has been selected by the German Bank to applied which decision have made new customer application. There are other models which they have also sensible f1_score to use but LR is the highest one even if there is no big difference amongst other models. "
      ]
    }
  ]
}