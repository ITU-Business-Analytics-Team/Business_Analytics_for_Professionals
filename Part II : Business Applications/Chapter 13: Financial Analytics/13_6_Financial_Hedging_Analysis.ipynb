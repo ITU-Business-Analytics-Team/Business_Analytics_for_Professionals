{
  "nbformat": 4,
  "nbformat_minor": 0,
  "metadata": {
    "colab": {
      "name": "13.6. Financial Hedging Analysis.ipynb",
      "provenance": [],
      "collapsed_sections": [],
      "include_colab_link": true
    },
    "kernelspec": {
      "name": "python3",
      "display_name": "Python 3"
    },
    "language_info": {
      "name": "python"
    }
  },
  "cells": [
    {
      "cell_type": "markdown",
      "metadata": {
        "id": "view-in-github",
        "colab_type": "text"
      },
      "source": [
        "<a href=\"https://colab.research.google.com/github/ITU-Business-Analytics-Team/Business_Analytics_for_Professionals/blob/main/Part%20II%20%3A%20Business%20Applications/Chapter%2013%3A%20Financial%20Analytics/13_6_Financial_Hedging_Analysis.ipynb\" target=\"_parent\"><img src=\"https://colab.research.google.com/assets/colab-badge.svg\" alt=\"Open In Colab\"/></a>"
      ]
    },
    {
      "cell_type": "markdown",
      "metadata": {
        "id": "pxV5Uh_e4ITC"
      },
      "source": [
        "# **Financial Analytics**\n",
        "## Financial Hedging Analysis"
      ]
    },
    {
      "cell_type": "markdown",
      "metadata": {
        "id": "OZfgiMn8LaEM"
      },
      "source": [
        "The aim of this code is to show an application for hedging financial positions with futures contract. A case study is analysed and final balances are calculated under different scenarios.\n",
        "\n",
        "**Case** \\\\\n",
        "On July 1st 2021, ABC company from US sells machinery to a German company\n",
        "and will receive €3.75m on September 25th 2021. They expect that Euro will weaken against US Dollar, therefore, they choose to take a position in the currency futures market to hedge their position. The current spot rate in the market is \\$1.1764/1€ and futures contracts at $1.170/1€ are available for delivery month.\n"
      ]
    },
    {
      "cell_type": "code",
      "metadata": {
        "id": "nAEOqBFBp3YM"
      },
      "source": [
        "import numpy as np\n",
        "import pandas as pd\n",
        "import matplotlib.pyplot as plt\n",
        "from datetime import date, timedelta\n",
        "import matplotlib.pyplot as plt\n",
        "from matplotlib.pyplot import figure\n",
        "import warnings"
      ],
      "execution_count": null,
      "outputs": []
    },
    {
      "cell_type": "code",
      "metadata": {
        "id": "vAK4mGeXqLBd"
      },
      "source": [
        "#Define class of future contracts\n",
        "class Future:\n",
        "    def __init__(self, enter_date, price, asset, size, expiry_date, tick, initial, maintain):\n",
        "        #the day of entering contract i.e. \"2021-08-23\" as year-month-day\n",
        "        self.enter_date=enter_date\n",
        "        #price of contract\n",
        "        self.price=price\n",
        "        #underlying asset i.e. \"\"Eur\"\"\n",
        "        self.asset = asset\n",
        "        #contract size of futures i.e. \"125000\"\n",
        "        self.size = size  \n",
        "        #termination day of contract  i.e. \"2021/09/23\" as year-month-day\n",
        "        self.expiry_date=expiry_date\n",
        "        #tick size of price move i.e. \"0.001\"\n",
        "        self.tick = tick  \n",
        "        #initial margin of contract i.e. \"3000\"\n",
        "        self.initial=initial \n",
        "        #maintainence margin of contract i.e. \"2200\"\n",
        "        self.maintain= maintain\n",
        "        \n",
        "    def timeToMaturity(self):\n",
        "        eyear,emonth,eday=self.expiry_date.split(\"/\")\n",
        "        iyear,imonth,iday=self.enter_date.split(\"/\")\n",
        "        timeToMat=date(int(eyear),int(emonth),int(eday))-date(int(iyear),int(imonth),int(iday))\n",
        "        timeToMat=timeToMat.days\n",
        "        return timeToMat\n",
        "    \n",
        "    def getDates(self):\n",
        "        timeStamp=[]\n",
        "        eyear,emonth,eday=self.expiry_date.split(\"/\")\n",
        "        eyear=int(eyear)\n",
        "        emonth=int(emonth)\n",
        "        eday=int(eday)\n",
        "        \n",
        "        iyear,imonth,iday=self.enter_date.split(\"/\")\n",
        "        iyear=int(iyear)\n",
        "        imonth=int(imonth)\n",
        "        iday=int(iday)\n",
        "        timeToMaturity=Future.timeToMaturity(self)\n",
        "\n",
        "        for i in range(timeToMaturity + 1):\n",
        "            days = pd.to_datetime(date(iyear,imonth,iday) + timedelta(days=i))\n",
        "            timeStamp.append(days)   \n",
        "        return timeStamp\n",
        "            \n",
        "\n",
        "        "
      ],
      "execution_count": null,
      "outputs": []
    },
    {
      "cell_type": "markdown",
      "metadata": {
        "id": "FWyal-mCqVDg"
      },
      "source": [
        "A future contract whose specifications are given by Future Class which is defined as Future (*contract_enter_date, price_on_contract, underlying_asset, contract_size, contract_expiry_date, tick_size, initial_margin, maintainance_margin*) is created . Here, the future contract is Eurodollar and it is used to hedge Euro cash flow."
      ]
    },
    {
      "cell_type": "code",
      "metadata": {
        "id": "9-BX-kT5rDwr"
      },
      "source": [
        "future1=Future(\"2021/7/01\", 1.17,\"EUR\", 125000,\"2021/9/24\", 0.001, 3000, 2200)"
      ],
      "execution_count": null,
      "outputs": []
    },
    {
      "cell_type": "markdown",
      "metadata": {
        "id": "1uwhv0DKs15K"
      },
      "source": [
        "A EUR/USD exchange rate is generated and simulated. Based on price generated, margin account can be tracked daily. Mark-to-market process is applied and the change in margin account is shown in Table 2."
      ]
    },
    {
      "cell_type": "code",
      "metadata": {
        "id": "GAaYiXCTQNTm"
      },
      "source": [
        "price=future1.price\n",
        "maturity=future1.timeToMaturity()\n",
        "priceGenerated=np.linspace(price, price-maturity*0.0005, maturity+1)+np.append(0,np.random.randn(maturity)/(2*maturity))"
      ],
      "execution_count": null,
      "outputs": []
    },
    {
      "cell_type": "code",
      "metadata": {
        "colab": {
          "base_uri": "https://localhost:8080/",
          "height": 449
        },
        "id": "lxDxdXkAsy4h",
        "outputId": "842df847-7325-4866-fa47-f1bedff96e0d"
      },
      "source": [
        "fig=figure(figsize=(8, 6), dpi=80)\n",
        "plt.plot(future1.getDates(),priceGenerated)\n",
        "fig.suptitle('Simulated Euro/US Dollar Exchange Rate', fontsize=14, y=0.92)\n",
        "plt.xlabel('Dates', fontsize=12)\n",
        "plt.ylabel('Euro/Dollar', fontsize=12)\n",
        "plt.grid()"
      ],
      "execution_count": null,
      "outputs": [
        {
          "output_type": "display_data",
          "data": {
            "image/png": "[encoded data removed]",
            "text/plain": [
              "<Figure size 640x480 with 1 Axes>"
            ]
          },
          "metadata": {
            "needs_background": "light"
          }
        }
      ]
    },
    {
      "cell_type": "code",
      "metadata": {
        "id": "JPITCV8ktiqU"
      },
      "source": [
        "# Mark_to_market process\n",
        "ContractNumber=30\n",
        "\n",
        "MarkToMarket=pd.DataFrame({\"Dates\": future1.getDates(),\"Futures Price\": priceGenerated,\"Change in Value\":\"-\", \"Gain/Loss\":\"-\", \"Account Balance\":ContractNumber*future1.initial})\n",
        "warnings.filterwarnings(\"ignore\")\n",
        "pd.set_option('display.max_rows', 100)"
      ],
      "execution_count": null,
      "outputs": []
    },
    {
      "cell_type": "code",
      "metadata": {
        "id": "ch22PmMIti1q"
      },
      "source": [
        "# Mark_to_market process\n",
        "for i in range(maturity):\n",
        "    if i==0:\n",
        "        MarkToMarket[\"Change in Value\"][i]=\"-\"\n",
        "        MarkToMarket[\"Gain/Loss\"][i]=\"-\"\n",
        "    else:\n",
        "        change=np.round(MarkToMarket[\"Futures Price\"][i]-MarkToMarket[\"Futures Price\"][i-1],4)\n",
        "        MarkToMarket[\"Change in Value\"][i]=change\n",
        "        MarkToMarket[\"Gain/Loss\"][i]=-round(change*ContractNumber*future1.size,1)\n",
        "        MarkToMarket[\"Account Balance\"][i]=round(MarkToMarket[\"Account Balance\"][i-1]+MarkToMarket[\"Gain/Loss\"][i])\n",
        "        MarkToMarket[\"Account Balance\"][maturity]=\"-\"\n",
        "    "
      ],
      "execution_count": null,
      "outputs": []
    },
    {
      "cell_type": "code",
      "metadata": {
        "colab": {
          "base_uri": "https://localhost:8080/",
          "height": 363
        },
        "id": "SiTQMStmxc1r",
        "outputId": "3a42f1fd-02db-478f-d7ff-b9567384369e"
      },
      "source": [
        "#Change in Margin Account in  first 10 days of holding the contract\n",
        "MarkToMarket.head(10)"
      ],
      "execution_count": null,
      "outputs": [
        {
          "output_type": "execute_result",
          "data": {
            "text/html": [
              "<div>\n",
              "<style scoped>\n",
              "    .dataframe tbody tr th:only-of-type {\n",
              "        vertical-align: middle;\n",
              "    }\n",
              "\n",
              "    .dataframe tbody tr th {\n",
              "        vertical-align: top;\n",
              "    }\n",
              "\n",
              "    .dataframe thead th {\n",
              "        text-align: right;\n",
              "    }\n",
              "</style>\n",
              "<table border=\"1\" class=\"dataframe\">\n",
              "  <thead>\n",
              "    <tr style=\"text-align: right;\">\n",
              "      <th></th>\n",
              "      <th>Dates</th>\n",
              "      <th>Futures Price</th>\n",
              "      <th>Change in Value</th>\n",
              "      <th>Gain/Loss</th>\n",
              "      <th>Account Balance</th>\n",
              "    </tr>\n",
              "  </thead>\n",
              "  <tbody>\n",
              "    <tr>\n",
              "      <th>0</th>\n",
              "      <td>2021-07-01</td>\n",
              "      <td>1.170000</td>\n",
              "      <td>-</td>\n",
              "      <td>-</td>\n",
              "      <td>90000</td>\n",
              "    </tr>\n",
              "    <tr>\n",
              "      <th>1</th>\n",
              "      <td>2021-07-02</td>\n",
              "      <td>1.177485</td>\n",
              "      <td>0.0075</td>\n",
              "      <td>-28125</td>\n",
              "      <td>61875</td>\n",
              "    </tr>\n",
              "    <tr>\n",
              "      <th>2</th>\n",
              "      <td>2021-07-03</td>\n",
              "      <td>1.164467</td>\n",
              "      <td>-0.013</td>\n",
              "      <td>48750</td>\n",
              "      <td>110625</td>\n",
              "    </tr>\n",
              "    <tr>\n",
              "      <th>3</th>\n",
              "      <td>2021-07-04</td>\n",
              "      <td>1.171752</td>\n",
              "      <td>0.0073</td>\n",
              "      <td>-27375</td>\n",
              "      <td>83250</td>\n",
              "    </tr>\n",
              "    <tr>\n",
              "      <th>4</th>\n",
              "      <td>2021-07-05</td>\n",
              "      <td>1.173035</td>\n",
              "      <td>0.0013</td>\n",
              "      <td>-4875</td>\n",
              "      <td>78375</td>\n",
              "    </tr>\n",
              "    <tr>\n",
              "      <th>5</th>\n",
              "      <td>2021-07-06</td>\n",
              "      <td>1.164208</td>\n",
              "      <td>-0.0088</td>\n",
              "      <td>33000</td>\n",
              "      <td>111375</td>\n",
              "    </tr>\n",
              "    <tr>\n",
              "      <th>6</th>\n",
              "      <td>2021-07-07</td>\n",
              "      <td>1.172770</td>\n",
              "      <td>0.0086</td>\n",
              "      <td>-32250</td>\n",
              "      <td>79125</td>\n",
              "    </tr>\n",
              "    <tr>\n",
              "      <th>7</th>\n",
              "      <td>2021-07-08</td>\n",
              "      <td>1.165128</td>\n",
              "      <td>-0.0076</td>\n",
              "      <td>28500</td>\n",
              "      <td>107625</td>\n",
              "    </tr>\n",
              "    <tr>\n",
              "      <th>8</th>\n",
              "      <td>2021-07-09</td>\n",
              "      <td>1.168647</td>\n",
              "      <td>0.0035</td>\n",
              "      <td>-13125</td>\n",
              "      <td>94500</td>\n",
              "    </tr>\n",
              "    <tr>\n",
              "      <th>9</th>\n",
              "      <td>2021-07-10</td>\n",
              "      <td>1.157099</td>\n",
              "      <td>-0.0115</td>\n",
              "      <td>43125</td>\n",
              "      <td>137625</td>\n",
              "    </tr>\n",
              "  </tbody>\n",
              "</table>\n",
              "</div>"
            ],
            "text/plain": [
              "       Dates  Futures Price Change in Value Gain/Loss Account Balance\n",
              "0 2021-07-01       1.170000               -         -           90000\n",
              "1 2021-07-02       1.177485          0.0075    -28125           61875\n",
              "2 2021-07-03       1.164467          -0.013     48750          110625\n",
              "3 2021-07-04       1.171752          0.0073    -27375           83250\n",
              "4 2021-07-05       1.173035          0.0013     -4875           78375\n",
              "5 2021-07-06       1.164208         -0.0088     33000          111375\n",
              "6 2021-07-07       1.172770          0.0086    -32250           79125\n",
              "7 2021-07-08       1.165128         -0.0076     28500          107625\n",
              "8 2021-07-09       1.168647          0.0035    -13125           94500\n",
              "9 2021-07-10       1.157099         -0.0115     43125          137625"
            ]
          },
          "metadata": {},
          "execution_count": 8
        }
      ]
    },
    {
      "cell_type": "code",
      "metadata": {
        "colab": {
          "base_uri": "https://localhost:8080/",
          "height": 363
        },
        "id": "BQ91xUgYtjAU",
        "outputId": "5be40646-ac4a-4f58-c469-bde718d94ff1"
      },
      "source": [
        "#Change in Margin Account in  last 10 days of holding the contract\n",
        "MarkToMarket.tail(10)"
      ],
      "execution_count": null,
      "outputs": [
        {
          "output_type": "execute_result",
          "data": {
            "text/html": [
              "<div>\n",
              "<style scoped>\n",
              "    .dataframe tbody tr th:only-of-type {\n",
              "        vertical-align: middle;\n",
              "    }\n",
              "\n",
              "    .dataframe tbody tr th {\n",
              "        vertical-align: top;\n",
              "    }\n",
              "\n",
              "    .dataframe thead th {\n",
              "        text-align: right;\n",
              "    }\n",
              "</style>\n",
              "<table border=\"1\" class=\"dataframe\">\n",
              "  <thead>\n",
              "    <tr style=\"text-align: right;\">\n",
              "      <th></th>\n",
              "      <th>Dates</th>\n",
              "      <th>Futures Price</th>\n",
              "      <th>Change in Value</th>\n",
              "      <th>Gain/Loss</th>\n",
              "      <th>Account Balance</th>\n",
              "    </tr>\n",
              "  </thead>\n",
              "  <tbody>\n",
              "    <tr>\n",
              "      <th>76</th>\n",
              "      <td>2021-09-15</td>\n",
              "      <td>1.130209</td>\n",
              "      <td>-0.0046</td>\n",
              "      <td>17250</td>\n",
              "      <td>238500</td>\n",
              "    </tr>\n",
              "    <tr>\n",
              "      <th>77</th>\n",
              "      <td>2021-09-16</td>\n",
              "      <td>1.121944</td>\n",
              "      <td>-0.0083</td>\n",
              "      <td>31125</td>\n",
              "      <td>269625</td>\n",
              "    </tr>\n",
              "    <tr>\n",
              "      <th>78</th>\n",
              "      <td>2021-09-17</td>\n",
              "      <td>1.133113</td>\n",
              "      <td>0.0112</td>\n",
              "      <td>-42000</td>\n",
              "      <td>227625</td>\n",
              "    </tr>\n",
              "    <tr>\n",
              "      <th>79</th>\n",
              "      <td>2021-09-18</td>\n",
              "      <td>1.133666</td>\n",
              "      <td>0.0006</td>\n",
              "      <td>-2250</td>\n",
              "      <td>225375</td>\n",
              "    </tr>\n",
              "    <tr>\n",
              "      <th>80</th>\n",
              "      <td>2021-09-19</td>\n",
              "      <td>1.131124</td>\n",
              "      <td>-0.0025</td>\n",
              "      <td>9375</td>\n",
              "      <td>234750</td>\n",
              "    </tr>\n",
              "    <tr>\n",
              "      <th>81</th>\n",
              "      <td>2021-09-20</td>\n",
              "      <td>1.124281</td>\n",
              "      <td>-0.0068</td>\n",
              "      <td>25500</td>\n",
              "      <td>260250</td>\n",
              "    </tr>\n",
              "    <tr>\n",
              "      <th>82</th>\n",
              "      <td>2021-09-21</td>\n",
              "      <td>1.130939</td>\n",
              "      <td>0.0067</td>\n",
              "      <td>-25125</td>\n",
              "      <td>235125</td>\n",
              "    </tr>\n",
              "    <tr>\n",
              "      <th>83</th>\n",
              "      <td>2021-09-22</td>\n",
              "      <td>1.127605</td>\n",
              "      <td>-0.0033</td>\n",
              "      <td>12375</td>\n",
              "      <td>247500</td>\n",
              "    </tr>\n",
              "    <tr>\n",
              "      <th>84</th>\n",
              "      <td>2021-09-23</td>\n",
              "      <td>1.130091</td>\n",
              "      <td>0.0025</td>\n",
              "      <td>-9375</td>\n",
              "      <td>238125</td>\n",
              "    </tr>\n",
              "    <tr>\n",
              "      <th>85</th>\n",
              "      <td>2021-09-24</td>\n",
              "      <td>1.131692</td>\n",
              "      <td>-</td>\n",
              "      <td>-</td>\n",
              "      <td>-</td>\n",
              "    </tr>\n",
              "  </tbody>\n",
              "</table>\n",
              "</div>"
            ],
            "text/plain": [
              "        Dates  Futures Price Change in Value Gain/Loss Account Balance\n",
              "76 2021-09-15       1.130209         -0.0046     17250          238500\n",
              "77 2021-09-16       1.121944         -0.0083     31125          269625\n",
              "78 2021-09-17       1.133113          0.0112    -42000          227625\n",
              "79 2021-09-18       1.133666          0.0006     -2250          225375\n",
              "80 2021-09-19       1.131124         -0.0025      9375          234750\n",
              "81 2021-09-20       1.124281         -0.0068     25500          260250\n",
              "82 2021-09-21       1.130939          0.0067    -25125          235125\n",
              "83 2021-09-22       1.127605         -0.0033     12375          247500\n",
              "84 2021-09-23       1.130091          0.0025     -9375          238125\n",
              "85 2021-09-24       1.131692               -         -               -"
            ]
          },
          "metadata": {},
          "execution_count": 9
        }
      ]
    },
    {
      "cell_type": "markdown",
      "metadata": {
        "id": "JhHY-xMz6wWL"
      },
      "source": [
        "Gain/loss can be calculated for different scenarios of spot rate at the date of futures contract is expired. Let \\spot_scenarios\\ be  [1.11,1.12,1.13,1.14,1.15,1.16, 1.17, 1.18, 1.19, 1.20, 1.21, 1.22, 1.23, 1.24]. Company could decide not to enter a future contract and go for spot rate, the total amount of US Dollars they receive would be:"
      ]
    },
    {
      "cell_type": "code",
      "metadata": {
        "colab": {
          "base_uri": "https://localhost:8080/",
          "height": 425
        },
        "id": "URsD9MRZ6yWo",
        "outputId": "cc5806a7-50f8-4caa-bbd1-835b019ec416"
      },
      "source": [
        "SpotScenarios=np.round(np.array([1.11,1.12,1.13,1.14,1.15,1.16,1.17, 1.18, 1.19, 1.20, 1.22, 1.24]),decimals=2)\n",
        "SpotFlow = 3750000*SpotScenarios\n",
        "FutureFlow=np.round(3750000*(np.array(len(SpotScenarios)*[1.17])))\n",
        "Scenarios=pd.DataFrame({\"|Spot Price|\":SpotScenarios, \"|Cash Flow at Spot Rate|\":SpotFlow, \"|Cash Flow with Full Hedging|\":FutureFlow})\n",
        "Scenarios[\"|Total Gain/Loss|\"]=Scenarios[\"|Cash Flow with Full Hedging|\"]-Scenarios[\"|Cash Flow at Spot Rate|\"]\n",
        "Scenarios.style.hide_index().set_properties(**{'text-align': 'center'})\n",
        "Scenarios"
      ],
      "execution_count": null,
      "outputs": [
        {
          "output_type": "execute_result",
          "data": {
            "text/html": [
              "<div>\n",
              "<style scoped>\n",
              "    .dataframe tbody tr th:only-of-type {\n",
              "        vertical-align: middle;\n",
              "    }\n",
              "\n",
              "    .dataframe tbody tr th {\n",
              "        vertical-align: top;\n",
              "    }\n",
              "\n",
              "    .dataframe thead th {\n",
              "        text-align: right;\n",
              "    }\n",
              "</style>\n",
              "<table border=\"1\" class=\"dataframe\">\n",
              "  <thead>\n",
              "    <tr style=\"text-align: right;\">\n",
              "      <th></th>\n",
              "      <th>|Spot Price|</th>\n",
              "      <th>|Cash Flow at Spot Rate|</th>\n",
              "      <th>|Cash Flow with Full Hedging|</th>\n",
              "      <th>|Total Gain/Loss|</th>\n",
              "    </tr>\n",
              "  </thead>\n",
              "  <tbody>\n",
              "    <tr>\n",
              "      <th>0</th>\n",
              "      <td>1.11</td>\n",
              "      <td>4162500.0</td>\n",
              "      <td>4387500.0</td>\n",
              "      <td>225000.0</td>\n",
              "    </tr>\n",
              "    <tr>\n",
              "      <th>1</th>\n",
              "      <td>1.12</td>\n",
              "      <td>4200000.0</td>\n",
              "      <td>4387500.0</td>\n",
              "      <td>187500.0</td>\n",
              "    </tr>\n",
              "    <tr>\n",
              "      <th>2</th>\n",
              "      <td>1.13</td>\n",
              "      <td>4237500.0</td>\n",
              "      <td>4387500.0</td>\n",
              "      <td>150000.0</td>\n",
              "    </tr>\n",
              "    <tr>\n",
              "      <th>3</th>\n",
              "      <td>1.14</td>\n",
              "      <td>4275000.0</td>\n",
              "      <td>4387500.0</td>\n",
              "      <td>112500.0</td>\n",
              "    </tr>\n",
              "    <tr>\n",
              "      <th>4</th>\n",
              "      <td>1.15</td>\n",
              "      <td>4312500.0</td>\n",
              "      <td>4387500.0</td>\n",
              "      <td>75000.0</td>\n",
              "    </tr>\n",
              "    <tr>\n",
              "      <th>5</th>\n",
              "      <td>1.16</td>\n",
              "      <td>4350000.0</td>\n",
              "      <td>4387500.0</td>\n",
              "      <td>37500.0</td>\n",
              "    </tr>\n",
              "    <tr>\n",
              "      <th>6</th>\n",
              "      <td>1.17</td>\n",
              "      <td>4387500.0</td>\n",
              "      <td>4387500.0</td>\n",
              "      <td>0.0</td>\n",
              "    </tr>\n",
              "    <tr>\n",
              "      <th>7</th>\n",
              "      <td>1.18</td>\n",
              "      <td>4425000.0</td>\n",
              "      <td>4387500.0</td>\n",
              "      <td>-37500.0</td>\n",
              "    </tr>\n",
              "    <tr>\n",
              "      <th>8</th>\n",
              "      <td>1.19</td>\n",
              "      <td>4462500.0</td>\n",
              "      <td>4387500.0</td>\n",
              "      <td>-75000.0</td>\n",
              "    </tr>\n",
              "    <tr>\n",
              "      <th>9</th>\n",
              "      <td>1.20</td>\n",
              "      <td>4500000.0</td>\n",
              "      <td>4387500.0</td>\n",
              "      <td>-112500.0</td>\n",
              "    </tr>\n",
              "    <tr>\n",
              "      <th>10</th>\n",
              "      <td>1.22</td>\n",
              "      <td>4575000.0</td>\n",
              "      <td>4387500.0</td>\n",
              "      <td>-187500.0</td>\n",
              "    </tr>\n",
              "    <tr>\n",
              "      <th>11</th>\n",
              "      <td>1.24</td>\n",
              "      <td>4650000.0</td>\n",
              "      <td>4387500.0</td>\n",
              "      <td>-262500.0</td>\n",
              "    </tr>\n",
              "  </tbody>\n",
              "</table>\n",
              "</div>"
            ],
            "text/plain": [
              "    |Spot Price|  ...  |Total Gain/Loss|\n",
              "0           1.11  ...           225000.0\n",
              "1           1.12  ...           187500.0\n",
              "2           1.13  ...           150000.0\n",
              "3           1.14  ...           112500.0\n",
              "4           1.15  ...            75000.0\n",
              "5           1.16  ...            37500.0\n",
              "6           1.17  ...                0.0\n",
              "7           1.18  ...           -37500.0\n",
              "8           1.19  ...           -75000.0\n",
              "9           1.20  ...          -112500.0\n",
              "10          1.22  ...          -187500.0\n",
              "11          1.24  ...          -262500.0\n",
              "\n",
              "[12 rows x 4 columns]"
            ]
          },
          "metadata": {},
          "execution_count": 10
        }
      ]
    },
    {
      "cell_type": "code",
      "metadata": {
        "colab": {
          "base_uri": "https://localhost:8080/",
          "height": 246
        },
        "id": "KekvWhzpGTvy",
        "outputId": "44ada586-c816-421a-dac6-bedd4243f709"
      },
      "source": [
        "fig = plt.figure(figsize=(9,3))\n",
        "fig.add_subplot(121)\n",
        "ft2 = plt.axes()\n",
        "ft2.plot(Scenarios[\"|Spot Price|\"].head(7), Scenarios[\"|Total Gain/Loss|\"].head(7), color='g')\n",
        "ft2.plot(Scenarios[\"|Spot Price|\"].tail(6), Scenarios[\"|Total Gain/Loss|\"].tail(6), color='r')\n",
        "plt.title(\"Gain/Losses under different scenarios for spot rate\", fontsize=16)\n",
        "plt.xlabel('Spot Rate', fontsize=12)\n",
        "plt.ylabel('Gain/Loss ($)', fontsize=12)\n",
        "plt.grid(linestyle = '--', linewidth = 0.3)\n"
      ],
      "execution_count": null,
      "outputs": [
        {
          "output_type": "display_data",
          "data": {
            "image/png": "[encoded data removed]",
            "text/plain": [
              "<Figure size 648x216 with 1 Axes>"
            ]
          },
          "metadata": {
            "needs_background": "light"
          }
        }
      ]
    },
    {
      "cell_type": "code",
      "metadata": {
        "id": "0YinuVEJ8Hr5"
      },
      "source": [
        "SpotPriceAtExpiry=priceGenerated[len(priceGenerated)-2]"
      ],
      "execution_count": null,
      "outputs": []
    },
    {
      "cell_type": "markdown",
      "metadata": {
        "id": "zuxm0P16D9nT"
      },
      "source": [
        "Simulated exchange rate has price SpotPriceAtExpiry at expiry date. Hedging does not have to be full, it can be partial, so total gain/lose can be calculated under different hedge ratios.Hedge ratio refers to proportion of total amount hedged. A sensitivity analysis is made to calculate gain/loses for ten different cases from 0% to 100% of hedge ratio."
      ]
    },
    {
      "cell_type": "code",
      "metadata": {
        "id": "BhG4p5w_D02M"
      },
      "source": [
        "hedgeRatios=[0.0,0.1,0.2,0.3,0.4,0.5,0.6,0.7,0.8,0.9,1.0]\n",
        "hedgeRatiosPercentage=100*np.array(hedgeRatios)\n",
        "hedgeRatiosPercentage=list(hedgeRatiosPercentage)\n",
        "totalFlow=[]\n",
        "for i in range(len(hedgeRatios)):\n",
        "    totalFlow.append(Scenarios[\"|Cash Flow with Full Hedging|\"][0]*hedgeRatios[i]+ \\\n",
        "    (1-hedgeRatios[i])*Scenarios[\"|Cash Flow at Spot Rate|\"][0])  "
      ],
      "execution_count": null,
      "outputs": []
    },
    {
      "cell_type": "code",
      "metadata": {
        "colab": {
          "base_uri": "https://localhost:8080/",
          "height": 394
        },
        "id": "85VhU1VuUrYP",
        "outputId": "cafa0e91-aebc-4ea0-cd1e-c6bff4acbf1a"
      },
      "source": [
        "SensitivityAnalysis=pd.DataFrame({\"Hedge Ratio (%)\":hedgeRatiosPercentage,\"Total Cash Flow ($)\":totalFlow})\n",
        "SensitivityAnalysis"
      ],
      "execution_count": null,
      "outputs": [
        {
          "output_type": "execute_result",
          "data": {
            "text/html": [
              "<div>\n",
              "<style scoped>\n",
              "    .dataframe tbody tr th:only-of-type {\n",
              "        vertical-align: middle;\n",
              "    }\n",
              "\n",
              "    .dataframe tbody tr th {\n",
              "        vertical-align: top;\n",
              "    }\n",
              "\n",
              "    .dataframe thead th {\n",
              "        text-align: right;\n",
              "    }\n",
              "</style>\n",
              "<table border=\"1\" class=\"dataframe\">\n",
              "  <thead>\n",
              "    <tr style=\"text-align: right;\">\n",
              "      <th></th>\n",
              "      <th>Hedge Ratio (%)</th>\n",
              "      <th>Total Cash Flow ($)</th>\n",
              "    </tr>\n",
              "  </thead>\n",
              "  <tbody>\n",
              "    <tr>\n",
              "      <th>0</th>\n",
              "      <td>0.0</td>\n",
              "      <td>4162500.0</td>\n",
              "    </tr>\n",
              "    <tr>\n",
              "      <th>1</th>\n",
              "      <td>10.0</td>\n",
              "      <td>4185000.0</td>\n",
              "    </tr>\n",
              "    <tr>\n",
              "      <th>2</th>\n",
              "      <td>20.0</td>\n",
              "      <td>4207500.0</td>\n",
              "    </tr>\n",
              "    <tr>\n",
              "      <th>3</th>\n",
              "      <td>30.0</td>\n",
              "      <td>4230000.0</td>\n",
              "    </tr>\n",
              "    <tr>\n",
              "      <th>4</th>\n",
              "      <td>40.0</td>\n",
              "      <td>4252500.0</td>\n",
              "    </tr>\n",
              "    <tr>\n",
              "      <th>5</th>\n",
              "      <td>50.0</td>\n",
              "      <td>4275000.0</td>\n",
              "    </tr>\n",
              "    <tr>\n",
              "      <th>6</th>\n",
              "      <td>60.0</td>\n",
              "      <td>4297500.0</td>\n",
              "    </tr>\n",
              "    <tr>\n",
              "      <th>7</th>\n",
              "      <td>70.0</td>\n",
              "      <td>4320000.0</td>\n",
              "    </tr>\n",
              "    <tr>\n",
              "      <th>8</th>\n",
              "      <td>80.0</td>\n",
              "      <td>4342500.0</td>\n",
              "    </tr>\n",
              "    <tr>\n",
              "      <th>9</th>\n",
              "      <td>90.0</td>\n",
              "      <td>4365000.0</td>\n",
              "    </tr>\n",
              "    <tr>\n",
              "      <th>10</th>\n",
              "      <td>100.0</td>\n",
              "      <td>4387500.0</td>\n",
              "    </tr>\n",
              "  </tbody>\n",
              "</table>\n",
              "</div>"
            ],
            "text/plain": [
              "    Hedge Ratio (%)  Total Cash Flow ($)\n",
              "0               0.0            4162500.0\n",
              "1              10.0            4185000.0\n",
              "2              20.0            4207500.0\n",
              "3              30.0            4230000.0\n",
              "4              40.0            4252500.0\n",
              "5              50.0            4275000.0\n",
              "6              60.0            4297500.0\n",
              "7              70.0            4320000.0\n",
              "8              80.0            4342500.0\n",
              "9              90.0            4365000.0\n",
              "10            100.0            4387500.0"
            ]
          },
          "metadata": {},
          "execution_count": 14
        }
      ]
    },
    {
      "cell_type": "markdown",
      "metadata": {
        "id": "P5NjI27pMm3a"
      },
      "source": [
        "Here gains are visualized under different hedge ratios with spot price at expiry."
      ]
    },
    {
      "cell_type": "code",
      "metadata": {
        "colab": {
          "base_uri": "https://localhost:8080/",
          "height": 317
        },
        "id": "o9i7OR1VEEN3",
        "outputId": "7e1082ec-f187-41cf-9fb5-26722e31c26c"
      },
      "source": [
        "plt.plot(SensitivityAnalysis[\"Hedge Ratio (%)\"], SensitivityAnalysis[\"Total Cash Flow ($)\"])\n",
        "plt.title('Total cash flow with different hedge ratio', fontsize=14)\n",
        "plt.xlabel('Hedge Ratio (%)', fontsize=12)\n",
        "plt.ylabel('Total Cash Flow ($) in millions', fontsize=12)\n"
      ],
      "execution_count": null,
      "outputs": [
        {
          "output_type": "execute_result",
          "data": {
            "text/plain": [
              "Text(0, 0.5, 'Total Cash Flow ($) in millions')"
            ]
          },
          "metadata": {},
          "execution_count": 15
        },
        {
          "output_type": "display_data",
          "data": {
            "image/png": "[encoded data removed]",
            "text/plain": [
              "<Figure size 432x288 with 1 Axes>"
            ]
          },
          "metadata": {
            "needs_background": "light"
          }
        }
      ]
    }
  ]
}