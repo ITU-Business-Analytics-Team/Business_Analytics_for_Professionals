{
  "nbformat": 4,
  "nbformat_minor": 0,
  "metadata": {
    "colab": {
      "name": "11.6. Aggregate Production Planning.ipynb",
      "provenance": [],
      "collapsed_sections": [],
      "include_colab_link": true
    },
    "kernelspec": {
      "name": "python3",
      "display_name": "Python 3"
    },
    "language_info": {
      "name": "python"
    }
  },
  "cells": [
    {
      "cell_type": "markdown",
      "metadata": {
        "id": "view-in-github",
        "colab_type": "text"
      },
      "source": [
        "<a href=\"https://colab.research.google.com/github/ITU-Business-Analytics-Team/Business_Analytics_for_Professionals/blob/main/Part%20II%20%3A%20Business%20Applications/Chapter%2011%3A%20Supply%20Chain%20Analytics/11_6_Aggregate_Production_Planning.ipynb\" target=\"_parent\"><img src=\"https://colab.research.google.com/assets/colab-badge.svg\" alt=\"Open In Colab\"/></a>"
      ]
    },
    {
      "cell_type": "markdown",
      "metadata": {
        "id": "2EqZFsPLUgKq"
      },
      "source": [
        "# **Supply Chain Analytics**\n",
        "## Aggregate Production Planning"
      ]
    },
    {
      "cell_type": "markdown",
      "metadata": {
        "id": "B97it8eIUetb"
      },
      "source": [
        "### **Case Study: A bicycle production company**"
      ]
    },
    {
      "cell_type": "code",
      "metadata": {
        "id": "B-bWfLOEQYJF"
      },
      "source": [
        "import numpy as np\n",
        "import pandas as pd\n",
        "import math\n",
        "from IPython.display import display\n",
        "import matplotlib.pyplot as plt"
      ],
      "execution_count": null,
      "outputs": []
    },
    {
      "cell_type": "code",
      "metadata": {
        "colab": {
          "base_uri": "https://localhost:8080/"
        },
        "id": "gloYWA3PSdrn",
        "outputId": "11acee34-f161-406d-944d-d7e55082fc6c"
      },
      "source": [
        "# Import Demand Forecast Data\n",
        "\n",
        "url=\"https://docs.google.com/spreadsheets/d/1JJ3iffPxOgLvVSCvhXBijmsXa2s7qONy/edit?usp=sharing&ouid=108589602591644119588&rtpof=true&sd=true\"\n",
        "path = 'https://drive.google.com/uc?export=download&id='+url.split('/')[-2]\n",
        "D = pd.read_excel(path, header=None) #product demands\n",
        "\n",
        "num_of_periods=D.shape[1] #Currently there are 15 periods\n",
        "num_of_products=D.shape[0] #Currently there are 3 type of product families\n",
        "\n",
        "for i in range(num_of_periods):\n",
        "  D.columns=['Period {}'.format(i+1) for i in range(num_of_periods)]\n",
        "for i in range(num_of_products):\n",
        "  D.index=['Product {}'.format(i+1) for i in range(num_of_products)]\n",
        "  \n",
        "D.head()"
      ],
      "execution_count": null,
      "outputs": [
        {
          "output_type": "execute_result",
          "data": {
            "text/html": [
              "<div>\n",
              "<style scoped>\n",
              "    .dataframe tbody tr th:only-of-type {\n",
              "        vertical-align: middle;\n",
              "    }\n",
              "\n",
              "    .dataframe tbody tr th {\n",
              "        vertical-align: top;\n",
              "    }\n",
              "\n",
              "    .dataframe thead th {\n",
              "        text-align: right;\n",
              "    }\n",
              "</style>\n",
              "<table border=\"1\" class=\"dataframe\">\n",
              "  <thead>\n",
              "    <tr style=\"text-align: right;\">\n",
              "      <th></th>\n",
              "      <th>Period 1</th>\n",
              "      <th>Period 2</th>\n",
              "      <th>Period 3</th>\n",
              "      <th>Period 4</th>\n",
              "      <th>Period 5</th>\n",
              "      <th>Period 6</th>\n",
              "      <th>Period 7</th>\n",
              "      <th>Period 8</th>\n",
              "      <th>Period 9</th>\n",
              "      <th>Period 10</th>\n",
              "      <th>Period 11</th>\n",
              "      <th>Period 12</th>\n",
              "      <th>Period 13</th>\n",
              "      <th>Period 14</th>\n",
              "      <th>Period 15</th>\n",
              "    </tr>\n",
              "  </thead>\n",
              "  <tbody>\n",
              "    <tr>\n",
              "      <th>Product 1</th>\n",
              "      <td>1000</td>\n",
              "      <td>3300</td>\n",
              "      <td>5800</td>\n",
              "      <td>3200</td>\n",
              "      <td>2200</td>\n",
              "      <td>1000</td>\n",
              "      <td>1500</td>\n",
              "      <td>2400</td>\n",
              "      <td>3000</td>\n",
              "      <td>3500</td>\n",
              "      <td>4400</td>\n",
              "      <td>6000</td>\n",
              "      <td>5500</td>\n",
              "      <td>3000</td>\n",
              "      <td>2200</td>\n",
              "    </tr>\n",
              "    <tr>\n",
              "      <th>Product 2</th>\n",
              "      <td>2000</td>\n",
              "      <td>3600</td>\n",
              "      <td>4200</td>\n",
              "      <td>2300</td>\n",
              "      <td>3300</td>\n",
              "      <td>1000</td>\n",
              "      <td>1600</td>\n",
              "      <td>3500</td>\n",
              "      <td>3400</td>\n",
              "      <td>3500</td>\n",
              "      <td>2700</td>\n",
              "      <td>5000</td>\n",
              "      <td>5700</td>\n",
              "      <td>4500</td>\n",
              "      <td>5600</td>\n",
              "    </tr>\n",
              "    <tr>\n",
              "      <th>Product 3</th>\n",
              "      <td>1500</td>\n",
              "      <td>2500</td>\n",
              "      <td>1600</td>\n",
              "      <td>4200</td>\n",
              "      <td>2000</td>\n",
              "      <td>2000</td>\n",
              "      <td>1700</td>\n",
              "      <td>2000</td>\n",
              "      <td>3000</td>\n",
              "      <td>3700</td>\n",
              "      <td>1800</td>\n",
              "      <td>5000</td>\n",
              "      <td>5700</td>\n",
              "      <td>1000</td>\n",
              "      <td>1600</td>\n",
              "    </tr>\n",
              "  </tbody>\n",
              "</table>\n",
              "</div>"
            ],
            "text/plain": [
              "           Period 1  Period 2  Period 3  ...  Period 13  Period 14  Period 15\n",
              "Product 1      1000      3300      5800  ...       5500       3000       2200\n",
              "Product 2      2000      3600      4200  ...       5700       4500       5600\n",
              "Product 3      1500      2500      1600  ...       5700       1000       1600\n",
              "\n",
              "[3 rows x 15 columns]"
            ]
          },
          "metadata": {},
          "execution_count": 2
        }
      ]
    },
    {
      "cell_type": "markdown",
      "metadata": {
        "id": "sNidDKDQSUnV"
      },
      "source": [
        "We have demand data of 3 different products for 15 periods as given above.\n",
        "\n"
      ]
    },
    {
      "cell_type": "markdown",
      "metadata": {
        "id": "3EcOZpVZVrgo"
      },
      "source": [
        "All parameters related to the problem and their definitions are given in the following table.\n",
        "\n",
        "Parameter Name  | Parameter Description \n",
        "-------------------|------------------\n",
        "$t$ | 1,2,...,T where T is the planning horizon\n",
        "$i$ | 1,2,...,I where I is the number of product families\n",
        "$D_{it}$ | Product demand for product $i$ in time $t$\n",
        "$R_i$       |The number of units for product $i$ that one worker can produce in a period on regular time\n",
        "$O_i$ | The number of units for product $i$ that one worker can produce in a period on overtime\n",
        "$II_i$ | The initial inventory level for product $i$\n",
        "$DI_i$ | The desired inventory level at the end of the planning horizon for product $i$\n",
        "$CR_i$ | The unit production cost for product $i$ per period on regular time\n",
        "$CO_i$ | The unit production cost for product $i$ per period on overtime\n",
        "$CS_i$ | The unit production cost for product $i$ per period on subcontracting\n",
        "$CK_i$ | The cost per period of carrying one unit of inventory for product $i$\n",
        "$IW$ | The initial workforce level\n",
        "$DW$ | The desired workforce level at the end of the planning horizon\n",
        "$CH$ | The cost of hiring a worker \n",
        "$CF$ | The cost of firing a worker\n",
        "$CW$ | The wage cost of a worker in a period\n",
        "\n",
        "\n",
        "\n"
      ]
    },
    {
      "cell_type": "code",
      "metadata": {
        "id": "abMkKyNHtAdY",
        "colab": {
          "base_uri": "https://localhost:8080/"
        },
        "outputId": "3ec9771d-ab7e-4c29-e4ca-3d3ee2c49afb"
      },
      "source": [
        "# Import Parameters\n",
        "\n",
        "url = \"https://docs.google.com/spreadsheets/d/1AV4Cn4ocg-Zqqv3C1t-KiVnds19aMejq/edit?usp=sharing&ouid=116301364204212013828&rtpof=true&sd=true\"\n",
        "path = 'https://drive.google.com/uc?export=download&id='+url.split('/')[-2]\n",
        "parameters = pd.read_excel(path)\n",
        "for i in range(num_of_products):\n",
        "  parameters.index=['Product {}'.format(i+1) for i in range(num_of_products)]\n",
        "parameters.head()"
      ],
      "execution_count": null,
      "outputs": [
        {
          "output_type": "execute_result",
          "data": {
            "text/html": [
              "<div>\n",
              "<style scoped>\n",
              "    .dataframe tbody tr th:only-of-type {\n",
              "        vertical-align: middle;\n",
              "    }\n",
              "\n",
              "    .dataframe tbody tr th {\n",
              "        vertical-align: top;\n",
              "    }\n",
              "\n",
              "    .dataframe thead th {\n",
              "        text-align: right;\n",
              "    }\n",
              "</style>\n",
              "<table border=\"1\" class=\"dataframe\">\n",
              "  <thead>\n",
              "    <tr style=\"text-align: right;\">\n",
              "      <th></th>\n",
              "      <th>R</th>\n",
              "      <th>O</th>\n",
              "      <th>II</th>\n",
              "      <th>DI</th>\n",
              "      <th>CR</th>\n",
              "      <th>CO</th>\n",
              "      <th>CS</th>\n",
              "      <th>CK</th>\n",
              "    </tr>\n",
              "  </thead>\n",
              "  <tbody>\n",
              "    <tr>\n",
              "      <th>Product 1</th>\n",
              "      <td>10</td>\n",
              "      <td>8</td>\n",
              "      <td>1000</td>\n",
              "      <td>0</td>\n",
              "      <td>30</td>\n",
              "      <td>40</td>\n",
              "      <td>500</td>\n",
              "      <td>15</td>\n",
              "    </tr>\n",
              "    <tr>\n",
              "      <th>Product 2</th>\n",
              "      <td>8</td>\n",
              "      <td>6</td>\n",
              "      <td>1150</td>\n",
              "      <td>0</td>\n",
              "      <td>35</td>\n",
              "      <td>44</td>\n",
              "      <td>550</td>\n",
              "      <td>20</td>\n",
              "    </tr>\n",
              "    <tr>\n",
              "      <th>Product 3</th>\n",
              "      <td>9</td>\n",
              "      <td>7</td>\n",
              "      <td>1800</td>\n",
              "      <td>0</td>\n",
              "      <td>20</td>\n",
              "      <td>38</td>\n",
              "      <td>440</td>\n",
              "      <td>13</td>\n",
              "    </tr>\n",
              "  </tbody>\n",
              "</table>\n",
              "</div>"
            ],
            "text/plain": [
              "            R  O    II  DI  CR  CO   CS  CK\n",
              "Product 1  10  8  1000   0  30  40  500  15\n",
              "Product 2   8  6  1150   0  35  44  550  20\n",
              "Product 3   9  7  1800   0  20  38  440  13"
            ]
          },
          "metadata": {},
          "execution_count": 3
        }
      ]
    },
    {
      "cell_type": "code",
      "metadata": {
        "id": "ZzOzWC3mcdgG"
      },
      "source": [
        "IW=100\n",
        "DW=140\n",
        "CH=3500\n",
        "CF=1000\n",
        "CW=4000"
      ],
      "execution_count": null,
      "outputs": []
    },
    {
      "cell_type": "markdown",
      "metadata": {
        "id": "9SG-hKCfy31J"
      },
      "source": [
        "Decision variables are given below.\n",
        "\n",
        "Decision Variable Name  | Decision Variable Description \n",
        "-------------------|------------------\n",
        "$H_{t}$       | The number of workers hired in period $t$\n",
        "$F_{t}$       | The number of workers fired in period $t$\n",
        "$W_{t}$       |The number of workers employed in period $t$\n",
        "$r_{it}$ | The number of units produced for product $i$ on regular time in period $t$\n",
        "$o_{it}$ | The number of units produced for product $i$ on overtime in period $t$\n",
        "$s_{it}$ | The number of units produced for product $i$ on subcontracting in period $t$\n",
        "$k_{it}$ | The number of units stored for product $i$ in inventory at the end of period $t$\n",
        "\n",
        "Objective is minimizing the total cost of hiring, firing, wages, total regular time, extra time, subcontracting and transporation."
      ]
    },
    {
      "cell_type": "code",
      "metadata": {
        "colab": {
          "base_uri": "https://localhost:8080/"
        },
        "id": "tyVpy-5tiflQ",
        "outputId": "8d83c87d-3a15-43cd-9dce-2581c02cfb6d"
      },
      "source": [
        "#Linear Programming with Minimization Objective\n",
        "\n",
        "!pip install pulp\n",
        "import pulp as plp\n",
        "from pulp import LpProblem, LpVariable, LpMinimize,LpStatus, lpSum"
      ],
      "execution_count": null,
      "outputs": [
        {
          "output_type": "stream",
          "name": "stdout",
          "text": [
            "Collecting pulp\n",
            "  Downloading PuLP-2.5.1-py3-none-any.whl (41.2 MB)\n",
            "\u001b[K     |████████████████████████████████| 41.2 MB 76 kB/s \n",
            "\u001b[?25hInstalling collected packages: pulp\n",
            "Successfully installed pulp-2.5.1\n"
          ]
        }
      ]
    },
    {
      "cell_type": "code",
      "metadata": {
        "id": "JL6fXWwDjVNu"
      },
      "source": [
        "# Create the model\n",
        "model = LpProblem(name=\"production-scheduling-problem\", sense=LpMinimize)\n",
        "\n",
        "# Initialize the decision variables\n",
        "H = {t: plp.LpVariable(name=f\"H_{t}\", lowBound=0, cat=plp.LpInteger) for t in range(1, num_of_periods+1)} #range function does not involve the last term\n",
        "F = {t: plp.LpVariable(name=f\"F_{t}\", lowBound=0, cat=plp.LpInteger) for t in range(1, num_of_periods+1)} \n",
        "W = {t: plp.LpVariable(name=f\"W_{t}\", lowBound=0, cat=plp.LpInteger) for t in range(num_of_periods+1)}\n",
        "r = {(i,t): plp.LpVariable(name=f\"r_{i}_{t}\", lowBound=0, cat=plp.LpInteger) for i in range(1,num_of_products+1) for t in range(1, num_of_periods+1)}\n",
        "o = {(i,t): plp.LpVariable(name=f\"o_{i}_{t}\", lowBound=0, cat=plp.LpInteger) for i in range(1,num_of_products+1) for t in range(1, num_of_periods+1)}\n",
        "s = {(i,t): plp.LpVariable(name=f\"s_{i}_{t}\", lowBound=0, cat=plp.LpInteger) for i in range(1,num_of_products+1) for t in range(1, num_of_periods+1)}\n",
        "k = {(i,t): plp.LpVariable(name=f\"k_{i}_{t}\", lowBound=0, cat=plp.LpInteger) for i in range(1,num_of_products+1) for t in range(num_of_periods+1)}\n",
        "\n"
      ],
      "execution_count": null,
      "outputs": []
    },
    {
      "cell_type": "code",
      "metadata": {
        "id": "Bxs2m7eb6_DQ"
      },
      "source": [
        "#Inventory Constraint\n",
        "for i in range(1,num_of_products+1):\n",
        "  for t in range(1,num_of_periods+1):\n",
        "    model += (k[i,t-1]+r[i,t]+o[i,t]+s[i,t]-D.iat[i-1,t-1]-k[i,t]==0 , \"Inventory constraint for %d and %d\" % (i,t))\n",
        "\n",
        "#Regular Time and Overtime Production Constraints\n",
        "for t in range(1,num_of_periods+1):\n",
        "  model += (plp.lpSum(r[i,t]*float(parameters.R[i-1])**(-1) for i in range(1,num_of_products+1)) <= W[t] , \"Regular time production constraints for %d\" %t )\n",
        "  model += (plp.lpSum(o[i,t]*float(parameters.O[i-1])**(-1) for i in range(1,num_of_products+1)) <= W[t] , \"Overtime production constraints for %d\" %t )   \n",
        "\n",
        "#Subcontracting Constraints\n",
        "for t in range(1,num_of_periods+1):\n",
        "  model += (plp.lpSum(s[i,t] for i in range(1,num_of_products+1)) <= 1000 , \"Subcontructing constraints for %d\" %t )\n",
        "\n",
        "#Workforce level change constraints\n",
        "for t in range(1,num_of_periods+1):\n",
        "  model += (W[t-1]+H[t]-F[t]==W[t], \"Workforce level change constraint for %d\" %t)\n",
        "\n",
        "#Initializing constraints\n",
        "model += (W[0]==IW, \"Initializing constraint of workforce level for the beginning of the time horizon\")\n",
        "model += (W[num_of_periods]==DW, \"Initializing constraint of workforce level for the end of time horizon\")\n",
        "\n",
        "for i in range(1,num_of_products+1):\n",
        "  model += (k[i,0] == parameters.II[i-1], \"Initial inventory for product family %d\" %i) \n",
        "  model += (k[i,num_of_periods] == parameters.DI[i-1], \"Ending inventory for product family %d\" %i)\n",
        "\n",
        "#Set objective\n",
        "model += plp.lpSum(CH*H[t]+CF*F[t]+CW*W[t]+parameters.CR[i-1]*r[i,t]+parameters.CO[i-1]*o[i,t]+parameters.CS[i-1]*s[i,t]+ parameters.CK[i-1]*k[i,t] for i in range(1,num_of_products+1) for t in range(1, num_of_periods+1) )"
      ],
      "execution_count": null,
      "outputs": []
    },
    {
      "cell_type": "code",
      "metadata": {
        "colab": {
          "base_uri": "https://localhost:8080/"
        },
        "id": "M2l97aQTAQel",
        "outputId": "7b37d072-8b75-4259-dead-5d6afc0dd916"
      },
      "source": [
        "#Solve model\n",
        "model.solve()\n",
        "# Get the results\n",
        "print(f\"Status: {model.status}, {LpStatus[model.status]}\")\n",
        "print(f\"Objective: {model.objective.value()}\")"
      ],
      "execution_count": null,
      "outputs": [
        {
          "output_type": "stream",
          "name": "stdout",
          "text": [
            "Status: 1, Optimal\n",
            "Objective: 109210929.0\n"
          ]
        }
      ]
    },
    {
      "cell_type": "code",
      "metadata": {
        "colab": {
          "base_uri": "https://localhost:8080/"
        },
        "id": "yZey28JY0cyN",
        "outputId": "bbbba720-0227-4e4f-cd34-877c5eb9b149"
      },
      "source": [
        "#The values of decision variables\n",
        "for v in model.variables():\n",
        "  print(v.name, \"=\", v.varValue)"
      ],
      "execution_count": null,
      "outputs": [
        {
          "output_type": "stream",
          "name": "stdout",
          "text": [
            "F_1 = 0.0\n",
            "F_10 = 0.0\n",
            "F_11 = 0.0\n",
            "F_12 = 0.0\n",
            "F_13 = 0.0\n",
            "F_14 = 0.0\n",
            "F_15 = 420.0\n",
            "F_2 = 0.0\n",
            "F_3 = 0.0\n",
            "F_4 = 0.0\n",
            "F_5 = 0.0\n",
            "F_6 = 0.0\n",
            "F_7 = 0.0\n",
            "F_8 = 0.0\n",
            "F_9 = 0.0\n",
            "H_1 = 0.0\n",
            "H_10 = 0.0\n",
            "H_11 = 0.0\n",
            "H_12 = 0.0\n",
            "H_13 = 0.0\n",
            "H_14 = 0.0\n",
            "H_15 = 0.0\n",
            "H_2 = 387.0\n",
            "H_3 = 73.0\n",
            "H_4 = 0.0\n",
            "H_5 = 0.0\n",
            "H_6 = 0.0\n",
            "H_7 = 0.0\n",
            "H_8 = 0.0\n",
            "H_9 = 0.0\n",
            "W_0 = 100.0\n",
            "W_1 = 100.0\n",
            "W_10 = 560.0\n",
            "W_11 = 560.0\n",
            "W_12 = 560.0\n",
            "W_13 = 560.0\n",
            "W_14 = 560.0\n",
            "W_15 = 140.0\n",
            "W_2 = 487.0\n",
            "W_3 = 560.0\n",
            "W_4 = 560.0\n",
            "W_5 = 560.0\n",
            "W_6 = 560.0\n",
            "W_7 = 560.0\n",
            "W_8 = 560.0\n",
            "W_9 = 560.0\n",
            "k_1_0 = 1000.0\n",
            "k_1_1 = 724.0\n",
            "k_1_10 = 2460.0\n",
            "k_1_11 = 2540.0\n",
            "k_1_12 = 1020.0\n",
            "k_1_13 = 0.0\n",
            "k_1_14 = 1080.0\n",
            "k_1_15 = 0.0\n",
            "k_1_2 = 1320.0\n",
            "k_1_3 = 0.0\n",
            "k_1_4 = 0.0\n",
            "k_1_5 = 0.0\n",
            "k_1_6 = 0.0\n",
            "k_1_7 = 4.0\n",
            "k_1_8 = 0.0\n",
            "k_1_9 = 1480.0\n",
            "k_2_0 = 1150.0\n",
            "k_2_1 = 0.0\n",
            "k_2_10 = 4.0\n",
            "k_2_11 = 2240.0\n",
            "k_2_12 = 2720.0\n",
            "k_2_13 = 2500.0\n",
            "k_2_14 = 3480.0\n",
            "k_2_15 = 0.0\n",
            "k_2_2 = 0.0\n",
            "k_2_3 = 0.0\n",
            "k_2_4 = 0.0\n",
            "k_2_5 = 1.0\n",
            "k_2_6 = 1.0\n",
            "k_2_7 = 1.0\n",
            "k_2_8 = 0.0\n",
            "k_2_9 = 0.0\n",
            "k_3_0 = 1800.0\n",
            "k_3_1 = 1316.0\n",
            "k_3_10 = 14138.0\n",
            "k_3_11 = 12950.0\n",
            "k_3_12 = 7950.0\n",
            "k_3_13 = 2250.0\n",
            "k_3_14 = 1600.0\n",
            "k_3_15 = 0.0\n",
            "k_3_2 = 160.0\n",
            "k_3_3 = 0.0\n",
            "k_3_4 = 423.0\n",
            "k_3_5 = 2869.0\n",
            "k_3_6 = 8954.0\n",
            "k_3_7 = 14223.0\n",
            "k_3_8 = 16275.0\n",
            "k_3_9 = 15615.0\n",
            "o_1_1 = 724.0\n",
            "o_1_10 = 4480.0\n",
            "o_1_11 = 4480.0\n",
            "o_1_12 = 4480.0\n",
            "o_1_13 = 4480.0\n",
            "o_1_14 = 4080.0\n",
            "o_1_15 = 1120.0\n",
            "o_1_2 = 3896.0\n",
            "o_1_3 = 4480.0\n",
            "o_1_4 = 3200.0\n",
            "o_1_5 = 2200.0\n",
            "o_1_6 = 1000.0\n",
            "o_1_7 = 1504.0\n",
            "o_1_8 = 2396.0\n",
            "o_1_9 = 4480.0\n",
            "o_2_1 = 3.0\n",
            "o_2_10 = 0.0\n",
            "o_2_11 = 0.0\n",
            "o_2_12 = 0.0\n",
            "o_2_13 = 0.0\n",
            "o_2_14 = 0.0\n",
            "o_2_15 = 0.0\n",
            "o_2_2 = 0.0\n",
            "o_2_3 = 0.0\n",
            "o_2_4 = 0.0\n",
            "o_2_5 = 0.0\n",
            "o_2_6 = 0.0\n",
            "o_2_7 = 0.0\n",
            "o_2_8 = 3.0\n",
            "o_2_9 = 0.0\n",
            "o_3_1 = 63.0\n",
            "o_3_10 = 0.0\n",
            "o_3_11 = 0.0\n",
            "o_3_12 = 0.0\n",
            "o_3_13 = 0.0\n",
            "o_3_14 = 350.0\n",
            "o_3_15 = 0.0\n",
            "o_3_2 = 0.0\n",
            "o_3_3 = 0.0\n",
            "o_3_4 = 1120.0\n",
            "o_3_5 = 1995.0\n",
            "o_3_6 = 3045.0\n",
            "o_3_7 = 2604.0\n",
            "o_3_8 = 1820.0\n",
            "o_3_9 = 0.0\n",
            "r_1_1 = 0.0\n",
            "r_1_10 = 0.0\n",
            "r_1_11 = 0.0\n",
            "r_1_12 = 0.0\n",
            "r_1_13 = 0.0\n",
            "r_1_14 = 0.0\n",
            "r_1_15 = 0.0\n",
            "r_1_2 = 0.0\n",
            "r_1_3 = 0.0\n",
            "r_1_4 = 0.0\n",
            "r_1_5 = 0.0\n",
            "r_1_6 = 0.0\n",
            "r_1_7 = 0.0\n",
            "r_1_8 = 0.0\n",
            "r_1_9 = 0.0\n",
            "r_2_1 = 800.0\n",
            "r_2_10 = 2504.0\n",
            "r_2_11 = 3936.0\n",
            "r_2_12 = 4480.0\n",
            "r_2_13 = 4480.0\n",
            "r_2_14 = 4480.0\n",
            "r_2_15 = 1120.0\n",
            "r_2_2 = 3512.0\n",
            "r_2_3 = 3200.0\n",
            "r_2_4 = 1896.0\n",
            "r_2_5 = 2304.0\n",
            "r_2_6 = 0.0\n",
            "r_2_7 = 600.0\n",
            "r_2_8 = 2496.0\n",
            "r_2_9 = 2400.0\n",
            "r_3_1 = 0.0\n",
            "r_3_10 = 2223.0\n",
            "r_3_11 = 612.0\n",
            "r_3_12 = 0.0\n",
            "r_3_13 = 0.0\n",
            "r_3_14 = 0.0\n",
            "r_3_15 = 0.0\n",
            "r_3_2 = 432.0\n",
            "r_3_3 = 1440.0\n",
            "r_3_4 = 2907.0\n",
            "r_3_5 = 2448.0\n",
            "r_3_6 = 5040.0\n",
            "r_3_7 = 4365.0\n",
            "r_3_8 = 2232.0\n",
            "r_3_9 = 2340.0\n",
            "s_1_1 = 0.0\n",
            "s_1_10 = 0.0\n",
            "s_1_11 = 0.0\n",
            "s_1_12 = 0.0\n",
            "s_1_13 = 0.0\n",
            "s_1_14 = 0.0\n",
            "s_1_15 = 0.0\n",
            "s_1_2 = 0.0\n",
            "s_1_3 = 0.0\n",
            "s_1_4 = 0.0\n",
            "s_1_5 = 0.0\n",
            "s_1_6 = 0.0\n",
            "s_1_7 = 0.0\n",
            "s_1_8 = 0.0\n",
            "s_1_9 = 0.0\n",
            "s_2_1 = 47.0\n",
            "s_2_10 = 1000.0\n",
            "s_2_11 = 1000.0\n",
            "s_2_12 = 1000.0\n",
            "s_2_13 = 1000.0\n",
            "s_2_14 = 1000.0\n",
            "s_2_15 = 1000.0\n",
            "s_2_2 = 88.0\n",
            "s_2_3 = 1000.0\n",
            "s_2_4 = 404.0\n",
            "s_2_5 = 997.0\n",
            "s_2_6 = 1000.0\n",
            "s_2_7 = 1000.0\n",
            "s_2_8 = 1000.0\n",
            "s_2_9 = 1000.0\n",
            "s_3_1 = 953.0\n",
            "s_3_10 = 0.0\n",
            "s_3_11 = 0.0\n",
            "s_3_12 = 0.0\n",
            "s_3_13 = 0.0\n",
            "s_3_14 = 0.0\n",
            "s_3_15 = 0.0\n",
            "s_3_2 = 912.0\n",
            "s_3_3 = 0.0\n",
            "s_3_4 = 596.0\n",
            "s_3_5 = 3.0\n",
            "s_3_6 = 0.0\n",
            "s_3_7 = 0.0\n",
            "s_3_8 = 0.0\n",
            "s_3_9 = 0.0\n"
          ]
        }
      ]
    },
    {
      "cell_type": "code",
      "metadata": {
        "id": "ma44-h040tmU",
        "colab": {
          "base_uri": "https://localhost:8080/"
        },
        "outputId": "22cd4935-8d08-481a-a397-dc073c784f28"
      },
      "source": [
        "#To check the constraints\n",
        "for c in model.constraints:\n",
        "  print(model.constraints[c])"
      ],
      "execution_count": null,
      "outputs": [
        {
          "output_type": "stream",
          "name": "stdout",
          "text": [
            "k_1_0 - k_1_1 + o_1_1 + r_1_1 + s_1_1 = 1000\n",
            "k_1_1 - k_1_2 + o_1_2 + r_1_2 + s_1_2 = 3300\n",
            "k_1_2 - k_1_3 + o_1_3 + r_1_3 + s_1_3 = 5800\n",
            "k_1_3 - k_1_4 + o_1_4 + r_1_4 + s_1_4 = 3200\n",
            "k_1_4 - k_1_5 + o_1_5 + r_1_5 + s_1_5 = 2200\n",
            "k_1_5 - k_1_6 + o_1_6 + r_1_6 + s_1_6 = 1000\n",
            "k_1_6 - k_1_7 + o_1_7 + r_1_7 + s_1_7 = 1500\n",
            "k_1_7 - k_1_8 + o_1_8 + r_1_8 + s_1_8 = 2400\n",
            "k_1_8 - k_1_9 + o_1_9 + r_1_9 + s_1_9 = 3000\n",
            "-k_1_10 + k_1_9 + o_1_10 + r_1_10 + s_1_10 = 3500\n",
            "k_1_10 - k_1_11 + o_1_11 + r_1_11 + s_1_11 = 4400\n",
            "k_1_11 - k_1_12 + o_1_12 + r_1_12 + s_1_12 = 6000\n",
            "k_1_12 - k_1_13 + o_1_13 + r_1_13 + s_1_13 = 5500\n",
            "k_1_13 - k_1_14 + o_1_14 + r_1_14 + s_1_14 = 3000\n",
            "k_1_14 - k_1_15 + o_1_15 + r_1_15 + s_1_15 = 2200\n",
            "k_2_0 - k_2_1 + o_2_1 + r_2_1 + s_2_1 = 2000\n",
            "k_2_1 - k_2_2 + o_2_2 + r_2_2 + s_2_2 = 3600\n",
            "k_2_2 - k_2_3 + o_2_3 + r_2_3 + s_2_3 = 4200\n",
            "k_2_3 - k_2_4 + o_2_4 + r_2_4 + s_2_4 = 2300\n",
            "k_2_4 - k_2_5 + o_2_5 + r_2_5 + s_2_5 = 3300\n",
            "k_2_5 - k_2_6 + o_2_6 + r_2_6 + s_2_6 = 1000\n",
            "k_2_6 - k_2_7 + o_2_7 + r_2_7 + s_2_7 = 1600\n",
            "k_2_7 - k_2_8 + o_2_8 + r_2_8 + s_2_8 = 3500\n",
            "k_2_8 - k_2_9 + o_2_9 + r_2_9 + s_2_9 = 3400\n",
            "-k_2_10 + k_2_9 + o_2_10 + r_2_10 + s_2_10 = 3500\n",
            "k_2_10 - k_2_11 + o_2_11 + r_2_11 + s_2_11 = 2700\n",
            "k_2_11 - k_2_12 + o_2_12 + r_2_12 + s_2_12 = 5000\n",
            "k_2_12 - k_2_13 + o_2_13 + r_2_13 + s_2_13 = 5700\n",
            "k_2_13 - k_2_14 + o_2_14 + r_2_14 + s_2_14 = 4500\n",
            "k_2_14 - k_2_15 + o_2_15 + r_2_15 + s_2_15 = 5600\n",
            "k_3_0 - k_3_1 + o_3_1 + r_3_1 + s_3_1 = 1500\n",
            "k_3_1 - k_3_2 + o_3_2 + r_3_2 + s_3_2 = 2500\n",
            "k_3_2 - k_3_3 + o_3_3 + r_3_3 + s_3_3 = 1600\n",
            "k_3_3 - k_3_4 + o_3_4 + r_3_4 + s_3_4 = 4200\n",
            "k_3_4 - k_3_5 + o_3_5 + r_3_5 + s_3_5 = 2000\n",
            "k_3_5 - k_3_6 + o_3_6 + r_3_6 + s_3_6 = 2000\n",
            "k_3_6 - k_3_7 + o_3_7 + r_3_7 + s_3_7 = 1700\n",
            "k_3_7 - k_3_8 + o_3_8 + r_3_8 + s_3_8 = 2000\n",
            "k_3_8 - k_3_9 + o_3_9 + r_3_9 + s_3_9 = 3000\n",
            "-k_3_10 + k_3_9 + o_3_10 + r_3_10 + s_3_10 = 3700\n",
            "k_3_10 - k_3_11 + o_3_11 + r_3_11 + s_3_11 = 1800\n",
            "k_3_11 - k_3_12 + o_3_12 + r_3_12 + s_3_12 = 5000\n",
            "k_3_12 - k_3_13 + o_3_13 + r_3_13 + s_3_13 = 5700\n",
            "k_3_13 - k_3_14 + o_3_14 + r_3_14 + s_3_14 = 1000\n",
            "k_3_14 - k_3_15 + o_3_15 + r_3_15 + s_3_15 = 1600\n",
            "-W_1 + 0.1*r_1_1 + 0.125*r_2_1 + 0.1111111111111111*r_3_1 <= -0.0\n",
            "-W_1 + 0.125*o_1_1 + 0.16666666666666666*o_2_1 + 0.14285714285714285*o_3_1 <= -0.0\n",
            "-W_2 + 0.1*r_1_2 + 0.125*r_2_2 + 0.1111111111111111*r_3_2 <= -0.0\n",
            "-W_2 + 0.125*o_1_2 + 0.16666666666666666*o_2_2 + 0.14285714285714285*o_3_2 <= -0.0\n",
            "-W_3 + 0.1*r_1_3 + 0.125*r_2_3 + 0.1111111111111111*r_3_3 <= -0.0\n",
            "-W_3 + 0.125*o_1_3 + 0.16666666666666666*o_2_3 + 0.14285714285714285*o_3_3 <= -0.0\n",
            "-W_4 + 0.1*r_1_4 + 0.125*r_2_4 + 0.1111111111111111*r_3_4 <= -0.0\n",
            "-W_4 + 0.125*o_1_4 + 0.16666666666666666*o_2_4 + 0.14285714285714285*o_3_4 <= -0.0\n",
            "-W_5 + 0.1*r_1_5 + 0.125*r_2_5 + 0.1111111111111111*r_3_5 <= -0.0\n",
            "-W_5 + 0.125*o_1_5 + 0.16666666666666666*o_2_5 + 0.14285714285714285*o_3_5 <= -0.0\n",
            "-W_6 + 0.1*r_1_6 + 0.125*r_2_6 + 0.1111111111111111*r_3_6 <= -0.0\n",
            "-W_6 + 0.125*o_1_6 + 0.16666666666666666*o_2_6 + 0.14285714285714285*o_3_6 <= -0.0\n",
            "-W_7 + 0.1*r_1_7 + 0.125*r_2_7 + 0.1111111111111111*r_3_7 <= -0.0\n",
            "-W_7 + 0.125*o_1_7 + 0.16666666666666666*o_2_7 + 0.14285714285714285*o_3_7 <= -0.0\n",
            "-W_8 + 0.1*r_1_8 + 0.125*r_2_8 + 0.1111111111111111*r_3_8 <= -0.0\n",
            "-W_8 + 0.125*o_1_8 + 0.16666666666666666*o_2_8 + 0.14285714285714285*o_3_8 <= -0.0\n",
            "-W_9 + 0.1*r_1_9 + 0.125*r_2_9 + 0.1111111111111111*r_3_9 <= -0.0\n",
            "-W_9 + 0.125*o_1_9 + 0.16666666666666666*o_2_9 + 0.14285714285714285*o_3_9 <= -0.0\n",
            "-W_10 + 0.1*r_1_10 + 0.125*r_2_10 + 0.1111111111111111*r_3_10 <= -0.0\n",
            "-W_10 + 0.125*o_1_10 + 0.16666666666666666*o_2_10 + 0.14285714285714285*o_3_10 <= -0.0\n",
            "-W_11 + 0.1*r_1_11 + 0.125*r_2_11 + 0.1111111111111111*r_3_11 <= -0.0\n",
            "-W_11 + 0.125*o_1_11 + 0.16666666666666666*o_2_11 + 0.14285714285714285*o_3_11 <= -0.0\n",
            "-W_12 + 0.1*r_1_12 + 0.125*r_2_12 + 0.1111111111111111*r_3_12 <= -0.0\n",
            "-W_12 + 0.125*o_1_12 + 0.16666666666666666*o_2_12 + 0.14285714285714285*o_3_12 <= -0.0\n",
            "-W_13 + 0.1*r_1_13 + 0.125*r_2_13 + 0.1111111111111111*r_3_13 <= -0.0\n",
            "-W_13 + 0.125*o_1_13 + 0.16666666666666666*o_2_13 + 0.14285714285714285*o_3_13 <= -0.0\n",
            "-W_14 + 0.1*r_1_14 + 0.125*r_2_14 + 0.1111111111111111*r_3_14 <= -0.0\n",
            "-W_14 + 0.125*o_1_14 + 0.16666666666666666*o_2_14 + 0.14285714285714285*o_3_14 <= -0.0\n",
            "-W_15 + 0.1*r_1_15 + 0.125*r_2_15 + 0.1111111111111111*r_3_15 <= -0.0\n",
            "-W_15 + 0.125*o_1_15 + 0.16666666666666666*o_2_15 + 0.14285714285714285*o_3_15 <= -0.0\n",
            "s_1_1 + s_2_1 + s_3_1 <= 1000\n",
            "s_1_2 + s_2_2 + s_3_2 <= 1000\n",
            "s_1_3 + s_2_3 + s_3_3 <= 1000\n",
            "s_1_4 + s_2_4 + s_3_4 <= 1000\n",
            "s_1_5 + s_2_5 + s_3_5 <= 1000\n",
            "s_1_6 + s_2_6 + s_3_6 <= 1000\n",
            "s_1_7 + s_2_7 + s_3_7 <= 1000\n",
            "s_1_8 + s_2_8 + s_3_8 <= 1000\n",
            "s_1_9 + s_2_9 + s_3_9 <= 1000\n",
            "s_1_10 + s_2_10 + s_3_10 <= 1000\n",
            "s_1_11 + s_2_11 + s_3_11 <= 1000\n",
            "s_1_12 + s_2_12 + s_3_12 <= 1000\n",
            "s_1_13 + s_2_13 + s_3_13 <= 1000\n",
            "s_1_14 + s_2_14 + s_3_14 <= 1000\n",
            "s_1_15 + s_2_15 + s_3_15 <= 1000\n",
            "-F_1 + H_1 + W_0 - W_1 = 0\n",
            "-F_2 + H_2 + W_1 - W_2 = 0\n",
            "-F_3 + H_3 + W_2 - W_3 = 0\n",
            "-F_4 + H_4 + W_3 - W_4 = 0\n",
            "-F_5 + H_5 + W_4 - W_5 = 0\n",
            "-F_6 + H_6 + W_5 - W_6 = 0\n",
            "-F_7 + H_7 + W_6 - W_7 = 0\n",
            "-F_8 + H_8 + W_7 - W_8 = 0\n",
            "-F_9 + H_9 + W_8 - W_9 = 0\n",
            "-F_10 + H_10 - W_10 + W_9 = 0\n",
            "-F_11 + H_11 + W_10 - W_11 = 0\n",
            "-F_12 + H_12 + W_11 - W_12 = 0\n",
            "-F_13 + H_13 + W_12 - W_13 = 0\n",
            "-F_14 + H_14 + W_13 - W_14 = 0\n",
            "-F_15 + H_15 + W_14 - W_15 = 0\n",
            "W_0 = 100\n",
            "W_15 = 140\n",
            "k_1_0 = 1000\n",
            "k_1_15 = 0\n",
            "k_2_0 = 1150\n",
            "k_2_15 = 0\n",
            "k_3_0 = 1800\n",
            "k_3_15 = 0\n"
          ]
        }
      ]
    },
    {
      "cell_type": "markdown",
      "metadata": {
        "id": "dfFnRAV7Ek9f"
      },
      "source": [
        "### **Level Sales and Operations Planning Heuristic**\n",
        "\n",
        "This heuristic is applied for the first product family.\n"
      ]
    },
    {
      "cell_type": "code",
      "metadata": {
        "id": "JYG-Njsi1WDE"
      },
      "source": [
        "import datetime\n",
        "from dateutil import relativedelta\n",
        "\n",
        "#Number of work days for 15 months starting from 2021 January\n",
        "\n",
        "work_days_per_period=[]\n",
        "start_date = datetime.datetime(2021,1,1)\n",
        "\n",
        "for t in range(num_of_periods):\n",
        "  end_date= start_date + relativedelta.relativedelta(months=1)\n",
        "  work_days_per_period.append(np.busday_count('%d-0%d' %(start_date.year, start_date.month) if start_date.month<10 else '%d-%d' %(start_date.year, start_date.month),'%d-0%d' %(end_date.year, end_date.month) if end_date.month<10 else '%d-%d' %(end_date.year, end_date.month)))\n",
        "  start_date=end_date\n",
        "\n",
        "total_work_days= np.busday_count('2021-01', '2022-04') #Total number of work days for 15 months starting from 2021 January\n",
        "\n",
        "total_forecasted_demand=D.sum(axis=1)[0] #Total forecasted demand for Product Family 1"
      ],
      "execution_count": null,
      "outputs": []
    },
    {
      "cell_type": "code",
      "metadata": {
        "id": "Y9o_EeXwED4L"
      },
      "source": [
        "daily_production_rate= (total_forecasted_demand - parameters.II[0])/total_work_days\n",
        "\n",
        "production_per_period=[]\n",
        "for t in range(num_of_periods):\n",
        "  production_per_period.append(daily_production_rate*work_days_per_period[t])\n",
        "\n",
        "reg_time_prod_rate=parameters.R[0] #Regular time production rate for Product Family 1\n",
        "over_time_prod_rate=parameters.O[0] #Overtime production rate for Product Family 1\n",
        "reg_time_prod_cost=parameters.CR[0] #Regular time production rate for Product Family 1\n",
        "over_time_prod_cost=parameters.CO[0] #Overtime production rate for Product Family 1\n",
        "holding_cost=parameters.CK[0]       #Holding cost for Product Family 1\n",
        "backlog_cost=18"
      ],
      "execution_count": null,
      "outputs": []
    },
    {
      "cell_type": "code",
      "metadata": {
        "id": "B9MHAYrMZfXN"
      },
      "source": [
        "#If overtime is allowed\n",
        "\n",
        "workers_initial=100 \n",
        "workers= math.ceil(daily_production_rate/(reg_time_prod_rate+ over_time_prod_rate)) \n",
        "hired=max(workers-workers_initial,0)\n",
        "fired=max(workers_initial-workers,0)\n",
        "\n",
        "RTP=[]\n",
        "OTP=[]\n",
        "for t in range(num_of_periods):\n",
        "  RTP.append(workers*reg_time_prod_rate*work_days_per_period[t]) #Regular time production in period t.\n",
        "  OTP.append(workers*over_time_prod_rate*work_days_per_period[t]) #Overtime production in period t.\n",
        "\n",
        "inventory=[]\n",
        "backlog=[]\n",
        "initial_inventory=parameters.II[0]\n",
        "\n",
        "for t in range(num_of_periods):\n",
        "  if t == 0:\n",
        "    temp_inv=initial_inventory+RTP[t]+OTP[t]-D.iat[0,t] \n",
        "    if temp_inv<0:\n",
        "      inventory.append(0)\n",
        "      backlog.append(abs(temp_inv))\n",
        "\n",
        "    else:\n",
        "      inventory.append(temp_inv)\n",
        "      backlog.append(0)\n",
        "\n",
        "  else:\n",
        "    temp_inv=inventory[t-1]+RTP[t]+OTP[t]-D.iat[0,t]\n",
        "    if temp_inv<0:\n",
        "      inventory.append(0)\n",
        "      backlog.append(abs(temp_inv))\n",
        "\n",
        "    else:\n",
        "      inventory.append(temp_inv)\n",
        "      backlog.append(0)\n",
        "\n",
        "cost_per_period_wo=[]\n",
        "for t in range(num_of_periods):\n",
        "  if t == 0:\n",
        "    cost_per_period_wo.append(inventory[t]*holding_cost + workers*CW + backlog[t]*backlog_cost + RTP[t]*reg_time_prod_cost + OTP[t]*over_time_prod_cost + hired*CH + fired*CF)\n",
        "  else:\n",
        "    cost_per_period_wo.append(inventory[t]*holding_cost + workers*CW + backlog[t]*backlog_cost + RTP[t]*reg_time_prod_cost + OTP[t]*over_time_prod_cost)\n",
        "\n",
        "total_cost_wo_ls = sum(cost_per_period_wo)\n",
        "\n"
      ],
      "execution_count": null,
      "outputs": []
    },
    {
      "cell_type": "code",
      "metadata": {
        "id": "nVNjQ-k-pMvy"
      },
      "source": [
        "#If overtime is NOT allowed \n",
        "\n",
        "workers= math.ceil(daily_production_rate/reg_time_prod_rate)\n",
        "hired=max(workers-workers_initial,0)\n",
        "fired=max(workers_initial-workers,0)\n",
        "wage=4000\n",
        "\n",
        "RTP=[]\n",
        "for t in range(num_of_periods):\n",
        "  RTP.append(workers*reg_time_prod_rate*work_days_per_period[t]) #Regular time production in period t.\n",
        "\n",
        "inventory=[]\n",
        "backlog=[]\n",
        "initial_inventory=parameters.II[0]\n",
        "\n",
        "for t in range(num_of_periods):\n",
        "  if t == 0:\n",
        "    temp_inv=initial_inventory+RTP[t]-D.iat[0,t]\n",
        "    if temp_inv<0:\n",
        "      inventory.append(0)\n",
        "      backlog.append(abs(temp_inv))\n",
        "\n",
        "    else:\n",
        "      inventory.append(temp_inv)\n",
        "      backlog.append(0)\n",
        "\n",
        "  else:\n",
        "    temp_inv=inventory[t-1]+RTP[t]-D.iat[0,t]\n",
        "    if temp_inv<0:\n",
        "      inventory.append(0)\n",
        "      backlog.append(abs(temp_inv))\n",
        "\n",
        "    else:\n",
        "      inventory.append(temp_inv)\n",
        "      backlog.append(0)\n",
        "\n",
        "cost_per_period_no=[]\n",
        "for t in range(num_of_periods):\n",
        "  if t == 0:\n",
        "    cost_per_period_no.append(inventory[t]*holding_cost + workers*CW + backlog[t]*backlog_cost + RTP[t]*reg_time_prod_cost + hired*CH + fired*CF)\n",
        "  else:\n",
        "    cost_per_period_no.append(inventory[t]*holding_cost + workers*CW + backlog[t]*backlog_cost + RTP[t]*reg_time_prod_cost)\n",
        "\n",
        "total_cost_no_ls = sum(cost_per_period_no)"
      ],
      "execution_count": null,
      "outputs": []
    },
    {
      "cell_type": "code",
      "metadata": {
        "colab": {
          "base_uri": "https://localhost:8080/"
        },
        "id": "9BqYgd9Dqk2Q",
        "outputId": "d73f46c6-96df-44f6-cc90-efba6e0cb202"
      },
      "source": [
        "#Decision\n",
        "\n",
        "print(\"The total cost when overtime is allowed: %f\" %total_cost_wo_ls)\n",
        "print(\"The total cost when overtime is not allowed: %f\" %total_cost_no_ls)\n",
        "\n",
        "if total_cost_wo_ls<total_cost_no_ls:\n",
        "  print(\"Best decision is allowing overtime.\")\n",
        "else:\n",
        "  print(\"Best decision is not allowing overtime.\")"
      ],
      "execution_count": null,
      "outputs": [
        {
          "output_type": "stream",
          "name": "stdout",
          "text": [
            "The total cost when overtime is allowed: 3646630.000000\n",
            "The total cost when overtime is not allowed: 3183250.000000\n",
            "Best decision is not allowing overtime.\n"
          ]
        }
      ]
    },
    {
      "cell_type": "markdown",
      "metadata": {
        "id": "-MHbD0Vtrud3"
      },
      "source": [
        "### **Chase Sales and Operations Planning Heuristic**\n",
        "\n",
        "This heuristic is applied for the first product family."
      ]
    },
    {
      "cell_type": "code",
      "metadata": {
        "id": "EdnvCK3GrwrT"
      },
      "source": [
        "production=[]\n",
        "safety_stock=[]\n",
        "forecast=[]\n",
        "ss=0.01 #safety stock percentage\n",
        "\n",
        "for t in range(num_of_periods):\n",
        "  forecast.append(D.iat[0,t]) #only the first row of product_demands array is used as the forecasts of first product family.\n",
        "  safety_stock.append(forecast[t]*ss)\n",
        "  production.append(forecast[t]+safety_stock[t])"
      ],
      "execution_count": null,
      "outputs": []
    },
    {
      "cell_type": "code",
      "metadata": {
        "id": "HDMfWI2dq9CN"
      },
      "source": [
        "#If overtime is allowed\n",
        "inventory=[]\n",
        "workers=[]\n",
        "hired=[]\n",
        "fired=[]\n",
        "RTP=[]\n",
        "OTP=[]\n",
        "cost_per_period_wo=[]\n",
        "\n",
        "for t in range(num_of_periods):\n",
        "  inventory.append(safety_stock[t])\n",
        "  workers.append(math.ceil(production[t]/(work_days_per_period[t]*(reg_time_prod_rate+over_time_prod_rate))))\n",
        "  if (t>0):\n",
        "    hired.append(max(workers[t]-workers[t-1],0))\n",
        "    fired.append(max(workers[t-1]-workers[t],0))\n",
        "  else:\n",
        "    hired.append(workers[t])\n",
        "    fired.append(0)\n",
        "\n",
        "  RTP.append(reg_time_prod_rate*workers[t]*work_days_per_period[t])\n",
        "  OTP.append(over_time_prod_rate*workers[t]*work_days_per_period[t])\n",
        "  cost_per_period_wo.append(holding_cost*inventory[t]+workers[t]*CW+hired[t]*CH+fired[t]*CF+RTP[t]*reg_time_prod_cost+OTP[t]*over_time_prod_cost)\n",
        "\n",
        "total_cost_wo_cs=sum(cost_per_period_wo)"
      ],
      "execution_count": null,
      "outputs": []
    },
    {
      "cell_type": "code",
      "metadata": {
        "id": "KudNrM1yjhdo"
      },
      "source": [
        "#If overtime is not allowed\n",
        "\n",
        "inventory=[]\n",
        "workers=[]\n",
        "hired=[]\n",
        "fired=[]\n",
        "RTP=[]\n",
        "cost_per_period_no=[]\n",
        "\n",
        "for t in range(num_of_periods):\n",
        "  inventory.append(safety_stock[t])\n",
        "  workers.append(math.ceil(production[t]/(work_days_per_period[t]*(reg_time_prod_rate))))\n",
        "  if (t>0):\n",
        "    hired.append(max(workers[t]-workers[t-1],0))\n",
        "    fired.append(max(workers[t-1]-workers[t],0))\n",
        "  else:\n",
        "    hired.append(workers[t])\n",
        "    fired.append(0)\n",
        "\n",
        "  RTP.append(reg_time_prod_rate*workers[t]*work_days_per_period[t]) #NOT!! WORKERS INTEGER OLDUĞU İÇİN PRODUCTION İLE RTP EŞİT OLMAYABİLİR\n",
        "  cost_per_period_no.append(holding_cost*inventory[t]+workers[t]*CW+hired[t]*CH+fired[t]*CF+RTP[t]*reg_time_prod_cost+OTP[t]*over_time_prod_cost)\n",
        "\n",
        "total_cost_no_cs=sum(cost_per_period_no)\n"
      ],
      "execution_count": null,
      "outputs": []
    },
    {
      "cell_type": "markdown",
      "metadata": {
        "id": "UrfhDEiopBkE"
      },
      "source": [
        "### **Results**"
      ]
    },
    {
      "cell_type": "code",
      "metadata": {
        "colab": {
          "base_uri": "https://localhost:8080/"
        },
        "id": "ENpLv3j9hc-I",
        "outputId": "caee0fb7-0c38-4861-e98b-9afee9ecc909"
      },
      "source": [
        "#Decision\n",
        "\n",
        "print(\"The total cost when overtime is allowed: %f\" %total_cost_wo_cs)\n",
        "print(\"The total cost when overtime is not allowed: %f\" %total_cost_no_cs)\n",
        "\n",
        "if total_cost_wo_cs<total_cost_no_cs:\n",
        "  print(\"Best decision is allowing overtime.\")\n",
        "else:\n",
        "  print(\"Best decision is not allowing overtime.\")"
      ],
      "execution_count": null,
      "outputs": [
        {
          "output_type": "stream",
          "name": "stdout",
          "text": [
            "The total cost when overtime is allowed: 2428860.000000\n",
            "The total cost when overtime is not allowed: 3550060.000000\n",
            "Best decision is allowing overtime.\n"
          ]
        }
      ]
    }
  ]
}