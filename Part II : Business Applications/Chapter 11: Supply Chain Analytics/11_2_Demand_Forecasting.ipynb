{
  "nbformat": 4,
  "nbformat_minor": 0,
  "metadata": {
    "kernelspec": {
      "display_name": "Python 3",
      "language": "python",
      "name": "python3"
    },
    "language_info": {
      "codemirror_mode": {
        "name": "ipython",
        "version": 3
      },
      "file_extension": ".py",
      "mimetype": "text/x-python",
      "name": "python",
      "nbconvert_exporter": "python",
      "pygments_lexer": "ipython3",
      "version": "3.8.3"
    },
    "colab": {
      "name": "11.2. Demand Forecasting.ipynb",
      "provenance": [],
      "collapsed_sections": [],
      "include_colab_link": true
    }
  },
  "cells": [
    {
      "cell_type": "markdown",
      "metadata": {
        "id": "view-in-github",
        "colab_type": "text"
      },
      "source": [
        "<a href=\"https://colab.research.google.com/github/ITU-Business-Analytics-Team/Business_Analytics_for_Professionals/blob/main/Part%20II%20%3A%20Business%20Applications/Chapter%2011%3A%20Supply%20Chain%20Analytics/11_2_Demand_Forecasting.ipynb\" target=\"_parent\"><img src=\"https://colab.research.google.com/assets/colab-badge.svg\" alt=\"Open In Colab\"/></a>"
      ]
    },
    {
      "cell_type": "markdown",
      "metadata": {
        "id": "gxqKshkjSFse"
      },
      "source": [
        "# **Supply Chain Analytics**\n",
        "## Demand Forecasting"
      ]
    },
    {
      "cell_type": "markdown",
      "source": [
        "Fast-food company ABC has six restaurants in a district. Customers place orders on its Web site or mobile application. The company managers would like to optimize the number of carriers for each hour. Therefore, they should predict the hourly demand first. \n",
        "\n"
      ],
      "metadata": {
        "id": "ZOdrnNtQgckT"
      }
    },
    {
      "cell_type": "markdown",
      "source": [
        "The list of variables used to predict demand is given below:\n",
        "\n",
        "*   **WorkingDay:**  Workday information\n",
        "*   **ClosedRestaurant:** Number of closed restaurants on a specific\n",
        "hour\n",
        "*   **WeatherCode:** General weather condition forecast (rainy,\n",
        "sunny, cloudy, etc.)\n",
        "*   **Day:** Day of month\n",
        "*   **ReligiousHoliday:** Is there a religious holiday on that day\n",
        "*   **Event:** Is there any event on that day\n",
        "*   **Hour:** Hour of day\n",
        "*   **Humidity:** Weather humidity forecast\n",
        "*   **Rain:** Rain forecast\n",
        "*   **Snow:** Snow forecast\n",
        "*   **FootballMatch:** Is there any football match on that day\n",
        "*   **Month:** Month of year\n",
        "*   **Ramadan:** Is the day in Ramadan\n",
        "*   **Holiday:** Is there a holiday on that day\n",
        "*   **ExamDay:** Is it an exam day for students\n",
        "*   **WinterHoliday:** Is there a semester holiday on that day\n",
        "*   **Temperature:** Temperature forecast\n",
        "*   **UnexpectedEvent:** Is there any other event on that day\n",
        "*   **WeekDay:** Is it a weekday\n",
        "*   **WindDirection:** Wind direction forecast\n",
        "*   **Wind:** Wind speed forecast\n",
        "*   **SummerHoliday:** Is there a summer holiday on that day\n",
        "*   **Year:** Year\n",
        "*   **NewYear:** Is there a Christmas on that day\n"
      ],
      "metadata": {
        "id": "-EHEXoB_glJz"
      }
    },
    {
      "cell_type": "code",
      "metadata": {
        "id": "Ax-KN_RsNlrp"
      },
      "source": [
        "import os\n",
        "os.environ[\"CUDA_DEVICE_ORDER\"] = \"PCI_BUS_ID\"\n",
        "os.environ[\"CUDA_VISIBLE_DEVICES\"] = \"\"\n",
        "\n",
        "import pandas as pd\n",
        "import numpy as np \n",
        "\n",
        "import random as rn\n",
        "import gc\n",
        "\n",
        "from sklearn.preprocessing import MinMaxScaler\n",
        "\n",
        "#Install tensorflow if not \n",
        "#!pip install tensorflow==2.2\n",
        "\n",
        "import tensorflow as tf\n",
        "import tensorflow.keras.backend as K\n",
        "from tensorflow.keras.models import Sequential\n",
        "from tensorflow.keras.layers import Dense, LSTM,Dropout"
      ],
      "execution_count": null,
      "outputs": []
    },
    {
      "cell_type": "code",
      "metadata": {
        "colab": {
          "base_uri": "https://localhost:8080/",
          "height": 267
        },
        "id": "yHrRn8DSNlrt",
        "outputId": "b6fff4a8-8c0f-47d2-a20d-9c0c053aa338"
      },
      "source": [
        "#Import Data\n",
        "url = \"https://docs.google.com/spreadsheets/d/1fvhMf7wTk5X6CKrQaVjjH2B1d2KpDifH/edit?usp=sharing&ouid=110490639604271004553&rtpof=true&sd=true\"\n",
        "path = 'https://drive.google.com/uc?export=download&id='+url.split('/')[-2]\n",
        "df = pd.read_excel(path, index_col=\"Time\")\n",
        "df.head()"
      ],
      "execution_count": null,
      "outputs": [
        {
          "output_type": "execute_result",
          "data": {
            "text/plain": [
              "                     WorkingDay  ClosedRestaurant  WeatherCode  Day  \\\n",
              "Time                                                                  \n",
              "2016-11-07 11:00:00           1                 0           34   11   \n",
              "2016-11-07 12:00:00           1                 0           34   11   \n",
              "2016-11-07 13:00:00           1                 0           34   11   \n",
              "2016-11-07 14:00:00           1                 0           34   11   \n",
              "2016-11-07 15:00:00           1                 0           34   11   \n",
              "\n",
              "                     ReligiousHoliday  Event  Hour  Humidity  Rain  Snow  ...  \\\n",
              "Time                                                                      ...   \n",
              "2016-11-07 11:00:00                 0      0    11        37     0     0  ...   \n",
              "2016-11-07 12:00:00                 0      0    12        37     0     0  ...   \n",
              "2016-11-07 13:00:00                 0      0    13        37     0     0  ...   \n",
              "2016-11-07 14:00:00                 0      0    14        37     0     0  ...   \n",
              "2016-11-07 15:00:00                 0      0    15        37     0     0  ...   \n",
              "\n",
              "                     WinterHoliday  Temperature  UnexpectedEvent  WeekDay  \\\n",
              "Time                                                                        \n",
              "2016-11-07 11:00:00              0           27                0        1   \n",
              "2016-11-07 12:00:00              0           27                0        1   \n",
              "2016-11-07 13:00:00              0           27                0        1   \n",
              "2016-11-07 14:00:00              0           27                0        1   \n",
              "2016-11-07 15:00:00              0           27                0        1   \n",
              "\n",
              "                     WindDirection  Wind  SummerHoliday  Year  NewYear  \\\n",
              "Time                                                                     \n",
              "2016-11-07 11:00:00             40    24              1  2016        0   \n",
              "2016-11-07 12:00:00             40    24              1  2016        0   \n",
              "2016-11-07 13:00:00             40    24              1  2016        0   \n",
              "2016-11-07 14:00:00             40    24              1  2016        0   \n",
              "2016-11-07 15:00:00             40    24              1  2016        0   \n",
              "\n",
              "                     TotalOrder  \n",
              "Time                             \n",
              "2016-11-07 11:00:00           1  \n",
              "2016-11-07 12:00:00           8  \n",
              "2016-11-07 13:00:00          14  \n",
              "2016-11-07 14:00:00           8  \n",
              "2016-11-07 15:00:00          14  \n",
              "\n",
              "[5 rows x 25 columns]"
            ],
            "text/html": [
              "\n",
              "  <div id=\"df-d7f3c96e-1c07-45d6-ad67-02faad43e09a\">\n",
              "    <div class=\"colab-df-container\">\n",
              "      <div>\n",
              "<style scoped>\n",
              "    .dataframe tbody tr th:only-of-type {\n",
              "        vertical-align: middle;\n",
              "    }\n",
              "\n",
              "    .dataframe tbody tr th {\n",
              "        vertical-align: top;\n",
              "    }\n",
              "\n",
              "    .dataframe thead th {\n",
              "        text-align: right;\n",
              "    }\n",
              "</style>\n",
              "<table border=\"1\" class=\"dataframe\">\n",
              "  <thead>\n",
              "    <tr style=\"text-align: right;\">\n",
              "      <th></th>\n",
              "      <th>WorkingDay</th>\n",
              "      <th>ClosedRestaurant</th>\n",
              "      <th>WeatherCode</th>\n",
              "      <th>Day</th>\n",
              "      <th>ReligiousHoliday</th>\n",
              "      <th>Event</th>\n",
              "      <th>Hour</th>\n",
              "      <th>Humidity</th>\n",
              "      <th>Rain</th>\n",
              "      <th>Snow</th>\n",
              "      <th>...</th>\n",
              "      <th>WinterHoliday</th>\n",
              "      <th>Temperature</th>\n",
              "      <th>UnexpectedEvent</th>\n",
              "      <th>WeekDay</th>\n",
              "      <th>WindDirection</th>\n",
              "      <th>Wind</th>\n",
              "      <th>SummerHoliday</th>\n",
              "      <th>Year</th>\n",
              "      <th>NewYear</th>\n",
              "      <th>TotalOrder</th>\n",
              "    </tr>\n",
              "    <tr>\n",
              "      <th>Time</th>\n",
              "      <th></th>\n",
              "      <th></th>\n",
              "      <th></th>\n",
              "      <th></th>\n",
              "      <th></th>\n",
              "      <th></th>\n",
              "      <th></th>\n",
              "      <th></th>\n",
              "      <th></th>\n",
              "      <th></th>\n",
              "      <th></th>\n",
              "      <th></th>\n",
              "      <th></th>\n",
              "      <th></th>\n",
              "      <th></th>\n",
              "      <th></th>\n",
              "      <th></th>\n",
              "      <th></th>\n",
              "      <th></th>\n",
              "      <th></th>\n",
              "      <th></th>\n",
              "    </tr>\n",
              "  </thead>\n",
              "  <tbody>\n",
              "    <tr>\n",
              "      <th>2016-11-07 11:00:00</th>\n",
              "      <td>1</td>\n",
              "      <td>0</td>\n",
              "      <td>34</td>\n",
              "      <td>11</td>\n",
              "      <td>0</td>\n",
              "      <td>0</td>\n",
              "      <td>11</td>\n",
              "      <td>37</td>\n",
              "      <td>0</td>\n",
              "      <td>0</td>\n",
              "      <td>...</td>\n",
              "      <td>0</td>\n",
              "      <td>27</td>\n",
              "      <td>0</td>\n",
              "      <td>1</td>\n",
              "      <td>40</td>\n",
              "      <td>24</td>\n",
              "      <td>1</td>\n",
              "      <td>2016</td>\n",
              "      <td>0</td>\n",
              "      <td>1</td>\n",
              "    </tr>\n",
              "    <tr>\n",
              "      <th>2016-11-07 12:00:00</th>\n",
              "      <td>1</td>\n",
              "      <td>0</td>\n",
              "      <td>34</td>\n",
              "      <td>11</td>\n",
              "      <td>0</td>\n",
              "      <td>0</td>\n",
              "      <td>12</td>\n",
              "      <td>37</td>\n",
              "      <td>0</td>\n",
              "      <td>0</td>\n",
              "      <td>...</td>\n",
              "      <td>0</td>\n",
              "      <td>27</td>\n",
              "      <td>0</td>\n",
              "      <td>1</td>\n",
              "      <td>40</td>\n",
              "      <td>24</td>\n",
              "      <td>1</td>\n",
              "      <td>2016</td>\n",
              "      <td>0</td>\n",
              "      <td>8</td>\n",
              "    </tr>\n",
              "    <tr>\n",
              "      <th>2016-11-07 13:00:00</th>\n",
              "      <td>1</td>\n",
              "      <td>0</td>\n",
              "      <td>34</td>\n",
              "      <td>11</td>\n",
              "      <td>0</td>\n",
              "      <td>0</td>\n",
              "      <td>13</td>\n",
              "      <td>37</td>\n",
              "      <td>0</td>\n",
              "      <td>0</td>\n",
              "      <td>...</td>\n",
              "      <td>0</td>\n",
              "      <td>27</td>\n",
              "      <td>0</td>\n",
              "      <td>1</td>\n",
              "      <td>40</td>\n",
              "      <td>24</td>\n",
              "      <td>1</td>\n",
              "      <td>2016</td>\n",
              "      <td>0</td>\n",
              "      <td>14</td>\n",
              "    </tr>\n",
              "    <tr>\n",
              "      <th>2016-11-07 14:00:00</th>\n",
              "      <td>1</td>\n",
              "      <td>0</td>\n",
              "      <td>34</td>\n",
              "      <td>11</td>\n",
              "      <td>0</td>\n",
              "      <td>0</td>\n",
              "      <td>14</td>\n",
              "      <td>37</td>\n",
              "      <td>0</td>\n",
              "      <td>0</td>\n",
              "      <td>...</td>\n",
              "      <td>0</td>\n",
              "      <td>27</td>\n",
              "      <td>0</td>\n",
              "      <td>1</td>\n",
              "      <td>40</td>\n",
              "      <td>24</td>\n",
              "      <td>1</td>\n",
              "      <td>2016</td>\n",
              "      <td>0</td>\n",
              "      <td>8</td>\n",
              "    </tr>\n",
              "    <tr>\n",
              "      <th>2016-11-07 15:00:00</th>\n",
              "      <td>1</td>\n",
              "      <td>0</td>\n",
              "      <td>34</td>\n",
              "      <td>11</td>\n",
              "      <td>0</td>\n",
              "      <td>0</td>\n",
              "      <td>15</td>\n",
              "      <td>37</td>\n",
              "      <td>0</td>\n",
              "      <td>0</td>\n",
              "      <td>...</td>\n",
              "      <td>0</td>\n",
              "      <td>27</td>\n",
              "      <td>0</td>\n",
              "      <td>1</td>\n",
              "      <td>40</td>\n",
              "      <td>24</td>\n",
              "      <td>1</td>\n",
              "      <td>2016</td>\n",
              "      <td>0</td>\n",
              "      <td>14</td>\n",
              "    </tr>\n",
              "  </tbody>\n",
              "</table>\n",
              "<p>5 rows × 25 columns</p>\n",
              "</div>\n",
              "      <button class=\"colab-df-convert\" onclick=\"convertToInteractive('df-d7f3c96e-1c07-45d6-ad67-02faad43e09a')\"\n",
              "              title=\"Convert this dataframe to an interactive table.\"\n",
              "              style=\"display:none;\">\n",
              "        \n",
              "  <svg xmlns=\"http://www.w3.org/2000/svg\" height=\"24px\"viewBox=\"0 0 24 24\"\n",
              "       width=\"24px\">\n",
              "    <path d=\"M0 0h24v24H0V0z\" fill=\"none\"/>\n",
              "    <path d=\"M18.56 5.44l.94 2.06.94-2.06 2.06-.94-2.06-.94-.94-2.06-.94 2.06-2.06.94zm-11 1L8.5 8.5l.94-2.06 2.06-.94-2.06-.94L8.5 2.5l-.94 2.06-2.06.94zm10 10l.94 2.06.94-2.06 2.06-.94-2.06-.94-.94-2.06-.94 2.06-2.06.94z\"/><path d=\"M17.41 7.96l-1.37-1.37c-.4-.4-.92-.59-1.43-.59-.52 0-1.04.2-1.43.59L10.3 9.45l-7.72 7.72c-.78.78-.78 2.05 0 2.83L4 21.41c.39.39.9.59 1.41.59.51 0 1.02-.2 1.41-.59l7.78-7.78 2.81-2.81c.8-.78.8-2.07 0-2.86zM5.41 20L4 18.59l7.72-7.72 1.47 1.35L5.41 20z\"/>\n",
              "  </svg>\n",
              "      </button>\n",
              "      \n",
              "  <style>\n",
              "    .colab-df-container {\n",
              "      display:flex;\n",
              "      flex-wrap:wrap;\n",
              "      gap: 12px;\n",
              "    }\n",
              "\n",
              "    .colab-df-convert {\n",
              "      background-color: #E8F0FE;\n",
              "      border: none;\n",
              "      border-radius: 50%;\n",
              "      cursor: pointer;\n",
              "      display: none;\n",
              "      fill: #1967D2;\n",
              "      height: 32px;\n",
              "      padding: 0 0 0 0;\n",
              "      width: 32px;\n",
              "    }\n",
              "\n",
              "    .colab-df-convert:hover {\n",
              "      background-color: #E2EBFA;\n",
              "      box-shadow: 0px 1px 2px rgba(60, 64, 67, 0.3), 0px 1px 3px 1px rgba(60, 64, 67, 0.15);\n",
              "      fill: #174EA6;\n",
              "    }\n",
              "\n",
              "    [theme=dark] .colab-df-convert {\n",
              "      background-color: #3B4455;\n",
              "      fill: #D2E3FC;\n",
              "    }\n",
              "\n",
              "    [theme=dark] .colab-df-convert:hover {\n",
              "      background-color: #434B5C;\n",
              "      box-shadow: 0px 1px 3px 1px rgba(0, 0, 0, 0.15);\n",
              "      filter: drop-shadow(0px 1px 2px rgba(0, 0, 0, 0.3));\n",
              "      fill: #FFFFFF;\n",
              "    }\n",
              "  </style>\n",
              "\n",
              "      <script>\n",
              "        const buttonEl =\n",
              "          document.querySelector('#df-d7f3c96e-1c07-45d6-ad67-02faad43e09a button.colab-df-convert');\n",
              "        buttonEl.style.display =\n",
              "          google.colab.kernel.accessAllowed ? 'block' : 'none';\n",
              "\n",
              "        async function convertToInteractive(key) {\n",
              "          const element = document.querySelector('#df-d7f3c96e-1c07-45d6-ad67-02faad43e09a');\n",
              "          const dataTable =\n",
              "            await google.colab.kernel.invokeFunction('convertToInteractive',\n",
              "                                                     [key], {});\n",
              "          if (!dataTable) return;\n",
              "\n",
              "          const docLinkHtml = 'Like what you see? Visit the ' +\n",
              "            '<a target=\"_blank\" href=https://colab.research.google.com/notebooks/data_table.ipynb>data table notebook</a>'\n",
              "            + ' to learn more about interactive tables.';\n",
              "          element.innerHTML = '';\n",
              "          dataTable['output_type'] = 'display_data';\n",
              "          await google.colab.output.renderOutput(dataTable, element);\n",
              "          const docLink = document.createElement('div');\n",
              "          docLink.innerHTML = docLinkHtml;\n",
              "          element.appendChild(docLink);\n",
              "        }\n",
              "      </script>\n",
              "    </div>\n",
              "  </div>\n",
              "  "
            ]
          },
          "metadata": {},
          "execution_count": 6
        }
      ]
    },
    {
      "cell_type": "code",
      "metadata": {
        "id": "BMLqIQsGNlru"
      },
      "source": [
        "results = {}"
      ],
      "execution_count": null,
      "outputs": []
    },
    {
      "cell_type": "code",
      "metadata": {
        "id": "nJQspPi0Nlru"
      },
      "source": [
        "X = df.drop(columns=['TotalOrder'])\n",
        "y = df[['TotalOrder']]"
      ],
      "execution_count": null,
      "outputs": []
    },
    {
      "cell_type": "code",
      "metadata": {
        "id": "1nRerTdcNlru",
        "colab": {
          "base_uri": "https://localhost:8080/"
        },
        "outputId": "e81595dd-2f55-4cb8-8990-d3627965d7f7"
      },
      "source": [
        "train_size = int(len(df) * 0.8)\n",
        "test_size = len(df) - train_size\n",
        "train_size, test_size"
      ],
      "execution_count": null,
      "outputs": [
        {
          "output_type": "execute_result",
          "data": {
            "text/plain": [
              "(5657, 1415)"
            ]
          },
          "metadata": {},
          "execution_count": 9
        }
      ]
    },
    {
      "cell_type": "code",
      "metadata": {
        "id": "iHkOFb3YNlrv"
      },
      "source": [
        "scaler_x = MinMaxScaler()\n",
        "X_norm = scaler_x.fit_transform(X)\n",
        "X_train, X_test = X_norm[:train_size], X_norm[train_size:]\n",
        "\n",
        "y_true = y[train_size:]\n",
        "scaler_y = MinMaxScaler()\n",
        "y_norm = scaler_y.fit_transform(y)\n",
        "y_train = y_norm[:train_size]"
      ],
      "execution_count": null,
      "outputs": []
    },
    {
      "cell_type": "markdown",
      "metadata": {
        "id": "VeN9k9QPNlrv"
      },
      "source": [
        "## Long Short Term Memory"
      ]
    },
    {
      "cell_type": "markdown",
      "source": [
        "Initially, hourly demand forecasts are obtained using the LSTM method based on\n",
        "the data of the previous 12 h.  The error reduction graph for the train and test sets of the LSTM model is shown. \n"
      ],
      "metadata": {
        "id": "6vX5PLXimsGC"
      }
    },
    {
      "cell_type": "code",
      "metadata": {
        "id": "etoTHGaENlrx"
      },
      "source": [
        "lookback=12\n",
        "train_size = train_size - lookback + 1"
      ],
      "execution_count": null,
      "outputs": []
    },
    {
      "cell_type": "code",
      "metadata": {
        "id": "l0tukmwUNlrx"
      },
      "source": [
        "X_all=[]\n",
        "y_all=[]\n",
        "for i in range(len(X_norm)-lookback + 1):\n",
        "    t=[]\n",
        "    for j in range(0,lookback):\n",
        "        t.append(X_norm[[(i+j)]])\n",
        "    X_all.append(t)\n",
        "    y_all.append(y_norm[i+ lookback - 1])\n",
        "\n",
        "X_all, y_all= np.array(X_all), np.array(y_all)\n",
        "\n",
        "y_pred=[]\n",
        "\n",
        "X_train= X_all[:train_size]\n",
        "X_test = X_all[train_size:train_size + test_size]\n",
        "if lookback!=0:\n",
        "    X_train = X_train.reshape(X_train.shape[0],lookback, X_train.shape[3])\n",
        "    X_test = X_test.reshape(X_test.shape[0],lookback, X_test.shape[3])\n",
        "else:\n",
        "    X_train = X_train.reshape(X_train.shape[0], X_train.shape[2])\n",
        "    X_test = X_test.reshape(X_test.shape[0], X_test.shape[2])\n",
        "    \n",
        "y_train= y_all[:train_size]\n",
        "y_test= y_all[train_size:]"
      ],
      "execution_count": null,
      "outputs": []
    },
    {
      "cell_type": "code",
      "metadata": {
        "id": "eu4STTA-Nlry",
        "colab": {
          "base_uri": "https://localhost:8080/"
        },
        "outputId": "54cb3c8e-2cf9-4b14-92fa-f9f6a8924172"
      },
      "source": [
        "X_train.shape,X_test.shape,y_train.shape,y_test.shape"
      ],
      "execution_count": null,
      "outputs": [
        {
          "output_type": "execute_result",
          "data": {
            "text/plain": [
              "((5646, 12, 24), (1415, 12, 24), (5646, 1), (1415, 1))"
            ]
          },
          "metadata": {},
          "execution_count": 13
        }
      ]
    },
    {
      "cell_type": "code",
      "metadata": {
        "id": "ysfKOoFwNlry"
      },
      "source": [
        "units=32\n",
        "epochs=50\n",
        "batch_size=72"
      ],
      "execution_count": null,
      "outputs": []
    },
    {
      "cell_type": "code",
      "metadata": {
        "id": "DSeL_SjbNlrz"
      },
      "source": [
        "from matplotlib import pyplot"
      ],
      "execution_count": null,
      "outputs": []
    },
    {
      "cell_type": "code",
      "metadata": {
        "id": "3BM3_JrbNlrz",
        "colab": {
          "base_uri": "https://localhost:8080/",
          "height": 1000
        },
        "outputId": "506536d0-fba3-4015-db50-ef52ca09bcca"
      },
      "source": [
        "#Set random seed\n",
        "sd=0\n",
        "np.random.seed(sd)\n",
        "rn.seed(sd)\n",
        "os.environ['PYTHONHASHSEED']=str(sd)\n",
        "\n",
        "config = tf.compat.v1.ConfigProto(intra_op_parallelism_threads=4, \n",
        "                                  inter_op_parallelism_threads=2, allow_soft_placement=True, device_count = {'CPU': 4 })\n",
        "\n",
        "tf.compat.v1.set_random_seed(sd)\n",
        "sess = tf.compat.v1.Session(graph=tf.compat.v1.get_default_graph(), config=config)\n",
        "tf.compat.v1.keras.backend.set_session(sess)\n",
        "\n",
        "tf.compat.v1.disable_eager_execution()   \n",
        "\n",
        "## LSTM Model & Prediction ###############\n",
        "model = Sequential()\n",
        "\n",
        "model.add(LSTM(units=units, input_shape=(lookback,X_all.shape[3]), dropout=0.2, recurrent_dropout=0.2))\n",
        "model.add(Dropout(0.2))\n",
        "\n",
        "model.add(Dense(1))\n",
        "model.compile(loss='mae', optimizer='adam',metrics=['mae'])\n",
        "    \n",
        "history = model.fit(X_train, y_train, epochs=epochs, batch_size=batch_size, validation_data=(X_test, y_test))\n",
        "# plot history\n",
        "pyplot.plot(history.history['loss'], label='train')\n",
        "pyplot.plot(history.history['val_loss'], label='test')\n",
        "pyplot.legend()\n",
        "pyplot.show()\n",
        "\n",
        "y_pred= model.predict(X_test)\n",
        "##########################################\n",
        "        \n",
        "y_pred = np.array(y_pred).reshape(test_size,1)\n",
        "\n",
        "## Clear model, Keras & tensorflow ##############\n",
        "del model\n",
        "K.clear_session()\n",
        "tf.compat.v1.reset_default_graph()   \n",
        "gc.collect() \n",
        "######################################"
      ],
      "execution_count": null,
      "outputs": [
        {
          "output_type": "stream",
          "name": "stdout",
          "text": [
            "Train on 5646 samples, validate on 1415 samples\n",
            "Epoch 1/50\n",
            "5616/5646 [============================>.] - ETA: 0s - loss: 0.1595 - mae: 0.1595"
          ]
        },
        {
          "output_type": "stream",
          "name": "stderr",
          "text": [
            "/usr/local/lib/python3.7/dist-packages/keras/engine/training_v1.py:2057: UserWarning: `Model.state_updates` will be removed in a future version. This property should not be used in TensorFlow 2.0, as `updates` are applied automatically.\n",
            "  updates = self.state_updates\n"
          ]
        },
        {
          "output_type": "stream",
          "name": "stdout",
          "text": [
            "\b\b\b\b\b\b\b\b\b\b\b\b\b\b\b\b\b\b\b\b\b\b\b\b\b\b\b\b\b\b\b\b\b\b\b\b\b\b\b\b\b\b\b\b\b\b\b\b\b\b\b\b\b\b\b\b\b\b\b\b\b\b\b\b\b\b\b\b\b\b\b\b\b\b\b\b\b\b\b\b\b\r5646/5646 [==============================] - 2s 369us/sample - loss: 0.1593 - mae: 0.1593 - val_loss: 0.0941 - val_mae: 0.0941\n",
            "Epoch 2/50\n",
            "5646/5646 [==============================] - 1s 199us/sample - loss: 0.1154 - mae: 0.1154 - val_loss: 0.0807 - val_mae: 0.0807\n",
            "Epoch 3/50\n",
            "5646/5646 [==============================] - 2s 343us/sample - loss: 0.1040 - mae: 0.1040 - val_loss: 0.0864 - val_mae: 0.0864\n",
            "Epoch 4/50\n",
            "5646/5646 [==============================] - 3s 472us/sample - loss: 0.0983 - mae: 0.0983 - val_loss: 0.0722 - val_mae: 0.0722\n",
            "Epoch 5/50\n",
            "5646/5646 [==============================] - 2s 404us/sample - loss: 0.0940 - mae: 0.0940 - val_loss: 0.0722 - val_mae: 0.0722\n",
            "Epoch 6/50\n",
            "5646/5646 [==============================] - 2s 436us/sample - loss: 0.0919 - mae: 0.0919 - val_loss: 0.0807 - val_mae: 0.0807\n",
            "Epoch 7/50\n",
            "5646/5646 [==============================] - 2s 424us/sample - loss: 0.0889 - mae: 0.0889 - val_loss: 0.0758 - val_mae: 0.0758\n",
            "Epoch 8/50\n",
            "5646/5646 [==============================] - 2s 401us/sample - loss: 0.0883 - mae: 0.0883 - val_loss: 0.0772 - val_mae: 0.0772\n",
            "Epoch 9/50\n",
            "5646/5646 [==============================] - 2s 412us/sample - loss: 0.0865 - mae: 0.0865 - val_loss: 0.0765 - val_mae: 0.0765\n",
            "Epoch 10/50\n",
            "5646/5646 [==============================] - 2s 367us/sample - loss: 0.0840 - mae: 0.0840 - val_loss: 0.0700 - val_mae: 0.0700\n",
            "Epoch 11/50\n",
            "5646/5646 [==============================] - 2s 357us/sample - loss: 0.0840 - mae: 0.0840 - val_loss: 0.0706 - val_mae: 0.0706\n",
            "Epoch 12/50\n",
            "5646/5646 [==============================] - 2s 424us/sample - loss: 0.0822 - mae: 0.0822 - val_loss: 0.0673 - val_mae: 0.0673\n",
            "Epoch 13/50\n",
            "5646/5646 [==============================] - 1s 244us/sample - loss: 0.0821 - mae: 0.0821 - val_loss: 0.0724 - val_mae: 0.0724\n",
            "Epoch 14/50\n",
            "5646/5646 [==============================] - 1s 201us/sample - loss: 0.0799 - mae: 0.0799 - val_loss: 0.0735 - val_mae: 0.0735\n",
            "Epoch 15/50\n",
            "5646/5646 [==============================] - 1s 197us/sample - loss: 0.0793 - mae: 0.0793 - val_loss: 0.0711 - val_mae: 0.0711\n",
            "Epoch 16/50\n",
            "5646/5646 [==============================] - 1s 194us/sample - loss: 0.0791 - mae: 0.0791 - val_loss: 0.0670 - val_mae: 0.0670\n",
            "Epoch 17/50\n",
            "5646/5646 [==============================] - 1s 194us/sample - loss: 0.0778 - mae: 0.0778 - val_loss: 0.0647 - val_mae: 0.0647\n",
            "Epoch 18/50\n",
            "5646/5646 [==============================] - 1s 195us/sample - loss: 0.0771 - mae: 0.0771 - val_loss: 0.0661 - val_mae: 0.0661\n",
            "Epoch 19/50\n",
            "5646/5646 [==============================] - 1s 194us/sample - loss: 0.0757 - mae: 0.0757 - val_loss: 0.0629 - val_mae: 0.0629\n",
            "Epoch 20/50\n",
            "5646/5646 [==============================] - 1s 243us/sample - loss: 0.0756 - mae: 0.0756 - val_loss: 0.0631 - val_mae: 0.0631\n",
            "Epoch 21/50\n",
            "5646/5646 [==============================] - 2s 328us/sample - loss: 0.0753 - mae: 0.0753 - val_loss: 0.0659 - val_mae: 0.0659\n",
            "Epoch 22/50\n",
            "5646/5646 [==============================] - 2s 354us/sample - loss: 0.0745 - mae: 0.0745 - val_loss: 0.0609 - val_mae: 0.0609\n",
            "Epoch 23/50\n",
            "5646/5646 [==============================] - 2s 432us/sample - loss: 0.0736 - mae: 0.0736 - val_loss: 0.0677 - val_mae: 0.0677\n",
            "Epoch 24/50\n",
            "5646/5646 [==============================] - 2s 357us/sample - loss: 0.0739 - mae: 0.0739 - val_loss: 0.0644 - val_mae: 0.0644\n",
            "Epoch 25/50\n",
            "5646/5646 [==============================] - 2s 370us/sample - loss: 0.0736 - mae: 0.0736 - val_loss: 0.0609 - val_mae: 0.0609\n",
            "Epoch 26/50\n",
            "5646/5646 [==============================] - 2s 365us/sample - loss: 0.0716 - mae: 0.0716 - val_loss: 0.0642 - val_mae: 0.0642\n",
            "Epoch 27/50\n",
            "5646/5646 [==============================] - 2s 433us/sample - loss: 0.0713 - mae: 0.0713 - val_loss: 0.0625 - val_mae: 0.0625\n",
            "Epoch 28/50\n",
            "5646/5646 [==============================] - 2s 369us/sample - loss: 0.0715 - mae: 0.0715 - val_loss: 0.0590 - val_mae: 0.0590\n",
            "Epoch 29/50\n",
            "5646/5646 [==============================] - 1s 242us/sample - loss: 0.0701 - mae: 0.0701 - val_loss: 0.0658 - val_mae: 0.0658\n",
            "Epoch 30/50\n",
            "5646/5646 [==============================] - 1s 195us/sample - loss: 0.0714 - mae: 0.0714 - val_loss: 0.0604 - val_mae: 0.0604\n",
            "Epoch 31/50\n",
            "5646/5646 [==============================] - 1s 196us/sample - loss: 0.0690 - mae: 0.0690 - val_loss: 0.0645 - val_mae: 0.0645\n",
            "Epoch 32/50\n",
            "5646/5646 [==============================] - 1s 193us/sample - loss: 0.0696 - mae: 0.0696 - val_loss: 0.0681 - val_mae: 0.0681\n",
            "Epoch 33/50\n",
            "5646/5646 [==============================] - 1s 200us/sample - loss: 0.0709 - mae: 0.0709 - val_loss: 0.0639 - val_mae: 0.0639\n",
            "Epoch 34/50\n",
            "5646/5646 [==============================] - 1s 202us/sample - loss: 0.0695 - mae: 0.0695 - val_loss: 0.0618 - val_mae: 0.0618\n",
            "Epoch 35/50\n",
            "5646/5646 [==============================] - 1s 203us/sample - loss: 0.0698 - mae: 0.0698 - val_loss: 0.0635 - val_mae: 0.0635\n",
            "Epoch 36/50\n",
            "5646/5646 [==============================] - 1s 199us/sample - loss: 0.0691 - mae: 0.0691 - val_loss: 0.0623 - val_mae: 0.0623\n",
            "Epoch 37/50\n",
            "5646/5646 [==============================] - 1s 201us/sample - loss: 0.0694 - mae: 0.0694 - val_loss: 0.0641 - val_mae: 0.0641\n",
            "Epoch 38/50\n",
            "5646/5646 [==============================] - 1s 203us/sample - loss: 0.0686 - mae: 0.0686 - val_loss: 0.0632 - val_mae: 0.0632\n",
            "Epoch 39/50\n",
            "5646/5646 [==============================] - 1s 201us/sample - loss: 0.0684 - mae: 0.0684 - val_loss: 0.0642 - val_mae: 0.0642\n",
            "Epoch 40/50\n",
            "5646/5646 [==============================] - 1s 198us/sample - loss: 0.0677 - mae: 0.0677 - val_loss: 0.0625 - val_mae: 0.0625\n",
            "Epoch 41/50\n",
            "5646/5646 [==============================] - 1s 236us/sample - loss: 0.0684 - mae: 0.0684 - val_loss: 0.0607 - val_mae: 0.0607\n",
            "Epoch 42/50\n",
            "5646/5646 [==============================] - 2s 347us/sample - loss: 0.0682 - mae: 0.0682 - val_loss: 0.0622 - val_mae: 0.0622\n",
            "Epoch 43/50\n",
            "5646/5646 [==============================] - 2s 387us/sample - loss: 0.0671 - mae: 0.0671 - val_loss: 0.0627 - val_mae: 0.0627\n",
            "Epoch 44/50\n",
            "5646/5646 [==============================] - 2s 345us/sample - loss: 0.0667 - mae: 0.0667 - val_loss: 0.0598 - val_mae: 0.0598\n",
            "Epoch 45/50\n",
            "5646/5646 [==============================] - 2s 357us/sample - loss: 0.0674 - mae: 0.0674 - val_loss: 0.0609 - val_mae: 0.0609\n",
            "Epoch 46/50\n",
            "5646/5646 [==============================] - 2s 350us/sample - loss: 0.0668 - mae: 0.0668 - val_loss: 0.0609 - val_mae: 0.0609\n",
            "Epoch 47/50\n",
            "5646/5646 [==============================] - 2s 379us/sample - loss: 0.0673 - mae: 0.0673 - val_loss: 0.0624 - val_mae: 0.0624\n",
            "Epoch 48/50\n",
            "5646/5646 [==============================] - 3s 616us/sample - loss: 0.0676 - mae: 0.0676 - val_loss: 0.0687 - val_mae: 0.0687\n",
            "Epoch 49/50\n",
            "5646/5646 [==============================] - 2s 335us/sample - loss: 0.0671 - mae: 0.0671 - val_loss: 0.0602 - val_mae: 0.0602\n",
            "Epoch 50/50\n",
            "5646/5646 [==============================] - 1s 202us/sample - loss: 0.0660 - mae: 0.0660 - val_loss: 0.0650 - val_mae: 0.0650\n"
          ]
        },
        {
          "output_type": "display_data",
          "data": {
            "text/plain": [
              "<Figure size 432x288 with 1 Axes>"
            ],
            "image/png": "[encoded data removed]"
          },
          "metadata": {
            "needs_background": "light"
          }
        },
        {
          "output_type": "stream",
          "name": "stderr",
          "text": [
            "/usr/local/lib/python3.7/dist-packages/keras/engine/training_v1.py:2079: UserWarning: `Model.state_updates` will be removed in a future version. This property should not be used in TensorFlow 2.0, as `updates` are applied automatically.\n",
            "  updates=self.state_updates,\n"
          ]
        },
        {
          "output_type": "execute_result",
          "data": {
            "text/plain": [
              "2842"
            ]
          },
          "metadata": {},
          "execution_count": 16
        }
      ]
    },
    {
      "cell_type": "code",
      "metadata": {
        "id": "5wKxS6P2Nlr0"
      },
      "source": [
        "from sklearn.metrics import mean_absolute_error"
      ],
      "execution_count": null,
      "outputs": []
    },
    {
      "cell_type": "code",
      "metadata": {
        "id": "ZnhvC2QDNlr0"
      },
      "source": [
        "y_pred = scaler_y.inverse_transform(y_pred)\n",
        "results['LSTM'] = mean_absolute_error(y_pred,y_true)"
      ],
      "execution_count": null,
      "outputs": []
    },
    {
      "cell_type": "code",
      "metadata": {
        "id": "UMDxcPMSNlr0",
        "colab": {
          "base_uri": "https://localhost:8080/"
        },
        "outputId": "12b930c1-cc3a-477e-9a10-d96c5836f651"
      },
      "source": [
        "results"
      ],
      "execution_count": null,
      "outputs": [
        {
          "output_type": "execute_result",
          "data": {
            "text/plain": [
              "{'LSTM': 2.079400322041326}"
            ]
          },
          "metadata": {},
          "execution_count": 19
        }
      ]
    },
    {
      "cell_type": "markdown",
      "source": [
        "Six other machine learning techniques are also included to forecast:\n",
        "\n",
        "*   Multi Layer Perceptron (MLP)\n",
        "*   Ridge Regression\n",
        "*   Support Vector Machine (SVR)\n",
        "*   Decision Tree\n",
        "*   Random Forest (RF)\n",
        "*   Extreme Gradient Boosting (XGB) \n",
        "*   Light Gradient Boosting (LGB)\n"
      ],
      "metadata": {
        "id": "JkWgiuNdm_tu"
      }
    },
    {
      "cell_type": "markdown",
      "metadata": {
        "id": "iydUvHFaNlr0"
      },
      "source": [
        "## Multi Layer Perceptron (MLP)"
      ]
    },
    {
      "cell_type": "code",
      "metadata": {
        "id": "qgFaKnvZNlr1"
      },
      "source": [
        "from sklearn.neural_network import MLPRegressor"
      ],
      "execution_count": null,
      "outputs": []
    },
    {
      "cell_type": "code",
      "metadata": {
        "id": "Gx1lZZm1Nlr1"
      },
      "source": [
        "X_train, X_test = X_norm[:train_size], X_norm[train_size:]\n",
        "                \n",
        "y_train = y_norm[:train_size]\n",
        "y_true = y[train_size:]"
      ],
      "execution_count": null,
      "outputs": []
    },
    {
      "cell_type": "code",
      "metadata": {
        "id": "2l8PEmKUNlr1"
      },
      "source": [
        "### MLP\n",
        "\n",
        "regressor = MLPRegressor(random_state=0,hidden_layer_sizes=(1,10))\n",
        "regressor.fit(X_train, y_train.ravel())\n",
        "\n",
        "y_pred = regressor.predict(X_test)\n",
        "y_pred = scaler_y.inverse_transform(y_pred.reshape(y_pred.shape[0],1))"
      ],
      "execution_count": null,
      "outputs": []
    },
    {
      "cell_type": "code",
      "metadata": {
        "id": "HO7l2cbQNlr1",
        "colab": {
          "base_uri": "https://localhost:8080/"
        },
        "outputId": "20b1954b-eda4-45ae-af39-d26a363fc14f"
      },
      "source": [
        "results['MLP'] = mean_absolute_error(y_pred,y_true)\n",
        "results"
      ],
      "execution_count": null,
      "outputs": [
        {
          "output_type": "execute_result",
          "data": {
            "text/plain": [
              "{'LSTM': 2.079400322041326, 'MLP': 2.773939027053658}"
            ]
          },
          "metadata": {},
          "execution_count": 23
        }
      ]
    },
    {
      "cell_type": "markdown",
      "metadata": {
        "id": "AkpWb_tENlr1"
      },
      "source": [
        "## Ridge Regression"
      ]
    },
    {
      "cell_type": "code",
      "metadata": {
        "id": "0wjvW6HmNlr2"
      },
      "source": [
        "from sklearn.linear_model import Ridge"
      ],
      "execution_count": null,
      "outputs": []
    },
    {
      "cell_type": "code",
      "metadata": {
        "id": "Gh-l-Y_VNlr2"
      },
      "source": [
        "regressor = Ridge(random_state=0)\n",
        "regressor.fit(X_train, y_train)\n",
        "\n",
        "y_pred = regressor.predict(X_test)\n",
        "y_pred = scaler_y.inverse_transform(y_pred.reshape(y_pred.shape[0],1))"
      ],
      "execution_count": null,
      "outputs": []
    },
    {
      "cell_type": "code",
      "metadata": {
        "id": "Jt_RyerpNlr2",
        "colab": {
          "base_uri": "https://localhost:8080/"
        },
        "outputId": "8e163b60-e0da-40b7-ad6f-3bed159bd2a8"
      },
      "source": [
        "results['Ridge'] = mean_absolute_error(y_pred,y_true)\n",
        "results"
      ],
      "execution_count": null,
      "outputs": [
        {
          "output_type": "execute_result",
          "data": {
            "text/plain": [
              "{'LSTM': 2.079400322041326,\n",
              " 'MLP': 2.773939027053658,\n",
              " 'Ridge': 3.2169041681973445}"
            ]
          },
          "metadata": {},
          "execution_count": 26
        }
      ]
    },
    {
      "cell_type": "markdown",
      "metadata": {
        "id": "9kIToXMXNlr2"
      },
      "source": [
        "## Support Vector Regression"
      ]
    },
    {
      "cell_type": "code",
      "metadata": {
        "id": "BPXtjUzLNlr2"
      },
      "source": [
        "from sklearn.svm import SVR"
      ],
      "execution_count": null,
      "outputs": []
    },
    {
      "cell_type": "code",
      "metadata": {
        "id": "0l6eV8RUNlr2"
      },
      "source": [
        "X_train, X_test = X[:train_size], X[train_size:]\n",
        "                \n",
        "y_train = y[:train_size]\n",
        "y_true = y[train_size:]"
      ],
      "execution_count": null,
      "outputs": []
    },
    {
      "cell_type": "code",
      "metadata": {
        "id": "E7-ckPzjNlr3"
      },
      "source": [
        "regressor = SVR()\n",
        "regressor.fit(X_train, y_train.values.ravel())\n",
        "\n",
        "y_pred = regressor.predict(X_test)"
      ],
      "execution_count": null,
      "outputs": []
    },
    {
      "cell_type": "code",
      "metadata": {
        "id": "Yu-RZS1LNlr3",
        "colab": {
          "base_uri": "https://localhost:8080/"
        },
        "outputId": "39807991-04a1-49bb-968e-3fcf9edb31eb"
      },
      "source": [
        "results['SVR'] = mean_absolute_error(y_pred,y_true)\n",
        "results"
      ],
      "execution_count": null,
      "outputs": [
        {
          "output_type": "execute_result",
          "data": {
            "text/plain": [
              "{'LSTM': 2.079400322041326,\n",
              " 'MLP': 2.773939027053658,\n",
              " 'Ridge': 3.2169041681973445,\n",
              " 'SVR': 3.9644902002202107}"
            ]
          },
          "metadata": {},
          "execution_count": 30
        }
      ]
    },
    {
      "cell_type": "markdown",
      "metadata": {
        "id": "J7EDP5FlNlr3"
      },
      "source": [
        "## Decision Tree"
      ]
    },
    {
      "cell_type": "code",
      "metadata": {
        "id": "LmpYqGPCNlr3"
      },
      "source": [
        "from sklearn.tree import DecisionTreeRegressor"
      ],
      "execution_count": null,
      "outputs": []
    },
    {
      "cell_type": "code",
      "metadata": {
        "id": "EhWyLdvINlr3"
      },
      "source": [
        "regressor = DecisionTreeRegressor(random_state=0,min_samples_split=10)\n",
        "regressor.fit(X_train, y_train.values.ravel())\n",
        "\n",
        "y_pred = regressor.predict(X_test)"
      ],
      "execution_count": null,
      "outputs": []
    },
    {
      "cell_type": "code",
      "metadata": {
        "id": "QgrshghaNlr3",
        "colab": {
          "base_uri": "https://localhost:8080/"
        },
        "outputId": "742e2e7b-36ea-4142-be2e-1517b34d6158"
      },
      "source": [
        "results['Desicion Tree'] = mean_absolute_error(y_pred,y_true)\n",
        "results"
      ],
      "execution_count": null,
      "outputs": [
        {
          "output_type": "execute_result",
          "data": {
            "text/plain": [
              "{'Desicion Tree': 2.4364447672477128,\n",
              " 'LSTM': 2.079400322041326,\n",
              " 'MLP': 2.773939027053658,\n",
              " 'Ridge': 3.2169041681973445,\n",
              " 'SVR': 3.9644902002202107}"
            ]
          },
          "metadata": {},
          "execution_count": 33
        }
      ]
    },
    {
      "cell_type": "markdown",
      "metadata": {
        "id": "AJ9njPX5Nlr3"
      },
      "source": [
        "## Random Forests"
      ]
    },
    {
      "cell_type": "code",
      "metadata": {
        "id": "iOWNcXzaNlr4"
      },
      "source": [
        "from sklearn.ensemble import RandomForestRegressor"
      ],
      "execution_count": null,
      "outputs": []
    },
    {
      "cell_type": "code",
      "metadata": {
        "id": "XZb6hdvpNlr4"
      },
      "source": [
        "regressor = RandomForestRegressor(n_estimators = 100,random_state = 0,min_samples_split=10)\n",
        "regressor.fit(X_train, y_train.values.ravel())\n",
        "\n",
        "y_pred = regressor.predict(X_test)"
      ],
      "execution_count": null,
      "outputs": []
    },
    {
      "cell_type": "code",
      "metadata": {
        "id": "10mGzOgCNlr4",
        "colab": {
          "base_uri": "https://localhost:8080/"
        },
        "outputId": "166881e7-330e-4b9a-c84a-5032444b8efa"
      },
      "source": [
        "results['Random Forests'] = mean_absolute_error(y_pred,y_true)\n",
        "results"
      ],
      "execution_count": null,
      "outputs": [
        {
          "output_type": "execute_result",
          "data": {
            "text/plain": [
              "{'Desicion Tree': 2.4364447672477128,\n",
              " 'LSTM': 2.079400322041326,\n",
              " 'MLP': 2.773939027053658,\n",
              " 'Random Forests': 2.0199710939992466,\n",
              " 'Ridge': 3.2169041681973445,\n",
              " 'SVR': 3.9644902002202107}"
            ]
          },
          "metadata": {},
          "execution_count": 36
        }
      ]
    },
    {
      "cell_type": "markdown",
      "metadata": {
        "id": "j0fAId8INlr4"
      },
      "source": [
        "## Extreme Gradient Boosting (XGB)"
      ]
    },
    {
      "cell_type": "code",
      "metadata": {
        "id": "cVjADRrTNlr4"
      },
      "source": [
        "from xgboost import XGBRegressor"
      ],
      "execution_count": null,
      "outputs": []
    },
    {
      "cell_type": "code",
      "metadata": {
        "id": "omqaTIaLNlr4"
      },
      "source": [
        "regressor = XGBRegressor(n_estimators = 100,max_depth = 9,objective = 'reg:squarederror')\n",
        "regressor.fit(X_train, y_train.values.ravel())\n",
        "\n",
        "y_pred = regressor.predict(X_test)"
      ],
      "execution_count": null,
      "outputs": []
    },
    {
      "cell_type": "code",
      "metadata": {
        "id": "6K8uMPJtNlr4",
        "colab": {
          "base_uri": "https://localhost:8080/"
        },
        "outputId": "c3e9abd3-f907-4179-9d4d-70b336d7ed88"
      },
      "source": [
        "results['XGBoost'] = mean_absolute_error(y_pred,y_true)\n",
        "results"
      ],
      "execution_count": null,
      "outputs": [
        {
          "output_type": "execute_result",
          "data": {
            "text/plain": [
              "{'Desicion Tree': 2.4364447672477128,\n",
              " 'LSTM': 2.079400322041326,\n",
              " 'MLP': 2.773939027053658,\n",
              " 'Random Forests': 2.0199710939992466,\n",
              " 'Ridge': 3.2169041681973445,\n",
              " 'SVR': 3.9644902002202107,\n",
              " 'XGBoost': 2.0912053341576295}"
            ]
          },
          "metadata": {},
          "execution_count": 39
        }
      ]
    },
    {
      "cell_type": "markdown",
      "metadata": {
        "id": "ecPZ7yJ3Nlr5"
      },
      "source": [
        "## Light Gradient Boosting Machines (LGB)\n"
      ]
    },
    {
      "cell_type": "code",
      "metadata": {
        "id": "HEaFQZUUNlr5"
      },
      "source": [
        "from lightgbm import LGBMRegressor"
      ],
      "execution_count": null,
      "outputs": []
    },
    {
      "cell_type": "code",
      "metadata": {
        "id": "w50JEnMLNlr5"
      },
      "source": [
        "regressor = LGBMRegressor(n_estimators = 100)\n",
        "regressor.fit(X_train, y_train.values.ravel())\n",
        "\n",
        "y_pred = regressor.predict(X_test)"
      ],
      "execution_count": null,
      "outputs": []
    },
    {
      "cell_type": "code",
      "metadata": {
        "id": "pt-e2fiLNlr5",
        "colab": {
          "base_uri": "https://localhost:8080/"
        },
        "outputId": "1ed9379a-76d2-4176-c62e-b4463765ab3d"
      },
      "source": [
        "results['LGB'] = mean_absolute_error(y_pred,y_true)\n",
        "results"
      ],
      "execution_count": null,
      "outputs": [
        {
          "output_type": "execute_result",
          "data": {
            "text/plain": [
              "{'Desicion Tree': 2.4364447672477128,\n",
              " 'LGB': 1.9705170312991633,\n",
              " 'LSTM': 2.079400322041326,\n",
              " 'MLP': 2.773939027053658,\n",
              " 'Random Forests': 2.0199710939992466,\n",
              " 'Ridge': 3.2169041681973445,\n",
              " 'SVR': 3.9644902002202107,\n",
              " 'XGBoost': 2.0912053341576295}"
            ]
          },
          "metadata": {},
          "execution_count": 42
        }
      ]
    },
    {
      "cell_type": "code",
      "metadata": {
        "id": "AcUHQ_NVNlr5",
        "colab": {
          "base_uri": "https://localhost:8080/"
        },
        "outputId": "403666d6-bc69-4eb0-8b77-7e6a96a885cd"
      },
      "source": [
        "result_df = pd.DataFrame.from_dict(results,orient='index').reset_index()\n",
        "result_df.columns = ['Method','MAE']\n",
        "result_df.head(10)"
      ],
      "execution_count": null,
      "outputs": [
        {
          "output_type": "execute_result",
          "data": {
            "text/plain": [
              "           Method       MAE\n",
              "0            LSTM  2.079400\n",
              "1             MLP  2.773939\n",
              "2           Ridge  3.216904\n",
              "3             SVR  3.964490\n",
              "4   Desicion Tree  2.436445\n",
              "5  Random Forests  2.019971\n",
              "6         XGBoost  2.091205\n",
              "7             LGB  1.970517"
            ],
            "text/html": [
              "\n",
              "  <div id=\"df-d66e0e03-5a21-43eb-aac4-a3405c10db16\">\n",
              "    <div class=\"colab-df-container\">\n",
              "      <div>\n",
              "<style scoped>\n",
              "    .dataframe tbody tr th:only-of-type {\n",
              "        vertical-align: middle;\n",
              "    }\n",
              "\n",
              "    .dataframe tbody tr th {\n",
              "        vertical-align: top;\n",
              "    }\n",
              "\n",
              "    .dataframe thead th {\n",
              "        text-align: right;\n",
              "    }\n",
              "</style>\n",
              "<table border=\"1\" class=\"dataframe\">\n",
              "  <thead>\n",
              "    <tr style=\"text-align: right;\">\n",
              "      <th></th>\n",
              "      <th>Method</th>\n",
              "      <th>MAE</th>\n",
              "    </tr>\n",
              "  </thead>\n",
              "  <tbody>\n",
              "    <tr>\n",
              "      <th>0</th>\n",
              "      <td>LSTM</td>\n",
              "      <td>2.079400</td>\n",
              "    </tr>\n",
              "    <tr>\n",
              "      <th>1</th>\n",
              "      <td>MLP</td>\n",
              "      <td>2.773939</td>\n",
              "    </tr>\n",
              "    <tr>\n",
              "      <th>2</th>\n",
              "      <td>Ridge</td>\n",
              "      <td>3.216904</td>\n",
              "    </tr>\n",
              "    <tr>\n",
              "      <th>3</th>\n",
              "      <td>SVR</td>\n",
              "      <td>3.964490</td>\n",
              "    </tr>\n",
              "    <tr>\n",
              "      <th>4</th>\n",
              "      <td>Desicion Tree</td>\n",
              "      <td>2.436445</td>\n",
              "    </tr>\n",
              "    <tr>\n",
              "      <th>5</th>\n",
              "      <td>Random Forests</td>\n",
              "      <td>2.019971</td>\n",
              "    </tr>\n",
              "    <tr>\n",
              "      <th>6</th>\n",
              "      <td>XGBoost</td>\n",
              "      <td>2.091205</td>\n",
              "    </tr>\n",
              "    <tr>\n",
              "      <th>7</th>\n",
              "      <td>LGB</td>\n",
              "      <td>1.970517</td>\n",
              "    </tr>\n",
              "  </tbody>\n",
              "</table>\n",
              "</div>\n",
              "      <button class=\"colab-df-convert\" onclick=\"convertToInteractive('df-d66e0e03-5a21-43eb-aac4-a3405c10db16')\"\n",
              "              title=\"Convert this dataframe to an interactive table.\"\n",
              "              style=\"display:none;\">\n",
              "        \n",
              "  <svg xmlns=\"http://www.w3.org/2000/svg\" height=\"24px\"viewBox=\"0 0 24 24\"\n",
              "       width=\"24px\">\n",
              "    <path d=\"M0 0h24v24H0V0z\" fill=\"none\"/>\n",
              "    <path d=\"M18.56 5.44l.94 2.06.94-2.06 2.06-.94-2.06-.94-.94-2.06-.94 2.06-2.06.94zm-11 1L8.5 8.5l.94-2.06 2.06-.94-2.06-.94L8.5 2.5l-.94 2.06-2.06.94zm10 10l.94 2.06.94-2.06 2.06-.94-2.06-.94-.94-2.06-.94 2.06-2.06.94z\"/><path d=\"M17.41 7.96l-1.37-1.37c-.4-.4-.92-.59-1.43-.59-.52 0-1.04.2-1.43.59L10.3 9.45l-7.72 7.72c-.78.78-.78 2.05 0 2.83L4 21.41c.39.39.9.59 1.41.59.51 0 1.02-.2 1.41-.59l7.78-7.78 2.81-2.81c.8-.78.8-2.07 0-2.86zM5.41 20L4 18.59l7.72-7.72 1.47 1.35L5.41 20z\"/>\n",
              "  </svg>\n",
              "      </button>\n",
              "      \n",
              "  <style>\n",
              "    .colab-df-container {\n",
              "      display:flex;\n",
              "      flex-wrap:wrap;\n",
              "      gap: 12px;\n",
              "    }\n",
              "\n",
              "    .colab-df-convert {\n",
              "      background-color: #E8F0FE;\n",
              "      border: none;\n",
              "      border-radius: 50%;\n",
              "      cursor: pointer;\n",
              "      display: none;\n",
              "      fill: #1967D2;\n",
              "      height: 32px;\n",
              "      padding: 0 0 0 0;\n",
              "      width: 32px;\n",
              "    }\n",
              "\n",
              "    .colab-df-convert:hover {\n",
              "      background-color: #E2EBFA;\n",
              "      box-shadow: 0px 1px 2px rgba(60, 64, 67, 0.3), 0px 1px 3px 1px rgba(60, 64, 67, 0.15);\n",
              "      fill: #174EA6;\n",
              "    }\n",
              "\n",
              "    [theme=dark] .colab-df-convert {\n",
              "      background-color: #3B4455;\n",
              "      fill: #D2E3FC;\n",
              "    }\n",
              "\n",
              "    [theme=dark] .colab-df-convert:hover {\n",
              "      background-color: #434B5C;\n",
              "      box-shadow: 0px 1px 3px 1px rgba(0, 0, 0, 0.15);\n",
              "      filter: drop-shadow(0px 1px 2px rgba(0, 0, 0, 0.3));\n",
              "      fill: #FFFFFF;\n",
              "    }\n",
              "  </style>\n",
              "\n",
              "      <script>\n",
              "        const buttonEl =\n",
              "          document.querySelector('#df-d66e0e03-5a21-43eb-aac4-a3405c10db16 button.colab-df-convert');\n",
              "        buttonEl.style.display =\n",
              "          google.colab.kernel.accessAllowed ? 'block' : 'none';\n",
              "\n",
              "        async function convertToInteractive(key) {\n",
              "          const element = document.querySelector('#df-d66e0e03-5a21-43eb-aac4-a3405c10db16');\n",
              "          const dataTable =\n",
              "            await google.colab.kernel.invokeFunction('convertToInteractive',\n",
              "                                                     [key], {});\n",
              "          if (!dataTable) return;\n",
              "\n",
              "          const docLinkHtml = 'Like what you see? Visit the ' +\n",
              "            '<a target=\"_blank\" href=https://colab.research.google.com/notebooks/data_table.ipynb>data table notebook</a>'\n",
              "            + ' to learn more about interactive tables.';\n",
              "          element.innerHTML = '';\n",
              "          dataTable['output_type'] = 'display_data';\n",
              "          await google.colab.output.renderOutput(dataTable, element);\n",
              "          const docLink = document.createElement('div');\n",
              "          docLink.innerHTML = docLinkHtml;\n",
              "          element.appendChild(docLink);\n",
              "        }\n",
              "      </script>\n",
              "    </div>\n",
              "  </div>\n",
              "  "
            ]
          },
          "metadata": {},
          "execution_count": 43
        }
      ]
    },
    {
      "cell_type": "markdown",
      "source": [
        "Finally, comparing MAE values, it is seen that deep learning method\n",
        "(LSTM) and ensemble methods (LGB, Random Forest, and XGBoost) are superior to\n",
        "other techniques for this application. "
      ],
      "metadata": {
        "id": "ewdllcLEoEz4"
      }
    }
  ]
}