{
  "nbformat": 4,
  "nbformat_minor": 0,
  "metadata": {
    "colab": {
      "name": "12.3. Customer Churn.ipynb",
      "provenance": [],
      "collapsed_sections": [],
      "include_colab_link": true
    },
    "kernelspec": {
      "name": "python3",
      "display_name": "Python 3"
    },
    "language_info": {
      "name": "python"
    }
  },
  "cells": [
    {
      "cell_type": "markdown",
      "metadata": {
        "id": "view-in-github",
        "colab_type": "text"
      },
      "source": [
        "<a href=\"https://colab.research.google.com/github/ITU-Business-Analytics-Team/Business_Analytics_for_Professionals/blob/main/Part%20II%20%3A%20Business%20Applications/Chapter%2012%3A%20CRM%20%26%20Marketing%20Analytics/12_3_Customer_Churn.ipynb\" target=\"_parent\"><img src=\"https://colab.research.google.com/assets/colab-badge.svg\" alt=\"Open In Colab\"/></a>"
      ]
    },
    {
      "cell_type": "markdown",
      "metadata": {
        "id": "-cVmGw1pz_R1"
      },
      "source": [
        "# **CRM & Marketing Analytics**\n",
        "## Customer Churn Analysis\n"
      ]
    },
    {
      "cell_type": "markdown",
      "metadata": {
        "id": "SG5ym44ihhTP"
      },
      "source": [
        "In this case study, the churn behavior of telecom customers is predicted. Here, X is a telecommunication company providing its customers with various services. X wants to identify the customers who are likely to terminate the relationship or switch to any other provider. To do this, the company will analyze a [dataset](https://www.kaggle.com/mnassrib/telecom-churn-datasets) of 3333 records from Kaggle involving features related to customers' service usage."
      ]
    },
    {
      "cell_type": "code",
      "metadata": {
        "id": "vcOjgq6xz2EQ"
      },
      "source": [
        "import pandas as pd\n",
        "import numpy as np"
      ],
      "execution_count": null,
      "outputs": []
    },
    {
      "cell_type": "code",
      "metadata": {
        "id": "Sxo16X9wFD-X"
      },
      "source": [
        ""
      ],
      "execution_count": null,
      "outputs": []
    },
    {
      "cell_type": "markdown",
      "metadata": {
        "id": "kWPTLMharoxV"
      },
      "source": [
        "##**Data Preparation & Feature Engineering Phase**"
      ]
    },
    {
      "cell_type": "code",
      "metadata": {
        "id": "D3dN-AfBD01I"
      },
      "source": [
        "#Dataset import\n",
        "url='https://drive.google.com/file/d/1WgUu5jvoq9Pthf4qQUt-C7ZpIPWz3zOU/view?usp=sharing'\n",
        "path = 'https://drive.google.com/uc?export=download&id='+url.split('/')[-2]\n",
        "df = pd.read_csv(path) "
      ],
      "execution_count": null,
      "outputs": []
    },
    {
      "cell_type": "code",
      "metadata": {
        "colab": {
          "base_uri": "https://localhost:8080/"
        },
        "id": "bkj8dvcfIoQT",
        "outputId": "28afc95f-171a-4351-90ce-d0f403e78534"
      },
      "source": [
        "#The dataset consists of 3333 observations and 20 variables.\n",
        "df.shape"
      ],
      "execution_count": null,
      "outputs": [
        {
          "output_type": "execute_result",
          "data": {
            "text/plain": [
              "(3333, 20)"
            ]
          },
          "metadata": {},
          "execution_count": 3
        }
      ]
    },
    {
      "cell_type": "markdown",
      "metadata": {
        "id": "MZqcR6iORbeP"
      },
      "source": [
        "To test the accuracy of the models to be developed the raw data is divided into two parts with an 80/20 ratio preserving the distribution of the classes. Thus, the training dataset has 2666 and the test dataset has 667 instances and 15% of each set represents instances for churned customers."
      ]
    },
    {
      "cell_type": "code",
      "metadata": {
        "colab": {
          "base_uri": "https://localhost:8080/",
          "height": 261
        },
        "id": "Al-iFDudMZV5",
        "outputId": "6fabe582-1414-4644-f488-4294cfbbd713"
      },
      "source": [
        "#Split training & test data\n",
        "train_dataset = df.loc[0:2665]\n",
        "test_dataset = df.loc[2666:3332]\n",
        "train_dataset.head()"
      ],
      "execution_count": null,
      "outputs": [
        {
          "output_type": "execute_result",
          "data": {
            "text/html": [
              "<div>\n",
              "<style scoped>\n",
              "    .dataframe tbody tr th:only-of-type {\n",
              "        vertical-align: middle;\n",
              "    }\n",
              "\n",
              "    .dataframe tbody tr th {\n",
              "        vertical-align: top;\n",
              "    }\n",
              "\n",
              "    .dataframe thead th {\n",
              "        text-align: right;\n",
              "    }\n",
              "</style>\n",
              "<table border=\"1\" class=\"dataframe\">\n",
              "  <thead>\n",
              "    <tr style=\"text-align: right;\">\n",
              "      <th></th>\n",
              "      <th>State</th>\n",
              "      <th>Account length</th>\n",
              "      <th>Area code</th>\n",
              "      <th>International plan</th>\n",
              "      <th>Voice mail plan</th>\n",
              "      <th>Number vmail messages</th>\n",
              "      <th>Total day minutes</th>\n",
              "      <th>Total day calls</th>\n",
              "      <th>Total day charge</th>\n",
              "      <th>Total eve minutes</th>\n",
              "      <th>Total eve calls</th>\n",
              "      <th>Total eve charge</th>\n",
              "      <th>Total night minutes</th>\n",
              "      <th>Total night calls</th>\n",
              "      <th>Total night charge</th>\n",
              "      <th>Total intl minutes</th>\n",
              "      <th>Total intl calls</th>\n",
              "      <th>Total intl charge</th>\n",
              "      <th>Customer service calls</th>\n",
              "      <th>Churn</th>\n",
              "    </tr>\n",
              "  </thead>\n",
              "  <tbody>\n",
              "    <tr>\n",
              "      <th>0</th>\n",
              "      <td>KS</td>\n",
              "      <td>128</td>\n",
              "      <td>415</td>\n",
              "      <td>No</td>\n",
              "      <td>Yes</td>\n",
              "      <td>25</td>\n",
              "      <td>265.1</td>\n",
              "      <td>110</td>\n",
              "      <td>45.07</td>\n",
              "      <td>197.4</td>\n",
              "      <td>99</td>\n",
              "      <td>16.78</td>\n",
              "      <td>244.7</td>\n",
              "      <td>91</td>\n",
              "      <td>11.01</td>\n",
              "      <td>10.0</td>\n",
              "      <td>3</td>\n",
              "      <td>2.70</td>\n",
              "      <td>1</td>\n",
              "      <td>False</td>\n",
              "    </tr>\n",
              "    <tr>\n",
              "      <th>1</th>\n",
              "      <td>OH</td>\n",
              "      <td>107</td>\n",
              "      <td>415</td>\n",
              "      <td>No</td>\n",
              "      <td>Yes</td>\n",
              "      <td>26</td>\n",
              "      <td>161.6</td>\n",
              "      <td>123</td>\n",
              "      <td>27.47</td>\n",
              "      <td>195.5</td>\n",
              "      <td>103</td>\n",
              "      <td>16.62</td>\n",
              "      <td>254.4</td>\n",
              "      <td>103</td>\n",
              "      <td>11.45</td>\n",
              "      <td>13.7</td>\n",
              "      <td>3</td>\n",
              "      <td>3.70</td>\n",
              "      <td>1</td>\n",
              "      <td>False</td>\n",
              "    </tr>\n",
              "    <tr>\n",
              "      <th>2</th>\n",
              "      <td>NJ</td>\n",
              "      <td>137</td>\n",
              "      <td>415</td>\n",
              "      <td>No</td>\n",
              "      <td>No</td>\n",
              "      <td>0</td>\n",
              "      <td>243.4</td>\n",
              "      <td>114</td>\n",
              "      <td>41.38</td>\n",
              "      <td>121.2</td>\n",
              "      <td>110</td>\n",
              "      <td>10.30</td>\n",
              "      <td>162.6</td>\n",
              "      <td>104</td>\n",
              "      <td>7.32</td>\n",
              "      <td>12.2</td>\n",
              "      <td>5</td>\n",
              "      <td>3.29</td>\n",
              "      <td>0</td>\n",
              "      <td>False</td>\n",
              "    </tr>\n",
              "    <tr>\n",
              "      <th>3</th>\n",
              "      <td>OH</td>\n",
              "      <td>84</td>\n",
              "      <td>408</td>\n",
              "      <td>Yes</td>\n",
              "      <td>No</td>\n",
              "      <td>0</td>\n",
              "      <td>299.4</td>\n",
              "      <td>71</td>\n",
              "      <td>50.90</td>\n",
              "      <td>61.9</td>\n",
              "      <td>88</td>\n",
              "      <td>5.26</td>\n",
              "      <td>196.9</td>\n",
              "      <td>89</td>\n",
              "      <td>8.86</td>\n",
              "      <td>6.6</td>\n",
              "      <td>7</td>\n",
              "      <td>1.78</td>\n",
              "      <td>2</td>\n",
              "      <td>False</td>\n",
              "    </tr>\n",
              "    <tr>\n",
              "      <th>4</th>\n",
              "      <td>OK</td>\n",
              "      <td>75</td>\n",
              "      <td>415</td>\n",
              "      <td>Yes</td>\n",
              "      <td>No</td>\n",
              "      <td>0</td>\n",
              "      <td>166.7</td>\n",
              "      <td>113</td>\n",
              "      <td>28.34</td>\n",
              "      <td>148.3</td>\n",
              "      <td>122</td>\n",
              "      <td>12.61</td>\n",
              "      <td>186.9</td>\n",
              "      <td>121</td>\n",
              "      <td>8.41</td>\n",
              "      <td>10.1</td>\n",
              "      <td>3</td>\n",
              "      <td>2.73</td>\n",
              "      <td>3</td>\n",
              "      <td>False</td>\n",
              "    </tr>\n",
              "  </tbody>\n",
              "</table>\n",
              "</div>"
            ],
            "text/plain": [
              "  State  Account length  ...  Customer service calls  Churn\n",
              "0    KS             128  ...                       1  False\n",
              "1    OH             107  ...                       1  False\n",
              "2    NJ             137  ...                       0  False\n",
              "3    OH              84  ...                       2  False\n",
              "4    OK              75  ...                       3  False\n",
              "\n",
              "[5 rows x 20 columns]"
            ]
          },
          "metadata": {},
          "execution_count": 4
        }
      ]
    },
    {
      "cell_type": "code",
      "metadata": {
        "id": "ldf3-nV80FQr"
      },
      "source": [
        "#Separate training & test data for labels and features\n",
        "target_name=\"Churn\" \n",
        "feature_names=train_dataset.columns.drop(target_name)\n",
        "\n",
        "training_features = train_dataset[feature_names]\n",
        "training_labels = train_dataset[target_name]\n",
        "\n",
        "test_features = test_dataset[feature_names]\n",
        "test_labels = test_dataset[target_name]"
      ],
      "execution_count": null,
      "outputs": []
    },
    {
      "cell_type": "code",
      "metadata": {
        "colab": {
          "base_uri": "https://localhost:8080/",
          "height": 261
        },
        "id": "G59eXB6r01Qs",
        "outputId": "771222ac-9324-4795-8932-1e99eb93a5a2"
      },
      "source": [
        "training_features.head(5)"
      ],
      "execution_count": null,
      "outputs": [
        {
          "output_type": "execute_result",
          "data": {
            "text/html": [
              "<div>\n",
              "<style scoped>\n",
              "    .dataframe tbody tr th:only-of-type {\n",
              "        vertical-align: middle;\n",
              "    }\n",
              "\n",
              "    .dataframe tbody tr th {\n",
              "        vertical-align: top;\n",
              "    }\n",
              "\n",
              "    .dataframe thead th {\n",
              "        text-align: right;\n",
              "    }\n",
              "</style>\n",
              "<table border=\"1\" class=\"dataframe\">\n",
              "  <thead>\n",
              "    <tr style=\"text-align: right;\">\n",
              "      <th></th>\n",
              "      <th>State</th>\n",
              "      <th>Account length</th>\n",
              "      <th>Area code</th>\n",
              "      <th>International plan</th>\n",
              "      <th>Voice mail plan</th>\n",
              "      <th>Number vmail messages</th>\n",
              "      <th>Total day minutes</th>\n",
              "      <th>Total day calls</th>\n",
              "      <th>Total day charge</th>\n",
              "      <th>Total eve minutes</th>\n",
              "      <th>Total eve calls</th>\n",
              "      <th>Total eve charge</th>\n",
              "      <th>Total night minutes</th>\n",
              "      <th>Total night calls</th>\n",
              "      <th>Total night charge</th>\n",
              "      <th>Total intl minutes</th>\n",
              "      <th>Total intl calls</th>\n",
              "      <th>Total intl charge</th>\n",
              "      <th>Customer service calls</th>\n",
              "    </tr>\n",
              "  </thead>\n",
              "  <tbody>\n",
              "    <tr>\n",
              "      <th>0</th>\n",
              "      <td>KS</td>\n",
              "      <td>128</td>\n",
              "      <td>415</td>\n",
              "      <td>No</td>\n",
              "      <td>Yes</td>\n",
              "      <td>25</td>\n",
              "      <td>265.1</td>\n",
              "      <td>110</td>\n",
              "      <td>45.07</td>\n",
              "      <td>197.4</td>\n",
              "      <td>99</td>\n",
              "      <td>16.78</td>\n",
              "      <td>244.7</td>\n",
              "      <td>91</td>\n",
              "      <td>11.01</td>\n",
              "      <td>10.0</td>\n",
              "      <td>3</td>\n",
              "      <td>2.70</td>\n",
              "      <td>1</td>\n",
              "    </tr>\n",
              "    <tr>\n",
              "      <th>1</th>\n",
              "      <td>OH</td>\n",
              "      <td>107</td>\n",
              "      <td>415</td>\n",
              "      <td>No</td>\n",
              "      <td>Yes</td>\n",
              "      <td>26</td>\n",
              "      <td>161.6</td>\n",
              "      <td>123</td>\n",
              "      <td>27.47</td>\n",
              "      <td>195.5</td>\n",
              "      <td>103</td>\n",
              "      <td>16.62</td>\n",
              "      <td>254.4</td>\n",
              "      <td>103</td>\n",
              "      <td>11.45</td>\n",
              "      <td>13.7</td>\n",
              "      <td>3</td>\n",
              "      <td>3.70</td>\n",
              "      <td>1</td>\n",
              "    </tr>\n",
              "    <tr>\n",
              "      <th>2</th>\n",
              "      <td>NJ</td>\n",
              "      <td>137</td>\n",
              "      <td>415</td>\n",
              "      <td>No</td>\n",
              "      <td>No</td>\n",
              "      <td>0</td>\n",
              "      <td>243.4</td>\n",
              "      <td>114</td>\n",
              "      <td>41.38</td>\n",
              "      <td>121.2</td>\n",
              "      <td>110</td>\n",
              "      <td>10.30</td>\n",
              "      <td>162.6</td>\n",
              "      <td>104</td>\n",
              "      <td>7.32</td>\n",
              "      <td>12.2</td>\n",
              "      <td>5</td>\n",
              "      <td>3.29</td>\n",
              "      <td>0</td>\n",
              "    </tr>\n",
              "    <tr>\n",
              "      <th>3</th>\n",
              "      <td>OH</td>\n",
              "      <td>84</td>\n",
              "      <td>408</td>\n",
              "      <td>Yes</td>\n",
              "      <td>No</td>\n",
              "      <td>0</td>\n",
              "      <td>299.4</td>\n",
              "      <td>71</td>\n",
              "      <td>50.90</td>\n",
              "      <td>61.9</td>\n",
              "      <td>88</td>\n",
              "      <td>5.26</td>\n",
              "      <td>196.9</td>\n",
              "      <td>89</td>\n",
              "      <td>8.86</td>\n",
              "      <td>6.6</td>\n",
              "      <td>7</td>\n",
              "      <td>1.78</td>\n",
              "      <td>2</td>\n",
              "    </tr>\n",
              "    <tr>\n",
              "      <th>4</th>\n",
              "      <td>OK</td>\n",
              "      <td>75</td>\n",
              "      <td>415</td>\n",
              "      <td>Yes</td>\n",
              "      <td>No</td>\n",
              "      <td>0</td>\n",
              "      <td>166.7</td>\n",
              "      <td>113</td>\n",
              "      <td>28.34</td>\n",
              "      <td>148.3</td>\n",
              "      <td>122</td>\n",
              "      <td>12.61</td>\n",
              "      <td>186.9</td>\n",
              "      <td>121</td>\n",
              "      <td>8.41</td>\n",
              "      <td>10.1</td>\n",
              "      <td>3</td>\n",
              "      <td>2.73</td>\n",
              "      <td>3</td>\n",
              "    </tr>\n",
              "  </tbody>\n",
              "</table>\n",
              "</div>"
            ],
            "text/plain": [
              "  State  Account length  ...  Total intl charge Customer service calls\n",
              "0    KS             128  ...               2.70                      1\n",
              "1    OH             107  ...               3.70                      1\n",
              "2    NJ             137  ...               3.29                      0\n",
              "3    OH              84  ...               1.78                      2\n",
              "4    OK              75  ...               2.73                      3\n",
              "\n",
              "[5 rows x 19 columns]"
            ]
          },
          "metadata": {},
          "execution_count": 6
        }
      ]
    },
    {
      "cell_type": "code",
      "metadata": {
        "colab": {
          "base_uri": "https://localhost:8080/",
          "height": 381
        },
        "id": "6GtSZF251BTF",
        "outputId": "4dfb5eb7-d7ef-4bf6-a954-12593658b278"
      },
      "source": [
        "#Check how many null values there are for each feature\n",
        "#There is no missing value in the raw data\n",
        "print('Number of null Rows in training_features ')\n",
        "display(training_features.isna().sum())"
      ],
      "execution_count": null,
      "outputs": [
        {
          "output_type": "stream",
          "name": "stdout",
          "text": [
            "Number of null Rows in training_features \n"
          ]
        },
        {
          "output_type": "display_data",
          "data": {
            "text/plain": [
              "State                     0\n",
              "Account length            0\n",
              "Area code                 0\n",
              "International plan        0\n",
              "Voice mail plan           0\n",
              "Number vmail messages     0\n",
              "Total day minutes         0\n",
              "Total day calls           0\n",
              "Total day charge          0\n",
              "Total eve minutes         0\n",
              "Total eve calls           0\n",
              "Total eve charge          0\n",
              "Total night minutes       0\n",
              "Total night calls         0\n",
              "Total night charge        0\n",
              "Total intl minutes        0\n",
              "Total intl calls          0\n",
              "Total intl charge         0\n",
              "Customer service calls    0\n",
              "dtype: int64"
            ]
          },
          "metadata": {}
        }
      ]
    },
    {
      "cell_type": "code",
      "metadata": {
        "colab": {
          "base_uri": "https://localhost:8080/"
        },
        "id": "mBUhNSbo8yZl",
        "outputId": "adbf883c-03e9-4568-a912-4e9e26712380"
      },
      "source": [
        "#Check data types of features\n",
        "training_features.dtypes"
      ],
      "execution_count": null,
      "outputs": [
        {
          "output_type": "execute_result",
          "data": {
            "text/plain": [
              "State                      object\n",
              "Account length              int64\n",
              "Area code                   int64\n",
              "International plan         object\n",
              "Voice mail plan            object\n",
              "Number vmail messages       int64\n",
              "Total day minutes         float64\n",
              "Total day calls             int64\n",
              "Total day charge          float64\n",
              "Total eve minutes         float64\n",
              "Total eve calls             int64\n",
              "Total eve charge          float64\n",
              "Total night minutes       float64\n",
              "Total night calls           int64\n",
              "Total night charge        float64\n",
              "Total intl minutes        float64\n",
              "Total intl calls            int64\n",
              "Total intl charge         float64\n",
              "Customer service calls      int64\n",
              "dtype: object"
            ]
          },
          "metadata": {},
          "execution_count": 8
        }
      ]
    },
    {
      "cell_type": "code",
      "metadata": {
        "colab": {
          "base_uri": "https://localhost:8080/"
        },
        "id": "DnkgMY9ctffe",
        "outputId": "8cbd38e3-acfa-44bb-c92b-d54de89ebbda"
      },
      "source": [
        "categorical_features = training_features.select_dtypes(include=['object']).columns.tolist()\n",
        "categorical_features\n"
      ],
      "execution_count": null,
      "outputs": [
        {
          "output_type": "execute_result",
          "data": {
            "text/plain": [
              "['State', 'International plan', 'Voice mail plan']"
            ]
          },
          "metadata": {},
          "execution_count": 9
        }
      ]
    },
    {
      "cell_type": "markdown",
      "metadata": {
        "id": "FLWoJBOOfu_7"
      },
      "source": [
        " 'State', 'International plan', and 'Voice mail plan' are categorical features. The features 'International plan' and 'Voice mail plan' have a sequence of labels with values 'Yes' and 'No' while the feature 'State' has 51 unique labels. The other features are all numerical."
      ]
    },
    {
      "cell_type": "code",
      "metadata": {
        "colab": {
          "base_uri": "https://localhost:8080/"
        },
        "id": "X4K268s1V7Io",
        "outputId": "f3cddc54-ed1c-4123-ff9d-c08551354d06"
      },
      "source": [
        "print(training_features[\"State\"].unique())\n",
        "print(\"# of unique State values = \" + str(len(training_features[\"State\"].unique())))\n",
        "print(training_features[\"International plan\"].unique())\n",
        "print(training_features[\"Voice mail plan\"].unique())"
      ],
      "execution_count": null,
      "outputs": [
        {
          "output_type": "stream",
          "name": "stdout",
          "text": [
            "['KS' 'OH' 'NJ' 'OK' 'AL' 'MA' 'MO' 'WV' 'RI' 'IA' 'MT' 'ID' 'VT' 'VA'\n",
            " 'TX' 'FL' 'CO' 'AZ' 'NE' 'WY' 'IL' 'NH' 'LA' 'GA' 'AK' 'MD' 'AR' 'WI'\n",
            " 'OR' 'DE' 'IN' 'UT' 'CA' 'SD' 'NC' 'WA' 'MN' 'NM' 'NV' 'DC' 'NY' 'KY'\n",
            " 'ME' 'MS' 'MI' 'SC' 'TN' 'PA' 'HI' 'ND' 'CT']\n",
            "# of unique State values = 51\n",
            "['No' 'Yes']\n",
            "['Yes' 'No']\n"
          ]
        }
      ]
    },
    {
      "cell_type": "markdown",
      "metadata": {
        "id": "ZQEE5i7SN_rD"
      },
      "source": [
        "Following is a list of all variables and their descriptions, taken from the [Kaggle dataset.](https://www.kaggle.com/c/customer-churn-prediction-2020)\n",
        "\n",
        "\n",
        "\n",
        " Feature Name |  Data Type | Description\n",
        "------------|--------------------|----------------------\n",
        "state|string|2-letter code of the US state of customer residence\n",
        "account_length|numerical|Number of months the customer has been receiving service at the current telco provider\n",
        "area_code|string|'area_code_AAA' where AAA = 3 digit area code\n",
        "international_plan|Yes or No|The customer has international plan\n",
        "voice_mail_plan|Yes or No|The customer has voice mail plan\n",
        "number_vmail_messages|numerical|Number of voice-mail messages\n",
        "total_day_minutes|numerical|Total minutes of day calls\n",
        "total_day_calls|numerical|Total number of day calls\n",
        "total_day_charge|numerical|Total charge of day calls.\n",
        "total_eve_minutes|numerical|Total minutes of evening calls\n",
        "total_eve_calls|numerical|Total number of evening calls\n",
        "total_eve_charge|numerical|Total charge of evening calls\n",
        "total_night_minutes|numerical|Total minutes of night calls\n",
        "total_night_calls|numerical|Total number of night calls\n",
        "total_night_charge|numerical|Total charge of night calls\n",
        "total_intl_minutes|numerical|Total minutes of international calls\n",
        "total_intl_calls|numerical|Total number of international calls\n",
        "total_intl_charge|numerical|Total charge of international calls\n",
        "number_customer_service_calls|numerical|Number of calls to customer service\n",
        "Churn|True or False|Customer churn - target variable"
      ]
    },
    {
      "cell_type": "code",
      "metadata": {
        "colab": {
          "base_uri": "https://localhost:8080/"
        },
        "id": "LRo23W4kjv8L",
        "outputId": "b79bcdad-6940-4603-e1ad-e77fa7e0bdb5"
      },
      "source": [
        "training_labels"
      ],
      "execution_count": null,
      "outputs": [
        {
          "output_type": "execute_result",
          "data": {
            "text/plain": [
              "0       False\n",
              "1       False\n",
              "2       False\n",
              "3       False\n",
              "4       False\n",
              "        ...  \n",
              "2661    False\n",
              "2662    False\n",
              "2663    False\n",
              "2664    False\n",
              "2665    False\n",
              "Name: Churn, Length: 2666, dtype: bool"
            ]
          },
          "metadata": {},
          "execution_count": 11
        }
      ]
    },
    {
      "cell_type": "markdown",
      "metadata": {
        "id": "aLOCO8dHPHPj"
      },
      "source": [
        "The label of each record for being churn or non-churn is represented by the feature \"Churn\". If a customer has churned then it is recorded with the label  \"True\", otherwise the label is \"False\"."
      ]
    },
    {
      "cell_type": "code",
      "metadata": {
        "colab": {
          "base_uri": "https://localhost:8080/",
          "height": 407
        },
        "id": "4L32q6rRiQhx",
        "outputId": "37e0a99b-9e6d-4570-e30d-9b5b15e6dafd"
      },
      "source": [
        "print(\"Distribution of positive and negative classes for training set\")\n",
        "print(train_dataset.groupby([target_name]).count()[\"State\"])\n",
        "train_dataset.groupby([target_name]).count()[\"State\"].plot.pie(figsize=(15, 5))"
      ],
      "execution_count": null,
      "outputs": [
        {
          "output_type": "stream",
          "name": "stdout",
          "text": [
            "Distribution of positive and negative classes for training set\n",
            "Churn\n",
            "False    2278\n",
            "True      388\n",
            "Name: State, dtype: int64\n"
          ]
        },
        {
          "output_type": "execute_result",
          "data": {
            "text/plain": [
              "<matplotlib.axes._subplots.AxesSubplot at 0x7f1d88f35750>"
            ]
          },
          "metadata": {},
          "execution_count": 12
        },
        {
          "output_type": "display_data",
          "data": {
            "image/png": "[encoded data removed]",
            "text/plain": [
              "<Figure size 1080x360 with 1 Axes>"
            ]
          },
          "metadata": {}
        }
      ]
    },
    {
      "cell_type": "code",
      "metadata": {
        "colab": {
          "base_uri": "https://localhost:8080/",
          "height": 407
        },
        "id": "yGTKAlJDmy9N",
        "outputId": "acf36fb8-e7e3-4337-9b33-eac4876c06ae"
      },
      "source": [
        "print(\"Distribution of positive and negative classes for test set\")\n",
        "print(test_dataset.groupby([target_name]).count()[\"State\"])\n",
        "test_dataset.groupby([target_name]).count()[\"State\"].plot.pie(figsize=(15, 5))"
      ],
      "execution_count": null,
      "outputs": [
        {
          "output_type": "stream",
          "name": "stdout",
          "text": [
            "Distribution of positive and negative classes for test set\n",
            "Churn\n",
            "False    572\n",
            "True      95\n",
            "Name: State, dtype: int64\n"
          ]
        },
        {
          "output_type": "execute_result",
          "data": {
            "text/plain": [
              "<matplotlib.axes._subplots.AxesSubplot at 0x7f1d88f16d10>"
            ]
          },
          "metadata": {},
          "execution_count": 13
        },
        {
          "output_type": "display_data",
          "data": {
            "image/png": "[encoded data removed]",
            "text/plain": [
              "<Figure size 1080x360 with 1 Axes>"
            ]
          },
          "metadata": {}
        }
      ]
    },
    {
      "cell_type": "markdown",
      "metadata": {
        "id": "01hZZEdcR4IH"
      },
      "source": [
        "The three categorical features, 'State', 'International plan', and 'Voice mail plan', need to be encoded to allow numerical analysis. In the following code block, using One Hot Encoding that is a representation of categorical variables as binary vectors the feature of 'State' is represented by a 51 sized-vector, and the features 'International plan' and 'Voice mail plan' are transformed into vectors with two elements. "
      ]
    },
    {
      "cell_type": "code",
      "metadata": {
        "id": "bEFzre4i5Z77"
      },
      "source": [
        "from sklearn.preprocessing import OneHotEncoder"
      ],
      "execution_count": null,
      "outputs": []
    },
    {
      "cell_type": "code",
      "metadata": {
        "id": "fLUyBvV49p2I"
      },
      "source": [
        "#Separate categorical and numeric features\n",
        "#Encode categorical features \n",
        "#Concatenate encoded categorical features with numerical features and come up with fully numeric training & test features dataset\n",
        "onehot_enc = OneHotEncoder()\n",
        "\n",
        "training_onehotencoded_features = onehot_enc.fit_transform(training_features[categorical_features])\n",
        "training_integer_features = training_features.drop(categorical_features, axis=1)\n",
        "\n",
        "test_onehotencoded_features = onehot_enc.fit_transform(test_features[categorical_features])\n",
        "test_integer_features = test_features.drop(categorical_features, axis=1)"
      ],
      "execution_count": null,
      "outputs": []
    },
    {
      "cell_type": "code",
      "metadata": {
        "id": "F6U1-1MaBpD1",
        "colab": {
          "base_uri": "https://localhost:8080/"
        },
        "outputId": "c6d2bc4d-8b70-4501-cf7a-386717179c28"
      },
      "source": [
        "all_features_list = onehot_enc.get_feature_names().tolist() + training_integer_features.columns.tolist()\n",
        "print(\"# of all features after one-hot encoding = {} \".format(len(all_features_list)))\n",
        "\n",
        "encoded_training_features= np.concatenate((training_onehotencoded_features.todense(),training_integer_features.values),axis=1)\n",
        "print(\"shape of training features dataset after one-hot encoding = {} \".format(encoded_training_features.shape))\n",
        "\n",
        "encoded_test_features= np.concatenate((test_onehotencoded_features.todense(),test_integer_features.values),axis=1)\n",
        "print(\"shape of test features dataset after one-hot encoding = {} \".format(encoded_test_features.shape))\n",
        "\n",
        "print(\"shape of training labels dataset  = {} \".format(training_labels.shape))\n",
        "print(\"shape of test labels dataset  = {} \".format(test_labels.shape))"
      ],
      "execution_count": null,
      "outputs": [
        {
          "output_type": "stream",
          "name": "stdout",
          "text": [
            "# of all features after one-hot encoding = 71 \n",
            "shape of training features dataset after one-hot encoding = (2666, 71) \n",
            "shape of test features dataset after one-hot encoding = (667, 71) \n",
            "shape of training labels dataset  = (2666,) \n",
            "shape of test labels dataset  = (667,) \n"
          ]
        }
      ]
    },
    {
      "cell_type": "markdown",
      "metadata": {
        "id": "wPRlnRMuSlmQ"
      },
      "source": [
        "After encoding the features, the final dataset now comprises 71 features."
      ]
    },
    {
      "cell_type": "markdown",
      "metadata": {
        "id": "EIZbTZ7DrfS6"
      },
      "source": [
        "## **Modeling Phase**"
      ]
    },
    {
      "cell_type": "markdown",
      "metadata": {
        "id": "sq3_iVZITYim"
      },
      "source": [
        "The churn behavior of the company’s customers will be modeled using four different classification algorithms, including artificial intelligence applications along with basic statistical methods."
      ]
    },
    {
      "cell_type": "markdown",
      "metadata": {
        "id": "KjlKugalT6fY"
      },
      "source": [
        "**Logistic Regression**\n",
        "Logistic regression is a linear prediction model that is a type probabilistic statistical classification. It models the probabilities for the possible outcomes (class label **y**) of a sample as a logit-transformed multiple linear regression of the predictor features using a logistic function that has a S-shaped curve.\n",
        "\n",
        "The logistic regression model is trained by maximizing the likelihood of the model. Thus, using the training dataset, it learns weight parameter w by minimizing a penalized cost function.\n",
        "\n"
      ]
    },
    {
      "cell_type": "code",
      "metadata": {
        "id": "JXbMMkdbVMsm"
      },
      "source": [
        "from sklearn.linear_model import LogisticRegression\n",
        "from sklearn.metrics import roc_auc_score, f1_score, plot_roc_curve, plot_confusion_matrix\n",
        "import matplotlib.pyplot as plt\n",
        "\n",
        "logistic_reg = LogisticRegression(random_state=0,max_iter=10000)\n",
        "\n",
        "# Other LogisticRegression parameter values, which are used as the default values of sklearn library, are listed below: \n",
        "# For detailed explanations of parameter values please visit ---->  https://scikit-learn.org/stable/modules/generated/sklearn.linear_model.LogisticRegression.html\n",
        "\n",
        "# penalty='l2'\n",
        "# dual=False\n",
        "# tol=0.0001\n",
        "# C=1.0\n",
        "# fit_intercept=True\n",
        "# intercept_scaling=1\n",
        "# class_weight=None\n",
        "# solver='lbfgs'\n",
        "# multi_class='auto'\n",
        "# verbose=0\n",
        "# warm_start=False\n",
        "# n_jobs=None\n",
        "# l1_ratio=None\n",
        "\n",
        "logistic_reg.fit(encoded_training_features, training_labels)\n",
        "\n",
        "lr_predictions = logistic_reg.predict(encoded_test_features)\n",
        "\n",
        "lr_prediction_proba = logistic_reg.predict_proba(encoded_test_features)[:, 1]"
      ],
      "execution_count": null,
      "outputs": []
    },
    {
      "cell_type": "markdown",
      "metadata": {
        "id": "Ij1ZjS05VQaH"
      },
      "source": [
        "First,  Logistic Regression model is initialized with default parameters excluding `max_iter` set as 10000. Then, the model is trained providing the encoded train dataset (`encoded_training_features`) to the model. The trained model now can be used to predict the labels for the encoded test dataset(`encoded_test_features`). Predicted probabilities for classes can be calculated to evaluate the model performance."
      ]
    },
    {
      "cell_type": "markdown",
      "metadata": {
        "id": "-5hC7nqfoAk2"
      },
      "source": [
        "**Performance Criteria** \\\\\n",
        "The model development process needs performance evaluation measures to evaluate a model and compare it with others. In order to measure the classification performance some of the performance criteria for model evaluation is used: \\\\\n",
        ">**Accuracy:** The most common criterion is the accuracy by which the mean of the proportion of correct predictions concerning actual labels specific to the classes is represented.\n",
        "\n",
        ">**F-score** also is used to evaluate the classfiers considering two  different performance measures. It is the way of combining precision and recall into a weighted harmonic mean, and it is called **F1 score** when the influence of precision and recall is equal.\n",
        "\n",
        "There are two graphical illustration for performances of a classifier: \n",
        ">**Receiver operating characteristic (ROC) curve** plots a classifier’s performance at varied discrimination thresholds to reach a general conclusion about the classification success.\n",
        "\n",
        ">**The confusion matrix** illustrates the accuracy of the classification by a matrix with true classes in rows and predicted classes in columns. "
      ]
    },
    {
      "cell_type": "code",
      "metadata": {
        "colab": {
          "base_uri": "https://localhost:8080/",
          "height": 661
        },
        "id": "879QxoQ6LYOJ",
        "outputId": "7281613d-e5c3-415d-8af1-31d9ec302864"
      },
      "source": [
        "lr_training_accuracy = logistic_reg.score(encoded_training_features, training_labels)\n",
        "lr_test_accuracy = logistic_reg.score(encoded_test_features, test_labels)\n",
        "lr_test_AUC=roc_auc_score(test_labels,lr_prediction_proba)\n",
        "lr_test_f1=f1_score(test_labels,lr_predictions)\n",
        "\n",
        "print(\"Logistic Regression training accuracy  = {} \".format(lr_training_accuracy))\n",
        "print(\"Logistic Regression test accuracy  = {} \".format(lr_test_accuracy))\n",
        "print(\"Logistic Regression test AUC  = {} \".format(lr_test_AUC))\n",
        "print(\"Logistic Regression test f1  = {} \".format(lr_test_f1))\n",
        "\n",
        "\n",
        "plot_roc_curve(logistic_reg, encoded_test_features, test_labels)  \n",
        "disp = plot_confusion_matrix(logistic_reg, encoded_test_features, test_labels,cmap=plt.cm.Blues,values_format = '.5g')\n",
        "disp.ax_.set_title(\"Confusion Matrix\")\n",
        "\n",
        "print( disp.confusion_matrix)\n",
        "\n",
        "#### Considering the unbalanced distribution of positive & negative labels,\n",
        "#### it seems that logistic regression results are not better than a default non-churn choice in terms of test accuracy. This shows us that whether more powerful\n",
        "#### prediction algorithms or more complicated features are needed to come up with better predictions."
      ],
      "execution_count": null,
      "outputs": [
        {
          "output_type": "stream",
          "name": "stdout",
          "text": [
            "Logistic Regression training accuracy  = 0.8709677419354839 \n",
            "Logistic Regression test accuracy  = 0.8545727136431784 \n",
            "Logistic Regression test AUC  = 0.8141516378358483 \n",
            "Logistic Regression test f1  = 0.302158273381295 \n",
            "[[549  23]\n",
            " [ 74  21]]\n"
          ]
        },
        {
          "output_type": "display_data",
          "data": {
            "image/png": "[encoded data removed]",
            "text/plain": [
              "<Figure size 432x288 with 1 Axes>"
            ]
          },
          "metadata": {
            "needs_background": "light"
          }
        },
        {
          "output_type": "display_data",
          "data": {
            "image/png": "[encoded data removed]",
            "text/plain": [
              "<Figure size 432x288 with 2 Axes>"
            ]
          },
          "metadata": {
            "needs_background": "light"
          }
        }
      ]
    },
    {
      "cell_type": "markdown",
      "metadata": {
        "id": "NFj1Ly7Q-Xr4"
      },
      "source": [
        "The trained Logistic Regression model correctly classifies 87% of the samples in the training dataset. However, a classifier's performance can only be accurately determined with the test dataset that is unseen during training. Accordingly, the classification accuracy of the developed model on the samples in the test dataset is %85. If there is a need to make an assessment about the success to identify the customers who actually churn, the confusion matrix should be observed. This model is only able to correctly label 21 customers who actually churn in the test dataset. This indicates that a model having better predictions should be developed.\n",
        "\n",
        "The ROC curve above summarizes the general classification ability of our Logistic Regression classifier with area under the curve (AUC), which is 0.81."
      ]
    },
    {
      "cell_type": "markdown",
      "metadata": {
        "id": "ahZCM64zH0b0"
      },
      "source": [
        "**Artificial Neural Networks** Artificial Neural Networks (ANNs) are imitations of the way the human brain makes the underlying relationships in a dataset elicit. ANNs set up computational network models by connecting artificial neurons located in different layers. The information for mapping an input to the best output is stored by synaptic weights between the neurons in the network.\n",
        "\n",
        "A trained ANN receives its inputs from the external world trough input layer, in turn, the output layer provides an output calculated using the information stored by weights in the hidden layers.\n",
        "\n",
        "ANN is trained providing a the training dataset to learn the latent pattern in the data. By training, the weights are adjusted so that the inputs are transformed into outputs with a minimum error. The network propagetes the error backwards to minimize the error."
      ]
    },
    {
      "cell_type": "code",
      "metadata": {
        "colab": {
          "base_uri": "https://localhost:8080/",
          "height": 661
        },
        "id": "abk9m61WP0lV",
        "outputId": "536bccfb-c116-49a1-91c5-cb66557fadbf"
      },
      "source": [
        "###### Neural Network Classifier ######\n",
        "\n",
        "from sklearn.neural_network import MLPClassifier\n",
        "from sklearn.metrics import roc_auc_score, f1_score, plot_roc_curve, plot_confusion_matrix\n",
        "import matplotlib.pyplot as plt\n",
        "\n",
        "neuralnet = MLPClassifier(solver='adam', alpha=1e-5 ,learning_rate_init=0.01, hidden_layer_sizes=(5,5),max_iter=1000, random_state=10)\n",
        "\n",
        "# Other Neural Metwork parameter values, which are used as the default values of sklearn library, are listed below: \n",
        "# For detailed explanations of parameter values please visit ---->  https://scikit-learn.org/stable/modules/generated/sklearn.neural_network.MLPClassifier.html\n",
        "\n",
        "# activation='relu'\n",
        "# batch_size='auto'\n",
        "# learning_rate='constant'\n",
        "# power_t=0.5\n",
        "# shuffle=True\n",
        "# tol=0.0001\n",
        "# verbose=False\n",
        "# warm_start=False\n",
        "# momentum=0.9\n",
        "# nesterovs_momentum=True\n",
        "# early_stopping=False\n",
        "# validation_fraction=0.1\n",
        "# beta_1=0.9\n",
        "# beta_2=0.999\n",
        "# epsilon=1e-08\n",
        "# n_iter_no_change=10\n",
        "# max_fun=15000\n",
        "\n",
        "neuralnet.fit(encoded_training_features, training_labels)\n",
        "nn_predictions = neuralnet.predict(encoded_test_features)\n",
        "nn_prediction_proba = neuralnet.predict_proba(encoded_test_features)[:, 1]\n",
        "\n",
        "nn_training_accuracy = neuralnet.score(encoded_training_features, training_labels)\n",
        "nn_test_accuracy = neuralnet.score(encoded_test_features, test_labels)\n",
        "nn_test_AUC=roc_auc_score(test_labels,nn_prediction_proba)\n",
        "nn_test_f1=f1_score(test_labels,nn_predictions)\n",
        "\n",
        "print(\"Neural Network training accuracy  = {} \".format(nn_training_accuracy))\n",
        "print(\"Neural Network test accuracy  = {} \".format(nn_test_accuracy))\n",
        "print(\"Neural Network test AUC  = {} \".format(nn_test_AUC))\n",
        "print(\"Neural Network test f1  = {} \".format(nn_test_f1))\n",
        "\n",
        "plot_roc_curve(neuralnet, encoded_test_features, test_labels)  \n",
        "disp = plot_confusion_matrix(neuralnet, encoded_test_features, test_labels,cmap=plt.cm.Blues,values_format = '.5g')\n",
        "disp.ax_.set_title(\"Confusion Matrix\")\n",
        "print( disp.confusion_matrix)\n",
        "\n",
        "#Neural network predictions are similar compared to logistic regression in terms of accuracy. There is still plenty of room for improvement"
      ],
      "execution_count": null,
      "outputs": [
        {
          "output_type": "stream",
          "name": "stdout",
          "text": [
            "Neural Network training accuracy  = 0.8653413353338335 \n",
            "Neural Network test accuracy  = 0.8545727136431784 \n",
            "Neural Network test AUC  = 0.788387927861612 \n",
            "Neural Network test f1  = 0.42603550295857995 \n",
            "[[534  38]\n",
            " [ 59  36]]\n"
          ]
        },
        {
          "output_type": "display_data",
          "data": {
            "image/png": "[encoded data removed]",
            "text/plain": [
              "<Figure size 432x288 with 1 Axes>"
            ]
          },
          "metadata": {
            "needs_background": "light"
          }
        },
        {
          "output_type": "display_data",
          "data": {
            "image/png": "[encoded data removed]",
            "text/plain": [
              "<Figure size 432x288 with 2 Axes>"
            ]
          },
          "metadata": {
            "needs_background": "light"
          }
        }
      ]
    },
    {
      "cell_type": "markdown",
      "metadata": {
        "id": "3iWl7yLsNuu9"
      },
      "source": [
        "As in model development above, firstly, an MLP classifier model is initialized with default parameters excluding the settings `alpha=1e-5`, `learning_rate_init=0.01`, `hidden_layer_sizes=(5,5)`, `max_iter=1000`. The model is trained providing the encoded train dataset (`encoded_training_features`) to the model. The trained model then is used to predict the labels for the encoded test dataset (`encoded_test_features`).\n",
        "\n",
        "The trained MLP classifier above correctly classifies nearly 87% of the samples in the training dataset. The classification accuracy of the model on test dataset is %85. These results are similar to the performance of Logistic Regression. However, the MLP classifier gives us an advantage to better classification for customers who actually churn in the test dataset with 36 correct samples (15 more samples than Logistic Regression).\n",
        "\n",
        "The general classification ability of the MLP classifier with respect to AUC, which is 0.79, shows that there is still plenty of room for improvement."
      ]
    },
    {
      "cell_type": "markdown",
      "metadata": {
        "id": "ESRLgAamY80m"
      },
      "source": [
        "**Random Forest** The Random Forest (RF) is an ensemble method. Ensemble methods build a set of classifiers (ensemble), such as decision trees, and aggregate their predictions. Each classifier model in an ensemble is trained independently on randomly generated data samples (each sample drawn with replacement) from the training set. For more accurate estimate, the overall prediction of individual classifiers is considered as prediction of ensemble. "
      ]
    },
    {
      "cell_type": "code",
      "metadata": {
        "colab": {
          "base_uri": "https://localhost:8080/",
          "height": 661
        },
        "id": "Vn1yaXoBL3rt",
        "outputId": "6659112c-c0ce-496b-e220-492908065dc9"
      },
      "source": [
        "from sklearn.ensemble import RandomForestClassifier\n",
        "from sklearn.metrics import roc_auc_score, f1_score, plot_roc_curve, plot_confusion_matrix\n",
        "import matplotlib.pyplot as plt\n",
        "\n",
        "randomforest = RandomForestClassifier(n_estimators=150,max_depth=15, random_state=0)\n",
        "\n",
        "# Other Random Forest parameter values, which are used as the default values of sklearn library, are listed below: \n",
        "# For detailed explanations of parameter values please visit ----> https://scikit-learn.org/stable/modules/generated/sklearn.ensemble.RandomForestClassifier.html\n",
        "\n",
        "# n_estimators=100\n",
        "# criterion='gini'\n",
        "# max_depth=None\n",
        "# min_samples_split=2\n",
        "# min_samples_leaf=1\n",
        "# min_weight_fraction_leaf=0.0\n",
        "# max_features='auto'\n",
        "# max_leaf_nodes=None\n",
        "# min_impurity_decrease=0.0\n",
        "# min_impurity_split=None\n",
        "# bootstrap=True\n",
        "# oob_score=False\n",
        "# n_jobs=None\n",
        "# random_state=None\n",
        "# verbose=0\n",
        "# warm_start=False\n",
        "# class_weight=None\n",
        "# ccp_alpha=0.0\n",
        "# max_samples=None\n",
        "\n",
        "randomforest.fit(encoded_training_features, training_labels)\n",
        "randomforest_predictions = randomforest.predict(encoded_test_features)\n",
        "\n",
        "randomforest_prediction_proba = randomforest.predict_proba(encoded_test_features)[:, 1]\n",
        "\n",
        "rf_training_accuracy = randomforest.score(encoded_training_features, training_labels)\n",
        "rf_test_accuracy = randomforest.score(encoded_test_features, test_labels)\n",
        "rf_test_AUC=roc_auc_score(test_labels,randomforest_prediction_proba)\n",
        "rf_test_f1=f1_score(test_labels,randomforest_predictions)\n",
        "\n",
        "print(\"Random Forest training accuracy  = {} \".format(rf_training_accuracy))\n",
        "print(\"Random Forest test accuracy  = {} \".format(rf_test_accuracy))\n",
        "print(\"Random Forest test AUC  = {} \".format(rf_test_AUC))\n",
        "print(\"Random Forest test f1  = {} \".format(rf_test_f1))\n",
        "\n",
        "plot_roc_curve(randomforest, encoded_test_features, test_labels)  \n",
        "disp = plot_confusion_matrix(randomforest, encoded_test_features, test_labels,cmap=plt.cm.Blues,values_format = '.5g')\n",
        "disp.ax_.set_title(\"Confusion Matrix\")\n",
        "print( disp.confusion_matrix)\n",
        "\n",
        "#### Random forest predictions are the best among three algorithms we used so far. \n",
        "#### High number of one-hot encoded features and the power of ensemble prediction methods are some of the \n",
        "#### main reasons for this difference."
      ],
      "execution_count": null,
      "outputs": [
        {
          "output_type": "stream",
          "name": "stdout",
          "text": [
            "Random Forest training accuracy  = 0.9857464366091523 \n",
            "Random Forest test accuracy  = 0.9430284857571214 \n",
            "Random Forest test AUC  = 0.9217703349282297 \n",
            "Random Forest test f1  = 0.7564102564102564 \n",
            "[[570   2]\n",
            " [ 36  59]]\n"
          ]
        },
        {
          "output_type": "display_data",
          "data": {
            "image/png": "[encoded data removed]",
            "text/plain": [
              "<Figure size 432x288 with 1 Axes>"
            ]
          },
          "metadata": {
            "needs_background": "light"
          }
        },
        {
          "output_type": "display_data",
          "data": {
            "image/png": "[encoded data removed]",
            "text/plain": [
              "<Figure size 432x288 with 2 Axes>"
            ]
          },
          "metadata": {
            "needs_background": "light"
          }
        }
      ]
    },
    {
      "cell_type": "markdown",
      "metadata": {
        "id": "1-E6BQvRSft4"
      },
      "source": [
        "RF model is initialized with default parameters excluding the settings `n_estimators=150`, `max_depth=15`.The model is trained again providing the encoded train dataset (`encoded_training_features`) to the model and the model is used to predict the labels for the encoded test dataset (`encoded_test_features`).\n",
        "\n",
        "The RF classifier accurately classifies nearly 98% of the samples in the training dataset. The classification accuracy of the model on test dataset is %94. These results are quite well comparing to Logistic Regression and MLP classifiers. 59 ones out of the customers who actually churn are accurately labeled through RF classifier.\n",
        "\n",
        "The general classification ability of the RF classifier with respect to AUC is 0.92, which clearly shows the dominance of the RF considering this churn dataset."
      ]
    },
    {
      "cell_type": "markdown",
      "metadata": {
        "id": "wwvzU7tVZmK0"
      },
      "source": [
        "**Gradient Boosting Trees** Gradient Boosting Trees (GBT) is an ensemble method, too. GBT also combines several week estimators (classifiers) learned by a certain algorithm in order to generate a strong estimator like RF does.  The model development, in GBT, is a sequential process in which each estimator learns from the errors of the previous estimators by minimizing their error."
      ]
    },
    {
      "cell_type": "code",
      "metadata": {
        "colab": {
          "base_uri": "https://localhost:8080/",
          "height": 661
        },
        "id": "D2J_pNMZQrEe",
        "outputId": "6156f165-1cdb-4da7-e975-0d0891006d3f"
      },
      "source": [
        "from sklearn.ensemble import GradientBoostingClassifier\n",
        "from sklearn.metrics import roc_auc_score, f1_score, plot_roc_curve, plot_confusion_matrix\n",
        "import matplotlib.pyplot as plt\n",
        "\n",
        "gbm_classifier = GradientBoostingClassifier(n_estimators=150, learning_rate=0.1,max_depth=2, random_state=0)\n",
        "\n",
        "# Other GBM parameter values, which are used as the default values of sklearn library, are listed below:\n",
        "#  For detailed explanations of parameter values please visit ---->  https://scikit-learn.org/stable/modules/generated/sklearn.ensemble.GradientBoostingClassifier.html\n",
        "\n",
        "# loss='deviance'\n",
        "# subsample=1.0\n",
        "# criterion='friedman_mse'\n",
        "# min_samples_split=2\n",
        "# min_samples_leaf=1\n",
        "# min_weight_fraction_leaf=0.0\n",
        "# min_impurity_decrease=0.0\n",
        "# min_impurity_split=None\n",
        "# init=None\n",
        "# random_state=None\n",
        "# max_features=None\n",
        "# verbose=0\n",
        "# max_leaf_nodes=None\n",
        "# warm_start=False\n",
        "# validation_fraction=0.1\n",
        "# n_iter_no_change=None\n",
        "# tol=0.0001\n",
        "# ccp_alpha=0.0\n",
        "\n",
        "gbm_classifier.fit(encoded_training_features, training_labels)\n",
        "gbm_predictions = gbm_classifier.predict(encoded_test_features)\n",
        "gbm_prediction_proba = gbm_classifier.predict_proba(encoded_test_features)[:, 1]\n",
        "\n",
        "gbm_training_accuracy = gbm_classifier.score(encoded_training_features, training_labels)\n",
        "gbm_test_accuracy = gbm_classifier.score(encoded_test_features, test_labels)\n",
        "gbm_test_AUC=roc_auc_score(test_labels,gbm_prediction_proba)\n",
        "gbm_test_f1=f1_score(test_labels,gbm_predictions)\n",
        "\n",
        "print(\"GBM training accuracy  = {} \".format(gbm_training_accuracy))\n",
        "print(\"GBM test accuracy  = {} \".format(gbm_test_accuracy))\n",
        "print(\"GBM test AUC  = {} \".format(gbm_test_AUC))\n",
        "print(\"GBM test f1  = {} \".format(gbm_test_f1))\n",
        "\n",
        "plot_roc_curve(gbm_classifier, encoded_test_features, test_labels)  \n",
        "\n",
        "disp = plot_confusion_matrix(gbm_classifier, encoded_test_features, test_labels,cmap=plt.cm.Blues,values_format = '.5g')\n",
        "disp.ax_.set_title(\"Confusion Matrix\")\n",
        "\n",
        "print( disp.confusion_matrix)\n",
        "\n",
        "#### GMB, predictions, which is another ensemble method, are very close to random forest prediction. \n",
        "### A hyperparameter optimization process may end up better results. Feel free to try using different parameter values."
      ],
      "execution_count": null,
      "outputs": [
        {
          "output_type": "stream",
          "name": "stdout",
          "text": [
            "GBM training accuracy  = 0.9609902475618904 \n",
            "GBM test accuracy  = 0.9385307346326837 \n",
            "GBM test AUC  = 0.9189547294810452 \n",
            "GBM test f1  = 0.7484662576687117 \n",
            "[[565   7]\n",
            " [ 34  61]]\n"
          ]
        },
        {
          "output_type": "display_data",
          "data": {
            "image/png": "[encoded data removed]",
            "text/plain": [
              "<Figure size 432x288 with 1 Axes>"
            ]
          },
          "metadata": {
            "needs_background": "light"
          }
        },
        {
          "output_type": "display_data",
          "data": {
            "image/png": "[encoded data removed]",
            "text/plain": [
              "<Figure size 432x288 with 2 Axes>"
            ]
          },
          "metadata": {
            "needs_background": "light"
          }
        }
      ]
    },
    {
      "cell_type": "markdown",
      "metadata": {
        "id": "DT-bDyOVJshi"
      },
      "source": [
        "GBT model is initialized with default parameters excluding the settings `n_estimators=150`, `learning_rate=0.1` and `max_depth=15`. The model is trained providing the encoded train dataset (`encoded_training_features`) to the model and the model is used to predict the labels for the encoded test dataset (`encoded_test_features`).\n",
        "\n",
        "GBT classifier accurately classifies nearly 96% of the samples in the training dataset. The classification accuracy of the model on test dataset is %94. These results are also superior to Logistic Regression and MLP classifiers. This time, 61 ones out of the customers who actually churn are accurately labeled.\n",
        "\n",
        "The general classification ability of the GBT classifier with respect to AUC is nearly 0.92, which is similar to the RF classifier."
      ]
    },
    {
      "cell_type": "code",
      "metadata": {
        "colab": {
          "base_uri": "https://localhost:8080/"
        },
        "id": "uPkPMIFiCiwC",
        "outputId": "ba910f17-0557-40a6-a6f9-5503d9727963"
      },
      "source": [
        "!pip install texttable\n",
        "from texttable import Texttable\n",
        "t = Texttable()\n",
        "t.add_rows([['\\033[1m'+' ',' ', 'Accuracy', ' ',' '],['Model', 'Training', 'Test', 'Test AUC', 'Test F1'], ['Logistic Regression', lr_training_accuracy, lr_test_accuracy, lr_test_AUC, lr_test_f1], ['Neural Network Classifier', nn_training_accuracy, nn_test_accuracy,nn_test_AUC,nn_test_f1], ['Random Forest', rf_training_accuracy,rf_test_accuracy,rf_test_AUC, rf_test_f1], ['Gradient Boosting Trees', gbm_training_accuracy,gbm_test_accuracy,gbm_test_AUC,gbm_test_f1]])\n",
        "print(t.draw())"
      ],
      "execution_count": null,
      "outputs": [
        {
          "output_type": "stream",
          "name": "stdout",
          "text": [
            "Collecting texttable\n",
            "  Downloading texttable-1.6.4-py2.py3-none-any.whl (10 kB)\n",
            "Installing collected packages: texttable\n",
            "Successfully installed texttable-1.6.4\n",
            "+---------------------------+----------+----------+----------+---------+\n",
            "|            \u001b[1m            |          | Accuracy |          |         |\n",
            "+===========================+==========+==========+==========+=========+\n",
            "| Model                     | Training | Test     | Test AUC | Test F1 |\n",
            "+---------------------------+----------+----------+----------+---------+\n",
            "| Logistic Regression       | 0.871    | 0.855    | 0.814    | 0.302   |\n",
            "+---------------------------+----------+----------+----------+---------+\n",
            "| Neural Network Classifier | 0.865    | 0.855    | 0.788    | 0.426   |\n",
            "+---------------------------+----------+----------+----------+---------+\n",
            "| Random Forest             | 0.986    | 0.943    | 0.922    | 0.756   |\n",
            "+---------------------------+----------+----------+----------+---------+\n",
            "| Gradient Boosting Trees   | 0.961    | 0.939    | 0.919    | 0.748   |\n",
            "+---------------------------+----------+----------+----------+---------+\n"
          ]
        }
      ]
    },
    {
      "cell_type": "markdown",
      "metadata": {
        "id": "8qgaiY_OaU61"
      },
      "source": [
        "According to the table above results can be summarized by the following: \\\\\n",
        ">The performance of the logistic regression is not better than a default non-churn choice in terms of test accuracy when one considers the unbalanced distribution of positive & negative labels (churn and non-churn). \\\\\n",
        ">For the churn dataset used in this case study neural network predictions make no progress on the accuracy compared to logistic regression. \\\\\n",
        ">While both RF and GBT outperform the other two methods, RF predictions are the best. The high number of one-hot encoded features and the power of ensemble prediction methods are some of the main reasons for this difference.\n",
        " "
      ]
    }
  ]
}