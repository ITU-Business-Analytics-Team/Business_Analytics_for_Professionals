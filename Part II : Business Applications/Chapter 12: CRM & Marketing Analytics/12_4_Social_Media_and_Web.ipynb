{
  "nbformat": 4,
  "nbformat_minor": 0,
  "metadata": {
    "colab": {
      "name": "12.4. Social Media and Web.ipynb",
      "provenance": [],
      "collapsed_sections": [],
      "include_colab_link": true
    },
    "interpreter": {
      "hash": "ffdcb9673e7d5b93c655dac6a54a2b34c15eb2f6c0f0d4e1adecfe7b865f7b6f"
    },
    "kernelspec": {
      "display_name": "Python 3",
      "language": "python",
      "name": "python3"
    },
    "language_info": {
      "codemirror_mode": {
        "name": "ipython",
        "version": 3
      },
      "file_extension": ".py",
      "mimetype": "text/x-python",
      "name": "python",
      "nbconvert_exporter": "python",
      "pygments_lexer": "ipython3",
      "version": "3.8.8"
    }
  },
  "cells": [
    {
      "cell_type": "markdown",
      "metadata": {
        "id": "view-in-github",
        "colab_type": "text"
      },
      "source": [
        "<a href=\"https://colab.research.google.com/github/ITU-Business-Analytics-Team/Business_Analytics_for_Professionals/blob/main/Part%20II%20%3A%20Business%20Applications/Chapter%2012%3A%20CRM%20%26%20Marketing%20Analytics/12_4_Social_Media_and_Web.ipynb\" target=\"_parent\"><img src=\"https://colab.research.google.com/assets/colab-badge.svg\" alt=\"Open In Colab\"/></a>"
      ]
    },
    {
      "cell_type": "markdown",
      "metadata": {
        "id": "DDr1p2DICys_"
      },
      "source": [
        "#**CRM & Marketing Analytics**\n",
        "## Social Media and Web"
      ]
    },
    {
      "cell_type": "code",
      "metadata": {
        "id": "2k5eJzUsCYZz"
      },
      "source": [
        "#Import required libraries\n",
        "\n",
        "import pandas as pd # for data structure and analysis\n",
        "import numpy as np \n",
        "import seaborn as sns # For visualization\n",
        "import matplotlib # for plotting\n",
        "%matplotlib inline\n",
        "import matplotlib.pyplot as plt\n",
        "from matplotlib import pyplot\n",
        "import random\n"
      ],
      "execution_count": null,
      "outputs": []
    },
    {
      "cell_type": "code",
      "metadata": {
        "colab": {
          "base_uri": "https://localhost:8080/"
        },
        "id": "h9sCESBY1Elm",
        "outputId": "4f9b11f4-0051-49a5-ca99-5ae7d86f9b11"
      },
      "source": [
        "# Import Data\n",
        "\n",
        "url=\"https://drive.google.com/file/d/1lD3LYmpon6ZNR_cM0ZKHYKBf56wblDYQ/view?usp=sharing\"\n",
        "path = 'https://drive.google.com/uc?export=download&id='+url.split('/')[-2]\n",
        "data = np.loadtxt(path, delimiter=',', skiprows=1, dtype=str)\n",
        "print(data)\n"
      ],
      "execution_count": null,
      "outputs": [
        {
          "output_type": "stream",
          "name": "stdout",
          "text": [
            "['1001;P1;1' '1002;P1;2' '1003;P1;2' ... '3998;P8;3' '3999;P8;7'\n",
            " '4000;P8;3']\n"
          ]
        }
      ]
    },
    {
      "cell_type": "code",
      "metadata": {
        "id": "w6-uQ1pyCYZ1",
        "colab": {
          "base_uri": "https://localhost:8080/",
          "height": 206
        },
        "outputId": "47c67f0b-e194-4c60-b04b-45074f4dce6b"
      },
      "source": [
        "df = pd.DataFrame(data)\n",
        "df.head()"
      ],
      "execution_count": null,
      "outputs": [
        {
          "output_type": "execute_result",
          "data": {
            "text/html": [
              "<div>\n",
              "<style scoped>\n",
              "    .dataframe tbody tr th:only-of-type {\n",
              "        vertical-align: middle;\n",
              "    }\n",
              "\n",
              "    .dataframe tbody tr th {\n",
              "        vertical-align: top;\n",
              "    }\n",
              "\n",
              "    .dataframe thead th {\n",
              "        text-align: right;\n",
              "    }\n",
              "</style>\n",
              "<table border=\"1\" class=\"dataframe\">\n",
              "  <thead>\n",
              "    <tr style=\"text-align: right;\">\n",
              "      <th></th>\n",
              "      <th>0</th>\n",
              "    </tr>\n",
              "  </thead>\n",
              "  <tbody>\n",
              "    <tr>\n",
              "      <th>0</th>\n",
              "      <td>1001;P1;1</td>\n",
              "    </tr>\n",
              "    <tr>\n",
              "      <th>1</th>\n",
              "      <td>1002;P1;2</td>\n",
              "    </tr>\n",
              "    <tr>\n",
              "      <th>2</th>\n",
              "      <td>1003;P1;2</td>\n",
              "    </tr>\n",
              "    <tr>\n",
              "      <th>3</th>\n",
              "      <td>1004;P1;5</td>\n",
              "    </tr>\n",
              "    <tr>\n",
              "      <th>4</th>\n",
              "      <td>1005;P1;4</td>\n",
              "    </tr>\n",
              "  </tbody>\n",
              "</table>\n",
              "</div>"
            ],
            "text/plain": [
              "           0\n",
              "0  1001;P1;1\n",
              "1  1002;P1;2\n",
              "2  1003;P1;2\n",
              "3  1004;P1;5\n",
              "4  1005;P1;4"
            ]
          },
          "metadata": {},
          "execution_count": 3
        }
      ]
    },
    {
      "cell_type": "code",
      "metadata": {
        "id": "rS19MwZuCYZ1",
        "colab": {
          "base_uri": "https://localhost:8080/",
          "height": 206
        },
        "outputId": "eb90d57a-a1ac-4501-c073-81b367bcf9d3"
      },
      "source": [
        "df[['CustomerID','CategoryID','Visits']] = df[0].str.split(\";\",expand=True,) # expanding data to columns\n",
        "df = df.drop(0, axis=1) # Unnecessary column is deleted. \n",
        "df = df.drop_duplicates(subset=None, keep='first') # Eliminating the duplicates\n",
        "df.head()"
      ],
      "execution_count": null,
      "outputs": [
        {
          "output_type": "execute_result",
          "data": {
            "text/html": [
              "<div>\n",
              "<style scoped>\n",
              "    .dataframe tbody tr th:only-of-type {\n",
              "        vertical-align: middle;\n",
              "    }\n",
              "\n",
              "    .dataframe tbody tr th {\n",
              "        vertical-align: top;\n",
              "    }\n",
              "\n",
              "    .dataframe thead th {\n",
              "        text-align: right;\n",
              "    }\n",
              "</style>\n",
              "<table border=\"1\" class=\"dataframe\">\n",
              "  <thead>\n",
              "    <tr style=\"text-align: right;\">\n",
              "      <th></th>\n",
              "      <th>CustomerID</th>\n",
              "      <th>CategoryID</th>\n",
              "      <th>Visits</th>\n",
              "    </tr>\n",
              "  </thead>\n",
              "  <tbody>\n",
              "    <tr>\n",
              "      <th>0</th>\n",
              "      <td>1001</td>\n",
              "      <td>P1</td>\n",
              "      <td>1</td>\n",
              "    </tr>\n",
              "    <tr>\n",
              "      <th>1</th>\n",
              "      <td>1002</td>\n",
              "      <td>P1</td>\n",
              "      <td>2</td>\n",
              "    </tr>\n",
              "    <tr>\n",
              "      <th>2</th>\n",
              "      <td>1003</td>\n",
              "      <td>P1</td>\n",
              "      <td>2</td>\n",
              "    </tr>\n",
              "    <tr>\n",
              "      <th>3</th>\n",
              "      <td>1004</td>\n",
              "      <td>P1</td>\n",
              "      <td>5</td>\n",
              "    </tr>\n",
              "    <tr>\n",
              "      <th>4</th>\n",
              "      <td>1005</td>\n",
              "      <td>P1</td>\n",
              "      <td>4</td>\n",
              "    </tr>\n",
              "  </tbody>\n",
              "</table>\n",
              "</div>"
            ],
            "text/plain": [
              "  CustomerID CategoryID Visits\n",
              "0       1001         P1      1\n",
              "1       1002         P1      2\n",
              "2       1003         P1      2\n",
              "3       1004         P1      5\n",
              "4       1005         P1      4"
            ]
          },
          "metadata": {},
          "execution_count": 4
        }
      ]
    },
    {
      "cell_type": "code",
      "metadata": {
        "id": "xsLQH8F0CYZ3",
        "scrolled": false,
        "colab": {
          "base_uri": "https://localhost:8080/"
        },
        "outputId": "f4894641-af44-4253-f999-eac6da22bf12"
      },
      "source": [
        "#The table is pivotted by CategoryID\n",
        "df = df.pivot_table(index='CustomerID', columns='CategoryID', values='Visits', aggfunc=np.sum)\n",
        "print(df) "
      ],
      "execution_count": null,
      "outputs": [
        {
          "output_type": "stream",
          "name": "stdout",
          "text": [
            "CategoryID   P1 P10  P2  P3  P4  P5  P6 P7  P8 P9\n",
            "CustomerID                                       \n",
            "1000        NaN   5   1   5   4   2   4  9  13  2\n",
            "1001          1   4   1   2   3   5   4  8  10  1\n",
            "1002          2   4   2   3   1   1   3  9   7  4\n",
            "1003          2   2   2   5   8  14  12  2   1  5\n",
            "1004          5   1   2   3  15   8  14  5   4  3\n",
            "...         ...  ..  ..  ..  ..  ..  .. ..  .. ..\n",
            "3996          7   4   8  10   5   2   2  1   3  5\n",
            "3997         15   3  10  13   5   1   1  4   2  5\n",
            "3998          2   2   5   4  15   8   7  4   3  3\n",
            "3999          2   1   2   3   5   5   3  7   7  3\n",
            "4000         14   5  11  11   4   3   4  3   3  2\n",
            "\n",
            "[3001 rows x 10 columns]\n"
          ]
        }
      ]
    },
    {
      "cell_type": "code",
      "metadata": {
        "id": "wM9caSzUCYZ3",
        "colab": {
          "base_uri": "https://localhost:8080/"
        },
        "outputId": "5c3f7833-a123-4bde-c81f-9d5403989580"
      },
      "source": [
        "df.info()"
      ],
      "execution_count": null,
      "outputs": [
        {
          "output_type": "stream",
          "name": "stdout",
          "text": [
            "<class 'pandas.core.frame.DataFrame'>\n",
            "Index: 3001 entries, 1000 to 4000\n",
            "Data columns (total 10 columns):\n",
            " #   Column  Non-Null Count  Dtype \n",
            "---  ------  --------------  ----- \n",
            " 0   P1      3000 non-null   object\n",
            " 1   P10     3001 non-null   object\n",
            " 2   P2      3001 non-null   object\n",
            " 3   P3      3001 non-null   object\n",
            " 4   P4      3001 non-null   object\n",
            " 5   P5      3001 non-null   object\n",
            " 6   P6      3001 non-null   object\n",
            " 7   P7      3001 non-null   object\n",
            " 8   P8      3001 non-null   object\n",
            " 9   P9      3001 non-null   object\n",
            "dtypes: object(10)\n",
            "memory usage: 257.9+ KB\n"
          ]
        }
      ]
    },
    {
      "cell_type": "code",
      "metadata": {
        "id": "sLhWO5HRCYZ4",
        "scrolled": true,
        "colab": {
          "base_uri": "https://localhost:8080/",
          "height": 175
        },
        "outputId": "8300780a-e5ed-4ebe-f7af-4aa51a6648ec"
      },
      "source": [
        "df.describe()"
      ],
      "execution_count": null,
      "outputs": [
        {
          "output_type": "execute_result",
          "data": {
            "text/html": [
              "<div>\n",
              "<style scoped>\n",
              "    .dataframe tbody tr th:only-of-type {\n",
              "        vertical-align: middle;\n",
              "    }\n",
              "\n",
              "    .dataframe tbody tr th {\n",
              "        vertical-align: top;\n",
              "    }\n",
              "\n",
              "    .dataframe thead th {\n",
              "        text-align: right;\n",
              "    }\n",
              "</style>\n",
              "<table border=\"1\" class=\"dataframe\">\n",
              "  <thead>\n",
              "    <tr style=\"text-align: right;\">\n",
              "      <th>CategoryID</th>\n",
              "      <th>P1</th>\n",
              "      <th>P10</th>\n",
              "      <th>P2</th>\n",
              "      <th>P3</th>\n",
              "      <th>P4</th>\n",
              "      <th>P5</th>\n",
              "      <th>P6</th>\n",
              "      <th>P7</th>\n",
              "      <th>P8</th>\n",
              "      <th>P9</th>\n",
              "    </tr>\n",
              "  </thead>\n",
              "  <tbody>\n",
              "    <tr>\n",
              "      <th>count</th>\n",
              "      <td>3000</td>\n",
              "      <td>3001</td>\n",
              "      <td>3001</td>\n",
              "      <td>3001</td>\n",
              "      <td>3001</td>\n",
              "      <td>3001</td>\n",
              "      <td>3001</td>\n",
              "      <td>3001</td>\n",
              "      <td>3001</td>\n",
              "      <td>3001</td>\n",
              "    </tr>\n",
              "    <tr>\n",
              "      <th>unique</th>\n",
              "      <td>14</td>\n",
              "      <td>14</td>\n",
              "      <td>14</td>\n",
              "      <td>14</td>\n",
              "      <td>14</td>\n",
              "      <td>14</td>\n",
              "      <td>14</td>\n",
              "      <td>14</td>\n",
              "      <td>14</td>\n",
              "      <td>14</td>\n",
              "    </tr>\n",
              "    <tr>\n",
              "      <th>top</th>\n",
              "      <td>5</td>\n",
              "      <td>4</td>\n",
              "      <td>2</td>\n",
              "      <td>2</td>\n",
              "      <td>4</td>\n",
              "      <td>3</td>\n",
              "      <td>4</td>\n",
              "      <td>3</td>\n",
              "      <td>1</td>\n",
              "      <td>2</td>\n",
              "    </tr>\n",
              "    <tr>\n",
              "      <th>freq</th>\n",
              "      <td>460</td>\n",
              "      <td>489</td>\n",
              "      <td>492</td>\n",
              "      <td>486</td>\n",
              "      <td>464</td>\n",
              "      <td>460</td>\n",
              "      <td>483</td>\n",
              "      <td>477</td>\n",
              "      <td>468</td>\n",
              "      <td>480</td>\n",
              "    </tr>\n",
              "  </tbody>\n",
              "</table>\n",
              "</div>"
            ],
            "text/plain": [
              "CategoryID    P1   P10    P2    P3    P4    P5    P6    P7    P8    P9\n",
              "count       3000  3001  3001  3001  3001  3001  3001  3001  3001  3001\n",
              "unique        14    14    14    14    14    14    14    14    14    14\n",
              "top            5     4     2     2     4     3     4     3     1     2\n",
              "freq         460   489   492   486   464   460   483   477   468   480"
            ]
          },
          "metadata": {},
          "execution_count": 7
        }
      ]
    },
    {
      "cell_type": "code",
      "metadata": {
        "id": "Kw-4vRxNCYZ4",
        "colab": {
          "base_uri": "https://localhost:8080/",
          "height": 237
        },
        "outputId": "bc56517f-b83d-47e0-8eaf-9f162aa34740"
      },
      "source": [
        "df=df.fillna(0) #replace the NaN values with 0 \n",
        "df = df[['P1', 'P2', 'P3', 'P4', 'P5', 'P6', 'P7', 'P8', 'P9', 'P10']] # Ordering the columns\n",
        "df.head()"
      ],
      "execution_count": null,
      "outputs": [
        {
          "output_type": "execute_result",
          "data": {
            "text/html": [
              "<div>\n",
              "<style scoped>\n",
              "    .dataframe tbody tr th:only-of-type {\n",
              "        vertical-align: middle;\n",
              "    }\n",
              "\n",
              "    .dataframe tbody tr th {\n",
              "        vertical-align: top;\n",
              "    }\n",
              "\n",
              "    .dataframe thead th {\n",
              "        text-align: right;\n",
              "    }\n",
              "</style>\n",
              "<table border=\"1\" class=\"dataframe\">\n",
              "  <thead>\n",
              "    <tr style=\"text-align: right;\">\n",
              "      <th>CategoryID</th>\n",
              "      <th>P1</th>\n",
              "      <th>P2</th>\n",
              "      <th>P3</th>\n",
              "      <th>P4</th>\n",
              "      <th>P5</th>\n",
              "      <th>P6</th>\n",
              "      <th>P7</th>\n",
              "      <th>P8</th>\n",
              "      <th>P9</th>\n",
              "      <th>P10</th>\n",
              "    </tr>\n",
              "    <tr>\n",
              "      <th>CustomerID</th>\n",
              "      <th></th>\n",
              "      <th></th>\n",
              "      <th></th>\n",
              "      <th></th>\n",
              "      <th></th>\n",
              "      <th></th>\n",
              "      <th></th>\n",
              "      <th></th>\n",
              "      <th></th>\n",
              "      <th></th>\n",
              "    </tr>\n",
              "  </thead>\n",
              "  <tbody>\n",
              "    <tr>\n",
              "      <th>1000</th>\n",
              "      <td>0</td>\n",
              "      <td>1</td>\n",
              "      <td>5</td>\n",
              "      <td>4</td>\n",
              "      <td>2</td>\n",
              "      <td>4</td>\n",
              "      <td>9</td>\n",
              "      <td>13</td>\n",
              "      <td>2</td>\n",
              "      <td>5</td>\n",
              "    </tr>\n",
              "    <tr>\n",
              "      <th>1001</th>\n",
              "      <td>1</td>\n",
              "      <td>1</td>\n",
              "      <td>2</td>\n",
              "      <td>3</td>\n",
              "      <td>5</td>\n",
              "      <td>4</td>\n",
              "      <td>8</td>\n",
              "      <td>10</td>\n",
              "      <td>1</td>\n",
              "      <td>4</td>\n",
              "    </tr>\n",
              "    <tr>\n",
              "      <th>1002</th>\n",
              "      <td>2</td>\n",
              "      <td>2</td>\n",
              "      <td>3</td>\n",
              "      <td>1</td>\n",
              "      <td>1</td>\n",
              "      <td>3</td>\n",
              "      <td>9</td>\n",
              "      <td>7</td>\n",
              "      <td>4</td>\n",
              "      <td>4</td>\n",
              "    </tr>\n",
              "    <tr>\n",
              "      <th>1003</th>\n",
              "      <td>2</td>\n",
              "      <td>2</td>\n",
              "      <td>5</td>\n",
              "      <td>8</td>\n",
              "      <td>14</td>\n",
              "      <td>12</td>\n",
              "      <td>2</td>\n",
              "      <td>1</td>\n",
              "      <td>5</td>\n",
              "      <td>2</td>\n",
              "    </tr>\n",
              "    <tr>\n",
              "      <th>1004</th>\n",
              "      <td>5</td>\n",
              "      <td>2</td>\n",
              "      <td>3</td>\n",
              "      <td>15</td>\n",
              "      <td>8</td>\n",
              "      <td>14</td>\n",
              "      <td>5</td>\n",
              "      <td>4</td>\n",
              "      <td>3</td>\n",
              "      <td>1</td>\n",
              "    </tr>\n",
              "  </tbody>\n",
              "</table>\n",
              "</div>"
            ],
            "text/plain": [
              "CategoryID P1 P2 P3  P4  P5  P6 P7  P8 P9 P10\n",
              "CustomerID                                   \n",
              "1000        0  1  5   4   2   4  9  13  2   5\n",
              "1001        1  1  2   3   5   4  8  10  1   4\n",
              "1002        2  2  3   1   1   3  9   7  4   4\n",
              "1003        2  2  5   8  14  12  2   1  5   2\n",
              "1004        5  2  3  15   8  14  5   4  3   1"
            ]
          },
          "metadata": {},
          "execution_count": 8
        }
      ]
    },
    {
      "cell_type": "markdown",
      "metadata": {
        "id": "uwyFb0KsfMYn"
      },
      "source": [
        "The P1, P2, ... columns are product groups. \n",
        "> In the original data, one can observe that each of the product groups belongs to a category. In detail, \n",
        "> P1: Bakery (Category 2), \n",
        "> P2: Baverage (Category 3), \n",
        "> P3: Snack (Category 9),\n",
        "> P4: Food (Category 5), \n",
        "> P5: Fruit & Vagetables (Category 6), \n",
        "> P6: Clean-up (Category 4), \n",
        "> P7: Home & Living (Category 7), \n",
        "> P8: Technology (Category 10), \n",
        "> P9: Baby Care (Category 1) and \n",
        "> P10: Ready to Eat (Category 8). "
      ]
    },
    {
      "cell_type": "code",
      "metadata": {
        "id": "rUVRDziFfMYn"
      },
      "source": [
        "# Change the column names according to real data: 'C' stands for Category. \n",
        "df=df.rename(columns={'P1':'C2', 'P2':'C3', 'P3':'C9', 'P4':'C5', 'P5':'C6', 'P6':'C4', 'P7':'C7', 'P8':'C10', 'P9':'C1', 'P10':'C8'})\n",
        "df.columns.name='Category'"
      ],
      "execution_count": null,
      "outputs": []
    },
    {
      "cell_type": "code",
      "metadata": {
        "id": "CDUnJX47fMYn",
        "colab": {
          "base_uri": "https://localhost:8080/",
          "height": 237
        },
        "outputId": "ac48b278-91d4-400e-e2ac-0bdc5104cdb9"
      },
      "source": [
        "# Ordering the columns \n",
        "df = df[['C1','C2','C3','C4','C5','C6','C7','C8','C9','C10']]\n",
        "df.head()"
      ],
      "execution_count": null,
      "outputs": [
        {
          "output_type": "execute_result",
          "data": {
            "text/html": [
              "<div>\n",
              "<style scoped>\n",
              "    .dataframe tbody tr th:only-of-type {\n",
              "        vertical-align: middle;\n",
              "    }\n",
              "\n",
              "    .dataframe tbody tr th {\n",
              "        vertical-align: top;\n",
              "    }\n",
              "\n",
              "    .dataframe thead th {\n",
              "        text-align: right;\n",
              "    }\n",
              "</style>\n",
              "<table border=\"1\" class=\"dataframe\">\n",
              "  <thead>\n",
              "    <tr style=\"text-align: right;\">\n",
              "      <th>Category</th>\n",
              "      <th>C1</th>\n",
              "      <th>C2</th>\n",
              "      <th>C3</th>\n",
              "      <th>C4</th>\n",
              "      <th>C5</th>\n",
              "      <th>C6</th>\n",
              "      <th>C7</th>\n",
              "      <th>C8</th>\n",
              "      <th>C9</th>\n",
              "      <th>C10</th>\n",
              "    </tr>\n",
              "    <tr>\n",
              "      <th>CustomerID</th>\n",
              "      <th></th>\n",
              "      <th></th>\n",
              "      <th></th>\n",
              "      <th></th>\n",
              "      <th></th>\n",
              "      <th></th>\n",
              "      <th></th>\n",
              "      <th></th>\n",
              "      <th></th>\n",
              "      <th></th>\n",
              "    </tr>\n",
              "  </thead>\n",
              "  <tbody>\n",
              "    <tr>\n",
              "      <th>1000</th>\n",
              "      <td>2</td>\n",
              "      <td>0</td>\n",
              "      <td>1</td>\n",
              "      <td>4</td>\n",
              "      <td>4</td>\n",
              "      <td>2</td>\n",
              "      <td>9</td>\n",
              "      <td>5</td>\n",
              "      <td>5</td>\n",
              "      <td>13</td>\n",
              "    </tr>\n",
              "    <tr>\n",
              "      <th>1001</th>\n",
              "      <td>1</td>\n",
              "      <td>1</td>\n",
              "      <td>1</td>\n",
              "      <td>4</td>\n",
              "      <td>3</td>\n",
              "      <td>5</td>\n",
              "      <td>8</td>\n",
              "      <td>4</td>\n",
              "      <td>2</td>\n",
              "      <td>10</td>\n",
              "    </tr>\n",
              "    <tr>\n",
              "      <th>1002</th>\n",
              "      <td>4</td>\n",
              "      <td>2</td>\n",
              "      <td>2</td>\n",
              "      <td>3</td>\n",
              "      <td>1</td>\n",
              "      <td>1</td>\n",
              "      <td>9</td>\n",
              "      <td>4</td>\n",
              "      <td>3</td>\n",
              "      <td>7</td>\n",
              "    </tr>\n",
              "    <tr>\n",
              "      <th>1003</th>\n",
              "      <td>5</td>\n",
              "      <td>2</td>\n",
              "      <td>2</td>\n",
              "      <td>12</td>\n",
              "      <td>8</td>\n",
              "      <td>14</td>\n",
              "      <td>2</td>\n",
              "      <td>2</td>\n",
              "      <td>5</td>\n",
              "      <td>1</td>\n",
              "    </tr>\n",
              "    <tr>\n",
              "      <th>1004</th>\n",
              "      <td>3</td>\n",
              "      <td>5</td>\n",
              "      <td>2</td>\n",
              "      <td>14</td>\n",
              "      <td>15</td>\n",
              "      <td>8</td>\n",
              "      <td>5</td>\n",
              "      <td>1</td>\n",
              "      <td>3</td>\n",
              "      <td>4</td>\n",
              "    </tr>\n",
              "  </tbody>\n",
              "</table>\n",
              "</div>"
            ],
            "text/plain": [
              "Category   C1 C2 C3  C4  C5  C6 C7 C8 C9 C10\n",
              "CustomerID                                  \n",
              "1000        2  0  1   4   4   2  9  5  5  13\n",
              "1001        1  1  1   4   3   5  8  4  2  10\n",
              "1002        4  2  2   3   1   1  9  4  3   7\n",
              "1003        5  2  2  12   8  14  2  2  5   1\n",
              "1004        3  5  2  14  15   8  5  1  3   4"
            ]
          },
          "metadata": {},
          "execution_count": 10
        }
      ]
    },
    {
      "cell_type": "code",
      "metadata": {
        "id": "UYmvDJC6CYZ4",
        "colab": {
          "base_uri": "https://localhost:8080/",
          "height": 206
        },
        "outputId": "e17e7635-9025-482c-ff59-9c2610b18c58"
      },
      "source": [
        "df_prep= df.reset_index() # Preperation for K-Means application; df_prep dataframe is created for this.\n",
        "df_prep= df_prep.drop(\"CustomerID\",axis=1)\n",
        "df_prep.head()"
      ],
      "execution_count": null,
      "outputs": [
        {
          "output_type": "execute_result",
          "data": {
            "text/html": [
              "<div>\n",
              "<style scoped>\n",
              "    .dataframe tbody tr th:only-of-type {\n",
              "        vertical-align: middle;\n",
              "    }\n",
              "\n",
              "    .dataframe tbody tr th {\n",
              "        vertical-align: top;\n",
              "    }\n",
              "\n",
              "    .dataframe thead th {\n",
              "        text-align: right;\n",
              "    }\n",
              "</style>\n",
              "<table border=\"1\" class=\"dataframe\">\n",
              "  <thead>\n",
              "    <tr style=\"text-align: right;\">\n",
              "      <th>Category</th>\n",
              "      <th>C1</th>\n",
              "      <th>C2</th>\n",
              "      <th>C3</th>\n",
              "      <th>C4</th>\n",
              "      <th>C5</th>\n",
              "      <th>C6</th>\n",
              "      <th>C7</th>\n",
              "      <th>C8</th>\n",
              "      <th>C9</th>\n",
              "      <th>C10</th>\n",
              "    </tr>\n",
              "  </thead>\n",
              "  <tbody>\n",
              "    <tr>\n",
              "      <th>0</th>\n",
              "      <td>2</td>\n",
              "      <td>0</td>\n",
              "      <td>1</td>\n",
              "      <td>4</td>\n",
              "      <td>4</td>\n",
              "      <td>2</td>\n",
              "      <td>9</td>\n",
              "      <td>5</td>\n",
              "      <td>5</td>\n",
              "      <td>13</td>\n",
              "    </tr>\n",
              "    <tr>\n",
              "      <th>1</th>\n",
              "      <td>1</td>\n",
              "      <td>1</td>\n",
              "      <td>1</td>\n",
              "      <td>4</td>\n",
              "      <td>3</td>\n",
              "      <td>5</td>\n",
              "      <td>8</td>\n",
              "      <td>4</td>\n",
              "      <td>2</td>\n",
              "      <td>10</td>\n",
              "    </tr>\n",
              "    <tr>\n",
              "      <th>2</th>\n",
              "      <td>4</td>\n",
              "      <td>2</td>\n",
              "      <td>2</td>\n",
              "      <td>3</td>\n",
              "      <td>1</td>\n",
              "      <td>1</td>\n",
              "      <td>9</td>\n",
              "      <td>4</td>\n",
              "      <td>3</td>\n",
              "      <td>7</td>\n",
              "    </tr>\n",
              "    <tr>\n",
              "      <th>3</th>\n",
              "      <td>5</td>\n",
              "      <td>2</td>\n",
              "      <td>2</td>\n",
              "      <td>12</td>\n",
              "      <td>8</td>\n",
              "      <td>14</td>\n",
              "      <td>2</td>\n",
              "      <td>2</td>\n",
              "      <td>5</td>\n",
              "      <td>1</td>\n",
              "    </tr>\n",
              "    <tr>\n",
              "      <th>4</th>\n",
              "      <td>3</td>\n",
              "      <td>5</td>\n",
              "      <td>2</td>\n",
              "      <td>14</td>\n",
              "      <td>15</td>\n",
              "      <td>8</td>\n",
              "      <td>5</td>\n",
              "      <td>1</td>\n",
              "      <td>3</td>\n",
              "      <td>4</td>\n",
              "    </tr>\n",
              "  </tbody>\n",
              "</table>\n",
              "</div>"
            ],
            "text/plain": [
              "Category C1 C2 C3  C4  C5  C6 C7 C8 C9 C10\n",
              "0         2  0  1   4   4   2  9  5  5  13\n",
              "1         1  1  1   4   3   5  8  4  2  10\n",
              "2         4  2  2   3   1   1  9  4  3   7\n",
              "3         5  2  2  12   8  14  2  2  5   1\n",
              "4         3  5  2  14  15   8  5  1  3   4"
            ]
          },
          "metadata": {},
          "execution_count": 11
        }
      ]
    },
    {
      "cell_type": "code",
      "metadata": {
        "id": "ffDPSuGifMYo",
        "colab": {
          "base_uri": "https://localhost:8080/",
          "height": 206
        },
        "outputId": "6d2b3877-6cc3-429d-bdcd-4ebb263919c3"
      },
      "source": [
        "from sklearn.preprocessing import StandardScaler # Here, the values are scaled in order to avoid bias arising from the high differences. \n",
        "scaler = StandardScaler()\n",
        "\n",
        "scaler.fit(df_prep)\n",
        "\n",
        "df_prep = scaler.transform(df_prep)\n",
        "df_prep= pd.DataFrame(df_prep)\n",
        "df_prep.head()"
      ],
      "execution_count": null,
      "outputs": [
        {
          "output_type": "execute_result",
          "data": {
            "text/html": [
              "<div>\n",
              "<style scoped>\n",
              "    .dataframe tbody tr th:only-of-type {\n",
              "        vertical-align: middle;\n",
              "    }\n",
              "\n",
              "    .dataframe tbody tr th {\n",
              "        vertical-align: top;\n",
              "    }\n",
              "\n",
              "    .dataframe thead th {\n",
              "        text-align: right;\n",
              "    }\n",
              "</style>\n",
              "<table border=\"1\" class=\"dataframe\">\n",
              "  <thead>\n",
              "    <tr style=\"text-align: right;\">\n",
              "      <th></th>\n",
              "      <th>0</th>\n",
              "      <th>1</th>\n",
              "      <th>2</th>\n",
              "      <th>3</th>\n",
              "      <th>4</th>\n",
              "      <th>5</th>\n",
              "      <th>6</th>\n",
              "      <th>7</th>\n",
              "      <th>8</th>\n",
              "      <th>9</th>\n",
              "    </tr>\n",
              "  </thead>\n",
              "  <tbody>\n",
              "    <tr>\n",
              "      <th>0</th>\n",
              "      <td>-0.764181</td>\n",
              "      <td>-1.285297</td>\n",
              "      <td>-1.022605</td>\n",
              "      <td>-0.274941</td>\n",
              "      <td>-0.269624</td>\n",
              "      <td>-0.771616</td>\n",
              "      <td>1.022699</td>\n",
              "      <td>0.022224</td>\n",
              "      <td>0.001779</td>\n",
              "      <td>2.060170</td>\n",
              "    </tr>\n",
              "    <tr>\n",
              "      <th>1</th>\n",
              "      <td>-1.028174</td>\n",
              "      <td>-1.030933</td>\n",
              "      <td>-1.022605</td>\n",
              "      <td>-0.274941</td>\n",
              "      <td>-0.527888</td>\n",
              "      <td>0.007005</td>\n",
              "      <td>0.765050</td>\n",
              "      <td>-0.235279</td>\n",
              "      <td>-0.760982</td>\n",
              "      <td>1.289692</td>\n",
              "    </tr>\n",
              "    <tr>\n",
              "      <th>2</th>\n",
              "      <td>-0.236195</td>\n",
              "      <td>-0.776569</td>\n",
              "      <td>-0.768898</td>\n",
              "      <td>-0.538382</td>\n",
              "      <td>-1.044417</td>\n",
              "      <td>-1.031157</td>\n",
              "      <td>1.022699</td>\n",
              "      <td>-0.235279</td>\n",
              "      <td>-0.506728</td>\n",
              "      <td>0.519214</td>\n",
              "    </tr>\n",
              "    <tr>\n",
              "      <th>3</th>\n",
              "      <td>0.027798</td>\n",
              "      <td>-0.776569</td>\n",
              "      <td>-0.768898</td>\n",
              "      <td>1.832589</td>\n",
              "      <td>0.763433</td>\n",
              "      <td>2.342870</td>\n",
              "      <td>-0.780847</td>\n",
              "      <td>-0.750285</td>\n",
              "      <td>0.001779</td>\n",
              "      <td>-1.021741</td>\n",
              "    </tr>\n",
              "    <tr>\n",
              "      <th>4</th>\n",
              "      <td>-0.500188</td>\n",
              "      <td>-0.013477</td>\n",
              "      <td>-0.768898</td>\n",
              "      <td>2.359471</td>\n",
              "      <td>2.571283</td>\n",
              "      <td>0.785627</td>\n",
              "      <td>-0.007899</td>\n",
              "      <td>-1.007788</td>\n",
              "      <td>-0.506728</td>\n",
              "      <td>-0.251263</td>\n",
              "    </tr>\n",
              "  </tbody>\n",
              "</table>\n",
              "</div>"
            ],
            "text/plain": [
              "          0         1         2  ...         7         8         9\n",
              "0 -0.764181 -1.285297 -1.022605  ...  0.022224  0.001779  2.060170\n",
              "1 -1.028174 -1.030933 -1.022605  ... -0.235279 -0.760982  1.289692\n",
              "2 -0.236195 -0.776569 -0.768898  ... -0.235279 -0.506728  0.519214\n",
              "3  0.027798 -0.776569 -0.768898  ... -0.750285  0.001779 -1.021741\n",
              "4 -0.500188 -0.013477 -0.768898  ... -1.007788 -0.506728 -0.251263\n",
              "\n",
              "[5 rows x 10 columns]"
            ]
          },
          "metadata": {},
          "execution_count": 12
        }
      ]
    },
    {
      "cell_type": "code",
      "metadata": {
        "id": "u1USUaqdCYZ5"
      },
      "source": [
        "from sklearn.cluster import KMeans # Importing tools for K-means algorithm from the library\n",
        "from sklearn.metrics import silhouette_score"
      ],
      "execution_count": null,
      "outputs": []
    },
    {
      "cell_type": "code",
      "metadata": {
        "id": "9VJp1fNhCYZ5",
        "colab": {
          "base_uri": "https://localhost:8080/"
        },
        "outputId": "1b9f6501-4c1a-44ea-d261-6e8a8efc82ce"
      },
      "source": [
        "random.seed(12345)\n",
        "range_n_clusters = list (range(2,17))\n",
        "score_list = [] # Create a list for keeping the values of silhouette score\n",
        "for n_clusters in range_n_clusters:    \n",
        "    clusterer = KMeans(n_clusters=n_clusters)\n",
        "    predictions = clusterer.fit_predict(df_prep)\n",
        "    centers = clusterer.cluster_centers_\n",
        "    \n",
        "    score = silhouette_score (df_prep, predictions, metric='euclidean')\n",
        "    print (\"For n_clusters = {}, silhouette score is {})\".format(n_clusters, score))\n",
        "    score_list.append(score)"
      ],
      "execution_count": null,
      "outputs": [
        {
          "output_type": "stream",
          "name": "stdout",
          "text": [
            "For n_clusters = 2, silhouette score is 0.3305417373804981)\n",
            "For n_clusters = 3, silhouette score is 0.4584689273949073)\n",
            "For n_clusters = 4, silhouette score is 0.5697283919979704)\n",
            "For n_clusters = 5, silhouette score is 0.45217562954907387)\n",
            "For n_clusters = 6, silhouette score is 0.3468331826465769)\n",
            "For n_clusters = 7, silhouette score is 0.244244716736008)\n",
            "For n_clusters = 8, silhouette score is 0.1503528122359757)\n",
            "For n_clusters = 9, silhouette score is 0.1449872749789383)\n",
            "For n_clusters = 10, silhouette score is 0.1440622116673035)\n",
            "For n_clusters = 11, silhouette score is 0.1401180837668965)\n",
            "For n_clusters = 12, silhouette score is 0.13451813251747724)\n",
            "For n_clusters = 13, silhouette score is 0.13932910403760293)\n",
            "For n_clusters = 14, silhouette score is 0.13536284927064293)\n",
            "For n_clusters = 15, silhouette score is 0.1377547903890657)\n",
            "For n_clusters = 16, silhouette score is 0.13518859764145819)\n"
          ]
        }
      ]
    },
    {
      "cell_type": "code",
      "metadata": {
        "id": "aa6n2AQpCYZ5",
        "colab": {
          "base_uri": "https://localhost:8080/",
          "height": 301
        },
        "outputId": "595f61eb-3f7e-4bc9-9d50-f0fee9385a13"
      },
      "source": [
        "sscore = {'n_cluster': range_n_clusters,\n",
        "        'Silhouette_score': score_list }\n",
        "\n",
        "sscore_df = pd.DataFrame(sscore,columns=['n_cluster','Silhouette_score'])\n",
        "  \n",
        "plt.plot(sscore_df['n_cluster'], sscore_df['Silhouette_score'], color='red', marker='o')\n",
        "plt.title('Silhouette Score for Different k Values', fontsize=15)\n",
        "plt.xlabel('Number of Cluster (k)', fontsize=14)\n",
        "plt.ylabel('Silhouette Score', fontsize=14)\n",
        "plt.grid(True)\n",
        "plt.show()"
      ],
      "execution_count": null,
      "outputs": [
        {
          "output_type": "display_data",
          "data": {
            "image/png": "[encoded data removed]",
            "text/plain": [
              "<Figure size 432x288 with 1 Axes>"
            ]
          },
          "metadata": {
            "needs_background": "light"
          }
        }
      ]
    },
    {
      "cell_type": "markdown",
      "metadata": {
        "id": "Go__5G7ACYZ7"
      },
      "source": [
        "Now, try with n= 4 since it has maximum score value. "
      ]
    },
    {
      "cell_type": "code",
      "metadata": {
        "id": "hq4pw3aTCYZ7",
        "colab": {
          "base_uri": "https://localhost:8080/"
        },
        "outputId": "22ce2e8c-6204-4309-ca65-d88af3e87a06"
      },
      "source": [
        "kmeans = KMeans(n_clusters=4)\n",
        "kmeans.fit(df_prep)\n",
        "kmeans.cluster_centers_\n",
        "kmeans.labels_"
      ],
      "execution_count": null,
      "outputs": [
        {
          "output_type": "execute_result",
          "data": {
            "text/plain": [
              "array([0, 0, 0, ..., 1, 0, 2], dtype=int32)"
            ]
          },
          "metadata": {},
          "execution_count": 16
        }
      ]
    },
    {
      "cell_type": "code",
      "metadata": {
        "id": "TjwYsnYbCYZ7",
        "colab": {
          "base_uri": "https://localhost:8080/"
        },
        "outputId": "553967ef-b131-45ca-d9d5-150da9ac655c"
      },
      "source": [
        "kmeans.cluster_centers_"
      ],
      "execution_count": null,
      "outputs": [
        {
          "output_type": "execute_result",
          "data": {
            "text/plain": [
              "array([[-0.49145798, -0.52388701, -0.54136738, -0.53141285, -0.50226702,\n",
              "        -0.53301755,  1.54106559, -0.50913162, -0.52858841,  1.53055132],\n",
              "       [-0.5036615 , -0.51852312, -0.5262075 ,  1.52269867,  1.52701197,\n",
              "         1.52736633, -0.51980748, -0.49142695, -0.52947699, -0.5249855 ],\n",
              "       [-0.49709424,  1.51866858,  1.52206085, -0.49173115, -0.52956989,\n",
              "        -0.52660735, -0.51548154, -0.49747629,  1.52034844, -0.52179982],\n",
              "       [ 1.58450954, -0.52468803, -0.50174518, -0.52699213, -0.52176506,\n",
              "        -0.49289079, -0.52176023,  1.59058546, -0.50991945, -0.49841779]])"
            ]
          },
          "metadata": {},
          "execution_count": 17
        }
      ]
    },
    {
      "cell_type": "code",
      "metadata": {
        "id": "r_xVb506CYZ8",
        "scrolled": false,
        "colab": {
          "base_uri": "https://localhost:8080/",
          "height": 175
        },
        "outputId": "4f928268-1ca0-456c-aafd-1e51d9cc6a02"
      },
      "source": [
        "#SCALED CENTROID TABLE\n",
        "#The order of four Clusters (0,1,2,3) can be changed for every single run due to the running process of the K-Means algorithm. \n",
        "centroids = kmeans.cluster_centers_\n",
        "centroids = pd.DataFrame(centroids,columns= ['C1','C2','C3','C4','C5','C6','C7','C8','C9','C10'])\n",
        "centroids #These are the centroids of clusters for k=4."
      ],
      "execution_count": null,
      "outputs": [
        {
          "output_type": "execute_result",
          "data": {
            "text/html": [
              "<div>\n",
              "<style scoped>\n",
              "    .dataframe tbody tr th:only-of-type {\n",
              "        vertical-align: middle;\n",
              "    }\n",
              "\n",
              "    .dataframe tbody tr th {\n",
              "        vertical-align: top;\n",
              "    }\n",
              "\n",
              "    .dataframe thead th {\n",
              "        text-align: right;\n",
              "    }\n",
              "</style>\n",
              "<table border=\"1\" class=\"dataframe\">\n",
              "  <thead>\n",
              "    <tr style=\"text-align: right;\">\n",
              "      <th></th>\n",
              "      <th>C1</th>\n",
              "      <th>C2</th>\n",
              "      <th>C3</th>\n",
              "      <th>C4</th>\n",
              "      <th>C5</th>\n",
              "      <th>C6</th>\n",
              "      <th>C7</th>\n",
              "      <th>C8</th>\n",
              "      <th>C9</th>\n",
              "      <th>C10</th>\n",
              "    </tr>\n",
              "  </thead>\n",
              "  <tbody>\n",
              "    <tr>\n",
              "      <th>0</th>\n",
              "      <td>-0.491458</td>\n",
              "      <td>-0.523887</td>\n",
              "      <td>-0.541367</td>\n",
              "      <td>-0.531413</td>\n",
              "      <td>-0.502267</td>\n",
              "      <td>-0.533018</td>\n",
              "      <td>1.541066</td>\n",
              "      <td>-0.509132</td>\n",
              "      <td>-0.528588</td>\n",
              "      <td>1.530551</td>\n",
              "    </tr>\n",
              "    <tr>\n",
              "      <th>1</th>\n",
              "      <td>-0.503661</td>\n",
              "      <td>-0.518523</td>\n",
              "      <td>-0.526208</td>\n",
              "      <td>1.522699</td>\n",
              "      <td>1.527012</td>\n",
              "      <td>1.527366</td>\n",
              "      <td>-0.519807</td>\n",
              "      <td>-0.491427</td>\n",
              "      <td>-0.529477</td>\n",
              "      <td>-0.524986</td>\n",
              "    </tr>\n",
              "    <tr>\n",
              "      <th>2</th>\n",
              "      <td>-0.497094</td>\n",
              "      <td>1.518669</td>\n",
              "      <td>1.522061</td>\n",
              "      <td>-0.491731</td>\n",
              "      <td>-0.529570</td>\n",
              "      <td>-0.526607</td>\n",
              "      <td>-0.515482</td>\n",
              "      <td>-0.497476</td>\n",
              "      <td>1.520348</td>\n",
              "      <td>-0.521800</td>\n",
              "    </tr>\n",
              "    <tr>\n",
              "      <th>3</th>\n",
              "      <td>1.584510</td>\n",
              "      <td>-0.524688</td>\n",
              "      <td>-0.501745</td>\n",
              "      <td>-0.526992</td>\n",
              "      <td>-0.521765</td>\n",
              "      <td>-0.492891</td>\n",
              "      <td>-0.521760</td>\n",
              "      <td>1.590585</td>\n",
              "      <td>-0.509919</td>\n",
              "      <td>-0.498418</td>\n",
              "    </tr>\n",
              "  </tbody>\n",
              "</table>\n",
              "</div>"
            ],
            "text/plain": [
              "         C1        C2        C3  ...        C8        C9       C10\n",
              "0 -0.491458 -0.523887 -0.541367  ... -0.509132 -0.528588  1.530551\n",
              "1 -0.503661 -0.518523 -0.526208  ... -0.491427 -0.529477 -0.524986\n",
              "2 -0.497094  1.518669  1.522061  ... -0.497476  1.520348 -0.521800\n",
              "3  1.584510 -0.524688 -0.501745  ...  1.590585 -0.509919 -0.498418\n",
              "\n",
              "[4 rows x 10 columns]"
            ]
          },
          "metadata": {},
          "execution_count": 18
        }
      ]
    },
    {
      "cell_type": "code",
      "metadata": {
        "id": "vsl4cDteCYZ8",
        "colab": {
          "base_uri": "https://localhost:8080/",
          "height": 175
        },
        "outputId": "be20e7a3-1c6d-43e0-8e34-d73645c4ed10"
      },
      "source": [
        "#CENTROID TABLE\n",
        "#Reversing to original values for centroids\n",
        "centroids_reversed = StandardScaler().fit(df.reset_index().drop(\"CustomerID\",axis=1)).inverse_transform(centroids, copy=None)\n",
        "centroids_reversed = pd.DataFrame(centroids_reversed,columns= ['C1','C2','C3','C4','C5','C6','C7','C8','C9','C10'])\n",
        "centroids_reversed"
      ],
      "execution_count": null,
      "outputs": [
        {
          "output_type": "execute_result",
          "data": {
            "text/html": [
              "<div>\n",
              "<style scoped>\n",
              "    .dataframe tbody tr th:only-of-type {\n",
              "        vertical-align: middle;\n",
              "    }\n",
              "\n",
              "    .dataframe tbody tr th {\n",
              "        vertical-align: top;\n",
              "    }\n",
              "\n",
              "    .dataframe thead th {\n",
              "        text-align: right;\n",
              "    }\n",
              "</style>\n",
              "<table border=\"1\" class=\"dataframe\">\n",
              "  <thead>\n",
              "    <tr style=\"text-align: right;\">\n",
              "      <th></th>\n",
              "      <th>C1</th>\n",
              "      <th>C2</th>\n",
              "      <th>C3</th>\n",
              "      <th>C4</th>\n",
              "      <th>C5</th>\n",
              "      <th>C6</th>\n",
              "      <th>C7</th>\n",
              "      <th>C8</th>\n",
              "      <th>C9</th>\n",
              "      <th>C10</th>\n",
              "    </tr>\n",
              "  </thead>\n",
              "  <tbody>\n",
              "    <tr>\n",
              "      <th>0</th>\n",
              "      <td>3.033069</td>\n",
              "      <td>2.993386</td>\n",
              "      <td>2.896825</td>\n",
              "      <td>3.026455</td>\n",
              "      <td>3.099206</td>\n",
              "      <td>2.919312</td>\n",
              "      <td>11.011905</td>\n",
              "      <td>2.936508</td>\n",
              "      <td>2.914021</td>\n",
              "      <td>10.937831</td>\n",
              "    </tr>\n",
              "    <tr>\n",
              "      <th>1</th>\n",
              "      <td>2.986842</td>\n",
              "      <td>3.014474</td>\n",
              "      <td>2.956579</td>\n",
              "      <td>10.823684</td>\n",
              "      <td>10.956579</td>\n",
              "      <td>10.857895</td>\n",
              "      <td>3.013158</td>\n",
              "      <td>3.005263</td>\n",
              "      <td>2.910526</td>\n",
              "      <td>2.934211</td>\n",
              "    </tr>\n",
              "    <tr>\n",
              "      <th>2</th>\n",
              "      <td>3.011719</td>\n",
              "      <td>11.023438</td>\n",
              "      <td>11.029948</td>\n",
              "      <td>3.177083</td>\n",
              "      <td>2.993490</td>\n",
              "      <td>2.944010</td>\n",
              "      <td>3.029948</td>\n",
              "      <td>2.981771</td>\n",
              "      <td>10.972656</td>\n",
              "      <td>2.946615</td>\n",
              "    </tr>\n",
              "    <tr>\n",
              "      <th>3</th>\n",
              "      <td>10.896792</td>\n",
              "      <td>2.990237</td>\n",
              "      <td>3.052999</td>\n",
              "      <td>3.043236</td>\n",
              "      <td>3.023710</td>\n",
              "      <td>3.073919</td>\n",
              "      <td>3.005579</td>\n",
              "      <td>11.090656</td>\n",
              "      <td>2.987448</td>\n",
              "      <td>3.037657</td>\n",
              "    </tr>\n",
              "  </tbody>\n",
              "</table>\n",
              "</div>"
            ],
            "text/plain": [
              "          C1         C2         C3  ...         C8         C9        C10\n",
              "0   3.033069   2.993386   2.896825  ...   2.936508   2.914021  10.937831\n",
              "1   2.986842   3.014474   2.956579  ...   3.005263   2.910526   2.934211\n",
              "2   3.011719  11.023438  11.029948  ...   2.981771  10.972656   2.946615\n",
              "3  10.896792   2.990237   3.052999  ...  11.090656   2.987448   3.037657\n",
              "\n",
              "[4 rows x 10 columns]"
            ]
          },
          "metadata": {},
          "execution_count": 19
        }
      ]
    },
    {
      "cell_type": "code",
      "metadata": {
        "id": "2Wz4wvk8CYZ8",
        "colab": {
          "base_uri": "https://localhost:8080/",
          "height": 455
        },
        "outputId": "1112cb54-3f38-494f-b796-77d1c13d8e00"
      },
      "source": [
        "df_with_clusters = df\n",
        "df_with_clusters['Clusters'] = kmeans.labels_\n",
        "df_with_clusters= df_with_clusters.reset_index()\n",
        "df_with_clusters = df_with_clusters.set_index(\"Clusters\")\n",
        "df_with_clusters = df_with_clusters.sort_index()\n",
        "\n",
        "df_with_clusters"
      ],
      "execution_count": null,
      "outputs": [
        {
          "output_type": "execute_result",
          "data": {
            "text/html": [
              "<div>\n",
              "<style scoped>\n",
              "    .dataframe tbody tr th:only-of-type {\n",
              "        vertical-align: middle;\n",
              "    }\n",
              "\n",
              "    .dataframe tbody tr th {\n",
              "        vertical-align: top;\n",
              "    }\n",
              "\n",
              "    .dataframe thead th {\n",
              "        text-align: right;\n",
              "    }\n",
              "</style>\n",
              "<table border=\"1\" class=\"dataframe\">\n",
              "  <thead>\n",
              "    <tr style=\"text-align: right;\">\n",
              "      <th>Category</th>\n",
              "      <th>CustomerID</th>\n",
              "      <th>C1</th>\n",
              "      <th>C2</th>\n",
              "      <th>C3</th>\n",
              "      <th>C4</th>\n",
              "      <th>C5</th>\n",
              "      <th>C6</th>\n",
              "      <th>C7</th>\n",
              "      <th>C8</th>\n",
              "      <th>C9</th>\n",
              "      <th>C10</th>\n",
              "    </tr>\n",
              "    <tr>\n",
              "      <th>Clusters</th>\n",
              "      <th></th>\n",
              "      <th></th>\n",
              "      <th></th>\n",
              "      <th></th>\n",
              "      <th></th>\n",
              "      <th></th>\n",
              "      <th></th>\n",
              "      <th></th>\n",
              "      <th></th>\n",
              "      <th></th>\n",
              "      <th></th>\n",
              "    </tr>\n",
              "  </thead>\n",
              "  <tbody>\n",
              "    <tr>\n",
              "      <th>0</th>\n",
              "      <td>1000</td>\n",
              "      <td>2</td>\n",
              "      <td>0</td>\n",
              "      <td>1</td>\n",
              "      <td>4</td>\n",
              "      <td>4</td>\n",
              "      <td>2</td>\n",
              "      <td>9</td>\n",
              "      <td>5</td>\n",
              "      <td>5</td>\n",
              "      <td>13</td>\n",
              "    </tr>\n",
              "    <tr>\n",
              "      <th>0</th>\n",
              "      <td>2475</td>\n",
              "      <td>4</td>\n",
              "      <td>2</td>\n",
              "      <td>1</td>\n",
              "      <td>4</td>\n",
              "      <td>1</td>\n",
              "      <td>1</td>\n",
              "      <td>10</td>\n",
              "      <td>3</td>\n",
              "      <td>5</td>\n",
              "      <td>7</td>\n",
              "    </tr>\n",
              "    <tr>\n",
              "      <th>0</th>\n",
              "      <td>2473</td>\n",
              "      <td>3</td>\n",
              "      <td>1</td>\n",
              "      <td>5</td>\n",
              "      <td>2</td>\n",
              "      <td>4</td>\n",
              "      <td>2</td>\n",
              "      <td>15</td>\n",
              "      <td>3</td>\n",
              "      <td>5</td>\n",
              "      <td>7</td>\n",
              "    </tr>\n",
              "    <tr>\n",
              "      <th>0</th>\n",
              "      <td>2472</td>\n",
              "      <td>1</td>\n",
              "      <td>1</td>\n",
              "      <td>4</td>\n",
              "      <td>4</td>\n",
              "      <td>2</td>\n",
              "      <td>2</td>\n",
              "      <td>8</td>\n",
              "      <td>1</td>\n",
              "      <td>4</td>\n",
              "      <td>15</td>\n",
              "    </tr>\n",
              "    <tr>\n",
              "      <th>0</th>\n",
              "      <td>2458</td>\n",
              "      <td>1</td>\n",
              "      <td>1</td>\n",
              "      <td>4</td>\n",
              "      <td>2</td>\n",
              "      <td>5</td>\n",
              "      <td>3</td>\n",
              "      <td>12</td>\n",
              "      <td>3</td>\n",
              "      <td>2</td>\n",
              "      <td>7</td>\n",
              "    </tr>\n",
              "    <tr>\n",
              "      <th>...</th>\n",
              "      <td>...</td>\n",
              "      <td>...</td>\n",
              "      <td>...</td>\n",
              "      <td>...</td>\n",
              "      <td>...</td>\n",
              "      <td>...</td>\n",
              "      <td>...</td>\n",
              "      <td>...</td>\n",
              "      <td>...</td>\n",
              "      <td>...</td>\n",
              "      <td>...</td>\n",
              "    </tr>\n",
              "    <tr>\n",
              "      <th>3</th>\n",
              "      <td>1340</td>\n",
              "      <td>14</td>\n",
              "      <td>5</td>\n",
              "      <td>3</td>\n",
              "      <td>3</td>\n",
              "      <td>5</td>\n",
              "      <td>3</td>\n",
              "      <td>3</td>\n",
              "      <td>8</td>\n",
              "      <td>2</td>\n",
              "      <td>3</td>\n",
              "    </tr>\n",
              "    <tr>\n",
              "      <th>3</th>\n",
              "      <td>3480</td>\n",
              "      <td>12</td>\n",
              "      <td>1</td>\n",
              "      <td>5</td>\n",
              "      <td>5</td>\n",
              "      <td>2</td>\n",
              "      <td>4</td>\n",
              "      <td>5</td>\n",
              "      <td>8</td>\n",
              "      <td>2</td>\n",
              "      <td>5</td>\n",
              "    </tr>\n",
              "    <tr>\n",
              "      <th>3</th>\n",
              "      <td>2158</td>\n",
              "      <td>9</td>\n",
              "      <td>2</td>\n",
              "      <td>3</td>\n",
              "      <td>3</td>\n",
              "      <td>4</td>\n",
              "      <td>3</td>\n",
              "      <td>5</td>\n",
              "      <td>10</td>\n",
              "      <td>4</td>\n",
              "      <td>2</td>\n",
              "    </tr>\n",
              "    <tr>\n",
              "      <th>3</th>\n",
              "      <td>3471</td>\n",
              "      <td>8</td>\n",
              "      <td>2</td>\n",
              "      <td>5</td>\n",
              "      <td>2</td>\n",
              "      <td>3</td>\n",
              "      <td>5</td>\n",
              "      <td>3</td>\n",
              "      <td>7</td>\n",
              "      <td>2</td>\n",
              "      <td>5</td>\n",
              "    </tr>\n",
              "    <tr>\n",
              "      <th>3</th>\n",
              "      <td>2880</td>\n",
              "      <td>9</td>\n",
              "      <td>5</td>\n",
              "      <td>3</td>\n",
              "      <td>4</td>\n",
              "      <td>4</td>\n",
              "      <td>5</td>\n",
              "      <td>3</td>\n",
              "      <td>13</td>\n",
              "      <td>5</td>\n",
              "      <td>4</td>\n",
              "    </tr>\n",
              "  </tbody>\n",
              "</table>\n",
              "<p>3001 rows × 11 columns</p>\n",
              "</div>"
            ],
            "text/plain": [
              "Category CustomerID  C1 C2 C3 C4 C5 C6  C7  C8 C9 C10\n",
              "Clusters                                             \n",
              "0              1000   2  0  1  4  4  2   9   5  5  13\n",
              "0              2475   4  2  1  4  1  1  10   3  5   7\n",
              "0              2473   3  1  5  2  4  2  15   3  5   7\n",
              "0              2472   1  1  4  4  2  2   8   1  4  15\n",
              "0              2458   1  1  4  2  5  3  12   3  2   7\n",
              "...             ...  .. .. .. .. .. ..  ..  .. ..  ..\n",
              "3              1340  14  5  3  3  5  3   3   8  2   3\n",
              "3              3480  12  1  5  5  2  4   5   8  2   5\n",
              "3              2158   9  2  3  3  4  3   5  10  4   2\n",
              "3              3471   8  2  5  2  3  5   3   7  2   5\n",
              "3              2880   9  5  3  4  4  5   3  13  5   4\n",
              "\n",
              "[3001 rows x 11 columns]"
            ]
          },
          "metadata": {},
          "execution_count": 20
        }
      ]
    },
    {
      "cell_type": "code",
      "metadata": {
        "id": "VG1957S4CYZ8",
        "colab": {
          "base_uri": "https://localhost:8080/",
          "height": 175
        },
        "outputId": "6855bbc6-0c98-43b6-b629-a8d2a25c7203"
      },
      "source": [
        "df_with_clusters.describe()"
      ],
      "execution_count": null,
      "outputs": [
        {
          "output_type": "execute_result",
          "data": {
            "text/html": [
              "<div>\n",
              "<style scoped>\n",
              "    .dataframe tbody tr th:only-of-type {\n",
              "        vertical-align: middle;\n",
              "    }\n",
              "\n",
              "    .dataframe tbody tr th {\n",
              "        vertical-align: top;\n",
              "    }\n",
              "\n",
              "    .dataframe thead th {\n",
              "        text-align: right;\n",
              "    }\n",
              "</style>\n",
              "<table border=\"1\" class=\"dataframe\">\n",
              "  <thead>\n",
              "    <tr style=\"text-align: right;\">\n",
              "      <th>Category</th>\n",
              "      <th>CustomerID</th>\n",
              "      <th>C1</th>\n",
              "      <th>C2</th>\n",
              "      <th>C3</th>\n",
              "      <th>C4</th>\n",
              "      <th>C5</th>\n",
              "      <th>C6</th>\n",
              "      <th>C7</th>\n",
              "      <th>C8</th>\n",
              "      <th>C9</th>\n",
              "      <th>C10</th>\n",
              "    </tr>\n",
              "  </thead>\n",
              "  <tbody>\n",
              "    <tr>\n",
              "      <th>count</th>\n",
              "      <td>3001</td>\n",
              "      <td>3001</td>\n",
              "      <td>3001</td>\n",
              "      <td>3001</td>\n",
              "      <td>3001</td>\n",
              "      <td>3001</td>\n",
              "      <td>3001</td>\n",
              "      <td>3001</td>\n",
              "      <td>3001</td>\n",
              "      <td>3001</td>\n",
              "      <td>3001</td>\n",
              "    </tr>\n",
              "    <tr>\n",
              "      <th>unique</th>\n",
              "      <td>3001</td>\n",
              "      <td>14</td>\n",
              "      <td>15</td>\n",
              "      <td>14</td>\n",
              "      <td>14</td>\n",
              "      <td>14</td>\n",
              "      <td>14</td>\n",
              "      <td>14</td>\n",
              "      <td>14</td>\n",
              "      <td>14</td>\n",
              "      <td>14</td>\n",
              "    </tr>\n",
              "    <tr>\n",
              "      <th>top</th>\n",
              "      <td>3001</td>\n",
              "      <td>2</td>\n",
              "      <td>5</td>\n",
              "      <td>2</td>\n",
              "      <td>4</td>\n",
              "      <td>4</td>\n",
              "      <td>3</td>\n",
              "      <td>3</td>\n",
              "      <td>4</td>\n",
              "      <td>2</td>\n",
              "      <td>1</td>\n",
              "    </tr>\n",
              "    <tr>\n",
              "      <th>freq</th>\n",
              "      <td>1</td>\n",
              "      <td>480</td>\n",
              "      <td>460</td>\n",
              "      <td>492</td>\n",
              "      <td>483</td>\n",
              "      <td>464</td>\n",
              "      <td>460</td>\n",
              "      <td>477</td>\n",
              "      <td>489</td>\n",
              "      <td>486</td>\n",
              "      <td>468</td>\n",
              "    </tr>\n",
              "  </tbody>\n",
              "</table>\n",
              "</div>"
            ],
            "text/plain": [
              "Category CustomerID    C1    C2    C3    C4    C5    C6    C7    C8    C9   C10\n",
              "count          3001  3001  3001  3001  3001  3001  3001  3001  3001  3001  3001\n",
              "unique         3001    14    15    14    14    14    14    14    14    14    14\n",
              "top            3001     2     5     2     4     4     3     3     4     2     1\n",
              "freq              1   480   460   492   483   464   460   477   489   486   468"
            ]
          },
          "metadata": {},
          "execution_count": 21
        }
      ]
    },
    {
      "cell_type": "code",
      "metadata": {
        "id": "ytolBXDjCYZ8",
        "colab": {
          "base_uri": "https://localhost:8080/",
          "height": 295
        },
        "outputId": "c978fbb5-9496-42c2-f608-8e92e5ebcaf6"
      },
      "source": [
        "df_with_clusters.reset_index()[\"Clusters\"].plot.hist(grid=True, bins=10, rwidth=0.9, #Check for distribution of clusters by a histogram and prepare a complete plot\n",
        "                   color='#607c8e')\n",
        "plt.title('Number of Customers in Each Segment')\n",
        "plt.xlabel('Clusters')\n",
        "plt.ylabel('# of Customers')\n",
        "plt.grid(axis='x', alpha=0.55)"
      ],
      "execution_count": null,
      "outputs": [
        {
          "output_type": "display_data",
          "data": {
            "image/png": "[encoded data removed]",
            "text/plain": [
              "<Figure size 432x288 with 1 Axes>"
            ]
          },
          "metadata": {
            "needs_background": "light"
          }
        }
      ]
    },
    {
      "cell_type": "markdown",
      "metadata": {
        "id": "ikCc8dY2CYZ9"
      },
      "source": [
        "According to the centroid table, the customers in Cluster 1 are interested in Category 7 (Home&Living) and Category 10 (Technology). It can directly be seen from Table 5 as the numbers associated with Category 7 and Category 10 is more than 10. In Table 6, the same values around 1.5 are observed which means the page visits are higher than the mean.  Similarly, it can be observed that customers in Cluster 2 are related to Category 4  (Clean-Up), Category 5 (Food), and Category 6 (Fruit and Vegetables). The customers in Cluster 3 are related to Category 2 (Bakery), Category 3 (Beverage), and category 9. Finally, Cluster 4 is related to Category 1 (Baby Care) and Category 8 (Ready to Eat). \n",
        "\n",
        "From these results, customers in **Cluster 1** can be profiled as **HomeTech** group which cares about technology and their life at home. **Cluster 2** can be defined as **Everyday User**, which nearly buys all of the daily needs from the system. **Cluster 3** can be defined as **FastFooders** since their focus is on the product which is ready to consume quickly. And finally, **Cluster 4** can be defined as **BigFamily**, which refers to couples with babies.\n"
      ]
    }
  ]
}