{
  "nbformat": 4,
  "nbformat_minor": 0,
  "metadata": {
    "kernelspec": {
      "display_name": "Python 3",
      "language": "python",
      "name": "python3"
    },
    "language_info": {
      "codemirror_mode": {
        "name": "ipython",
        "version": 3
      },
      "file_extension": ".py",
      "mimetype": "text/x-python",
      "name": "python",
      "nbconvert_exporter": "python",
      "pygments_lexer": "ipython3",
      "version": "3.8.3"
    },
    "colab": {
      "name": "12.2. Revenue Management and Pricing.ipynb",
      "provenance": [],
      "collapsed_sections": [],
      "include_colab_link": true
    }
  },
  "cells": [
    {
      "cell_type": "markdown",
      "metadata": {
        "id": "view-in-github",
        "colab_type": "text"
      },
      "source": [
        "<a href=\"https://colab.research.google.com/github/ITU-Business-Analytics-Team/Business_Analytics_for_Professionals/blob/main/Part%20II%20%3A%20Business%20Applications/Chapter%2012%3A%20CRM%20%26%20Marketing%20Analytics/12_2_Revenue_Management_and_Pricing.ipynb\" target=\"_parent\"><img src=\"https://colab.research.google.com/assets/colab-badge.svg\" alt=\"Open In Colab\"/></a>"
      ]
    },
    {
      "cell_type": "markdown",
      "metadata": {
        "id": "CBKvGOu2QaK-"
      },
      "source": [
        "# **CRM & Marketing Analytics**\n",
        "## Revenue Management and Pricing"
      ]
    },
    {
      "cell_type": "code",
      "metadata": {
        "id": "wu2BjliM5OOI",
        "colab": {
          "base_uri": "https://localhost:8080/"
        },
        "outputId": "62fade1b-c21a-4eff-87aa-3daff2068dd7"
      },
      "source": [
        "from sklearn.metrics import mean_absolute_error\n",
        "from sklearn.preprocessing import MinMaxScaler,StandardScaler\n",
        "import numpy as np\n",
        "import pandas as pd\n",
        "from sklearn.preprocessing import PolynomialFeatures\n",
        "import statsmodels.api as sm\n",
        "import math"
      ],
      "execution_count": null,
      "outputs": [
        {
          "output_type": "stream",
          "name": "stderr",
          "text": [
            "/usr/local/lib/python3.7/dist-packages/statsmodels/tools/_testing.py:19: FutureWarning: pandas.util.testing is deprecated. Use the functions in the public API at pandas.testing instead.\n",
            "  import pandas.util.testing as tm\n"
          ]
        }
      ]
    },
    {
      "cell_type": "code",
      "metadata": {
        "colab": {
          "base_uri": "https://localhost:8080/",
          "height": 243
        },
        "id": "nUssTP6r5OOJ",
        "outputId": "1b4ff398-6265-4a1c-c8ad-f25d4677bf07"
      },
      "source": [
        "#Import Data\n",
        "url=\"https://docs.google.com/spreadsheets/d/1pIqxchx7m0kJXlm0OmnqhAWeFfSRxj2B/edit?usp=sharing&ouid=116301364204212013828&rtpof=true&sd=true\"\n",
        "path = 'https://drive.google.com/uc?export=download&id='+url.split('/')[-2]\n",
        "data = pd.read_excel(path)\n",
        "data.head()\n"
      ],
      "execution_count": null,
      "outputs": [
        {
          "output_type": "execute_result",
          "data": {
            "text/html": [
              "<div>\n",
              "<style scoped>\n",
              "    .dataframe tbody tr th:only-of-type {\n",
              "        vertical-align: middle;\n",
              "    }\n",
              "\n",
              "    .dataframe tbody tr th {\n",
              "        vertical-align: top;\n",
              "    }\n",
              "\n",
              "    .dataframe thead th {\n",
              "        text-align: right;\n",
              "    }\n",
              "</style>\n",
              "<table border=\"1\" class=\"dataframe\">\n",
              "  <thead>\n",
              "    <tr style=\"text-align: right;\">\n",
              "      <th></th>\n",
              "      <th>Unnamed: 0</th>\n",
              "      <th>Year</th>\n",
              "      <th>Month</th>\n",
              "      <th>RecommendedPrice</th>\n",
              "      <th>AvgSalesPrice</th>\n",
              "      <th>TotalSold</th>\n",
              "      <th>SoldWithoutDiscount</th>\n",
              "      <th>Discount</th>\n",
              "      <th>Promotion</th>\n",
              "      <th>Competitor_Price</th>\n",
              "      <th>PreviousAvgSalesPrice</th>\n",
              "      <th>PreviousTotalSold</th>\n",
              "      <th>TwoPreviousAvgSalesPrice</th>\n",
              "      <th>TwoPreviousTotalSold</th>\n",
              "      <th>PreviousCompetitor_Price</th>\n",
              "      <th>TwoPreviousCompetitor_Price</th>\n",
              "      <th>DiscountedPrice</th>\n",
              "      <th>Euro</th>\n",
              "    </tr>\n",
              "  </thead>\n",
              "  <tbody>\n",
              "    <tr>\n",
              "      <th>0</th>\n",
              "      <td>2</td>\n",
              "      <td>2019</td>\n",
              "      <td>3</td>\n",
              "      <td>279</td>\n",
              "      <td>269.426000</td>\n",
              "      <td>6782</td>\n",
              "      <td>6782</td>\n",
              "      <td>0</td>\n",
              "      <td>0</td>\n",
              "      <td>545.0</td>\n",
              "      <td>268.422479</td>\n",
              "      <td>4585</td>\n",
              "      <td>269.979652</td>\n",
              "      <td>3510</td>\n",
              "      <td>545.0</td>\n",
              "      <td>545.0</td>\n",
              "      <td>279</td>\n",
              "      <td>6.0876</td>\n",
              "    </tr>\n",
              "    <tr>\n",
              "      <th>1</th>\n",
              "      <td>3</td>\n",
              "      <td>2019</td>\n",
              "      <td>4</td>\n",
              "      <td>359</td>\n",
              "      <td>287.498163</td>\n",
              "      <td>4946</td>\n",
              "      <td>4946</td>\n",
              "      <td>0</td>\n",
              "      <td>1</td>\n",
              "      <td>554.0</td>\n",
              "      <td>269.426000</td>\n",
              "      <td>6782</td>\n",
              "      <td>268.422479</td>\n",
              "      <td>4585</td>\n",
              "      <td>545.0</td>\n",
              "      <td>545.0</td>\n",
              "      <td>359</td>\n",
              "      <td>6.2299</td>\n",
              "    </tr>\n",
              "    <tr>\n",
              "      <th>2</th>\n",
              "      <td>4</td>\n",
              "      <td>2019</td>\n",
              "      <td>5</td>\n",
              "      <td>359</td>\n",
              "      <td>292.788821</td>\n",
              "      <td>7449</td>\n",
              "      <td>7449</td>\n",
              "      <td>0</td>\n",
              "      <td>1</td>\n",
              "      <td>554.0</td>\n",
              "      <td>287.498163</td>\n",
              "      <td>4946</td>\n",
              "      <td>269.426000</td>\n",
              "      <td>6782</td>\n",
              "      <td>554.0</td>\n",
              "      <td>545.0</td>\n",
              "      <td>359</td>\n",
              "      <td>6.6890</td>\n",
              "    </tr>\n",
              "    <tr>\n",
              "      <th>3</th>\n",
              "      <td>5</td>\n",
              "      <td>2019</td>\n",
              "      <td>6</td>\n",
              "      <td>399</td>\n",
              "      <td>317.292266</td>\n",
              "      <td>4614</td>\n",
              "      <td>4614</td>\n",
              "      <td>0</td>\n",
              "      <td>1</td>\n",
              "      <td>554.0</td>\n",
              "      <td>292.788821</td>\n",
              "      <td>7449</td>\n",
              "      <td>287.498163</td>\n",
              "      <td>4946</td>\n",
              "      <td>554.0</td>\n",
              "      <td>554.0</td>\n",
              "      <td>399</td>\n",
              "      <td>6.5265</td>\n",
              "    </tr>\n",
              "    <tr>\n",
              "      <th>4</th>\n",
              "      <td>6</td>\n",
              "      <td>2019</td>\n",
              "      <td>7</td>\n",
              "      <td>399</td>\n",
              "      <td>357.696890</td>\n",
              "      <td>3402</td>\n",
              "      <td>3402</td>\n",
              "      <td>0</td>\n",
              "      <td>0</td>\n",
              "      <td>620.0</td>\n",
              "      <td>317.292266</td>\n",
              "      <td>4614</td>\n",
              "      <td>292.788821</td>\n",
              "      <td>7449</td>\n",
              "      <td>554.0</td>\n",
              "      <td>554.0</td>\n",
              "      <td>399</td>\n",
              "      <td>6.5824</td>\n",
              "    </tr>\n",
              "  </tbody>\n",
              "</table>\n",
              "</div>"
            ],
            "text/plain": [
              "   Unnamed: 0  Year  ...  DiscountedPrice    Euro\n",
              "0           2  2019  ...              279  6.0876\n",
              "1           3  2019  ...              359  6.2299\n",
              "2           4  2019  ...              359  6.6890\n",
              "3           5  2019  ...              399  6.5265\n",
              "4           6  2019  ...              399  6.5824\n",
              "\n",
              "[5 rows x 18 columns]"
            ]
          },
          "metadata": {},
          "execution_count": 2
        }
      ]
    },
    {
      "cell_type": "markdown",
      "metadata": {
        "id": "kiFjr4ig5OOK"
      },
      "source": [
        "There are some features that were used to maximise revenue. Below the specifics of the features can be found\n",
        "\n",
        "Variable Name | Variable Description\n",
        "-------------------|------------------\n",
        "Year | Production year\n",
        "Month | Production month\n",
        "RecommendedPrice | Recommended price of current month\n",
        "AvgSalesPrice | Average sales price of current month\n",
        "TotalSold | Total sales of current month\n",
        "SoldWithoutDiscount |Total sales per month w/o discount\n",
        "Discount | Discount (1) or not (0)\n",
        "Promotion | Promotion (1) or not (0)\n",
        "Competitor_Price | Selling price of competitors in the current month\n",
        "PreviousAvgSalesPrice | Average sales price of last month\n",
        "PreviousTotalSold | Total sales of last month\n",
        "TwoPreviousAvgSalesPrice | Average sales price of two months before\n",
        "TwoPreviousTotalSold | Total sales of two months before\n",
        "PreviousCompetitor_Price | Selling price of competitors in last month\n"
      ]
    },
    {
      "cell_type": "code",
      "metadata": {
        "id": "6caHoyjd5OOL"
      },
      "source": [
        "def mean_absolute_percentage_error(y_true, y_pred): \n",
        "    y_true, y_pred = np.array(y_true), np.array(y_pred)\n",
        "    return np.mean(np.abs((y_true - y_pred) / y_true))"
      ],
      "execution_count": null,
      "outputs": []
    },
    {
      "cell_type": "markdown",
      "metadata": {
        "id": "pVStQ9Yw5OOL"
      },
      "source": [
        "### Revenue Model\n",
        "The notations and explanations of for the generic revenue model are shown below:<br/>\n",
        "\n",
        "$Income = f(x) * ρ$ <br/>\n",
        "$Optimum Revenue: max[f(x)*ρ]$ <br/>\n",
        "$Profit = f(x) * ρ * c$ <br/>\n",
        "$Optimum Profit: max[f(x) * ρ * c]$ <br/>\n",
        "\n",
        "$f(x)$: Prediction of number of sales  <br/>\n",
        "$ρ$: Distribution of average selling price <br/>\n",
        "$c$: Profitability <br/>\n"
      ]
    },
    {
      "cell_type": "markdown",
      "metadata": {
        "id": "f_gXcH9V5OOM"
      },
      "source": [
        "Linear regression was used to find average sales price by using discounted price in this problem."
      ]
    },
    {
      "cell_type": "code",
      "metadata": {
        "id": "yJYF7NKE5OOM"
      },
      "source": [
        "#Polynomial Regression\n",
        "PN = PolynomialFeatures(degree=1, interaction_only=True, include_bias=False)"
      ],
      "execution_count": null,
      "outputs": []
    },
    {
      "cell_type": "code",
      "metadata": {
        "id": "WsiVxFOa5OON"
      },
      "source": [
        "\n",
        "X1 = data.loc[data.index.isin([13,15,16]), 'DiscountedPrice'].to_frame()\n",
        "\n",
        "y1 = data.loc[data.index.isin([13,15,16]),'AvgSalesPrice'].to_frame()"
      ],
      "execution_count": null,
      "outputs": []
    },
    {
      "cell_type": "code",
      "metadata": {
        "colab": {
          "base_uri": "https://localhost:8080/"
        },
        "id": "lPQ10YN05OON",
        "outputId": "7066cd82-3ed8-4019-da80-d7f1e5c26b3a"
      },
      "source": [
        "scaled_X1 = PN.fit_transform(X1) \n",
        "\n",
        "X_ad1= pd.DataFrame( sm.add_constant(scaled_X1))\n",
        "result1 = sm.OLS(y1.values.ravel(), X_ad1).fit()\n",
        "\n",
        "coeff = result1.params\n",
        "print('R2: ', result1.rsquared)"
      ],
      "execution_count": null,
      "outputs": [
        {
          "output_type": "stream",
          "name": "stdout",
          "text": [
            "R2:  0.9941428397713825\n"
          ]
        }
      ]
    },
    {
      "cell_type": "markdown",
      "metadata": {
        "id": "ehdiu0bK5OOO"
      },
      "source": [
        "Next, the function that gives total sold of products is obtained."
      ]
    },
    {
      "cell_type": "code",
      "metadata": {
        "id": "LiMQNFUT5OOO"
      },
      "source": [
        "X = data[['Year','Month','PreviousAvgSalesPrice','PreviousTotalSold','TwoPreviousAvgSalesPrice','TwoPreviousTotalSold',\n",
        "                'Competitor_Price','Promotion','PreviousCompetitor_Price','TwoPreviousCompetitor_Price',\n",
        "                'RecommendedPrice','DiscountedPrice','Euro']]\n",
        "\n",
        "y=data['TotalSold']"
      ],
      "execution_count": null,
      "outputs": []
    },
    {
      "cell_type": "code",
      "metadata": {
        "colab": {
          "base_uri": "https://localhost:8080/"
        },
        "id": "mb1OcOq05OOP",
        "outputId": "ed952bd2-81c5-4fb9-dcdd-9510ee8d9f5e"
      },
      "source": [
        "scaled_X = PN.fit_transform(X) \n",
        "\n",
        "X_ad = pd.DataFrame( sm.add_constant(scaled_X))\n",
        "result2 = sm.OLS(y, X_ad).fit()\n",
        "\n",
        "print('R2: ', result2.rsquared)\n"
      ],
      "execution_count": null,
      "outputs": [
        {
          "output_type": "stream",
          "name": "stdout",
          "text": [
            "R2:  0.9770438060189408\n"
          ]
        }
      ]
    },
    {
      "cell_type": "markdown",
      "metadata": {
        "id": "8eWzHQKB5OOP"
      },
      "source": [
        "Afterwards, revenue optimisation was made separately for April, June and July of 2020. By testing potential discounted prices between 50 TL and 450 TL for each month (by increasing 10 TL in each trial)."
      ]
    },
    {
      "cell_type": "code",
      "metadata": {
        "id": "wOUXA0tz5OOP"
      },
      "source": [
        "scores=pd.DataFrame(columns=['Year','Month','DiscountedPrice','AvgSalesPrice','TotalSold','Revenue',\n",
        "                             'PredictedTotalSold','PredictedRevenue'])\n",
        "\n",
        "testMonths=[13,15,16]\n",
        "for testMonth in testMonths:\n",
        "    realRevenue = y.iloc[testMonth] * data.loc[testMonth,'AvgSalesPrice']\n",
        "    for i in range(50,450,10):\n",
        "        \n",
        "        X.at[testMonth,'DiscountedPrice'] = i\n",
        "        \n",
        "        \n",
        "        scaled_X_test = PN.fit_transform(X) \n",
        "        X_ad_test = pd.DataFrame( sm.add_constant(scaled_X_test))\n",
        "        \n",
        "        #Predicted number of sales\n",
        "        y_pred2 = result2.predict(X_ad_test)\n",
        " \n",
        "        #Average sales price function is applying\n",
        "        avgSalesPrice = coeff[1] * i + coeff[0]\n",
        "        \n",
        "        #Possible revenue calculation\n",
        "        revenue = avgSalesPrice * y_pred2.iloc[testMonth]\n",
        "        \n",
        "        scores=scores.append({'Year':X.loc[testMonth,'Year'],'Month':X.loc[testMonth,'Month'],\n",
        "                              'DiscountedPrice':i,'AvgSalesPrice':avgSalesPrice,'TotalSold':y.iloc[testMonth],\n",
        "                              'Revenue':realRevenue,\n",
        "                              'PredictedTotalSold':y_pred2.iloc[testMonth],\n",
        "                              'PredictedRevenue':revenue\n",
        "                              }, ignore_index=True)"
      ],
      "execution_count": null,
      "outputs": []
    },
    {
      "cell_type": "markdown",
      "metadata": {
        "id": "IEFGd1Cj5OOQ"
      },
      "source": [
        "The function is also being tested for campaign prices in the 4th, 6th and 7th months."
      ]
    },
    {
      "cell_type": "code",
      "metadata": {
        "colab": {
          "base_uri": "https://localhost:8080/"
        },
        "id": "2zlog1Ol5OOQ",
        "outputId": "79e5458d-6f81-4a08-b7e1-c96e56bdbd2f"
      },
      "source": [
        "testScores = scores[((scores['Month']==4) & (scores['DiscountedPrice']==250)) | ((scores['Month']==6) & (scores['DiscountedPrice']==300)) | ((scores['Month']==7) & (scores['DiscountedPrice']==360))]    \n",
        "\n",
        "print(\"MAPE: {:.2%}\".format( mean_absolute_percentage_error(testScores['TotalSold'], testScores['PredictedTotalSold']) ))\n"
      ],
      "execution_count": null,
      "outputs": [
        {
          "output_type": "stream",
          "name": "stdout",
          "text": [
            "MAPE: 1.96%\n"
          ]
        }
      ]
    },
    {
      "cell_type": "markdown",
      "metadata": {
        "id": "z4ytDwna5OOQ"
      },
      "source": [
        "Below chart shows predicted amount of sales with respect to discounted price."
      ]
    },
    {
      "cell_type": "code",
      "metadata": {
        "colab": {
          "base_uri": "https://localhost:8080/",
          "height": 297
        },
        "id": "eMKc6SVf5OOQ",
        "outputId": "39f659d7-bf12-421e-8288-5a8ae674f2ce"
      },
      "source": [
        "scores.plot(x='DiscountedPrice', y='PredictedTotalSold', style='o')"
      ],
      "execution_count": null,
      "outputs": [
        {
          "output_type": "execute_result",
          "data": {
            "text/plain": [
              "<matplotlib.axes._subplots.AxesSubplot at 0x7f6f000a9890>"
            ]
          },
          "metadata": {},
          "execution_count": 11
        },
        {
          "output_type": "display_data",
          "data": {
            "image/png": "[encoded data removed]",
            "text/plain": [
              "<Figure size 432x288 with 1 Axes>"
            ]
          },
          "metadata": {
            "needs_background": "light"
          }
        }
      ]
    },
    {
      "cell_type": "markdown",
      "metadata": {
        "id": "xRS5sb2h5OOR"
      },
      "source": [
        "Finally, predicted revenue with respect to discount price is obtained."
      ]
    },
    {
      "cell_type": "code",
      "metadata": {
        "colab": {
          "base_uri": "https://localhost:8080/",
          "height": 307
        },
        "id": "U6KBAfS95OOR",
        "outputId": "0a61faaf-7c98-4226-9486-2c76241f636c"
      },
      "source": [
        "scores.plot(x='DiscountedPrice', y='PredictedRevenue', style='o')"
      ],
      "execution_count": null,
      "outputs": [
        {
          "output_type": "execute_result",
          "data": {
            "text/plain": [
              "<matplotlib.axes._subplots.AxesSubplot at 0x7f6ef7fa6c10>"
            ]
          },
          "metadata": {},
          "execution_count": 12
        },
        {
          "output_type": "display_data",
          "data": {
            "image/png": "[encoded data removed]",
            "text/plain": [
              "<Figure size 432x288 with 1 Axes>"
            ]
          },
          "metadata": {
            "needs_background": "light"
          }
        }
      ]
    },
    {
      "cell_type": "code",
      "metadata": {
        "colab": {
          "base_uri": "https://localhost:8080/",
          "height": 206
        },
        "id": "rVCQQ2WT5OOR",
        "outputId": "850d8f8d-f48a-47c7-83a2-e889fb2a5bf4"
      },
      "source": [
        "scores.head()"
      ],
      "execution_count": null,
      "outputs": [
        {
          "output_type": "execute_result",
          "data": {
            "text/html": [
              "<div>\n",
              "<style scoped>\n",
              "    .dataframe tbody tr th:only-of-type {\n",
              "        vertical-align: middle;\n",
              "    }\n",
              "\n",
              "    .dataframe tbody tr th {\n",
              "        vertical-align: top;\n",
              "    }\n",
              "\n",
              "    .dataframe thead th {\n",
              "        text-align: right;\n",
              "    }\n",
              "</style>\n",
              "<table border=\"1\" class=\"dataframe\">\n",
              "  <thead>\n",
              "    <tr style=\"text-align: right;\">\n",
              "      <th></th>\n",
              "      <th>Year</th>\n",
              "      <th>Month</th>\n",
              "      <th>DiscountedPrice</th>\n",
              "      <th>AvgSalesPrice</th>\n",
              "      <th>TotalSold</th>\n",
              "      <th>Revenue</th>\n",
              "      <th>PredictedTotalSold</th>\n",
              "      <th>PredictedRevenue</th>\n",
              "    </tr>\n",
              "  </thead>\n",
              "  <tbody>\n",
              "    <tr>\n",
              "      <th>0</th>\n",
              "      <td>2020.0</td>\n",
              "      <td>4.0</td>\n",
              "      <td>50.0</td>\n",
              "      <td>97.920340</td>\n",
              "      <td>15935.0</td>\n",
              "      <td>4.446380e+06</td>\n",
              "      <td>28132.961902</td>\n",
              "      <td>2.754789e+06</td>\n",
              "    </tr>\n",
              "    <tr>\n",
              "      <th>1</th>\n",
              "      <td>2020.0</td>\n",
              "      <td>4.0</td>\n",
              "      <td>60.0</td>\n",
              "      <td>106.901442</td>\n",
              "      <td>15935.0</td>\n",
              "      <td>4.446380e+06</td>\n",
              "      <td>27523.732253</td>\n",
              "      <td>2.942327e+06</td>\n",
              "    </tr>\n",
              "    <tr>\n",
              "      <th>2</th>\n",
              "      <td>2020.0</td>\n",
              "      <td>4.0</td>\n",
              "      <td>70.0</td>\n",
              "      <td>115.882544</td>\n",
              "      <td>15935.0</td>\n",
              "      <td>4.446380e+06</td>\n",
              "      <td>26914.502604</td>\n",
              "      <td>3.118921e+06</td>\n",
              "    </tr>\n",
              "    <tr>\n",
              "      <th>3</th>\n",
              "      <td>2020.0</td>\n",
              "      <td>4.0</td>\n",
              "      <td>80.0</td>\n",
              "      <td>124.863646</td>\n",
              "      <td>15935.0</td>\n",
              "      <td>4.446380e+06</td>\n",
              "      <td>26305.272955</td>\n",
              "      <td>3.284572e+06</td>\n",
              "    </tr>\n",
              "    <tr>\n",
              "      <th>4</th>\n",
              "      <td>2020.0</td>\n",
              "      <td>4.0</td>\n",
              "      <td>90.0</td>\n",
              "      <td>133.844748</td>\n",
              "      <td>15935.0</td>\n",
              "      <td>4.446380e+06</td>\n",
              "      <td>25696.043307</td>\n",
              "      <td>3.439280e+06</td>\n",
              "    </tr>\n",
              "  </tbody>\n",
              "</table>\n",
              "</div>"
            ],
            "text/plain": [
              "     Year  Month  ...  PredictedTotalSold  PredictedRevenue\n",
              "0  2020.0    4.0  ...        28132.961902      2.754789e+06\n",
              "1  2020.0    4.0  ...        27523.732253      2.942327e+06\n",
              "2  2020.0    4.0  ...        26914.502604      3.118921e+06\n",
              "3  2020.0    4.0  ...        26305.272955      3.284572e+06\n",
              "4  2020.0    4.0  ...        25696.043307      3.439280e+06\n",
              "\n",
              "[5 rows x 8 columns]"
            ]
          },
          "metadata": {},
          "execution_count": 13
        }
      ]
    },
    {
      "cell_type": "markdown",
      "metadata": {
        "id": "oiT1ATDN5OOR"
      },
      "source": [
        "The top point of the curves shows the possible prices that are expected to generate the maximum revenue."
      ]
    },
    {
      "cell_type": "code",
      "metadata": {
        "id": "7Hj8nUo05OOR"
      },
      "source": [
        "comparison = scores[scores['PredictedRevenue'] == scores.groupby('Month')['PredictedRevenue'].transform(max)]"
      ],
      "execution_count": null,
      "outputs": []
    },
    {
      "cell_type": "code",
      "metadata": {
        "colab": {
          "base_uri": "https://localhost:8080/",
          "height": 143
        },
        "id": "MCE_Me2L5OOS",
        "outputId": "714e465c-2277-4bda-9d67-59ab2cb7cff7"
      },
      "source": [
        "comparison"
      ],
      "execution_count": null,
      "outputs": [
        {
          "output_type": "execute_result",
          "data": {
            "text/html": [
              "<div>\n",
              "<style scoped>\n",
              "    .dataframe tbody tr th:only-of-type {\n",
              "        vertical-align: middle;\n",
              "    }\n",
              "\n",
              "    .dataframe tbody tr th {\n",
              "        vertical-align: top;\n",
              "    }\n",
              "\n",
              "    .dataframe thead th {\n",
              "        text-align: right;\n",
              "    }\n",
              "</style>\n",
              "<table border=\"1\" class=\"dataframe\">\n",
              "  <thead>\n",
              "    <tr style=\"text-align: right;\">\n",
              "      <th></th>\n",
              "      <th>Year</th>\n",
              "      <th>Month</th>\n",
              "      <th>DiscountedPrice</th>\n",
              "      <th>AvgSalesPrice</th>\n",
              "      <th>TotalSold</th>\n",
              "      <th>Revenue</th>\n",
              "      <th>PredictedTotalSold</th>\n",
              "      <th>PredictedRevenue</th>\n",
              "    </tr>\n",
              "  </thead>\n",
              "  <tbody>\n",
              "    <tr>\n",
              "      <th>18</th>\n",
              "      <td>2020.0</td>\n",
              "      <td>4.0</td>\n",
              "      <td>230.0</td>\n",
              "      <td>259.580177</td>\n",
              "      <td>15935.0</td>\n",
              "      <td>4.446380e+06</td>\n",
              "      <td>17166.828223</td>\n",
              "      <td>4.456168e+06</td>\n",
              "    </tr>\n",
              "    <tr>\n",
              "      <th>59</th>\n",
              "      <td>2020.0</td>\n",
              "      <td>6.0</td>\n",
              "      <td>240.0</td>\n",
              "      <td>268.561279</td>\n",
              "      <td>14924.0</td>\n",
              "      <td>4.733471e+06</td>\n",
              "      <td>18153.775383</td>\n",
              "      <td>4.875401e+06</td>\n",
              "    </tr>\n",
              "    <tr>\n",
              "      <th>96</th>\n",
              "      <td>2020.0</td>\n",
              "      <td>7.0</td>\n",
              "      <td>210.0</td>\n",
              "      <td>241.617973</td>\n",
              "      <td>6636.0</td>\n",
              "      <td>2.504602e+06</td>\n",
              "      <td>15970.144987</td>\n",
              "      <td>3.858674e+06</td>\n",
              "    </tr>\n",
              "  </tbody>\n",
              "</table>\n",
              "</div>"
            ],
            "text/plain": [
              "      Year  Month  ...  PredictedTotalSold  PredictedRevenue\n",
              "18  2020.0    4.0  ...        17166.828223      4.456168e+06\n",
              "59  2020.0    6.0  ...        18153.775383      4.875401e+06\n",
              "96  2020.0    7.0  ...        15970.144987      3.858674e+06\n",
              "\n",
              "[3 rows x 8 columns]"
            ]
          },
          "metadata": {},
          "execution_count": 15
        }
      ]
    },
    {
      "cell_type": "markdown",
      "metadata": {
        "id": "_aU_o2jN5OOS"
      },
      "source": [
        "The difference of actual values and the estimated values of the model for the revenue-maximizing discounted prices in April, June and July are shown below."
      ]
    },
    {
      "cell_type": "code",
      "metadata": {
        "colab": {
          "base_uri": "https://localhost:8080/"
        },
        "id": "MkkpfiTJ5OOS",
        "outputId": "267442c4-43f9-4f7f-9378-31e972a36c2c"
      },
      "source": [
        "diff = comparison['PredictedRevenue'] - comparison['Revenue']\n",
        "diff"
      ],
      "execution_count": null,
      "outputs": [
        {
          "output_type": "execute_result",
          "data": {
            "text/plain": [
              "18    9.788626e+03\n",
              "59    1.419302e+05\n",
              "96    1.354072e+06\n",
              "dtype: float64"
            ]
          },
          "metadata": {},
          "execution_count": 16
        }
      ]
    }
  ]
}