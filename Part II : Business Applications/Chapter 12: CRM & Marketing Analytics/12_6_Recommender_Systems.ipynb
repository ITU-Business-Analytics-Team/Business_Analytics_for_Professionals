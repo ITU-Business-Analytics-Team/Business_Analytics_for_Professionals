{
  "nbformat": 4,
  "nbformat_minor": 0,
  "metadata": {
    "colab": {
      "name": "12.6. Recommender Systems.ipynb",
      "provenance": [],
      "collapsed_sections": [],
      "include_colab_link": true
    },
    "kernelspec": {
      "name": "python3",
      "display_name": "Python 3"
    },
    "language_info": {
      "name": "python"
    }
  },
  "cells": [
    {
      "cell_type": "markdown",
      "metadata": {
        "id": "view-in-github",
        "colab_type": "text"
      },
      "source": [
        "<a href=\"https://colab.research.google.com/github/ITU-Business-Analytics-Team/Business_Analytics_for_Professionals/blob/main/Part%20II%20%3A%20Business%20Applications/Chapter%2012%3A%20CRM%20%26%20Marketing%20Analytics/12_6_Recommender_Systems.ipynb\" target=\"_parent\"><img src=\"https://colab.research.google.com/assets/colab-badge.svg\" alt=\"Open In Colab\"/></a>"
      ]
    },
    {
      "cell_type": "markdown",
      "source": [
        "# **CRM & Marketing Analytics**\n",
        "## Recommender Systems"
      ],
      "metadata": {
        "id": "YWFjIU_8_y4F"
      }
    },
    {
      "cell_type": "markdown",
      "metadata": {
        "id": "j1b53LHa3Pq1"
      },
      "source": [
        "\n",
        "### A movie recommendation system based on association rule mining"
      ]
    },
    {
      "cell_type": "markdown",
      "metadata": {
        "id": "KYoGKMnd2aAZ"
      },
      "source": [
        "[Dataset](http://files.grouplens.org/datasets/movielens/ml-latest.zip): as clean data"
      ]
    },
    {
      "cell_type": "markdown",
      "metadata": {
        "id": "4oy2ZDpijnO9"
      },
      "source": [
        "Data loadingfrom :  http://files.grouplens.org/datasets/movielens/ml-latest.zip as clean data "
      ]
    },
    {
      "cell_type": "markdown",
      "metadata": {
        "id": "a4iCOItQe52I"
      },
      "source": [
        "### **Loading the dataset**\n",
        "MovieLens 100Kused for the analysis \\\\\n",
        "First, necessary libraries are installed."
      ]
    },
    {
      "cell_type": "code",
      "metadata": {
        "colab": {
          "base_uri": "https://localhost:8080/"
        },
        "id": "liS21cD2JRLA",
        "outputId": "cfdc9882-a576-4afb-b971-c6a0f782b47f"
      },
      "source": [
        "pip install mxnet-cu101==1.7.0 -f https://dist.mxnet.io/python\n"
      ],
      "execution_count": null,
      "outputs": [
        {
          "output_type": "stream",
          "name": "stdout",
          "text": [
            "Looking in links: https://dist.mxnet.io/python\n",
            "Requirement already satisfied: mxnet-cu101==1.7.0 in /usr/local/lib/python3.7/dist-packages (1.7.0)\n",
            "Requirement already satisfied: numpy<2.0.0,>1.16.0 in /usr/local/lib/python3.7/dist-packages (from mxnet-cu101==1.7.0) (1.19.5)\n",
            "Requirement already satisfied: graphviz<0.9.0,>=0.8.1 in /usr/local/lib/python3.7/dist-packages (from mxnet-cu101==1.7.0) (0.8.4)\n",
            "Requirement already satisfied: requests<3,>=2.20.0 in /usr/local/lib/python3.7/dist-packages (from mxnet-cu101==1.7.0) (2.23.0)\n",
            "Requirement already satisfied: certifi>=2017.4.17 in /usr/local/lib/python3.7/dist-packages (from requests<3,>=2.20.0->mxnet-cu101==1.7.0) (2021.10.8)\n",
            "Requirement already satisfied: chardet<4,>=3.0.2 in /usr/local/lib/python3.7/dist-packages (from requests<3,>=2.20.0->mxnet-cu101==1.7.0) (3.0.4)\n",
            "Requirement already satisfied: idna<3,>=2.5 in /usr/local/lib/python3.7/dist-packages (from requests<3,>=2.20.0->mxnet-cu101==1.7.0) (2.10)\n",
            "Requirement already satisfied: urllib3!=1.25.0,!=1.25.1,<1.26,>=1.21.1 in /usr/local/lib/python3.7/dist-packages (from requests<3,>=2.20.0->mxnet-cu101==1.7.0) (1.24.3)\n"
          ]
        }
      ]
    },
    {
      "cell_type": "code",
      "metadata": {
        "id": "Smr2KBpIJg8W",
        "colab": {
          "base_uri": "https://localhost:8080/"
        },
        "outputId": "d41294f0-d938-4c76-8483-365ac237f0b3"
      },
      "source": [
        "pip install -U d2l"
      ],
      "execution_count": null,
      "outputs": [
        {
          "output_type": "stream",
          "name": "stdout",
          "text": [
            "Requirement already satisfied: d2l in /usr/local/lib/python3.7/dist-packages (0.17.0)\n",
            "Requirement already satisfied: requests in /usr/local/lib/python3.7/dist-packages (from d2l) (2.23.0)\n",
            "Requirement already satisfied: pandas in /usr/local/lib/python3.7/dist-packages (from d2l) (1.1.5)\n",
            "Requirement already satisfied: matplotlib in /usr/local/lib/python3.7/dist-packages (from d2l) (3.2.2)\n",
            "Requirement already satisfied: numpy in /usr/local/lib/python3.7/dist-packages (from d2l) (1.19.5)\n",
            "Requirement already satisfied: jupyter in /usr/local/lib/python3.7/dist-packages (from d2l) (1.0.0)\n",
            "Requirement already satisfied: ipywidgets in /usr/local/lib/python3.7/dist-packages (from jupyter->d2l) (7.6.5)\n",
            "Requirement already satisfied: qtconsole in /usr/local/lib/python3.7/dist-packages (from jupyter->d2l) (5.2.0)\n",
            "Requirement already satisfied: ipykernel in /usr/local/lib/python3.7/dist-packages (from jupyter->d2l) (4.10.1)\n",
            "Requirement already satisfied: notebook in /usr/local/lib/python3.7/dist-packages (from jupyter->d2l) (5.3.1)\n",
            "Requirement already satisfied: nbconvert in /usr/local/lib/python3.7/dist-packages (from jupyter->d2l) (5.6.1)\n",
            "Requirement already satisfied: jupyter-console in /usr/local/lib/python3.7/dist-packages (from jupyter->d2l) (5.2.0)\n",
            "Requirement already satisfied: ipython>=4.0.0 in /usr/local/lib/python3.7/dist-packages (from ipykernel->jupyter->d2l) (5.5.0)\n",
            "Requirement already satisfied: jupyter-client in /usr/local/lib/python3.7/dist-packages (from ipykernel->jupyter->d2l) (5.3.5)\n",
            "Requirement already satisfied: traitlets>=4.1.0 in /usr/local/lib/python3.7/dist-packages (from ipykernel->jupyter->d2l) (5.1.1)\n",
            "Requirement already satisfied: tornado>=4.0 in /usr/local/lib/python3.7/dist-packages (from ipykernel->jupyter->d2l) (5.1.1)\n",
            "Requirement already satisfied: pickleshare in /usr/local/lib/python3.7/dist-packages (from ipython>=4.0.0->ipykernel->jupyter->d2l) (0.7.5)\n",
            "Requirement already satisfied: pexpect in /usr/local/lib/python3.7/dist-packages (from ipython>=4.0.0->ipykernel->jupyter->d2l) (4.8.0)\n",
            "Requirement already satisfied: prompt-toolkit<2.0.0,>=1.0.4 in /usr/local/lib/python3.7/dist-packages (from ipython>=4.0.0->ipykernel->jupyter->d2l) (1.0.18)\n",
            "Requirement already satisfied: setuptools>=18.5 in /usr/local/lib/python3.7/dist-packages (from ipython>=4.0.0->ipykernel->jupyter->d2l) (57.4.0)\n",
            "Requirement already satisfied: pygments in /usr/local/lib/python3.7/dist-packages (from ipython>=4.0.0->ipykernel->jupyter->d2l) (2.6.1)\n",
            "Requirement already satisfied: simplegeneric>0.8 in /usr/local/lib/python3.7/dist-packages (from ipython>=4.0.0->ipykernel->jupyter->d2l) (0.8.1)\n",
            "Requirement already satisfied: decorator in /usr/local/lib/python3.7/dist-packages (from ipython>=4.0.0->ipykernel->jupyter->d2l) (4.4.2)\n",
            "Requirement already satisfied: wcwidth in /usr/local/lib/python3.7/dist-packages (from prompt-toolkit<2.0.0,>=1.0.4->ipython>=4.0.0->ipykernel->jupyter->d2l) (0.2.5)\n",
            "Requirement already satisfied: six>=1.9.0 in /usr/local/lib/python3.7/dist-packages (from prompt-toolkit<2.0.0,>=1.0.4->ipython>=4.0.0->ipykernel->jupyter->d2l) (1.15.0)\n",
            "Requirement already satisfied: ipython-genutils~=0.2.0 in /usr/local/lib/python3.7/dist-packages (from ipywidgets->jupyter->d2l) (0.2.0)\n",
            "Requirement already satisfied: widgetsnbextension~=3.5.0 in /usr/local/lib/python3.7/dist-packages (from ipywidgets->jupyter->d2l) (3.5.2)\n",
            "Requirement already satisfied: jupyterlab-widgets>=1.0.0 in /usr/local/lib/python3.7/dist-packages (from ipywidgets->jupyter->d2l) (1.0.2)\n",
            "Requirement already satisfied: nbformat>=4.2.0 in /usr/local/lib/python3.7/dist-packages (from ipywidgets->jupyter->d2l) (5.1.3)\n",
            "Requirement already satisfied: jsonschema!=2.5.0,>=2.4 in /usr/local/lib/python3.7/dist-packages (from nbformat>=4.2.0->ipywidgets->jupyter->d2l) (2.6.0)\n",
            "Requirement already satisfied: jupyter-core in /usr/local/lib/python3.7/dist-packages (from nbformat>=4.2.0->ipywidgets->jupyter->d2l) (4.9.1)\n",
            "Requirement already satisfied: terminado>=0.8.1 in /usr/local/lib/python3.7/dist-packages (from notebook->jupyter->d2l) (0.12.1)\n",
            "Requirement already satisfied: Send2Trash in /usr/local/lib/python3.7/dist-packages (from notebook->jupyter->d2l) (1.8.0)\n",
            "Requirement already satisfied: jinja2 in /usr/local/lib/python3.7/dist-packages (from notebook->jupyter->d2l) (2.11.3)\n",
            "Requirement already satisfied: pyzmq>=13 in /usr/local/lib/python3.7/dist-packages (from jupyter-client->ipykernel->jupyter->d2l) (22.3.0)\n",
            "Requirement already satisfied: python-dateutil>=2.1 in /usr/local/lib/python3.7/dist-packages (from jupyter-client->ipykernel->jupyter->d2l) (2.8.2)\n",
            "Requirement already satisfied: ptyprocess in /usr/local/lib/python3.7/dist-packages (from terminado>=0.8.1->notebook->jupyter->d2l) (0.7.0)\n",
            "Requirement already satisfied: MarkupSafe>=0.23 in /usr/local/lib/python3.7/dist-packages (from jinja2->notebook->jupyter->d2l) (2.0.1)\n",
            "Requirement already satisfied: pyparsing!=2.0.4,!=2.1.2,!=2.1.6,>=2.0.1 in /usr/local/lib/python3.7/dist-packages (from matplotlib->d2l) (2.4.7)\n",
            "Requirement already satisfied: cycler>=0.10 in /usr/local/lib/python3.7/dist-packages (from matplotlib->d2l) (0.11.0)\n",
            "Requirement already satisfied: kiwisolver>=1.0.1 in /usr/local/lib/python3.7/dist-packages (from matplotlib->d2l) (1.3.2)\n",
            "Requirement already satisfied: bleach in /usr/local/lib/python3.7/dist-packages (from nbconvert->jupyter->d2l) (4.1.0)\n",
            "Requirement already satisfied: testpath in /usr/local/lib/python3.7/dist-packages (from nbconvert->jupyter->d2l) (0.5.0)\n",
            "Requirement already satisfied: entrypoints>=0.2.2 in /usr/local/lib/python3.7/dist-packages (from nbconvert->jupyter->d2l) (0.3)\n",
            "Requirement already satisfied: pandocfilters>=1.4.1 in /usr/local/lib/python3.7/dist-packages (from nbconvert->jupyter->d2l) (1.5.0)\n",
            "Requirement already satisfied: defusedxml in /usr/local/lib/python3.7/dist-packages (from nbconvert->jupyter->d2l) (0.7.1)\n",
            "Requirement already satisfied: mistune<2,>=0.8.1 in /usr/local/lib/python3.7/dist-packages (from nbconvert->jupyter->d2l) (0.8.4)\n",
            "Requirement already satisfied: packaging in /usr/local/lib/python3.7/dist-packages (from bleach->nbconvert->jupyter->d2l) (21.2)\n",
            "Requirement already satisfied: webencodings in /usr/local/lib/python3.7/dist-packages (from bleach->nbconvert->jupyter->d2l) (0.5.1)\n",
            "Requirement already satisfied: pytz>=2017.2 in /usr/local/lib/python3.7/dist-packages (from pandas->d2l) (2018.9)\n",
            "Requirement already satisfied: qtpy in /usr/local/lib/python3.7/dist-packages (from qtconsole->jupyter->d2l) (1.11.2)\n",
            "Requirement already satisfied: urllib3!=1.25.0,!=1.25.1,<1.26,>=1.21.1 in /usr/local/lib/python3.7/dist-packages (from requests->d2l) (1.24.3)\n",
            "Requirement already satisfied: chardet<4,>=3.0.2 in /usr/local/lib/python3.7/dist-packages (from requests->d2l) (3.0.4)\n",
            "Requirement already satisfied: certifi>=2017.4.17 in /usr/local/lib/python3.7/dist-packages (from requests->d2l) (2021.10.8)\n",
            "Requirement already satisfied: idna<3,>=2.5 in /usr/local/lib/python3.7/dist-packages (from requests->d2l) (2.10)\n"
          ]
        }
      ]
    },
    {
      "cell_type": "code",
      "metadata": {
        "id": "RTPD0BOVIuHR"
      },
      "source": [
        "import os\n",
        "import pandas as pd\n",
        "from mxnet import gluon, np\n",
        "from d2l import mxnet as d2l\n"
      ],
      "execution_count": null,
      "outputs": []
    },
    {
      "cell_type": "code",
      "metadata": {
        "id": "DFl_94DRJBpC"
      },
      "source": [
        "#MovieLens dataset \n",
        "d2l.DATA_HUB['ml-100k'] = (\n",
        "    'http://files.grouplens.org/datasets/movielens/ml-100k.zip',\n",
        "    'cd4dcac4241c8a4ad7badc7ca635da8a69dddb83')"
      ],
      "execution_count": null,
      "outputs": []
    },
    {
      "cell_type": "code",
      "metadata": {
        "id": "859W-pAysm7Z",
        "colab": {
          "base_uri": "https://localhost:8080/"
        },
        "outputId": "e6c9b43b-bef3-47c1-ba7c-325c90f43ed5"
      },
      "source": [
        "%pylab inline\n",
        "\n",
        "from collections import defaultdict\n",
        "import numpy as np\n",
        "from sklearn.neighbors import NearestNeighbors\n",
        "from sklearn.cluster import KMeans\n"
      ],
      "execution_count": null,
      "outputs": [
        {
          "output_type": "stream",
          "name": "stdout",
          "text": [
            "Populating the interactive namespace from numpy and matplotlib\n"
          ]
        },
        {
          "output_type": "stream",
          "name": "stderr",
          "text": [
            "/usr/local/lib/python3.7/dist-packages/IPython/core/magics/pylab.py:161: UserWarning: pylab import has clobbered these variables: ['np']\n",
            "`%matplotlib` prevents importing * from pylab and numpy\n",
            "  \"\\n`%matplotlib` prevents importing * from pylab and numpy\"\n"
          ]
        }
      ]
    },
    {
      "cell_type": "code",
      "metadata": {
        "id": "jRIFmw1DM3EJ"
      },
      "source": [
        "# #Loading the required libraries\n",
        "import os\n",
        "import pprint\n",
        "import operator\n",
        "import numpy as np\n",
        "import pandas as pd\n",
        "from sklearn.metrics.pairwise import pairwise_distances\n",
        "\n",
        "#Read the information about the data\n",
        "info=d2l.DATA_HUB['ml-100k']"
      ],
      "execution_count": null,
      "outputs": []
    },
    {
      "cell_type": "markdown",
      "metadata": {
        "id": "FiPmOPBLfrcw"
      },
      "source": [
        "*   Data reading and descriptive analysis \n"
      ]
    },
    {
      "cell_type": "code",
      "metadata": {
        "id": "bgZBHENpM7Mr"
      },
      "source": [
        "def read_data_ml100k():\n",
        "    data_dir = d2l.download_extract('ml-100k')\n",
        "    names = ['user_id', 'item_id', 'rating', 'timestamp']\n",
        "    data = pd.read_csv(os.path.join(data_dir, 'u.data'), '\\t', names=names,\n",
        "                       engine='python')\n",
        "    num_users = data.user_id.unique().shape[0]\n",
        "    num_items = data.item_id.unique().shape[0]\n",
        "    return data, num_users, num_items"
      ],
      "execution_count": null,
      "outputs": []
    },
    {
      "cell_type": "markdown",
      "metadata": {
        "id": "mRCAOsxif89P"
      },
      "source": [
        "*   DATA sparsity is calculated. "
      ]
    },
    {
      "cell_type": "code",
      "metadata": {
        "id": "ColWhqtfNAls",
        "colab": {
          "base_uri": "https://localhost:8080/"
        },
        "outputId": "bc2144e8-5b48-4147-a8ab-dfc8e9f2f5f1"
      },
      "source": [
        "data, num_users, num_items = read_data_ml100k()\n",
        "sparsity = 1 - len(data) / (num_users * num_items)\n",
        "print(f'number of users: {num_users}, number of items: {num_items}')\n",
        "print(f'matrix sparsity: {sparsity:f}')\n",
        "print(data.head(5))"
      ],
      "execution_count": null,
      "outputs": [
        {
          "output_type": "stream",
          "name": "stdout",
          "text": [
            "number of users: 943, number of items: 1682\n",
            "matrix sparsity: 0.936953\n",
            "   user_id  item_id  rating  timestamp\n",
            "0      196      242       3  881250949\n",
            "1      186      302       3  891717742\n",
            "2       22      377       1  878887116\n",
            "3      244       51       2  880606923\n",
            "4      166      346       1  886397596\n"
          ]
        }
      ]
    },
    {
      "cell_type": "markdown",
      "metadata": {
        "id": "_mmPkD0cgF1U"
      },
      "source": [
        "Distribution of movie ratings are plotted below:"
      ]
    },
    {
      "cell_type": "code",
      "metadata": {
        "id": "q5kqTMIKNHY_",
        "colab": {
          "base_uri": "https://localhost:8080/",
          "height": 295
        },
        "outputId": "eb3462d4-344c-4839-acf5-95d22e0796e0"
      },
      "source": [
        "d2l.plt.hist(data['rating'], bins=5, ec='black')\n",
        "d2l.plt.xlabel('Rating')\n",
        "d2l.plt.ylabel('Count')\n",
        "d2l.plt.title('Distribution of Ratings in MovieLens 100K')\n",
        "d2l.plt.show()"
      ],
      "execution_count": null,
      "outputs": [
        {
          "output_type": "display_data",
          "data": {
            "image/png": "[encoded data removed]",
            "text/plain": [
              "<Figure size 432x288 with 1 Axes>"
            ]
          },
          "metadata": {
            "needs_background": "light"
          }
        }
      ]
    },
    {
      "cell_type": "code",
      "metadata": {
        "id": "NJ-K_C-ORfXv"
      },
      "source": [
        "import numpy as np\n",
        "import pandas as pd\n",
        "import matplotlib.pyplot as plt\n",
        "%matplotlib inline\n",
        "pd.set_option('display.max_columns', 500)\n",
        "pd.set_option('display.width', 1000)"
      ],
      "execution_count": null,
      "outputs": []
    },
    {
      "cell_type": "code",
      "metadata": {
        "id": "jm5xN_0uTBYZ"
      },
      "source": [
        "import requests, zipfile, io\n",
        "zipfile.ZipFile(io.BytesIO(requests.get('http://files.grouplens.org/datasets/movielens/ml-latest-small.zip').content)).extractall()"
      ],
      "execution_count": null,
      "outputs": []
    },
    {
      "cell_type": "code",
      "metadata": {
        "id": "k6SFoeE4TGQV",
        "colab": {
          "base_uri": "https://localhost:8080/"
        },
        "outputId": "4be7e997-aaa0-40a6-f8ef-6e158f9129e7"
      },
      "source": [
        "ls -a ml-latest-small"
      ],
      "execution_count": null,
      "outputs": [
        {
          "output_type": "stream",
          "name": "stdout",
          "text": [
            "\u001b[0m\u001b[01;34m.\u001b[0m/  \u001b[01;34m..\u001b[0m/  links.csv  movies.csv  ratings.csv  README.txt  tags.csv\n"
          ]
        }
      ]
    },
    {
      "cell_type": "markdown",
      "metadata": {
        "id": "eiLVUwOYgQ-h"
      },
      "source": [
        "*   Necessary sub csv files are merged to use the Apriori algorithm. "
      ]
    },
    {
      "cell_type": "code",
      "metadata": {
        "id": "IpJAM9BvTMf0"
      },
      "source": [
        "data_movies = pd.read_csv('ml-latest-small/movies.csv')\n",
        "data_tages = pd.read_csv('ml-latest-small/tags.csv')\n",
        "data_ratings = pd.read_csv('ml-latest-small/ratings.csv')"
      ],
      "execution_count": null,
      "outputs": []
    },
    {
      "cell_type": "code",
      "metadata": {
        "id": "zmaxHpAnTUro",
        "colab": {
          "base_uri": "https://localhost:8080/",
          "height": 204
        },
        "outputId": "756641dc-b454-4fe4-e207-898c5e9e477f"
      },
      "source": [
        "data_movies.head()"
      ],
      "execution_count": null,
      "outputs": [
        {
          "output_type": "execute_result",
          "data": {
            "text/html": [
              "<div>\n",
              "<style scoped>\n",
              "    .dataframe tbody tr th:only-of-type {\n",
              "        vertical-align: middle;\n",
              "    }\n",
              "\n",
              "    .dataframe tbody tr th {\n",
              "        vertical-align: top;\n",
              "    }\n",
              "\n",
              "    .dataframe thead th {\n",
              "        text-align: right;\n",
              "    }\n",
              "</style>\n",
              "<table border=\"1\" class=\"dataframe\">\n",
              "  <thead>\n",
              "    <tr style=\"text-align: right;\">\n",
              "      <th></th>\n",
              "      <th>movieId</th>\n",
              "      <th>title</th>\n",
              "      <th>genres</th>\n",
              "    </tr>\n",
              "  </thead>\n",
              "  <tbody>\n",
              "    <tr>\n",
              "      <th>0</th>\n",
              "      <td>1</td>\n",
              "      <td>Toy Story (1995)</td>\n",
              "      <td>Adventure|Animation|Children|Comedy|Fantasy</td>\n",
              "    </tr>\n",
              "    <tr>\n",
              "      <th>1</th>\n",
              "      <td>2</td>\n",
              "      <td>Jumanji (1995)</td>\n",
              "      <td>Adventure|Children|Fantasy</td>\n",
              "    </tr>\n",
              "    <tr>\n",
              "      <th>2</th>\n",
              "      <td>3</td>\n",
              "      <td>Grumpier Old Men (1995)</td>\n",
              "      <td>Comedy|Romance</td>\n",
              "    </tr>\n",
              "    <tr>\n",
              "      <th>3</th>\n",
              "      <td>4</td>\n",
              "      <td>Waiting to Exhale (1995)</td>\n",
              "      <td>Comedy|Drama|Romance</td>\n",
              "    </tr>\n",
              "    <tr>\n",
              "      <th>4</th>\n",
              "      <td>5</td>\n",
              "      <td>Father of the Bride Part II (1995)</td>\n",
              "      <td>Comedy</td>\n",
              "    </tr>\n",
              "  </tbody>\n",
              "</table>\n",
              "</div>"
            ],
            "text/plain": [
              "   movieId                               title                                       genres\n",
              "0        1                    Toy Story (1995)  Adventure|Animation|Children|Comedy|Fantasy\n",
              "1        2                      Jumanji (1995)                   Adventure|Children|Fantasy\n",
              "2        3             Grumpier Old Men (1995)                               Comedy|Romance\n",
              "3        4            Waiting to Exhale (1995)                         Comedy|Drama|Romance\n",
              "4        5  Father of the Bride Part II (1995)                                       Comedy"
            ]
          },
          "metadata": {},
          "execution_count": 14
        }
      ]
    },
    {
      "cell_type": "code",
      "metadata": {
        "id": "f_2V6kAETbVF",
        "colab": {
          "base_uri": "https://localhost:8080/"
        },
        "outputId": "242360a4-a044-4aa3-d01b-372c902e2001"
      },
      "source": [
        "data_movies.movieId.value_counts(),print('Number of duplicated unique ids are: ',data_movies.movieId.duplicated().sum())"
      ],
      "execution_count": null,
      "outputs": [
        {
          "output_type": "stream",
          "name": "stdout",
          "text": [
            "Number of duplicated unique ids are:  0\n"
          ]
        },
        {
          "output_type": "execute_result",
          "data": {
            "text/plain": [
              "(86014     1\n",
              " 1282      1\n",
              " 3347      1\n",
              " 1298      1\n",
              " 25870     1\n",
              "          ..\n",
              " 60072     1\n",
              " 4775      1\n",
              " 50601     1\n",
              " 131749    1\n",
              " 83969     1\n",
              " Name: movieId, Length: 9742, dtype: int64, None)"
            ]
          },
          "metadata": {},
          "execution_count": 15
        }
      ]
    },
    {
      "cell_type": "code",
      "metadata": {
        "id": "onJ0eS3CTgJq",
        "colab": {
          "base_uri": "https://localhost:8080/"
        },
        "outputId": "414f15c5-942b-4c28-add8-9573975da29a"
      },
      "source": [
        "data_tages.movieId.value_counts()"
      ],
      "execution_count": null,
      "outputs": [
        {
          "output_type": "execute_result",
          "data": {
            "text/plain": [
              "296     181\n",
              "2959     54\n",
              "924      41\n",
              "293      35\n",
              "7361     34\n",
              "       ... \n",
              "6107      1\n",
              "5878      1\n",
              "5876      1\n",
              "3192      1\n",
              "8190      1\n",
              "Name: movieId, Length: 1572, dtype: int64"
            ]
          },
          "metadata": {},
          "execution_count": 16
        }
      ]
    },
    {
      "cell_type": "code",
      "metadata": {
        "id": "42r1OkdOTncv",
        "colab": {
          "base_uri": "https://localhost:8080/"
        },
        "outputId": "0c1d420d-53e7-4ce8-8ab4-e5cee325fa5f"
      },
      "source": [
        "data_ratings.movieId.value_counts()"
      ],
      "execution_count": null,
      "outputs": [
        {
          "output_type": "execute_result",
          "data": {
            "text/plain": [
              "356       329\n",
              "318       317\n",
              "296       307\n",
              "593       279\n",
              "2571      278\n",
              "         ... \n",
              "5986        1\n",
              "100304      1\n",
              "34800       1\n",
              "83976       1\n",
              "8196        1\n",
              "Name: movieId, Length: 9724, dtype: int64"
            ]
          },
          "metadata": {},
          "execution_count": 17
        }
      ]
    },
    {
      "cell_type": "code",
      "metadata": {
        "id": "hrZNVze8Tsvr",
        "colab": {
          "base_uri": "https://localhost:8080/",
          "height": 204
        },
        "outputId": "50a6c872-de1d-467e-a161-0ddd7a91f01e"
      },
      "source": [
        "merge = data_movies.merge(data_tages,on = 'movieId',how = 'inner')\n",
        "merge\n",
        "merge.drop(columns=['tag','timestamp','genres'],inplace=True)\n",
        "len(merge.userId.unique()) \n",
        "merge_list = merge.groupby(by = [\"userId\"])[\"title\"].apply(list).reset_index()\n",
        "merge_list.head()"
      ],
      "execution_count": null,
      "outputs": [
        {
          "output_type": "execute_result",
          "data": {
            "text/html": [
              "<div>\n",
              "<style scoped>\n",
              "    .dataframe tbody tr th:only-of-type {\n",
              "        vertical-align: middle;\n",
              "    }\n",
              "\n",
              "    .dataframe tbody tr th {\n",
              "        vertical-align: top;\n",
              "    }\n",
              "\n",
              "    .dataframe thead th {\n",
              "        text-align: right;\n",
              "    }\n",
              "</style>\n",
              "<table border=\"1\" class=\"dataframe\">\n",
              "  <thead>\n",
              "    <tr style=\"text-align: right;\">\n",
              "      <th></th>\n",
              "      <th>userId</th>\n",
              "      <th>title</th>\n",
              "    </tr>\n",
              "  </thead>\n",
              "  <tbody>\n",
              "    <tr>\n",
              "      <th>0</th>\n",
              "      <td>2</td>\n",
              "      <td>[Step Brothers (2008), Step Brothers (2008), S...</td>\n",
              "    </tr>\n",
              "    <tr>\n",
              "      <th>1</th>\n",
              "      <td>7</td>\n",
              "      <td>[Departed, The (2006)]</td>\n",
              "    </tr>\n",
              "    <tr>\n",
              "      <th>2</th>\n",
              "      <td>18</td>\n",
              "      <td>[Carlito's Way (1993), Carlito's Way (1993), C...</td>\n",
              "    </tr>\n",
              "    <tr>\n",
              "      <th>3</th>\n",
              "      <td>21</td>\n",
              "      <td>[My Best Friend's Wedding (1997), My Best Frie...</td>\n",
              "    </tr>\n",
              "    <tr>\n",
              "      <th>4</th>\n",
              "      <td>49</td>\n",
              "      <td>[Interstellar (2014), Interstellar (2014), Int...</td>\n",
              "    </tr>\n",
              "  </tbody>\n",
              "</table>\n",
              "</div>"
            ],
            "text/plain": [
              "   userId                                              title\n",
              "0       2  [Step Brothers (2008), Step Brothers (2008), S...\n",
              "1       7                             [Departed, The (2006)]\n",
              "2      18  [Carlito's Way (1993), Carlito's Way (1993), C...\n",
              "3      21  [My Best Friend's Wedding (1997), My Best Frie...\n",
              "4      49  [Interstellar (2014), Interstellar (2014), Int..."
            ]
          },
          "metadata": {},
          "execution_count": 18
        }
      ]
    },
    {
      "cell_type": "code",
      "metadata": {
        "id": "k1-x5u_UUE-P",
        "colab": {
          "base_uri": "https://localhost:8080/"
        },
        "outputId": "3bb339d8-4b51-413e-c6d8-96ae80897a72"
      },
      "source": [
        "pd.get_dummies\n",
        "from mlxtend.preprocessing import TransactionEncoder\n",
        "#from sklearn.preprocessing import OneHotEncoder\n",
        "#sklearn.preprocessing.OneHotEncoder\n",
        "from mlxtend.preprocessing import TransactionEncoder\n",
        "te = TransactionEncoder()\n",
        "te_ary = te.fit(merge_list).transform(merge_list)\n",
        "df = pd.DataFrame(te_ary, columns=te.columns_)\n",
        "df.shape\n"
      ],
      "execution_count": null,
      "outputs": [
        {
          "output_type": "execute_result",
          "data": {
            "text/plain": [
              "(58, 9)"
            ]
          },
          "metadata": {},
          "execution_count": 19
        }
      ]
    },
    {
      "cell_type": "code",
      "metadata": {
        "id": "geQdsTXuV88k",
        "colab": {
          "base_uri": "https://localhost:8080/"
        },
        "outputId": "9e102859-5b13-4e65-ff56-f7447aaddded"
      },
      "source": [
        "pip install mlxtend --user"
      ],
      "execution_count": null,
      "outputs": [
        {
          "output_type": "stream",
          "name": "stdout",
          "text": [
            "Requirement already satisfied: mlxtend in /usr/local/lib/python3.7/dist-packages (0.14.0)\n",
            "Requirement already satisfied: pandas>=0.17.1 in /usr/local/lib/python3.7/dist-packages (from mlxtend) (1.1.5)\n",
            "Requirement already satisfied: numpy>=1.10.4 in /usr/local/lib/python3.7/dist-packages (from mlxtend) (1.19.5)\n",
            "Requirement already satisfied: scikit-learn>=0.18 in /usr/local/lib/python3.7/dist-packages (from mlxtend) (0.22.2.post1)\n",
            "Requirement already satisfied: scipy>=0.17 in /usr/local/lib/python3.7/dist-packages (from mlxtend) (1.4.1)\n",
            "Requirement already satisfied: matplotlib>=1.5.1 in /usr/local/lib/python3.7/dist-packages (from mlxtend) (3.2.2)\n",
            "Requirement already satisfied: setuptools in /usr/local/lib/python3.7/dist-packages (from mlxtend) (57.4.0)\n",
            "Requirement already satisfied: pyparsing!=2.0.4,!=2.1.2,!=2.1.6,>=2.0.1 in /usr/local/lib/python3.7/dist-packages (from matplotlib>=1.5.1->mlxtend) (2.4.7)\n",
            "Requirement already satisfied: kiwisolver>=1.0.1 in /usr/local/lib/python3.7/dist-packages (from matplotlib>=1.5.1->mlxtend) (1.3.2)\n",
            "Requirement already satisfied: python-dateutil>=2.1 in /usr/local/lib/python3.7/dist-packages (from matplotlib>=1.5.1->mlxtend) (2.8.2)\n",
            "Requirement already satisfied: cycler>=0.10 in /usr/local/lib/python3.7/dist-packages (from matplotlib>=1.5.1->mlxtend) (0.11.0)\n",
            "Requirement already satisfied: pytz>=2017.2 in /usr/local/lib/python3.7/dist-packages (from pandas>=0.17.1->mlxtend) (2018.9)\n",
            "Requirement already satisfied: six>=1.5 in /usr/local/lib/python3.7/dist-packages (from python-dateutil>=2.1->matplotlib>=1.5.1->mlxtend) (1.15.0)\n",
            "Requirement already satisfied: joblib>=0.11 in /usr/local/lib/python3.7/dist-packages (from scikit-learn>=0.18->mlxtend) (1.1.0)\n"
          ]
        }
      ]
    },
    {
      "cell_type": "markdown",
      "metadata": {
        "id": "kW90bkxeglEb"
      },
      "source": [
        "*   Apriori algorithm is applied for gathering accociation rules.\n"
      ]
    },
    {
      "cell_type": "code",
      "metadata": {
        "id": "niPD1F7xU9tR",
        "colab": {
          "base_uri": "https://localhost:8080/"
        },
        "outputId": "cb3e5632-5a23-4711-8d6e-75ffde79aa62"
      },
      "source": [
        "#Aprıorı \n",
        "from mlxtend.frequent_patterns import apriori\n",
        "%time\n",
        "apriori_frequent_itemsets = apriori(df, min_support=0.01,use_colnames=True,max_len=2)\n",
        "apriori_frequent_itemsets['itemsets'].apply(lambda x: len(x)).value_counts()\n"
      ],
      "execution_count": null,
      "outputs": [
        {
          "output_type": "stream",
          "name": "stdout",
          "text": [
            "CPU times: user 4 µs, sys: 0 ns, total: 4 µs\n",
            "Wall time: 8.58 µs\n"
          ]
        },
        {
          "output_type": "execute_result",
          "data": {
            "text/plain": [
              "2    21\n",
              "1     9\n",
              "Name: itemsets, dtype: int64"
            ]
          },
          "metadata": {},
          "execution_count": 21
        }
      ]
    },
    {
      "cell_type": "code",
      "metadata": {
        "id": "8_qpMTifWaDJ",
        "colab": {
          "base_uri": "https://localhost:8080/",
          "height": 979
        },
        "outputId": "5aed048c-078e-4d81-ca04-843205eb36da"
      },
      "source": [
        "apriori_frequent_itemsets ['length'] = apriori_frequent_itemsets ['itemsets'].apply(lambda x: len(x))\n",
        "apriori_frequent_itemsets "
      ],
      "execution_count": null,
      "outputs": [
        {
          "output_type": "execute_result",
          "data": {
            "text/html": [
              "<div>\n",
              "<style scoped>\n",
              "    .dataframe tbody tr th:only-of-type {\n",
              "        vertical-align: middle;\n",
              "    }\n",
              "\n",
              "    .dataframe tbody tr th {\n",
              "        vertical-align: top;\n",
              "    }\n",
              "\n",
              "    .dataframe thead th {\n",
              "        text-align: right;\n",
              "    }\n",
              "</style>\n",
              "<table border=\"1\" class=\"dataframe\">\n",
              "  <thead>\n",
              "    <tr style=\"text-align: right;\">\n",
              "      <th></th>\n",
              "      <th>support</th>\n",
              "      <th>itemsets</th>\n",
              "      <th>length</th>\n",
              "    </tr>\n",
              "  </thead>\n",
              "  <tbody>\n",
              "    <tr>\n",
              "      <th>0</th>\n",
              "      <td>0.017241</td>\n",
              "      <td>(I)</td>\n",
              "      <td>1</td>\n",
              "    </tr>\n",
              "    <tr>\n",
              "      <th>1</th>\n",
              "      <td>0.017241</td>\n",
              "      <td>(d)</td>\n",
              "      <td>1</td>\n",
              "    </tr>\n",
              "    <tr>\n",
              "      <th>2</th>\n",
              "      <td>0.034483</td>\n",
              "      <td>(e)</td>\n",
              "      <td>1</td>\n",
              "    </tr>\n",
              "    <tr>\n",
              "      <th>3</th>\n",
              "      <td>0.017241</td>\n",
              "      <td>(i)</td>\n",
              "      <td>1</td>\n",
              "    </tr>\n",
              "    <tr>\n",
              "      <th>4</th>\n",
              "      <td>0.017241</td>\n",
              "      <td>(l)</td>\n",
              "      <td>1</td>\n",
              "    </tr>\n",
              "    <tr>\n",
              "      <th>5</th>\n",
              "      <td>0.017241</td>\n",
              "      <td>(r)</td>\n",
              "      <td>1</td>\n",
              "    </tr>\n",
              "    <tr>\n",
              "      <th>6</th>\n",
              "      <td>0.017241</td>\n",
              "      <td>(s)</td>\n",
              "      <td>1</td>\n",
              "    </tr>\n",
              "    <tr>\n",
              "      <th>7</th>\n",
              "      <td>0.017241</td>\n",
              "      <td>(t)</td>\n",
              "      <td>1</td>\n",
              "    </tr>\n",
              "    <tr>\n",
              "      <th>8</th>\n",
              "      <td>0.017241</td>\n",
              "      <td>(u)</td>\n",
              "      <td>1</td>\n",
              "    </tr>\n",
              "    <tr>\n",
              "      <th>9</th>\n",
              "      <td>0.017241</td>\n",
              "      <td>(I, d)</td>\n",
              "      <td>2</td>\n",
              "    </tr>\n",
              "    <tr>\n",
              "      <th>10</th>\n",
              "      <td>0.017241</td>\n",
              "      <td>(e, I)</td>\n",
              "      <td>2</td>\n",
              "    </tr>\n",
              "    <tr>\n",
              "      <th>11</th>\n",
              "      <td>0.017241</td>\n",
              "      <td>(r, I)</td>\n",
              "      <td>2</td>\n",
              "    </tr>\n",
              "    <tr>\n",
              "      <th>12</th>\n",
              "      <td>0.017241</td>\n",
              "      <td>(s, I)</td>\n",
              "      <td>2</td>\n",
              "    </tr>\n",
              "    <tr>\n",
              "      <th>13</th>\n",
              "      <td>0.017241</td>\n",
              "      <td>(I, u)</td>\n",
              "      <td>2</td>\n",
              "    </tr>\n",
              "    <tr>\n",
              "      <th>14</th>\n",
              "      <td>0.017241</td>\n",
              "      <td>(e, d)</td>\n",
              "      <td>2</td>\n",
              "    </tr>\n",
              "    <tr>\n",
              "      <th>15</th>\n",
              "      <td>0.017241</td>\n",
              "      <td>(r, d)</td>\n",
              "      <td>2</td>\n",
              "    </tr>\n",
              "    <tr>\n",
              "      <th>16</th>\n",
              "      <td>0.017241</td>\n",
              "      <td>(s, d)</td>\n",
              "      <td>2</td>\n",
              "    </tr>\n",
              "    <tr>\n",
              "      <th>17</th>\n",
              "      <td>0.017241</td>\n",
              "      <td>(u, d)</td>\n",
              "      <td>2</td>\n",
              "    </tr>\n",
              "    <tr>\n",
              "      <th>18</th>\n",
              "      <td>0.017241</td>\n",
              "      <td>(e, i)</td>\n",
              "      <td>2</td>\n",
              "    </tr>\n",
              "    <tr>\n",
              "      <th>19</th>\n",
              "      <td>0.017241</td>\n",
              "      <td>(e, l)</td>\n",
              "      <td>2</td>\n",
              "    </tr>\n",
              "    <tr>\n",
              "      <th>20</th>\n",
              "      <td>0.017241</td>\n",
              "      <td>(r, e)</td>\n",
              "      <td>2</td>\n",
              "    </tr>\n",
              "    <tr>\n",
              "      <th>21</th>\n",
              "      <td>0.017241</td>\n",
              "      <td>(s, e)</td>\n",
              "      <td>2</td>\n",
              "    </tr>\n",
              "    <tr>\n",
              "      <th>22</th>\n",
              "      <td>0.017241</td>\n",
              "      <td>(e, t)</td>\n",
              "      <td>2</td>\n",
              "    </tr>\n",
              "    <tr>\n",
              "      <th>23</th>\n",
              "      <td>0.017241</td>\n",
              "      <td>(e, u)</td>\n",
              "      <td>2</td>\n",
              "    </tr>\n",
              "    <tr>\n",
              "      <th>24</th>\n",
              "      <td>0.017241</td>\n",
              "      <td>(i, l)</td>\n",
              "      <td>2</td>\n",
              "    </tr>\n",
              "    <tr>\n",
              "      <th>25</th>\n",
              "      <td>0.017241</td>\n",
              "      <td>(t, i)</td>\n",
              "      <td>2</td>\n",
              "    </tr>\n",
              "    <tr>\n",
              "      <th>26</th>\n",
              "      <td>0.017241</td>\n",
              "      <td>(t, l)</td>\n",
              "      <td>2</td>\n",
              "    </tr>\n",
              "    <tr>\n",
              "      <th>27</th>\n",
              "      <td>0.017241</td>\n",
              "      <td>(r, s)</td>\n",
              "      <td>2</td>\n",
              "    </tr>\n",
              "    <tr>\n",
              "      <th>28</th>\n",
              "      <td>0.017241</td>\n",
              "      <td>(r, u)</td>\n",
              "      <td>2</td>\n",
              "    </tr>\n",
              "    <tr>\n",
              "      <th>29</th>\n",
              "      <td>0.017241</td>\n",
              "      <td>(s, u)</td>\n",
              "      <td>2</td>\n",
              "    </tr>\n",
              "  </tbody>\n",
              "</table>\n",
              "</div>"
            ],
            "text/plain": [
              "     support itemsets  length\n",
              "0   0.017241      (I)       1\n",
              "1   0.017241      (d)       1\n",
              "2   0.034483      (e)       1\n",
              "3   0.017241      (i)       1\n",
              "4   0.017241      (l)       1\n",
              "5   0.017241      (r)       1\n",
              "6   0.017241      (s)       1\n",
              "7   0.017241      (t)       1\n",
              "8   0.017241      (u)       1\n",
              "9   0.017241   (I, d)       2\n",
              "10  0.017241   (e, I)       2\n",
              "11  0.017241   (r, I)       2\n",
              "12  0.017241   (s, I)       2\n",
              "13  0.017241   (I, u)       2\n",
              "14  0.017241   (e, d)       2\n",
              "15  0.017241   (r, d)       2\n",
              "16  0.017241   (s, d)       2\n",
              "17  0.017241   (u, d)       2\n",
              "18  0.017241   (e, i)       2\n",
              "19  0.017241   (e, l)       2\n",
              "20  0.017241   (r, e)       2\n",
              "21  0.017241   (s, e)       2\n",
              "22  0.017241   (e, t)       2\n",
              "23  0.017241   (e, u)       2\n",
              "24  0.017241   (i, l)       2\n",
              "25  0.017241   (t, i)       2\n",
              "26  0.017241   (t, l)       2\n",
              "27  0.017241   (r, s)       2\n",
              "28  0.017241   (r, u)       2\n",
              "29  0.017241   (s, u)       2"
            ]
          },
          "metadata": {},
          "execution_count": 22
        }
      ]
    },
    {
      "cell_type": "code",
      "metadata": {
        "id": "V4U_0D95WjZZ",
        "colab": {
          "base_uri": "https://localhost:8080/",
          "height": 701
        },
        "outputId": "4fc023fc-64d8-416e-869d-cd0d35233029"
      },
      "source": [
        "apriori_frequent_itemsets[(apriori_frequent_itemsets['length'] != 1)]"
      ],
      "execution_count": null,
      "outputs": [
        {
          "output_type": "execute_result",
          "data": {
            "text/html": [
              "<div>\n",
              "<style scoped>\n",
              "    .dataframe tbody tr th:only-of-type {\n",
              "        vertical-align: middle;\n",
              "    }\n",
              "\n",
              "    .dataframe tbody tr th {\n",
              "        vertical-align: top;\n",
              "    }\n",
              "\n",
              "    .dataframe thead th {\n",
              "        text-align: right;\n",
              "    }\n",
              "</style>\n",
              "<table border=\"1\" class=\"dataframe\">\n",
              "  <thead>\n",
              "    <tr style=\"text-align: right;\">\n",
              "      <th></th>\n",
              "      <th>support</th>\n",
              "      <th>itemsets</th>\n",
              "      <th>length</th>\n",
              "    </tr>\n",
              "  </thead>\n",
              "  <tbody>\n",
              "    <tr>\n",
              "      <th>9</th>\n",
              "      <td>0.017241</td>\n",
              "      <td>(I, d)</td>\n",
              "      <td>2</td>\n",
              "    </tr>\n",
              "    <tr>\n",
              "      <th>10</th>\n",
              "      <td>0.017241</td>\n",
              "      <td>(e, I)</td>\n",
              "      <td>2</td>\n",
              "    </tr>\n",
              "    <tr>\n",
              "      <th>11</th>\n",
              "      <td>0.017241</td>\n",
              "      <td>(r, I)</td>\n",
              "      <td>2</td>\n",
              "    </tr>\n",
              "    <tr>\n",
              "      <th>12</th>\n",
              "      <td>0.017241</td>\n",
              "      <td>(s, I)</td>\n",
              "      <td>2</td>\n",
              "    </tr>\n",
              "    <tr>\n",
              "      <th>13</th>\n",
              "      <td>0.017241</td>\n",
              "      <td>(I, u)</td>\n",
              "      <td>2</td>\n",
              "    </tr>\n",
              "    <tr>\n",
              "      <th>14</th>\n",
              "      <td>0.017241</td>\n",
              "      <td>(e, d)</td>\n",
              "      <td>2</td>\n",
              "    </tr>\n",
              "    <tr>\n",
              "      <th>15</th>\n",
              "      <td>0.017241</td>\n",
              "      <td>(r, d)</td>\n",
              "      <td>2</td>\n",
              "    </tr>\n",
              "    <tr>\n",
              "      <th>16</th>\n",
              "      <td>0.017241</td>\n",
              "      <td>(s, d)</td>\n",
              "      <td>2</td>\n",
              "    </tr>\n",
              "    <tr>\n",
              "      <th>17</th>\n",
              "      <td>0.017241</td>\n",
              "      <td>(u, d)</td>\n",
              "      <td>2</td>\n",
              "    </tr>\n",
              "    <tr>\n",
              "      <th>18</th>\n",
              "      <td>0.017241</td>\n",
              "      <td>(e, i)</td>\n",
              "      <td>2</td>\n",
              "    </tr>\n",
              "    <tr>\n",
              "      <th>19</th>\n",
              "      <td>0.017241</td>\n",
              "      <td>(e, l)</td>\n",
              "      <td>2</td>\n",
              "    </tr>\n",
              "    <tr>\n",
              "      <th>20</th>\n",
              "      <td>0.017241</td>\n",
              "      <td>(r, e)</td>\n",
              "      <td>2</td>\n",
              "    </tr>\n",
              "    <tr>\n",
              "      <th>21</th>\n",
              "      <td>0.017241</td>\n",
              "      <td>(s, e)</td>\n",
              "      <td>2</td>\n",
              "    </tr>\n",
              "    <tr>\n",
              "      <th>22</th>\n",
              "      <td>0.017241</td>\n",
              "      <td>(e, t)</td>\n",
              "      <td>2</td>\n",
              "    </tr>\n",
              "    <tr>\n",
              "      <th>23</th>\n",
              "      <td>0.017241</td>\n",
              "      <td>(e, u)</td>\n",
              "      <td>2</td>\n",
              "    </tr>\n",
              "    <tr>\n",
              "      <th>24</th>\n",
              "      <td>0.017241</td>\n",
              "      <td>(i, l)</td>\n",
              "      <td>2</td>\n",
              "    </tr>\n",
              "    <tr>\n",
              "      <th>25</th>\n",
              "      <td>0.017241</td>\n",
              "      <td>(t, i)</td>\n",
              "      <td>2</td>\n",
              "    </tr>\n",
              "    <tr>\n",
              "      <th>26</th>\n",
              "      <td>0.017241</td>\n",
              "      <td>(t, l)</td>\n",
              "      <td>2</td>\n",
              "    </tr>\n",
              "    <tr>\n",
              "      <th>27</th>\n",
              "      <td>0.017241</td>\n",
              "      <td>(r, s)</td>\n",
              "      <td>2</td>\n",
              "    </tr>\n",
              "    <tr>\n",
              "      <th>28</th>\n",
              "      <td>0.017241</td>\n",
              "      <td>(r, u)</td>\n",
              "      <td>2</td>\n",
              "    </tr>\n",
              "    <tr>\n",
              "      <th>29</th>\n",
              "      <td>0.017241</td>\n",
              "      <td>(s, u)</td>\n",
              "      <td>2</td>\n",
              "    </tr>\n",
              "  </tbody>\n",
              "</table>\n",
              "</div>"
            ],
            "text/plain": [
              "     support itemsets  length\n",
              "9   0.017241   (I, d)       2\n",
              "10  0.017241   (e, I)       2\n",
              "11  0.017241   (r, I)       2\n",
              "12  0.017241   (s, I)       2\n",
              "13  0.017241   (I, u)       2\n",
              "14  0.017241   (e, d)       2\n",
              "15  0.017241   (r, d)       2\n",
              "16  0.017241   (s, d)       2\n",
              "17  0.017241   (u, d)       2\n",
              "18  0.017241   (e, i)       2\n",
              "19  0.017241   (e, l)       2\n",
              "20  0.017241   (r, e)       2\n",
              "21  0.017241   (s, e)       2\n",
              "22  0.017241   (e, t)       2\n",
              "23  0.017241   (e, u)       2\n",
              "24  0.017241   (i, l)       2\n",
              "25  0.017241   (t, i)       2\n",
              "26  0.017241   (t, l)       2\n",
              "27  0.017241   (r, s)       2\n",
              "28  0.017241   (r, u)       2\n",
              "29  0.017241   (s, u)       2"
            ]
          },
          "metadata": {},
          "execution_count": 23
        }
      ]
    },
    {
      "cell_type": "code",
      "metadata": {
        "id": "LIrcJRt-Wv7n",
        "colab": {
          "base_uri": "https://localhost:8080/",
          "height": 269
        },
        "outputId": "c808803c-5e30-4a42-f41e-98aa8f3cc028"
      },
      "source": [
        "import seaborn as sns\n",
        "sns.heatmap(data=apriori_frequent_itemsets.corr(method='spearman'),\n",
        "           annot=True,\n",
        "           vmin=-1,\n",
        "           vmax=1,\n",
        "           center=0,\n",
        "           cmap='YlGnBu');"
      ],
      "execution_count": null,
      "outputs": [
        {
          "output_type": "display_data",
          "data": {
            "image/png": "[encoded data removed]",
            "text/plain": [
              "<Figure size 432x288 with 2 Axes>"
            ]
          },
          "metadata": {
            "needs_background": "light"
          }
        }
      ]
    },
    {
      "cell_type": "code",
      "metadata": {
        "id": "2JcR6w74XC2k",
        "colab": {
          "base_uri": "https://localhost:8080/",
          "height": 1000
        },
        "outputId": "1b658bd9-880a-4a04-ebf5-d369c3f50020"
      },
      "source": [
        "from mlxtend.frequent_patterns import association_rules\n",
        "rules = association_rules(apriori_frequent_itemsets,metric=\"lift\",min_threshold=0.01)\n",
        "rules"
      ],
      "execution_count": null,
      "outputs": [
        {
          "output_type": "execute_result",
          "data": {
            "text/html": [
              "<div>\n",
              "<style scoped>\n",
              "    .dataframe tbody tr th:only-of-type {\n",
              "        vertical-align: middle;\n",
              "    }\n",
              "\n",
              "    .dataframe tbody tr th {\n",
              "        vertical-align: top;\n",
              "    }\n",
              "\n",
              "    .dataframe thead th {\n",
              "        text-align: right;\n",
              "    }\n",
              "</style>\n",
              "<table border=\"1\" class=\"dataframe\">\n",
              "  <thead>\n",
              "    <tr style=\"text-align: right;\">\n",
              "      <th></th>\n",
              "      <th>antecedents</th>\n",
              "      <th>consequents</th>\n",
              "      <th>antecedent support</th>\n",
              "      <th>consequent support</th>\n",
              "      <th>support</th>\n",
              "      <th>confidence</th>\n",
              "      <th>lift</th>\n",
              "      <th>leverage</th>\n",
              "      <th>conviction</th>\n",
              "    </tr>\n",
              "  </thead>\n",
              "  <tbody>\n",
              "    <tr>\n",
              "      <th>0</th>\n",
              "      <td>(I)</td>\n",
              "      <td>(d)</td>\n",
              "      <td>0.017241</td>\n",
              "      <td>0.017241</td>\n",
              "      <td>0.017241</td>\n",
              "      <td>1.0</td>\n",
              "      <td>58.0</td>\n",
              "      <td>0.016944</td>\n",
              "      <td>inf</td>\n",
              "    </tr>\n",
              "    <tr>\n",
              "      <th>1</th>\n",
              "      <td>(d)</td>\n",
              "      <td>(I)</td>\n",
              "      <td>0.017241</td>\n",
              "      <td>0.017241</td>\n",
              "      <td>0.017241</td>\n",
              "      <td>1.0</td>\n",
              "      <td>58.0</td>\n",
              "      <td>0.016944</td>\n",
              "      <td>inf</td>\n",
              "    </tr>\n",
              "    <tr>\n",
              "      <th>2</th>\n",
              "      <td>(e)</td>\n",
              "      <td>(I)</td>\n",
              "      <td>0.034483</td>\n",
              "      <td>0.017241</td>\n",
              "      <td>0.017241</td>\n",
              "      <td>0.5</td>\n",
              "      <td>29.0</td>\n",
              "      <td>0.016647</td>\n",
              "      <td>1.965517</td>\n",
              "    </tr>\n",
              "    <tr>\n",
              "      <th>3</th>\n",
              "      <td>(I)</td>\n",
              "      <td>(e)</td>\n",
              "      <td>0.017241</td>\n",
              "      <td>0.034483</td>\n",
              "      <td>0.017241</td>\n",
              "      <td>1.0</td>\n",
              "      <td>29.0</td>\n",
              "      <td>0.016647</td>\n",
              "      <td>inf</td>\n",
              "    </tr>\n",
              "    <tr>\n",
              "      <th>4</th>\n",
              "      <td>(r)</td>\n",
              "      <td>(I)</td>\n",
              "      <td>0.017241</td>\n",
              "      <td>0.017241</td>\n",
              "      <td>0.017241</td>\n",
              "      <td>1.0</td>\n",
              "      <td>58.0</td>\n",
              "      <td>0.016944</td>\n",
              "      <td>inf</td>\n",
              "    </tr>\n",
              "    <tr>\n",
              "      <th>5</th>\n",
              "      <td>(I)</td>\n",
              "      <td>(r)</td>\n",
              "      <td>0.017241</td>\n",
              "      <td>0.017241</td>\n",
              "      <td>0.017241</td>\n",
              "      <td>1.0</td>\n",
              "      <td>58.0</td>\n",
              "      <td>0.016944</td>\n",
              "      <td>inf</td>\n",
              "    </tr>\n",
              "    <tr>\n",
              "      <th>6</th>\n",
              "      <td>(s)</td>\n",
              "      <td>(I)</td>\n",
              "      <td>0.017241</td>\n",
              "      <td>0.017241</td>\n",
              "      <td>0.017241</td>\n",
              "      <td>1.0</td>\n",
              "      <td>58.0</td>\n",
              "      <td>0.016944</td>\n",
              "      <td>inf</td>\n",
              "    </tr>\n",
              "    <tr>\n",
              "      <th>7</th>\n",
              "      <td>(I)</td>\n",
              "      <td>(s)</td>\n",
              "      <td>0.017241</td>\n",
              "      <td>0.017241</td>\n",
              "      <td>0.017241</td>\n",
              "      <td>1.0</td>\n",
              "      <td>58.0</td>\n",
              "      <td>0.016944</td>\n",
              "      <td>inf</td>\n",
              "    </tr>\n",
              "    <tr>\n",
              "      <th>8</th>\n",
              "      <td>(I)</td>\n",
              "      <td>(u)</td>\n",
              "      <td>0.017241</td>\n",
              "      <td>0.017241</td>\n",
              "      <td>0.017241</td>\n",
              "      <td>1.0</td>\n",
              "      <td>58.0</td>\n",
              "      <td>0.016944</td>\n",
              "      <td>inf</td>\n",
              "    </tr>\n",
              "    <tr>\n",
              "      <th>9</th>\n",
              "      <td>(u)</td>\n",
              "      <td>(I)</td>\n",
              "      <td>0.017241</td>\n",
              "      <td>0.017241</td>\n",
              "      <td>0.017241</td>\n",
              "      <td>1.0</td>\n",
              "      <td>58.0</td>\n",
              "      <td>0.016944</td>\n",
              "      <td>inf</td>\n",
              "    </tr>\n",
              "    <tr>\n",
              "      <th>10</th>\n",
              "      <td>(e)</td>\n",
              "      <td>(d)</td>\n",
              "      <td>0.034483</td>\n",
              "      <td>0.017241</td>\n",
              "      <td>0.017241</td>\n",
              "      <td>0.5</td>\n",
              "      <td>29.0</td>\n",
              "      <td>0.016647</td>\n",
              "      <td>1.965517</td>\n",
              "    </tr>\n",
              "    <tr>\n",
              "      <th>11</th>\n",
              "      <td>(d)</td>\n",
              "      <td>(e)</td>\n",
              "      <td>0.017241</td>\n",
              "      <td>0.034483</td>\n",
              "      <td>0.017241</td>\n",
              "      <td>1.0</td>\n",
              "      <td>29.0</td>\n",
              "      <td>0.016647</td>\n",
              "      <td>inf</td>\n",
              "    </tr>\n",
              "    <tr>\n",
              "      <th>12</th>\n",
              "      <td>(r)</td>\n",
              "      <td>(d)</td>\n",
              "      <td>0.017241</td>\n",
              "      <td>0.017241</td>\n",
              "      <td>0.017241</td>\n",
              "      <td>1.0</td>\n",
              "      <td>58.0</td>\n",
              "      <td>0.016944</td>\n",
              "      <td>inf</td>\n",
              "    </tr>\n",
              "    <tr>\n",
              "      <th>13</th>\n",
              "      <td>(d)</td>\n",
              "      <td>(r)</td>\n",
              "      <td>0.017241</td>\n",
              "      <td>0.017241</td>\n",
              "      <td>0.017241</td>\n",
              "      <td>1.0</td>\n",
              "      <td>58.0</td>\n",
              "      <td>0.016944</td>\n",
              "      <td>inf</td>\n",
              "    </tr>\n",
              "    <tr>\n",
              "      <th>14</th>\n",
              "      <td>(s)</td>\n",
              "      <td>(d)</td>\n",
              "      <td>0.017241</td>\n",
              "      <td>0.017241</td>\n",
              "      <td>0.017241</td>\n",
              "      <td>1.0</td>\n",
              "      <td>58.0</td>\n",
              "      <td>0.016944</td>\n",
              "      <td>inf</td>\n",
              "    </tr>\n",
              "    <tr>\n",
              "      <th>15</th>\n",
              "      <td>(d)</td>\n",
              "      <td>(s)</td>\n",
              "      <td>0.017241</td>\n",
              "      <td>0.017241</td>\n",
              "      <td>0.017241</td>\n",
              "      <td>1.0</td>\n",
              "      <td>58.0</td>\n",
              "      <td>0.016944</td>\n",
              "      <td>inf</td>\n",
              "    </tr>\n",
              "    <tr>\n",
              "      <th>16</th>\n",
              "      <td>(u)</td>\n",
              "      <td>(d)</td>\n",
              "      <td>0.017241</td>\n",
              "      <td>0.017241</td>\n",
              "      <td>0.017241</td>\n",
              "      <td>1.0</td>\n",
              "      <td>58.0</td>\n",
              "      <td>0.016944</td>\n",
              "      <td>inf</td>\n",
              "    </tr>\n",
              "    <tr>\n",
              "      <th>17</th>\n",
              "      <td>(d)</td>\n",
              "      <td>(u)</td>\n",
              "      <td>0.017241</td>\n",
              "      <td>0.017241</td>\n",
              "      <td>0.017241</td>\n",
              "      <td>1.0</td>\n",
              "      <td>58.0</td>\n",
              "      <td>0.016944</td>\n",
              "      <td>inf</td>\n",
              "    </tr>\n",
              "    <tr>\n",
              "      <th>18</th>\n",
              "      <td>(e)</td>\n",
              "      <td>(i)</td>\n",
              "      <td>0.034483</td>\n",
              "      <td>0.017241</td>\n",
              "      <td>0.017241</td>\n",
              "      <td>0.5</td>\n",
              "      <td>29.0</td>\n",
              "      <td>0.016647</td>\n",
              "      <td>1.965517</td>\n",
              "    </tr>\n",
              "    <tr>\n",
              "      <th>19</th>\n",
              "      <td>(i)</td>\n",
              "      <td>(e)</td>\n",
              "      <td>0.017241</td>\n",
              "      <td>0.034483</td>\n",
              "      <td>0.017241</td>\n",
              "      <td>1.0</td>\n",
              "      <td>29.0</td>\n",
              "      <td>0.016647</td>\n",
              "      <td>inf</td>\n",
              "    </tr>\n",
              "    <tr>\n",
              "      <th>20</th>\n",
              "      <td>(e)</td>\n",
              "      <td>(l)</td>\n",
              "      <td>0.034483</td>\n",
              "      <td>0.017241</td>\n",
              "      <td>0.017241</td>\n",
              "      <td>0.5</td>\n",
              "      <td>29.0</td>\n",
              "      <td>0.016647</td>\n",
              "      <td>1.965517</td>\n",
              "    </tr>\n",
              "    <tr>\n",
              "      <th>21</th>\n",
              "      <td>(l)</td>\n",
              "      <td>(e)</td>\n",
              "      <td>0.017241</td>\n",
              "      <td>0.034483</td>\n",
              "      <td>0.017241</td>\n",
              "      <td>1.0</td>\n",
              "      <td>29.0</td>\n",
              "      <td>0.016647</td>\n",
              "      <td>inf</td>\n",
              "    </tr>\n",
              "    <tr>\n",
              "      <th>22</th>\n",
              "      <td>(r)</td>\n",
              "      <td>(e)</td>\n",
              "      <td>0.017241</td>\n",
              "      <td>0.034483</td>\n",
              "      <td>0.017241</td>\n",
              "      <td>1.0</td>\n",
              "      <td>29.0</td>\n",
              "      <td>0.016647</td>\n",
              "      <td>inf</td>\n",
              "    </tr>\n",
              "    <tr>\n",
              "      <th>23</th>\n",
              "      <td>(e)</td>\n",
              "      <td>(r)</td>\n",
              "      <td>0.034483</td>\n",
              "      <td>0.017241</td>\n",
              "      <td>0.017241</td>\n",
              "      <td>0.5</td>\n",
              "      <td>29.0</td>\n",
              "      <td>0.016647</td>\n",
              "      <td>1.965517</td>\n",
              "    </tr>\n",
              "    <tr>\n",
              "      <th>24</th>\n",
              "      <td>(s)</td>\n",
              "      <td>(e)</td>\n",
              "      <td>0.017241</td>\n",
              "      <td>0.034483</td>\n",
              "      <td>0.017241</td>\n",
              "      <td>1.0</td>\n",
              "      <td>29.0</td>\n",
              "      <td>0.016647</td>\n",
              "      <td>inf</td>\n",
              "    </tr>\n",
              "    <tr>\n",
              "      <th>25</th>\n",
              "      <td>(e)</td>\n",
              "      <td>(s)</td>\n",
              "      <td>0.034483</td>\n",
              "      <td>0.017241</td>\n",
              "      <td>0.017241</td>\n",
              "      <td>0.5</td>\n",
              "      <td>29.0</td>\n",
              "      <td>0.016647</td>\n",
              "      <td>1.965517</td>\n",
              "    </tr>\n",
              "    <tr>\n",
              "      <th>26</th>\n",
              "      <td>(e)</td>\n",
              "      <td>(t)</td>\n",
              "      <td>0.034483</td>\n",
              "      <td>0.017241</td>\n",
              "      <td>0.017241</td>\n",
              "      <td>0.5</td>\n",
              "      <td>29.0</td>\n",
              "      <td>0.016647</td>\n",
              "      <td>1.965517</td>\n",
              "    </tr>\n",
              "    <tr>\n",
              "      <th>27</th>\n",
              "      <td>(t)</td>\n",
              "      <td>(e)</td>\n",
              "      <td>0.017241</td>\n",
              "      <td>0.034483</td>\n",
              "      <td>0.017241</td>\n",
              "      <td>1.0</td>\n",
              "      <td>29.0</td>\n",
              "      <td>0.016647</td>\n",
              "      <td>inf</td>\n",
              "    </tr>\n",
              "    <tr>\n",
              "      <th>28</th>\n",
              "      <td>(e)</td>\n",
              "      <td>(u)</td>\n",
              "      <td>0.034483</td>\n",
              "      <td>0.017241</td>\n",
              "      <td>0.017241</td>\n",
              "      <td>0.5</td>\n",
              "      <td>29.0</td>\n",
              "      <td>0.016647</td>\n",
              "      <td>1.965517</td>\n",
              "    </tr>\n",
              "    <tr>\n",
              "      <th>29</th>\n",
              "      <td>(u)</td>\n",
              "      <td>(e)</td>\n",
              "      <td>0.017241</td>\n",
              "      <td>0.034483</td>\n",
              "      <td>0.017241</td>\n",
              "      <td>1.0</td>\n",
              "      <td>29.0</td>\n",
              "      <td>0.016647</td>\n",
              "      <td>inf</td>\n",
              "    </tr>\n",
              "    <tr>\n",
              "      <th>30</th>\n",
              "      <td>(i)</td>\n",
              "      <td>(l)</td>\n",
              "      <td>0.017241</td>\n",
              "      <td>0.017241</td>\n",
              "      <td>0.017241</td>\n",
              "      <td>1.0</td>\n",
              "      <td>58.0</td>\n",
              "      <td>0.016944</td>\n",
              "      <td>inf</td>\n",
              "    </tr>\n",
              "    <tr>\n",
              "      <th>31</th>\n",
              "      <td>(l)</td>\n",
              "      <td>(i)</td>\n",
              "      <td>0.017241</td>\n",
              "      <td>0.017241</td>\n",
              "      <td>0.017241</td>\n",
              "      <td>1.0</td>\n",
              "      <td>58.0</td>\n",
              "      <td>0.016944</td>\n",
              "      <td>inf</td>\n",
              "    </tr>\n",
              "    <tr>\n",
              "      <th>32</th>\n",
              "      <td>(t)</td>\n",
              "      <td>(i)</td>\n",
              "      <td>0.017241</td>\n",
              "      <td>0.017241</td>\n",
              "      <td>0.017241</td>\n",
              "      <td>1.0</td>\n",
              "      <td>58.0</td>\n",
              "      <td>0.016944</td>\n",
              "      <td>inf</td>\n",
              "    </tr>\n",
              "    <tr>\n",
              "      <th>33</th>\n",
              "      <td>(i)</td>\n",
              "      <td>(t)</td>\n",
              "      <td>0.017241</td>\n",
              "      <td>0.017241</td>\n",
              "      <td>0.017241</td>\n",
              "      <td>1.0</td>\n",
              "      <td>58.0</td>\n",
              "      <td>0.016944</td>\n",
              "      <td>inf</td>\n",
              "    </tr>\n",
              "    <tr>\n",
              "      <th>34</th>\n",
              "      <td>(t)</td>\n",
              "      <td>(l)</td>\n",
              "      <td>0.017241</td>\n",
              "      <td>0.017241</td>\n",
              "      <td>0.017241</td>\n",
              "      <td>1.0</td>\n",
              "      <td>58.0</td>\n",
              "      <td>0.016944</td>\n",
              "      <td>inf</td>\n",
              "    </tr>\n",
              "    <tr>\n",
              "      <th>35</th>\n",
              "      <td>(l)</td>\n",
              "      <td>(t)</td>\n",
              "      <td>0.017241</td>\n",
              "      <td>0.017241</td>\n",
              "      <td>0.017241</td>\n",
              "      <td>1.0</td>\n",
              "      <td>58.0</td>\n",
              "      <td>0.016944</td>\n",
              "      <td>inf</td>\n",
              "    </tr>\n",
              "    <tr>\n",
              "      <th>36</th>\n",
              "      <td>(r)</td>\n",
              "      <td>(s)</td>\n",
              "      <td>0.017241</td>\n",
              "      <td>0.017241</td>\n",
              "      <td>0.017241</td>\n",
              "      <td>1.0</td>\n",
              "      <td>58.0</td>\n",
              "      <td>0.016944</td>\n",
              "      <td>inf</td>\n",
              "    </tr>\n",
              "    <tr>\n",
              "      <th>37</th>\n",
              "      <td>(s)</td>\n",
              "      <td>(r)</td>\n",
              "      <td>0.017241</td>\n",
              "      <td>0.017241</td>\n",
              "      <td>0.017241</td>\n",
              "      <td>1.0</td>\n",
              "      <td>58.0</td>\n",
              "      <td>0.016944</td>\n",
              "      <td>inf</td>\n",
              "    </tr>\n",
              "    <tr>\n",
              "      <th>38</th>\n",
              "      <td>(r)</td>\n",
              "      <td>(u)</td>\n",
              "      <td>0.017241</td>\n",
              "      <td>0.017241</td>\n",
              "      <td>0.017241</td>\n",
              "      <td>1.0</td>\n",
              "      <td>58.0</td>\n",
              "      <td>0.016944</td>\n",
              "      <td>inf</td>\n",
              "    </tr>\n",
              "    <tr>\n",
              "      <th>39</th>\n",
              "      <td>(u)</td>\n",
              "      <td>(r)</td>\n",
              "      <td>0.017241</td>\n",
              "      <td>0.017241</td>\n",
              "      <td>0.017241</td>\n",
              "      <td>1.0</td>\n",
              "      <td>58.0</td>\n",
              "      <td>0.016944</td>\n",
              "      <td>inf</td>\n",
              "    </tr>\n",
              "    <tr>\n",
              "      <th>40</th>\n",
              "      <td>(s)</td>\n",
              "      <td>(u)</td>\n",
              "      <td>0.017241</td>\n",
              "      <td>0.017241</td>\n",
              "      <td>0.017241</td>\n",
              "      <td>1.0</td>\n",
              "      <td>58.0</td>\n",
              "      <td>0.016944</td>\n",
              "      <td>inf</td>\n",
              "    </tr>\n",
              "    <tr>\n",
              "      <th>41</th>\n",
              "      <td>(u)</td>\n",
              "      <td>(s)</td>\n",
              "      <td>0.017241</td>\n",
              "      <td>0.017241</td>\n",
              "      <td>0.017241</td>\n",
              "      <td>1.0</td>\n",
              "      <td>58.0</td>\n",
              "      <td>0.016944</td>\n",
              "      <td>inf</td>\n",
              "    </tr>\n",
              "  </tbody>\n",
              "</table>\n",
              "</div>"
            ],
            "text/plain": [
              "   antecedents consequents  antecedent support  consequent support   support  confidence  lift  leverage  conviction\n",
              "0          (I)         (d)            0.017241            0.017241  0.017241         1.0  58.0  0.016944         inf\n",
              "1          (d)         (I)            0.017241            0.017241  0.017241         1.0  58.0  0.016944         inf\n",
              "2          (e)         (I)            0.034483            0.017241  0.017241         0.5  29.0  0.016647    1.965517\n",
              "3          (I)         (e)            0.017241            0.034483  0.017241         1.0  29.0  0.016647         inf\n",
              "4          (r)         (I)            0.017241            0.017241  0.017241         1.0  58.0  0.016944         inf\n",
              "5          (I)         (r)            0.017241            0.017241  0.017241         1.0  58.0  0.016944         inf\n",
              "6          (s)         (I)            0.017241            0.017241  0.017241         1.0  58.0  0.016944         inf\n",
              "7          (I)         (s)            0.017241            0.017241  0.017241         1.0  58.0  0.016944         inf\n",
              "8          (I)         (u)            0.017241            0.017241  0.017241         1.0  58.0  0.016944         inf\n",
              "9          (u)         (I)            0.017241            0.017241  0.017241         1.0  58.0  0.016944         inf\n",
              "10         (e)         (d)            0.034483            0.017241  0.017241         0.5  29.0  0.016647    1.965517\n",
              "11         (d)         (e)            0.017241            0.034483  0.017241         1.0  29.0  0.016647         inf\n",
              "12         (r)         (d)            0.017241            0.017241  0.017241         1.0  58.0  0.016944         inf\n",
              "13         (d)         (r)            0.017241            0.017241  0.017241         1.0  58.0  0.016944         inf\n",
              "14         (s)         (d)            0.017241            0.017241  0.017241         1.0  58.0  0.016944         inf\n",
              "15         (d)         (s)            0.017241            0.017241  0.017241         1.0  58.0  0.016944         inf\n",
              "16         (u)         (d)            0.017241            0.017241  0.017241         1.0  58.0  0.016944         inf\n",
              "17         (d)         (u)            0.017241            0.017241  0.017241         1.0  58.0  0.016944         inf\n",
              "18         (e)         (i)            0.034483            0.017241  0.017241         0.5  29.0  0.016647    1.965517\n",
              "19         (i)         (e)            0.017241            0.034483  0.017241         1.0  29.0  0.016647         inf\n",
              "20         (e)         (l)            0.034483            0.017241  0.017241         0.5  29.0  0.016647    1.965517\n",
              "21         (l)         (e)            0.017241            0.034483  0.017241         1.0  29.0  0.016647         inf\n",
              "22         (r)         (e)            0.017241            0.034483  0.017241         1.0  29.0  0.016647         inf\n",
              "23         (e)         (r)            0.034483            0.017241  0.017241         0.5  29.0  0.016647    1.965517\n",
              "24         (s)         (e)            0.017241            0.034483  0.017241         1.0  29.0  0.016647         inf\n",
              "25         (e)         (s)            0.034483            0.017241  0.017241         0.5  29.0  0.016647    1.965517\n",
              "26         (e)         (t)            0.034483            0.017241  0.017241         0.5  29.0  0.016647    1.965517\n",
              "27         (t)         (e)            0.017241            0.034483  0.017241         1.0  29.0  0.016647         inf\n",
              "28         (e)         (u)            0.034483            0.017241  0.017241         0.5  29.0  0.016647    1.965517\n",
              "29         (u)         (e)            0.017241            0.034483  0.017241         1.0  29.0  0.016647         inf\n",
              "30         (i)         (l)            0.017241            0.017241  0.017241         1.0  58.0  0.016944         inf\n",
              "31         (l)         (i)            0.017241            0.017241  0.017241         1.0  58.0  0.016944         inf\n",
              "32         (t)         (i)            0.017241            0.017241  0.017241         1.0  58.0  0.016944         inf\n",
              "33         (i)         (t)            0.017241            0.017241  0.017241         1.0  58.0  0.016944         inf\n",
              "34         (t)         (l)            0.017241            0.017241  0.017241         1.0  58.0  0.016944         inf\n",
              "35         (l)         (t)            0.017241            0.017241  0.017241         1.0  58.0  0.016944         inf\n",
              "36         (r)         (s)            0.017241            0.017241  0.017241         1.0  58.0  0.016944         inf\n",
              "37         (s)         (r)            0.017241            0.017241  0.017241         1.0  58.0  0.016944         inf\n",
              "38         (r)         (u)            0.017241            0.017241  0.017241         1.0  58.0  0.016944         inf\n",
              "39         (u)         (r)            0.017241            0.017241  0.017241         1.0  58.0  0.016944         inf\n",
              "40         (s)         (u)            0.017241            0.017241  0.017241         1.0  58.0  0.016944         inf\n",
              "41         (u)         (s)            0.017241            0.017241  0.017241         1.0  58.0  0.016944         inf"
            ]
          },
          "metadata": {},
          "execution_count": 25
        }
      ]
    },
    {
      "cell_type": "markdown",
      "metadata": {
        "id": "WQvvzDilXikX"
      },
      "source": [
        "**Recommendation part:**\n",
        "\n",
        "Extracted rules are used for collaborative filtering to suggest specialized movies "
      ]
    },
    {
      "cell_type": "markdown",
      "metadata": {
        "id": "1vLEdCCqg7uU"
      },
      "source": [
        "*   Data is splitted as train and test data "
      ]
    },
    {
      "cell_type": "code",
      "metadata": {
        "id": "ADpv8eUENMjQ"
      },
      "source": [
        "#split data \n",
        "def split_data_ml100k(data, num_users, num_items, split_mode='random',\n",
        "                      test_ratio=0.1):\n",
        "    \"\"\"Split the dataset in random mode or seq-aware mode.\"\"\"\n",
        "    if split_mode == 'seq-aware':\n",
        "        train_items, test_items, train_list = {}, {}, []\n",
        "        for line in data.itertuples():\n",
        "            u, i, rating, time = line[1], line[2], line[3], line[4]\n",
        "            train_items.setdefault(u, []).append((u, i, rating, time))\n",
        "            if u not in test_items or test_items[u][-1] < time:\n",
        "                test_items[u] = (i, rating, time)\n",
        "        for u in range(1, num_users + 1):\n",
        "            train_list.extend(sorted(train_items[u], key=lambda k: k[3]))\n",
        "        test_data = [(key, *value) for key, value in test_items.items()]\n",
        "        train_data = [item for item in train_list if item not in test_data]\n",
        "        train_data = pd.DataFrame(train_data)\n",
        "        test_data = pd.DataFrame(test_data)\n",
        "    else:\n",
        "        mask = [\n",
        "            True if x == 1 else False\n",
        "            for x in np.random.uniform(0, 1, (len(data))) < 1 - test_ratio]\n",
        "        neg_mask = [not x for x in mask]\n",
        "        train_data, test_data = data[mask], data[neg_mask]\n",
        "    return train_data, test_data"
      ],
      "execution_count": null,
      "outputs": []
    },
    {
      "cell_type": "markdown",
      "metadata": {
        "id": "-Z8BglwHhCKh"
      },
      "source": [
        "*   Re-load dataset to gather user and item indexes as implicit rating and explicit rating."
      ]
    },
    {
      "cell_type": "code",
      "metadata": {
        "id": "e0yInMyPNj5c"
      },
      "source": [
        "#load data \n",
        "def load_data_ml100k(data, num_users, num_items, feedback='explicit'):\n",
        "    users, items, scores = [], [], []\n",
        "    inter = np.zeros((num_items, num_users)) if feedback == 'explicit' else {}\n",
        "    for line in data.itertuples():\n",
        "        user_index, item_index = int(line[1] - 1), int(line[2] - 1)\n",
        "        score = int(line[3]) if feedback == 'explicit' else 1\n",
        "        users.append(user_index)\n",
        "        items.append(item_index)\n",
        "        scores.append(score)\n",
        "        if feedback == 'implicit':\n",
        "            inter.setdefault(user_index, []).append(item_index)\n",
        "        else:\n",
        "            inter[item_index, user_index] = score\n",
        "    return users, items, scores, inter"
      ],
      "execution_count": null,
      "outputs": []
    },
    {
      "cell_type": "markdown",
      "metadata": {
        "id": "Rzl1T_tlhRXa"
      },
      "source": [
        "*   Dataset is shaped as numpy array."
      ]
    },
    {
      "cell_type": "code",
      "metadata": {
        "id": "xIATEbjDNqwE"
      },
      "source": [
        "def split_and_load_ml100k(split_mode='seq-aware', feedback='explicit',\n",
        "                          test_ratio=0.1, batch_size=256):\n",
        "    data, num_users, num_items = read_data_ml100k()\n",
        "    train_data, test_data = split_data_ml100k(data, num_users, num_items,\n",
        "                                              split_mode, test_ratio)\n",
        "    train_u, train_i, train_r, _ = load_data_ml100k(train_data, num_users,\n",
        "                                                    num_items, feedback)\n",
        "    test_u, test_i, test_r, _ = load_data_ml100k(test_data, num_users,\n",
        "                                                 num_items, feedback)\n",
        "    train_set = gluon.data.ArrayDataset(np.array(train_u), np.array(train_i),\n",
        "                                        np.array(train_r))\n",
        "    test_set = gluon.data.ArrayDataset(np.array(test_u), np.array(test_i),\n",
        "                                       np.array(test_r))\n",
        "    train_iter = gluon.data.DataLoader(train_set, shuffle=True,\n",
        "                                       last_batch='rollover',\n",
        "                                       batch_size=batch_size)\n",
        "    test_iter = gluon.data.DataLoader(test_set, batch_size=batch_size)\n",
        "    return num_users, num_items, train_iter, test_iter"
      ],
      "execution_count": null,
      "outputs": []
    },
    {
      "cell_type": "code",
      "metadata": {
        "id": "n2EBMf6iNwx6"
      },
      "source": [
        "import mxnet as mx\n",
        "from mxnet import autograd, gluon, np, npx\n",
        "from mxnet.gluon import nn\n",
        "from d2l import mxnet as d2l\n",
        "\n",
        "npx.set_np()"
      ],
      "execution_count": null,
      "outputs": []
    },
    {
      "cell_type": "markdown",
      "metadata": {
        "id": "9BwHbSU7hXlE"
      },
      "source": [
        "*   Installing embedding layer for both user and item side:"
      ]
    },
    {
      "cell_type": "code",
      "metadata": {
        "id": "4Iu6cAqLOVeB"
      },
      "source": [
        "class MF(nn.Block):\n",
        "    def __init__(self, num_factors, num_users, num_items, **kwargs):\n",
        "        super(MF, self).__init__(**kwargs)\n",
        "        self.P = nn.Embedding(input_dim=num_users, output_dim=num_factors)\n",
        "        self.Q = nn.Embedding(input_dim=num_items, output_dim=num_factors)\n",
        "        self.user_bias = nn.Embedding(num_users, 1)\n",
        "        self.item_bias = nn.Embedding(num_items, 1)\n",
        "\n",
        "    def forward(self, user_id, item_id):\n",
        "        P_u = self.P(user_id)\n",
        "        Q_i = self.Q(item_id)\n",
        "        b_u = self.user_bias(user_id)\n",
        "        b_i = self.item_bias(item_id)\n",
        "        outputs = (P_u * Q_i).sum(axis=1) + np.squeeze(b_u) + np.squeeze(b_i)\n",
        "        return outputs.flatten()"
      ],
      "execution_count": null,
      "outputs": []
    },
    {
      "cell_type": "markdown",
      "metadata": {
        "id": "CZTvESaqhjGI"
      },
      "source": [
        "*   Performance metric is defined as RMSE due to the prediction of ratings. Binary crossentrophy would be used if binary classification is used."
      ]
    },
    {
      "cell_type": "code",
      "metadata": {
        "id": "Ihg3ZAmYOXLP"
      },
      "source": [
        "def evaluator(net, test_iter, devices):\n",
        "    rmse = mx.metric.RMSE()  # Get the RMSE\n",
        "    rmse_list = []\n",
        "    for idx, (users, items, ratings) in enumerate(test_iter):\n",
        "        u = gluon.utils.split_and_load(users, devices, even_split=False)\n",
        "        i = gluon.utils.split_and_load(items, devices, even_split=False)\n",
        "        r_ui = gluon.utils.split_and_load(ratings, devices, even_split=False)\n",
        "        r_hat = [net(u, i) for u, i in zip(u, i)]\n",
        "        rmse.update(labels=r_ui, preds=r_hat)\n",
        "        rmse_list.append(rmse.get()[1])\n",
        "    return float(np.mean(np.array(rmse_list)))"
      ],
      "execution_count": null,
      "outputs": []
    },
    {
      "cell_type": "markdown",
      "metadata": {
        "id": "hwt_WjeHh9Ja"
      },
      "source": [
        "*   Training phase is conducted and evaluation is used to test dataset."
      ]
    },
    {
      "cell_type": "code",
      "metadata": {
        "id": "Sc6XRGL1OgX-"
      },
      "source": [
        "def train_recsys_rating(net, train_iter, test_iter, loss, trainer, num_epochs,\n",
        "                        devices=d2l.try_all_gpus(), evaluator=None, **kwargs):\n",
        "    timer = d2l.Timer()\n",
        "    animator = d2l.Animator(xlabel='epoch', xlim=[1, num_epochs], ylim=[0, 2],\n",
        "                            legend=['train loss', 'test RMSE'])\n",
        "    for epoch in range(num_epochs):\n",
        "        metric, l = d2l.Accumulator(3), 0.\n",
        "        for i, values in enumerate(train_iter):\n",
        "            timer.start()\n",
        "            input_data = []\n",
        "            values = values if isinstance(values, list) else [values]\n",
        "            for v in values:\n",
        "                input_data.append(gluon.utils.split_and_load(v, devices))\n",
        "            train_feat = input_data[0:-1] if len(values) > 1 else input_data\n",
        "            train_label = input_data[-1]\n",
        "            with autograd.record():\n",
        "                preds = [net(*t) for t in zip(*train_feat)]\n",
        "                ls = [loss(p, s) for p, s in zip(preds, train_label)]\n",
        "            [l.backward() for l in ls]\n",
        "            l += sum([l.asnumpy() for l in ls]).mean() / len(devices)\n",
        "            trainer.step(values[0].shape[0])\n",
        "            metric.add(l, values[0].shape[0], values[0].size)\n",
        "            timer.stop()\n",
        "        if len(kwargs) > 0:  # It will be used in section AutoRec\n",
        "            test_rmse = evaluator(net, test_iter, kwargs['inter_mat'],\n",
        "                                  devices)\n",
        "        else:\n",
        "            test_rmse = evaluator(net, test_iter, devices)\n",
        "        train_l = l / (i + 1)\n",
        "        animator.add(epoch + 1, (train_l, test_rmse))\n",
        "    print(f'train loss {metric[0] / metric[1]:.3f}, '\n",
        "          f'test RMSE {test_rmse:.3f}')\n",
        "    print(f'{metric[2] * num_epochs / timer.sum():.1f} examples/sec '\n",
        "          f'on {str(devices)}')"
      ],
      "execution_count": null,
      "outputs": []
    },
    {
      "cell_type": "code",
      "metadata": {
        "id": "KLmRNLXuOnSv",
        "colab": {
          "base_uri": "https://localhost:8080/",
          "height": 302
        },
        "outputId": "0be0069a-e1d4-49c4-e157-a2a1c419c6f7"
      },
      "source": [
        "devices = d2l.try_all_gpus()\n",
        "num_users, num_items, train_iter, test_iter = d2l.split_and_load_ml100k(\n",
        "    test_ratio=0.1, batch_size=512)\n",
        "net = MF(30, num_users, num_items)\n",
        "net.initialize(ctx=devices, force_reinit=True, init=mx.init.Normal(0.01))\n",
        "lr, num_epochs, wd, optimizer = 0.002, 20, 1e-5, 'adam'\n",
        "loss = gluon.loss.L2Loss()\n",
        "trainer = gluon.Trainer(net.collect_params(), optimizer, {\n",
        "    \"learning_rate\": lr,\n",
        "    'wd': wd})\n",
        "train_recsys_rating(net, train_iter, test_iter, loss, trainer, num_epochs,\n",
        "                    devices, evaluator)"
      ],
      "execution_count": null,
      "outputs": [
        {
          "output_type": "stream",
          "name": "stdout",
          "text": [
            "train loss 33.547, test RMSE 1.048\n",
            "123115.4 examples/sec on [cpu(0)]\n"
          ]
        },
        {
          "output_type": "display_data",
          "data": {
            "text/plain": [
              "<Figure size 252x180 with 1 Axes>"
            ],
            "image/svg+xml": "<?xml version=\"1.0\" encoding=\"utf-8\" standalone=\"no\"?>\n<!DOCTYPE svg PUBLIC \"-//W3C//DTD SVG 1.1//EN\"\n  \"http://www.w3.org/Graphics/SVG/1.1/DTD/svg11.dtd\">\n<!-- Created with matplotlib (https://matplotlib.org/) -->\n<svg height=\"184.455469pt\" version=\"1.1\" viewBox=\"0 0 238.965625 184.455469\" width=\"238.965625pt\" xmlns=\"http://www.w3.org/2000/svg\" xmlns:xlink=\"http://www.w3.org/1999/xlink\">\n <defs>\n  <style type=\"text/css\">\n*{stroke-linecap:butt;stroke-linejoin:round;}\n  </style>\n </defs>\n <g id=\"figure_1\">\n  <g id=\"patch_1\">\n   <path d=\"M 0 184.455469 \nL 238.965625 184.455469 \nL 238.965625 -0 \nL 0 -0 \nz\n\" style=\"fill:none;\"/>\n  </g>\n  <g id=\"axes_1\">\n   <g id=\"patch_2\">\n    <path d=\"M 30.103125 146.899219 \nL 225.403125 146.899219 \nL 225.403125 10.999219 \nL 30.103125 10.999219 \nz\n\" style=\"fill:#ffffff;\"/>\n   </g>\n   <g id=\"matplotlib.axis_1\">\n    <g id=\"xtick_1\">\n     <g id=\"line2d_1\">\n      <path clip-path=\"url(#p29db7c599b)\" d=\"M 71.218914 146.899219 \nL 71.218914 10.999219 \n\" style=\"fill:none;stroke:#b0b0b0;stroke-linecap:square;stroke-width:0.8;\"/>\n     </g>\n     <g id=\"line2d_2\">\n      <defs>\n       <path d=\"M 0 0 \nL 0 3.5 \n\" id=\"m629e686056\" style=\"stroke:#000000;stroke-width:0.8;\"/>\n      </defs>\n      <g>\n       <use style=\"stroke:#000000;stroke-width:0.8;\" x=\"71.218914\" xlink:href=\"#m629e686056\" y=\"146.899219\"/>\n      </g>\n     </g>\n     <g id=\"text_1\">\n      <!-- 5 -->\n      <defs>\n       <path d=\"M 10.796875 72.90625 \nL 49.515625 72.90625 \nL 49.515625 64.59375 \nL 19.828125 64.59375 \nL 19.828125 46.734375 \nQ 21.96875 47.46875 24.109375 47.828125 \nQ 26.265625 48.1875 28.421875 48.1875 \nQ 40.625 48.1875 47.75 41.5 \nQ 54.890625 34.8125 54.890625 23.390625 \nQ 54.890625 11.625 47.5625 5.09375 \nQ 40.234375 -1.421875 26.90625 -1.421875 \nQ 22.3125 -1.421875 17.546875 -0.640625 \nQ 12.796875 0.140625 7.71875 1.703125 \nL 7.71875 11.625 \nQ 12.109375 9.234375 16.796875 8.0625 \nQ 21.484375 6.890625 26.703125 6.890625 \nQ 35.15625 6.890625 40.078125 11.328125 \nQ 45.015625 15.765625 45.015625 23.390625 \nQ 45.015625 31 40.078125 35.4375 \nQ 35.15625 39.890625 26.703125 39.890625 \nQ 22.75 39.890625 18.8125 39.015625 \nQ 14.890625 38.140625 10.796875 36.28125 \nz\n\" id=\"DejaVuSans-53\"/>\n      </defs>\n      <g transform=\"translate(68.037664 161.497656)scale(0.1 -0.1)\">\n       <use xlink:href=\"#DejaVuSans-53\"/>\n      </g>\n     </g>\n    </g>\n    <g id=\"xtick_2\">\n     <g id=\"line2d_3\">\n      <path clip-path=\"url(#p29db7c599b)\" d=\"M 122.613651 146.899219 \nL 122.613651 10.999219 \n\" style=\"fill:none;stroke:#b0b0b0;stroke-linecap:square;stroke-width:0.8;\"/>\n     </g>\n     <g id=\"line2d_4\">\n      <g>\n       <use style=\"stroke:#000000;stroke-width:0.8;\" x=\"122.613651\" xlink:href=\"#m629e686056\" y=\"146.899219\"/>\n      </g>\n     </g>\n     <g id=\"text_2\">\n      <!-- 10 -->\n      <defs>\n       <path d=\"M 12.40625 8.296875 \nL 28.515625 8.296875 \nL 28.515625 63.921875 \nL 10.984375 60.40625 \nL 10.984375 69.390625 \nL 28.421875 72.90625 \nL 38.28125 72.90625 \nL 38.28125 8.296875 \nL 54.390625 8.296875 \nL 54.390625 0 \nL 12.40625 0 \nz\n\" id=\"DejaVuSans-49\"/>\n       <path d=\"M 31.78125 66.40625 \nQ 24.171875 66.40625 20.328125 58.90625 \nQ 16.5 51.421875 16.5 36.375 \nQ 16.5 21.390625 20.328125 13.890625 \nQ 24.171875 6.390625 31.78125 6.390625 \nQ 39.453125 6.390625 43.28125 13.890625 \nQ 47.125 21.390625 47.125 36.375 \nQ 47.125 51.421875 43.28125 58.90625 \nQ 39.453125 66.40625 31.78125 66.40625 \nz\nM 31.78125 74.21875 \nQ 44.046875 74.21875 50.515625 64.515625 \nQ 56.984375 54.828125 56.984375 36.375 \nQ 56.984375 17.96875 50.515625 8.265625 \nQ 44.046875 -1.421875 31.78125 -1.421875 \nQ 19.53125 -1.421875 13.0625 8.265625 \nQ 6.59375 17.96875 6.59375 36.375 \nQ 6.59375 54.828125 13.0625 64.515625 \nQ 19.53125 74.21875 31.78125 74.21875 \nz\n\" id=\"DejaVuSans-48\"/>\n      </defs>\n      <g transform=\"translate(116.251151 161.497656)scale(0.1 -0.1)\">\n       <use xlink:href=\"#DejaVuSans-49\"/>\n       <use x=\"63.623047\" xlink:href=\"#DejaVuSans-48\"/>\n      </g>\n     </g>\n    </g>\n    <g id=\"xtick_3\">\n     <g id=\"line2d_5\">\n      <path clip-path=\"url(#p29db7c599b)\" d=\"M 174.008388 146.899219 \nL 174.008388 10.999219 \n\" style=\"fill:none;stroke:#b0b0b0;stroke-linecap:square;stroke-width:0.8;\"/>\n     </g>\n     <g id=\"line2d_6\">\n      <g>\n       <use style=\"stroke:#000000;stroke-width:0.8;\" x=\"174.008388\" xlink:href=\"#m629e686056\" y=\"146.899219\"/>\n      </g>\n     </g>\n     <g id=\"text_3\">\n      <!-- 15 -->\n      <g transform=\"translate(167.645888 161.497656)scale(0.1 -0.1)\">\n       <use xlink:href=\"#DejaVuSans-49\"/>\n       <use x=\"63.623047\" xlink:href=\"#DejaVuSans-53\"/>\n      </g>\n     </g>\n    </g>\n    <g id=\"xtick_4\">\n     <g id=\"line2d_7\">\n      <path clip-path=\"url(#p29db7c599b)\" d=\"M 225.403125 146.899219 \nL 225.403125 10.999219 \n\" style=\"fill:none;stroke:#b0b0b0;stroke-linecap:square;stroke-width:0.8;\"/>\n     </g>\n     <g id=\"line2d_8\">\n      <g>\n       <use style=\"stroke:#000000;stroke-width:0.8;\" x=\"225.403125\" xlink:href=\"#m629e686056\" y=\"146.899219\"/>\n      </g>\n     </g>\n     <g id=\"text_4\">\n      <!-- 20 -->\n      <defs>\n       <path d=\"M 19.1875 8.296875 \nL 53.609375 8.296875 \nL 53.609375 0 \nL 7.328125 0 \nL 7.328125 8.296875 \nQ 12.9375 14.109375 22.625 23.890625 \nQ 32.328125 33.6875 34.8125 36.53125 \nQ 39.546875 41.84375 41.421875 45.53125 \nQ 43.3125 49.21875 43.3125 52.78125 \nQ 43.3125 58.59375 39.234375 62.25 \nQ 35.15625 65.921875 28.609375 65.921875 \nQ 23.96875 65.921875 18.8125 64.3125 \nQ 13.671875 62.703125 7.8125 59.421875 \nL 7.8125 69.390625 \nQ 13.765625 71.78125 18.9375 73 \nQ 24.125 74.21875 28.421875 74.21875 \nQ 39.75 74.21875 46.484375 68.546875 \nQ 53.21875 62.890625 53.21875 53.421875 \nQ 53.21875 48.921875 51.53125 44.890625 \nQ 49.859375 40.875 45.40625 35.40625 \nQ 44.1875 33.984375 37.640625 27.21875 \nQ 31.109375 20.453125 19.1875 8.296875 \nz\n\" id=\"DejaVuSans-50\"/>\n      </defs>\n      <g transform=\"translate(219.040625 161.497656)scale(0.1 -0.1)\">\n       <use xlink:href=\"#DejaVuSans-50\"/>\n       <use x=\"63.623047\" xlink:href=\"#DejaVuSans-48\"/>\n      </g>\n     </g>\n    </g>\n    <g id=\"text_5\">\n     <!-- epoch -->\n     <defs>\n      <path d=\"M 56.203125 29.59375 \nL 56.203125 25.203125 \nL 14.890625 25.203125 \nQ 15.484375 15.921875 20.484375 11.0625 \nQ 25.484375 6.203125 34.421875 6.203125 \nQ 39.59375 6.203125 44.453125 7.46875 \nQ 49.3125 8.734375 54.109375 11.28125 \nL 54.109375 2.78125 \nQ 49.265625 0.734375 44.1875 -0.34375 \nQ 39.109375 -1.421875 33.890625 -1.421875 \nQ 20.796875 -1.421875 13.15625 6.1875 \nQ 5.515625 13.8125 5.515625 26.8125 \nQ 5.515625 40.234375 12.765625 48.109375 \nQ 20.015625 56 32.328125 56 \nQ 43.359375 56 49.78125 48.890625 \nQ 56.203125 41.796875 56.203125 29.59375 \nz\nM 47.21875 32.234375 \nQ 47.125 39.59375 43.09375 43.984375 \nQ 39.0625 48.390625 32.421875 48.390625 \nQ 24.90625 48.390625 20.390625 44.140625 \nQ 15.875 39.890625 15.1875 32.171875 \nz\n\" id=\"DejaVuSans-101\"/>\n      <path d=\"M 18.109375 8.203125 \nL 18.109375 -20.796875 \nL 9.078125 -20.796875 \nL 9.078125 54.6875 \nL 18.109375 54.6875 \nL 18.109375 46.390625 \nQ 20.953125 51.265625 25.265625 53.625 \nQ 29.59375 56 35.59375 56 \nQ 45.5625 56 51.78125 48.09375 \nQ 58.015625 40.1875 58.015625 27.296875 \nQ 58.015625 14.40625 51.78125 6.484375 \nQ 45.5625 -1.421875 35.59375 -1.421875 \nQ 29.59375 -1.421875 25.265625 0.953125 \nQ 20.953125 3.328125 18.109375 8.203125 \nz\nM 48.6875 27.296875 \nQ 48.6875 37.203125 44.609375 42.84375 \nQ 40.53125 48.484375 33.40625 48.484375 \nQ 26.265625 48.484375 22.1875 42.84375 \nQ 18.109375 37.203125 18.109375 27.296875 \nQ 18.109375 17.390625 22.1875 11.75 \nQ 26.265625 6.109375 33.40625 6.109375 \nQ 40.53125 6.109375 44.609375 11.75 \nQ 48.6875 17.390625 48.6875 27.296875 \nz\n\" id=\"DejaVuSans-112\"/>\n      <path d=\"M 30.609375 48.390625 \nQ 23.390625 48.390625 19.1875 42.75 \nQ 14.984375 37.109375 14.984375 27.296875 \nQ 14.984375 17.484375 19.15625 11.84375 \nQ 23.34375 6.203125 30.609375 6.203125 \nQ 37.796875 6.203125 41.984375 11.859375 \nQ 46.1875 17.53125 46.1875 27.296875 \nQ 46.1875 37.015625 41.984375 42.703125 \nQ 37.796875 48.390625 30.609375 48.390625 \nz\nM 30.609375 56 \nQ 42.328125 56 49.015625 48.375 \nQ 55.71875 40.765625 55.71875 27.296875 \nQ 55.71875 13.875 49.015625 6.21875 \nQ 42.328125 -1.421875 30.609375 -1.421875 \nQ 18.84375 -1.421875 12.171875 6.21875 \nQ 5.515625 13.875 5.515625 27.296875 \nQ 5.515625 40.765625 12.171875 48.375 \nQ 18.84375 56 30.609375 56 \nz\n\" id=\"DejaVuSans-111\"/>\n      <path d=\"M 48.78125 52.59375 \nL 48.78125 44.1875 \nQ 44.96875 46.296875 41.140625 47.34375 \nQ 37.3125 48.390625 33.40625 48.390625 \nQ 24.65625 48.390625 19.8125 42.84375 \nQ 14.984375 37.3125 14.984375 27.296875 \nQ 14.984375 17.28125 19.8125 11.734375 \nQ 24.65625 6.203125 33.40625 6.203125 \nQ 37.3125 6.203125 41.140625 7.25 \nQ 44.96875 8.296875 48.78125 10.40625 \nL 48.78125 2.09375 \nQ 45.015625 0.34375 40.984375 -0.53125 \nQ 36.96875 -1.421875 32.421875 -1.421875 \nQ 20.0625 -1.421875 12.78125 6.34375 \nQ 5.515625 14.109375 5.515625 27.296875 \nQ 5.515625 40.671875 12.859375 48.328125 \nQ 20.21875 56 33.015625 56 \nQ 37.15625 56 41.109375 55.140625 \nQ 45.0625 54.296875 48.78125 52.59375 \nz\n\" id=\"DejaVuSans-99\"/>\n      <path d=\"M 54.890625 33.015625 \nL 54.890625 0 \nL 45.90625 0 \nL 45.90625 32.71875 \nQ 45.90625 40.484375 42.875 44.328125 \nQ 39.84375 48.1875 33.796875 48.1875 \nQ 26.515625 48.1875 22.3125 43.546875 \nQ 18.109375 38.921875 18.109375 30.90625 \nL 18.109375 0 \nL 9.078125 0 \nL 9.078125 75.984375 \nL 18.109375 75.984375 \nL 18.109375 46.1875 \nQ 21.34375 51.125 25.703125 53.5625 \nQ 30.078125 56 35.796875 56 \nQ 45.21875 56 50.046875 50.171875 \nQ 54.890625 44.34375 54.890625 33.015625 \nz\n\" id=\"DejaVuSans-104\"/>\n     </defs>\n     <g transform=\"translate(112.525 175.175781)scale(0.1 -0.1)\">\n      <use xlink:href=\"#DejaVuSans-101\"/>\n      <use x=\"61.523438\" xlink:href=\"#DejaVuSans-112\"/>\n      <use x=\"125\" xlink:href=\"#DejaVuSans-111\"/>\n      <use x=\"186.181641\" xlink:href=\"#DejaVuSans-99\"/>\n      <use x=\"241.162109\" xlink:href=\"#DejaVuSans-104\"/>\n     </g>\n    </g>\n   </g>\n   <g id=\"matplotlib.axis_2\">\n    <g id=\"ytick_1\">\n     <g id=\"line2d_9\">\n      <path clip-path=\"url(#p29db7c599b)\" d=\"M 30.103125 146.899219 \nL 225.403125 146.899219 \n\" style=\"fill:none;stroke:#b0b0b0;stroke-linecap:square;stroke-width:0.8;\"/>\n     </g>\n     <g id=\"line2d_10\">\n      <defs>\n       <path d=\"M 0 0 \nL -3.5 0 \n\" id=\"m4499b4b596\" style=\"stroke:#000000;stroke-width:0.8;\"/>\n      </defs>\n      <g>\n       <use style=\"stroke:#000000;stroke-width:0.8;\" x=\"30.103125\" xlink:href=\"#m4499b4b596\" y=\"146.899219\"/>\n      </g>\n     </g>\n     <g id=\"text_6\">\n      <!-- 0.0 -->\n      <defs>\n       <path d=\"M 10.6875 12.40625 \nL 21 12.40625 \nL 21 0 \nL 10.6875 0 \nz\n\" id=\"DejaVuSans-46\"/>\n      </defs>\n      <g transform=\"translate(7.2 150.698437)scale(0.1 -0.1)\">\n       <use xlink:href=\"#DejaVuSans-48\"/>\n       <use x=\"63.623047\" xlink:href=\"#DejaVuSans-46\"/>\n       <use x=\"95.410156\" xlink:href=\"#DejaVuSans-48\"/>\n      </g>\n     </g>\n    </g>\n    <g id=\"ytick_2\">\n     <g id=\"line2d_11\">\n      <path clip-path=\"url(#p29db7c599b)\" d=\"M 30.103125 112.924219 \nL 225.403125 112.924219 \n\" style=\"fill:none;stroke:#b0b0b0;stroke-linecap:square;stroke-width:0.8;\"/>\n     </g>\n     <g id=\"line2d_12\">\n      <g>\n       <use style=\"stroke:#000000;stroke-width:0.8;\" x=\"30.103125\" xlink:href=\"#m4499b4b596\" y=\"112.924219\"/>\n      </g>\n     </g>\n     <g id=\"text_7\">\n      <!-- 0.5 -->\n      <g transform=\"translate(7.2 116.723437)scale(0.1 -0.1)\">\n       <use xlink:href=\"#DejaVuSans-48\"/>\n       <use x=\"63.623047\" xlink:href=\"#DejaVuSans-46\"/>\n       <use x=\"95.410156\" xlink:href=\"#DejaVuSans-53\"/>\n      </g>\n     </g>\n    </g>\n    <g id=\"ytick_3\">\n     <g id=\"line2d_13\">\n      <path clip-path=\"url(#p29db7c599b)\" d=\"M 30.103125 78.949219 \nL 225.403125 78.949219 \n\" style=\"fill:none;stroke:#b0b0b0;stroke-linecap:square;stroke-width:0.8;\"/>\n     </g>\n     <g id=\"line2d_14\">\n      <g>\n       <use style=\"stroke:#000000;stroke-width:0.8;\" x=\"30.103125\" xlink:href=\"#m4499b4b596\" y=\"78.949219\"/>\n      </g>\n     </g>\n     <g id=\"text_8\">\n      <!-- 1.0 -->\n      <g transform=\"translate(7.2 82.748437)scale(0.1 -0.1)\">\n       <use xlink:href=\"#DejaVuSans-49\"/>\n       <use x=\"63.623047\" xlink:href=\"#DejaVuSans-46\"/>\n       <use x=\"95.410156\" xlink:href=\"#DejaVuSans-48\"/>\n      </g>\n     </g>\n    </g>\n    <g id=\"ytick_4\">\n     <g id=\"line2d_15\">\n      <path clip-path=\"url(#p29db7c599b)\" d=\"M 30.103125 44.974219 \nL 225.403125 44.974219 \n\" style=\"fill:none;stroke:#b0b0b0;stroke-linecap:square;stroke-width:0.8;\"/>\n     </g>\n     <g id=\"line2d_16\">\n      <g>\n       <use style=\"stroke:#000000;stroke-width:0.8;\" x=\"30.103125\" xlink:href=\"#m4499b4b596\" y=\"44.974219\"/>\n      </g>\n     </g>\n     <g id=\"text_9\">\n      <!-- 1.5 -->\n      <g transform=\"translate(7.2 48.773437)scale(0.1 -0.1)\">\n       <use xlink:href=\"#DejaVuSans-49\"/>\n       <use x=\"63.623047\" xlink:href=\"#DejaVuSans-46\"/>\n       <use x=\"95.410156\" xlink:href=\"#DejaVuSans-53\"/>\n      </g>\n     </g>\n    </g>\n    <g id=\"ytick_5\">\n     <g id=\"line2d_17\">\n      <path clip-path=\"url(#p29db7c599b)\" d=\"M 30.103125 10.999219 \nL 225.403125 10.999219 \n\" style=\"fill:none;stroke:#b0b0b0;stroke-linecap:square;stroke-width:0.8;\"/>\n     </g>\n     <g id=\"line2d_18\">\n      <g>\n       <use style=\"stroke:#000000;stroke-width:0.8;\" x=\"30.103125\" xlink:href=\"#m4499b4b596\" y=\"10.999219\"/>\n      </g>\n     </g>\n     <g id=\"text_10\">\n      <!-- 2.0 -->\n      <g transform=\"translate(7.2 14.798437)scale(0.1 -0.1)\">\n       <use xlink:href=\"#DejaVuSans-50\"/>\n       <use x=\"63.623047\" xlink:href=\"#DejaVuSans-46\"/>\n       <use x=\"95.410156\" xlink:href=\"#DejaVuSans-48\"/>\n      </g>\n     </g>\n    </g>\n   </g>\n   <g id=\"line2d_19\">\n    <path clip-path=\"url(#p29db7c599b)\" style=\"fill:none;stroke:#1f77b4;stroke-linecap:square;stroke-width:1.5;\"/>\n   </g>\n   <g id=\"line2d_20\">\n    <path clip-path=\"url(#p29db7c599b)\" d=\"M 30.103125 11.826305 \nL 40.382072 61.559427 \nL 50.66102 69.771271 \nL 60.939967 71.826772 \nL 71.218914 72.748753 \nL 81.497862 72.88649 \nL 91.776809 73.461504 \nL 102.055757 73.439779 \nL 112.334704 73.662812 \nL 122.613651 73.589869 \nL 132.892599 73.764097 \nL 143.171546 73.64487 \nL 153.450493 74.028936 \nL 163.729441 74.163676 \nL 174.008388 74.212391 \nL 184.287336 74.432605 \nL 194.566283 75.120674 \nL 204.84523 75.121193 \nL 215.124178 75.260266 \nL 225.403125 75.680533 \n\" style=\"fill:none;stroke:#bf00bf;stroke-dasharray:5.55,2.4;stroke-dashoffset:0;stroke-width:1.5;\"/>\n   </g>\n   <g id=\"patch_3\">\n    <path d=\"M 30.103125 146.899219 \nL 30.103125 10.999219 \n\" style=\"fill:none;stroke:#000000;stroke-linecap:square;stroke-linejoin:miter;stroke-width:0.8;\"/>\n   </g>\n   <g id=\"patch_4\">\n    <path d=\"M 225.403125 146.899219 \nL 225.403125 10.999219 \n\" style=\"fill:none;stroke:#000000;stroke-linecap:square;stroke-linejoin:miter;stroke-width:0.8;\"/>\n   </g>\n   <g id=\"patch_5\">\n    <path d=\"M 30.103125 146.899219 \nL 225.403125 146.899219 \n\" style=\"fill:none;stroke:#000000;stroke-linecap:square;stroke-linejoin:miter;stroke-width:0.8;\"/>\n   </g>\n   <g id=\"patch_6\">\n    <path d=\"M 30.103125 10.999219 \nL 225.403125 10.999219 \n\" style=\"fill:none;stroke:#000000;stroke-linecap:square;stroke-linejoin:miter;stroke-width:0.8;\"/>\n   </g>\n   <g id=\"legend_1\">\n    <g id=\"patch_7\">\n     <path d=\"M 135.778125 48.355469 \nL 218.403125 48.355469 \nQ 220.403125 48.355469 220.403125 46.355469 \nL 220.403125 17.999219 \nQ 220.403125 15.999219 218.403125 15.999219 \nL 135.778125 15.999219 \nQ 133.778125 15.999219 133.778125 17.999219 \nL 133.778125 46.355469 \nQ 133.778125 48.355469 135.778125 48.355469 \nz\n\" style=\"fill:#ffffff;opacity:0.8;stroke:#cccccc;stroke-linejoin:miter;\"/>\n    </g>\n    <g id=\"line2d_21\">\n     <path d=\"M 137.778125 24.097656 \nL 157.778125 24.097656 \n\" style=\"fill:none;stroke:#1f77b4;stroke-linecap:square;stroke-width:1.5;\"/>\n    </g>\n    <g id=\"line2d_22\"/>\n    <g id=\"text_11\">\n     <!-- train loss -->\n     <defs>\n      <path d=\"M 18.3125 70.21875 \nL 18.3125 54.6875 \nL 36.8125 54.6875 \nL 36.8125 47.703125 \nL 18.3125 47.703125 \nL 18.3125 18.015625 \nQ 18.3125 11.328125 20.140625 9.421875 \nQ 21.96875 7.515625 27.59375 7.515625 \nL 36.8125 7.515625 \nL 36.8125 0 \nL 27.59375 0 \nQ 17.1875 0 13.234375 3.875 \nQ 9.28125 7.765625 9.28125 18.015625 \nL 9.28125 47.703125 \nL 2.6875 47.703125 \nL 2.6875 54.6875 \nL 9.28125 54.6875 \nL 9.28125 70.21875 \nz\n\" id=\"DejaVuSans-116\"/>\n      <path d=\"M 41.109375 46.296875 \nQ 39.59375 47.171875 37.8125 47.578125 \nQ 36.03125 48 33.890625 48 \nQ 26.265625 48 22.1875 43.046875 \nQ 18.109375 38.09375 18.109375 28.8125 \nL 18.109375 0 \nL 9.078125 0 \nL 9.078125 54.6875 \nL 18.109375 54.6875 \nL 18.109375 46.1875 \nQ 20.953125 51.171875 25.484375 53.578125 \nQ 30.03125 56 36.53125 56 \nQ 37.453125 56 38.578125 55.875 \nQ 39.703125 55.765625 41.0625 55.515625 \nz\n\" id=\"DejaVuSans-114\"/>\n      <path d=\"M 34.28125 27.484375 \nQ 23.390625 27.484375 19.1875 25 \nQ 14.984375 22.515625 14.984375 16.5 \nQ 14.984375 11.71875 18.140625 8.90625 \nQ 21.296875 6.109375 26.703125 6.109375 \nQ 34.1875 6.109375 38.703125 11.40625 \nQ 43.21875 16.703125 43.21875 25.484375 \nL 43.21875 27.484375 \nz\nM 52.203125 31.203125 \nL 52.203125 0 \nL 43.21875 0 \nL 43.21875 8.296875 \nQ 40.140625 3.328125 35.546875 0.953125 \nQ 30.953125 -1.421875 24.3125 -1.421875 \nQ 15.921875 -1.421875 10.953125 3.296875 \nQ 6 8.015625 6 15.921875 \nQ 6 25.140625 12.171875 29.828125 \nQ 18.359375 34.515625 30.609375 34.515625 \nL 43.21875 34.515625 \nL 43.21875 35.40625 \nQ 43.21875 41.609375 39.140625 45 \nQ 35.0625 48.390625 27.6875 48.390625 \nQ 23 48.390625 18.546875 47.265625 \nQ 14.109375 46.140625 10.015625 43.890625 \nL 10.015625 52.203125 \nQ 14.9375 54.109375 19.578125 55.046875 \nQ 24.21875 56 28.609375 56 \nQ 40.484375 56 46.34375 49.84375 \nQ 52.203125 43.703125 52.203125 31.203125 \nz\n\" id=\"DejaVuSans-97\"/>\n      <path d=\"M 9.421875 54.6875 \nL 18.40625 54.6875 \nL 18.40625 0 \nL 9.421875 0 \nz\nM 9.421875 75.984375 \nL 18.40625 75.984375 \nL 18.40625 64.59375 \nL 9.421875 64.59375 \nz\n\" id=\"DejaVuSans-105\"/>\n      <path d=\"M 54.890625 33.015625 \nL 54.890625 0 \nL 45.90625 0 \nL 45.90625 32.71875 \nQ 45.90625 40.484375 42.875 44.328125 \nQ 39.84375 48.1875 33.796875 48.1875 \nQ 26.515625 48.1875 22.3125 43.546875 \nQ 18.109375 38.921875 18.109375 30.90625 \nL 18.109375 0 \nL 9.078125 0 \nL 9.078125 54.6875 \nL 18.109375 54.6875 \nL 18.109375 46.1875 \nQ 21.34375 51.125 25.703125 53.5625 \nQ 30.078125 56 35.796875 56 \nQ 45.21875 56 50.046875 50.171875 \nQ 54.890625 44.34375 54.890625 33.015625 \nz\n\" id=\"DejaVuSans-110\"/>\n      <path id=\"DejaVuSans-32\"/>\n      <path d=\"M 9.421875 75.984375 \nL 18.40625 75.984375 \nL 18.40625 0 \nL 9.421875 0 \nz\n\" id=\"DejaVuSans-108\"/>\n      <path d=\"M 44.28125 53.078125 \nL 44.28125 44.578125 \nQ 40.484375 46.53125 36.375 47.5 \nQ 32.28125 48.484375 27.875 48.484375 \nQ 21.1875 48.484375 17.84375 46.4375 \nQ 14.5 44.390625 14.5 40.28125 \nQ 14.5 37.15625 16.890625 35.375 \nQ 19.28125 33.59375 26.515625 31.984375 \nL 29.59375 31.296875 \nQ 39.15625 29.25 43.1875 25.515625 \nQ 47.21875 21.78125 47.21875 15.09375 \nQ 47.21875 7.46875 41.1875 3.015625 \nQ 35.15625 -1.421875 24.609375 -1.421875 \nQ 20.21875 -1.421875 15.453125 -0.5625 \nQ 10.6875 0.296875 5.421875 2 \nL 5.421875 11.28125 \nQ 10.40625 8.6875 15.234375 7.390625 \nQ 20.0625 6.109375 24.8125 6.109375 \nQ 31.15625 6.109375 34.5625 8.28125 \nQ 37.984375 10.453125 37.984375 14.40625 \nQ 37.984375 18.0625 35.515625 20.015625 \nQ 33.0625 21.96875 24.703125 23.78125 \nL 21.578125 24.515625 \nQ 13.234375 26.265625 9.515625 29.90625 \nQ 5.8125 33.546875 5.8125 39.890625 \nQ 5.8125 47.609375 11.28125 51.796875 \nQ 16.75 56 26.8125 56 \nQ 31.78125 56 36.171875 55.265625 \nQ 40.578125 54.546875 44.28125 53.078125 \nz\n\" id=\"DejaVuSans-115\"/>\n     </defs>\n     <g transform=\"translate(165.778125 27.597656)scale(0.1 -0.1)\">\n      <use xlink:href=\"#DejaVuSans-116\"/>\n      <use x=\"39.208984\" xlink:href=\"#DejaVuSans-114\"/>\n      <use x=\"80.322266\" xlink:href=\"#DejaVuSans-97\"/>\n      <use x=\"141.601562\" xlink:href=\"#DejaVuSans-105\"/>\n      <use x=\"169.384766\" xlink:href=\"#DejaVuSans-110\"/>\n      <use x=\"232.763672\" xlink:href=\"#DejaVuSans-32\"/>\n      <use x=\"264.550781\" xlink:href=\"#DejaVuSans-108\"/>\n      <use x=\"292.333984\" xlink:href=\"#DejaVuSans-111\"/>\n      <use x=\"353.515625\" xlink:href=\"#DejaVuSans-115\"/>\n      <use x=\"405.615234\" xlink:href=\"#DejaVuSans-115\"/>\n     </g>\n    </g>\n    <g id=\"line2d_23\">\n     <path d=\"M 137.778125 38.775781 \nL 157.778125 38.775781 \n\" style=\"fill:none;stroke:#bf00bf;stroke-dasharray:5.55,2.4;stroke-dashoffset:0;stroke-width:1.5;\"/>\n    </g>\n    <g id=\"line2d_24\"/>\n    <g id=\"text_12\">\n     <!-- test RMSE -->\n     <defs>\n      <path d=\"M 44.390625 34.1875 \nQ 47.5625 33.109375 50.5625 29.59375 \nQ 53.5625 26.078125 56.59375 19.921875 \nL 66.609375 0 \nL 56 0 \nL 46.6875 18.703125 \nQ 43.0625 26.03125 39.671875 28.421875 \nQ 36.28125 30.8125 30.421875 30.8125 \nL 19.671875 30.8125 \nL 19.671875 0 \nL 9.8125 0 \nL 9.8125 72.90625 \nL 32.078125 72.90625 \nQ 44.578125 72.90625 50.734375 67.671875 \nQ 56.890625 62.453125 56.890625 51.90625 \nQ 56.890625 45.015625 53.6875 40.46875 \nQ 50.484375 35.9375 44.390625 34.1875 \nz\nM 19.671875 64.796875 \nL 19.671875 38.921875 \nL 32.078125 38.921875 \nQ 39.203125 38.921875 42.84375 42.21875 \nQ 46.484375 45.515625 46.484375 51.90625 \nQ 46.484375 58.296875 42.84375 61.546875 \nQ 39.203125 64.796875 32.078125 64.796875 \nz\n\" id=\"DejaVuSans-82\"/>\n      <path d=\"M 9.8125 72.90625 \nL 24.515625 72.90625 \nL 43.109375 23.296875 \nL 61.8125 72.90625 \nL 76.515625 72.90625 \nL 76.515625 0 \nL 66.890625 0 \nL 66.890625 64.015625 \nL 48.09375 14.015625 \nL 38.1875 14.015625 \nL 19.390625 64.015625 \nL 19.390625 0 \nL 9.8125 0 \nz\n\" id=\"DejaVuSans-77\"/>\n      <path d=\"M 53.515625 70.515625 \nL 53.515625 60.890625 \nQ 47.90625 63.578125 42.921875 64.890625 \nQ 37.9375 66.21875 33.296875 66.21875 \nQ 25.25 66.21875 20.875 63.09375 \nQ 16.5 59.96875 16.5 54.203125 \nQ 16.5 49.359375 19.40625 46.890625 \nQ 22.3125 44.4375 30.421875 42.921875 \nL 36.375 41.703125 \nQ 47.40625 39.59375 52.65625 34.296875 \nQ 57.90625 29 57.90625 20.125 \nQ 57.90625 9.515625 50.796875 4.046875 \nQ 43.703125 -1.421875 29.984375 -1.421875 \nQ 24.8125 -1.421875 18.96875 -0.25 \nQ 13.140625 0.921875 6.890625 3.21875 \nL 6.890625 13.375 \nQ 12.890625 10.015625 18.65625 8.296875 \nQ 24.421875 6.59375 29.984375 6.59375 \nQ 38.421875 6.59375 43.015625 9.90625 \nQ 47.609375 13.234375 47.609375 19.390625 \nQ 47.609375 24.75 44.3125 27.78125 \nQ 41.015625 30.8125 33.5 32.328125 \nL 27.484375 33.5 \nQ 16.453125 35.6875 11.515625 40.375 \nQ 6.59375 45.0625 6.59375 53.421875 \nQ 6.59375 63.09375 13.40625 68.65625 \nQ 20.21875 74.21875 32.171875 74.21875 \nQ 37.3125 74.21875 42.625 73.28125 \nQ 47.953125 72.359375 53.515625 70.515625 \nz\n\" id=\"DejaVuSans-83\"/>\n      <path d=\"M 9.8125 72.90625 \nL 55.90625 72.90625 \nL 55.90625 64.59375 \nL 19.671875 64.59375 \nL 19.671875 43.015625 \nL 54.390625 43.015625 \nL 54.390625 34.71875 \nL 19.671875 34.71875 \nL 19.671875 8.296875 \nL 56.78125 8.296875 \nL 56.78125 0 \nL 9.8125 0 \nz\n\" id=\"DejaVuSans-69\"/>\n     </defs>\n     <g transform=\"translate(165.778125 42.275781)scale(0.1 -0.1)\">\n      <use xlink:href=\"#DejaVuSans-116\"/>\n      <use x=\"39.208984\" xlink:href=\"#DejaVuSans-101\"/>\n      <use x=\"100.732422\" xlink:href=\"#DejaVuSans-115\"/>\n      <use x=\"152.832031\" xlink:href=\"#DejaVuSans-116\"/>\n      <use x=\"192.041016\" xlink:href=\"#DejaVuSans-32\"/>\n      <use x=\"223.828125\" xlink:href=\"#DejaVuSans-82\"/>\n      <use x=\"293.310547\" xlink:href=\"#DejaVuSans-77\"/>\n      <use x=\"379.589844\" xlink:href=\"#DejaVuSans-83\"/>\n      <use x=\"443.066406\" xlink:href=\"#DejaVuSans-69\"/>\n     </g>\n    </g>\n   </g>\n  </g>\n </g>\n <defs>\n  <clipPath id=\"p29db7c599b\">\n   <rect height=\"135.9\" width=\"195.3\" x=\"30.103125\" y=\"10.999219\"/>\n  </clipPath>\n </defs>\n</svg>\n"
          },
          "metadata": {
            "needs_background": "light"
          }
        }
      ]
    },
    {
      "cell_type": "markdown",
      "metadata": {
        "id": "Qnj42dBntCcU"
      },
      "source": [
        "### COLLABORATIVE FILTERING"
      ]
    },
    {
      "cell_type": "code",
      "metadata": {
        "id": "oDnxy_Agunmc"
      },
      "source": [
        "dataset100k = \"datasets/ml-latest-small/\"\n",
        "dataset1M = \"datasets/ml-1m\""
      ],
      "execution_count": null,
      "outputs": []
    },
    {
      "cell_type": "code",
      "metadata": {
        "id": "NvlYF6m60mwA"
      },
      "source": [
        "d2l.DATA_HUB['ml-100k'] = (\n",
        "    'http://files.grouplens.org/datasets/movielens/ml-100k.zip',\n",
        "    'cd4dcac4241c8a4ad7badc7ca635da8a69dddb83')\n",
        "dataset_handler=d2l.DATA_HUB['ml-100k'] "
      ],
      "execution_count": null,
      "outputs": []
    },
    {
      "cell_type": "code",
      "metadata": {
        "id": "F3fBvn_RQJDc",
        "colab": {
          "base_uri": "https://localhost:8080/"
        },
        "outputId": "ff5c69a4-4830-4ec2-8f24-73f5f1f9f8a5"
      },
      "source": [
        "!pip install d2l==0.17.0\n",
        "!pip install -U mxnet-cu101==1.7.0"
      ],
      "execution_count": null,
      "outputs": [
        {
          "output_type": "stream",
          "name": "stdout",
          "text": [
            "Requirement already satisfied: d2l==0.17.0 in /usr/local/lib/python3.7/dist-packages (0.17.0)\n",
            "Requirement already satisfied: numpy in /usr/local/lib/python3.7/dist-packages (from d2l==0.17.0) (1.19.5)\n",
            "Requirement already satisfied: requests in /usr/local/lib/python3.7/dist-packages (from d2l==0.17.0) (2.23.0)\n",
            "Requirement already satisfied: pandas in /usr/local/lib/python3.7/dist-packages (from d2l==0.17.0) (1.1.5)\n",
            "Requirement already satisfied: jupyter in /usr/local/lib/python3.7/dist-packages (from d2l==0.17.0) (1.0.0)\n",
            "Requirement already satisfied: matplotlib in /usr/local/lib/python3.7/dist-packages (from d2l==0.17.0) (3.2.2)\n",
            "Requirement already satisfied: ipywidgets in /usr/local/lib/python3.7/dist-packages (from jupyter->d2l==0.17.0) (7.6.5)\n",
            "Requirement already satisfied: nbconvert in /usr/local/lib/python3.7/dist-packages (from jupyter->d2l==0.17.0) (5.6.1)\n",
            "Requirement already satisfied: jupyter-console in /usr/local/lib/python3.7/dist-packages (from jupyter->d2l==0.17.0) (5.2.0)\n",
            "Requirement already satisfied: notebook in /usr/local/lib/python3.7/dist-packages (from jupyter->d2l==0.17.0) (5.3.1)\n",
            "Requirement already satisfied: ipykernel in /usr/local/lib/python3.7/dist-packages (from jupyter->d2l==0.17.0) (4.10.1)\n",
            "Requirement already satisfied: qtconsole in /usr/local/lib/python3.7/dist-packages (from jupyter->d2l==0.17.0) (5.2.0)\n",
            "Requirement already satisfied: traitlets>=4.1.0 in /usr/local/lib/python3.7/dist-packages (from ipykernel->jupyter->d2l==0.17.0) (5.1.1)\n",
            "Requirement already satisfied: ipython>=4.0.0 in /usr/local/lib/python3.7/dist-packages (from ipykernel->jupyter->d2l==0.17.0) (5.5.0)\n",
            "Requirement already satisfied: tornado>=4.0 in /usr/local/lib/python3.7/dist-packages (from ipykernel->jupyter->d2l==0.17.0) (5.1.1)\n",
            "Requirement already satisfied: jupyter-client in /usr/local/lib/python3.7/dist-packages (from ipykernel->jupyter->d2l==0.17.0) (5.3.5)\n",
            "Requirement already satisfied: decorator in /usr/local/lib/python3.7/dist-packages (from ipython>=4.0.0->ipykernel->jupyter->d2l==0.17.0) (4.4.2)\n",
            "Requirement already satisfied: prompt-toolkit<2.0.0,>=1.0.4 in /usr/local/lib/python3.7/dist-packages (from ipython>=4.0.0->ipykernel->jupyter->d2l==0.17.0) (1.0.18)\n",
            "Requirement already satisfied: simplegeneric>0.8 in /usr/local/lib/python3.7/dist-packages (from ipython>=4.0.0->ipykernel->jupyter->d2l==0.17.0) (0.8.1)\n",
            "Requirement already satisfied: setuptools>=18.5 in /usr/local/lib/python3.7/dist-packages (from ipython>=4.0.0->ipykernel->jupyter->d2l==0.17.0) (57.4.0)\n",
            "Requirement already satisfied: pygments in /usr/local/lib/python3.7/dist-packages (from ipython>=4.0.0->ipykernel->jupyter->d2l==0.17.0) (2.6.1)\n",
            "Requirement already satisfied: pickleshare in /usr/local/lib/python3.7/dist-packages (from ipython>=4.0.0->ipykernel->jupyter->d2l==0.17.0) (0.7.5)\n",
            "Requirement already satisfied: pexpect in /usr/local/lib/python3.7/dist-packages (from ipython>=4.0.0->ipykernel->jupyter->d2l==0.17.0) (4.8.0)\n",
            "Requirement already satisfied: wcwidth in /usr/local/lib/python3.7/dist-packages (from prompt-toolkit<2.0.0,>=1.0.4->ipython>=4.0.0->ipykernel->jupyter->d2l==0.17.0) (0.2.5)\n",
            "Requirement already satisfied: six>=1.9.0 in /usr/local/lib/python3.7/dist-packages (from prompt-toolkit<2.0.0,>=1.0.4->ipython>=4.0.0->ipykernel->jupyter->d2l==0.17.0) (1.15.0)\n",
            "Requirement already satisfied: nbformat>=4.2.0 in /usr/local/lib/python3.7/dist-packages (from ipywidgets->jupyter->d2l==0.17.0) (5.1.3)\n",
            "Requirement already satisfied: ipython-genutils~=0.2.0 in /usr/local/lib/python3.7/dist-packages (from ipywidgets->jupyter->d2l==0.17.0) (0.2.0)\n",
            "Requirement already satisfied: jupyterlab-widgets>=1.0.0 in /usr/local/lib/python3.7/dist-packages (from ipywidgets->jupyter->d2l==0.17.0) (1.0.2)\n",
            "Requirement already satisfied: widgetsnbextension~=3.5.0 in /usr/local/lib/python3.7/dist-packages (from ipywidgets->jupyter->d2l==0.17.0) (3.5.2)\n",
            "Requirement already satisfied: jupyter-core in /usr/local/lib/python3.7/dist-packages (from nbformat>=4.2.0->ipywidgets->jupyter->d2l==0.17.0) (4.9.1)\n",
            "Requirement already satisfied: jsonschema!=2.5.0,>=2.4 in /usr/local/lib/python3.7/dist-packages (from nbformat>=4.2.0->ipywidgets->jupyter->d2l==0.17.0) (2.6.0)\n",
            "Requirement already satisfied: terminado>=0.8.1 in /usr/local/lib/python3.7/dist-packages (from notebook->jupyter->d2l==0.17.0) (0.12.1)\n",
            "Requirement already satisfied: jinja2 in /usr/local/lib/python3.7/dist-packages (from notebook->jupyter->d2l==0.17.0) (2.11.3)\n",
            "Requirement already satisfied: Send2Trash in /usr/local/lib/python3.7/dist-packages (from notebook->jupyter->d2l==0.17.0) (1.8.0)\n",
            "Requirement already satisfied: pyzmq>=13 in /usr/local/lib/python3.7/dist-packages (from jupyter-client->ipykernel->jupyter->d2l==0.17.0) (22.3.0)\n",
            "Requirement already satisfied: python-dateutil>=2.1 in /usr/local/lib/python3.7/dist-packages (from jupyter-client->ipykernel->jupyter->d2l==0.17.0) (2.8.2)\n",
            "Requirement already satisfied: ptyprocess in /usr/local/lib/python3.7/dist-packages (from terminado>=0.8.1->notebook->jupyter->d2l==0.17.0) (0.7.0)\n",
            "Requirement already satisfied: MarkupSafe>=0.23 in /usr/local/lib/python3.7/dist-packages (from jinja2->notebook->jupyter->d2l==0.17.0) (2.0.1)\n",
            "Requirement already satisfied: cycler>=0.10 in /usr/local/lib/python3.7/dist-packages (from matplotlib->d2l==0.17.0) (0.11.0)\n",
            "Requirement already satisfied: kiwisolver>=1.0.1 in /usr/local/lib/python3.7/dist-packages (from matplotlib->d2l==0.17.0) (1.3.2)\n",
            "Requirement already satisfied: pyparsing!=2.0.4,!=2.1.2,!=2.1.6,>=2.0.1 in /usr/local/lib/python3.7/dist-packages (from matplotlib->d2l==0.17.0) (2.4.7)\n",
            "Requirement already satisfied: entrypoints>=0.2.2 in /usr/local/lib/python3.7/dist-packages (from nbconvert->jupyter->d2l==0.17.0) (0.3)\n",
            "Requirement already satisfied: bleach in /usr/local/lib/python3.7/dist-packages (from nbconvert->jupyter->d2l==0.17.0) (4.1.0)\n",
            "Requirement already satisfied: testpath in /usr/local/lib/python3.7/dist-packages (from nbconvert->jupyter->d2l==0.17.0) (0.5.0)\n",
            "Requirement already satisfied: mistune<2,>=0.8.1 in /usr/local/lib/python3.7/dist-packages (from nbconvert->jupyter->d2l==0.17.0) (0.8.4)\n",
            "Requirement already satisfied: pandocfilters>=1.4.1 in /usr/local/lib/python3.7/dist-packages (from nbconvert->jupyter->d2l==0.17.0) (1.5.0)\n",
            "Requirement already satisfied: defusedxml in /usr/local/lib/python3.7/dist-packages (from nbconvert->jupyter->d2l==0.17.0) (0.7.1)\n",
            "Requirement already satisfied: packaging in /usr/local/lib/python3.7/dist-packages (from bleach->nbconvert->jupyter->d2l==0.17.0) (21.2)\n",
            "Requirement already satisfied: webencodings in /usr/local/lib/python3.7/dist-packages (from bleach->nbconvert->jupyter->d2l==0.17.0) (0.5.1)\n",
            "Requirement already satisfied: pytz>=2017.2 in /usr/local/lib/python3.7/dist-packages (from pandas->d2l==0.17.0) (2018.9)\n",
            "Requirement already satisfied: qtpy in /usr/local/lib/python3.7/dist-packages (from qtconsole->jupyter->d2l==0.17.0) (1.11.2)\n",
            "Requirement already satisfied: certifi>=2017.4.17 in /usr/local/lib/python3.7/dist-packages (from requests->d2l==0.17.0) (2021.10.8)\n",
            "Requirement already satisfied: chardet<4,>=3.0.2 in /usr/local/lib/python3.7/dist-packages (from requests->d2l==0.17.0) (3.0.4)\n",
            "Requirement already satisfied: urllib3!=1.25.0,!=1.25.1,<1.26,>=1.21.1 in /usr/local/lib/python3.7/dist-packages (from requests->d2l==0.17.0) (1.24.3)\n",
            "Requirement already satisfied: idna<3,>=2.5 in /usr/local/lib/python3.7/dist-packages (from requests->d2l==0.17.0) (2.10)\n",
            "Requirement already satisfied: mxnet-cu101==1.7.0 in /usr/local/lib/python3.7/dist-packages (1.7.0)\n",
            "Requirement already satisfied: numpy<2.0.0,>1.16.0 in /usr/local/lib/python3.7/dist-packages (from mxnet-cu101==1.7.0) (1.19.5)\n",
            "Requirement already satisfied: graphviz<0.9.0,>=0.8.1 in /usr/local/lib/python3.7/dist-packages (from mxnet-cu101==1.7.0) (0.8.4)\n",
            "Requirement already satisfied: requests<3,>=2.20.0 in /usr/local/lib/python3.7/dist-packages (from mxnet-cu101==1.7.0) (2.23.0)\n",
            "Requirement already satisfied: idna<3,>=2.5 in /usr/local/lib/python3.7/dist-packages (from requests<3,>=2.20.0->mxnet-cu101==1.7.0) (2.10)\n",
            "Requirement already satisfied: chardet<4,>=3.0.2 in /usr/local/lib/python3.7/dist-packages (from requests<3,>=2.20.0->mxnet-cu101==1.7.0) (3.0.4)\n",
            "Requirement already satisfied: urllib3!=1.25.0,!=1.25.1,<1.26,>=1.21.1 in /usr/local/lib/python3.7/dist-packages (from requests<3,>=2.20.0->mxnet-cu101==1.7.0) (1.24.3)\n",
            "Requirement already satisfied: certifi>=2017.4.17 in /usr/local/lib/python3.7/dist-packages (from requests<3,>=2.20.0->mxnet-cu101==1.7.0) (2021.10.8)\n"
          ]
        }
      ]
    },
    {
      "cell_type": "markdown",
      "metadata": {
        "id": "x5lpXI81iSBG"
      },
      "source": [
        "*   For collaborative filering proper structure of **Matrix factorization** is used as embedding layers."
      ]
    },
    {
      "cell_type": "code",
      "metadata": {
        "id": "PgRQjRpXQOfD"
      },
      "source": [
        "import random\n",
        "import mxnet as mx\n",
        "from mxnet import autograd, gluon, np, npx\n",
        "from mxnet.gluon import nn\n",
        "from d2l import mxnet as d2l\n",
        "\n",
        "npx.set_np()\n",
        "class NeuMF(nn.Block):\n",
        "    def __init__(self, num_factors, num_users, num_items, nums_hiddens,\n",
        "                 **kwargs):\n",
        "        super(NeuMF, self).__init__(**kwargs)\n",
        "        self.P = nn.Embedding(num_users, num_factors)\n",
        "        self.Q = nn.Embedding(num_items, num_factors)\n",
        "        self.U = nn.Embedding(num_users, num_factors)\n",
        "        self.V = nn.Embedding(num_items, num_factors)\n",
        "        self.mlp = nn.Sequential()\n",
        "        for num_hiddens in nums_hiddens:\n",
        "            self.mlp.add(\n",
        "                nn.Dense(num_hiddens, activation='relu', use_bias=True))\n",
        "        self.prediction_layer = nn.Dense(1, activation='sigmoid',\n",
        "                                         use_bias=False)\n",
        "\n",
        "    def forward(self, user_id, item_id):\n",
        "        p_mf = self.P(user_id)\n",
        "        q_mf = self.Q(item_id)\n",
        "        gmf = p_mf * q_mf\n",
        "        p_mlp = self.U(user_id)\n",
        "        q_mlp = self.V(item_id)\n",
        "        mlp = self.mlp(np.concatenate([p_mlp, q_mlp], axis=1))\n",
        "        con_res = np.concatenate([gmf, mlp], axis=1)\n",
        "        return self.prediction_layer(con_res)"
      ],
      "execution_count": null,
      "outputs": []
    },
    {
      "cell_type": "markdown",
      "metadata": {
        "id": "LN-QOEV-ij7w"
      },
      "source": [
        "*   **Hit rate** is another metric to analyze whether ratings are properly defined as predicted or not."
      ]
    },
    {
      "cell_type": "code",
      "metadata": {
        "id": "m2GRSNdEQfp8"
      },
      "source": [
        "class PRDataset(gluon.data.Dataset):\n",
        "    def __init__(self, users, items, candidates, num_items):\n",
        "        self.users = users\n",
        "        self.items = items\n",
        "        self.cand = candidates\n",
        "        self.all = set([i for i in range(num_items)])\n",
        "\n",
        "    def __len__(self):\n",
        "        return len(self.users)\n",
        "\n",
        "    def __getitem__(self, idx):\n",
        "        neg_items = list(self.all - set(self.cand[int(self.users[idx])]))\n",
        "        indices = random.randint(0, len(neg_items) - 1)\n",
        "        return self.users[idx], self.items[idx], neg_items[indices]\n",
        "def hit_and_auc(rankedlist, test_matrix, k):\n",
        "    hits_k = [(idx, val) for idx, val in enumerate(rankedlist[:k])\n",
        "              if val in set(test_matrix)]\n",
        "    hits_all = [(idx, val) for idx, val in enumerate(rankedlist)\n",
        "                if val in set(test_matrix)]\n",
        "    max = len(rankedlist) - 1\n",
        "    auc = 1.0 * (max - hits_all[0][0]) / max if len(hits_all) > 0 else 0\n",
        "    return len(hits_k), auc\n",
        "def evaluate_ranking(net, test_input, seq, candidates, num_users, num_items,\n",
        "                     devices):\n",
        "    ranked_list, ranked_items, hit_rate, auc = {}, {}, [], []\n",
        "    all_items = set([i for i in range(num_users)])\n",
        "    for u in range(num_users):\n",
        "        neg_items = list(all_items - set(candidates[int(u)]))\n",
        "        user_ids, item_ids, x, scores = [], [], [], []\n",
        "        [item_ids.append(i) for i in neg_items]\n",
        "        [user_ids.append(u) for _ in neg_items]\n",
        "        x.extend([np.array(user_ids)])\n",
        "        if seq is not None:\n",
        "            x.append(seq[user_ids, :])\n",
        "        x.extend([np.array(item_ids)])\n",
        "        test_data_iter = gluon.data.DataLoader(gluon.data.ArrayDataset(*x),\n",
        "                                               shuffle=False,\n",
        "                                               last_batch=\"keep\",\n",
        "                                               batch_size=1024)\n",
        "        for index, values in enumerate(test_data_iter):\n",
        "            x = [\n",
        "                gluon.utils.split_and_load(v, devices, even_split=False)\n",
        "                for v in values]\n",
        "            scores.extend([list(net(*t).asnumpy()) for t in zip(*x)])\n",
        "        scores = [item for sublist in scores for item in sublist]\n",
        "        item_scores = list(zip(item_ids, scores))\n",
        "        ranked_list[u] = sorted(item_scores, key=lambda t: t[1], reverse=True)\n",
        "        ranked_items[u] = [r[0] for r in ranked_list[u]]\n",
        "        temp = hit_and_auc(ranked_items[u], test_input[u], 50)\n",
        "        hit_rate.append(temp[0])\n",
        "        auc.append(temp[1])\n",
        "    return np.mean(np.array(hit_rate)), np.mean(np.array(auc))"
      ],
      "execution_count": null,
      "outputs": []
    },
    {
      "cell_type": "markdown",
      "metadata": {
        "id": "BA5knDcmi0GC"
      },
      "source": [
        "*   Rankings are determined as the most relevant movie is shown to the user. "
      ]
    },
    {
      "cell_type": "code",
      "metadata": {
        "id": "amTI9CIBQs04"
      },
      "source": [
        "def train_ranking(net, train_iter, test_iter, loss, trainer, test_seq_iter,\n",
        "                  num_users, num_items, num_epochs, devices, evaluator,\n",
        "                  candidates, eval_step=1):\n",
        "    timer, hit_rate, auc = d2l.Timer(), 0, 0\n",
        "    animator = d2l.Animator(xlabel='epoch', xlim=[1, num_epochs], ylim=[0, 1],\n",
        "                            legend=['test hit rate', 'test AUC'])\n",
        "    for epoch in range(num_epochs):\n",
        "        metric, l = d2l.Accumulator(3), 0.\n",
        "        for i, values in enumerate(train_iter):\n",
        "            input_data = []\n",
        "            for v in values:\n",
        "                input_data.append(gluon.utils.split_and_load(v, devices))\n",
        "            with autograd.record():\n",
        "                p_pos = [net(*t) for t in zip(*input_data[0:-1])]\n",
        "                p_neg = [\n",
        "                    net(*t) for t in zip(*input_data[0:-2], input_data[-1])]\n",
        "                ls = [loss(p, n) for p, n in zip(p_pos, p_neg)]\n",
        "            [l.backward(retain_graph=False) for l in ls]\n",
        "            l += sum([l.asnumpy() for l in ls]).mean() / len(devices)\n",
        "            trainer.step(values[0].shape[0])\n",
        "            metric.add(l, values[0].shape[0], values[0].size)\n",
        "            timer.stop()\n",
        "        with autograd.predict_mode():\n",
        "            if (epoch + 1) % eval_step == 0:\n",
        "                hit_rate, auc = evaluator(net, test_iter, test_seq_iter,\n",
        "                                          candidates, num_users, num_items,\n",
        "                                          devices)\n",
        "                animator.add(epoch + 1, (hit_rate, auc))\n",
        "    print(f'train loss {metric[0] / metric[1]:.3f}, '\n",
        "          f'test hit rate {float(hit_rate):.3f}, test AUC {float(auc):.3f}')\n",
        "    print(f'{metric[2] * num_epochs / timer.sum():.1f} examples/sec '\n",
        "          f'on {str(devices)}')"
      ],
      "execution_count": null,
      "outputs": []
    },
    {
      "cell_type": "code",
      "metadata": {
        "id": "L9WMJ9CdQyUc",
        "colab": {
          "base_uri": "https://localhost:8080/",
          "height": 302
        },
        "outputId": "eaccbb13-6168-48ea-9ca2-d2def6839cd6"
      },
      "source": [
        "batch_size = 1024\n",
        "df, num_users, num_items = d2l.read_data_ml100k()\n",
        "train_data, test_data = d2l.split_data_ml100k(df, num_users, num_items,\n",
        "                                              'seq-aware')\n",
        "users_train, items_train, ratings_train, candidates = d2l.load_data_ml100k(\n",
        "    train_data, num_users, num_items, feedback=\"implicit\")\n",
        "users_test, items_test, ratings_test, test_iter = d2l.load_data_ml100k(\n",
        "    test_data, num_users, num_items, feedback=\"implicit\")\n",
        "train_iter = gluon.data.DataLoader(\n",
        "    PRDataset(users_train, items_train, candidates, num_items), batch_size,\n",
        "    True, last_batch=\"rollover\", num_workers=d2l.get_dataloader_workers())\n",
        "devices = d2l.try_all_gpus()\n",
        "net = NeuMF(10, num_users, num_items, nums_hiddens=[10, 10, 10])\n",
        "net.initialize(ctx=devices, force_reinit=True, init=mx.init.Normal(0.01))\n",
        "lr, num_epochs, wd, optimizer = 0.01, 10, 1e-5, 'adam'\n",
        "loss = d2l.BPRLoss()\n",
        "trainer = gluon.Trainer(net.collect_params(), optimizer, {\n",
        "    \"learning_rate\": lr,\n",
        "    'wd': wd})\n",
        "train_ranking(net, train_iter, test_iter, loss, trainer, None, num_users,\n",
        "              num_items, num_epochs, devices, evaluate_ranking, candidates)"
      ],
      "execution_count": null,
      "outputs": [
        {
          "output_type": "stream",
          "name": "stdout",
          "text": [
            "train loss 33.964, test hit rate 0.075, test AUC 0.531\n",
            "14.9 examples/sec on [cpu(0)]\n"
          ]
        },
        {
          "output_type": "display_data",
          "data": {
            "text/plain": [
              "<Figure size 252x180 with 1 Axes>"
            ],
            "image/svg+xml": "<?xml version=\"1.0\" encoding=\"utf-8\" standalone=\"no\"?>\n<!DOCTYPE svg PUBLIC \"-//W3C//DTD SVG 1.1//EN\"\n  \"http://www.w3.org/Graphics/SVG/1.1/DTD/svg11.dtd\">\n<!-- Created with matplotlib (https://matplotlib.org/) -->\n<svg height=\"184.455469pt\" version=\"1.1\" viewBox=\"0 0 238.965625 184.455469\" width=\"238.965625pt\" xmlns=\"http://www.w3.org/2000/svg\" xmlns:xlink=\"http://www.w3.org/1999/xlink\">\n <defs>\n  <style type=\"text/css\">\n*{stroke-linecap:butt;stroke-linejoin:round;}\n  </style>\n </defs>\n <g id=\"figure_1\">\n  <g id=\"patch_1\">\n   <path d=\"M 0 184.455469 \nL 238.965625 184.455469 \nL 238.965625 -0 \nL 0 -0 \nz\n\" style=\"fill:none;\"/>\n  </g>\n  <g id=\"axes_1\">\n   <g id=\"patch_2\">\n    <path d=\"M 30.103125 146.899219 \nL 225.403125 146.899219 \nL 225.403125 10.999219 \nL 30.103125 10.999219 \nz\n\" style=\"fill:#ffffff;\"/>\n   </g>\n   <g id=\"matplotlib.axis_1\">\n    <g id=\"xtick_1\">\n     <g id=\"line2d_1\">\n      <path clip-path=\"url(#p8e96896c8f)\" d=\"M 51.803125 146.899219 \nL 51.803125 10.999219 \n\" style=\"fill:none;stroke:#b0b0b0;stroke-linecap:square;stroke-width:0.8;\"/>\n     </g>\n     <g id=\"line2d_2\">\n      <defs>\n       <path d=\"M 0 0 \nL 0 3.5 \n\" id=\"mcbee3f0653\" style=\"stroke:#000000;stroke-width:0.8;\"/>\n      </defs>\n      <g>\n       <use style=\"stroke:#000000;stroke-width:0.8;\" x=\"51.803125\" xlink:href=\"#mcbee3f0653\" y=\"146.899219\"/>\n      </g>\n     </g>\n     <g id=\"text_1\">\n      <!-- 2 -->\n      <defs>\n       <path d=\"M 19.1875 8.296875 \nL 53.609375 8.296875 \nL 53.609375 0 \nL 7.328125 0 \nL 7.328125 8.296875 \nQ 12.9375 14.109375 22.625 23.890625 \nQ 32.328125 33.6875 34.8125 36.53125 \nQ 39.546875 41.84375 41.421875 45.53125 \nQ 43.3125 49.21875 43.3125 52.78125 \nQ 43.3125 58.59375 39.234375 62.25 \nQ 35.15625 65.921875 28.609375 65.921875 \nQ 23.96875 65.921875 18.8125 64.3125 \nQ 13.671875 62.703125 7.8125 59.421875 \nL 7.8125 69.390625 \nQ 13.765625 71.78125 18.9375 73 \nQ 24.125 74.21875 28.421875 74.21875 \nQ 39.75 74.21875 46.484375 68.546875 \nQ 53.21875 62.890625 53.21875 53.421875 \nQ 53.21875 48.921875 51.53125 44.890625 \nQ 49.859375 40.875 45.40625 35.40625 \nQ 44.1875 33.984375 37.640625 27.21875 \nQ 31.109375 20.453125 19.1875 8.296875 \nz\n\" id=\"DejaVuSans-50\"/>\n      </defs>\n      <g transform=\"translate(48.621875 161.497656)scale(0.1 -0.1)\">\n       <use xlink:href=\"#DejaVuSans-50\"/>\n      </g>\n     </g>\n    </g>\n    <g id=\"xtick_2\">\n     <g id=\"line2d_3\">\n      <path clip-path=\"url(#p8e96896c8f)\" d=\"M 95.203125 146.899219 \nL 95.203125 10.999219 \n\" style=\"fill:none;stroke:#b0b0b0;stroke-linecap:square;stroke-width:0.8;\"/>\n     </g>\n     <g id=\"line2d_4\">\n      <g>\n       <use style=\"stroke:#000000;stroke-width:0.8;\" x=\"95.203125\" xlink:href=\"#mcbee3f0653\" y=\"146.899219\"/>\n      </g>\n     </g>\n     <g id=\"text_2\">\n      <!-- 4 -->\n      <defs>\n       <path d=\"M 37.796875 64.3125 \nL 12.890625 25.390625 \nL 37.796875 25.390625 \nz\nM 35.203125 72.90625 \nL 47.609375 72.90625 \nL 47.609375 25.390625 \nL 58.015625 25.390625 \nL 58.015625 17.1875 \nL 47.609375 17.1875 \nL 47.609375 0 \nL 37.796875 0 \nL 37.796875 17.1875 \nL 4.890625 17.1875 \nL 4.890625 26.703125 \nz\n\" id=\"DejaVuSans-52\"/>\n      </defs>\n      <g transform=\"translate(92.021875 161.497656)scale(0.1 -0.1)\">\n       <use xlink:href=\"#DejaVuSans-52\"/>\n      </g>\n     </g>\n    </g>\n    <g id=\"xtick_3\">\n     <g id=\"line2d_5\">\n      <path clip-path=\"url(#p8e96896c8f)\" d=\"M 138.603125 146.899219 \nL 138.603125 10.999219 \n\" style=\"fill:none;stroke:#b0b0b0;stroke-linecap:square;stroke-width:0.8;\"/>\n     </g>\n     <g id=\"line2d_6\">\n      <g>\n       <use style=\"stroke:#000000;stroke-width:0.8;\" x=\"138.603125\" xlink:href=\"#mcbee3f0653\" y=\"146.899219\"/>\n      </g>\n     </g>\n     <g id=\"text_3\">\n      <!-- 6 -->\n      <defs>\n       <path d=\"M 33.015625 40.375 \nQ 26.375 40.375 22.484375 35.828125 \nQ 18.609375 31.296875 18.609375 23.390625 \nQ 18.609375 15.53125 22.484375 10.953125 \nQ 26.375 6.390625 33.015625 6.390625 \nQ 39.65625 6.390625 43.53125 10.953125 \nQ 47.40625 15.53125 47.40625 23.390625 \nQ 47.40625 31.296875 43.53125 35.828125 \nQ 39.65625 40.375 33.015625 40.375 \nz\nM 52.59375 71.296875 \nL 52.59375 62.3125 \nQ 48.875 64.0625 45.09375 64.984375 \nQ 41.3125 65.921875 37.59375 65.921875 \nQ 27.828125 65.921875 22.671875 59.328125 \nQ 17.53125 52.734375 16.796875 39.40625 \nQ 19.671875 43.65625 24.015625 45.921875 \nQ 28.375 48.1875 33.59375 48.1875 \nQ 44.578125 48.1875 50.953125 41.515625 \nQ 57.328125 34.859375 57.328125 23.390625 \nQ 57.328125 12.15625 50.6875 5.359375 \nQ 44.046875 -1.421875 33.015625 -1.421875 \nQ 20.359375 -1.421875 13.671875 8.265625 \nQ 6.984375 17.96875 6.984375 36.375 \nQ 6.984375 53.65625 15.1875 63.9375 \nQ 23.390625 74.21875 37.203125 74.21875 \nQ 40.921875 74.21875 44.703125 73.484375 \nQ 48.484375 72.75 52.59375 71.296875 \nz\n\" id=\"DejaVuSans-54\"/>\n      </defs>\n      <g transform=\"translate(135.421875 161.497656)scale(0.1 -0.1)\">\n       <use xlink:href=\"#DejaVuSans-54\"/>\n      </g>\n     </g>\n    </g>\n    <g id=\"xtick_4\">\n     <g id=\"line2d_7\">\n      <path clip-path=\"url(#p8e96896c8f)\" d=\"M 182.003125 146.899219 \nL 182.003125 10.999219 \n\" style=\"fill:none;stroke:#b0b0b0;stroke-linecap:square;stroke-width:0.8;\"/>\n     </g>\n     <g id=\"line2d_8\">\n      <g>\n       <use style=\"stroke:#000000;stroke-width:0.8;\" x=\"182.003125\" xlink:href=\"#mcbee3f0653\" y=\"146.899219\"/>\n      </g>\n     </g>\n     <g id=\"text_4\">\n      <!-- 8 -->\n      <defs>\n       <path d=\"M 31.78125 34.625 \nQ 24.75 34.625 20.71875 30.859375 \nQ 16.703125 27.09375 16.703125 20.515625 \nQ 16.703125 13.921875 20.71875 10.15625 \nQ 24.75 6.390625 31.78125 6.390625 \nQ 38.8125 6.390625 42.859375 10.171875 \nQ 46.921875 13.96875 46.921875 20.515625 \nQ 46.921875 27.09375 42.890625 30.859375 \nQ 38.875 34.625 31.78125 34.625 \nz\nM 21.921875 38.8125 \nQ 15.578125 40.375 12.03125 44.71875 \nQ 8.5 49.078125 8.5 55.328125 \nQ 8.5 64.0625 14.71875 69.140625 \nQ 20.953125 74.21875 31.78125 74.21875 \nQ 42.671875 74.21875 48.875 69.140625 \nQ 55.078125 64.0625 55.078125 55.328125 \nQ 55.078125 49.078125 51.53125 44.71875 \nQ 48 40.375 41.703125 38.8125 \nQ 48.828125 37.15625 52.796875 32.3125 \nQ 56.78125 27.484375 56.78125 20.515625 \nQ 56.78125 9.90625 50.3125 4.234375 \nQ 43.84375 -1.421875 31.78125 -1.421875 \nQ 19.734375 -1.421875 13.25 4.234375 \nQ 6.78125 9.90625 6.78125 20.515625 \nQ 6.78125 27.484375 10.78125 32.3125 \nQ 14.796875 37.15625 21.921875 38.8125 \nz\nM 18.3125 54.390625 \nQ 18.3125 48.734375 21.84375 45.5625 \nQ 25.390625 42.390625 31.78125 42.390625 \nQ 38.140625 42.390625 41.71875 45.5625 \nQ 45.3125 48.734375 45.3125 54.390625 \nQ 45.3125 60.0625 41.71875 63.234375 \nQ 38.140625 66.40625 31.78125 66.40625 \nQ 25.390625 66.40625 21.84375 63.234375 \nQ 18.3125 60.0625 18.3125 54.390625 \nz\n\" id=\"DejaVuSans-56\"/>\n      </defs>\n      <g transform=\"translate(178.821875 161.497656)scale(0.1 -0.1)\">\n       <use xlink:href=\"#DejaVuSans-56\"/>\n      </g>\n     </g>\n    </g>\n    <g id=\"xtick_5\">\n     <g id=\"line2d_9\">\n      <path clip-path=\"url(#p8e96896c8f)\" d=\"M 225.403125 146.899219 \nL 225.403125 10.999219 \n\" style=\"fill:none;stroke:#b0b0b0;stroke-linecap:square;stroke-width:0.8;\"/>\n     </g>\n     <g id=\"line2d_10\">\n      <g>\n       <use style=\"stroke:#000000;stroke-width:0.8;\" x=\"225.403125\" xlink:href=\"#mcbee3f0653\" y=\"146.899219\"/>\n      </g>\n     </g>\n     <g id=\"text_5\">\n      <!-- 10 -->\n      <defs>\n       <path d=\"M 12.40625 8.296875 \nL 28.515625 8.296875 \nL 28.515625 63.921875 \nL 10.984375 60.40625 \nL 10.984375 69.390625 \nL 28.421875 72.90625 \nL 38.28125 72.90625 \nL 38.28125 8.296875 \nL 54.390625 8.296875 \nL 54.390625 0 \nL 12.40625 0 \nz\n\" id=\"DejaVuSans-49\"/>\n       <path d=\"M 31.78125 66.40625 \nQ 24.171875 66.40625 20.328125 58.90625 \nQ 16.5 51.421875 16.5 36.375 \nQ 16.5 21.390625 20.328125 13.890625 \nQ 24.171875 6.390625 31.78125 6.390625 \nQ 39.453125 6.390625 43.28125 13.890625 \nQ 47.125 21.390625 47.125 36.375 \nQ 47.125 51.421875 43.28125 58.90625 \nQ 39.453125 66.40625 31.78125 66.40625 \nz\nM 31.78125 74.21875 \nQ 44.046875 74.21875 50.515625 64.515625 \nQ 56.984375 54.828125 56.984375 36.375 \nQ 56.984375 17.96875 50.515625 8.265625 \nQ 44.046875 -1.421875 31.78125 -1.421875 \nQ 19.53125 -1.421875 13.0625 8.265625 \nQ 6.59375 17.96875 6.59375 36.375 \nQ 6.59375 54.828125 13.0625 64.515625 \nQ 19.53125 74.21875 31.78125 74.21875 \nz\n\" id=\"DejaVuSans-48\"/>\n      </defs>\n      <g transform=\"translate(219.040625 161.497656)scale(0.1 -0.1)\">\n       <use xlink:href=\"#DejaVuSans-49\"/>\n       <use x=\"63.623047\" xlink:href=\"#DejaVuSans-48\"/>\n      </g>\n     </g>\n    </g>\n    <g id=\"text_6\">\n     <!-- epoch -->\n     <defs>\n      <path d=\"M 56.203125 29.59375 \nL 56.203125 25.203125 \nL 14.890625 25.203125 \nQ 15.484375 15.921875 20.484375 11.0625 \nQ 25.484375 6.203125 34.421875 6.203125 \nQ 39.59375 6.203125 44.453125 7.46875 \nQ 49.3125 8.734375 54.109375 11.28125 \nL 54.109375 2.78125 \nQ 49.265625 0.734375 44.1875 -0.34375 \nQ 39.109375 -1.421875 33.890625 -1.421875 \nQ 20.796875 -1.421875 13.15625 6.1875 \nQ 5.515625 13.8125 5.515625 26.8125 \nQ 5.515625 40.234375 12.765625 48.109375 \nQ 20.015625 56 32.328125 56 \nQ 43.359375 56 49.78125 48.890625 \nQ 56.203125 41.796875 56.203125 29.59375 \nz\nM 47.21875 32.234375 \nQ 47.125 39.59375 43.09375 43.984375 \nQ 39.0625 48.390625 32.421875 48.390625 \nQ 24.90625 48.390625 20.390625 44.140625 \nQ 15.875 39.890625 15.1875 32.171875 \nz\n\" id=\"DejaVuSans-101\"/>\n      <path d=\"M 18.109375 8.203125 \nL 18.109375 -20.796875 \nL 9.078125 -20.796875 \nL 9.078125 54.6875 \nL 18.109375 54.6875 \nL 18.109375 46.390625 \nQ 20.953125 51.265625 25.265625 53.625 \nQ 29.59375 56 35.59375 56 \nQ 45.5625 56 51.78125 48.09375 \nQ 58.015625 40.1875 58.015625 27.296875 \nQ 58.015625 14.40625 51.78125 6.484375 \nQ 45.5625 -1.421875 35.59375 -1.421875 \nQ 29.59375 -1.421875 25.265625 0.953125 \nQ 20.953125 3.328125 18.109375 8.203125 \nz\nM 48.6875 27.296875 \nQ 48.6875 37.203125 44.609375 42.84375 \nQ 40.53125 48.484375 33.40625 48.484375 \nQ 26.265625 48.484375 22.1875 42.84375 \nQ 18.109375 37.203125 18.109375 27.296875 \nQ 18.109375 17.390625 22.1875 11.75 \nQ 26.265625 6.109375 33.40625 6.109375 \nQ 40.53125 6.109375 44.609375 11.75 \nQ 48.6875 17.390625 48.6875 27.296875 \nz\n\" id=\"DejaVuSans-112\"/>\n      <path d=\"M 30.609375 48.390625 \nQ 23.390625 48.390625 19.1875 42.75 \nQ 14.984375 37.109375 14.984375 27.296875 \nQ 14.984375 17.484375 19.15625 11.84375 \nQ 23.34375 6.203125 30.609375 6.203125 \nQ 37.796875 6.203125 41.984375 11.859375 \nQ 46.1875 17.53125 46.1875 27.296875 \nQ 46.1875 37.015625 41.984375 42.703125 \nQ 37.796875 48.390625 30.609375 48.390625 \nz\nM 30.609375 56 \nQ 42.328125 56 49.015625 48.375 \nQ 55.71875 40.765625 55.71875 27.296875 \nQ 55.71875 13.875 49.015625 6.21875 \nQ 42.328125 -1.421875 30.609375 -1.421875 \nQ 18.84375 -1.421875 12.171875 6.21875 \nQ 5.515625 13.875 5.515625 27.296875 \nQ 5.515625 40.765625 12.171875 48.375 \nQ 18.84375 56 30.609375 56 \nz\n\" id=\"DejaVuSans-111\"/>\n      <path d=\"M 48.78125 52.59375 \nL 48.78125 44.1875 \nQ 44.96875 46.296875 41.140625 47.34375 \nQ 37.3125 48.390625 33.40625 48.390625 \nQ 24.65625 48.390625 19.8125 42.84375 \nQ 14.984375 37.3125 14.984375 27.296875 \nQ 14.984375 17.28125 19.8125 11.734375 \nQ 24.65625 6.203125 33.40625 6.203125 \nQ 37.3125 6.203125 41.140625 7.25 \nQ 44.96875 8.296875 48.78125 10.40625 \nL 48.78125 2.09375 \nQ 45.015625 0.34375 40.984375 -0.53125 \nQ 36.96875 -1.421875 32.421875 -1.421875 \nQ 20.0625 -1.421875 12.78125 6.34375 \nQ 5.515625 14.109375 5.515625 27.296875 \nQ 5.515625 40.671875 12.859375 48.328125 \nQ 20.21875 56 33.015625 56 \nQ 37.15625 56 41.109375 55.140625 \nQ 45.0625 54.296875 48.78125 52.59375 \nz\n\" id=\"DejaVuSans-99\"/>\n      <path d=\"M 54.890625 33.015625 \nL 54.890625 0 \nL 45.90625 0 \nL 45.90625 32.71875 \nQ 45.90625 40.484375 42.875 44.328125 \nQ 39.84375 48.1875 33.796875 48.1875 \nQ 26.515625 48.1875 22.3125 43.546875 \nQ 18.109375 38.921875 18.109375 30.90625 \nL 18.109375 0 \nL 9.078125 0 \nL 9.078125 75.984375 \nL 18.109375 75.984375 \nL 18.109375 46.1875 \nQ 21.34375 51.125 25.703125 53.5625 \nQ 30.078125 56 35.796875 56 \nQ 45.21875 56 50.046875 50.171875 \nQ 54.890625 44.34375 54.890625 33.015625 \nz\n\" id=\"DejaVuSans-104\"/>\n     </defs>\n     <g transform=\"translate(112.525 175.175781)scale(0.1 -0.1)\">\n      <use xlink:href=\"#DejaVuSans-101\"/>\n      <use x=\"61.523438\" xlink:href=\"#DejaVuSans-112\"/>\n      <use x=\"125\" xlink:href=\"#DejaVuSans-111\"/>\n      <use x=\"186.181641\" xlink:href=\"#DejaVuSans-99\"/>\n      <use x=\"241.162109\" xlink:href=\"#DejaVuSans-104\"/>\n     </g>\n    </g>\n   </g>\n   <g id=\"matplotlib.axis_2\">\n    <g id=\"ytick_1\">\n     <g id=\"line2d_11\">\n      <path clip-path=\"url(#p8e96896c8f)\" d=\"M 30.103125 146.899219 \nL 225.403125 146.899219 \n\" style=\"fill:none;stroke:#b0b0b0;stroke-linecap:square;stroke-width:0.8;\"/>\n     </g>\n     <g id=\"line2d_12\">\n      <defs>\n       <path d=\"M 0 0 \nL -3.5 0 \n\" id=\"mf5060e523b\" style=\"stroke:#000000;stroke-width:0.8;\"/>\n      </defs>\n      <g>\n       <use style=\"stroke:#000000;stroke-width:0.8;\" x=\"30.103125\" xlink:href=\"#mf5060e523b\" y=\"146.899219\"/>\n      </g>\n     </g>\n     <g id=\"text_7\">\n      <!-- 0.0 -->\n      <defs>\n       <path d=\"M 10.6875 12.40625 \nL 21 12.40625 \nL 21 0 \nL 10.6875 0 \nz\n\" id=\"DejaVuSans-46\"/>\n      </defs>\n      <g transform=\"translate(7.2 150.698437)scale(0.1 -0.1)\">\n       <use xlink:href=\"#DejaVuSans-48\"/>\n       <use x=\"63.623047\" xlink:href=\"#DejaVuSans-46\"/>\n       <use x=\"95.410156\" xlink:href=\"#DejaVuSans-48\"/>\n      </g>\n     </g>\n    </g>\n    <g id=\"ytick_2\">\n     <g id=\"line2d_13\">\n      <path clip-path=\"url(#p8e96896c8f)\" d=\"M 30.103125 119.719219 \nL 225.403125 119.719219 \n\" style=\"fill:none;stroke:#b0b0b0;stroke-linecap:square;stroke-width:0.8;\"/>\n     </g>\n     <g id=\"line2d_14\">\n      <g>\n       <use style=\"stroke:#000000;stroke-width:0.8;\" x=\"30.103125\" xlink:href=\"#mf5060e523b\" y=\"119.719219\"/>\n      </g>\n     </g>\n     <g id=\"text_8\">\n      <!-- 0.2 -->\n      <g transform=\"translate(7.2 123.518437)scale(0.1 -0.1)\">\n       <use xlink:href=\"#DejaVuSans-48\"/>\n       <use x=\"63.623047\" xlink:href=\"#DejaVuSans-46\"/>\n       <use x=\"95.410156\" xlink:href=\"#DejaVuSans-50\"/>\n      </g>\n     </g>\n    </g>\n    <g id=\"ytick_3\">\n     <g id=\"line2d_15\">\n      <path clip-path=\"url(#p8e96896c8f)\" d=\"M 30.103125 92.539219 \nL 225.403125 92.539219 \n\" style=\"fill:none;stroke:#b0b0b0;stroke-linecap:square;stroke-width:0.8;\"/>\n     </g>\n     <g id=\"line2d_16\">\n      <g>\n       <use style=\"stroke:#000000;stroke-width:0.8;\" x=\"30.103125\" xlink:href=\"#mf5060e523b\" y=\"92.539219\"/>\n      </g>\n     </g>\n     <g id=\"text_9\">\n      <!-- 0.4 -->\n      <g transform=\"translate(7.2 96.338437)scale(0.1 -0.1)\">\n       <use xlink:href=\"#DejaVuSans-48\"/>\n       <use x=\"63.623047\" xlink:href=\"#DejaVuSans-46\"/>\n       <use x=\"95.410156\" xlink:href=\"#DejaVuSans-52\"/>\n      </g>\n     </g>\n    </g>\n    <g id=\"ytick_4\">\n     <g id=\"line2d_17\">\n      <path clip-path=\"url(#p8e96896c8f)\" d=\"M 30.103125 65.359219 \nL 225.403125 65.359219 \n\" style=\"fill:none;stroke:#b0b0b0;stroke-linecap:square;stroke-width:0.8;\"/>\n     </g>\n     <g id=\"line2d_18\">\n      <g>\n       <use style=\"stroke:#000000;stroke-width:0.8;\" x=\"30.103125\" xlink:href=\"#mf5060e523b\" y=\"65.359219\"/>\n      </g>\n     </g>\n     <g id=\"text_10\">\n      <!-- 0.6 -->\n      <g transform=\"translate(7.2 69.158437)scale(0.1 -0.1)\">\n       <use xlink:href=\"#DejaVuSans-48\"/>\n       <use x=\"63.623047\" xlink:href=\"#DejaVuSans-46\"/>\n       <use x=\"95.410156\" xlink:href=\"#DejaVuSans-54\"/>\n      </g>\n     </g>\n    </g>\n    <g id=\"ytick_5\">\n     <g id=\"line2d_19\">\n      <path clip-path=\"url(#p8e96896c8f)\" d=\"M 30.103125 38.179219 \nL 225.403125 38.179219 \n\" style=\"fill:none;stroke:#b0b0b0;stroke-linecap:square;stroke-width:0.8;\"/>\n     </g>\n     <g id=\"line2d_20\">\n      <g>\n       <use style=\"stroke:#000000;stroke-width:0.8;\" x=\"30.103125\" xlink:href=\"#mf5060e523b\" y=\"38.179219\"/>\n      </g>\n     </g>\n     <g id=\"text_11\">\n      <!-- 0.8 -->\n      <g transform=\"translate(7.2 41.978437)scale(0.1 -0.1)\">\n       <use xlink:href=\"#DejaVuSans-48\"/>\n       <use x=\"63.623047\" xlink:href=\"#DejaVuSans-46\"/>\n       <use x=\"95.410156\" xlink:href=\"#DejaVuSans-56\"/>\n      </g>\n     </g>\n    </g>\n    <g id=\"ytick_6\">\n     <g id=\"line2d_21\">\n      <path clip-path=\"url(#p8e96896c8f)\" d=\"M 30.103125 10.999219 \nL 225.403125 10.999219 \n\" style=\"fill:none;stroke:#b0b0b0;stroke-linecap:square;stroke-width:0.8;\"/>\n     </g>\n     <g id=\"line2d_22\">\n      <g>\n       <use style=\"stroke:#000000;stroke-width:0.8;\" x=\"30.103125\" xlink:href=\"#mf5060e523b\" y=\"10.999219\"/>\n      </g>\n     </g>\n     <g id=\"text_12\">\n      <!-- 1.0 -->\n      <g transform=\"translate(7.2 14.798437)scale(0.1 -0.1)\">\n       <use xlink:href=\"#DejaVuSans-49\"/>\n       <use x=\"63.623047\" xlink:href=\"#DejaVuSans-46\"/>\n       <use x=\"95.410156\" xlink:href=\"#DejaVuSans-48\"/>\n      </g>\n     </g>\n    </g>\n   </g>\n   <g id=\"line2d_23\">\n    <path clip-path=\"url(#p8e96896c8f)\" d=\"M 30.103125 136.667087 \nL 51.803125 136.667087 \nL 73.503125 136.667087 \nL 95.203125 136.667087 \nL 116.903125 136.667087 \nL 138.603125 136.667087 \nL 160.303125 136.667087 \nL 182.003125 136.667087 \nL 203.703125 136.667087 \nL 225.403125 136.667087 \n\" style=\"fill:none;stroke:#1f77b4;stroke-linecap:square;stroke-width:1.5;\"/>\n   </g>\n   <g id=\"line2d_24\">\n    <path clip-path=\"url(#p8e96896c8f)\" d=\"M 30.103125 74.675977 \nL 51.803125 74.675977 \nL 73.503125 74.675977 \nL 95.203125 74.675977 \nL 116.903125 74.675977 \nL 138.603125 74.675977 \nL 160.303125 74.675977 \nL 182.003125 74.675977 \nL 203.703125 74.675977 \nL 225.403125 74.675977 \n\" style=\"fill:none;stroke:#bf00bf;stroke-dasharray:5.55,2.4;stroke-dashoffset:0;stroke-width:1.5;\"/>\n   </g>\n   <g id=\"patch_3\">\n    <path d=\"M 30.103125 146.899219 \nL 30.103125 10.999219 \n\" style=\"fill:none;stroke:#000000;stroke-linecap:square;stroke-linejoin:miter;stroke-width:0.8;\"/>\n   </g>\n   <g id=\"patch_4\">\n    <path d=\"M 225.403125 146.899219 \nL 225.403125 10.999219 \n\" style=\"fill:none;stroke:#000000;stroke-linecap:square;stroke-linejoin:miter;stroke-width:0.8;\"/>\n   </g>\n   <g id=\"patch_5\">\n    <path d=\"M 30.103125 146.899219 \nL 225.403125 146.899219 \n\" style=\"fill:none;stroke:#000000;stroke-linecap:square;stroke-linejoin:miter;stroke-width:0.8;\"/>\n   </g>\n   <g id=\"patch_6\">\n    <path d=\"M 30.103125 10.999219 \nL 225.403125 10.999219 \n\" style=\"fill:none;stroke:#000000;stroke-linecap:square;stroke-linejoin:miter;stroke-width:0.8;\"/>\n   </g>\n   <g id=\"legend_1\">\n    <g id=\"patch_7\">\n     <path d=\"M 127.495313 48.355469 \nL 218.403125 48.355469 \nQ 220.403125 48.355469 220.403125 46.355469 \nL 220.403125 17.999219 \nQ 220.403125 15.999219 218.403125 15.999219 \nL 127.495313 15.999219 \nQ 125.495313 15.999219 125.495313 17.999219 \nL 125.495313 46.355469 \nQ 125.495313 48.355469 127.495313 48.355469 \nz\n\" style=\"fill:#ffffff;opacity:0.8;stroke:#cccccc;stroke-linejoin:miter;\"/>\n    </g>\n    <g id=\"line2d_25\">\n     <path d=\"M 129.495313 24.097656 \nL 149.495313 24.097656 \n\" style=\"fill:none;stroke:#1f77b4;stroke-linecap:square;stroke-width:1.5;\"/>\n    </g>\n    <g id=\"line2d_26\"/>\n    <g id=\"text_13\">\n     <!-- test hit rate -->\n     <defs>\n      <path d=\"M 18.3125 70.21875 \nL 18.3125 54.6875 \nL 36.8125 54.6875 \nL 36.8125 47.703125 \nL 18.3125 47.703125 \nL 18.3125 18.015625 \nQ 18.3125 11.328125 20.140625 9.421875 \nQ 21.96875 7.515625 27.59375 7.515625 \nL 36.8125 7.515625 \nL 36.8125 0 \nL 27.59375 0 \nQ 17.1875 0 13.234375 3.875 \nQ 9.28125 7.765625 9.28125 18.015625 \nL 9.28125 47.703125 \nL 2.6875 47.703125 \nL 2.6875 54.6875 \nL 9.28125 54.6875 \nL 9.28125 70.21875 \nz\n\" id=\"DejaVuSans-116\"/>\n      <path d=\"M 44.28125 53.078125 \nL 44.28125 44.578125 \nQ 40.484375 46.53125 36.375 47.5 \nQ 32.28125 48.484375 27.875 48.484375 \nQ 21.1875 48.484375 17.84375 46.4375 \nQ 14.5 44.390625 14.5 40.28125 \nQ 14.5 37.15625 16.890625 35.375 \nQ 19.28125 33.59375 26.515625 31.984375 \nL 29.59375 31.296875 \nQ 39.15625 29.25 43.1875 25.515625 \nQ 47.21875 21.78125 47.21875 15.09375 \nQ 47.21875 7.46875 41.1875 3.015625 \nQ 35.15625 -1.421875 24.609375 -1.421875 \nQ 20.21875 -1.421875 15.453125 -0.5625 \nQ 10.6875 0.296875 5.421875 2 \nL 5.421875 11.28125 \nQ 10.40625 8.6875 15.234375 7.390625 \nQ 20.0625 6.109375 24.8125 6.109375 \nQ 31.15625 6.109375 34.5625 8.28125 \nQ 37.984375 10.453125 37.984375 14.40625 \nQ 37.984375 18.0625 35.515625 20.015625 \nQ 33.0625 21.96875 24.703125 23.78125 \nL 21.578125 24.515625 \nQ 13.234375 26.265625 9.515625 29.90625 \nQ 5.8125 33.546875 5.8125 39.890625 \nQ 5.8125 47.609375 11.28125 51.796875 \nQ 16.75 56 26.8125 56 \nQ 31.78125 56 36.171875 55.265625 \nQ 40.578125 54.546875 44.28125 53.078125 \nz\n\" id=\"DejaVuSans-115\"/>\n      <path id=\"DejaVuSans-32\"/>\n      <path d=\"M 9.421875 54.6875 \nL 18.40625 54.6875 \nL 18.40625 0 \nL 9.421875 0 \nz\nM 9.421875 75.984375 \nL 18.40625 75.984375 \nL 18.40625 64.59375 \nL 9.421875 64.59375 \nz\n\" id=\"DejaVuSans-105\"/>\n      <path d=\"M 41.109375 46.296875 \nQ 39.59375 47.171875 37.8125 47.578125 \nQ 36.03125 48 33.890625 48 \nQ 26.265625 48 22.1875 43.046875 \nQ 18.109375 38.09375 18.109375 28.8125 \nL 18.109375 0 \nL 9.078125 0 \nL 9.078125 54.6875 \nL 18.109375 54.6875 \nL 18.109375 46.1875 \nQ 20.953125 51.171875 25.484375 53.578125 \nQ 30.03125 56 36.53125 56 \nQ 37.453125 56 38.578125 55.875 \nQ 39.703125 55.765625 41.0625 55.515625 \nz\n\" id=\"DejaVuSans-114\"/>\n      <path d=\"M 34.28125 27.484375 \nQ 23.390625 27.484375 19.1875 25 \nQ 14.984375 22.515625 14.984375 16.5 \nQ 14.984375 11.71875 18.140625 8.90625 \nQ 21.296875 6.109375 26.703125 6.109375 \nQ 34.1875 6.109375 38.703125 11.40625 \nQ 43.21875 16.703125 43.21875 25.484375 \nL 43.21875 27.484375 \nz\nM 52.203125 31.203125 \nL 52.203125 0 \nL 43.21875 0 \nL 43.21875 8.296875 \nQ 40.140625 3.328125 35.546875 0.953125 \nQ 30.953125 -1.421875 24.3125 -1.421875 \nQ 15.921875 -1.421875 10.953125 3.296875 \nQ 6 8.015625 6 15.921875 \nQ 6 25.140625 12.171875 29.828125 \nQ 18.359375 34.515625 30.609375 34.515625 \nL 43.21875 34.515625 \nL 43.21875 35.40625 \nQ 43.21875 41.609375 39.140625 45 \nQ 35.0625 48.390625 27.6875 48.390625 \nQ 23 48.390625 18.546875 47.265625 \nQ 14.109375 46.140625 10.015625 43.890625 \nL 10.015625 52.203125 \nQ 14.9375 54.109375 19.578125 55.046875 \nQ 24.21875 56 28.609375 56 \nQ 40.484375 56 46.34375 49.84375 \nQ 52.203125 43.703125 52.203125 31.203125 \nz\n\" id=\"DejaVuSans-97\"/>\n     </defs>\n     <g transform=\"translate(157.495313 27.597656)scale(0.1 -0.1)\">\n      <use xlink:href=\"#DejaVuSans-116\"/>\n      <use x=\"39.208984\" xlink:href=\"#DejaVuSans-101\"/>\n      <use x=\"100.732422\" xlink:href=\"#DejaVuSans-115\"/>\n      <use x=\"152.832031\" xlink:href=\"#DejaVuSans-116\"/>\n      <use x=\"192.041016\" xlink:href=\"#DejaVuSans-32\"/>\n      <use x=\"223.828125\" xlink:href=\"#DejaVuSans-104\"/>\n      <use x=\"287.207031\" xlink:href=\"#DejaVuSans-105\"/>\n      <use x=\"314.990234\" xlink:href=\"#DejaVuSans-116\"/>\n      <use x=\"354.199219\" xlink:href=\"#DejaVuSans-32\"/>\n      <use x=\"385.986328\" xlink:href=\"#DejaVuSans-114\"/>\n      <use x=\"427.099609\" xlink:href=\"#DejaVuSans-97\"/>\n      <use x=\"488.378906\" xlink:href=\"#DejaVuSans-116\"/>\n      <use x=\"527.587891\" xlink:href=\"#DejaVuSans-101\"/>\n     </g>\n    </g>\n    <g id=\"line2d_27\">\n     <path d=\"M 129.495313 38.775781 \nL 149.495313 38.775781 \n\" style=\"fill:none;stroke:#bf00bf;stroke-dasharray:5.55,2.4;stroke-dashoffset:0;stroke-width:1.5;\"/>\n    </g>\n    <g id=\"line2d_28\"/>\n    <g id=\"text_14\">\n     <!-- test AUC -->\n     <defs>\n      <path d=\"M 34.1875 63.1875 \nL 20.796875 26.90625 \nL 47.609375 26.90625 \nz\nM 28.609375 72.90625 \nL 39.796875 72.90625 \nL 67.578125 0 \nL 57.328125 0 \nL 50.6875 18.703125 \nL 17.828125 18.703125 \nL 11.1875 0 \nL 0.78125 0 \nz\n\" id=\"DejaVuSans-65\"/>\n      <path d=\"M 8.6875 72.90625 \nL 18.609375 72.90625 \nL 18.609375 28.609375 \nQ 18.609375 16.890625 22.84375 11.734375 \nQ 27.09375 6.59375 36.625 6.59375 \nQ 46.09375 6.59375 50.34375 11.734375 \nQ 54.59375 16.890625 54.59375 28.609375 \nL 54.59375 72.90625 \nL 64.5 72.90625 \nL 64.5 27.390625 \nQ 64.5 13.140625 57.4375 5.859375 \nQ 50.390625 -1.421875 36.625 -1.421875 \nQ 22.796875 -1.421875 15.734375 5.859375 \nQ 8.6875 13.140625 8.6875 27.390625 \nz\n\" id=\"DejaVuSans-85\"/>\n      <path d=\"M 64.40625 67.28125 \nL 64.40625 56.890625 \nQ 59.421875 61.53125 53.78125 63.8125 \nQ 48.140625 66.109375 41.796875 66.109375 \nQ 29.296875 66.109375 22.65625 58.46875 \nQ 16.015625 50.828125 16.015625 36.375 \nQ 16.015625 21.96875 22.65625 14.328125 \nQ 29.296875 6.6875 41.796875 6.6875 \nQ 48.140625 6.6875 53.78125 8.984375 \nQ 59.421875 11.28125 64.40625 15.921875 \nL 64.40625 5.609375 \nQ 59.234375 2.09375 53.4375 0.328125 \nQ 47.65625 -1.421875 41.21875 -1.421875 \nQ 24.65625 -1.421875 15.125 8.703125 \nQ 5.609375 18.84375 5.609375 36.375 \nQ 5.609375 53.953125 15.125 64.078125 \nQ 24.65625 74.21875 41.21875 74.21875 \nQ 47.75 74.21875 53.53125 72.484375 \nQ 59.328125 70.75 64.40625 67.28125 \nz\n\" id=\"DejaVuSans-67\"/>\n     </defs>\n     <g transform=\"translate(157.495313 42.275781)scale(0.1 -0.1)\">\n      <use xlink:href=\"#DejaVuSans-116\"/>\n      <use x=\"39.208984\" xlink:href=\"#DejaVuSans-101\"/>\n      <use x=\"100.732422\" xlink:href=\"#DejaVuSans-115\"/>\n      <use x=\"152.832031\" xlink:href=\"#DejaVuSans-116\"/>\n      <use x=\"192.041016\" xlink:href=\"#DejaVuSans-32\"/>\n      <use x=\"223.828125\" xlink:href=\"#DejaVuSans-65\"/>\n      <use x=\"292.236328\" xlink:href=\"#DejaVuSans-85\"/>\n      <use x=\"365.429688\" xlink:href=\"#DejaVuSans-67\"/>\n     </g>\n    </g>\n   </g>\n  </g>\n </g>\n <defs>\n  <clipPath id=\"p8e96896c8f\">\n   <rect height=\"135.9\" width=\"195.3\" x=\"30.103125\" y=\"10.999219\"/>\n  </clipPath>\n </defs>\n</svg>\n"
          },
          "metadata": {
            "needs_background": "light"
          }
        }
      ]
    }
  ]
}